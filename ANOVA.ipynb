{
  "nbformat": 4,
  "nbformat_minor": 0,
  "metadata": {
    "colab": {
      "name": "Untitled13.ipynb",
      "provenance": [],
      "authorship_tag": "ABX9TyOAmBPfatbSbeO6pzCD894E",
      "include_colab_link": true
    },
    "kernelspec": {
      "name": "python3",
      "display_name": "Python 3"
    }
  },
  "cells": [
    {
      "cell_type": "markdown",
      "metadata": {
        "id": "view-in-github",
        "colab_type": "text"
      },
      "source": [
        "<a href=\"https://colab.research.google.com/github/pragneshrana/Algo_Trial/blob/master/ANOVA.ipynb\" target=\"_parent\"><img src=\"https://colab.research.google.com/assets/colab-badge.svg\" alt=\"Open In Colab\"/></a>"
      ]
    },
    {
      "cell_type": "code",
      "metadata": {
        "id": "LPFzzIzLNlhf",
        "colab_type": "code",
        "colab": {
          "base_uri": "https://localhost:8080/",
          "height": 321
        },
        "outputId": "0bbc18ed-2dc2-4434-fafa-4aa90bea3684"
      },
      "source": [
        "%matplotlib inline\n",
        "import pandas as pd\n",
        "import numpy as np\n",
        "import statsmodels.api as sm\n",
        "import statsmodels.formula.api as ols\n",
        "from sklearn import datasets ## imports datasets from scikit-learn\n",
        "from statsmodels.stats.anova import anova_lm #ANOVA\n",
        "import statsmodels.api as sm\n",
        "from statsmodels.formula.api import ols\n",
        "\n",
        "data = datasets.load_boston() ## loads Boston dataset from datasets library \n",
        " \n",
        "###Scikit type to pandas\n",
        "df = pd.DataFrame(data.data, columns=data.feature_names)\n",
        "# Put the target (housing value -- MEDV) in another DataFrame\n",
        "target = pd.DataFrame(data.target, columns=[\"MEDV\"])\n",
        "\n",
        "\n",
        "##Adding constant \n",
        "ones = np.ones(len(df))\n",
        "\n",
        "column_name =list(df.columns)\n",
        "# column_name.remove('CRIM', 'ZN', 'INDUS', 'CHAS', 'NOX', 'RM')\n",
        "X = df[column_name]\n",
        "X['const'] = ones\n",
        "y = target[\"MEDV\"]\n",
        "\n",
        "# Peform analysis of variance on fitted linear model\n",
        "listtt = ['CRIM', 'ZN', 'INDUS', 'CHAS', 'NOX', 'RM']\n",
        "dependent  = ''\n",
        "for i in range(df.shape[1]):\n",
        "  # if(df.columns[i] in listtt ):\n",
        "  #   continue\n",
        "  dependent += '+' + str(df.columns[i])\n",
        "\n",
        "dependent = dependent[1:] #removing first char\n",
        "\n",
        "# For statistics. Requires statsmodels 5.0 or more\n",
        "from statsmodels.formula.api import ols\n",
        "from statsmodels.stats.anova import AnovaRM \n",
        "final_data = X\n",
        "final_data[\"MEDV\"] = y\n",
        "# # Fit the model\n",
        "model = ols(\"MEDV ~ \"+str(dependent)+\"\",final_data).fit()\n",
        "anova_results= anova_lm(model)\n",
        "\n",
        "print('\\nANOVA results')\n",
        "print(anova_results)"
      ],
      "execution_count": 4,
      "outputs": [
        {
          "output_type": "stream",
          "text": [
            "\n",
            "ANOVA results\n",
            "             df        sum_sq       mean_sq           F        PR(>F)\n",
            "CRIM        1.0   6440.783059   6440.783059  286.030046  6.454140e-51\n",
            "ZN          1.0   3554.336197   3554.336197  157.845240  1.356741e-31\n",
            "INDUS       1.0   2551.236435   2551.236435  113.298378  5.953713e-24\n",
            "CHAS        1.0   1529.847881   1529.847881   67.939326  1.542886e-15\n",
            "NOX         1.0     76.247648     76.247648    3.386097  6.635054e-02\n",
            "RM          1.0  10938.116611  10938.116611  485.753048  2.156727e-75\n",
            "AGE         1.0     90.267911     90.267911    4.008726  4.581372e-02\n",
            "DIS         1.0   1779.501111   1779.501111   79.026227  1.163840e-17\n",
            "RAD         1.0     34.134323     34.134323    1.515878  2.188325e-01\n",
            "TAX         1.0    329.554069    329.554069   14.635234  1.472406e-04\n",
            "PTRATIO     1.0   1309.309339   1309.309339   58.145385  1.266278e-13\n",
            "B           1.0    593.337564    593.337564   26.349649  4.109280e-07\n",
            "LSTAT       1.0   2410.838689   2410.838689  107.063426  7.776912e-23\n",
            "Residual  492.0  11078.784578     22.517855         NaN           NaN\n"
          ],
          "name": "stdout"
        }
      ]
    },
    {
      "cell_type": "code",
      "metadata": {
        "id": "d-ZlxlCFOOY8",
        "colab_type": "code",
        "colab": {}
      },
      "source": [
        ""
      ],
      "execution_count": 0,
      "outputs": []
    }
  ]
}