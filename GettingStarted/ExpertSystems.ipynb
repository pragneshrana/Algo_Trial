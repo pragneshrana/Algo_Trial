{
  "nbformat": 4,
  "nbformat_minor": 0,
  "metadata": {
    "colab": {
      "name": "ExpertSystems.ipynb",
      "provenance": [],
      "authorship_tag": "ABX9TyNoqfDFvmYIvhKkStYqqQQX",
      "include_colab_link": true
    },
    "kernelspec": {
      "name": "python3",
      "display_name": "Python 3"
    }
  },
  "cells": [
    {
      "cell_type": "markdown",
      "metadata": {
        "id": "view-in-github",
        "colab_type": "text"
      },
      "source": [
        "<a href=\"https://colab.research.google.com/github/pragneshrana/Algo_Trial/blob/master/GettingStarted/ExpertSystems.ipynb\" target=\"_parent\"><img src=\"https://colab.research.google.com/assets/colab-badge.svg\" alt=\"Open In Colab\"/></a>"
      ]
    },
    {
      "cell_type": "markdown",
      "metadata": {
        "id": "pbpfV6QlzFAj",
        "colab_type": "text"
      },
      "source": [
        "How rule-based system can be used for binary classification?"
      ]
    },
    {
      "cell_type": "markdown",
      "metadata": {
        "id": "DqDB2pYYzes6",
        "colab_type": "text"
      },
      "source": [
        "# Why we need it?\n",
        "Given image task is to find out does it contains text or not..yes or no \\\\\n",
        "so, binary classification problem\n",
        "\n"
      ]
    },
    {
      "cell_type": "markdown",
      "metadata": {
        "id": "16GB1WF50KS2",
        "colab_type": "text"
      },
      "source": [
        "# How human makes decision?\n",
        "- Based on several symptoms or combination of features (past experience)\n",
        " 1. features\n",
        " 2. rules\n"
      ]
    },
    {
      "cell_type": "markdown",
      "metadata": {
        "id": "tr2z0Ed80ns9",
        "colab_type": "text"
      },
      "source": [
        "# How machine can make decision?\n",
        "- Converting the symptoms in to number machine unerstand the input and evetually make decision by processing the input"
      ]
    },
    {
      "cell_type": "markdown",
      "metadata": {
        "id": "nQJg9AjA3l2q",
        "colab_type": "text"
      },
      "source": [
        "# 1.2"
      ]
    },
    {
      "cell_type": "markdown",
      "metadata": {
        "id": "CN4GhwPx1OUh",
        "colab_type": "text"
      },
      "source": [
        "# limitation of Expert Systems\n",
        "- It is difficult to process lot of data \n",
        "- Rules might complex to processs\n",
        "- Some rule might be hard to express\n",
        "- Rules are unknown\n"
      ]
    },
    {
      "cell_type": "markdown",
      "metadata": {
        "id": "j5GU2M0W3oSJ",
        "colab_type": "text"
      },
      "source": [
        "# Why we need machine learning?\n",
        "To learn complex fucntion and find out its parameters (y=**f(x)**)"
      ]
    },
    {
      "cell_type": "markdown",
      "metadata": {
        "id": "wrJShlrK45tS",
        "colab_type": "text"
      },
      "source": [
        "#  Data\n",
        "- text\n",
        "- video\n",
        "- audio, etc \\\\\n",
        "multi-model data"
      ]
    },
    {
      "cell_type": "markdown",
      "metadata": {
        "id": "MTzVPDec5Yui",
        "colab_type": "text"
      },
      "source": [
        "# why you need it?\n",
        "- to process review of product\n",
        "- catogrize problems\n",
        "- complete the data \n"
      ]
    },
    {
      "cell_type": "markdown",
      "metadata": {
        "id": "A2O4-Wna54Yt",
        "colab_type": "text"
      },
      "source": [
        "#Elements of ML\n",
        "- Data\n",
        "- Task\n",
        "   1. Clustering\n",
        "   2. Generation\n",
        "   3. Person Identification\n",
        "- Models\n",
        "- Loss Function\n",
        "- Learning Algorithms\n",
        "- Evaluation"
      ]
    },
    {
      "cell_type": "markdown",
      "metadata": {
        "id": "l6uamdbw1bN1",
        "colab_type": "text"
      },
      "source": [
        "# 1.4 Data\n"
      ]
    },
    {
      "cell_type": "code",
      "metadata": {
        "id": "qynk67eizwCc",
        "colab_type": "code",
        "colab": {}
      },
      "source": [
        ""
      ],
      "execution_count": null,
      "outputs": []
    }
  ]
}