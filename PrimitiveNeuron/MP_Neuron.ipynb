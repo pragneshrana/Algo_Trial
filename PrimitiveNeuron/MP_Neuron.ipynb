{
  "nbformat": 4,
  "nbformat_minor": 0,
  "metadata": {
    "colab": {
      "name": "MP_Neuron.ipynb",
      "provenance": [],
      "authorship_tag": "ABX9TyO5As/34SWJcuAGGJAvd4RG",
      "include_colab_link": true
    },
    "kernelspec": {
      "name": "python3",
      "display_name": "Python 3"
    }
  },
  "cells": [
    {
      "cell_type": "markdown",
      "metadata": {
        "id": "view-in-github",
        "colab_type": "text"
      },
      "source": [
        "<a href=\"https://colab.research.google.com/github/pragneshrana/Algo_Trial/blob/master/PrimitiveNeuron/MP_Neuron.ipynb\" target=\"_parent\"><img src=\"https://colab.research.google.com/assets/colab-badge.svg\" alt=\"Open In Colab\"/></a>"
      ]
    },
    {
      "cell_type": "markdown",
      "metadata": {
        "id": "EIU8KfzRkWnH",
        "colab_type": "text"
      },
      "source": [
        "# MP Neuron Intro:\n",
        "\n",
        "McCullah Pitts(MP) Neuron - Model by Walter Pitts and Warren McCulloch \\\\\n",
        "- Artificial Neuron is fundamental block of DL"
      ]
    },
    {
      "cell_type": "markdown",
      "metadata": {
        "id": "Nh9BcTqPMKY6",
        "colab_type": "text"
      },
      "source": [
        "#What is mathematical Model?\n",
        "Model is/are approximation of relation between y and x. \\\\\n",
        "\n",
        "Inputs = ${x_1,x_2,x_3}$\n",
        "Output = y\n",
        "\n",
        "- g aggregates the input and function f takes the decision based on the aggreggation.\n",
        "- $g(x_1,x_2,x_3) = \\sum_i x_i$\n",
        "- $y = f(g(x_1,x_2,x_3)) = \\begin{cases}\n",
        "      1 & \\text{if g(x) < b}\\\\\n",
        "      0 & \\text{if g(x) > b}\n",
        "    \\end{cases} $\n",
        "\n",
        "- X = {1,0,1,1,0,0,1,0} & y = 0 or 1\n",
        "\n",
        "Data: \\\\\n",
        "1 2 3 4 5 6 | $y_{act}$ $y_{pred}$ \\\\\n",
        "0 1 0 1 1 1 | 1    1 \\\\\n",
        "0 0 0 1 0 0 | 0    0 \\\\\n",
        "1 1 1 0 1 1 | 1    0 \\\\\n",
        "0 0 0 1 0 0 | 1    1 \\\\\n",
        "\n",
        "Loss function: \\\\\n",
        "- $\\sum_i y_{act_i}- y_{pred_i}$\n",
        "- $\\sum_i | y_{act_i}- y_{pred_i}| $ - L1 norm\n",
        "- $\\sum_i (y_{act_i}- y_{pred_i})^2$ - L2 norm becuase it is diffrentiable.\n",
        "\n",
        "Learning Algorithm:\n",
        "\n",
        "Algorithm which uses the avialble information and process the such that loss is minimized.\n",
        "\n",
        "- to find out one parameter, simplest way is brute force. But scred up when more than one parameter.\n",
        "\n",
        "Evaluation:\n",
        "- Evaluation is for testing data by means testing accuracy of prediction.\n",
        "\n",
        "Accuracy  = $\\frac{\\text{Number true prediction}}{\\text{Total number of prediction}}$\n",
        "\n",
        "\n",
        "\n",
        "\n",
        "\n"
      ]
    },
    {
      "cell_type": "markdown",
      "metadata": {
        "id": "6gigsK6WsbDq",
        "colab_type": "text"
      },
      "source": [
        "# Geometric Interpretation.\n",
        " - Neuron can be thought of hyper-plane fitted in given dimension.\n",
        "\n",
        "- The general formula for 2D plane is $ax_1 + bx_2 + c =0$. The point which satisfies the equation lies on the plane. In y=mx+c, c is y-intercept and m is slope.\n",
        "\n",
        "For point $(x_1,x_2)$,\n",
        "  - if $ax_1 + bx_2 + c > 0$, means  points lies on side of the plane\n",
        "  - if $ax_1 + bx_2 + c < 0$, means  points lies on another side of the plane\n",
        "\n",
        "- 3D general equation of plane is $ax_1 + bx_2 + cx_3 + d = 0$.\n",
        "\n",
        "- same way, general equation of hyperplane is $y = \\sum_i a_i x_i + b$.\n"
      ]
    },
    {
      "cell_type": "code",
      "metadata": {
        "id": "qJ80UIINkQSk",
        "colab_type": "code",
        "colab": {}
      },
      "source": [
        ""
      ],
      "execution_count": null,
      "outputs": []
    }
  ]
}