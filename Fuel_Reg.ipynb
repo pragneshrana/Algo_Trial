{
  "nbformat": 4,
  "nbformat_minor": 0,
  "metadata": {
    "colab": {
      "name": "Fuel_Reg.ipynb",
      "provenance": [],
      "collapsed_sections": [],
      "include_colab_link": true
    },
    "kernelspec": {
      "display_name": "Python 3",
      "language": "python",
      "name": "python3"
    },
    "language_info": {
      "codemirror_mode": {
        "name": "ipython",
        "version": 3
      },
      "file_extension": ".py",
      "mimetype": "text/x-python",
      "name": "python",
      "nbconvert_exporter": "python",
      "pygments_lexer": "ipython3",
      "version": "3.7.4"
    }
  },
  "cells": [
    {
      "cell_type": "markdown",
      "metadata": {
        "id": "view-in-github",
        "colab_type": "text"
      },
      "source": [
        "<a href=\"https://colab.research.google.com/github/pragneshrana/Algo_Trial/blob/master/Fuel_Reg.ipynb\" target=\"_parent\"><img src=\"https://colab.research.google.com/assets/colab-badge.svg\" alt=\"Open In Colab\"/></a>"
      ]
    },
    {
      "cell_type": "markdown",
      "metadata": {
        "colab_type": "text",
        "id": "rhMVxmoajwAc"
      },
      "source": [
        "#Calling libraries  and dataset "
      ]
    },
    {
      "cell_type": "code",
      "metadata": {
        "colab_type": "code",
        "id": "_8Rl89s0R29e",
        "outputId": "0055b3cc-f2d0-4bf2-a0e8-f79d4866d8ca",
        "colab": {
          "base_uri": "https://localhost:8080/",
          "height": 373
        }
      },
      "source": [
        "#loaded data\n",
        "import pandas as pd\n",
        "url = 'https://raw.githubusercontent.com/sivaramambikasaran/Data_driven_Kinetics/master/data/Alkane_Dataset_full_stanford_AR.csv?token=AINCVGUITKDVFRUDJQI7RZS6HP64A'\n",
        "df = pd.read_csv(url)# Dataset is now stored in a Pandas Dataframe\n",
        "print(df.columns)\n",
        "# df = df.loc[:10,:]\n",
        "print(df)"
      ],
      "execution_count": 1,
      "outputs": [
        {
          "output_type": "stream",
          "text": [
            "Index(['Fuel', 'T(K)', 'T_Error(%)', 'P(atm)', 'P_Error(%)', 'Fuel(%)',\n",
            "       'Oxidizer(%)', 'Diluant(%)', 'Equv(phi)', 'Diluant Type', 'Time(μs)',\n",
            "       'Mode_of_measurement', 'Species_name', 'Species_measurement_Error',\n",
            "       'Measured_wavelength(nm)', 'Shocktube_dia(cm)', 'Research_group',\n",
            "       'Data_Source'],\n",
            "      dtype='object')\n",
            "         Fuel  ...                                        Data_Source\n",
            "0    CCCCCCCC  ...  Lam_2013_thesis / Normal_Alkanes_and_Simple_Ox...\n",
            "1    CCCCCCCC  ...  Lam_2013_thesis / Normal_Alkanes_and_Simple_Ox...\n",
            "2    CCCCCCCC  ...  Lam_2013_thesis / Normal_Alkanes_and_Simple_Ox...\n",
            "3    CCCCCCCC  ...  Lam_2013_thesis / Normal_Alkanes_and_Simple_Ox...\n",
            "4    CCCCCCCC  ...  Lam_2013_thesis / Normal_Alkanes_and_Simple_Ox...\n",
            "..        ...  ...                                                ...\n",
            "444   CCCCCCC  ...                                n_heptane_oxidation\n",
            "445   CCCCCCC  ...                                n_heptane_oxidation\n",
            "446   CCCCCCC  ...                                n_heptane_oxidation\n",
            "447   CCCCCCC  ...                                n_heptane_oxidation\n",
            "448   CCCCCCC  ...                                n_heptane_oxidation\n",
            "\n",
            "[449 rows x 18 columns]\n"
          ],
          "name": "stdout"
        }
      ]
    },
    {
      "cell_type": "code",
      "metadata": {
        "colab_type": "code",
        "id": "rGefEnGqVjjq",
        "outputId": "89af4a7c-7eb4-45ca-e454-47adfaef3788",
        "colab": {
          "base_uri": "https://localhost:8080/",
          "height": 230
        }
      },
      "source": [
        "print(df['Fuel'] )"
      ],
      "execution_count": 2,
      "outputs": [
        {
          "output_type": "stream",
          "text": [
            "0      CCCCCCCC\n",
            "1      CCCCCCCC\n",
            "2      CCCCCCCC\n",
            "3      CCCCCCCC\n",
            "4      CCCCCCCC\n",
            "         ...   \n",
            "444     CCCCCCC\n",
            "445     CCCCCCC\n",
            "446     CCCCCCC\n",
            "447     CCCCCCC\n",
            "448     CCCCCCC\n",
            "Name: Fuel, Length: 449, dtype: object\n"
          ],
          "name": "stdout"
        }
      ]
    },
    {
      "cell_type": "markdown",
      "metadata": {
        "colab_type": "text",
        "id": "saSYAaq7j88J"
      },
      "source": [
        "#Fucntion for finding the S_H bonds"
      ]
    },
    {
      "cell_type": "code",
      "metadata": {
        "colab_type": "code",
        "id": "Hb0wzPRNW_h0",
        "colab": {}
      },
      "source": [
        "def find_chain_length(fuel_data):\n",
        "  '''\n",
        "  This method will return the number of double bonds in the alkanes\n",
        "  Input: list of fuel\n",
        "  output : fuel S_H bond array \n",
        "  '''\n",
        "  S_H = np.zeros(len(fuel_data))\n",
        "  #number bonds in the alkanes are (2n-2) for C>3 (S_H)\n",
        "  for i in range(len(fuel_data)):\n",
        "    S_H_count = 2*(len(fuel_data[i])-2) #count by fuel length\n",
        "    S_H[i] = S_H_count\n",
        "  return S_H\n",
        "\n",
        "# #check fucntion\n",
        "# print(find_chain_length(['CCC','CCCC']))\n"
      ],
      "execution_count": 0,
      "outputs": []
    },
    {
      "cell_type": "markdown",
      "metadata": {
        "colab_type": "text",
        "id": "OU_hPPoKkE3c"
      },
      "source": [
        "#Required columns from data"
      ]
    },
    {
      "cell_type": "code",
      "metadata": {
        "colab_type": "code",
        "id": "KyFtUhAUSn7u",
        "outputId": "645aa28d-4a8a-4d0c-d604-9a0886a3ef75",
        "colab": {
          "base_uri": "https://localhost:8080/",
          "height": 266
        }
      },
      "source": [
        "#calling library\n",
        "import pandas as pd\n",
        "import numpy as np\n",
        "\n",
        "data = pd.DataFrame([]) #Empty DataFrame\n",
        "\n",
        "#required data\n",
        "data['S_H'] = find_chain_length(list(df['Fuel']))\n",
        "data['T(K)'] = df['T(K)']\n",
        "data['P(atm)'] = df['P(atm)']\n",
        "data['Fuel(%)'] = df['Fuel(%)']\n",
        "data['Oxidizer(%)'] = df['Oxidizer(%)']\n",
        "data['Diluant(%)'] = df['Diluant(%)']\n",
        "data['Equv(phi)'] = df['Equv(phi)']\n",
        "data['Time(μs)'] = df['Time(μs)']\n",
        "print(data)"
      ],
      "execution_count": 4,
      "outputs": [
        {
          "output_type": "stream",
          "text": [
            "      S_H  T(K)  P(atm)  Fuel(%)  Oxidizer(%)  Diluant(%)  Equv(phi)  Time(μs)\n",
            "0    12.0  1325   1.950     0.32         4.00       95.68        1.0       859\n",
            "1    12.0  1265   2.050     0.32         4.00       95.68        1.0      1569\n",
            "2    12.0  1289   2.010     0.32         4.00       95.68        1.0      1198\n",
            "3    12.0  1385   1.960     0.32         4.00       95.68        1.0       390\n",
            "4    12.0  1455   1.870     0.32         4.00       95.68        1.0       166\n",
            "..    ...   ...     ...      ...          ...         ...        ...       ...\n",
            "444  10.0  1378   2.326     0.03         0.33       99.64        1.0      1330\n",
            "445  10.0  1494   2.155     0.03         0.33       99.64        1.0      1330\n",
            "446  10.0  1494   2.155     0.03         0.33       99.64        1.0       308\n",
            "447  10.0  1502   2.262     0.03         0.33       99.64        1.0       280\n",
            "448  10.0  1506   2.360     0.03         0.33       99.64        1.0       189\n",
            "\n",
            "[449 rows x 8 columns]\n"
          ],
          "name": "stdout"
        }
      ]
    },
    {
      "cell_type": "markdown",
      "metadata": {
        "colab_type": "text",
        "id": "NPPpqZzgkMEp"
      },
      "source": [
        "# Conversion of data into the log or other form to frame the corelation "
      ]
    },
    {
      "cell_type": "code",
      "metadata": {
        "colab_type": "code",
        "id": "K6owi42lVcIU",
        "outputId": "1230fd59-af4e-4808-fbba-4702cafe4646",
        "colab": {
          "base_uri": "https://localhost:8080/",
          "height": 70
        }
      },
      "source": [
        "converted_data  = pd.DataFrame([]) #Empty DataFrame\n",
        "T_0 = 1000\n",
        "# conversion of parameters for the equation \n",
        "converted_data['const'] = np.ones(df.shape[0])\n",
        "converted_data['T0/T'] = T_0 / df['T(K)'] \n",
        "# converted_data['1/S_H'] = 1/find_chain_length(list(df['Fuel']))\n",
        "converted_data['T0/T*S_H'] = converted_data['T0/T']/find_chain_length(list(df['Fuel']))\n",
        "# converted_data['T0/T*S_H^2'] = converted_data['T0/T']/(find_chain_length(list(df['Fuel']))**2)\n",
        "# converted_data['T0/T*S_H^3'] = converted_data['T0/T']/(find_chain_length(list(df['Fuel']))**3)\n",
        "# converted_data['log_T'] = np.log(df['T(K)'])\n",
        "converted_data['log_P'] = np.log(df['P(atm)'])\n",
        "converted_data['log_Fuel'] = np.log(df['Fuel(%)'])\n",
        "converted_data['log_oxi'] = np.log(df['Oxidizer(%)'])\n",
        "# converted_data['log_Dilu'] = np.log(df['Diluant(%)'])\n",
        "# converted_data['log_Equi'] = np.log(df['Equv(phi)'])\n",
        "converted_data['log_Time'] = np.log(df['Time(μs)'])\n",
        "converted_data.columns"
      ],
      "execution_count": 5,
      "outputs": [
        {
          "output_type": "execute_result",
          "data": {
            "text/plain": [
              "Index(['const', 'T0/T', 'T0/T*S_H', 'log_P', 'log_Fuel', 'log_oxi',\n",
              "       'log_Time'],\n",
              "      dtype='object')"
            ]
          },
          "metadata": {
            "tags": []
          },
          "execution_count": 5
        }
      ]
    },
    {
      "cell_type": "markdown",
      "metadata": {
        "colab_type": "text",
        "id": "61oDlwtokfaD"
      },
      "source": [
        "#Defining matrix X and actual result y - ($\\log \\tau$)"
      ]
    },
    {
      "cell_type": "code",
      "metadata": {
        "colab_type": "code",
        "id": "JsVJe2YmjJ4T",
        "outputId": "263f39e5-34cf-4c41-9e35-4a5db54814b5",
        "colab": {
          "base_uri": "https://localhost:8080/",
          "height": 230
        }
      },
      "source": [
        "#defi\n",
        "X = converted_data.iloc[:,:-1]\n",
        "y =  converted_data.iloc[:,-1]\n",
        "print(y)"
      ],
      "execution_count": 6,
      "outputs": [
        {
          "output_type": "stream",
          "text": [
            "0      6.755769\n",
            "1      7.358194\n",
            "2      7.088409\n",
            "3      5.966147\n",
            "4      5.111988\n",
            "         ...   \n",
            "444    7.192934\n",
            "445    7.192934\n",
            "446    5.730100\n",
            "447    5.634790\n",
            "448    5.241747\n",
            "Name: log_Time, Length: 449, dtype: float64\n"
          ],
          "name": "stdout"
        }
      ]
    },
    {
      "cell_type": "markdown",
      "metadata": {
        "colab_type": "text",
        "id": "2bSh32bRDv44"
      },
      "source": [
        "#Scaling"
      ]
    },
    {
      "cell_type": "code",
      "metadata": {
        "colab_type": "code",
        "id": "z15g5HWoBlGe",
        "colab": {}
      },
      "source": [
        "# from sklearn.preprocessing import StandardScaler\n",
        "# scaler = StandardScaler().fit(X)\n",
        "# X = scaler.transform(X)\n",
        "# print(X)"
      ],
      "execution_count": 0,
      "outputs": []
    },
    {
      "cell_type": "code",
      "metadata": {
        "colab_type": "code",
        "id": "BDSCh2FYfwQ0",
        "outputId": "ef127d23-4c72-4d3c-b90f-8eea0a3a1a48",
        "colab": {
          "base_uri": "https://localhost:8080/",
          "height": 266
        }
      },
      "source": [
        "from sklearn.model_selection import train_test_split\n",
        "X_train, X_test, y_train, y_test = train_test_split(X, y, test_size=0.1, random_state=42)\n",
        "print(X_train)"
      ],
      "execution_count": 8,
      "outputs": [
        {
          "output_type": "stream",
          "text": [
            "     const      T0/T  T0/T*S_H     log_P  log_Fuel   log_oxi\n",
            "365    1.0  0.753580  0.047099  0.524729 -3.399199 -0.207024\n",
            "101    1.0  0.873362  0.436681  4.158883 -0.223144  2.079442\n",
            "442    1.0  0.730994  0.073099  1.050822 -3.506558 -1.108663\n",
            "78     1.0  1.025641  0.512821  3.063391 -0.223144  2.079442\n",
            "33     1.0  0.810373  0.405186  1.944481 -0.223144  2.079442\n",
            "..     ...       ...       ...       ...       ...       ...\n",
            "106    1.0  1.004016  0.502008  4.001864 -0.223144  2.079442\n",
            "270    1.0  0.828500  0.059179  2.720637 -0.916291  1.386294\n",
            "348    1.0  0.680272  0.042517  0.207014 -1.609438  1.131402\n",
            "435    1.0  0.684463  0.068446  0.512824 -2.995732 -0.597837\n",
            "102    1.0  0.914913  0.457457  4.014580 -0.223144  2.079442\n",
            "\n",
            "[404 rows x 6 columns]\n"
          ],
          "name": "stdout"
        }
      ]
    },
    {
      "cell_type": "markdown",
      "metadata": {
        "colab_type": "text",
        "id": "vRQYwCZ8roBb"
      },
      "source": [
        "#Regression\n",
        "To solve $X\\beta= y$\n",
        "\n",
        "$X^TX \\beta= X^Ty$\n",
        "\n",
        "Now decomposing matrix using QR decomposition \\\n",
        "taking, $X = QR$\n",
        "\n",
        "$(QR)^T(QR) \\beta= (QR)^Ty$\n",
        "\n",
        "$( R^T Q^T Q R) \\beta= (QR)^Ty$\n",
        "\n",
        "$( R^T R) \\beta= R^T Q^Ty$\n",
        "\n",
        "$ (R^T)^{-1} R^T R \\beta=  Q^Ty$\n",
        "\n",
        "$ R \\beta=  Q^Ty$\n",
        "\n",
        "$ R \\beta=  z$\n",
        "\n",
        "As R is upper triangular which can be solved by back substituion.\n",
        "\n",
        "Check : https://adrianstoll.com/linear-algebra/least-squares.html\n"
      ]
    },
    {
      "cell_type": "code",
      "metadata": {
        "colab_type": "code",
        "id": "W7tKmmGBjF_V",
        "outputId": "4c6bd219-c5e0-41a0-a159-36d6746f897d",
        "colab": {
          "base_uri": "https://localhost:8080/",
          "height": 159
        }
      },
      "source": [
        "#Find parameters by regression using least-square formula (XT X)^-1 XT \n",
        "import scipy as sp\n",
        "\n",
        "def back_substitution(A,b):\n",
        "  '''\n",
        "  This method will de backsubstitution\n",
        "  '''\n",
        "  n = A.shape[1] #no_of_par\n",
        "  print(n)\n",
        "  x = np.zeros(A.shape[1]) #weights = no of parameter = colm\n",
        "  #last elements\n",
        "  for i in range(n-1, -1, -1):\n",
        "      for j in range (i, n, 1):\n",
        "          b[i] -= A[i, j]*x[j]\n",
        "      x[i] = b[i] / A[i,i]\n",
        "  return x\n",
        "\n",
        "def regression(X,y):\n",
        "  '''\n",
        "  This method will best fit using QR factorization\n",
        "  '''\n",
        "  if(X.shape[1] < X.shape[0]):\n",
        "    '''\n",
        "    solving overdetermined system\n",
        "    '''\n",
        "    Q,R = sp.linalg.qr(X)\n",
        "    #solve \n",
        "    z = np.matmul(np.transpose(Q),y)\n",
        "    #back-substitution\n",
        "    beta = back_substitution(R,z)\n",
        "    return beta\n",
        "  else:\n",
        "    exit()\n",
        "\n",
        "\n",
        "# #test-1\n",
        "# M = np.matrix([[1,-1,2],[0,-1,-2],[0,0,-6],[9,1,2],[7,4,1]])\n",
        "# c = np.array([2,5,3,8,3])\n",
        "# #ans : [ 1.27408155 -1.53528339 -0.61609186]\n",
        "\n",
        "# #test-2\n",
        "# #test-1\n",
        "# M = np.matrix([[1,-1,2],[0,-1,-2],[0,0,-6],[9,1,2],[7,4,1]])\n",
        "# c = np.array([2,5,3,3,3])\n",
        "# #ans : [ 1.27408155 -1.53528339 -0.61609186]\n",
        "\n",
        "# coef = regression(M,c)\n",
        "# print(coef)\n",
        "coef = regression(X_train,y_train)\n",
        "\n",
        "#Coefficent table \n",
        "coef_result = pd.DataFrame([])\n",
        "coef_result['para_coef'] = X.columns\n",
        "coef_result['coef'] = coef\n",
        "print(coef_result)\n"
      ],
      "execution_count": 9,
      "outputs": [
        {
          "output_type": "stream",
          "text": [
            "6\n",
            "  para_coef       coef\n",
            "0     const  -2.871787\n",
            "1      T0/T  12.280119\n",
            "2  T0/T*S_H   3.463250\n",
            "3     log_P  -0.525825\n",
            "4  log_Fuel  -0.162243\n",
            "5   log_oxi  -0.255531\n"
          ],
          "name": "stdout"
        }
      ]
    },
    {
      "cell_type": "markdown",
      "metadata": {
        "colab_type": "text",
        "id": "F4WERSx2LYK7"
      },
      "source": [
        "#If\n",
        "The functional form is,\n",
        "\n",
        "$\\log \\tau = \\beta_0 + \\beta_1  \\log{P} + \\beta_2 \\log{Fuel} + \\beta_3 \\log{Oxi} + \\beta_4 \\frac{T_0}{T} + \\beta_5 \\frac{T_0}{T*S_H}$\n",
        "\n",
        "\n",
        "$\\tau = exp(\\beta_0')  {P}^{\\beta_1}  {Fuel}^{\\beta_2}   {Oxi}^{\\beta_3} \\exp\\bigg(\\beta_4 \\frac{T_0}{T} + \\beta_5 \\frac{T_0}{T*S_H}\\bigg)$\n",
        "\n",
        "$\\tau = \\beta_0'  {P}^{\\beta_1}  {Fuel}^{\\beta_2}   {Oxi}^{\\beta_3} \\exp\\bigg(\\beta_4 \\frac{T_0}{T} + \\beta_5 \\frac{T_0}{T*S_H}\\bigg)$\n"
      ]
    },
    {
      "cell_type": "markdown",
      "metadata": {
        "colab_type": "text",
        "id": "4SmYEp7VzJ1V"
      },
      "source": [
        "#Prediction:\n"
      ]
    },
    {
      "cell_type": "code",
      "metadata": {
        "colab_type": "code",
        "id": "1s9eVQmTzGnT",
        "outputId": "7a68a8dc-8572-4172-922a-e6464271b0f5",
        "colab": {
          "base_uri": "https://localhost:8080/",
          "height": 230
        }
      },
      "source": [
        "y_hat_train = X_train.dot(coef)\n",
        "print(y_hat_train)"
      ],
      "execution_count": 10,
      "outputs": [
        {
          "output_type": "stream",
          "text": [
            "365    6.873856\n",
            "101    6.683542\n",
            "442    6.657734\n",
            "78     9.393267\n",
            "33     6.965335\n",
            "         ...   \n",
            "106    8.596792\n",
            "270    5.871089\n",
            "348    5.492441\n",
            "435    6.139690\n",
            "102    7.341617\n",
            "Length: 404, dtype: float64\n"
          ],
          "name": "stdout"
        }
      ]
    },
    {
      "cell_type": "markdown",
      "metadata": {
        "colab_type": "text",
        "id": "ZNGtW4lOJaV6"
      },
      "source": [
        "#Comparision $Y_{predicted}$  vs $Y_{actual}$\n"
      ]
    },
    {
      "cell_type": "code",
      "metadata": {
        "colab_type": "code",
        "id": "DlrVU7qNJZu-",
        "outputId": "345e74a6-a6ee-43db-9ec6-38b4fd12ae49",
        "colab": {
          "base_uri": "https://localhost:8080/",
          "height": 528
        }
      },
      "source": [
        "compare = pd.DataFrame([])\n",
        "compare['y_act'] = y_hat_train\n",
        "compare['y_pred'] = y_train\n",
        "print(compare)\n",
        "\n",
        "#plotting of train set\n",
        "import matplotlib.pyplot as plt\n",
        "center_data = np.linspace(4,10,100)\n",
        "plt.plot(center_data,center_data,'b')\n",
        "plt.scatter(y_train,y_hat_train,c='black')\n",
        "plt.xlabel('Y Actual')\n",
        "plt.ylabel('Y Predicted')\n",
        "plt.show()\n"
      ],
      "execution_count": 11,
      "outputs": [
        {
          "output_type": "stream",
          "text": [
            "        y_act    y_pred\n",
            "365  6.873856  7.002156\n",
            "101  6.683542  6.272877\n",
            "442  6.657734  7.501082\n",
            "78   9.393267  8.619750\n",
            "33   6.965335  6.845880\n",
            "..        ...       ...\n",
            "106  8.596792  7.904704\n",
            "270  5.871089  5.723585\n",
            "348  5.492441  5.192957\n",
            "435  6.139690  5.902633\n",
            "102  7.341617  6.907755\n",
            "\n",
            "[404 rows x 2 columns]\n"
          ],
          "name": "stdout"
        },
        {
          "output_type": "display_data",
          "data": {
            "image/png": "[encoded data removed]",
            "text/plain": [
              "<Figure size 432x288 with 1 Axes>"
            ]
          },
          "metadata": {
            "tags": []
          }
        }
      ]
    },
    {
      "cell_type": "markdown",
      "metadata": {
        "colab_type": "text",
        "id": "1bQmovWBIXau"
      },
      "source": [
        "#Maximum Relative Error in Training\n",
        "\n"
      ]
    },
    {
      "cell_type": "code",
      "metadata": {
        "colab_type": "code",
        "id": "KcmtvloiIWbD",
        "outputId": "be494073-0e88-40f3-d2a0-5d80d15aa706",
        "colab": {
          "base_uri": "https://localhost:8080/",
          "height": 35
        }
      },
      "source": [
        "max_relative_error = np.max(np.abs(y_train - y_hat_train)/np.abs(y_train))\n",
        "print(max_relative_error)"
      ],
      "execution_count": 12,
      "outputs": [
        {
          "output_type": "stream",
          "text": [
            "0.4146549141097059\n"
          ],
          "name": "stdout"
        }
      ]
    },
    {
      "cell_type": "markdown",
      "metadata": {
        "colab_type": "text",
        "id": "k4YZfxGMOXDG"
      },
      "source": [
        "#Testing set\n"
      ]
    },
    {
      "cell_type": "code",
      "metadata": {
        "colab_type": "code",
        "id": "VfsQ-69bOzIM",
        "outputId": "29213dec-85ec-4ded-dc9d-b90bac81235a",
        "colab": {
          "base_uri": "https://localhost:8080/",
          "height": 1000
        }
      },
      "source": [
        "y_hat_test = X_test.dot(coef)\n",
        "\n",
        "#testing compare\n",
        "compare = pd.DataFrame([])\n",
        "compare['y_act'] = y_hat_test\n",
        "compare['y_pred'] = y_test\n",
        "print(compare)\n",
        "\n",
        "\n",
        "import matplotlib.pyplot as plt\n",
        "center_data = np.linspace(4,10,100)\n",
        "plt.plot(center_data,center_data,'b')\n",
        "plt.scatter(y_test,y_hat_test,c='black')\n",
        "plt.xlabel('Y Actual')\n",
        "plt.ylabel('Y Predicted')\n",
        "plt.show()\n",
        "\n",
        "#maximum value in y_predicted\n",
        "max_val = np.max(compare['y_pred'])\n",
        "print(max_val)"
      ],
      "execution_count": 13,
      "outputs": [
        {
          "output_type": "stream",
          "text": [
            "        y_act    y_pred\n",
            "285  7.404772  7.201171\n",
            "296  6.490219  7.498316\n",
            "117  7.849960  7.605890\n",
            "347  4.996780  3.688879\n",
            "70   7.431326  7.265430\n",
            "30   6.471324  5.991465\n",
            "192  5.404038  4.736198\n",
            "79   9.330186  8.470102\n",
            "364  5.586327  5.472271\n",
            "357  5.031218  4.465908\n",
            "55   8.734752  9.229162\n",
            "148  5.476156  5.010635\n",
            "370  5.235632  4.919981\n",
            "312  5.377734  5.225747\n",
            "395  4.719904  4.499810\n",
            "406  5.274907  5.187386\n",
            "75   8.882654  8.405144\n",
            "245  7.482748  8.521584\n",
            "304  5.914976  6.028279\n",
            "77   8.963628  8.414052\n",
            "165  6.484263  7.812783\n",
            "9    6.128788  6.969791\n",
            "90   7.739078  7.649693\n",
            "93   7.902265  8.061487\n",
            "116  7.654024  7.377759\n",
            "298  5.302162  5.572154\n",
            "72   8.184970  7.889834\n",
            "82   6.126903  5.828946\n",
            "211  7.327811  6.865891\n",
            "39   8.043386  8.357024\n",
            "157  4.284887  4.330733\n",
            "439  6.082201  6.480045\n",
            "73   8.336171  8.003029\n",
            "333  5.877512  5.318120\n",
            "137  4.472952  5.062595\n",
            "314  5.238344  5.241747\n",
            "414  5.214782  5.010635\n",
            "76   8.952137  8.364042\n",
            "376  5.432711  5.337538\n",
            "237  6.351273  7.167038\n",
            "238  5.945688  5.541264\n",
            "443  6.729460  7.415175\n",
            "113  7.054520  6.709304\n",
            "436  5.683769  5.087596\n",
            "229  5.585025  5.638355\n"
          ],
          "name": "stdout"
        },
        {
          "output_type": "display_data",
          "data": {
            "image/png": "[encoded data removed]",
            "text/plain": [
              "<Figure size 432x288 with 1 Axes>"
            ]
          },
          "metadata": {
            "tags": []
          }
        },
        {
          "output_type": "stream",
          "text": [
            "9.229162126216771\n"
          ],
          "name": "stdout"
        }
      ]
    },
    {
      "cell_type": "markdown",
      "metadata": {
        "colab_type": "text",
        "id": "mkl3Y6RnPtVA"
      },
      "source": [
        "#Maximum Relative Error Testing"
      ]
    },
    {
      "cell_type": "code",
      "metadata": {
        "colab_type": "code",
        "id": "9gjtvbj-Psvh",
        "outputId": "1bd02a7c-bd0f-4fa2-e523-206f3d5a7382",
        "colab": {
          "base_uri": "https://localhost:8080/",
          "height": 35
        }
      },
      "source": [
        "#Maximum Relative Error in Training\n",
        "max_relative_error_test = np.max(np.abs(y_test - y_hat_test)/y_test)\n",
        "print(max_relative_error)\n"
      ],
      "execution_count": 14,
      "outputs": [
        {
          "output_type": "stream",
          "text": [
            "0.4146549141097059\n"
          ],
          "name": "stdout"
        }
      ]
    },
    {
      "cell_type": "markdown",
      "metadata": {
        "colab_type": "text",
        "id": "pquMF3qQ0FVP"
      },
      "source": [
        "#Error row wise of Training set \n"
      ]
    },
    {
      "cell_type": "code",
      "metadata": {
        "colab_type": "code",
        "id": "GeKZvmu6zxlH",
        "outputId": "2f9e9d8a-1045-430b-c1cf-ef1b8af2c956",
        "colab": {
          "base_uri": "https://localhost:8080/",
          "height": 444
        }
      },
      "source": [
        "error = np.abs(y_hat_train - y_train)/np.abs(y_train)\n",
        "absolute_error = np.abs(y_hat_train - y_train)\n",
        "print(error)\n",
        "print(absolute_error)\n",
        "\n",
        "converted_data['error'] = error"
      ],
      "execution_count": 15,
      "outputs": [
        {
          "output_type": "stream",
          "text": [
            "365    0.018323\n",
            "101    0.065467\n",
            "442    0.112430\n",
            "78     0.089738\n",
            "33     0.017449\n",
            "         ...   \n",
            "106    0.087554\n",
            "270    0.025771\n",
            "348    0.057671\n",
            "435    0.040161\n",
            "102    0.062808\n",
            "Length: 404, dtype: float64\n",
            "365    0.128300\n",
            "101    0.410665\n",
            "442    0.843349\n",
            "78     0.773518\n",
            "33     0.119455\n",
            "         ...   \n",
            "106    0.692088\n",
            "270    0.147504\n",
            "348    0.299484\n",
            "435    0.237057\n",
            "102    0.433862\n",
            "Length: 404, dtype: float64\n"
          ],
          "name": "stdout"
        }
      ]
    },
    {
      "cell_type": "markdown",
      "metadata": {
        "colab_type": "text",
        "id": "5SyC1N8HzB9s"
      },
      "source": [
        "#Number of data points in Relative Error range"
      ]
    },
    {
      "cell_type": "code",
      "metadata": {
        "colab_type": "code",
        "id": "MAi5AUDLV9Wr",
        "outputId": "8695ed69-48b2-4a19-cea6-bc64194dc61b",
        "colab": {
          "base_uri": "https://localhost:8080/",
          "height": 35
        }
      },
      "source": [
        "defined_error = 0.05\n",
        "index_collector = []\n",
        "counter = 0\n",
        "total_data = X_train.shape[0]\n",
        "#just counting number of data points\n",
        "\n",
        "for i in range(len(error)):\n",
        "  if(error.iloc[i] > defined_error):\n",
        "    counter += 1\n",
        "\n",
        "print(counter,'out of ',total_data,',number of data point that has relative error more than ',defined_error)"
      ],
      "execution_count": 16,
      "outputs": [
        {
          "output_type": "stream",
          "text": [
            "244 out of  404 ,number of data point that has relative error more than  0.05\n"
          ],
          "name": "stdout"
        }
      ]
    },
    {
      "cell_type": "markdown",
      "metadata": {
        "id": "bt01b4Z4HAYA",
        "colab_type": "text"
      },
      "source": [
        "#Number of data points in Absolute Error range"
      ]
    },
    {
      "cell_type": "code",
      "metadata": {
        "id": "SSVTVVKpHB9t",
        "colab_type": "code",
        "outputId": "b210f19c-ba95-47c1-9302-9ba338b3ac6c",
        "colab": {
          "base_uri": "https://localhost:8080/",
          "height": 35
        }
      },
      "source": [
        "defined_error = 0.1\n",
        "index_collector = []\n",
        "counter = 0\n",
        "total_data = X_train.shape[0]\n",
        "\n",
        "#just counting number of data points\n",
        "\n",
        "for i in range(len(absolute_error)):\n",
        "  if(absolute_error.iloc[i] > defined_error):\n",
        "    counter += 1\n",
        "\n",
        "print(counter,'out of ',total_data,',number of data point that has relative error more than ',defined_error)"
      ],
      "execution_count": 17,
      "outputs": [
        {
          "output_type": "stream",
          "text": [
            "360 out of  404 ,number of data point that has relative error more than  0.1\n"
          ],
          "name": "stdout"
        }
      ]
    },
    {
      "cell_type": "markdown",
      "metadata": {
        "colab_type": "text",
        "id": "Gi4lXmgRV8ea"
      },
      "source": [
        "#Error Based Clustering\n",
        "- Collect the data points which has less error than defined error into one bin\n",
        "- Rest of the points into the other bins and repeat the procedure itertively\n"
      ]
    },
    {
      "cell_type": "markdown",
      "metadata": {
        "colab_type": "text",
        "id": "9Rzuak4qVB0L"
      },
      "source": [
        "#Seperated data frames based on ERROR\n",
        " \n"
      ]
    },
    {
      "cell_type": "code",
      "metadata": {
        "id": "hTlOqTPBuCD6",
        "colab_type": "code",
        "outputId": "1f195401-c1b6-4849-890e-3302f29ef56f",
        "colab": {
          "base_uri": "https://localhost:8080/",
          "height": 70
        }
      },
      "source": [
        "#Clusters\n",
        "print('Main Cluster size :',X_train.shape)\n",
        "cluster_1 = converted_data[converted_data['error'] < 0.05]\n",
        "cluster_2 = converted_data[converted_data['error'] > 0.05]\n",
        "\n",
        "print('cluster_1 size :',cluster_1.shape)\n",
        "print('cluster_2 size :',cluster_2.shape)\n",
        "\n"
      ],
      "execution_count": 18,
      "outputs": [
        {
          "output_type": "stream",
          "text": [
            "Main Cluster size : (404, 6)\n",
            "cluster_1 size : (160, 8)\n",
            "cluster_2 size : (244, 8)\n"
          ],
          "name": "stdout"
        }
      ]
    },
    {
      "cell_type": "markdown",
      "metadata": {
        "id": "yht7hiWm-8Cc",
        "colab_type": "text"
      },
      "source": [
        "#Analysis of cluster-1"
      ]
    },
    {
      "cell_type": "code",
      "metadata": {
        "id": "vj2OLJXb-ZKB",
        "colab_type": "code",
        "colab": {}
      },
      "source": [
        "  X_train_clus_1 = cluster_1.iloc[:,:-2] \n",
        "  y_train_clus_1 = cluster_1.iloc[:,-2] \n",
        "  coef_cluster_1 = regression(X_train_clus_1,y_train_clus_1)\n",
        "\n",
        "  #Coefficent table \n",
        "  coef_result_clus_1 = pd.DataFrame([])\n",
        "  coef_result_clus_1['para_coef'] =X_train_clus_1.columns\n",
        "  coef_result_clus_1['coef'] = coef_cluster_1\n",
        "  print(coef_result_clus_1)\n",
        "\n",
        "  #prediction \n",
        "  y_hat_train_clus1 = X_train_clus_1.dot(coef_cluster_1)\n",
        "\n",
        "  #comparing the actual and predicted value \n",
        "  compare = pd.DataFrame([])\n",
        "  compare['y_act'] = y_train_clus_1\n",
        "  compare['y_pred'] = y_hat_train_clus1\n",
        "  print(compare)\n",
        "\n",
        "  import matplotlib.pyplot as plt\n",
        "  center_data = np.linspace(4,10,100)\n",
        "  plt.plot(center_data,center_data,'b')\n",
        "  plt.scatter(y_train,y_hat_train,c='black')\n",
        "  plt.scatter(y_train_clus_1,y_hat_train_clus1,c='yellow')\n",
        "  plt.xlabel('Y Actual')\n",
        "  plt.ylabel('Y Predicted')\n",
        "  plt.show()\n",
        "\n",
        "  #maximum relative error in clutser\n",
        "  max_relative_error_clus1 = np.max(np.abs(y_train_clus_1 - y_hat_train_clus1)/np.abs(y_train_clus_1))\n",
        "  print('max_relative_error:',max_relative_error)"
      ],
      "execution_count": 0,
      "outputs": []
    },
    {
      "cell_type": "code",
      "metadata": {
        "id": "PS90S-TywQ6C",
        "colab_type": "code",
        "outputId": "b2406700-6061-4b6d-86f3-2681155e1751",
        "colab": {
          "base_uri": "https://localhost:8080/",
          "height": 688
        }
      },
      "source": [
        "X_train_clus_1 = cluster_1.iloc[:,:-2] \n",
        "y_train_clus_1 = cluster_1.iloc[:,-2] \n",
        "coef_cluster_1 = regression(X_train_clus_1,y_train_clus_1)\n",
        "\n",
        "#Coefficent table \n",
        "coef_result_clus_1 = pd.DataFrame([])\n",
        "coef_result_clus_1['para_coef'] =X_train_clus_1.columns\n",
        "coef_result_clus_1['coef'] = coef_cluster_1\n",
        "print(coef_result_clus_1)\n",
        "\n",
        "#prediction \n",
        "y_hat_train_clus1 = X_train_clus_1.dot(coef_cluster_1)\n",
        "\n",
        "#comparing the actual and predicted value \n",
        "compare = pd.DataFrame([])\n",
        "compare['y_act'] = y_train_clus_1\n",
        "compare['y_pred'] = y_hat_train_clus1\n",
        "print(compare)\n",
        "\n",
        "import matplotlib.pyplot as plt\n",
        "center_data = np.linspace(4,10,100)\n",
        "plt.plot(center_data,center_data,'b')\n",
        "plt.scatter(y_train,y_hat_train,c='black')\n",
        "plt.scatter(y_train_clus_1,y_hat_train_clus1,c='yellow')\n",
        "plt.xlabel('Y Actual')\n",
        "plt.ylabel('Y Predicted')\n",
        "plt.show()\n",
        "\n",
        "#maximum relative error in clutser\n",
        "max_relative_error_clus1 = np.max(np.abs(y_train_clus_1 - y_hat_train_clus1)/np.abs(y_train_clus_1))\n",
        "print('max_relative_error:',max_relative_error)\n"
      ],
      "execution_count": 22,
      "outputs": [
        {
          "output_type": "stream",
          "text": [
            "6\n",
            "  para_coef       coef\n",
            "0     const  -2.932180\n",
            "1      T0/T  12.069944\n",
            "2  T0/T*S_H   3.788421\n",
            "3     log_P  -0.574173\n",
            "4  log_Fuel  -0.276876\n",
            "5   log_oxi  -0.155951\n",
            "        y_act    y_pred\n",
            "3    5.966147  5.723427\n",
            "4    5.111988  5.320183\n",
            "6    5.347108  5.149376\n",
            "11   6.496775  6.443202\n",
            "12   6.895683  6.670780\n",
            "..        ...       ...\n",
            "424  5.062595  4.894044\n",
            "434  6.777647  6.602974\n",
            "435  5.902633  6.216782\n",
            "440  5.932245  5.821984\n",
            "441  7.154615  6.867382\n",
            "\n",
            "[160 rows x 2 columns]\n"
          ],
          "name": "stdout"
        },
        {
          "output_type": "display_data",
          "data": {
            "image/png": "[encoded data removed]",
            "text/plain": [
              "<Figure size 432x288 with 1 Axes>"
            ]
          },
          "metadata": {
            "tags": []
          }
        },
        {
          "output_type": "stream",
          "text": [
            "max_relative_error: 0.4146549141097059\n"
          ],
          "name": "stdout"
        }
      ]
    },
    {
      "cell_type": "markdown",
      "metadata": {
        "id": "WyC0tUPIj2II",
        "colab_type": "text"
      },
      "source": [
        "#Analysis  of cluster-2"
      ]
    },
    {
      "cell_type": "code",
      "metadata": {
        "id": "OpL--PMJAFAc",
        "colab_type": "code",
        "outputId": "47f8a613-42b6-4403-d25d-a3fb3c040fff",
        "colab": {
          "base_uri": "https://localhost:8080/",
          "height": 688
        }
      },
      "source": [
        "X_train_clus_2 = cluster_2.iloc[:,:-2] \n",
        "y_train_clus_2 = cluster_2.iloc[:,-2] \n",
        "coef_cluster_2 = regression(X_train_clus_2,y_train_clus_2)\n",
        "\n",
        "#Coefficent table \n",
        "coef_result_clus_2 = pd.DataFrame([])\n",
        "coef_result_clus_2['para_coef'] =X_train_clus_2.columns\n",
        "coef_result_clus_2['coef'] = coef_cluster_2\n",
        "print(coef_result_clus_2)\n",
        "\n",
        "#prediction \n",
        "y_hat_train_clus_2 = X_train_clus_2.dot(coef_cluster_2)\n",
        "\n",
        "#comparing the actual and predicted value \n",
        "compare = pd.DataFrame([])\n",
        "compare['y_act'] = y_train_clus_2\n",
        "compare['y_pred'] = y_hat_train_clus_2\n",
        "print(compare)\n",
        "\n",
        "import matplotlib.pyplot as plt\n",
        "center_data = np.linspace(4,10,100)\n",
        "plt.plot(center_data,center_data,'b')\n",
        "plt.scatter(y_train,y_hat_train,c='black')\n",
        "plt.scatter(y_train_clus_2,y_hat_train_clus_2,c='yellow')\n",
        "plt.xlabel('Y Actual')\n",
        "plt.ylabel('Y Predicted')\n",
        "plt.show()\n",
        "\n",
        "#maximum relative error in clutser\n",
        "max_relative_error_clus1 = np.max(np.abs(y_train_clus_2 - y_hat_train_clus_2)/np.abs(y_train_clus_2))\n",
        "print('max_relative_error:',max_relative_error)"
      ],
      "execution_count": 23,
      "outputs": [
        {
          "output_type": "stream",
          "text": [
            "6\n",
            "  para_coef       coef\n",
            "0     const  -2.909813\n",
            "1      T0/T  12.431288\n",
            "2  T0/T*S_H   3.298631\n",
            "3     log_P  -0.503884\n",
            "4  log_Fuel  -0.129052\n",
            "5   log_oxi  -0.291827\n",
            "        y_act    y_pred\n",
            "0    6.755769  6.085733\n",
            "1    7.358194  6.515375\n",
            "2    7.088409  6.338286\n",
            "5    6.927558  6.131713\n",
            "7    5.652489  5.363814\n",
            "..        ...       ...\n",
            "444  7.192934  6.701532\n",
            "445  7.192934  6.020977\n",
            "446  5.730100  6.020977\n",
            "447  5.634790  5.951065\n",
            "448  5.241747  5.907128\n",
            "\n",
            "[244 rows x 2 columns]\n"
          ],
          "name": "stdout"
        },
        {
          "output_type": "display_data",
          "data": {
            "image/png": "[encoded data removed]",
            "text/plain": [
              "<Figure size 432x288 with 1 Axes>"
            ]
          },
          "metadata": {
            "tags": []
          }
        },
        {
          "output_type": "stream",
          "text": [
            "max_relative_error: 0.4146549141097059\n"
          ],
          "name": "stdout"
        }
      ]
    },
    {
      "cell_type": "markdown",
      "metadata": {
        "id": "iKTKSKMWkYgF",
        "colab_type": "text"
      },
      "source": [
        "#Seperating the data points from the cluster\n",
        "- Regression is fitting the plane \n",
        "\n",
        "for given plane $ax+by+cz+d = 0$, \\\n",
        "  if we plug point $(x_1,y_1,z_1)$ and $(x_2,y_2,z_2)$ into the plane and have same sign means they are on same side else they are on other side.\n",
        "  $ax+by+cz+d = 0$\n",
        "\n",
        "  $z =-(d/c) -(a/c)x - (b/c)y$\n",
        "\n",
        "  $z =$ \n",
        "  $\\begin{bmatrix}\n",
        "  1 &\n",
        "  x &\n",
        "  y\n",
        "  \\end{bmatrix}$\n",
        "  $\\begin{bmatrix}\n",
        "  -d/c \\\\\n",
        "  -a/c \\\\\n",
        "  -b/c\n",
        "  \\end{bmatrix}$\n",
        "\n",
        "  $z =$ \n",
        "  $\\begin{bmatrix}\n",
        "  1 &\n",
        "  x &\n",
        "  y\n",
        "  \\end{bmatrix}$\n",
        "  $\\begin{bmatrix}\n",
        "  -d/c \\\\\n",
        "  -a/c \\\\\n",
        "  -b/c\n",
        "  \\end{bmatrix}$\n",
        "\n",
        " $z = Data * coef  $\n",
        "\n",
        "If data points perfectly satisfy   $ax+by+cz+d = 0$ which means they lie on the else if it is positive means they lie above the plane else below.\n",
        "\n",
        "same analogy can applied in the regression. If the data point does not satisfy menas it generate more or less of value than  required which can be obtained by +ve or -ve error.\n",
        "\n",
        "$y_{predicted} - y_{actual} = error$ \n",
        "\n",
        "points containg +ve error lie on same side whereas points containing -ve error lie on another side.\n",
        "\n"
      ]
    },
    {
      "cell_type": "code",
      "metadata": {
        "id": "c6e4E2AakCRZ",
        "colab_type": "code",
        "colab": {
          "base_uri": "https://localhost:8080/",
          "height": 177
        },
        "outputId": "4ac1df62-731f-4954-88f6-8133941f5c20"
      },
      "source": [
        "cluster_2['error_bifurcation'] =  y_train_clus_2 - y_hat_train_clus_2\n",
        "print(cluster_2.shape)\n",
        "cluster_3 =  cluster_2[cluster_2['error_bifurcation'] > 0]\n",
        "print(cluster_3.shape)\n",
        "cluster_4 =  cluster_2[cluster_2['error_bifurcation'] < 0]\n",
        "print(cluster_4.shape)\n"
      ],
      "execution_count": 26,
      "outputs": [
        {
          "output_type": "stream",
          "text": [
            "(244, 9)\n",
            "(118, 9)\n",
            "(126, 9)\n"
          ],
          "name": "stdout"
        },
        {
          "output_type": "stream",
          "text": [
            "/usr/local/lib/python3.6/dist-packages/ipykernel_launcher.py:1: SettingWithCopyWarning: \n",
            "A value is trying to be set on a copy of a slice from a DataFrame.\n",
            "Try using .loc[row_indexer,col_indexer] = value instead\n",
            "\n",
            "See the caveats in the documentation: http://pandas.pydata.org/pandas-docs/stable/user_guide/indexing.html#returning-a-view-versus-a-copy\n",
            "  \"\"\"Entry point for launching an IPython kernel.\n"
          ],
          "name": "stderr"
        }
      ]
    },
    {
      "cell_type": "code",
      "metadata": {
        "id": "EVdyUENb9MA1",
        "colab_type": "code",
        "colab": {}
      },
      "source": [
        ""
      ],
      "execution_count": 0,
      "outputs": []
    }
  ]
}