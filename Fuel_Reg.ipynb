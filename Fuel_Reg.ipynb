{
  "nbformat": 4,
  "nbformat_minor": 0,
  "metadata": {
    "colab": {
      "name": "Fuel_Reg.ipynb",
      "provenance": [],
      "collapsed_sections": [],
      "authorship_tag": "ABX9TyO9jhRdntWXccCVKJJNBcrw",
      "include_colab_link": true
    },
    "kernelspec": {
      "name": "python3",
      "display_name": "Python 3"
    }
  },
  "cells": [
    {
      "cell_type": "markdown",
      "metadata": {
        "id": "view-in-github",
        "colab_type": "text"
      },
      "source": [
        "<a href=\"https://colab.research.google.com/github/pragneshrana/Algo_Trial/blob/master/Fuel_Reg.ipynb\" target=\"_parent\"><img src=\"https://colab.research.google.com/assets/colab-badge.svg\" alt=\"Open In Colab\"/></a>"
      ]
    },
    {
      "cell_type": "markdown",
      "metadata": {
        "id": "rhMVxmoajwAc",
        "colab_type": "text"
      },
      "source": [
        "#Calling libraries  and dataset "
      ]
    },
    {
      "cell_type": "code",
      "metadata": {
        "id": "_8Rl89s0R29e",
        "colab_type": "code",
        "colab": {
          "base_uri": "https://localhost:8080/",
          "height": 374
        },
        "outputId": "8f887a08-9907-427b-891d-658698b4ff8b"
      },
      "source": [
        "#loaded data\n",
        "import pandas as pd\n",
        "url = 'https://raw.githubusercontent.com/sivaramambikasaran/Data_driven_Kinetics/master/data/Alkane_Dataset_full_stanford_AR.csv?token=AINCVGUITKDVFRUDJQI7RZS6HP64A'\n",
        "df = pd.read_csv(url)# Dataset is now stored in a Pandas Dataframe\n",
        "print(df.columns)\n",
        "# df = df.loc[:10,:]\n",
        "print(df)"
      ],
      "execution_count": 1,
      "outputs": [
        {
          "output_type": "stream",
          "text": [
            "Index(['Fuel', 'T(K)', 'T_Error(%)', 'P(atm)', 'P_Error(%)', 'Fuel(%)',\n",
            "       'Oxidizer(%)', 'Diluant(%)', 'Equv(phi)', 'Diluant Type', 'Time(μs)',\n",
            "       'Mode_of_measurement', 'Species_name', 'Species_measurement_Error',\n",
            "       'Measured_wavelength(nm)', 'Shocktube_dia(cm)', 'Research_group',\n",
            "       'Data_Source'],\n",
            "      dtype='object')\n",
            "         Fuel  ...                                        Data_Source\n",
            "0    CCCCCCCC  ...  Lam_2013_thesis / Normal_Alkanes_and_Simple_Ox...\n",
            "1    CCCCCCCC  ...  Lam_2013_thesis / Normal_Alkanes_and_Simple_Ox...\n",
            "2    CCCCCCCC  ...  Lam_2013_thesis / Normal_Alkanes_and_Simple_Ox...\n",
            "3    CCCCCCCC  ...  Lam_2013_thesis / Normal_Alkanes_and_Simple_Ox...\n",
            "4    CCCCCCCC  ...  Lam_2013_thesis / Normal_Alkanes_and_Simple_Ox...\n",
            "..        ...  ...                                                ...\n",
            "444   CCCCCCC  ...                                n_heptane_oxidation\n",
            "445   CCCCCCC  ...                                n_heptane_oxidation\n",
            "446   CCCCCCC  ...                                n_heptane_oxidation\n",
            "447   CCCCCCC  ...                                n_heptane_oxidation\n",
            "448   CCCCCCC  ...                                n_heptane_oxidation\n",
            "\n",
            "[449 rows x 18 columns]\n"
          ],
          "name": "stdout"
        }
      ]
    },
    {
      "cell_type": "code",
      "metadata": {
        "id": "rGefEnGqVjjq",
        "colab_type": "code",
        "colab": {
          "base_uri": "https://localhost:8080/",
          "height": 231
        },
        "outputId": "cf88f852-df2b-438c-9b2a-38ac6c4d8082"
      },
      "source": [
        "print(df['Fuel'] )"
      ],
      "execution_count": 2,
      "outputs": [
        {
          "output_type": "stream",
          "text": [
            "0      CCCCCCCC\n",
            "1      CCCCCCCC\n",
            "2      CCCCCCCC\n",
            "3      CCCCCCCC\n",
            "4      CCCCCCCC\n",
            "         ...   \n",
            "444     CCCCCCC\n",
            "445     CCCCCCC\n",
            "446     CCCCCCC\n",
            "447     CCCCCCC\n",
            "448     CCCCCCC\n",
            "Name: Fuel, Length: 449, dtype: object\n"
          ],
          "name": "stdout"
        }
      ]
    },
    {
      "cell_type": "markdown",
      "metadata": {
        "id": "saSYAaq7j88J",
        "colab_type": "text"
      },
      "source": [
        "#Fucntion for finding the S_H bonds"
      ]
    },
    {
      "cell_type": "code",
      "metadata": {
        "id": "Hb0wzPRNW_h0",
        "colab_type": "code",
        "colab": {}
      },
      "source": [
        "def find_chain_length(fuel_data):\n",
        "  '''\n",
        "  This method will return the number of double bonds in the alkanes\n",
        "  Input: list of fuel\n",
        "  output : fuel S_H bond array \n",
        "  '''\n",
        "  S_H = np.zeros(len(fuel_data))\n",
        "  #number bonds in the alkanes are (2n-2) for C>3 (S_H)\n",
        "  for i in range(len(fuel_data)):\n",
        "    S_H_count = 2*(len(fuel_data[i])-2) #count by fuel length\n",
        "    S_H[i] = S_H_count\n",
        "  return S_H\n",
        "\n",
        "# #check fucntion\n",
        "# print(find_chain_length(['CCC','CCCC']))\n"
      ],
      "execution_count": 0,
      "outputs": []
    },
    {
      "cell_type": "markdown",
      "metadata": {
        "id": "OU_hPPoKkE3c",
        "colab_type": "text"
      },
      "source": [
        "#Required columns from data"
      ]
    },
    {
      "cell_type": "code",
      "metadata": {
        "id": "KyFtUhAUSn7u",
        "colab_type": "code",
        "colab": {
          "base_uri": "https://localhost:8080/",
          "height": 267
        },
        "outputId": "841e622f-17aa-43e8-a720-ca535d5cf08b"
      },
      "source": [
        "#calling library\n",
        "import pandas as pd\n",
        "import numpy as np\n",
        "\n",
        "data = pd.DataFrame([]) #Empty DataFrame\n",
        "\n",
        "#required data\n",
        "data['S_H'] = find_chain_length(list(df['Fuel']))\n",
        "data['T(K)'] = df['T(K)']\n",
        "data['P(atm)'] = df['P(atm)']\n",
        "data['Fuel(%)'] = df['Fuel(%)']\n",
        "data['Oxidizer(%)'] = df['Oxidizer(%)']\n",
        "data['Diluant(%)'] = df['Diluant(%)']\n",
        "data['Equv(phi)'] = df['Equv(phi)']\n",
        "data['Time(μs)'] = df['Time(μs)']\n",
        "print(data)"
      ],
      "execution_count": 127,
      "outputs": [
        {
          "output_type": "stream",
          "text": [
            "      S_H  T(K)  P(atm)  Fuel(%)  Oxidizer(%)  Diluant(%)  Equv(phi)  Time(μs)\n",
            "0    12.0  1325   1.950     0.32         4.00       95.68        1.0       859\n",
            "1    12.0  1265   2.050     0.32         4.00       95.68        1.0      1569\n",
            "2    12.0  1289   2.010     0.32         4.00       95.68        1.0      1198\n",
            "3    12.0  1385   1.960     0.32         4.00       95.68        1.0       390\n",
            "4    12.0  1455   1.870     0.32         4.00       95.68        1.0       166\n",
            "..    ...   ...     ...      ...          ...         ...        ...       ...\n",
            "444  10.0  1378   2.326     0.03         0.33       99.64        1.0      1330\n",
            "445  10.0  1494   2.155     0.03         0.33       99.64        1.0      1330\n",
            "446  10.0  1494   2.155     0.03         0.33       99.64        1.0       308\n",
            "447  10.0  1502   2.262     0.03         0.33       99.64        1.0       280\n",
            "448  10.0  1506   2.360     0.03         0.33       99.64        1.0       189\n",
            "\n",
            "[449 rows x 8 columns]\n"
          ],
          "name": "stdout"
        }
      ]
    },
    {
      "cell_type": "markdown",
      "metadata": {
        "id": "NPPpqZzgkMEp",
        "colab_type": "text"
      },
      "source": [
        "# Conversion of data into the log or other form to frame the corelation "
      ]
    },
    {
      "cell_type": "code",
      "metadata": {
        "id": "K6owi42lVcIU",
        "colab_type": "code",
        "colab": {
          "base_uri": "https://localhost:8080/",
          "height": 71
        },
        "outputId": "895d7355-8d4a-440c-d5c7-14c66adcafc5"
      },
      "source": [
        "converted_data  = pd.DataFrame([]) #Empty DataFrame\n",
        "T_0 = 1000\n",
        "# conversion of parameters for the equation \n",
        "converted_data['const'] = np.ones(df.shape[0])\n",
        "converted_data['T0/T'] = T_0 / df['T(K)'] \n",
        "# converted_data['1/S_H'] = 1/find_chain_length(list(df['Fuel']))\n",
        "converted_data['T0/T*S_H'] = converted_data['T0/T']/find_chain_length(list(df['Fuel']))\n",
        "# converted_data['log_T'] = np.log(df['T(K)'])\n",
        "# converted_data['log_T'] = np.log(df['T(K)'])\n",
        "converted_data['log_P'] = np.log(df['P(atm)'])\n",
        "converted_data['log_Fuel'] = np.log(df['Fuel(%)'])\n",
        "converted_data['log_oxi'] = np.log(df['Oxidizer(%)'])\n",
        "# converted_data['log_Dilu'] = np.log(df['Diluant(%)'])\n",
        "# converted_data['log_Equi'] = np.log(df['Equv(phi)'])\n",
        "converted_data['log_Time'] = np.log(df['Time(μs)'])\n",
        "converted_data.columns"
      ],
      "execution_count": 128,
      "outputs": [
        {
          "output_type": "execute_result",
          "data": {
            "text/plain": [
              "Index(['const', 'T0/T', 'T0/T*S_H', 'log_P', 'log_Fuel', 'log_oxi',\n",
              "       'log_Time'],\n",
              "      dtype='object')"
            ]
          },
          "metadata": {
            "tags": []
          },
          "execution_count": 128
        }
      ]
    },
    {
      "cell_type": "markdown",
      "metadata": {
        "id": "61oDlwtokfaD",
        "colab_type": "text"
      },
      "source": [
        "#Defining matrix X and actual result y - ($\\log \\tau$)"
      ]
    },
    {
      "cell_type": "code",
      "metadata": {
        "id": "JsVJe2YmjJ4T",
        "colab_type": "code",
        "colab": {
          "base_uri": "https://localhost:8080/",
          "height": 231
        },
        "outputId": "ec0dcf3d-0bc9-4185-f063-0a452f8e5069"
      },
      "source": [
        "#defi\n",
        "X = converted_data.iloc[:,:-1]\n",
        "y =  converted_data.iloc[:,-1]\n",
        "print(y)"
      ],
      "execution_count": 129,
      "outputs": [
        {
          "output_type": "stream",
          "text": [
            "0      6.755769\n",
            "1      7.358194\n",
            "2      7.088409\n",
            "3      5.966147\n",
            "4      5.111988\n",
            "         ...   \n",
            "444    7.192934\n",
            "445    7.192934\n",
            "446    5.730100\n",
            "447    5.634790\n",
            "448    5.241747\n",
            "Name: log_Time, Length: 449, dtype: float64\n"
          ],
          "name": "stdout"
        }
      ]
    },
    {
      "cell_type": "markdown",
      "metadata": {
        "id": "2bSh32bRDv44",
        "colab_type": "text"
      },
      "source": [
        "#Scaling"
      ]
    },
    {
      "cell_type": "code",
      "metadata": {
        "id": "z15g5HWoBlGe",
        "colab_type": "code",
        "colab": {}
      },
      "source": [
        "# from sklearn.preprocessing import StandardScaler\n",
        "# scaler = StandardScaler().fit(X)\n",
        "# X = scaler.transform(X)\n",
        "# print(X)"
      ],
      "execution_count": 0,
      "outputs": []
    },
    {
      "cell_type": "code",
      "metadata": {
        "id": "BDSCh2FYfwQ0",
        "colab_type": "code",
        "colab": {
          "base_uri": "https://localhost:8080/",
          "height": 267
        },
        "outputId": "d5fbab71-bbed-4d04-a01c-288c090c481b"
      },
      "source": [
        "from sklearn.model_selection import train_test_split\n",
        "X_train, X_test, y_train, y_test = train_test_split(X, y, test_size=0.3, random_state=42)\n",
        "print(X_train)"
      ],
      "execution_count": 131,
      "outputs": [
        {
          "output_type": "stream",
          "text": [
            "     const      T0/T  T0/T*S_H     log_P  log_Fuel   log_oxi\n",
            "227    1.0  0.953289  0.047664  1.750937 -0.556172  3.044522\n",
            "419    1.0  0.698812  0.069881  1.742219 -0.916291  1.481605\n",
            "118    1.0  0.966184  0.483092  3.990834 -0.223144  2.079442\n",
            "114    1.0  0.909091  0.454545  4.157319 -0.223144  2.079442\n",
            "168    1.0  0.638162  0.319081  1.465568  0.470004  1.974081\n",
            "..     ...       ...       ...       ...       ...       ...\n",
            "106    1.0  1.004016  0.502008  4.001864 -0.223144  2.079442\n",
            "270    1.0  0.828500  0.059179  2.720637 -0.916291  1.386294\n",
            "348    1.0  0.680272  0.042517  0.207014 -1.609438  1.131402\n",
            "435    1.0  0.684463  0.068446  0.512824 -2.995732 -0.597837\n",
            "102    1.0  0.914913  0.457457  4.014580 -0.223144  2.079442\n",
            "\n",
            "[314 rows x 6 columns]\n"
          ],
          "name": "stdout"
        }
      ]
    },
    {
      "cell_type": "markdown",
      "metadata": {
        "id": "vRQYwCZ8roBb",
        "colab_type": "text"
      },
      "source": [
        "#Regression\n",
        "To solve $X\\beta= y$\n",
        "\n",
        "$X^TX \\beta= X^Ty$\n",
        "\n",
        "Now decomposing matrix using QR decomposition \\\n",
        "taking, $X = QR$\n",
        "\n",
        "$(QR)^T(QR) \\beta= (QR)^Ty$\n",
        "\n",
        "$( R^T Q^T Q R) \\beta= (QR)^Ty$\n",
        "\n",
        "$( R^T R) \\beta= R^T Q^Ty$\n",
        "\n",
        "$ (R^T)^{-1} R^T R \\beta=  Q^Ty$\n",
        "\n",
        "$ R \\beta=  Q^Ty$\n",
        "\n",
        "$ R \\beta=  z$\n",
        "\n",
        "As R is upper triangular which can be solved by back substituion.\n",
        "\n",
        "Check : https://adrianstoll.com/linear-algebra/least-squares.html\n"
      ]
    },
    {
      "cell_type": "code",
      "metadata": {
        "id": "W7tKmmGBjF_V",
        "colab_type": "code",
        "colab": {
          "base_uri": "https://localhost:8080/",
          "height": 160
        },
        "outputId": "fbdcf4c7-73b8-4d28-c691-58ad78d2e223"
      },
      "source": [
        "#Find parameters by regression using least-square formula (XT X)^-1 XT \n",
        "import scipy as sp\n",
        "\n",
        "def back_substitution(A,b):\n",
        "  '''\n",
        "  This method will de backsubstitution\n",
        "  '''\n",
        "  n = A.shape[1] #no_of_par\n",
        "  print(n)\n",
        "  x = np.zeros(A.shape[1]) #weights = no of parameter = colm\n",
        "  #last elements\n",
        "  for i in range(n-1, -1, -1):\n",
        "      for j in range (i, n, 1):\n",
        "          b[i] -= A[i, j]*x[j]\n",
        "      x[i] = b[i] / A[i,i]\n",
        "  return x\n",
        "\n",
        "def regression(X,y):\n",
        "  '''\n",
        "  This method will best fit using QR factorization\n",
        "  '''\n",
        "  if(X.shape[1] < X.shape[0]):\n",
        "    '''\n",
        "    solving overdetermined system\n",
        "    '''\n",
        "    Q,R = sp.linalg.qr(X)\n",
        "    #solve \n",
        "    z = np.matmul(np.transpose(Q),y)\n",
        "    #back-substitution\n",
        "    beta = back_substitution(R,z)\n",
        "    return beta\n",
        "  else:\n",
        "    exit()\n",
        "\n",
        "\n",
        "# #test-1\n",
        "# M = np.matrix([[1,-1,2],[0,-1,-2],[0,0,-6],[9,1,2],[7,4,1]])\n",
        "# c = np.array([2,5,3,8,3])\n",
        "# #ans : [ 1.27408155 -1.53528339 -0.61609186]\n",
        "\n",
        "# #test-2\n",
        "# #test-1\n",
        "# M = np.matrix([[1,-1,2],[0,-1,-2],[0,0,-6],[9,1,2],[7,4,1]])\n",
        "# c = np.array([2,5,3,3,3])\n",
        "# #ans : [ 1.27408155 -1.53528339 -0.61609186]\n",
        "\n",
        "# coef = regression(M,c)\n",
        "# print(coef)\n",
        "coef = regression(X_train,y_train)\n",
        "\n",
        "#Coefficent table \n",
        "coef_result = pd.DataFrame([])\n",
        "coef_result['para_coef'] = X.columns\n",
        "coef_result['coef'] = coef\n",
        "print(coef_result)\n"
      ],
      "execution_count": 132,
      "outputs": [
        {
          "output_type": "stream",
          "text": [
            "6\n",
            "  para_coef       coef\n",
            "0     const  -2.830145\n",
            "1      T0/T  12.291421\n",
            "2  T0/T*S_H   3.659769\n",
            "3     log_P  -0.549135\n",
            "4  log_Fuel  -0.151672\n",
            "5   log_oxi  -0.270715\n"
          ],
          "name": "stdout"
        }
      ]
    },
    {
      "cell_type": "markdown",
      "metadata": {
        "id": "F4WERSx2LYK7",
        "colab_type": "text"
      },
      "source": [
        "#If\n",
        "The functional form is,\n",
        "\n",
        "$\\log \\tau = \\beta_0 + \\beta_1  \\log{P} + \\beta_2 \\log{Fuel} + \\beta_3 \\log{Oxi} + \\beta_4 \\frac{T_0}{T} + \\beta_5 \\frac{T_0}{T*S_H}$\n",
        "\n",
        "\n",
        "$\\tau = exp(\\beta_0')  {P}^{\\beta_1}  {Fuel}^{\\beta_2}   {Oxi}^{\\beta_3} \\exp\\bigg(\\beta_4 \\frac{T_0}{T} + \\beta_5 \\frac{T_0}{T*S_H}\\bigg)$\n",
        "\n",
        "$\\tau = \\beta_0'  {P}^{\\beta_1}  {Fuel}^{\\beta_2}   {Oxi}^{\\beta_3} \\exp\\bigg(\\beta_4 \\frac{T_0}{T} + \\beta_5 \\frac{T_0}{T*S_H}\\bigg)$\n"
      ]
    },
    {
      "cell_type": "markdown",
      "metadata": {
        "id": "4SmYEp7VzJ1V",
        "colab_type": "text"
      },
      "source": [
        "#Prediction:\n"
      ]
    },
    {
      "cell_type": "code",
      "metadata": {
        "id": "1s9eVQmTzGnT",
        "colab_type": "code",
        "colab": {
          "base_uri": "https://localhost:8080/",
          "height": 231
        },
        "outputId": "3d14536d-6774-4e6e-9935-c5e0aade3752"
      },
      "source": [
        "y_hat_train = X_train.dot(coef)\n",
        "print(y_hat_train)"
      ],
      "execution_count": 133,
      "outputs": [
        {
          "output_type": "stream",
          "text": [
            "227    7.360228\n",
            "419    4.796167\n",
            "118    8.093032\n",
            "114    7.195387\n",
            "168    4.771043\n",
            "         ...   \n",
            "106    8.621220\n",
            "270    5.839572\n",
            "348    5.511109\n",
            "435    6.167975\n",
            "102    7.355987\n",
            "Length: 314, dtype: float64\n"
          ],
          "name": "stdout"
        }
      ]
    },
    {
      "cell_type": "markdown",
      "metadata": {
        "id": "ZNGtW4lOJaV6",
        "colab_type": "text"
      },
      "source": [
        "#Comparision $Y_{predicted}$  vs $Y_{actual}$\n"
      ]
    },
    {
      "cell_type": "code",
      "metadata": {
        "id": "DlrVU7qNJZu-",
        "colab_type": "code",
        "colab": {
          "base_uri": "https://localhost:8080/",
          "height": 530
        },
        "outputId": "fb8d16df-701f-4a8e-9ba1-7fe1f116b3b9"
      },
      "source": [
        "compare = pd.DataFrame([])\n",
        "compare['y_act'] = y_hat_train\n",
        "compare['y_pred'] = y_train\n",
        "ax = compare.plot.scatter(x='y_act', y='y_pred', rot=0)\n",
        "print(compare)"
      ],
      "execution_count": 134,
      "outputs": [
        {
          "output_type": "stream",
          "text": [
            "        y_act    y_pred\n",
            "227  7.360228  7.855932\n",
            "419  4.796167  4.787492\n",
            "118  8.093032  7.867106\n",
            "114  7.195387  6.813445\n",
            "168  4.771043  4.454347\n",
            "..        ...       ...\n",
            "106  8.621220  7.904704\n",
            "270  5.839572  5.723585\n",
            "348  5.511109  5.192957\n",
            "435  6.167975  5.902633\n",
            "102  7.355987  6.907755\n",
            "\n",
            "[314 rows x 2 columns]\n"
          ],
          "name": "stdout"
        },
        {
          "output_type": "display_data",
          "data": {
            "image/png": "[encoded data removed]",
            "text/plain": [
              "<Figure size 432x288 with 1 Axes>"
            ]
          },
          "metadata": {
            "tags": []
          }
        }
      ]
    },
    {
      "cell_type": "markdown",
      "metadata": {
        "id": "1bQmovWBIXau",
        "colab_type": "text"
      },
      "source": [
        "#Maximum Relative Error in Training\n",
        "\n"
      ]
    },
    {
      "cell_type": "code",
      "metadata": {
        "id": "KcmtvloiIWbD",
        "colab_type": "code",
        "colab": {
          "base_uri": "https://localhost:8080/",
          "height": 35
        },
        "outputId": "b5157344-b146-4dfa-a80b-6ce0433f9cd4"
      },
      "source": [
        "max_relative_error = np.max(np.abs(y_train - y_hat)/y_train)\n",
        "print(max_relative_error)"
      ],
      "execution_count": 135,
      "outputs": [
        {
          "output_type": "stream",
          "text": [
            "0.412440573720333\n"
          ],
          "name": "stdout"
        }
      ]
    },
    {
      "cell_type": "markdown",
      "metadata": {
        "id": "k4YZfxGMOXDG",
        "colab_type": "text"
      },
      "source": [
        "#Testing set\n"
      ]
    },
    {
      "cell_type": "code",
      "metadata": {
        "id": "VfsQ-69bOzIM",
        "colab_type": "code",
        "colab": {
          "base_uri": "https://localhost:8080/",
          "height": 548
        },
        "outputId": "639a31fc-a6f9-4f57-e281-76f67107a453"
      },
      "source": [
        "y_hat_test = X_test.dot(coef)\n",
        "\n",
        "#testing compare\n",
        "compare = pd.DataFrame([])\n",
        "compare['y_act'] = y_hat_test\n",
        "compare['y_pred'] = y_test\n",
        "ax = compare.plot.scatter(x='y_act', y='y_pred', rot=0)\n",
        "print(compare)\n",
        "\n",
        "#maximum value in y_predicted\n",
        "max_val = np.max(compare['y_pred'])\n",
        "print(max_val)"
      ],
      "execution_count": 136,
      "outputs": [
        {
          "output_type": "stream",
          "text": [
            "        y_act    y_pred\n",
            "285  7.376065  7.201171\n",
            "296  6.503962  7.498316\n",
            "117  7.864427  7.605890\n",
            "347  5.041748  3.688879\n",
            "70   7.458495  7.265430\n",
            "..        ...       ...\n",
            "131  6.148735  6.950815\n",
            "26   6.548200  6.040255\n",
            "7    5.360869  5.652489\n",
            "408  5.103302  5.241747\n",
            "108  8.853703  8.089482\n",
            "\n",
            "[135 rows x 2 columns]\n",
            "9.963170554697301\n"
          ],
          "name": "stdout"
        },
        {
          "output_type": "display_data",
          "data": {
            "image/png": "[encoded data removed]",
            "text/plain": [
              "<Figure size 432x288 with 1 Axes>"
            ]
          },
          "metadata": {
            "tags": []
          }
        }
      ]
    },
    {
      "cell_type": "markdown",
      "metadata": {
        "id": "mkl3Y6RnPtVA",
        "colab_type": "text"
      },
      "source": [
        "#Maximum Relative Error Testing"
      ]
    },
    {
      "cell_type": "code",
      "metadata": {
        "id": "9gjtvbj-Psvh",
        "colab_type": "code",
        "colab": {
          "base_uri": "https://localhost:8080/",
          "height": 53
        },
        "outputId": "5c2533da-88d5-4070-c676-086938885875"
      },
      "source": [
        "#Maximum Relative Error in Training\n",
        "max_absolute = np.max(np.abs(y_test - y_hat_test))\n",
        "print(max_absolute)\n",
        "max_relative_error_test = np.max(np.abs(y_test - y_hat_test)/y_test)\n",
        "print(max_relative_error)\n"
      ],
      "execution_count": 137,
      "outputs": [
        {
          "output_type": "stream",
          "text": [
            "2.2305895560013926\n",
            "0.412440573720333\n"
          ],
          "name": "stdout"
        }
      ]
    },
    {
      "cell_type": "markdown",
      "metadata": {
        "id": "pquMF3qQ0FVP",
        "colab_type": "text"
      },
      "source": [
        "#Error row wise\n"
      ]
    },
    {
      "cell_type": "code",
      "metadata": {
        "id": "GeKZvmu6zxlH",
        "colab_type": "code",
        "colab": {}
      },
      "source": [
        "error = np.abs(y_hat - y_train )"
      ],
      "execution_count": 0,
      "outputs": []
    },
    {
      "cell_type": "markdown",
      "metadata": {
        "id": "5SyC1N8HzB9s",
        "colab_type": "text"
      },
      "source": [
        "#Error Based clustering"
      ]
    }
  ]
}