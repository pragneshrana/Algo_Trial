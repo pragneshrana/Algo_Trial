{
  "nbformat": 4,
  "nbformat_minor": 0,
  "metadata": {
    "colab": {
      "name": "Fuel_Reg.ipynb",
      "provenance": [],
      "collapsed_sections": [],
      "authorship_tag": "ABX9TyMmxTiZWlGXWgVif80x68Cl",
      "include_colab_link": true
    },
    "kernelspec": {
      "name": "python3",
      "display_name": "Python 3"
    }
  },
  "cells": [
    {
      "cell_type": "markdown",
      "metadata": {
        "id": "view-in-github",
        "colab_type": "text"
      },
      "source": [
        "<a href=\"https://colab.research.google.com/github/pragneshrana/Algo_Trial/blob/master/Fuel_Reg.ipynb\" target=\"_parent\"><img src=\"https://colab.research.google.com/assets/colab-badge.svg\" alt=\"Open In Colab\"/></a>"
      ]
    },
    {
      "cell_type": "markdown",
      "metadata": {
        "id": "rhMVxmoajwAc",
        "colab_type": "text"
      },
      "source": [
        "#Calling libraries  and dataset "
      ]
    },
    {
      "cell_type": "code",
      "metadata": {
        "id": "_8Rl89s0R29e",
        "colab_type": "code",
        "colab": {
          "base_uri": "https://localhost:8080/",
          "height": 374
        },
        "outputId": "8f887a08-9907-427b-891d-658698b4ff8b"
      },
      "source": [
        "#loaded data\n",
        "import pandas as pd\n",
        "url = 'https://raw.githubusercontent.com/sivaramambikasaran/Data_driven_Kinetics/master/data/Alkane_Dataset_full_stanford_AR.csv?token=AINCVGUITKDVFRUDJQI7RZS6HP64A'\n",
        "df = pd.read_csv(url)# Dataset is now stored in a Pandas Dataframe\n",
        "print(df.columns)\n",
        "# df = df.loc[:10,:]\n",
        "print(df)"
      ],
      "execution_count": 1,
      "outputs": [
        {
          "output_type": "stream",
          "text": [
            "Index(['Fuel', 'T(K)', 'T_Error(%)', 'P(atm)', 'P_Error(%)', 'Fuel(%)',\n",
            "       'Oxidizer(%)', 'Diluant(%)', 'Equv(phi)', 'Diluant Type', 'Time(μs)',\n",
            "       'Mode_of_measurement', 'Species_name', 'Species_measurement_Error',\n",
            "       'Measured_wavelength(nm)', 'Shocktube_dia(cm)', 'Research_group',\n",
            "       'Data_Source'],\n",
            "      dtype='object')\n",
            "         Fuel  ...                                        Data_Source\n",
            "0    CCCCCCCC  ...  Lam_2013_thesis / Normal_Alkanes_and_Simple_Ox...\n",
            "1    CCCCCCCC  ...  Lam_2013_thesis / Normal_Alkanes_and_Simple_Ox...\n",
            "2    CCCCCCCC  ...  Lam_2013_thesis / Normal_Alkanes_and_Simple_Ox...\n",
            "3    CCCCCCCC  ...  Lam_2013_thesis / Normal_Alkanes_and_Simple_Ox...\n",
            "4    CCCCCCCC  ...  Lam_2013_thesis / Normal_Alkanes_and_Simple_Ox...\n",
            "..        ...  ...                                                ...\n",
            "444   CCCCCCC  ...                                n_heptane_oxidation\n",
            "445   CCCCCCC  ...                                n_heptane_oxidation\n",
            "446   CCCCCCC  ...                                n_heptane_oxidation\n",
            "447   CCCCCCC  ...                                n_heptane_oxidation\n",
            "448   CCCCCCC  ...                                n_heptane_oxidation\n",
            "\n",
            "[449 rows x 18 columns]\n"
          ],
          "name": "stdout"
        }
      ]
    },
    {
      "cell_type": "code",
      "metadata": {
        "id": "rGefEnGqVjjq",
        "colab_type": "code",
        "colab": {
          "base_uri": "https://localhost:8080/",
          "height": 231
        },
        "outputId": "cf88f852-df2b-438c-9b2a-38ac6c4d8082"
      },
      "source": [
        "print(df['Fuel'] )"
      ],
      "execution_count": 2,
      "outputs": [
        {
          "output_type": "stream",
          "text": [
            "0      CCCCCCCC\n",
            "1      CCCCCCCC\n",
            "2      CCCCCCCC\n",
            "3      CCCCCCCC\n",
            "4      CCCCCCCC\n",
            "         ...   \n",
            "444     CCCCCCC\n",
            "445     CCCCCCC\n",
            "446     CCCCCCC\n",
            "447     CCCCCCC\n",
            "448     CCCCCCC\n",
            "Name: Fuel, Length: 449, dtype: object\n"
          ],
          "name": "stdout"
        }
      ]
    },
    {
      "cell_type": "markdown",
      "metadata": {
        "id": "saSYAaq7j88J",
        "colab_type": "text"
      },
      "source": [
        "#Fucntion for finding the S_H bonds"
      ]
    },
    {
      "cell_type": "code",
      "metadata": {
        "id": "Hb0wzPRNW_h0",
        "colab_type": "code",
        "colab": {}
      },
      "source": [
        "def find_chain_length(fuel_data):\n",
        "  '''\n",
        "  This method will return the number of double bonds in the alkanes\n",
        "  Input: list of fuel\n",
        "  output : fuel S_H bond array \n",
        "  '''\n",
        "  S_H = np.zeros(len(fuel_data))\n",
        "  #number bonds in the alkanes are (2n-2) for C>3 (S_H)\n",
        "  for i in range(len(fuel_data)):\n",
        "    S_H_count = len(fuel_data[i]) #count by fuel length\n",
        "    S_H[i] = S_H_count\n",
        "  return S_H\n",
        "\n",
        "# #check fucntion\n",
        "# print(find_chain_length(['CCC','CCCC']))\n"
      ],
      "execution_count": 0,
      "outputs": []
    },
    {
      "cell_type": "markdown",
      "metadata": {
        "id": "OU_hPPoKkE3c",
        "colab_type": "text"
      },
      "source": [
        "#Required column from data"
      ]
    },
    {
      "cell_type": "code",
      "metadata": {
        "id": "KyFtUhAUSn7u",
        "colab_type": "code",
        "colab": {
          "base_uri": "https://localhost:8080/",
          "height": 267
        },
        "outputId": "368ff4e1-161e-4a66-9f39-32eb665bd45b"
      },
      "source": [
        "#calling library\n",
        "import pandas as pd\n",
        "import numpy as np\n",
        "\n",
        "data = pd.DataFrame([]) #Empty DataFrame\n",
        "\n",
        "#required data\n",
        "data['S_H'] = find_chain_length(list(df['Fuel']))\n",
        "data['T(K)'] = df['T(K)']\n",
        "data['P(atm)'] = df['P(atm)']\n",
        "data['Fuel(%)'] = df['Fuel(%)']\n",
        "data['Oxidizer(%)'] = df['Oxidizer(%)']\n",
        "data['Diluant(%)'] = df['Diluant(%)']\n",
        "data['Equv(phi)'] = df['Equv(phi)']\n",
        "data['Time(μs)'] = df['Time(μs)']\n",
        "print(data)"
      ],
      "execution_count": 39,
      "outputs": [
        {
          "output_type": "stream",
          "text": [
            "     S_H  T(K)  P(atm)  Fuel(%)  Oxidizer(%)  Diluant(%)  Equv(phi)  Time(μs)\n",
            "0    8.0  1325   1.950     0.32         4.00       95.68        1.0       859\n",
            "1    8.0  1265   2.050     0.32         4.00       95.68        1.0      1569\n",
            "2    8.0  1289   2.010     0.32         4.00       95.68        1.0      1198\n",
            "3    8.0  1385   1.960     0.32         4.00       95.68        1.0       390\n",
            "4    8.0  1455   1.870     0.32         4.00       95.68        1.0       166\n",
            "..   ...   ...     ...      ...          ...         ...        ...       ...\n",
            "444  7.0  1378   2.326     0.03         0.33       99.64        1.0      1330\n",
            "445  7.0  1494   2.155     0.03         0.33       99.64        1.0      1330\n",
            "446  7.0  1494   2.155     0.03         0.33       99.64        1.0       308\n",
            "447  7.0  1502   2.262     0.03         0.33       99.64        1.0       280\n",
            "448  7.0  1506   2.360     0.03         0.33       99.64        1.0       189\n",
            "\n",
            "[449 rows x 8 columns]\n"
          ],
          "name": "stdout"
        }
      ]
    },
    {
      "cell_type": "markdown",
      "metadata": {
        "id": "NPPpqZzgkMEp",
        "colab_type": "text"
      },
      "source": [
        "# Conversion of data into the log or other form as per requirement to frame equation"
      ]
    },
    {
      "cell_type": "code",
      "metadata": {
        "id": "K6owi42lVcIU",
        "colab_type": "code",
        "colab": {
          "base_uri": "https://localhost:8080/",
          "height": 71
        },
        "outputId": "b8071e9b-0afd-4b20-dde9-aca1d76b7adf"
      },
      "source": [
        "converted_data  = pd.DataFrame([]) #Empty DataFrame\n",
        "T_0 = 1000\n",
        "# conversion of parameters for the equation \n",
        "converted_data['const'] = np.ones(df.shape[0])\n",
        "converted_data['T0/T'] = T_0 / df['T(K)'] \n",
        "# converted_data['1/S_H'] = 1/find_chain_length(list(df['Fuel']))\n",
        "converted_data['T0/T*S_H'] = converted_data['T0/T']/find_chain_length(list(df['Fuel']))\n",
        "# converted_data['log_T'] = np.log(df['T(K)'])\n",
        "# converted_data['log_T'] = np.log(df['T(K)'])\n",
        "converted_data['log_P'] = np.log(df['P(atm)'])\n",
        "converted_data['log_Fuel'] = np.log(df['Fuel(%)'])\n",
        "converted_data['log_oxi'] = np.log(df['Oxidizer(%)'])\n",
        "# converted_data['log_Dilu'] = np.log(df['Diluant(%)'])\n",
        "# converted_data['log_Equi'] = np.log(df['Equv(phi)'])\n",
        "converted_data['log_Time'] = np.log(df['Time(μs)'])\n",
        "converted_data.columns"
      ],
      "execution_count": 80,
      "outputs": [
        {
          "output_type": "execute_result",
          "data": {
            "text/plain": [
              "Index(['const', 'T0/T', 'T0/T*S_H', 'log_P', 'log_Fuel', 'log_oxi',\n",
              "       'log_Time'],\n",
              "      dtype='object')"
            ]
          },
          "metadata": {
            "tags": []
          },
          "execution_count": 80
        }
      ]
    },
    {
      "cell_type": "markdown",
      "metadata": {
        "id": "61oDlwtokfaD",
        "colab_type": "text"
      },
      "source": [
        "#Mathematical operations"
      ]
    },
    {
      "cell_type": "code",
      "metadata": {
        "id": "JsVJe2YmjJ4T",
        "colab_type": "code",
        "colab": {
          "base_uri": "https://localhost:8080/",
          "height": 231
        },
        "outputId": "509d1230-bb0a-4352-ac4e-906570631ce3"
      },
      "source": [
        "#Matrix and vector \n",
        "X = converted_data.iloc[:,:-1]\n",
        "y =  converted_data.iloc[:,-1]\n",
        "print(y)"
      ],
      "execution_count": 81,
      "outputs": [
        {
          "output_type": "stream",
          "text": [
            "0      6.755769\n",
            "1      7.358194\n",
            "2      7.088409\n",
            "3      5.966147\n",
            "4      5.111988\n",
            "         ...   \n",
            "444    7.192934\n",
            "445    7.192934\n",
            "446    5.730100\n",
            "447    5.634790\n",
            "448    5.241747\n",
            "Name: log_Time, Length: 449, dtype: float64\n"
          ],
          "name": "stdout"
        }
      ]
    },
    {
      "cell_type": "markdown",
      "metadata": {
        "id": "2bSh32bRDv44",
        "colab_type": "text"
      },
      "source": [
        "#Scaling"
      ]
    },
    {
      "cell_type": "code",
      "metadata": {
        "id": "z15g5HWoBlGe",
        "colab_type": "code",
        "colab": {}
      },
      "source": [
        "# from sklearn.preprocessing import StandardScaler\n",
        "# scaler = StandardScaler().fit(X)\n",
        "# X = scaler.transform(X)\n",
        "# print(X)"
      ],
      "execution_count": 0,
      "outputs": []
    },
    {
      "cell_type": "code",
      "metadata": {
        "id": "BDSCh2FYfwQ0",
        "colab_type": "code",
        "colab": {
          "base_uri": "https://localhost:8080/",
          "height": 267
        },
        "outputId": "24ffe1c4-d284-41ab-81d7-09fb4b05f207"
      },
      "source": [
        "from sklearn.model_selection import train_test_split\n",
        "X_train, X_test, y_train, y_test = train_test_split(X, y, test_size=0.3, random_state=42)\n",
        "print(X_train)"
      ],
      "execution_count": 83,
      "outputs": [
        {
          "output_type": "stream",
          "text": [
            "     const      T0/T  T0/T*S_H     log_P  log_Fuel   log_oxi\n",
            "227    1.0  0.953289  0.079441  1.750937 -0.556172  3.044522\n",
            "419    1.0  0.698812  0.099830  1.742219 -0.916291  1.481605\n",
            "118    1.0  0.966184  0.322061  3.990834 -0.223144  2.079442\n",
            "114    1.0  0.909091  0.303030  4.157319 -0.223144  2.079442\n",
            "168    1.0  0.638162  0.212721  1.465568  0.470004  1.974081\n",
            "..     ...       ...       ...       ...       ...       ...\n",
            "106    1.0  1.004016  0.334672  4.001864 -0.223144  2.079442\n",
            "270    1.0  0.828500  0.092056  2.720637 -0.916291  1.386294\n",
            "348    1.0  0.680272  0.068027  0.207014 -1.609438  1.131402\n",
            "435    1.0  0.684463  0.097780  0.512824 -2.995732 -0.597837\n",
            "102    1.0  0.914913  0.304971  4.014580 -0.223144  2.079442\n",
            "\n",
            "[314 rows x 6 columns]\n"
          ],
          "name": "stdout"
        }
      ]
    },
    {
      "cell_type": "markdown",
      "metadata": {
        "id": "vRQYwCZ8roBb",
        "colab_type": "text"
      },
      "source": [
        "#Regression\n",
        "To solve $X\\beta= y$\n",
        "\n",
        "$X^TX \\beta= X^Ty$\n",
        "\n",
        "Now decomposing matrix using QR decomposition \\\n",
        "taking, $X = QR$\n",
        "\n",
        "$(QR)^T(QR) \\beta= (QR)^Ty$\n",
        "\n",
        "$( R^T Q^T Q R) \\beta= (QR)^Ty$\n",
        "\n",
        "$( R^T R) \\beta= R^T Q^Ty$\n",
        "\n",
        "$ (R^T)^{-1} R^T R \\beta=  Q^Ty$\n",
        "\n",
        "$ R \\beta=  Q^Ty$\n",
        "\n",
        "$ R \\beta=  z$\n",
        "\n",
        "As R is upper triangular which can be solved by back substituion.\n",
        "\n",
        "Check : https://adrianstoll.com/linear-algebra/least-squares.html\n"
      ]
    },
    {
      "cell_type": "code",
      "metadata": {
        "id": "W7tKmmGBjF_V",
        "colab_type": "code",
        "colab": {
          "base_uri": "https://localhost:8080/",
          "height": 160
        },
        "outputId": "c7379ccd-d3ce-488b-c3e2-45f56503f8bb"
      },
      "source": [
        "#Find parameters by regression using least-square formula (XT X)^-1 XT \n",
        "import scipy as sp\n",
        "\n",
        "def back_substitution(A,b):\n",
        "  '''\n",
        "  This method will de backsubstitution\n",
        "  '''\n",
        "  n = A.shape[1] #no_of_par\n",
        "  print(n)\n",
        "  x = np.zeros(A.shape[1]) #weights = no of parameter = colm\n",
        "  #last elements\n",
        "  for i in range(n-1, -1, -1):\n",
        "      for j in range (i, n, 1):\n",
        "          b[i] -= A[i, j]*x[j]\n",
        "      x[i] = b[i] / A[i,i]\n",
        "  return x\n",
        "\n",
        "def regression(X,y):\n",
        "  '''\n",
        "  This method will best fit using QR factorization\n",
        "  '''\n",
        "  if(X.shape[1] < X.shape[0]):\n",
        "    '''\n",
        "    solving overdetermined system\n",
        "    '''\n",
        "    Q,R = sp.linalg.qr(X)\n",
        "    #solve \n",
        "    z = np.matmul(np.transpose(Q),y)\n",
        "    #back-substitution\n",
        "    beta = back_substitution(R,z)\n",
        "    return beta\n",
        "  else:\n",
        "    exit()\n",
        "\n",
        "\n",
        "# #test-1\n",
        "# M = np.matrix([[1,-1,2],[0,-1,-2],[0,0,-6],[9,1,2],[7,4,1]])\n",
        "# c = np.array([2,5,3,8,3])\n",
        "# #ans : [ 1.27408155 -1.53528339 -0.61609186]\n",
        "\n",
        "# #test-2\n",
        "# #test-1\n",
        "# M = np.matrix([[1,-1,2],[0,-1,-2],[0,0,-6],[9,1,2],[7,4,1]])\n",
        "# c = np.array([2,5,3,3,3])\n",
        "# #ans : [ 1.27408155 -1.53528339 -0.61609186]\n",
        "\n",
        "# coef = regression(M,c)\n",
        "# print(coef)\n",
        "\n",
        "coef = regression(X_train,y_train)\n",
        "\n",
        "#Coefficent table \n",
        "coef_result = pd.DataFrame([])\n",
        "coef_result['para_coef'] = X.columns\n",
        "coef_result['coef'] = coef\n",
        "print(coef_result)\n"
      ],
      "execution_count": 84,
      "outputs": [
        {
          "output_type": "stream",
          "text": [
            "6\n",
            "  para_coef       coef\n",
            "0     const  -3.117711\n",
            "1      T0/T  12.121189\n",
            "2  T0/T*S_H   6.408727\n",
            "3     log_P  -0.510916\n",
            "4  log_Fuel  -0.165012\n",
            "5   log_oxi  -0.259317\n"
          ],
          "name": "stdout"
        }
      ]
    },
    {
      "cell_type": "markdown",
      "metadata": {
        "id": "4SmYEp7VzJ1V",
        "colab_type": "text"
      },
      "source": [
        "#Prediction:\n"
      ]
    },
    {
      "cell_type": "code",
      "metadata": {
        "id": "1s9eVQmTzGnT",
        "colab_type": "code",
        "colab": {
          "base_uri": "https://localhost:8080/",
          "height": 445
        },
        "outputId": "10218f22-4014-4068-9861-2951b367f8e0"
      },
      "source": [
        "y_hat = np.matmul(X_train,coef)\n",
        "print(y_hat)"
      ],
      "execution_count": 55,
      "outputs": [
        {
          "output_type": "error",
          "ename": "ValueError",
          "evalue": "ignored",
          "traceback": [
            "\u001b[0;31m---------------------------------------------------------------------------\u001b[0m",
            "\u001b[0;31mValueError\u001b[0m                                Traceback (most recent call last)",
            "\u001b[0;32m/usr/local/lib/python3.6/dist-packages/pandas/core/internals/managers.py\u001b[0m in \u001b[0;36mcreate_block_manager_from_blocks\u001b[0;34m(blocks, axes)\u001b[0m\n\u001b[1;32m   1677\u001b[0m                 blocks = [\n\u001b[0;32m-> 1678\u001b[0;31m                     \u001b[0mmake_block\u001b[0m\u001b[0;34m(\u001b[0m\u001b[0mvalues\u001b[0m\u001b[0;34m=\u001b[0m\u001b[0mblocks\u001b[0m\u001b[0;34m[\u001b[0m\u001b[0;36m0\u001b[0m\u001b[0;34m]\u001b[0m\u001b[0;34m,\u001b[0m \u001b[0mplacement\u001b[0m\u001b[0;34m=\u001b[0m\u001b[0mslice\u001b[0m\u001b[0;34m(\u001b[0m\u001b[0;36m0\u001b[0m\u001b[0;34m,\u001b[0m \u001b[0mlen\u001b[0m\u001b[0;34m(\u001b[0m\u001b[0maxes\u001b[0m\u001b[0;34m[\u001b[0m\u001b[0;36m0\u001b[0m\u001b[0;34m]\u001b[0m\u001b[0;34m)\u001b[0m\u001b[0;34m)\u001b[0m\u001b[0;34m)\u001b[0m\u001b[0;34m\u001b[0m\u001b[0;34m\u001b[0m\u001b[0m\n\u001b[0m\u001b[1;32m   1679\u001b[0m                 ]\n",
            "\u001b[0;32m/usr/local/lib/python3.6/dist-packages/pandas/core/internals/blocks.py\u001b[0m in \u001b[0;36mmake_block\u001b[0;34m(values, placement, klass, ndim, dtype, fastpath)\u001b[0m\n\u001b[1;32m   3283\u001b[0m \u001b[0;34m\u001b[0m\u001b[0m\n\u001b[0;32m-> 3284\u001b[0;31m     \u001b[0;32mreturn\u001b[0m \u001b[0mklass\u001b[0m\u001b[0;34m(\u001b[0m\u001b[0mvalues\u001b[0m\u001b[0;34m,\u001b[0m \u001b[0mndim\u001b[0m\u001b[0;34m=\u001b[0m\u001b[0mndim\u001b[0m\u001b[0;34m,\u001b[0m \u001b[0mplacement\u001b[0m\u001b[0;34m=\u001b[0m\u001b[0mplacement\u001b[0m\u001b[0;34m)\u001b[0m\u001b[0;34m\u001b[0m\u001b[0;34m\u001b[0m\u001b[0m\n\u001b[0m\u001b[1;32m   3285\u001b[0m \u001b[0;34m\u001b[0m\u001b[0m\n",
            "\u001b[0;32m/usr/local/lib/python3.6/dist-packages/pandas/core/internals/blocks.py\u001b[0m in \u001b[0;36m__init__\u001b[0;34m(self, values, placement, ndim)\u001b[0m\n\u001b[1;32m    127\u001b[0m                 \u001b[0;34m\"Wrong number of items passed {val}, placement implies \"\u001b[0m\u001b[0;34m\u001b[0m\u001b[0;34m\u001b[0m\u001b[0m\n\u001b[0;32m--> 128\u001b[0;31m                 \u001b[0;34m\"{mgr}\"\u001b[0m\u001b[0;34m.\u001b[0m\u001b[0mformat\u001b[0m\u001b[0;34m(\u001b[0m\u001b[0mval\u001b[0m\u001b[0;34m=\u001b[0m\u001b[0mlen\u001b[0m\u001b[0;34m(\u001b[0m\u001b[0mself\u001b[0m\u001b[0;34m.\u001b[0m\u001b[0mvalues\u001b[0m\u001b[0;34m)\u001b[0m\u001b[0;34m,\u001b[0m \u001b[0mmgr\u001b[0m\u001b[0;34m=\u001b[0m\u001b[0mlen\u001b[0m\u001b[0;34m(\u001b[0m\u001b[0mself\u001b[0m\u001b[0;34m.\u001b[0m\u001b[0mmgr_locs\u001b[0m\u001b[0;34m)\u001b[0m\u001b[0;34m)\u001b[0m\u001b[0;34m\u001b[0m\u001b[0;34m\u001b[0m\u001b[0m\n\u001b[0m\u001b[1;32m    129\u001b[0m             )\n",
            "\u001b[0;31mValueError\u001b[0m: Wrong number of items passed 1, placement implies 6",
            "\nDuring handling of the above exception, another exception occurred:\n",
            "\u001b[0;31mValueError\u001b[0m                                Traceback (most recent call last)",
            "\u001b[0;32m<ipython-input-55-e676404d56d3>\u001b[0m in \u001b[0;36m<module>\u001b[0;34m()\u001b[0m\n\u001b[0;32m----> 1\u001b[0;31m \u001b[0my_hat\u001b[0m \u001b[0;34m=\u001b[0m \u001b[0mnp\u001b[0m\u001b[0;34m.\u001b[0m\u001b[0mmatmul\u001b[0m\u001b[0;34m(\u001b[0m\u001b[0mX_train\u001b[0m\u001b[0;34m,\u001b[0m\u001b[0mcoef\u001b[0m\u001b[0;34m)\u001b[0m\u001b[0;34m\u001b[0m\u001b[0;34m\u001b[0m\u001b[0m\n\u001b[0m\u001b[1;32m      2\u001b[0m \u001b[0mprint\u001b[0m\u001b[0;34m(\u001b[0m\u001b[0my_hat\u001b[0m\u001b[0;34m)\u001b[0m\u001b[0;34m\u001b[0m\u001b[0;34m\u001b[0m\u001b[0m\n",
            "\u001b[0;32m/usr/local/lib/python3.6/dist-packages/pandas/core/generic.py\u001b[0m in \u001b[0;36m__array_wrap__\u001b[0;34m(self, result, context)\u001b[0m\n\u001b[1;32m   1997\u001b[0m     \u001b[0;32mdef\u001b[0m \u001b[0m__array_wrap__\u001b[0m\u001b[0;34m(\u001b[0m\u001b[0mself\u001b[0m\u001b[0;34m,\u001b[0m \u001b[0mresult\u001b[0m\u001b[0;34m,\u001b[0m \u001b[0mcontext\u001b[0m\u001b[0;34m=\u001b[0m\u001b[0;32mNone\u001b[0m\u001b[0;34m)\u001b[0m\u001b[0;34m:\u001b[0m\u001b[0;34m\u001b[0m\u001b[0;34m\u001b[0m\u001b[0m\n\u001b[1;32m   1998\u001b[0m         \u001b[0md\u001b[0m \u001b[0;34m=\u001b[0m \u001b[0mself\u001b[0m\u001b[0;34m.\u001b[0m\u001b[0m_construct_axes_dict\u001b[0m\u001b[0;34m(\u001b[0m\u001b[0mself\u001b[0m\u001b[0;34m.\u001b[0m\u001b[0m_AXIS_ORDERS\u001b[0m\u001b[0;34m,\u001b[0m \u001b[0mcopy\u001b[0m\u001b[0;34m=\u001b[0m\u001b[0;32mFalse\u001b[0m\u001b[0;34m)\u001b[0m\u001b[0;34m\u001b[0m\u001b[0;34m\u001b[0m\u001b[0m\n\u001b[0;32m-> 1999\u001b[0;31m         \u001b[0;32mreturn\u001b[0m \u001b[0mself\u001b[0m\u001b[0;34m.\u001b[0m\u001b[0m_constructor\u001b[0m\u001b[0;34m(\u001b[0m\u001b[0mresult\u001b[0m\u001b[0;34m,\u001b[0m \u001b[0;34m**\u001b[0m\u001b[0md\u001b[0m\u001b[0;34m)\u001b[0m\u001b[0;34m.\u001b[0m\u001b[0m__finalize__\u001b[0m\u001b[0;34m(\u001b[0m\u001b[0mself\u001b[0m\u001b[0;34m)\u001b[0m\u001b[0;34m\u001b[0m\u001b[0;34m\u001b[0m\u001b[0m\n\u001b[0m\u001b[1;32m   2000\u001b[0m \u001b[0;34m\u001b[0m\u001b[0m\n\u001b[1;32m   2001\u001b[0m     \u001b[0;31m# ideally we would define this to avoid the getattr checks, but\u001b[0m\u001b[0;34m\u001b[0m\u001b[0;34m\u001b[0m\u001b[0;34m\u001b[0m\u001b[0m\n",
            "\u001b[0;32m/usr/local/lib/python3.6/dist-packages/pandas/core/frame.py\u001b[0m in \u001b[0;36m__init__\u001b[0;34m(self, data, index, columns, dtype, copy)\u001b[0m\n\u001b[1;32m    438\u001b[0m                 \u001b[0mmgr\u001b[0m \u001b[0;34m=\u001b[0m \u001b[0minit_dict\u001b[0m\u001b[0;34m(\u001b[0m\u001b[0;34m{\u001b[0m\u001b[0mdata\u001b[0m\u001b[0;34m.\u001b[0m\u001b[0mname\u001b[0m\u001b[0;34m:\u001b[0m \u001b[0mdata\u001b[0m\u001b[0;34m}\u001b[0m\u001b[0;34m,\u001b[0m \u001b[0mindex\u001b[0m\u001b[0;34m,\u001b[0m \u001b[0mcolumns\u001b[0m\u001b[0;34m,\u001b[0m \u001b[0mdtype\u001b[0m\u001b[0;34m=\u001b[0m\u001b[0mdtype\u001b[0m\u001b[0;34m)\u001b[0m\u001b[0;34m\u001b[0m\u001b[0;34m\u001b[0m\u001b[0m\n\u001b[1;32m    439\u001b[0m             \u001b[0;32melse\u001b[0m\u001b[0;34m:\u001b[0m\u001b[0;34m\u001b[0m\u001b[0;34m\u001b[0m\u001b[0m\n\u001b[0;32m--> 440\u001b[0;31m                 \u001b[0mmgr\u001b[0m \u001b[0;34m=\u001b[0m \u001b[0minit_ndarray\u001b[0m\u001b[0;34m(\u001b[0m\u001b[0mdata\u001b[0m\u001b[0;34m,\u001b[0m \u001b[0mindex\u001b[0m\u001b[0;34m,\u001b[0m \u001b[0mcolumns\u001b[0m\u001b[0;34m,\u001b[0m \u001b[0mdtype\u001b[0m\u001b[0;34m=\u001b[0m\u001b[0mdtype\u001b[0m\u001b[0;34m,\u001b[0m \u001b[0mcopy\u001b[0m\u001b[0;34m=\u001b[0m\u001b[0mcopy\u001b[0m\u001b[0;34m)\u001b[0m\u001b[0;34m\u001b[0m\u001b[0;34m\u001b[0m\u001b[0m\n\u001b[0m\u001b[1;32m    441\u001b[0m \u001b[0;34m\u001b[0m\u001b[0m\n\u001b[1;32m    442\u001b[0m         \u001b[0;31m# For data is list-like, or Iterable (will consume into list)\u001b[0m\u001b[0;34m\u001b[0m\u001b[0;34m\u001b[0m\u001b[0;34m\u001b[0m\u001b[0m\n",
            "\u001b[0;32m/usr/local/lib/python3.6/dist-packages/pandas/core/internals/construction.py\u001b[0m in \u001b[0;36minit_ndarray\u001b[0;34m(values, index, columns, dtype, copy)\u001b[0m\n\u001b[1;32m    211\u001b[0m         \u001b[0mblock_values\u001b[0m \u001b[0;34m=\u001b[0m \u001b[0;34m[\u001b[0m\u001b[0mvalues\u001b[0m\u001b[0;34m]\u001b[0m\u001b[0;34m\u001b[0m\u001b[0;34m\u001b[0m\u001b[0m\n\u001b[1;32m    212\u001b[0m \u001b[0;34m\u001b[0m\u001b[0m\n\u001b[0;32m--> 213\u001b[0;31m     \u001b[0;32mreturn\u001b[0m \u001b[0mcreate_block_manager_from_blocks\u001b[0m\u001b[0;34m(\u001b[0m\u001b[0mblock_values\u001b[0m\u001b[0;34m,\u001b[0m \u001b[0;34m[\u001b[0m\u001b[0mcolumns\u001b[0m\u001b[0;34m,\u001b[0m \u001b[0mindex\u001b[0m\u001b[0;34m]\u001b[0m\u001b[0;34m)\u001b[0m\u001b[0;34m\u001b[0m\u001b[0;34m\u001b[0m\u001b[0m\n\u001b[0m\u001b[1;32m    214\u001b[0m \u001b[0;34m\u001b[0m\u001b[0m\n\u001b[1;32m    215\u001b[0m \u001b[0;34m\u001b[0m\u001b[0m\n",
            "\u001b[0;32m/usr/local/lib/python3.6/dist-packages/pandas/core/internals/managers.py\u001b[0m in \u001b[0;36mcreate_block_manager_from_blocks\u001b[0;34m(blocks, axes)\u001b[0m\n\u001b[1;32m   1686\u001b[0m         \u001b[0mblocks\u001b[0m \u001b[0;34m=\u001b[0m \u001b[0;34m[\u001b[0m\u001b[0mgetattr\u001b[0m\u001b[0;34m(\u001b[0m\u001b[0mb\u001b[0m\u001b[0;34m,\u001b[0m \u001b[0;34m\"values\"\u001b[0m\u001b[0;34m,\u001b[0m \u001b[0mb\u001b[0m\u001b[0;34m)\u001b[0m \u001b[0;32mfor\u001b[0m \u001b[0mb\u001b[0m \u001b[0;32min\u001b[0m \u001b[0mblocks\u001b[0m\u001b[0;34m]\u001b[0m\u001b[0;34m\u001b[0m\u001b[0;34m\u001b[0m\u001b[0m\n\u001b[1;32m   1687\u001b[0m         \u001b[0mtot_items\u001b[0m \u001b[0;34m=\u001b[0m \u001b[0msum\u001b[0m\u001b[0;34m(\u001b[0m\u001b[0mb\u001b[0m\u001b[0;34m.\u001b[0m\u001b[0mshape\u001b[0m\u001b[0;34m[\u001b[0m\u001b[0;36m0\u001b[0m\u001b[0;34m]\u001b[0m \u001b[0;32mfor\u001b[0m \u001b[0mb\u001b[0m \u001b[0;32min\u001b[0m \u001b[0mblocks\u001b[0m\u001b[0;34m)\u001b[0m\u001b[0;34m\u001b[0m\u001b[0;34m\u001b[0m\u001b[0m\n\u001b[0;32m-> 1688\u001b[0;31m         \u001b[0mconstruction_error\u001b[0m\u001b[0;34m(\u001b[0m\u001b[0mtot_items\u001b[0m\u001b[0;34m,\u001b[0m \u001b[0mblocks\u001b[0m\u001b[0;34m[\u001b[0m\u001b[0;36m0\u001b[0m\u001b[0;34m]\u001b[0m\u001b[0;34m.\u001b[0m\u001b[0mshape\u001b[0m\u001b[0;34m[\u001b[0m\u001b[0;36m1\u001b[0m\u001b[0;34m:\u001b[0m\u001b[0;34m]\u001b[0m\u001b[0;34m,\u001b[0m \u001b[0maxes\u001b[0m\u001b[0;34m,\u001b[0m \u001b[0me\u001b[0m\u001b[0;34m)\u001b[0m\u001b[0;34m\u001b[0m\u001b[0;34m\u001b[0m\u001b[0m\n\u001b[0m\u001b[1;32m   1689\u001b[0m \u001b[0;34m\u001b[0m\u001b[0m\n\u001b[1;32m   1690\u001b[0m \u001b[0;34m\u001b[0m\u001b[0m\n",
            "\u001b[0;32m/usr/local/lib/python3.6/dist-packages/pandas/core/internals/managers.py\u001b[0m in \u001b[0;36mconstruction_error\u001b[0;34m(tot_items, block_shape, axes, e)\u001b[0m\n\u001b[1;32m   1717\u001b[0m         \u001b[0;32mraise\u001b[0m \u001b[0mValueError\u001b[0m\u001b[0;34m(\u001b[0m\u001b[0;34m\"Empty data passed with indices specified.\"\u001b[0m\u001b[0;34m)\u001b[0m\u001b[0;34m\u001b[0m\u001b[0;34m\u001b[0m\u001b[0m\n\u001b[1;32m   1718\u001b[0m     raise ValueError(\n\u001b[0;32m-> 1719\u001b[0;31m         \u001b[0;34m\"Shape of passed values is {0}, indices imply {1}\"\u001b[0m\u001b[0;34m.\u001b[0m\u001b[0mformat\u001b[0m\u001b[0;34m(\u001b[0m\u001b[0mpassed\u001b[0m\u001b[0;34m,\u001b[0m \u001b[0mimplied\u001b[0m\u001b[0;34m)\u001b[0m\u001b[0;34m\u001b[0m\u001b[0;34m\u001b[0m\u001b[0m\n\u001b[0m\u001b[1;32m   1720\u001b[0m     )\n\u001b[1;32m   1721\u001b[0m \u001b[0;34m\u001b[0m\u001b[0m\n",
            "\u001b[0;31mValueError\u001b[0m: Shape of passed values is (314, 1), indices imply (314, 6)"
          ]
        }
      ]
    },
    {
      "cell_type": "markdown",
      "metadata": {
        "id": "pquMF3qQ0FVP",
        "colab_type": "text"
      },
      "source": [
        "#Error row wise\n"
      ]
    },
    {
      "cell_type": "code",
      "metadata": {
        "id": "GeKZvmu6zxlH",
        "colab_type": "code",
        "colab": {}
      },
      "source": [
        "error = np.abs(y_hat - )"
      ],
      "execution_count": 0,
      "outputs": []
    },
    {
      "cell_type": "markdown",
      "metadata": {
        "id": "5SyC1N8HzB9s",
        "colab_type": "text"
      },
      "source": [
        "#Error Based clustering"
      ]
    }
  ]
}