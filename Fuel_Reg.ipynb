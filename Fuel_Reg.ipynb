{
  "nbformat": 4,
  "nbformat_minor": 0,
  "metadata": {
    "colab": {
      "name": "Fuel_Reg.ipynb",
      "provenance": [],
      "collapsed_sections": [],
      "include_colab_link": true
    },
    "kernelspec": {
      "display_name": "Python 3",
      "language": "python",
      "name": "python3"
    },
    "language_info": {
      "codemirror_mode": {
        "name": "ipython",
        "version": 3
      },
      "file_extension": ".py",
      "mimetype": "text/x-python",
      "name": "python",
      "nbconvert_exporter": "python",
      "pygments_lexer": "ipython3",
      "version": "3.7.4"
    }
  },
  "cells": [
    {
      "cell_type": "markdown",
      "metadata": {
        "id": "view-in-github",
        "colab_type": "text"
      },
      "source": [
        "<a href=\"https://colab.research.google.com/github/pragneshrana/Algo_Trial/blob/master/Fuel_Reg.ipynb\" target=\"_parent\"><img src=\"https://colab.research.google.com/assets/colab-badge.svg\" alt=\"Open In Colab\"/></a>"
      ]
    },
    {
      "cell_type": "markdown",
      "metadata": {
        "colab_type": "text",
        "id": "rhMVxmoajwAc"
      },
      "source": [
        "#Calling libraries  and dataset "
      ]
    },
    {
      "cell_type": "code",
      "metadata": {
        "colab_type": "code",
        "id": "_8Rl89s0R29e",
        "outputId": "b14f8315-da32-4401-cdc2-22abed1579cb",
        "colab": {
          "base_uri": "https://localhost:8080/",
          "height": 373
        }
      },
      "source": [
        "#loaded data\n",
        "import pandas as pd\n",
        "url = 'https://raw.githubusercontent.com/sivaramambikasaran/Data_driven_Kinetics/master/data/Alkane_Dataset_full_stanford_AR.csv?token=AINCVGUITKDVFRUDJQI7RZS6HP64A'\n",
        "df = pd.read_csv(url)# Dataset is now stored in a Pandas Dataframe\n",
        "print(df.columns)\n",
        "# df = df.loc[:10,:]\n",
        "print(df)"
      ],
      "execution_count": 1,
      "outputs": [
        {
          "output_type": "stream",
          "text": [
            "Index(['Fuel', 'T(K)', 'T_Error(%)', 'P(atm)', 'P_Error(%)', 'Fuel(%)',\n",
            "       'Oxidizer(%)', 'Diluant(%)', 'Equv(phi)', 'Diluant Type', 'Time(μs)',\n",
            "       'Mode_of_measurement', 'Species_name', 'Species_measurement_Error',\n",
            "       'Measured_wavelength(nm)', 'Shocktube_dia(cm)', 'Research_group',\n",
            "       'Data_Source'],\n",
            "      dtype='object')\n",
            "         Fuel  ...                                        Data_Source\n",
            "0    CCCCCCCC  ...  Lam_2013_thesis / Normal_Alkanes_and_Simple_Ox...\n",
            "1    CCCCCCCC  ...  Lam_2013_thesis / Normal_Alkanes_and_Simple_Ox...\n",
            "2    CCCCCCCC  ...  Lam_2013_thesis / Normal_Alkanes_and_Simple_Ox...\n",
            "3    CCCCCCCC  ...  Lam_2013_thesis / Normal_Alkanes_and_Simple_Ox...\n",
            "4    CCCCCCCC  ...  Lam_2013_thesis / Normal_Alkanes_and_Simple_Ox...\n",
            "..        ...  ...                                                ...\n",
            "444   CCCCCCC  ...                                n_heptane_oxidation\n",
            "445   CCCCCCC  ...                                n_heptane_oxidation\n",
            "446   CCCCCCC  ...                                n_heptane_oxidation\n",
            "447   CCCCCCC  ...                                n_heptane_oxidation\n",
            "448   CCCCCCC  ...                                n_heptane_oxidation\n",
            "\n",
            "[449 rows x 18 columns]\n"
          ],
          "name": "stdout"
        }
      ]
    },
    {
      "cell_type": "code",
      "metadata": {
        "colab_type": "code",
        "id": "rGefEnGqVjjq",
        "outputId": "7754acc3-fe09-4a5c-c977-c2e534a6d70d",
        "colab": {
          "base_uri": "https://localhost:8080/",
          "height": 230
        }
      },
      "source": [
        "print(df['Fuel'] )"
      ],
      "execution_count": 2,
      "outputs": [
        {
          "output_type": "stream",
          "text": [
            "0      CCCCCCCC\n",
            "1      CCCCCCCC\n",
            "2      CCCCCCCC\n",
            "3      CCCCCCCC\n",
            "4      CCCCCCCC\n",
            "         ...   \n",
            "444     CCCCCCC\n",
            "445     CCCCCCC\n",
            "446     CCCCCCC\n",
            "447     CCCCCCC\n",
            "448     CCCCCCC\n",
            "Name: Fuel, Length: 449, dtype: object\n"
          ],
          "name": "stdout"
        }
      ]
    },
    {
      "cell_type": "markdown",
      "metadata": {
        "colab_type": "text",
        "id": "saSYAaq7j88J"
      },
      "source": [
        "#Fucntion for finding the S_H bonds"
      ]
    },
    {
      "cell_type": "code",
      "metadata": {
        "colab_type": "code",
        "id": "Hb0wzPRNW_h0",
        "colab": {}
      },
      "source": [
        "def find_chain_length(fuel_data):\n",
        "  '''\n",
        "  This method will return the number of double bonds in the alkanes\n",
        "  Input: list of fuel\n",
        "  output : fuel S_H bond array \n",
        "  '''\n",
        "  S_H = np.zeros(len(fuel_data))\n",
        "  #number bonds in the alkanes are (2n-2) for C>3 (S_H)\n",
        "  for i in range(len(fuel_data)):\n",
        "    S_H_count = 2*(len(fuel_data[i])-2) #count by fuel length\n",
        "    S_H[i] = S_H_count\n",
        "  return S_H\n",
        "\n",
        "# #check fucntion\n",
        "# print(find_chain_length(['CCC','CCCC']))\n"
      ],
      "execution_count": 0,
      "outputs": []
    },
    {
      "cell_type": "markdown",
      "metadata": {
        "colab_type": "text",
        "id": "OU_hPPoKkE3c"
      },
      "source": [
        "#Required columns from data"
      ]
    },
    {
      "cell_type": "code",
      "metadata": {
        "colab_type": "code",
        "id": "KyFtUhAUSn7u",
        "outputId": "34493722-97ad-485e-d205-bcca9ba045de",
        "colab": {
          "base_uri": "https://localhost:8080/",
          "height": 266
        }
      },
      "source": [
        "#calling library\n",
        "import pandas as pd\n",
        "import numpy as np\n",
        "\n",
        "data = pd.DataFrame([]) #Empty DataFrame\n",
        "\n",
        "#required data\n",
        "data['S_H'] = find_chain_length(list(df['Fuel']))\n",
        "data['T(K)'] = df['T(K)']\n",
        "data['P(atm)'] = df['P(atm)']\n",
        "data['Fuel(%)'] = df['Fuel(%)']\n",
        "data['Oxidizer(%)'] = df['Oxidizer(%)']\n",
        "data['Diluant(%)'] = df['Diluant(%)']\n",
        "data['Equv(phi)'] = df['Equv(phi)']\n",
        "data['Time(μs)'] = df['Time(μs)']\n",
        "print(data)"
      ],
      "execution_count": 4,
      "outputs": [
        {
          "output_type": "stream",
          "text": [
            "      S_H  T(K)  P(atm)  Fuel(%)  Oxidizer(%)  Diluant(%)  Equv(phi)  Time(μs)\n",
            "0    12.0  1325   1.950     0.32         4.00       95.68        1.0       859\n",
            "1    12.0  1265   2.050     0.32         4.00       95.68        1.0      1569\n",
            "2    12.0  1289   2.010     0.32         4.00       95.68        1.0      1198\n",
            "3    12.0  1385   1.960     0.32         4.00       95.68        1.0       390\n",
            "4    12.0  1455   1.870     0.32         4.00       95.68        1.0       166\n",
            "..    ...   ...     ...      ...          ...         ...        ...       ...\n",
            "444  10.0  1378   2.326     0.03         0.33       99.64        1.0      1330\n",
            "445  10.0  1494   2.155     0.03         0.33       99.64        1.0      1330\n",
            "446  10.0  1494   2.155     0.03         0.33       99.64        1.0       308\n",
            "447  10.0  1502   2.262     0.03         0.33       99.64        1.0       280\n",
            "448  10.0  1506   2.360     0.03         0.33       99.64        1.0       189\n",
            "\n",
            "[449 rows x 8 columns]\n"
          ],
          "name": "stdout"
        }
      ]
    },
    {
      "cell_type": "markdown",
      "metadata": {
        "colab_type": "text",
        "id": "NPPpqZzgkMEp"
      },
      "source": [
        "# Conversion of data into the log or other form to frame the corelation "
      ]
    },
    {
      "cell_type": "code",
      "metadata": {
        "colab_type": "code",
        "id": "K6owi42lVcIU",
        "outputId": "ae349875-c956-4856-8145-563665cd18ab",
        "colab": {
          "base_uri": "https://localhost:8080/",
          "height": 70
        }
      },
      "source": [
        "converted_data  = pd.DataFrame([]) #Empty DataFrame\n",
        "T_0 = 1000\n",
        "# conversion of parameters for the equation \n",
        "converted_data['const'] = np.ones(df.shape[0])\n",
        "converted_data['T0/T'] = T_0 / df['T(K)'] \n",
        "# converted_data['1/S_H'] = 1/find_chain_length(list(df['Fuel']))\n",
        "converted_data['T0/T*S_H'] = converted_data['T0/T']/find_chain_length(list(df['Fuel']))\n",
        "# converted_data['T0/T*S_H^2'] = converted_data['T0/T']/(find_chain_length(list(df['Fuel']))**2)\n",
        "# converted_data['T0/T*S_H^3'] = converted_data['T0/T']/(find_chain_length(list(df['Fuel']))**3)\n",
        "# converted_data['log_T'] = np.log(df['T(K)'])\n",
        "converted_data['log_P'] = np.log(df['P(atm)'])\n",
        "converted_data['log_Fuel'] = np.log(df['Fuel(%)'])\n",
        "converted_data['log_oxi'] = np.log(df['Oxidizer(%)'])\n",
        "# converted_data['log_Dilu'] = np.log(df['Diluant(%)'])\n",
        "# converted_data['log_Equi'] = np.log(df['Equv(phi)'])\n",
        "converted_data['log_Time'] = np.log(df['Time(μs)'])\n",
        "converted_data.columns"
      ],
      "execution_count": 5,
      "outputs": [
        {
          "output_type": "execute_result",
          "data": {
            "text/plain": [
              "Index(['const', 'T0/T', 'T0/T*S_H', 'log_P', 'log_Fuel', 'log_oxi',\n",
              "       'log_Time'],\n",
              "      dtype='object')"
            ]
          },
          "metadata": {
            "tags": []
          },
          "execution_count": 5
        }
      ]
    },
    {
      "cell_type": "markdown",
      "metadata": {
        "colab_type": "text",
        "id": "61oDlwtokfaD"
      },
      "source": [
        "#Defining matrix X and actual result y - ($\\log \\tau$)"
      ]
    },
    {
      "cell_type": "code",
      "metadata": {
        "colab_type": "code",
        "id": "JsVJe2YmjJ4T",
        "outputId": "64d8deb2-892c-4ed3-d644-e4824be6903b",
        "colab": {
          "base_uri": "https://localhost:8080/",
          "height": 230
        }
      },
      "source": [
        "#defi\n",
        "X = converted_data.iloc[:,:-1]\n",
        "y =  converted_data.iloc[:,-1]\n",
        "print(y)"
      ],
      "execution_count": 6,
      "outputs": [
        {
          "output_type": "stream",
          "text": [
            "0      6.755769\n",
            "1      7.358194\n",
            "2      7.088409\n",
            "3      5.966147\n",
            "4      5.111988\n",
            "         ...   \n",
            "444    7.192934\n",
            "445    7.192934\n",
            "446    5.730100\n",
            "447    5.634790\n",
            "448    5.241747\n",
            "Name: log_Time, Length: 449, dtype: float64\n"
          ],
          "name": "stdout"
        }
      ]
    },
    {
      "cell_type": "markdown",
      "metadata": {
        "colab_type": "text",
        "id": "2bSh32bRDv44"
      },
      "source": [
        "#Scaling"
      ]
    },
    {
      "cell_type": "code",
      "metadata": {
        "colab_type": "code",
        "id": "z15g5HWoBlGe",
        "colab": {}
      },
      "source": [
        "# from sklearn.preprocessing import StandardScaler\n",
        "# scaler = StandardScaler().fit(X)\n",
        "# X = scaler.transform(X)\n",
        "# print(X)"
      ],
      "execution_count": 0,
      "outputs": []
    },
    {
      "cell_type": "code",
      "metadata": {
        "colab_type": "code",
        "id": "BDSCh2FYfwQ0",
        "outputId": "9b898d77-06c9-411f-a5c7-e435eca2e33e",
        "colab": {
          "base_uri": "https://localhost:8080/",
          "height": 266
        }
      },
      "source": [
        "from sklearn.model_selection import train_test_split\n",
        "X_train, X_test, y_train, y_test = train_test_split(X, y, test_size=0.1, random_state=42)\n",
        "print(X_train)"
      ],
      "execution_count": 8,
      "outputs": [
        {
          "output_type": "stream",
          "text": [
            "     const      T0/T  T0/T*S_H     log_P  log_Fuel   log_oxi\n",
            "365    1.0  0.753580  0.047099  0.524729 -3.399199 -0.207024\n",
            "101    1.0  0.873362  0.436681  4.158883 -0.223144  2.079442\n",
            "442    1.0  0.730994  0.073099  1.050822 -3.506558 -1.108663\n",
            "78     1.0  1.025641  0.512821  3.063391 -0.223144  2.079442\n",
            "33     1.0  0.810373  0.405186  1.944481 -0.223144  2.079442\n",
            "..     ...       ...       ...       ...       ...       ...\n",
            "106    1.0  1.004016  0.502008  4.001864 -0.223144  2.079442\n",
            "270    1.0  0.828500  0.059179  2.720637 -0.916291  1.386294\n",
            "348    1.0  0.680272  0.042517  0.207014 -1.609438  1.131402\n",
            "435    1.0  0.684463  0.068446  0.512824 -2.995732 -0.597837\n",
            "102    1.0  0.914913  0.457457  4.014580 -0.223144  2.079442\n",
            "\n",
            "[404 rows x 6 columns]\n"
          ],
          "name": "stdout"
        }
      ]
    },
    {
      "cell_type": "markdown",
      "metadata": {
        "colab_type": "text",
        "id": "vRQYwCZ8roBb"
      },
      "source": [
        "#Regression\n",
        "To solve $X\\beta= y$\n",
        "\n",
        "$X^TX \\beta= X^Ty$\n",
        "\n",
        "Now decomposing matrix using QR decomposition \\\n",
        "taking, $X = QR$\n",
        "\n",
        "$(QR)^T(QR) \\beta= (QR)^Ty$\n",
        "\n",
        "$( R^T Q^T Q R) \\beta= (QR)^Ty$\n",
        "\n",
        "$( R^T R) \\beta= R^T Q^Ty$\n",
        "\n",
        "$ (R^T)^{-1} R^T R \\beta=  Q^Ty$\n",
        "\n",
        "$ R \\beta=  Q^Ty$\n",
        "\n",
        "$ R \\beta=  z$\n",
        "\n",
        "As R is upper triangular which can be solved by back substituion.\n",
        "\n",
        "Check : https://adrianstoll.com/linear-algebra/least-squares.html\n"
      ]
    },
    {
      "cell_type": "code",
      "metadata": {
        "colab_type": "code",
        "id": "W7tKmmGBjF_V",
        "outputId": "7b964ec9-813b-4b87-b778-21f03cfa6596",
        "colab": {
          "base_uri": "https://localhost:8080/",
          "height": 159
        }
      },
      "source": [
        "#Find parameters by regression using least-square formula (XT X)^-1 XT \n",
        "import scipy as sp\n",
        "\n",
        "def back_substitution(A,b):\n",
        "  '''\n",
        "  This method will de backsubstitution\n",
        "  '''\n",
        "  n = A.shape[1] #no_of_par\n",
        "  print(n)\n",
        "  x = np.zeros(A.shape[1]) #weights = no of parameter = colm\n",
        "  #last elements\n",
        "  for i in range(n-1, -1, -1):\n",
        "      for j in range (i, n, 1):\n",
        "          b[i] -= A[i, j]*x[j]\n",
        "      x[i] = b[i] / A[i,i]\n",
        "  return x\n",
        "\n",
        "def regression(X,y):\n",
        "  '''\n",
        "  This method will best fit using QR factorization\n",
        "  '''\n",
        "  if(X.shape[1] < X.shape[0]):\n",
        "    '''\n",
        "    solving overdetermined system\n",
        "    '''\n",
        "    Q,R = sp.linalg.qr(X)\n",
        "    #solve \n",
        "    z = np.matmul(np.transpose(Q),y)\n",
        "    #back-substitution\n",
        "    beta = back_substitution(R,z)\n",
        "    return beta\n",
        "  else:\n",
        "    exit()\n",
        "\n",
        "\n",
        "# #test-1\n",
        "# M = np.matrix([[1,-1,2],[0,-1,-2],[0,0,-6],[9,1,2],[7,4,1]])\n",
        "# c = np.array([2,5,3,8,3])\n",
        "# #ans : [ 1.27408155 -1.53528339 -0.61609186]\n",
        "\n",
        "# #test-2\n",
        "# #test-1\n",
        "# M = np.matrix([[1,-1,2],[0,-1,-2],[0,0,-6],[9,1,2],[7,4,1]])\n",
        "# c = np.array([2,5,3,3,3])\n",
        "# #ans : [ 1.27408155 -1.53528339 -0.61609186]\n",
        "\n",
        "# coef = regression(M,c)\n",
        "# print(coef)\n",
        "coef = regression(X_train,y_train)\n",
        "\n",
        "#Coefficent table \n",
        "coef_result = pd.DataFrame([])\n",
        "coef_result['para_coef'] = X.columns\n",
        "coef_result['coef'] = coef\n",
        "print(coef_result)\n"
      ],
      "execution_count": 9,
      "outputs": [
        {
          "output_type": "stream",
          "text": [
            "6\n",
            "  para_coef       coef\n",
            "0     const  -2.871787\n",
            "1      T0/T  12.280119\n",
            "2  T0/T*S_H   3.463250\n",
            "3     log_P  -0.525825\n",
            "4  log_Fuel  -0.162243\n",
            "5   log_oxi  -0.255531\n"
          ],
          "name": "stdout"
        }
      ]
    },
    {
      "cell_type": "markdown",
      "metadata": {
        "colab_type": "text",
        "id": "F4WERSx2LYK7"
      },
      "source": [
        "#If\n",
        "The functional form is,\n",
        "\n",
        "$\\log \\tau = \\beta_0 + \\beta_1  \\log{P} + \\beta_2 \\log{Fuel} + \\beta_3 \\log{Oxi} + \\beta_4 \\frac{T_0}{T} + \\beta_5 \\frac{T_0}{T*S_H}$\n",
        "\n",
        "\n",
        "$\\tau = exp(\\beta_0')  {P}^{\\beta_1}  {Fuel}^{\\beta_2}   {Oxi}^{\\beta_3} \\exp\\bigg(\\beta_4 \\frac{T_0}{T} + \\beta_5 \\frac{T_0}{T*S_H}\\bigg)$\n",
        "\n",
        "$\\tau = \\beta_0'  {P}^{\\beta_1}  {Fuel}^{\\beta_2}   {Oxi}^{\\beta_3} \\exp\\bigg(\\beta_4 \\frac{T_0}{T} + \\beta_5 \\frac{T_0}{T*S_H}\\bigg)$\n"
      ]
    },
    {
      "cell_type": "markdown",
      "metadata": {
        "colab_type": "text",
        "id": "4SmYEp7VzJ1V"
      },
      "source": [
        "#Prediction:\n"
      ]
    },
    {
      "cell_type": "code",
      "metadata": {
        "colab_type": "code",
        "id": "1s9eVQmTzGnT",
        "outputId": "f9dc3e6f-5274-4155-de2c-2a3072e29cfa",
        "colab": {
          "base_uri": "https://localhost:8080/",
          "height": 230
        }
      },
      "source": [
        "y_hat_train = X_train.dot(coef)\n",
        "print(y_hat_train)"
      ],
      "execution_count": 10,
      "outputs": [
        {
          "output_type": "stream",
          "text": [
            "365    6.873856\n",
            "101    6.683542\n",
            "442    6.657734\n",
            "78     9.393267\n",
            "33     6.965335\n",
            "         ...   \n",
            "106    8.596792\n",
            "270    5.871089\n",
            "348    5.492441\n",
            "435    6.139690\n",
            "102    7.341617\n",
            "Length: 404, dtype: float64\n"
          ],
          "name": "stdout"
        }
      ]
    },
    {
      "cell_type": "markdown",
      "metadata": {
        "colab_type": "text",
        "id": "ZNGtW4lOJaV6"
      },
      "source": [
        "#Comparision $Y_{predicted}$  vs $Y_{actual}$\n"
      ]
    },
    {
      "cell_type": "code",
      "metadata": {
        "colab_type": "code",
        "id": "DlrVU7qNJZu-",
        "outputId": "2a170c00-4f2d-475d-cb16-984a4f24fa91",
        "colab": {
          "base_uri": "https://localhost:8080/",
          "height": 528
        }
      },
      "source": [
        "compare = pd.DataFrame([])\n",
        "compare['y_act'] = y_hat_train\n",
        "compare['y_pred'] = y_train\n",
        "print(compare)\n",
        "\n",
        "#plotting of train set\n",
        "import matplotlib.pyplot as plt\n",
        "center_data = np.linspace(4,10,100)\n",
        "plt.plot(center_data,center_data,'b')\n",
        "plt.scatter(y_train,y_hat_train,c='black')\n",
        "plt.xlabel('Y Actual')\n",
        "plt.ylabel('Y Predicted')\n",
        "plt.show()\n"
      ],
      "execution_count": 11,
      "outputs": [
        {
          "output_type": "stream",
          "text": [
            "        y_act    y_pred\n",
            "365  6.873856  7.002156\n",
            "101  6.683542  6.272877\n",
            "442  6.657734  7.501082\n",
            "78   9.393267  8.619750\n",
            "33   6.965335  6.845880\n",
            "..        ...       ...\n",
            "106  8.596792  7.904704\n",
            "270  5.871089  5.723585\n",
            "348  5.492441  5.192957\n",
            "435  6.139690  5.902633\n",
            "102  7.341617  6.907755\n",
            "\n",
            "[404 rows x 2 columns]\n"
          ],
          "name": "stdout"
        },
        {
          "output_type": "display_data",
          "data": {
            "image/png": "[encoded data removed]",
            "text/plain": [
              "<Figure size 432x288 with 1 Axes>"
            ]
          },
          "metadata": {
            "tags": []
          }
        }
      ]
    },
    {
      "cell_type": "markdown",
      "metadata": {
        "colab_type": "text",
        "id": "1bQmovWBIXau"
      },
      "source": [
        "#Maximum Relative Error in Training\n",
        "\n"
      ]
    },
    {
      "cell_type": "code",
      "metadata": {
        "colab_type": "code",
        "id": "KcmtvloiIWbD",
        "outputId": "9855cda2-beb6-4099-bcc3-44e18274e8f3",
        "colab": {
          "base_uri": "https://localhost:8080/",
          "height": 35
        }
      },
      "source": [
        "max_relative_error = np.max(np.abs(y_train - y_hat_train)/np.abs(y_train))\n",
        "print(max_relative_error)"
      ],
      "execution_count": 12,
      "outputs": [
        {
          "output_type": "stream",
          "text": [
            "0.4146549141097059\n"
          ],
          "name": "stdout"
        }
      ]
    },
    {
      "cell_type": "markdown",
      "metadata": {
        "colab_type": "text",
        "id": "k4YZfxGMOXDG"
      },
      "source": [
        "#Testing set\n"
      ]
    },
    {
      "cell_type": "code",
      "metadata": {
        "colab_type": "code",
        "id": "VfsQ-69bOzIM",
        "outputId": "09db79b3-1c70-4810-9127-494439ed2470",
        "colab": {
          "base_uri": "https://localhost:8080/",
          "height": 1000
        }
      },
      "source": [
        "y_hat_test = X_test.dot(coef)\n",
        "\n",
        "#testing compare\n",
        "compare = pd.DataFrame([])\n",
        "compare['y_act'] = y_hat_test\n",
        "compare['y_pred'] = y_test\n",
        "print(compare)\n",
        "\n",
        "\n",
        "import matplotlib.pyplot as plt\n",
        "center_data = np.linspace(4,10,100)\n",
        "plt.plot(center_data,center_data,'b')\n",
        "plt.scatter(y_test,y_hat_test,c='black')\n",
        "plt.xlabel('Y Actual')\n",
        "plt.ylabel('Y Predicted')\n",
        "plt.show()\n",
        "\n",
        "#maximum value in y_predicted\n",
        "max_val = np.max(compare['y_pred'])\n",
        "print(max_val)"
      ],
      "execution_count": 13,
      "outputs": [
        {
          "output_type": "stream",
          "text": [
            "        y_act    y_pred\n",
            "285  7.404772  7.201171\n",
            "296  6.490219  7.498316\n",
            "117  7.849960  7.605890\n",
            "347  4.996780  3.688879\n",
            "70   7.431326  7.265430\n",
            "30   6.471324  5.991465\n",
            "192  5.404038  4.736198\n",
            "79   9.330186  8.470102\n",
            "364  5.586327  5.472271\n",
            "357  5.031218  4.465908\n",
            "55   8.734752  9.229162\n",
            "148  5.476156  5.010635\n",
            "370  5.235632  4.919981\n",
            "312  5.377734  5.225747\n",
            "395  4.719904  4.499810\n",
            "406  5.274907  5.187386\n",
            "75   8.882654  8.405144\n",
            "245  7.482748  8.521584\n",
            "304  5.914976  6.028279\n",
            "77   8.963628  8.414052\n",
            "165  6.484263  7.812783\n",
            "9    6.128788  6.969791\n",
            "90   7.739078  7.649693\n",
            "93   7.902265  8.061487\n",
            "116  7.654024  7.377759\n",
            "298  5.302162  5.572154\n",
            "72   8.184970  7.889834\n",
            "82   6.126903  5.828946\n",
            "211  7.327811  6.865891\n",
            "39   8.043386  8.357024\n",
            "157  4.284887  4.330733\n",
            "439  6.082201  6.480045\n",
            "73   8.336171  8.003029\n",
            "333  5.877512  5.318120\n",
            "137  4.472952  5.062595\n",
            "314  5.238344  5.241747\n",
            "414  5.214782  5.010635\n",
            "76   8.952137  8.364042\n",
            "376  5.432711  5.337538\n",
            "237  6.351273  7.167038\n",
            "238  5.945688  5.541264\n",
            "443  6.729460  7.415175\n",
            "113  7.054520  6.709304\n",
            "436  5.683769  5.087596\n",
            "229  5.585025  5.638355\n"
          ],
          "name": "stdout"
        },
        {
          "output_type": "display_data",
          "data": {
            "image/png": "[encoded data removed]",
            "text/plain": [
              "<Figure size 432x288 with 1 Axes>"
            ]
          },
          "metadata": {
            "tags": []
          }
        },
        {
          "output_type": "stream",
          "text": [
            "9.229162126216771\n"
          ],
          "name": "stdout"
        }
      ]
    },
    {
      "cell_type": "markdown",
      "metadata": {
        "colab_type": "text",
        "id": "mkl3Y6RnPtVA"
      },
      "source": [
        "#Maximum Relative Error Testing"
      ]
    },
    {
      "cell_type": "code",
      "metadata": {
        "colab_type": "code",
        "id": "9gjtvbj-Psvh",
        "outputId": "c61dfab9-1657-4f2e-9706-d93e0cd76862",
        "colab": {
          "base_uri": "https://localhost:8080/",
          "height": 35
        }
      },
      "source": [
        "#Maximum Relative Error in Training\n",
        "max_relative_error_test = np.max(np.abs(y_test - y_hat_test)/y_test)\n",
        "print(max_relative_error)\n"
      ],
      "execution_count": 14,
      "outputs": [
        {
          "output_type": "stream",
          "text": [
            "0.4146549141097059\n"
          ],
          "name": "stdout"
        }
      ]
    },
    {
      "cell_type": "markdown",
      "metadata": {
        "colab_type": "text",
        "id": "pquMF3qQ0FVP"
      },
      "source": [
        "#Error row wise of Training set \n"
      ]
    },
    {
      "cell_type": "code",
      "metadata": {
        "colab_type": "code",
        "id": "GeKZvmu6zxlH",
        "outputId": "f4bd5f91-afd2-4915-985d-35676aac662a",
        "colab": {
          "base_uri": "https://localhost:8080/",
          "height": 444
        }
      },
      "source": [
        "error = np.abs(y_hat_train - y_train)/np.abs(y_train)\n",
        "absolute_error = np.abs(y_hat_train - y_train)\n",
        "print(error)\n",
        "print(absolute_error)\n",
        "\n",
        "converted_data['error'] = error"
      ],
      "execution_count": 15,
      "outputs": [
        {
          "output_type": "stream",
          "text": [
            "365    0.018323\n",
            "101    0.065467\n",
            "442    0.112430\n",
            "78     0.089738\n",
            "33     0.017449\n",
            "         ...   \n",
            "106    0.087554\n",
            "270    0.025771\n",
            "348    0.057671\n",
            "435    0.040161\n",
            "102    0.062808\n",
            "Length: 404, dtype: float64\n",
            "365    0.128300\n",
            "101    0.410665\n",
            "442    0.843349\n",
            "78     0.773518\n",
            "33     0.119455\n",
            "         ...   \n",
            "106    0.692088\n",
            "270    0.147504\n",
            "348    0.299484\n",
            "435    0.237057\n",
            "102    0.433862\n",
            "Length: 404, dtype: float64\n"
          ],
          "name": "stdout"
        }
      ]
    },
    {
      "cell_type": "markdown",
      "metadata": {
        "colab_type": "text",
        "id": "5SyC1N8HzB9s"
      },
      "source": [
        "#Number of data points in Relative Error range"
      ]
    },
    {
      "cell_type": "code",
      "metadata": {
        "colab_type": "code",
        "id": "MAi5AUDLV9Wr",
        "outputId": "5c158353-e640-48f1-d42a-d94a98daa3ca",
        "colab": {
          "base_uri": "https://localhost:8080/",
          "height": 35
        }
      },
      "source": [
        "defined_error_relative = 0.05\n",
        "index_collector = []\n",
        "counter = 0\n",
        "total_data = X_train.shape[0]\n",
        "#just counting number of data points\n",
        "\n",
        "for i in range(len(error)):\n",
        "  if(error.iloc[i] > defined_error_relative):\n",
        "    counter += 1\n",
        "\n",
        "print(counter,'out of ',total_data,',number of data point that has relative error more than ',defined_error_relative)"
      ],
      "execution_count": 16,
      "outputs": [
        {
          "output_type": "stream",
          "text": [
            "244 out of  404 ,number of data point that has relative error more than  0.05\n"
          ],
          "name": "stdout"
        }
      ]
    },
    {
      "cell_type": "markdown",
      "metadata": {
        "id": "bt01b4Z4HAYA",
        "colab_type": "text"
      },
      "source": [
        "#Number of data points in Absolute Error range"
      ]
    },
    {
      "cell_type": "code",
      "metadata": {
        "id": "SSVTVVKpHB9t",
        "colab_type": "code",
        "outputId": "2b4f2f07-1a44-49ae-cabb-95b7da55dd03",
        "colab": {
          "base_uri": "https://localhost:8080/",
          "height": 35
        }
      },
      "source": [
        "defined_error_absolute = 0.1\n",
        "index_collector = []\n",
        "counter = 0\n",
        "total_data = X_train.shape[0]\n",
        "\n",
        "#just counting number of data points\n",
        "\n",
        "for i in range(len(absolute_error)):\n",
        "  if(absolute_error.iloc[i] > defined_error_absolute):\n",
        "    counter += 1\n",
        "\n",
        "print(counter,'out of ',total_data,',number of data point that has relative error more than ',defined_error_absolute)"
      ],
      "execution_count": 17,
      "outputs": [
        {
          "output_type": "stream",
          "text": [
            "360 out of  404 ,number of data point that has relative error more than  0.1\n"
          ],
          "name": "stdout"
        }
      ]
    },
    {
      "cell_type": "markdown",
      "metadata": {
        "colab_type": "text",
        "id": "Gi4lXmgRV8ea"
      },
      "source": [
        "#Error Based Clustering\n",
        "- Collect the data points which has less error than defined error into one bin\n",
        "- Rest of the points into the other bins and repeat the procedure itertively\n"
      ]
    },
    {
      "cell_type": "markdown",
      "metadata": {
        "colab_type": "text",
        "id": "9Rzuak4qVB0L"
      },
      "source": [
        "#Seperated data frames based on ERROR\n",
        " \n"
      ]
    },
    {
      "cell_type": "code",
      "metadata": {
        "id": "hTlOqTPBuCD6",
        "colab_type": "code",
        "outputId": "66438697-51cd-4424-d7d0-f38f09ae0c6f",
        "colab": {
          "base_uri": "https://localhost:8080/",
          "height": 70
        }
      },
      "source": [
        "#Clusters\n",
        "print('Main Cluster size :',X_train.shape)\n",
        "cluster_1 = converted_data[converted_data['error'] < defined_error_relative]\n",
        "cluster_2 = converted_data[converted_data['error'] > defined_error_relative]\n",
        "\n",
        "print('cluster_1 size :',cluster_1.shape)\n",
        "print('cluster_2 size :',cluster_2.shape)\n",
        "\n"
      ],
      "execution_count": 18,
      "outputs": [
        {
          "output_type": "stream",
          "text": [
            "Main Cluster size : (404, 6)\n",
            "cluster_1 size : (160, 8)\n",
            "cluster_2 size : (244, 8)\n"
          ],
          "name": "stdout"
        }
      ]
    },
    {
      "cell_type": "markdown",
      "metadata": {
        "id": "yht7hiWm-8Cc",
        "colab_type": "text"
      },
      "source": [
        "#Analysis of cluster-1"
      ]
    },
    {
      "cell_type": "code",
      "metadata": {
        "id": "PS90S-TywQ6C",
        "colab_type": "code",
        "outputId": "03aed2ce-5b86-466c-98c6-5cab063021d8",
        "colab": {
          "base_uri": "https://localhost:8080/",
          "height": 688
        }
      },
      "source": [
        "X_train_clus_1 = cluster_1.iloc[:,:-2] \n",
        "y_train_clus_1 = cluster_1.iloc[:,-2] \n",
        "coef_cluster_1 = regression(X_train_clus_1,y_train_clus_1)\n",
        "\n",
        "#Coefficent table \n",
        "coef_result_clus_1 = pd.DataFrame([])\n",
        "coef_result_clus_1['para_coef'] = X_train_clus_1.columns\n",
        "coef_result_clus_1['coef'] = coef_cluster_1\n",
        "print(coef_result_clus_1)\n",
        "\n",
        "#prediction \n",
        "y_hat_train_clus1 = X_train_clus_1.dot(coef_cluster_1)\n",
        "\n",
        "#comparing the actual and predicted value \n",
        "compare = pd.DataFrame([])\n",
        "compare['y_act'] = y_train_clus_1\n",
        "compare['y_pred'] = y_hat_train_clus1\n",
        "print(compare)\n",
        "\n",
        "import matplotlib.pyplot as plt\n",
        "center_data = np.linspace(4,10,100)\n",
        "plt.plot(center_data,center_data,'b')\n",
        "plt.scatter(y_train,y_hat_train,c='black')\n",
        "plt.scatter(y_train_clus_1,y_hat_train_clus1,c='yellow')\n",
        "plt.xlabel('Y Actual')\n",
        "plt.ylabel('Y Predicted')\n",
        "plt.show()\n",
        "\n",
        "#maximum relative error in clutser\n",
        "max_relative_error_clus_1 = np.max(np.abs(y_train_clus_1 - y_hat_train_clus1)/np.abs(y_train_clus_1))\n",
        "print('max_relative_error:',max_relative_error_clus_1)\n"
      ],
      "execution_count": 19,
      "outputs": [
        {
          "output_type": "stream",
          "text": [
            "6\n",
            "  para_coef       coef\n",
            "0     const  -2.932180\n",
            "1      T0/T  12.069944\n",
            "2  T0/T*S_H   3.788421\n",
            "3     log_P  -0.574173\n",
            "4  log_Fuel  -0.276876\n",
            "5   log_oxi  -0.155951\n",
            "        y_act    y_pred\n",
            "3    5.966147  5.723427\n",
            "4    5.111988  5.320183\n",
            "6    5.347108  5.149376\n",
            "11   6.496775  6.443202\n",
            "12   6.895683  6.670780\n",
            "..        ...       ...\n",
            "424  5.062595  4.894044\n",
            "434  6.777647  6.602974\n",
            "435  5.902633  6.216782\n",
            "440  5.932245  5.821984\n",
            "441  7.154615  6.867382\n",
            "\n",
            "[160 rows x 2 columns]\n"
          ],
          "name": "stdout"
        },
        {
          "output_type": "display_data",
          "data": {
            "image/png": "[encoded data removed]",
            "text/plain": [
              "<Figure size 432x288 with 1 Axes>"
            ]
          },
          "metadata": {
            "tags": []
          }
        },
        {
          "output_type": "stream",
          "text": [
            "max_relative_error: 0.06111782990124568\n"
          ],
          "name": "stdout"
        }
      ]
    },
    {
      "cell_type": "markdown",
      "metadata": {
        "id": "WyC0tUPIj2II",
        "colab_type": "text"
      },
      "source": [
        "#Analysis  of cluster-2"
      ]
    },
    {
      "cell_type": "code",
      "metadata": {
        "id": "OpL--PMJAFAc",
        "colab_type": "code",
        "outputId": "e080dd4f-a359-4101-8793-2afcae083d8f",
        "colab": {
          "base_uri": "https://localhost:8080/",
          "height": 937
        }
      },
      "source": [
        "print(cluster_2)\n",
        "\n",
        "X_train_clus_2 = cluster_2.iloc[:,:-2] \n",
        "y_train_clus_2 = cluster_2.iloc[:,-2] \n",
        "coef_cluster_2 = regression(X_train_clus_2,y_train_clus_2)\n",
        "\n",
        "#Coefficent table \n",
        "coef_result_clus_2 = pd.DataFrame([])\n",
        "coef_result_clus_2['para_coef'] =X_train_clus_2.columns\n",
        "coef_result_clus_2['coef'] = coef_cluster_2\n",
        "print(coef_result_clus_2)\n",
        "\n",
        "#prediction \n",
        "y_hat_train_clus_2 = X_train_clus_2.dot(coef_cluster_2)\n",
        "\n",
        "#comparing the actual and predicted value \n",
        "compare = pd.DataFrame([])\n",
        "compare['y_act'] = y_train_clus_2\n",
        "compare['y_pred'] = y_hat_train_clus_2\n",
        "print(compare)\n",
        "\n",
        "import matplotlib.pyplot as plt\n",
        "center_data = np.linspace(4,10,100)\n",
        "plt.plot(center_data,center_data,'b')\n",
        "# plt.scatter(y_train,y_hat_train,c='black')\n",
        "plt.scatter(y_train_clus_1,y_hat_train_clus1,c='red')\n",
        "plt.scatter(y_train_clus_2,y_hat_train_clus_2,c='yellow')\n",
        "plt.xlabel('Y Actual')\n",
        "plt.ylabel('Y Predicted')\n",
        "plt.show()\n",
        "\n",
        "#maximum relative error in clutser\n",
        "max_relative_error_clus_2 = np.max(np.abs(y_train_clus_2 - y_hat_train_clus_2)/np.abs(y_train_clus_2))\n",
        "print('max_relative_error:',max_relative_error_clus_2)"
      ],
      "execution_count": 20,
      "outputs": [
        {
          "output_type": "stream",
          "text": [
            "     const      T0/T  T0/T*S_H  ...   log_oxi  log_Time     error\n",
            "0      1.0  0.754717  0.062893  ...  1.386294  6.755769  0.098029\n",
            "1      1.0  0.790514  0.065876  ...  1.386294  7.358194  0.114303\n",
            "2      1.0  0.775795  0.064650  ...  1.386294  7.088409  0.105230\n",
            "5      1.0  0.780031  0.065003  ...  1.386294  6.927558  0.115994\n",
            "7      1.0  0.722543  0.060212  ...  1.386294  5.652489  0.051325\n",
            "..     ...       ...       ...  ...       ...       ...       ...\n",
            "444    1.0  0.725689  0.072569  ... -1.108663  7.192934  0.068610\n",
            "445    1.0  0.669344  0.066934  ... -1.108663  7.192934  0.161936\n",
            "446    1.0  0.669344  0.066934  ... -1.108663  5.730100  0.052013\n",
            "447    1.0  0.665779  0.066578  ... -1.108663  5.634790  0.057296\n",
            "448    1.0  0.664011  0.066401  ... -1.108663  5.241747  0.128061\n",
            "\n",
            "[244 rows x 8 columns]\n",
            "6\n",
            "  para_coef       coef\n",
            "0     const  -2.909813\n",
            "1      T0/T  12.431288\n",
            "2  T0/T*S_H   3.298631\n",
            "3     log_P  -0.503884\n",
            "4  log_Fuel  -0.129052\n",
            "5   log_oxi  -0.291827\n",
            "        y_act    y_pred\n",
            "0    6.755769  6.085733\n",
            "1    7.358194  6.515375\n",
            "2    7.088409  6.338286\n",
            "5    6.927558  6.131713\n",
            "7    5.652489  5.363814\n",
            "..        ...       ...\n",
            "444  7.192934  6.701532\n",
            "445  7.192934  6.020977\n",
            "446  5.730100  6.020977\n",
            "447  5.634790  5.951065\n",
            "448  5.241747  5.907128\n",
            "\n",
            "[244 rows x 2 columns]\n"
          ],
          "name": "stdout"
        },
        {
          "output_type": "display_data",
          "data": {
            "image/png": "[encoded data removed]",
            "text/plain": [
              "<Figure size 432x288 with 1 Axes>"
            ]
          },
          "metadata": {
            "tags": []
          }
        },
        {
          "output_type": "stream",
          "text": [
            "max_relative_error: 0.4248203243909711\n"
          ],
          "name": "stdout"
        }
      ]
    },
    {
      "cell_type": "markdown",
      "metadata": {
        "id": "iKTKSKMWkYgF",
        "colab_type": "text"
      },
      "source": [
        "#Seperating the data points from the cluster\n",
        "- Regression is fitting the plane \n",
        "\n",
        "for given plane $ax+by+cz+d = 0$, \\\n",
        "  if we plug point $(x_1,y_1,z_1)$ and $(x_2,y_2,z_2)$ into the plane and have same sign means they are on same side else they are on other side.\n",
        "  $ax+by+cz+d = 0$\n",
        "\n",
        "  $z =-(d/c) -(a/c)x - (b/c)y$\n",
        "\n",
        "  $z =$ \n",
        "  $\\begin{bmatrix}\n",
        "  1 &\n",
        "  x &\n",
        "  y\n",
        "  \\end{bmatrix}$\n",
        "  $\\begin{bmatrix}\n",
        "  -d/c \\\\\n",
        "  -a/c \\\\\n",
        "  -b/c\n",
        "  \\end{bmatrix}$\n",
        "\n",
        "  $z =$ \n",
        "  $\\begin{bmatrix}\n",
        "  1 &\n",
        "  x &\n",
        "  y\n",
        "  \\end{bmatrix}$\n",
        "  $\\begin{bmatrix}\n",
        "  -d/c \\\\\n",
        "  -a/c \\\\\n",
        "  -b/c\n",
        "  \\end{bmatrix}$\n",
        "\n",
        " $z = Data * coef  $\n",
        "\n",
        "If data points perfectly satisfy   $ax+by+cz+d = 0$ which means they lie on the else if it is positive means they lie above the plane else below.\n",
        "\n",
        "same analogy can applied in the regression. If the data point does not satisfy menas it generate more or less of value than  required which can be obtained by +ve or -ve error.\n",
        "\n",
        "$y_{predicted} - y_{actual} = error$ \n",
        "\n",
        "points containg +ve error lie on same side whereas points containing -ve error lie on another side.\n",
        "\n"
      ]
    },
    {
      "cell_type": "markdown",
      "metadata": {
        "id": "PAU9COcGa1cN",
        "colab_type": "text"
      },
      "source": [
        "#Divide cluster-2"
      ]
    },
    {
      "cell_type": "code",
      "metadata": {
        "id": "c6e4E2AakCRZ",
        "colab_type": "code",
        "outputId": "7dcb92b8-d846-47b9-83ad-01ea53daf763",
        "colab": {
          "base_uri": "https://localhost:8080/",
          "height": 177
        }
      },
      "source": [
        "cluster_2['error_bifurcation'] =  y_train_clus_2 - y_hat_train_clus_2\n",
        "cluster_3 = pd.DataFrame([])\n",
        "cluster_3 =  cluster_2.loc[cluster_2['error_bifurcation'] > 0]\n",
        "cluster_4 = pd.DataFrame([])\n",
        "cluster_4 =  cluster_2.loc[cluster_2['error_bifurcation'] < 0]\n",
        "\n",
        "cluster_2 = cluster_2.drop(columns=['error_bifurcation'])\n",
        "cluster_3 = cluster_3.drop(columns=['error_bifurcation'])\n",
        "cluster_4 = cluster_4.drop(columns=['error_bifurcation'])\n",
        "\n",
        "print(cluster_3.columns)"
      ],
      "execution_count": 21,
      "outputs": [
        {
          "output_type": "stream",
          "text": [
            "Index(['const', 'T0/T', 'T0/T*S_H', 'log_P', 'log_Fuel', 'log_oxi', 'log_Time',\n",
            "       'error'],\n",
            "      dtype='object')\n"
          ],
          "name": "stdout"
        },
        {
          "output_type": "stream",
          "text": [
            "/usr/local/lib/python3.6/dist-packages/ipykernel_launcher.py:1: SettingWithCopyWarning: \n",
            "A value is trying to be set on a copy of a slice from a DataFrame.\n",
            "Try using .loc[row_indexer,col_indexer] = value instead\n",
            "\n",
            "See the caveats in the documentation: http://pandas.pydata.org/pandas-docs/stable/user_guide/indexing.html#returning-a-view-versus-a-copy\n",
            "  \"\"\"Entry point for launching an IPython kernel.\n"
          ],
          "name": "stderr"
        }
      ]
    },
    {
      "cell_type": "markdown",
      "metadata": {
        "id": "vlCb9zT_Aq31",
        "colab_type": "text"
      },
      "source": [
        "#Analysis of Cluster-3"
      ]
    },
    {
      "cell_type": "code",
      "metadata": {
        "id": "1FiMUBJ6AqSx",
        "colab_type": "code",
        "outputId": "4b3c50b4-912a-48b2-ce43-b25dd93bf704",
        "colab": {
          "base_uri": "https://localhost:8080/",
          "height": 1000
        }
      },
      "source": [
        "X_train_clus_3 = cluster_3.iloc[:,:-2] \n",
        "y_train_clus_3 = cluster_3.iloc[:,-2] \n",
        "coef_cluster_3 = regression(X_train_clus_3,y_train_clus_3)\n",
        "\n",
        "print(X_train_clus_3)\n",
        "print(y_train_clus_3)\n",
        "\n",
        "\n",
        "#Coefficent table \n",
        "coef_result_clus_3 = pd.DataFrame([])\n",
        "coef_result_clus_3['para_coef'] =X_train_clus_3.columns\n",
        "coef_result_clus_3['coef'] = coef_cluster_3\n",
        "print(coef_result_clus_3)\n",
        "\n",
        "#prediction \n",
        "y_hat_train_clus_3 = X_train_clus_3.dot(coef_cluster_3)\n",
        "\n",
        "#comparing the actual and predicted value \n",
        "compare = pd.DataFrame([])\n",
        "compare['y_act'] = y_train_clus_3\n",
        "compare['y_pred'] = y_hat_train_clus_3\n",
        "print(compare)\n",
        "\n",
        "import matplotlib.pyplot as plt\n",
        "center_data = np.linspace(4,10,100)\n",
        "plt.plot(center_data,center_data,'b')\n",
        "plt.scatter(y_train_clus_1,y_hat_train_clus1,c='yellow')\n",
        "plt.scatter(y_train_clus_3,y_hat_train_clus_3,c='red')\n",
        "plt.scatter(y_train_clus_2,y_hat_train_clus_2,c='pink')\n",
        "\n",
        "plt.xlabel('Y Actual')\n",
        "plt.ylabel('Y Predicted')\n",
        "plt.show()\n",
        "\n",
        "#maximum relative error in clutser\n",
        "max_relative_error_clus_3 = np.max(np.abs(y_train_clus_3 - y_hat_train_clus_3)/np.abs(y_train_clus_3))\n",
        "print('max_relative_error:',max_relative_error_clus_3)"
      ],
      "execution_count": 22,
      "outputs": [
        {
          "output_type": "stream",
          "text": [
            "6\n",
            "     const      T0/T  T0/T*S_H     log_P  log_Fuel   log_oxi\n",
            "0      1.0  0.754717  0.062893  0.667829 -1.139434  1.386294\n",
            "1      1.0  0.790514  0.065876  0.717840 -1.139434  1.386294\n",
            "2      1.0  0.775795  0.064650  0.698135 -1.139434  1.386294\n",
            "5      1.0  0.780031  0.065003  1.214913 -1.139434  1.386294\n",
            "7      1.0  0.722543  0.060212  1.289233 -1.139434  1.386294\n",
            "..     ...       ...       ...       ...       ...       ...\n",
            "437    1.0  0.813670  0.081367  2.716680 -2.302585  0.788457\n",
            "438    1.0  0.813008  0.081301  2.760643 -2.302585  0.788457\n",
            "442    1.0  0.730994  0.073099  1.050822 -3.506558 -1.108663\n",
            "444    1.0  0.725689  0.072569  0.844150 -3.506558 -1.108663\n",
            "445    1.0  0.669344  0.066934  0.767791 -3.506558 -1.108663\n",
            "\n",
            "[118 rows x 6 columns]\n",
            "0      6.755769\n",
            "1      7.358194\n",
            "2      7.088409\n",
            "5      6.927558\n",
            "7      5.652489\n",
            "         ...   \n",
            "437    6.562444\n",
            "438    6.548219\n",
            "442    7.501082\n",
            "444    7.192934\n",
            "445    7.192934\n",
            "Name: log_Time, Length: 118, dtype: float64\n",
            "  para_coef       coef\n",
            "0     const  -2.687939\n",
            "1      T0/T  13.148413\n",
            "2  T0/T*S_H   3.723349\n",
            "3     log_P  -0.558461\n",
            "4  log_Fuel  -0.174803\n",
            "5   log_oxi  -0.375633\n",
            "        y_act    y_pred\n",
            "0    6.755769  6.775046\n",
            "1    7.358194  7.228896\n",
            "2    7.088409  7.041807\n",
            "5    6.927558  6.810217\n",
            "7    5.652489  5.995001\n",
            "..        ...       ...\n",
            "437  6.562444  6.902650\n",
            "438  6.548219  6.869154\n",
            "442  7.501082  7.638212\n",
            "444  7.192934  7.681906\n",
            "445  7.192934  6.962718\n",
            "\n",
            "[118 rows x 2 columns]\n"
          ],
          "name": "stdout"
        },
        {
          "output_type": "display_data",
          "data": {
            "image/png": "[encoded data removed]",
            "text/plain": [
              "<Figure size 432x288 with 1 Axes>"
            ]
          },
          "metadata": {
            "tags": []
          }
        },
        {
          "output_type": "stream",
          "text": [
            "max_relative_error: 0.0951573760146054\n"
          ],
          "name": "stdout"
        }
      ]
    },
    {
      "cell_type": "markdown",
      "metadata": {
        "id": "TfrBeXHaG-Z4",
        "colab_type": "text"
      },
      "source": [
        "#Analysis of cluster_4"
      ]
    },
    {
      "cell_type": "code",
      "metadata": {
        "id": "EVdyUENb9MA1",
        "colab_type": "code",
        "outputId": "5a908fc1-c861-427f-de13-ba3adda10118",
        "colab": {
          "base_uri": "https://localhost:8080/",
          "height": 688
        }
      },
      "source": [
        "X_train_clus_4 = cluster_4.iloc[:,:-2] \n",
        "y_train_clus_4 = cluster_4.iloc[:,-2] \n",
        "coef_cluster_4 = regression(X_train_clus_4,y_train_clus_4)\n",
        "\n",
        "#Coefficent table \n",
        "coef_result_clus_4 = pd.DataFrame([])\n",
        "coef_result_clus_4['para_coef'] =X_train_clus_4.columns\n",
        "coef_result_clus_4['coef'] = coef_cluster_4\n",
        "print(coef_result_clus_4)\n",
        "\n",
        "#prediction \n",
        "y_hat_train_clus_4 = X_train_clus_4.dot(coef_cluster_4)\n",
        "\n",
        "#comparing the actual and predicted value \n",
        "compare = pd.DataFrame([])\n",
        "compare['y_act'] = y_train_clus_4\n",
        "compare['y_pred'] = y_hat_train_clus_4\n",
        "print(compare)\n",
        "\n",
        "import matplotlib.pyplot as plt\n",
        "center_data = np.linspace(4,10,100)\n",
        "plt.plot(center_data,center_data,'b')\n",
        "plt.scatter(y_train_clus_2,y_hat_train_clus_2,c='black')\n",
        "plt.scatter(y_train_clus_3,y_hat_train_clus_3,c='yellow')\n",
        "plt.scatter(y_train_clus_4,y_hat_train_clus_4,c='pink')\n",
        "plt.xlabel('Y Actual')\n",
        "plt.ylabel('Y Predicted')\n",
        "plt.show()\n",
        "\n",
        "#maximum relative error in clutser\n",
        "max_relative_error_clus_4 = np.max(np.abs(y_train_clus_4 - y_hat_train_clus_4)/np.abs(y_train_clus_4))\n",
        "print('max_relative_error:',max_relative_error_clus_4)"
      ],
      "execution_count": 23,
      "outputs": [
        {
          "output_type": "stream",
          "text": [
            "6\n",
            "  para_coef       coef\n",
            "0     const  -2.255061\n",
            "1      T0/T  10.099943\n",
            "2  T0/T*S_H   3.420561\n",
            "3     log_P  -0.393960\n",
            "4  log_Fuel  -0.193313\n",
            "5   log_oxi  -0.137002\n",
            "        y_act    y_pred\n",
            "10   4.644391  4.896316\n",
            "14   5.393628  5.159594\n",
            "15   5.877736  5.581011\n",
            "16   4.941642  5.095127\n",
            "17   5.505332  5.366320\n",
            "..        ...       ...\n",
            "432  4.290459  4.381075\n",
            "433  3.891820  4.160404\n",
            "446  5.730100  5.261501\n",
            "447  5.634790  5.205184\n",
            "448  5.241747  5.170010\n",
            "\n",
            "[126 rows x 2 columns]\n"
          ],
          "name": "stdout"
        },
        {
          "output_type": "display_data",
          "data": {
            "image/png": "[encoded data removed]",
            "text/plain": [
              "<Figure size 432x288 with 1 Axes>"
            ]
          },
          "metadata": {
            "tags": []
          }
        },
        {
          "output_type": "stream",
          "text": [
            "max_relative_error: 0.23286062392379947\n"
          ],
          "name": "stdout"
        }
      ]
    },
    {
      "cell_type": "markdown",
      "metadata": {
        "id": "ECsTf94-ao60",
        "colab_type": "text"
      },
      "source": [
        "#Divdide the cluster - 4\n"
      ]
    },
    {
      "cell_type": "code",
      "metadata": {
        "id": "XX3ayUo8aoGT",
        "colab_type": "code",
        "colab": {}
      },
      "source": [
        "# #Bifurcating data points based on error\n",
        "# cluster_4['error_bifurcation'] =  y_train_clus_4 - y_hat_train_clus_4\n",
        "# cluster_5 = pd.DataFrame([])\n",
        "# cluster_6 = pd.DataFrame([])\n",
        "# cluster_5 =  cluster_4.loc[cluster_4['error_bifurcation'] > 0]\n",
        "# cluster_6 =  cluster_4.loc[cluster_4['error_bifurcation'] < 0]\n",
        "\n",
        "# cluster_4 = cluster_4.drop(columns=['error_bifurcation'])\n",
        "# cluster_5 = cluster_5.drop(columns=['error_bifurcation'])\n",
        "# cluster_6 = cluster_6.drop(columns=['error_bifurcation'])"
      ],
      "execution_count": 0,
      "outputs": []
    },
    {
      "cell_type": "markdown",
      "metadata": {
        "id": "4goMuZ6e01eP",
        "colab_type": "text"
      },
      "source": [
        "#Recursive Algorrithm for error based clustering"
      ]
    },
    {
      "cell_type": "code",
      "metadata": {
        "id": "vj2OLJXb-ZKB",
        "colab_type": "code",
        "outputId": "1456d3fb-773f-466f-c49a-65765dec7bd2",
        "colab": {
          "base_uri": "https://localhost:8080/",
          "height": 830
        }
      },
      "source": [
        "class regression_recursive():\n",
        "\n",
        "  def __init__(self,defined_error_relative):\n",
        "    self.defined_error_relative = defined_error_relative\n",
        "\n",
        "  def back_substitution(self,A,b):\n",
        "    '''\n",
        "    This method will de backsubstitution\n",
        "    '''\n",
        "    n = A.shape[1] #no_of_par\n",
        "    print(n)\n",
        "    x = np.zeros(A.shape[1]) #weights = no of parameter = colm\n",
        "    #last elements\n",
        "    for i in range(n-1, -1, -1):\n",
        "        for j in range (i, n, 1):\n",
        "            b[i] -= A[i, j]*x[j]\n",
        "        x[i] = b[i] / A[i,i]\n",
        "    return x\n",
        "\n",
        "  def regression(self,X,y):\n",
        "    '''\n",
        "    This method will best fit using QR factorization\n",
        "    '''\n",
        "    if(X.shape[1] < X.shape[0]):\n",
        "      '''\n",
        "      solving overdetermined system\n",
        "      '''\n",
        "      Q,R = sp.linalg.qr(X)\n",
        "      #solve \n",
        "      z = np.matmul(np.transpose(Q),y)\n",
        "      #back-substitution\n",
        "      beta = self.back_substitution(R,z)\n",
        "      return beta\n",
        "    else:\n",
        "      exit()\n",
        "    \n",
        "  def relative_error(self,cluster):\n",
        "    '''\n",
        "    Relative error calculation for cluster \n",
        "    '''\n",
        "    counter = 0\n",
        "    total_data = cluster.shape[0]\n",
        "    error_clus = cluster['error']\n",
        "    #just counting number of data points\n",
        "\n",
        "    for i in range(len(error_clus)):\n",
        "      if(error_clus.iloc[i] > self.defined_error_relative):\n",
        "        counter += 1\n",
        "\n",
        "    print(counter,'out of ',total_data,',number of data point that has relative error more than ',self.defined_error_relative)\n",
        "\n",
        "  def analyze_cluster(self,cluster):\n",
        "    '''\n",
        "    For passed cluster this method will \n",
        "    analyze the cluster (by regression) and based on error \n",
        "    it will devide the cluster into two passed\n",
        "    1. cluster in which data points have error less than defined error\n",
        "    2. cluster in which data points have error more than defined error\n",
        "    '''\n",
        "    X_train_clus = cluster.iloc[:,:-2] \n",
        "    y_train_clus = cluster.iloc[:,-2] \n",
        "    coef_cluster = self.regression(X_train_clus,y_train_clus)\n",
        "\n",
        "    #Coefficent table \n",
        "    coef_result_clus = pd.DataFrame([])\n",
        "    coef_result_clus['para_coef'] =X_train_clus.columns\n",
        "    coef_result_clus['coef'] = coef_cluster\n",
        "    print(coef_result_clus)\n",
        "\n",
        "    #prediction \n",
        "    y_hat_train_clus = X_train_clus.dot(coef_cluster)\n",
        "\n",
        "    #comparing the actual and predicted value \n",
        "    compare = pd.DataFrame([])\n",
        "    compare['y_act'] = y_train_clus\n",
        "    compare['y_pred'] = y_hat_train_clus\n",
        "    print(compare)\n",
        "\n",
        "    import matplotlib.pyplot as plt\n",
        "    center_points = np.linspace(4,10,100)\n",
        "    plt.plot(center_points,center_points,'b')\n",
        "    plt.scatter(y_train_clus,y_hat_train_clus,c='red')\n",
        "    plt.xlabel('Y Actual')\n",
        "    plt.ylabel('Y Predicted')\n",
        "    plt.show()\n",
        "\n",
        "    error_cluster = np.abs(y_hat_train_clus - y_train_clus)/np.abs(y_train)\n",
        "    cluster['error'] = error_cluster\n",
        "\n",
        "    #maximum relative error in clutser\n",
        "    max_relative_error_clus = np.max(np.abs(y_train_clus - y_hat_train_clus)/np.abs(y_train_clus))\n",
        "    print('max_relative_error:',max_relative_error_clus)\n",
        "\n",
        "    #Bifurcating data points based on error\n",
        "    cluster['error_bifurcation'] =  y_train_clus - y_hat_train_clus\n",
        "    cluster_1 = pd.DataFrame([])\n",
        "    cluster_2 = pd.DataFrame([])\n",
        "    cluster_1 =  cluster.loc[cluster['error_bifurcation'] > 0]\n",
        "    cluster_2 =  cluster.loc[cluster['error_bifurcation'] < 0]\n",
        "\n",
        "\n",
        "    self.relative_error(cluster_1)\n",
        "    self.relative_error(cluster_2)\n",
        "\n",
        "    cluster = cluster.drop(columns=['error_bifurcation'])\n",
        "    cluster_1 = cluster_1.drop(columns=['error_bifurcation'])\n",
        "    cluster_2 = cluster_2.drop(columns=['error_bifurcation'])\n",
        "\n",
        "    print(cluster.shape)\n",
        "    print(cluster_1.shape)\n",
        "    print(cluster_2.shape)\n",
        "    print(cluster_1.columns)\n",
        "\n",
        "    return cluster_1,cluster_2\n",
        "\n",
        "    \n",
        "\n",
        "reg_cluster = regression_recursive(0.1)\n",
        "cluster_5 , cluster_6 = reg_cluster.analyze_cluster(cluster_4)"
      ],
      "execution_count": 25,
      "outputs": [
        {
          "output_type": "stream",
          "text": [
            "6\n",
            "  para_coef       coef\n",
            "0     const  -2.255061\n",
            "1      T0/T  10.099943\n",
            "2  T0/T*S_H   3.420561\n",
            "3     log_P  -0.393960\n",
            "4  log_Fuel  -0.193313\n",
            "5   log_oxi  -0.137002\n",
            "        y_act    y_pred\n",
            "10   4.644391  4.896316\n",
            "14   5.393628  5.159594\n",
            "15   5.877736  5.581011\n",
            "16   4.941642  5.095127\n",
            "17   5.505332  5.366320\n",
            "..        ...       ...\n",
            "432  4.290459  4.381075\n",
            "433  3.891820  4.160404\n",
            "446  5.730100  5.261501\n",
            "447  5.634790  5.205184\n",
            "448  5.241747  5.170010\n",
            "\n",
            "[126 rows x 2 columns]\n"
          ],
          "name": "stdout"
        },
        {
          "output_type": "display_data",
          "data": {
            "image/png": "[encoded data removed]",
            "text/plain": [
              "<Figure size 432x288 with 1 Axes>"
            ]
          },
          "metadata": {
            "tags": []
          }
        },
        {
          "output_type": "stream",
          "text": [
            "max_relative_error: 0.23286062392379947\n",
            "0 out of  73 ,number of data point that has relative error more than  0.1\n",
            "11 out of  53 ,number of data point that has relative error more than  0.1\n",
            "(126, 8)\n",
            "(73, 8)\n",
            "(53, 8)\n",
            "Index(['const', 'T0/T', 'T0/T*S_H', 'log_P', 'log_Fuel', 'log_oxi', 'log_Time',\n",
            "       'error'],\n",
            "      dtype='object')\n"
          ],
          "name": "stdout"
        }
      ]
    },
    {
      "cell_type": "code",
      "metadata": {
        "id": "e5Xo_2s-ejKx",
        "colab_type": "code",
        "colab": {
          "base_uri": "https://localhost:8080/",
          "height": 830
        },
        "outputId": "9acdd022-38fc-4bfb-96fc-fe7c204bd536"
      },
      "source": [
        "reg_cluster_5 = regression_recursive(0.1)\n",
        "cluster_7 , cluster_8 = reg_cluster_5.analyze_cluster(cluster_5)"
      ],
      "execution_count": 26,
      "outputs": [
        {
          "output_type": "stream",
          "text": [
            "6\n",
            "  para_coef       coef\n",
            "0     const  -2.321854\n",
            "1      T0/T  10.912737\n",
            "2  T0/T*S_H   3.171331\n",
            "3     log_P  -0.457941\n",
            "4  log_Fuel  -0.126512\n",
            "5   log_oxi  -0.225017\n",
            "        y_act    y_pred\n",
            "14   5.393628  5.377632\n",
            "15   5.877736  5.832154\n",
            "17   5.505332  5.606000\n",
            "21   6.280396  6.310526\n",
            "26   6.040255  5.981316\n",
            "..        ...       ...\n",
            "428  5.332719  5.263239\n",
            "431  5.198497  5.067949\n",
            "446  5.730100  5.536281\n",
            "447  5.634790  5.474054\n",
            "448  5.241747  5.434774\n",
            "\n",
            "[73 rows x 2 columns]\n"
          ],
          "name": "stdout"
        },
        {
          "output_type": "display_data",
          "data": {
            "image/png": "[encoded data removed]",
            "text/plain": [
              "<Figure size 432x288 with 1 Axes>"
            ]
          },
          "metadata": {
            "tags": []
          }
        },
        {
          "output_type": "stream",
          "text": [
            "max_relative_error: 0.040075428021817856\n",
            "0 out of  39 ,number of data point that has relative error more than  0.1\n",
            "0 out of  34 ,number of data point that has relative error more than  0.1\n",
            "(73, 8)\n",
            "(39, 8)\n",
            "(34, 8)\n",
            "Index(['const', 'T0/T', 'T0/T*S_H', 'log_P', 'log_Fuel', 'log_oxi', 'log_Time',\n",
            "       'error'],\n",
            "      dtype='object')\n"
          ],
          "name": "stdout"
        }
      ]
    },
    {
      "cell_type": "code",
      "metadata": {
        "id": "OeVj0snEhICA",
        "colab_type": "code",
        "colab": {
          "base_uri": "https://localhost:8080/",
          "height": 1000
        },
        "outputId": "8a4e1632-272d-4a67-c1ee-a1683415e5b6"
      },
      "source": [
        "reg_cluster_6 = regression_recursive(0.1)\n",
        "cluster_9 , cluster_10 = reg_cluster_6.analyze_cluster(cluster_6)"
      ],
      "execution_count": 27,
      "outputs": [
        {
          "output_type": "stream",
          "text": [
            "6\n",
            "  para_coef      coef\n",
            "0     const -2.371361\n",
            "1      T0/T  9.299821\n",
            "2  T0/T*S_H  3.784384\n",
            "3     log_P -0.364336\n",
            "4  log_Fuel -0.303244\n",
            "5   log_oxi -0.008388\n",
            "        y_act    y_pred\n",
            "10   4.644391  4.642118\n",
            "16   4.941642  4.792719\n",
            "18   4.744932  4.719365\n",
            "19   5.023881  4.849623\n",
            "20   4.532599  4.576884\n",
            "22   5.840642  5.501101\n",
            "23   5.159055  5.223310\n",
            "24   5.049856  5.129579\n",
            "25   4.488636  4.907493\n",
            "27   4.418841  5.026267\n",
            "28   5.135798  5.244472\n",
            "29   5.438079  5.404516\n",
            "44   5.010635  5.176227\n",
            "45   5.598422  5.409793\n",
            "62   5.298317  5.159434\n",
            "99   5.135798  5.144827\n",
            "100  5.560682  5.369670\n",
            "109  5.298317  5.165346\n",
            "143  3.951244  3.912983\n",
            "147  4.143135  4.387081\n",
            "153  3.610918  4.177326\n",
            "169  4.127134  3.902582\n",
            "180  5.723585  6.475979\n",
            "181  6.297109  6.050766\n",
            "182  5.560682  6.319004\n",
            "184  8.585226  8.134517\n",
            "185  6.298949  6.858839\n",
            "186  7.069023  6.727815\n",
            "187  7.351800  7.009326\n",
            "193  4.382027  4.373248\n",
            "240  3.891820  4.319787\n",
            "241  5.030438  4.815799\n",
            "278  4.488636  4.493094\n",
            "279  4.897840  4.656734\n",
            "299  4.356709  4.507913\n",
            "320  4.465908  4.148960\n",
            "332  4.418841  4.096921\n",
            "334  4.875197  4.784370\n",
            "336  5.003946  4.825416\n",
            "337  4.564348  4.634033\n",
            "346  4.969813  4.694910\n",
            "356  4.779123  4.483307\n",
            "358  3.610918  4.009404\n",
            "360  4.418841  4.687807\n",
            "362  3.761200  4.007560\n",
            "367  4.969813  4.718183\n",
            "378  4.454347  4.473555\n",
            "379  4.795791  4.636546\n",
            "387  4.700480  4.577368\n",
            "429  4.595120  4.342907\n",
            "430  3.850148  3.852548\n",
            "432  4.290459  4.084062\n",
            "433  3.891820  3.879520\n"
          ],
          "name": "stdout"
        },
        {
          "output_type": "display_data",
          "data": {
            "image/png": "[encoded data removed]",
            "text/plain": [
              "<Figure size 432x288 with 1 Axes>"
            ]
          },
          "metadata": {
            "tags": []
          }
        },
        {
          "output_type": "stream",
          "text": [
            "max_relative_error: 0.15685994470349132\n",
            "0 out of  31 ,number of data point that has relative error more than  0.1\n",
            "6 out of  22 ,number of data point that has relative error more than  0.1\n",
            "(53, 8)\n",
            "(31, 8)\n",
            "(22, 8)\n",
            "Index(['const', 'T0/T', 'T0/T*S_H', 'log_P', 'log_Fuel', 'log_oxi', 'log_Time',\n",
            "       'error'],\n",
            "      dtype='object')\n"
          ],
          "name": "stdout"
        }
      ]
    }
  ]
}