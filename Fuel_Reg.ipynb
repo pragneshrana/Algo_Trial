{
  "nbformat": 4,
  "nbformat_minor": 0,
  "metadata": {
    "colab": {
      "name": "Untitled14.ipynb",
      "provenance": [],
      "collapsed_sections": [],
      "authorship_tag": "ABX9TyPyntUijVAiXJZLAjATgeej",
      "include_colab_link": true
    },
    "kernelspec": {
      "name": "python3",
      "display_name": "Python 3"
    }
  },
  "cells": [
    {
      "cell_type": "markdown",
      "metadata": {
        "id": "view-in-github",
        "colab_type": "text"
      },
      "source": [
        "<a href=\"https://colab.research.google.com/github/pragneshrana/Algo_Trial/blob/master/Fuel_Reg.ipynb\" target=\"_parent\"><img src=\"https://colab.research.google.com/assets/colab-badge.svg\" alt=\"Open In Colab\"/></a>"
      ]
    },
    {
      "cell_type": "markdown",
      "metadata": {
        "id": "rhMVxmoajwAc",
        "colab_type": "text"
      },
      "source": [
        "#Calling libraries  and dataset "
      ]
    },
    {
      "cell_type": "code",
      "metadata": {
        "id": "_8Rl89s0R29e",
        "colab_type": "code",
        "colab": {
          "base_uri": "https://localhost:8080/",
          "height": 285
        },
        "outputId": "86efee68-734e-4f1c-eaa3-17c37969344d"
      },
      "source": [
        "#loaded data\n",
        "import pandas as pd\n",
        "url = 'https://raw.githubusercontent.com/sivaramambikasaran/Data_driven_Kinetics/master/data/Alkane_Dataset_full_stanford_AR.csv?token=AINCVGUITKDVFRUDJQI7RZS6HP64A'\n",
        "df = pd.read_csv(url)# Dataset is now stored in a Pandas Dataframe\n",
        "print(df.columns)\n",
        "df = df.loc[:5,:]\n",
        "print(df)"
      ],
      "execution_count": 18,
      "outputs": [
        {
          "output_type": "stream",
          "text": [
            "Index(['Fuel', 'T(K)', 'T_Error(%)', 'P(atm)', 'P_Error(%)', 'Fuel(%)',\n",
            "       'Oxidizer(%)', 'Diluant(%)', 'Equv(phi)', 'Diluant Type', 'Time(μs)',\n",
            "       'Mode_of_measurement', 'Species_name', 'Species_measurement_Error',\n",
            "       'Measured_wavelength(nm)', 'Shocktube_dia(cm)', 'Research_group',\n",
            "       'Data_Source'],\n",
            "      dtype='object')\n",
            "       Fuel  ...                                        Data_Source\n",
            "0  CCCCCCCC  ...  Lam_2013_thesis / Normal_Alkanes_and_Simple_Ox...\n",
            "1  CCCCCCCC  ...  Lam_2013_thesis / Normal_Alkanes_and_Simple_Ox...\n",
            "2  CCCCCCCC  ...  Lam_2013_thesis / Normal_Alkanes_and_Simple_Ox...\n",
            "3  CCCCCCCC  ...  Lam_2013_thesis / Normal_Alkanes_and_Simple_Ox...\n",
            "4  CCCCCCCC  ...  Lam_2013_thesis / Normal_Alkanes_and_Simple_Ox...\n",
            "5  CCCCCCCC  ...  Lam_2013_thesis / Normal_Alkanes_and_Simple_Ox...\n",
            "\n",
            "[6 rows x 18 columns]\n"
          ],
          "name": "stdout"
        }
      ]
    },
    {
      "cell_type": "code",
      "metadata": {
        "id": "rGefEnGqVjjq",
        "colab_type": "code",
        "colab": {
          "base_uri": "https://localhost:8080/",
          "height": 231
        },
        "outputId": "1a43deee-be13-4b1f-cb98-396e1599d4be"
      },
      "source": [
        "print(df['Fuel'] )"
      ],
      "execution_count": 9,
      "outputs": [
        {
          "output_type": "stream",
          "text": [
            "0      CCCCCCCC\n",
            "1      CCCCCCCC\n",
            "2      CCCCCCCC\n",
            "3      CCCCCCCC\n",
            "4      CCCCCCCC\n",
            "         ...   \n",
            "444     CCCCCCC\n",
            "445     CCCCCCC\n",
            "446     CCCCCCC\n",
            "447     CCCCCCC\n",
            "448     CCCCCCC\n",
            "Name: Fuel, Length: 449, dtype: object\n"
          ],
          "name": "stdout"
        }
      ]
    },
    {
      "cell_type": "markdown",
      "metadata": {
        "id": "saSYAaq7j88J",
        "colab_type": "text"
      },
      "source": [
        "#Fucntion for finding the S_H bonds"
      ]
    },
    {
      "cell_type": "code",
      "metadata": {
        "id": "Hb0wzPRNW_h0",
        "colab_type": "code",
        "colab": {
          "base_uri": "https://localhost:8080/",
          "height": 35
        },
        "outputId": "085f90f3-7c3a-4417-cff9-4fef25de2d5b"
      },
      "source": [
        "def find_chain_length(fuel_data):\n",
        "  '''\n",
        "  This method will return the number of double bonds in the alkanes\n",
        "  Input: list of fuel\n",
        "  output : fuel S_H bond array \n",
        "  '''\n",
        "  S_H = []\n",
        "  #number bonds in the alkanes are (2n-2) for C>3 (S_H)\n",
        "  for i in range(len(fuel_data)):\n",
        "    S_H_count = len(fuel_data[i]) #count by fuel length\n",
        "    S_H.append(S_H_count)\n",
        "  return S_H\n",
        "\n",
        "# #check fucntion\n",
        "# print(find_chain_length(['CCC','CCCC']))\n"
      ],
      "execution_count": 28,
      "outputs": [
        {
          "output_type": "stream",
          "text": [
            "[3, 4]\n"
          ],
          "name": "stdout"
        }
      ]
    },
    {
      "cell_type": "markdown",
      "metadata": {
        "id": "OU_hPPoKkE3c",
        "colab_type": "text"
      },
      "source": [
        "#Required clumn from data"
      ]
    },
    {
      "cell_type": "code",
      "metadata": {
        "id": "KyFtUhAUSn7u",
        "colab_type": "code",
        "colab": {
          "base_uri": "https://localhost:8080/",
          "height": 142
        },
        "outputId": "0a98af07-ff3e-4a57-833a-a1a31bfe6623"
      },
      "source": [
        "#calling library\n",
        "import pandas as pd\n",
        "import numpy as np\n",
        "\n",
        "data = pd.DataFrame([]) #Empty DataFrame\n",
        "\n",
        "#required data\n",
        "data['S_H'] = find_chain_length(list(df['Fuel']))\n",
        "data['T(K)'] = df['T(K)']\n",
        "data['P(atm)'] = df['P(atm)']\n",
        "data['Fuel(%)'] = df['Fuel(%)']\n",
        "data['Oxidizer(%)'] = df['Oxidizer(%)']\n",
        "data['Diluant(%)'] = df['Diluant(%)']\n",
        "data['Equv(phi)'] = df['Equv(phi)']\n",
        "data['Time(μs)'] = df['Time(μs)']\n",
        "print(data)"
      ],
      "execution_count": 50,
      "outputs": [
        {
          "output_type": "stream",
          "text": [
            "   S_H  T(K)  P(atm)  Fuel(%)  Oxidizer(%)  Diluant(%)  Equv(phi)  Time(μs)\n",
            "0    8  1325    1.95     0.32          4.0       95.68        1.0       859\n",
            "1    8  1265    2.05     0.32          4.0       95.68        1.0      1569\n",
            "2    8  1289    2.01     0.32          4.0       95.68        1.0      1198\n",
            "3    8  1385    1.96     0.32          4.0       95.68        1.0       390\n",
            "4    8  1455    1.87     0.32          4.0       95.68        1.0       166\n",
            "5    8  1282    3.37     0.32          4.0       95.68        1.0      1020\n"
          ],
          "name": "stdout"
        }
      ]
    },
    {
      "cell_type": "markdown",
      "metadata": {
        "id": "NPPpqZzgkMEp",
        "colab_type": "text"
      },
      "source": [
        "# Conversion of data into the log or other form as per requirement to frame equation"
      ]
    },
    {
      "cell_type": "code",
      "metadata": {
        "id": "K6owi42lVcIU",
        "colab_type": "code",
        "colab": {
          "base_uri": "https://localhost:8080/",
          "height": 71
        },
        "outputId": "ca86513c-3add-4c47-8572-151c9948e2ba"
      },
      "source": [
        "converted_data  = pd.DataFrame([]) #Empty DataFrame\n",
        "\n",
        "# conversion of parameters for the equation \n",
        "converted_data['S_H'] = find_chain_length(list(df['Fuel']))\n",
        "converted_data['T'] = df['T(K)']\n",
        "converted_data['log_T'] = np.log(df['T(K)'])\n",
        "converted_data['log_P'] = np.log(df['P(atm)'])\n",
        "converted_data['log_Fuel'] = np.log(df['Fuel(%)'])\n",
        "converted_data['log_oxi'] = np.log(df['Oxidizer(%)'])\n",
        "converted_data['log_Dilu'] = np.log(df['Diluant(%)'])\n",
        "# converted_data['log_Equi'] = np.log(df['Equv(phi)'])\n",
        "converted_data['log_Tim'] = np.log(df['Time(μs)'])\n",
        "converted_data.columns"
      ],
      "execution_count": 51,
      "outputs": [
        {
          "output_type": "execute_result",
          "data": {
            "text/plain": [
              "Index(['S_H', 'T', 'log_T', 'log_P', 'log_Fuel', 'log_oxi', 'log_Dilu',\n",
              "       'log_Tim'],\n",
              "      dtype='object')"
            ]
          },
          "metadata": {
            "tags": []
          },
          "execution_count": 51
        }
      ]
    },
    {
      "cell_type": "markdown",
      "metadata": {
        "id": "61oDlwtokfaD",
        "colab_type": "text"
      },
      "source": [
        "#Mathematical operations"
      ]
    },
    {
      "cell_type": "code",
      "metadata": {
        "id": "JsVJe2YmjJ4T",
        "colab_type": "code",
        "colab": {
          "base_uri": "https://localhost:8080/",
          "height": 142
        },
        "outputId": "9e5d2ecf-4219-4e05-c842-e1d5127245f0"
      },
      "source": [
        "#Matrix and vector \n",
        "X = converted_data.iloc[:,:-1]\n",
        "y =  converted_data.iloc[:,-1]\n",
        "print(y)"
      ],
      "execution_count": 52,
      "outputs": [
        {
          "output_type": "stream",
          "text": [
            "0    6.755769\n",
            "1    7.358194\n",
            "2    7.088409\n",
            "3    5.966147\n",
            "4    5.111988\n",
            "5    6.927558\n",
            "Name: log_Tim, dtype: float64\n"
          ],
          "name": "stdout"
        }
      ]
    },
    {
      "cell_type": "code",
      "metadata": {
        "id": "BDSCh2FYfwQ0",
        "colab_type": "code",
        "colab": {
          "base_uri": "https://localhost:8080/",
          "height": 106
        },
        "outputId": "b969d567-515f-448b-dd3b-c84f59c4038d"
      },
      "source": [
        "from sklearn.model_selection import train_test_split\n",
        "X_train, X_test, y_train, y_test = train_test_split(X, y, test_size=0.3, random_state=42)\n",
        "print(X_train)"
      ],
      "execution_count": 53,
      "outputs": [
        {
          "output_type": "stream",
          "text": [
            "   S_H     T     log_T     log_P  log_Fuel   log_oxi  log_Dilu\n",
            "5    8  1282  7.156177  1.214913 -1.139434  1.386294  4.561009\n",
            "2    8  1289  7.161622  0.698135 -1.139434  1.386294  4.561009\n",
            "4    8  1455  7.282761  0.625938 -1.139434  1.386294  4.561009\n",
            "3    8  1385  7.233455  0.672944 -1.139434  1.386294  4.561009\n"
          ],
          "name": "stdout"
        }
      ]
    },
    {
      "cell_type": "markdown",
      "metadata": {
        "id": "vRQYwCZ8roBb",
        "colab_type": "text"
      },
      "source": [
        "#Regression\n",
        "To solve $X\\beta= y$\n",
        "\n",
        "$X^TX \\beta= X^Ty$\n",
        "\n",
        "Now decomposing matrix using QR decomposition \\\n",
        "taking, $X = QR$\n",
        "\n",
        "$(QR)^T(QR) \\beta= (QR)^Ty$\n",
        "\n",
        "$( R^T Q^T Q R) \\beta= (QR)^Ty$\n",
        "\n",
        "$( R^T R) \\beta= R^T Q^Ty$\n",
        "\n",
        "$ (R^T)^{-1} R^T R \\beta=  Q^Ty$\n",
        "\n",
        "$ R \\beta=  Q^Ty$\n",
        "\n",
        "$ R \\beta=  z$\n",
        "\n",
        "As R is upper triangular which can be solved by back substituion.\n"
      ]
    },
    {
      "cell_type": "code",
      "metadata": {
        "id": "W7tKmmGBjF_V",
        "colab_type": "code",
        "colab": {
          "base_uri": "https://localhost:8080/",
          "height": 53
        },
        "outputId": "70ae0dc8-67e2-4a24-8c53-f157132418b1"
      },
      "source": [
        "\n",
        "#Find parameters by regression using least-square formula (XT X)^-1 XT \n",
        "import scipy as sp\n",
        "\n",
        "def back_substitution(A,b):\n",
        "  '''\n",
        "  This method will de backsubstitution\n",
        "  '''\n",
        "  n = b.size\n",
        "  x = np.zeros(n)\n",
        "\n",
        "  if(A[n-1, n-1] == 0):\n",
        "      raise ValueError\n",
        "\n",
        "  for i in range(n-1, 0, -1):\n",
        "      x[i] = A[i, i]/b[i]\n",
        "      for j in range (i-1, 0, -1):\n",
        "          A[i, i] += A[j, i]*x[i]\n",
        "\n",
        "  return x\n",
        "\n",
        "def regression(X,y):\n",
        "  '''\n",
        "  This method will best fit using qr factorization\n",
        "  '''\n",
        "  Q,R = sp.linalg.qr(X)\n",
        "  #solve \n",
        "  z = np.matmul(np.transpose(Q),y)\n",
        "  #back-substitution\n",
        "  beta = back_substitution(R,z)\n",
        "  print('beta',beta)\n",
        "\n",
        "regression(X,y)\n",
        "\n"
      ],
      "execution_count": 82,
      "outputs": [
        {
          "output_type": "stream",
          "text": [
            "beta [ 0.00000000e+00 -8.78199878e+01  2.45592262e-02 -1.98779465e+00\n",
            " -1.59277769e-14 -5.26006244e-30]\n"
          ],
          "name": "stdout"
        }
      ]
    },
    {
      "cell_type": "code",
      "metadata": {
        "id": "Ei63lZUq32dg",
        "colab_type": "code",
        "colab": {
          "base_uri": "https://localhost:8080/",
          "height": 53
        },
        "outputId": "f739ed52-1e83-4d44-9fdb-e6ce73d1be7f"
      },
      "source": [
        "from sklearn.linear_model import LinearRegression as LR\n",
        "reg = LR().fit(X, y)\n",
        "reg.coef_"
      ],
      "execution_count": 80,
      "outputs": [
        {
          "output_type": "execute_result",
          "data": {
            "text/plain": [
              "array([-4.40781682e-11, -3.31171382e-02,  2.85352574e+01, -5.03070074e-01,\n",
              "        0.00000000e+00,  0.00000000e+00,  0.00000000e+00])"
            ]
          },
          "metadata": {
            "tags": []
          },
          "execution_count": 80
        }
      ]
    },
    {
      "cell_type": "code",
      "metadata": {
        "id": "W-LKfcaZ38RW",
        "colab_type": "code",
        "colab": {}
      },
      "source": [
        ""
      ],
      "execution_count": 0,
      "outputs": []
    }
  ]
}