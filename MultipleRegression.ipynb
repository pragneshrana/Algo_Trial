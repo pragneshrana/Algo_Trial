{
  "nbformat": 4,
  "nbformat_minor": 0,
  "metadata": {
    "colab": {
      "name": "MultipleRegression.ipynb",
      "provenance": [],
      "collapsed_sections": [],
      "authorship_tag": "ABX9TyP/HhnvWUYU45wbesq/t6/b",
      "include_colab_link": true
    },
    "kernelspec": {
      "name": "python3",
      "display_name": "Python 3"
    }
  },
  "cells": [
    {
      "cell_type": "markdown",
      "metadata": {
        "id": "view-in-github",
        "colab_type": "text"
      },
      "source": [
        "<a href=\"https://colab.research.google.com/github/pragneshrana/Algo_Trial/blob/master/MultipleRegression.ipynb\" target=\"_parent\"><img src=\"https://colab.research.google.com/assets/colab-badge.svg\" alt=\"Open In Colab\"/></a>"
      ]
    },
    {
      "cell_type": "code",
      "metadata": {
        "id": "bJgvWBcLLjY2",
        "colab_type": "code",
        "colab": {
          "base_uri": "https://localhost:8080/",
          "height": 231
        },
        "outputId": "a185498a-16ce-4047-8e28-8060a01ad1cf"
      },
      "source": [
        "'''\n",
        "Code to extract the OLS summary of different parameter.\n",
        "TO save in excel file\n",
        "RUN model and append the result\n",
        "'''\n",
        "import statsmodels.api as sm\n",
        "import numpy as np\n",
        "\n",
        "Y = [1,3,4,5,2,3,4]\n",
        "X = range(1,8)\n",
        "X = sm.add_constant(X)\n",
        "model = sm.OLS(Y,X)\n",
        "results = model.fit()\n",
        "# print('Summary:',results.summary())\n",
        "# print('params:',results.params)\n",
        "# print('tvalues:',results.tvalues)\n",
        "# print('ttest:',results.t_test([1, 0]))\n",
        "# print('ftest:',results.f_test(np.identity(2)))\n",
        "print('Conition Number:',results.condition_number)\n",
        "print('Eigen values:',results.eigenvals)\n",
        "print('Rsquared:',results.rsquared)\n",
        "print('F-statistic:', results.fvalue)\n",
        "print('Prob (F-statistic):', results.f_pvalue)\n",
        "print('Log-Likelihood:', None)\n",
        "print('AIC:', results.aic)\n",
        "print('BIC:', results.bic)\n",
        "print('SSR:',results.ssr)\n",
        "print('Confidence intervasl:',results.conf_int())\n",
        "print('Number of observations :',results.nobs)"
      ],
      "execution_count": 36,
      "outputs": [
        {
          "output_type": "stream",
          "text": [
            "Conition Number: 10.40388203202207\n",
            "Eigen values: [145.65434845   1.34565155]\n",
            "Rsquared: 0.16118421052631593\n",
            "F-statistic: 0.9607843137254913\n",
            "Prob (F-statistic): 0.37200486130017757\n",
            "Log-Likelihood: None\n",
            "AIC: 25.70718166636078\n",
            "BIC: 25.599001964471405\n",
            "SSR: 9.107142857142856\n",
            "Confidence intervasl: [[-0.78920715  5.07492144]\n",
            " [-0.40562951  0.90562951]]\n",
            "Number of observations : 7.0\n"
          ],
          "name": "stdout"
        }
      ]
    },
    {
      "cell_type": "code",
      "metadata": {
        "id": "Ej10OxgKMSe9",
        "colab_type": "code",
        "colab": {}
      },
      "source": [
        ""
      ],
      "execution_count": 0,
      "outputs": []
    }
  ]
}