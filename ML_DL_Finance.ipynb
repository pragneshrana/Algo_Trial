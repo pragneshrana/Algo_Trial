{
  "nbformat": 4,
  "nbformat_minor": 0,
  "metadata": {
    "colab": {
      "provenance": [],
      "authorship_tag": "ABX9TyPL68EwbZY/+6pxfbp/JjPV",
      "include_colab_link": true
    },
    "kernelspec": {
      "name": "python3",
      "display_name": "Python 3"
    },
    "language_info": {
      "name": "python"
    }
  },
  "cells": [
    {
      "cell_type": "markdown",
      "metadata": {
        "id": "view-in-github",
        "colab_type": "text"
      },
      "source": [
        "<a href=\"https://colab.research.google.com/github/pragneshrana/Algo_Trial/blob/master/ML_DL_Finance.ipynb\" target=\"_parent\"><img src=\"https://colab.research.google.com/assets/colab-badge.svg\" alt=\"Open In Colab\"/></a>"
      ]
    },
    {
      "cell_type": "markdown",
      "source": [
        "  \n",
        "- AI in Trading\n",
        "    - Quantative Trading\n",
        "    - Algorithmic trading\n",
        "      - Breakout\n",
        "      - Trend Following\n",
        "      - Mean Reversion\n",
        "      - Moving Average Crossover\n",
        "      - Momentum Trading\n",
        "      - Statistical Arbitrage\n",
        "    - High Frequency Trading\n",
        "    - Automated Trading\n",
        "    \n",
        "  "
      ],
      "metadata": {
        "id": "R09RpEcOvAnh"
      }
    },
    {
      "cell_type": "markdown",
      "source": [
        "Goal:\n",
        "  - Making buy and sell signal using technical indicators\n",
        "  - Prediciting trend of stock price\n"
      ],
      "metadata": {
        "id": "2vJ6y_BUB6Wx"
      }
    },
    {
      "cell_type": "markdown",
      "source": [
        "### Fetching Data"
      ],
      "metadata": {
        "id": "xRobSkEvEad5"
      }
    },
    {
      "cell_type": "code",
      "source": [
        "import numpy as np\n",
        "import pandas as pd\n",
        "import yfinance as yf\n",
        "import tensorflow as tf\n",
        "import matplotlib.pyplot as plt\n",
        "from tensorflow.keras.models import Sequential\n",
        "from tensorflow.keras.layers import Dense, LSTM, Dropout\n",
        "from tensorflow.keras.optimizers import Adam\n",
        "from sklearn.model_selection import train_test_split\n",
        "from sklearn.ensemble import RandomForestRegressor\n",
        "from sklearn.metrics import mean_squared_error\n",
        "from sklearn.preprocessing import StandardScaler\n",
        "\n",
        "symbol = 'ITC.NS'\n",
        "start_date = '2020-01-01'\n",
        "end_date = '2024-07-01'\n",
        "yf.pdr_override() # <== that's all it takes :-)\n",
        "\n",
        "stock_data = yf.download(symbol, start=start_date, end=end_date)"
      ],
      "metadata": {
        "colab": {
          "base_uri": "https://localhost:8080/"
        },
        "id": "JABTHMLku_48",
        "outputId": "1e6cdb5f-a5ae-42a6-bbcf-0af4bb7c77be"
      },
      "execution_count": 1,
      "outputs": [
        {
          "output_type": "stream",
          "name": "stdout",
          "text": [
            "\r[*********************100%%**********************]  1 of 1 completed\n"
          ]
        }
      ]
    },
    {
      "cell_type": "code",
      "source": [
        "close_data = stock_data['Close']"
      ],
      "metadata": {
        "id": "kspsxCfDeQcK"
      },
      "execution_count": 2,
      "outputs": []
    },
    {
      "cell_type": "markdown",
      "source": [
        "### Generating 'Buy' and 'Sell' Signal\n",
        "  - Here, Considered on daily data rather than generalized framework\n",
        "  - No adjustments  are made to data (fot stock split, dividend and other actions)\n",
        "  - Below work is illustrative purpose"
      ],
      "metadata": {
        "id": "wtdub1QntFup"
      }
    },
    {
      "cell_type": "code",
      "source": [
        "import pandas as pd\n",
        "import matplotlib.pyplot as plt\n",
        "\n",
        "def generate_signals(close_data, short_window=40, long_window=100):\n",
        "    # Create a DataFrame to store signals\n",
        "    signals = pd.DataFrame(index=close_data.index)\n",
        "    signals['close'] = close_data\n",
        "    signals['short_mavg'] = close_data.rolling(window=short_window, min_periods=1, center=False).mean()\n",
        "    signals['long_mavg'] = close_data.rolling(window=long_window, min_periods=1, center=False).mean()\n",
        "\n",
        "    # Create signals\n",
        "    signals['signal'] = 0.0\n",
        "    signals['signal'][short_window:] = np.where(signals['short_mavg'][short_window:] > signals['long_mavg'][short_window:], 1.0, 0.0)\n",
        "    signals['positions'] = signals['signal'].diff()\n",
        "\n",
        "    # Create a DataFrame to store trades\n",
        "    trades = pd.DataFrame(index=signals.index)\n",
        "\n",
        "    # Buy signal\n",
        "    trades['buy_signal'] = np.where(signals['positions'] == 1, 1, 0)\n",
        "\n",
        "    # Sell signal\n",
        "    trades['sell_signal'] = np.where(signals['positions'] == -1, 1, 0)\n",
        "\n",
        "    return signals, trades\n",
        "\n",
        "\n",
        "\n",
        "\n"
      ],
      "metadata": {
        "id": "FguNm9UsW0YK"
      },
      "execution_count": 3,
      "outputs": []
    },
    {
      "cell_type": "code",
      "source": [
        "def calculate_profit(signals, trades, initial_cash=10000):\n",
        "    # Create a DataFrame for backtesting\n",
        "    backtest = pd.DataFrame(index=signals.index)\n",
        "    backtest['close'] = signals['close']\n",
        "    backtest['position'] = signals['signal']\n",
        "    backtest['buy_signal'] = trades['buy_signal']\n",
        "    backtest['sell_signal'] = trades['sell_signal']\n",
        "\n",
        "    # Calculate daily returns\n",
        "    backtest['daily_returns'] = backtest['close'].pct_change()\n",
        "\n",
        "    # Calculate daily cash value\n",
        "    backtest['cash_value'] = (backtest['position'].shift(1) * backtest['daily_returns'] + 1).cumprod() * initial_cash\n",
        "\n",
        "    return backtest\n"
      ],
      "metadata": {
        "id": "TjpsueCvt7O0"
      },
      "execution_count": 4,
      "outputs": []
    },
    {
      "cell_type": "code",
      "source": [
        "def plot_results(signals, backtest):\n",
        "    # Plotting\n",
        "    plt.figure(figsize=(14, 8))\n",
        "    plt.plot(backtest['close'], label='Close Price', linewidth=2)\n",
        "    plt.plot(signals['short_mavg'], label='Short MAvg', linestyle='--', alpha=0.7)\n",
        "    plt.plot(signals['long_mavg'], label='Long MAvg', linestyle='--', alpha=0.7)\n",
        "    plt.scatter(signals[signals['positions'] == 1].index, signals['short_mavg'][signals['positions'] == 1], marker='^', color='g', label='Buy Signal')\n",
        "    plt.scatter(signals[signals['positions'] == -1].index, signals['short_mavg'][signals['positions'] == -1], marker='v', color='r', label='Sell Signal')\n",
        "    plt.title('Buy/Sell Signals with Moving Averages')\n",
        "    plt.xlabel('Date')\n",
        "    plt.ylabel('Close Price')\n",
        "    plt.legend()\n",
        "    plt.show()"
      ],
      "metadata": {
        "id": "0ixo4bMIt7KI"
      },
      "execution_count": 5,
      "outputs": []
    },
    {
      "cell_type": "code",
      "source": [
        "def calculate_trade_summary(backtest):\n",
        "    trades = backtest[(backtest['buy_signal'] == 1) | (backtest['sell_signal'] == 1)]\n",
        "\n",
        "    trade_summary = pd.DataFrame(index=trades.index)\n",
        "    trade_summary['trade_type'] = np.where(trades['buy_signal'] == 1, 'Buy', 'Sell')\n",
        "    trade_summary['trade_price'] = trades['close']\n",
        "    trade_summary['trade_return'] = trade_summary['trade_price'].pct_change() * trade_summary['trade_type'].apply(lambda x: 1 if x == 'Buy' else -1)\n",
        "\n",
        "    # Calculate profit and loss\n",
        "    trade_summary['profit_loss'] = trade_summary['trade_return'].cumsum()\n",
        "\n",
        "    # Calculate drawdowns\n",
        "    trade_summary['drawdown'] = trade_summary['profit_loss'] - trade_summary['profit_loss'].cummax()\n",
        "    trade_summary['drawup'] = trade_summary['profit_loss'] - trade_summary['profit_loss'].cummin()\n",
        "\n",
        "    # Calculate maximum drawdown and minimum drawdown\n",
        "    max_drawdown = trade_summary['drawdown'].min()\n",
        "    min_drawdown = trade_summary['drawup'].min()\n",
        "\n",
        "    return trade_summary, max_drawdown, min_drawdown\n",
        "\n"
      ],
      "metadata": {
        "id": "cNKZjD_Vt7GQ"
      },
      "execution_count": 6,
      "outputs": []
    },
    {
      "cell_type": "code",
      "source": [
        "# Generate signals\n",
        "signals, trades = generate_signals(close_data)"
      ],
      "metadata": {
        "id": "4vX2sudCt62P"
      },
      "execution_count": 7,
      "outputs": []
    },
    {
      "cell_type": "code",
      "source": [
        "# Calculate profit\n",
        "backtest = calculate_profit(signals, trades)\n"
      ],
      "metadata": {
        "id": "vA03q8Mpt6xm"
      },
      "execution_count": 8,
      "outputs": []
    },
    {
      "cell_type": "code",
      "source": [
        "# Example usage\n",
        "trade_summary, max_drawdown, min_drawdown = calculate_trade_summary(backtest)\n"
      ],
      "metadata": {
        "id": "yCwonyEit6uR"
      },
      "execution_count": 9,
      "outputs": []
    },
    {
      "cell_type": "code",
      "source": [
        "# Display trade summary\n",
        "display(trade_summary)\n",
        "\n",
        "# Display maximum drawdown and minimum drawdown\n",
        "print(f\"Maximum Drawdown: {max_drawdown}\")\n",
        "print(f\"Minimum Drawdown: {min_drawdown}\")\n"
      ],
      "metadata": {
        "colab": {
          "base_uri": "https://localhost:8080/",
          "height": 455
        },
        "id": "SfPlIusRt6qv",
        "outputId": "78f0b921-4a85-4bf8-abd8-041a54ec50c9"
      },
      "execution_count": 10,
      "outputs": [
        {
          "output_type": "display_data",
          "data": {
            "text/plain": [
              "           trade_type  trade_price  trade_return  profit_loss  drawdown  \\\n",
              "Date                                                                      \n",
              "2020-07-01        Buy   202.899994           NaN          NaN       NaN   \n",
              "2020-09-25       Sell   170.750000      0.158452     0.158452  0.000000   \n",
              "2020-12-15        Buy   213.550003      0.250659     0.409111  0.000000   \n",
              "2021-04-22       Sell   205.899994      0.035823     0.444934  0.000000   \n",
              "2021-08-31        Buy   211.300003      0.026226     0.471161  0.000000   \n",
              "2021-12-31       Sell   218.050003     -0.031945     0.439216 -0.031945   \n",
              "2022-03-21        Buy   244.500000      0.121302     0.560518  0.000000   \n",
              "2023-01-16       Sell   330.200012     -0.350511     0.210007 -0.350511   \n",
              "2023-02-07        Buy   373.250000      0.130375     0.340382 -0.220136   \n",
              "2023-09-26       Sell   442.450012     -0.185399     0.154984 -0.405534   \n",
              "2023-12-29        Buy   462.100006      0.044412     0.199395 -0.361123   \n",
              "\n",
              "              drawup  \n",
              "Date                  \n",
              "2020-07-01       NaN  \n",
              "2020-09-25  0.000000  \n",
              "2020-12-15  0.250659  \n",
              "2021-04-22  0.286482  \n",
              "2021-08-31  0.312708  \n",
              "2021-12-31  0.280763  \n",
              "2022-03-21  0.402066  \n",
              "2023-01-16  0.051554  \n",
              "2023-02-07  0.181930  \n",
              "2023-09-26  0.000000  \n",
              "2023-12-29  0.044412  "
            ],
            "text/html": [
              "\n",
              "  <div id=\"df-d10caa6d-b015-444a-bf93-1abd2a289c77\" class=\"colab-df-container\">\n",
              "    <div>\n",
              "<style scoped>\n",
              "    .dataframe tbody tr th:only-of-type {\n",
              "        vertical-align: middle;\n",
              "    }\n",
              "\n",
              "    .dataframe tbody tr th {\n",
              "        vertical-align: top;\n",
              "    }\n",
              "\n",
              "    .dataframe thead th {\n",
              "        text-align: right;\n",
              "    }\n",
              "</style>\n",
              "<table border=\"1\" class=\"dataframe\">\n",
              "  <thead>\n",
              "    <tr style=\"text-align: right;\">\n",
              "      <th></th>\n",
              "      <th>trade_type</th>\n",
              "      <th>trade_price</th>\n",
              "      <th>trade_return</th>\n",
              "      <th>profit_loss</th>\n",
              "      <th>drawdown</th>\n",
              "      <th>drawup</th>\n",
              "    </tr>\n",
              "    <tr>\n",
              "      <th>Date</th>\n",
              "      <th></th>\n",
              "      <th></th>\n",
              "      <th></th>\n",
              "      <th></th>\n",
              "      <th></th>\n",
              "      <th></th>\n",
              "    </tr>\n",
              "  </thead>\n",
              "  <tbody>\n",
              "    <tr>\n",
              "      <th>2020-07-01</th>\n",
              "      <td>Buy</td>\n",
              "      <td>202.899994</td>\n",
              "      <td>NaN</td>\n",
              "      <td>NaN</td>\n",
              "      <td>NaN</td>\n",
              "      <td>NaN</td>\n",
              "    </tr>\n",
              "    <tr>\n",
              "      <th>2020-09-25</th>\n",
              "      <td>Sell</td>\n",
              "      <td>170.750000</td>\n",
              "      <td>0.158452</td>\n",
              "      <td>0.158452</td>\n",
              "      <td>0.000000</td>\n",
              "      <td>0.000000</td>\n",
              "    </tr>\n",
              "    <tr>\n",
              "      <th>2020-12-15</th>\n",
              "      <td>Buy</td>\n",
              "      <td>213.550003</td>\n",
              "      <td>0.250659</td>\n",
              "      <td>0.409111</td>\n",
              "      <td>0.000000</td>\n",
              "      <td>0.250659</td>\n",
              "    </tr>\n",
              "    <tr>\n",
              "      <th>2021-04-22</th>\n",
              "      <td>Sell</td>\n",
              "      <td>205.899994</td>\n",
              "      <td>0.035823</td>\n",
              "      <td>0.444934</td>\n",
              "      <td>0.000000</td>\n",
              "      <td>0.286482</td>\n",
              "    </tr>\n",
              "    <tr>\n",
              "      <th>2021-08-31</th>\n",
              "      <td>Buy</td>\n",
              "      <td>211.300003</td>\n",
              "      <td>0.026226</td>\n",
              "      <td>0.471161</td>\n",
              "      <td>0.000000</td>\n",
              "      <td>0.312708</td>\n",
              "    </tr>\n",
              "    <tr>\n",
              "      <th>2021-12-31</th>\n",
              "      <td>Sell</td>\n",
              "      <td>218.050003</td>\n",
              "      <td>-0.031945</td>\n",
              "      <td>0.439216</td>\n",
              "      <td>-0.031945</td>\n",
              "      <td>0.280763</td>\n",
              "    </tr>\n",
              "    <tr>\n",
              "      <th>2022-03-21</th>\n",
              "      <td>Buy</td>\n",
              "      <td>244.500000</td>\n",
              "      <td>0.121302</td>\n",
              "      <td>0.560518</td>\n",
              "      <td>0.000000</td>\n",
              "      <td>0.402066</td>\n",
              "    </tr>\n",
              "    <tr>\n",
              "      <th>2023-01-16</th>\n",
              "      <td>Sell</td>\n",
              "      <td>330.200012</td>\n",
              "      <td>-0.350511</td>\n",
              "      <td>0.210007</td>\n",
              "      <td>-0.350511</td>\n",
              "      <td>0.051554</td>\n",
              "    </tr>\n",
              "    <tr>\n",
              "      <th>2023-02-07</th>\n",
              "      <td>Buy</td>\n",
              "      <td>373.250000</td>\n",
              "      <td>0.130375</td>\n",
              "      <td>0.340382</td>\n",
              "      <td>-0.220136</td>\n",
              "      <td>0.181930</td>\n",
              "    </tr>\n",
              "    <tr>\n",
              "      <th>2023-09-26</th>\n",
              "      <td>Sell</td>\n",
              "      <td>442.450012</td>\n",
              "      <td>-0.185399</td>\n",
              "      <td>0.154984</td>\n",
              "      <td>-0.405534</td>\n",
              "      <td>0.000000</td>\n",
              "    </tr>\n",
              "    <tr>\n",
              "      <th>2023-12-29</th>\n",
              "      <td>Buy</td>\n",
              "      <td>462.100006</td>\n",
              "      <td>0.044412</td>\n",
              "      <td>0.199395</td>\n",
              "      <td>-0.361123</td>\n",
              "      <td>0.044412</td>\n",
              "    </tr>\n",
              "  </tbody>\n",
              "</table>\n",
              "</div>\n",
              "    <div class=\"colab-df-buttons\">\n",
              "\n",
              "  <div class=\"colab-df-container\">\n",
              "    <button class=\"colab-df-convert\" onclick=\"convertToInteractive('df-d10caa6d-b015-444a-bf93-1abd2a289c77')\"\n",
              "            title=\"Convert this dataframe to an interactive table.\"\n",
              "            style=\"display:none;\">\n",
              "\n",
              "  <svg xmlns=\"http://www.w3.org/2000/svg\" height=\"24px\" viewBox=\"0 -960 960 960\">\n",
              "    <path d=\"M120-120v-720h720v720H120Zm60-500h600v-160H180v160Zm220 220h160v-160H400v160Zm0 220h160v-160H400v160ZM180-400h160v-160H180v160Zm440 0h160v-160H620v160ZM180-180h160v-160H180v160Zm440 0h160v-160H620v160Z\"/>\n",
              "  </svg>\n",
              "    </button>\n",
              "\n",
              "  <style>\n",
              "    .colab-df-container {\n",
              "      display:flex;\n",
              "      gap: 12px;\n",
              "    }\n",
              "\n",
              "    .colab-df-convert {\n",
              "      background-color: #E8F0FE;\n",
              "      border: none;\n",
              "      border-radius: 50%;\n",
              "      cursor: pointer;\n",
              "      display: none;\n",
              "      fill: #1967D2;\n",
              "      height: 32px;\n",
              "      padding: 0 0 0 0;\n",
              "      width: 32px;\n",
              "    }\n",
              "\n",
              "    .colab-df-convert:hover {\n",
              "      background-color: #E2EBFA;\n",
              "      box-shadow: 0px 1px 2px rgba(60, 64, 67, 0.3), 0px 1px 3px 1px rgba(60, 64, 67, 0.15);\n",
              "      fill: #174EA6;\n",
              "    }\n",
              "\n",
              "    .colab-df-buttons div {\n",
              "      margin-bottom: 4px;\n",
              "    }\n",
              "\n",
              "    [theme=dark] .colab-df-convert {\n",
              "      background-color: #3B4455;\n",
              "      fill: #D2E3FC;\n",
              "    }\n",
              "\n",
              "    [theme=dark] .colab-df-convert:hover {\n",
              "      background-color: #434B5C;\n",
              "      box-shadow: 0px 1px 3px 1px rgba(0, 0, 0, 0.15);\n",
              "      filter: drop-shadow(0px 1px 2px rgba(0, 0, 0, 0.3));\n",
              "      fill: #FFFFFF;\n",
              "    }\n",
              "  </style>\n",
              "\n",
              "    <script>\n",
              "      const buttonEl =\n",
              "        document.querySelector('#df-d10caa6d-b015-444a-bf93-1abd2a289c77 button.colab-df-convert');\n",
              "      buttonEl.style.display =\n",
              "        google.colab.kernel.accessAllowed ? 'block' : 'none';\n",
              "\n",
              "      async function convertToInteractive(key) {\n",
              "        const element = document.querySelector('#df-d10caa6d-b015-444a-bf93-1abd2a289c77');\n",
              "        const dataTable =\n",
              "          await google.colab.kernel.invokeFunction('convertToInteractive',\n",
              "                                                    [key], {});\n",
              "        if (!dataTable) return;\n",
              "\n",
              "        const docLinkHtml = 'Like what you see? Visit the ' +\n",
              "          '<a target=\"_blank\" href=https://colab.research.google.com/notebooks/data_table.ipynb>data table notebook</a>'\n",
              "          + ' to learn more about interactive tables.';\n",
              "        element.innerHTML = '';\n",
              "        dataTable['output_type'] = 'display_data';\n",
              "        await google.colab.output.renderOutput(dataTable, element);\n",
              "        const docLink = document.createElement('div');\n",
              "        docLink.innerHTML = docLinkHtml;\n",
              "        element.appendChild(docLink);\n",
              "      }\n",
              "    </script>\n",
              "  </div>\n",
              "\n",
              "\n",
              "<div id=\"df-ad1920c7-331c-4cdf-9d51-2e54e3503750\">\n",
              "  <button class=\"colab-df-quickchart\" onclick=\"quickchart('df-ad1920c7-331c-4cdf-9d51-2e54e3503750')\"\n",
              "            title=\"Suggest charts\"\n",
              "            style=\"display:none;\">\n",
              "\n",
              "<svg xmlns=\"http://www.w3.org/2000/svg\" height=\"24px\"viewBox=\"0 0 24 24\"\n",
              "     width=\"24px\">\n",
              "    <g>\n",
              "        <path d=\"M19 3H5c-1.1 0-2 .9-2 2v14c0 1.1.9 2 2 2h14c1.1 0 2-.9 2-2V5c0-1.1-.9-2-2-2zM9 17H7v-7h2v7zm4 0h-2V7h2v10zm4 0h-2v-4h2v4z\"/>\n",
              "    </g>\n",
              "</svg>\n",
              "  </button>\n",
              "\n",
              "<style>\n",
              "  .colab-df-quickchart {\n",
              "      --bg-color: #E8F0FE;\n",
              "      --fill-color: #1967D2;\n",
              "      --hover-bg-color: #E2EBFA;\n",
              "      --hover-fill-color: #174EA6;\n",
              "      --disabled-fill-color: #AAA;\n",
              "      --disabled-bg-color: #DDD;\n",
              "  }\n",
              "\n",
              "  [theme=dark] .colab-df-quickchart {\n",
              "      --bg-color: #3B4455;\n",
              "      --fill-color: #D2E3FC;\n",
              "      --hover-bg-color: #434B5C;\n",
              "      --hover-fill-color: #FFFFFF;\n",
              "      --disabled-bg-color: #3B4455;\n",
              "      --disabled-fill-color: #666;\n",
              "  }\n",
              "\n",
              "  .colab-df-quickchart {\n",
              "    background-color: var(--bg-color);\n",
              "    border: none;\n",
              "    border-radius: 50%;\n",
              "    cursor: pointer;\n",
              "    display: none;\n",
              "    fill: var(--fill-color);\n",
              "    height: 32px;\n",
              "    padding: 0;\n",
              "    width: 32px;\n",
              "  }\n",
              "\n",
              "  .colab-df-quickchart:hover {\n",
              "    background-color: var(--hover-bg-color);\n",
              "    box-shadow: 0 1px 2px rgba(60, 64, 67, 0.3), 0 1px 3px 1px rgba(60, 64, 67, 0.15);\n",
              "    fill: var(--button-hover-fill-color);\n",
              "  }\n",
              "\n",
              "  .colab-df-quickchart-complete:disabled,\n",
              "  .colab-df-quickchart-complete:disabled:hover {\n",
              "    background-color: var(--disabled-bg-color);\n",
              "    fill: var(--disabled-fill-color);\n",
              "    box-shadow: none;\n",
              "  }\n",
              "\n",
              "  .colab-df-spinner {\n",
              "    border: 2px solid var(--fill-color);\n",
              "    border-color: transparent;\n",
              "    border-bottom-color: var(--fill-color);\n",
              "    animation:\n",
              "      spin 1s steps(1) infinite;\n",
              "  }\n",
              "\n",
              "  @keyframes spin {\n",
              "    0% {\n",
              "      border-color: transparent;\n",
              "      border-bottom-color: var(--fill-color);\n",
              "      border-left-color: var(--fill-color);\n",
              "    }\n",
              "    20% {\n",
              "      border-color: transparent;\n",
              "      border-left-color: var(--fill-color);\n",
              "      border-top-color: var(--fill-color);\n",
              "    }\n",
              "    30% {\n",
              "      border-color: transparent;\n",
              "      border-left-color: var(--fill-color);\n",
              "      border-top-color: var(--fill-color);\n",
              "      border-right-color: var(--fill-color);\n",
              "    }\n",
              "    40% {\n",
              "      border-color: transparent;\n",
              "      border-right-color: var(--fill-color);\n",
              "      border-top-color: var(--fill-color);\n",
              "    }\n",
              "    60% {\n",
              "      border-color: transparent;\n",
              "      border-right-color: var(--fill-color);\n",
              "    }\n",
              "    80% {\n",
              "      border-color: transparent;\n",
              "      border-right-color: var(--fill-color);\n",
              "      border-bottom-color: var(--fill-color);\n",
              "    }\n",
              "    90% {\n",
              "      border-color: transparent;\n",
              "      border-bottom-color: var(--fill-color);\n",
              "    }\n",
              "  }\n",
              "</style>\n",
              "\n",
              "  <script>\n",
              "    async function quickchart(key) {\n",
              "      const quickchartButtonEl =\n",
              "        document.querySelector('#' + key + ' button');\n",
              "      quickchartButtonEl.disabled = true;  // To prevent multiple clicks.\n",
              "      quickchartButtonEl.classList.add('colab-df-spinner');\n",
              "      try {\n",
              "        const charts = await google.colab.kernel.invokeFunction(\n",
              "            'suggestCharts', [key], {});\n",
              "      } catch (error) {\n",
              "        console.error('Error during call to suggestCharts:', error);\n",
              "      }\n",
              "      quickchartButtonEl.classList.remove('colab-df-spinner');\n",
              "      quickchartButtonEl.classList.add('colab-df-quickchart-complete');\n",
              "    }\n",
              "    (() => {\n",
              "      let quickchartButtonEl =\n",
              "        document.querySelector('#df-ad1920c7-331c-4cdf-9d51-2e54e3503750 button');\n",
              "      quickchartButtonEl.style.display =\n",
              "        google.colab.kernel.accessAllowed ? 'block' : 'none';\n",
              "    })();\n",
              "  </script>\n",
              "</div>\n",
              "\n",
              "  <div id=\"id_17eb822b-8d8b-4f63-a165-1501f27a7d09\">\n",
              "    <style>\n",
              "      .colab-df-generate {\n",
              "        background-color: #E8F0FE;\n",
              "        border: none;\n",
              "        border-radius: 50%;\n",
              "        cursor: pointer;\n",
              "        display: none;\n",
              "        fill: #1967D2;\n",
              "        height: 32px;\n",
              "        padding: 0 0 0 0;\n",
              "        width: 32px;\n",
              "      }\n",
              "\n",
              "      .colab-df-generate:hover {\n",
              "        background-color: #E2EBFA;\n",
              "        box-shadow: 0px 1px 2px rgba(60, 64, 67, 0.3), 0px 1px 3px 1px rgba(60, 64, 67, 0.15);\n",
              "        fill: #174EA6;\n",
              "      }\n",
              "\n",
              "      [theme=dark] .colab-df-generate {\n",
              "        background-color: #3B4455;\n",
              "        fill: #D2E3FC;\n",
              "      }\n",
              "\n",
              "      [theme=dark] .colab-df-generate:hover {\n",
              "        background-color: #434B5C;\n",
              "        box-shadow: 0px 1px 3px 1px rgba(0, 0, 0, 0.15);\n",
              "        filter: drop-shadow(0px 1px 2px rgba(0, 0, 0, 0.3));\n",
              "        fill: #FFFFFF;\n",
              "      }\n",
              "    </style>\n",
              "    <button class=\"colab-df-generate\" onclick=\"generateWithVariable('trade_summary')\"\n",
              "            title=\"Generate code using this dataframe.\"\n",
              "            style=\"display:none;\">\n",
              "\n",
              "  <svg xmlns=\"http://www.w3.org/2000/svg\" height=\"24px\"viewBox=\"0 0 24 24\"\n",
              "       width=\"24px\">\n",
              "    <path d=\"M7,19H8.4L18.45,9,17,7.55,7,17.6ZM5,21V16.75L18.45,3.32a2,2,0,0,1,2.83,0l1.4,1.43a1.91,1.91,0,0,1,.58,1.4,1.91,1.91,0,0,1-.58,1.4L9.25,21ZM18.45,9,17,7.55Zm-12,3A5.31,5.31,0,0,0,4.9,8.1,5.31,5.31,0,0,0,1,6.5,5.31,5.31,0,0,0,4.9,4.9,5.31,5.31,0,0,0,6.5,1,5.31,5.31,0,0,0,8.1,4.9,5.31,5.31,0,0,0,12,6.5,5.46,5.46,0,0,0,6.5,12Z\"/>\n",
              "  </svg>\n",
              "    </button>\n",
              "    <script>\n",
              "      (() => {\n",
              "      const buttonEl =\n",
              "        document.querySelector('#id_17eb822b-8d8b-4f63-a165-1501f27a7d09 button.colab-df-generate');\n",
              "      buttonEl.style.display =\n",
              "        google.colab.kernel.accessAllowed ? 'block' : 'none';\n",
              "\n",
              "      buttonEl.onclick = () => {\n",
              "        google.colab.notebook.generateWithVariable('trade_summary');\n",
              "      }\n",
              "      })();\n",
              "    </script>\n",
              "  </div>\n",
              "\n",
              "    </div>\n",
              "  </div>\n"
            ]
          },
          "metadata": {}
        },
        {
          "output_type": "stream",
          "name": "stdout",
          "text": [
            "Maximum Drawdown: -0.405534368338343\n",
            "Minimum Drawdown: 0.0\n"
          ]
        }
      ]
    },
    {
      "cell_type": "code",
      "source": [
        "# Plot results\n",
        "plot_results(signals, backtest)\n"
      ],
      "metadata": {
        "colab": {
          "base_uri": "https://localhost:8080/",
          "height": 718
        },
        "id": "ojCSfeb9t6nF",
        "outputId": "d28d6698-8f63-4005-c4ad-60e4c4486c98"
      },
      "execution_count": 11,
      "outputs": [
        {
          "output_type": "display_data",
          "data": {
            "text/plain": [
              "<Figure size 1400x800 with 1 Axes>"
            ],
            "image/png": "[encoded data removed]"
          },
          "metadata": {}
        }
      ]
    },
    {
      "cell_type": "markdown",
      "source": [
        "## Deep learning  \n",
        "- Predict trend of stock price\n"
      ],
      "metadata": {
        "id": "2fWZKMUqeZqx"
      }
    },
    {
      "cell_type": "code",
      "source": [
        "import pandas as pd\n",
        "import numpy as np\n",
        "\n",
        "def calculate_rsi(close_data, window=14):\n",
        "    # Calculate daily price changes\n",
        "    price_delta = close_data.diff(1)\n",
        "\n",
        "    # Calculate gain (positive price changes) and loss (negative price changes)\n",
        "    gain = price_delta.where(price_delta > 0, 0)\n",
        "    loss = -price_delta.where(price_delta < 0, 0)\n",
        "\n",
        "    # Calculate average gain and average loss over the specified window\n",
        "    avg_gain = gain.rolling(window=window, min_periods=1).mean()\n",
        "    avg_loss = loss.rolling(window=window, min_periods=1).mean()\n",
        "\n",
        "    # Calculate Relative Strength (RS) and Relative Strength Index (RSI)\n",
        "    rs = avg_gain / avg_loss\n",
        "    rsi = 100 - (100 / (1 + rs))\n",
        "\n",
        "    return rsi\n"
      ],
      "metadata": {
        "id": "knfO7yh48YRi"
      },
      "execution_count": 12,
      "outputs": []
    },
    {
      "cell_type": "code",
      "source": [
        "\n",
        "def calculate_moving_average(data, window=20):\n",
        "    return data.rolling(window=window, min_periods=1).mean()\n"
      ],
      "metadata": {
        "id": "LbZqGIre8YD-"
      },
      "execution_count": 13,
      "outputs": []
    },
    {
      "cell_type": "code",
      "source": [
        "def calculate_exponential_moving_average(data, alpha=0.1):\n",
        "    return data.ewm(alpha=alpha, adjust=False).mean()\n"
      ],
      "metadata": {
        "id": "NSQ8rwNY8X-C"
      },
      "execution_count": 14,
      "outputs": []
    },
    {
      "cell_type": "code",
      "source": [
        "\n",
        "def preprocess_data(data):\n",
        "\n",
        "    data['rsi_14'] = calculate_rsi(data['Close'],window=14)\n",
        "    data['rsi_5'] = calculate_rsi(data['Close'],window=5)\n",
        "    data['mavg_10'] = calculate_moving_average(data['Close'],window=10)\n",
        "    data['mavg_25'] = calculate_moving_average(data['Close'],window=25)\n",
        "    data['mavg_50'] = calculate_moving_average(data['Close'],window=50)\n",
        "    data['mavg_100'] = calculate_moving_average(data['Close'],window=100)\n",
        "    data['mavg_200'] = calculate_moving_average(data['Close'],window=200)\n",
        "    data['eavg_1'] = calculate_exponential_moving_average(data['Close'],alpha=0.1)\n",
        "    data['eavg_4'] = calculate_exponential_moving_average(data['Close'],alpha=0.4)\n",
        "\n",
        "    # Fill NaNs with the average of the next 5 values in each column\n",
        "    columns_to_fill = ['rsi_14', 'rsi_5', 'mavg_10', 'mavg_25', 'mavg_50', 'mavg_100', 'mavg_200']\n",
        "\n",
        "    for column in columns_to_fill:\n",
        "        data[column] = data[column].fillna(data[column].shift(-5).rolling(window=5, min_periods=1).mean())\n",
        "    data = data.drop(columns=['Open', 'High', 'Low', 'Close', 'Volume'])\n",
        "\n",
        "    return data\n",
        "\n"
      ],
      "metadata": {
        "id": "PpQQdNreHXQo"
      },
      "execution_count": 15,
      "outputs": []
    },
    {
      "cell_type": "code",
      "source": [
        "from tensorflow.keras.models import Sequential\n",
        "from tensorflow.keras.layers import LSTM, Dropout, Dense, BatchNormalization\n",
        "from tensorflow.keras.optimizers import Adam\n",
        "from tensorflow.keras.regularizers import l2\n",
        "from tensorflow.keras.callbacks import EarlyStopping"
      ],
      "metadata": {
        "id": "HnLbpM687qev"
      },
      "execution_count": 16,
      "outputs": []
    },
    {
      "cell_type": "code",
      "source": [
        "\n",
        "def build_model(input_shape, output_shape):\n",
        "    model = Sequential()\n",
        "    model.add(LSTM(15, input_shape=input_shape, return_sequences=True))\n",
        "    model.add(Dropout(0.5))\n",
        "    model.add(LSTM(8))\n",
        "    model.add(Dropout(0.4))\n",
        "    model.add(Dense(output_shape, activation='linear', kernel_regularizer=l2(0.01)))\n",
        "    model.add(BatchNormalization())  # Batch normalization layer\n",
        "    model.compile(optimizer=Adam(), loss='mse')\n",
        "    return model\n"
      ],
      "metadata": {
        "id": "5lk976moHXOA"
      },
      "execution_count": 17,
      "outputs": []
    },
    {
      "cell_type": "code",
      "source": [
        "def train_model(model, X_train, y_train, epochs=10):\n",
        "    # Early stopping callback\n",
        "    early_stopping = EarlyStopping(monitor='val_loss', patience=5, restore_best_weights=True)\n",
        "\n",
        "    # Train the model\n",
        "    model.fit(X_train, y_train, epochs=epochs, verbose=1,batch_size=32, validation_split=0.2, callbacks=[early_stopping])\n"
      ],
      "metadata": {
        "id": "GmVTHRMdHXMH"
      },
      "execution_count": 18,
      "outputs": []
    },
    {
      "cell_type": "code",
      "source": [
        "\n",
        "def predict_action(model, state):\n",
        "    action = model.predict(state)\n",
        "    return action\n",
        "\n"
      ],
      "metadata": {
        "id": "dxp0XxmZHXJv"
      },
      "execution_count": 19,
      "outputs": []
    },
    {
      "cell_type": "code",
      "source": [
        "preprocessed_data = preprocess_data(stock_data)\n",
        "preprocessed_data.columns"
      ],
      "metadata": {
        "colab": {
          "base_uri": "https://localhost:8080/"
        },
        "id": "RBQYZ3hcmf8l",
        "outputId": "a7a0e50e-d1e1-491c-d1c8-b21636f961ef"
      },
      "execution_count": 20,
      "outputs": [
        {
          "output_type": "execute_result",
          "data": {
            "text/plain": [
              "Index(['Adj Close', 'rsi_14', 'rsi_5', 'mavg_10', 'mavg_25', 'mavg_50',\n",
              "       'mavg_100', 'mavg_200', 'eavg_1', 'eavg_4'],\n",
              "      dtype='object')"
            ]
          },
          "metadata": {},
          "execution_count": 20
        }
      ]
    },
    {
      "cell_type": "code",
      "source": [
        "preprocessed_data = preprocessed_data.reset_index(drop=True)"
      ],
      "metadata": {
        "id": "hFHXGDUE4xqL"
      },
      "execution_count": 21,
      "outputs": []
    },
    {
      "cell_type": "code",
      "source": [
        "# Assuming 'your_data' is the DataFrame containing the preprocessed data\n",
        "selected_columns = ['rsi_14', 'rsi_5', 'mavg_10', 'mavg_25', 'mavg_50', 'mavg_100', 'mavg_200', 'eavg_1', 'eavg_4']\n",
        "\n",
        "# Create feature matrix X and target variable y\n",
        "X = preprocessed_data[selected_columns].shift(-1).dropna()  # Shift to get the next day's values\n",
        "y = preprocessed_data['Adj Close'].shift(-1).dropna()\n"
      ],
      "metadata": {
        "id": "f1Vk0Ysq1BDP"
      },
      "execution_count": 22,
      "outputs": []
    },
    {
      "cell_type": "code",
      "source": [
        "# Reshape X for LSTM input (samples, time steps, features)\n",
        "X = X.values.reshape((X.shape[0], 1, X.shape[1]))\n",
        "\n",
        "# Build the LSTM model\n",
        "input_shape = (X.shape[1], X.shape[2])\n",
        "output_shape = 1  # Output shape for regression\n",
        "model = build_model(input_shape, output_shape)"
      ],
      "metadata": {
        "id": "IfYBC6di2cA4"
      },
      "execution_count": 23,
      "outputs": []
    },
    {
      "cell_type": "code",
      "source": [
        "# Split the dataset into training and testing sets\n",
        "X_train, X_test, y_train, y_test = train_test_split(X, y, test_size=0.2, random_state=42)\n"
      ],
      "metadata": {
        "id": "qrUbFRkJ1RBS"
      },
      "execution_count": 24,
      "outputs": []
    },
    {
      "cell_type": "code",
      "source": [
        "# # Standardize the features\n",
        "# scaler = StandardScaler()\n",
        "# X_train_scaled = scaler.fit_transform(X_train)\n",
        "# X_test_scaled = scaler.transform(X_test)\n"
      ],
      "metadata": {
        "id": "PDQzKGhC1rd7"
      },
      "execution_count": 25,
      "outputs": []
    },
    {
      "cell_type": "code",
      "source": [
        "model = build_model(input_shape, output_shape)\n",
        "train_model(model, X_train, y_train, epochs=100)\n"
      ],
      "metadata": {
        "colab": {
          "base_uri": "https://localhost:8080/"
        },
        "id": "sITCn7TzHXDo",
        "outputId": "3131010c-9637-4a74-bcf5-2d15e192862a"
      },
      "execution_count": 26,
      "outputs": [
        {
          "output_type": "stream",
          "name": "stdout",
          "text": [
            "Epoch 1/100\n",
            "20/20 [==============================] - 6s 71ms/step - loss: 84041.5547 - val_loss: 77120.3906\n",
            "Epoch 2/100\n",
            "20/20 [==============================] - 0s 7ms/step - loss: 84040.2031 - val_loss: 77125.7188\n",
            "Epoch 3/100\n",
            "20/20 [==============================] - 0s 8ms/step - loss: 84035.1953 - val_loss: 77101.1094\n",
            "Epoch 4/100\n",
            "20/20 [==============================] - 0s 10ms/step - loss: 84005.6797 - val_loss: 77088.0156\n",
            "Epoch 5/100\n",
            "20/20 [==============================] - 0s 9ms/step - loss: 83993.4062 - val_loss: 77067.5547\n",
            "Epoch 6/100\n",
            "20/20 [==============================] - 0s 7ms/step - loss: 83987.2422 - val_loss: 77046.2969\n",
            "Epoch 7/100\n",
            "20/20 [==============================] - 0s 9ms/step - loss: 83964.4766 - val_loss: 77071.7969\n",
            "Epoch 8/100\n",
            "20/20 [==============================] - 0s 7ms/step - loss: 83971.2734 - val_loss: 77023.9531\n",
            "Epoch 9/100\n",
            "20/20 [==============================] - 0s 7ms/step - loss: 83964.5234 - val_loss: 77019.6719\n",
            "Epoch 10/100\n",
            "20/20 [==============================] - 0s 8ms/step - loss: 83946.3125 - val_loss: 77003.9844\n",
            "Epoch 11/100\n",
            "20/20 [==============================] - 0s 10ms/step - loss: 83928.6406 - val_loss: 76998.8828\n",
            "Epoch 12/100\n",
            "20/20 [==============================] - 0s 5ms/step - loss: 83928.5625 - val_loss: 76988.5234\n",
            "Epoch 13/100\n",
            "20/20 [==============================] - 0s 6ms/step - loss: 83903.7578 - val_loss: 76981.2734\n",
            "Epoch 14/100\n",
            "20/20 [==============================] - 0s 6ms/step - loss: 83904.5391 - val_loss: 76976.4844\n",
            "Epoch 15/100\n",
            "20/20 [==============================] - 0s 7ms/step - loss: 83901.6094 - val_loss: 76982.7031\n",
            "Epoch 16/100\n",
            "20/20 [==============================] - 0s 10ms/step - loss: 83886.5000 - val_loss: 76952.5234\n",
            "Epoch 17/100\n",
            "20/20 [==============================] - 0s 20ms/step - loss: 83877.1328 - val_loss: 76931.9375\n",
            "Epoch 18/100\n",
            "20/20 [==============================] - 0s 12ms/step - loss: 83852.9688 - val_loss: 76919.0234\n",
            "Epoch 19/100\n",
            "20/20 [==============================] - 0s 14ms/step - loss: 83850.7812 - val_loss: 76891.2891\n",
            "Epoch 20/100\n",
            "20/20 [==============================] - 0s 13ms/step - loss: 83823.8125 - val_loss: 76868.4766\n",
            "Epoch 21/100\n",
            "20/20 [==============================] - 0s 9ms/step - loss: 83809.6328 - val_loss: 76807.7344\n",
            "Epoch 22/100\n",
            "20/20 [==============================] - 0s 8ms/step - loss: 83801.1797 - val_loss: 76793.0859\n",
            "Epoch 23/100\n",
            "20/20 [==============================] - 0s 9ms/step - loss: 83806.1562 - val_loss: 76806.3984\n",
            "Epoch 24/100\n",
            "20/20 [==============================] - 0s 9ms/step - loss: 83801.3906 - val_loss: 76819.8984\n",
            "Epoch 25/100\n",
            "20/20 [==============================] - 0s 6ms/step - loss: 83776.4766 - val_loss: 76913.6484\n",
            "Epoch 26/100\n",
            "20/20 [==============================] - 0s 7ms/step - loss: 83773.8906 - val_loss: 76824.5312\n",
            "Epoch 27/100\n",
            "20/20 [==============================] - 0s 8ms/step - loss: 83759.0859 - val_loss: 76799.1719\n"
          ]
        }
      ]
    },
    {
      "cell_type": "code",
      "source": [
        "loss = model.evaluate(X_test, y_test)\n",
        "print(f'Testing loss: {loss}')\n",
        "\n",
        "actions = predict_action(model, X_test)\n",
        "# Model finetuning is required  further"
      ],
      "metadata": {
        "colab": {
          "base_uri": "https://localhost:8080/"
        },
        "id": "F-TNM4fJHXAw",
        "outputId": "7dcc7575-205d-4c37-c5de-26f3eac794c5"
      },
      "execution_count": 27,
      "outputs": [
        {
          "output_type": "stream",
          "name": "stdout",
          "text": [
            "7/7 [==============================] - 1s 2ms/step - loss: 82189.3047\n",
            "Testing loss: 82189.3046875\n",
            "7/7 [==============================] - 1s 2ms/step\n"
          ]
        }
      ]
    },
    {
      "cell_type": "markdown",
      "source": [
        "## ARIMA & GARCH"
      ],
      "metadata": {
        "id": "8Q3jylRses6u"
      }
    },
    {
      "cell_type": "code",
      "source": [
        "!pip install arch\n",
        "!pip install pmdarima\n"
      ],
      "metadata": {
        "id": "CtyAM6C-LDxF",
        "colab": {
          "base_uri": "https://localhost:8080/"
        },
        "outputId": "e6dd1155-1375-40b2-e2ea-b739342ea575"
      },
      "execution_count": 28,
      "outputs": [
        {
          "output_type": "stream",
          "name": "stdout",
          "text": [
            "Requirement already satisfied: arch in /usr/local/lib/python3.10/dist-packages (6.3.0)\n",
            "Requirement already satisfied: numpy>=1.19 in /usr/local/lib/python3.10/dist-packages (from arch) (1.23.5)\n",
            "Requirement already satisfied: scipy>=1.5 in /usr/local/lib/python3.10/dist-packages (from arch) (1.11.4)\n",
            "Requirement already satisfied: pandas>=1.1 in /usr/local/lib/python3.10/dist-packages (from arch) (1.5.3)\n",
            "Requirement already satisfied: statsmodels>=0.12 in /usr/local/lib/python3.10/dist-packages (from arch) (0.14.1)\n",
            "Requirement already satisfied: python-dateutil>=2.8.1 in /usr/local/lib/python3.10/dist-packages (from pandas>=1.1->arch) (2.8.2)\n",
            "Requirement already satisfied: pytz>=2020.1 in /usr/local/lib/python3.10/dist-packages (from pandas>=1.1->arch) (2023.3.post1)\n",
            "Requirement already satisfied: patsy>=0.5.4 in /usr/local/lib/python3.10/dist-packages (from statsmodels>=0.12->arch) (0.5.6)\n",
            "Requirement already satisfied: packaging>=21.3 in /usr/local/lib/python3.10/dist-packages (from statsmodels>=0.12->arch) (23.2)\n",
            "Requirement already satisfied: six in /usr/local/lib/python3.10/dist-packages (from patsy>=0.5.4->statsmodels>=0.12->arch) (1.16.0)\n",
            "Requirement already satisfied: pmdarima in /usr/local/lib/python3.10/dist-packages (2.0.4)\n",
            "Requirement already satisfied: joblib>=0.11 in /usr/local/lib/python3.10/dist-packages (from pmdarima) (1.3.2)\n",
            "Requirement already satisfied: Cython!=0.29.18,!=0.29.31,>=0.29 in /usr/local/lib/python3.10/dist-packages (from pmdarima) (3.0.7)\n",
            "Requirement already satisfied: numpy>=1.21.2 in /usr/local/lib/python3.10/dist-packages (from pmdarima) (1.23.5)\n",
            "Requirement already satisfied: pandas>=0.19 in /usr/local/lib/python3.10/dist-packages (from pmdarima) (1.5.3)\n",
            "Requirement already satisfied: scikit-learn>=0.22 in /usr/local/lib/python3.10/dist-packages (from pmdarima) (1.2.2)\n",
            "Requirement already satisfied: scipy>=1.3.2 in /usr/local/lib/python3.10/dist-packages (from pmdarima) (1.11.4)\n",
            "Requirement already satisfied: statsmodels>=0.13.2 in /usr/local/lib/python3.10/dist-packages (from pmdarima) (0.14.1)\n",
            "Requirement already satisfied: urllib3 in /usr/local/lib/python3.10/dist-packages (from pmdarima) (2.0.7)\n",
            "Requirement already satisfied: setuptools!=50.0.0,>=38.6.0 in /usr/local/lib/python3.10/dist-packages (from pmdarima) (67.7.2)\n",
            "Requirement already satisfied: packaging>=17.1 in /usr/local/lib/python3.10/dist-packages (from pmdarima) (23.2)\n",
            "Requirement already satisfied: python-dateutil>=2.8.1 in /usr/local/lib/python3.10/dist-packages (from pandas>=0.19->pmdarima) (2.8.2)\n",
            "Requirement already satisfied: pytz>=2020.1 in /usr/local/lib/python3.10/dist-packages (from pandas>=0.19->pmdarima) (2023.3.post1)\n",
            "Requirement already satisfied: threadpoolctl>=2.0.0 in /usr/local/lib/python3.10/dist-packages (from scikit-learn>=0.22->pmdarima) (3.2.0)\n",
            "Requirement already satisfied: patsy>=0.5.4 in /usr/local/lib/python3.10/dist-packages (from statsmodels>=0.13.2->pmdarima) (0.5.6)\n",
            "Requirement already satisfied: six in /usr/local/lib/python3.10/dist-packages (from patsy>=0.5.4->statsmodels>=0.13.2->pmdarima) (1.16.0)\n"
          ]
        }
      ]
    },
    {
      "cell_type": "markdown",
      "source": [
        "ARIMA and GARCH models, the prediction formula can be expressed as a product of the predicted conditional mean  from ARIMA and the predicted conditional volatility from GARCH.\n",
        "\n",
        "$y_t = \\hat{Y}_t \\times \\hat{\\sigma}_t$\n",
        "\n",
        "\n",
        "Let's break down each part:\n",
        "\n",
        "$\\textbf{ARIMA Prediction (\\(\\hat{Y}_t\\)):}\n",
        "Y_t = c + \\phi_1 Y_{t-1} + \\varepsilon_t\n",
        "$​\n",
        "\n",
        "\n",
        "After fitting the ARIMA model, you get the predicted conditional mean for each time point.\n",
        "\n",
        "$\n",
        "\\textbf{GARCH Prediction (\\(\\hat{\\sigma}_t\\)):}\n",
        "\\sigma_t^2 = \\omega + \\alpha_1 \\varepsilon_{t-1}^2 + \\beta_1 \\sigma_{t-1}^2\n",
        "$\n",
        "\n",
        "$\n",
        "\\textbf{Combined Prediction Formula:}\n",
        "y_t = \\hat{Y}_t \\times \\hat{\\sigma}_t\n",
        "$\n",
        "\n",
        "The GARCH model is used to predict the conditional volatility  and you can obtain the predicted conditional standard deviation\n",
        "This formula represents the combined prediction of the stock price, considering both the predicted mean and volatility. The idea is that the volatility predicted by the GARCH model adjusts the predicted mean from the ARIMA model, reflecting the uncertainty or variability in the stock price.\n",
        "\n"
      ],
      "metadata": {
        "id": "hr94LwveeriK"
      }
    },
    {
      "cell_type": "code",
      "source": [
        "import numpy as np\n",
        "import pandas as pd\n",
        "import matplotlib.pyplot as plt\n",
        "import yfinance as yf\n",
        "from statsmodels.tsa.arima.model import ARIMA\n",
        "from arch import arch_model\n"
      ],
      "metadata": {
        "id": "iG4WhczaeqzK"
      },
      "execution_count": 29,
      "outputs": []
    },
    {
      "cell_type": "markdown",
      "source": [
        "**Components of ARIMA:**\n",
        "\n",
        "- ARIMA includes autoregressive, differencing, and moving average components.\n",
        "\n",
        "- AutoRegressive (AR) Component (p): The AR part represents the correlation between the current observation and its past observations. The \"p\" parameter denotes the order of the AR component, which specifies how many lagged observations are considered.\n",
        "\n",
        "- Integrated (I) Component (d): The I part involves differencing the time series to make it stationary. Stationarity is essential for time series models as it simplifies the process of modeling and forecasting. The \"d\" parameter represents the number of differencing required to make the series stationary.\n",
        "\n",
        "- Moving Average (MA) Component (q): The MA part accounts for the correlation between the current observation and a residual error from a moving average model applied to lagged observations. The \"q\" parameter indicates the order of the MA component, specifying how many lagged residuals are considered.\n",
        "The notation for an ARIMA model is ARIMA(p, d, q), where:\n",
        "\n",
        "- p is the order of the autoregressive component.\n",
        "- d is the degree of differencing.\n",
        "- q is the order of the moving average component."
      ],
      "metadata": {
        "id": "J9rq9ffl9fmC"
      }
    },
    {
      "cell_type": "code",
      "source": [
        "# Step 1: Fetch Historical Stock Price Data\n",
        "stock_symbol = \"ITC.NS\"\n",
        "start_date = \"2022-01-01\"\n",
        "end_date = \"2022-12-31\"\n",
        "stock_data = yf.download(stock_symbol, start=start_date, end=end_date)\n",
        "closing_prices = stock_data['Close']\n"
      ],
      "metadata": {
        "colab": {
          "base_uri": "https://localhost:8080/"
        },
        "id": "6unQFYQ3fAmP",
        "outputId": "814c342c-82c0-4dce-b9d7-56ac00081600"
      },
      "execution_count": 30,
      "outputs": [
        {
          "output_type": "stream",
          "name": "stdout",
          "text": [
            "\r[*********************100%%**********************]  1 of 1 completed\n"
          ]
        }
      ]
    },
    {
      "cell_type": "code",
      "source": [
        "# Step 2: ARIMA Model for Price Prediction\n",
        "arima_model = ARIMA(closing_prices, order=(5, 1, 0))  # Adjust order as needed\n",
        "arima_results = arima_model.fit()\n",
        "forecast_horizon = 10\n",
        "arima_forecast = arima_results.get_forecast(steps=forecast_horizon).predicted_mean\n"
      ],
      "metadata": {
        "colab": {
          "base_uri": "https://localhost:8080/"
        },
        "id": "Wq7BVtlSe7IT",
        "outputId": "4e0c5403-3d72-4068-db9a-e5d195658f81"
      },
      "execution_count": 31,
      "outputs": [
        {
          "output_type": "stream",
          "name": "stderr",
          "text": [
            "/usr/local/lib/python3.10/dist-packages/statsmodels/tsa/base/tsa_model.py:473: ValueWarning: A date index has been provided, but it has no associated frequency information and so will be ignored when e.g. forecasting.\n",
            "  self._init_dates(dates, freq)\n",
            "/usr/local/lib/python3.10/dist-packages/statsmodels/tsa/base/tsa_model.py:473: ValueWarning: A date index has been provided, but it has no associated frequency information and so will be ignored when e.g. forecasting.\n",
            "  self._init_dates(dates, freq)\n",
            "/usr/local/lib/python3.10/dist-packages/statsmodels/tsa/base/tsa_model.py:473: ValueWarning: A date index has been provided, but it has no associated frequency information and so will be ignored when e.g. forecasting.\n",
            "  self._init_dates(dates, freq)\n",
            "/usr/local/lib/python3.10/dist-packages/statsmodels/tsa/base/tsa_model.py:836: ValueWarning: No supported index is available. Prediction results will be given with an integer index beginning at `start`.\n",
            "  return get_prediction_index(\n",
            "/usr/local/lib/python3.10/dist-packages/statsmodels/tsa/base/tsa_model.py:836: FutureWarning: No supported index is available. In the next version, calling this method in a model without a supported index will result in an exception.\n",
            "  return get_prediction_index(\n"
          ]
        }
      ]
    },
    {
      "cell_type": "code",
      "source": [
        "# Step 3: GARCH Model for Volatility Prediction\n",
        "returns = closing_prices.pct_change().dropna()\n",
        "garch_model = arch_model(returns, vol='Garch', p=1, q=1)\n",
        "garch_results = garch_model.fit()\n",
        "garch_forecast = garch_results.forecast(horizon=forecast_horizon).variance.iloc[-1, :]\n",
        "\n"
      ],
      "metadata": {
        "colab": {
          "base_uri": "https://localhost:8080/"
        },
        "id": "5ZLxuEtFe7FX",
        "outputId": "89537a0e-16ee-4477-82c6-3cb4a140da58"
      },
      "execution_count": 32,
      "outputs": [
        {
          "output_type": "stream",
          "name": "stdout",
          "text": [
            "Iteration:      1,   Func. Count:      6,   Neg. LLF: 83704585.54234211\n",
            "Iteration:      2,   Func. Count:     17,   Neg. LLF: 937.7280497796388\n",
            "Optimization terminated successfully    (Exit mode 0)\n",
            "            Current function value: -714.9568587223984\n",
            "            Iterations: 2\n",
            "            Function evaluations: 23\n",
            "            Gradient evaluations: 2\n"
          ]
        },
        {
          "output_type": "stream",
          "name": "stderr",
          "text": [
            "/usr/local/lib/python3.10/dist-packages/arch/univariate/base.py:311: DataScaleWarning: y is poorly scaled, which may affect convergence of the optimizer when\n",
            "estimating the model parameters. The scale of y is 0.0001821. Parameter\n",
            "estimation work better when this value is between 1 and 1000. The recommended\n",
            "rescaling is 100 * y.\n",
            "\n",
            "This warning can be disabled by either rescaling y before initializing the\n",
            "model or by setting rescale=False.\n",
            "\n",
            "  warnings.warn(\n"
          ]
        }
      ]
    },
    {
      "cell_type": "code",
      "source": [
        "# Step 4: Combine ARIMA Forecast with GARCH Volatility\n",
        "volatility_forecast = np.sqrt(garch_forecast.cumsum())\n",
        "\n",
        "# Make sure the indices are aligned and have a datetime format\n",
        "combined_forecast = np.array(arima_forecast) + np.sqrt(garch_forecast.cumsum())\n",
        "\n",
        "# Ensure forecast_horizon matches the number of forecasted periods\n",
        "forecast_horizon = 10\n",
        "\n",
        "# Make sure the indices are aligned and have a datetime format\n",
        "combined_forecast.index = pd.date_range(start=closing_prices.index[-1] + pd.Timedelta(days=1), periods=forecast_horizon, freq=closing_prices.index.freq)\n",
        "\n",
        "# Convert combined forecast to datetime index\n",
        "combined_forecast = pd.Series(combined_forecast.values, index=combined_forecast.index)\n",
        "\n"
      ],
      "metadata": {
        "id": "W7HPk2SXe60c"
      },
      "execution_count": 34,
      "outputs": []
    },
    {
      "cell_type": "code",
      "source": [
        " # Plotting\n",
        "plt.figure(figsize=(10, 6))\n",
        "plt.plot(closing_prices, label='Historical Prices')\n",
        "plt.plot(arima_results.fittedvalues, label='ARIMA Fitted Values', linestyle='--')\n",
        "plt.plot(combined_forecast.index, combined_forecast, label='Combined ARIMA-GARCH Forecast', linestyle='--')\n",
        "plt.title(f'{stock_symbol} Stock Price Prediction')\n",
        "plt.xlabel('Date')\n",
        "plt.ylabel('Stock Price')\n",
        "plt.legend()\n",
        "plt.show()\n"
      ],
      "metadata": {
        "colab": {
          "base_uri": "https://localhost:8080/",
          "height": 564
        },
        "id": "h2jVoWeAe1sJ",
        "outputId": "6976b835-c786-4f67-e953-94c103dce07f"
      },
      "execution_count": 35,
      "outputs": [
        {
          "output_type": "display_data",
          "data": {
            "text/plain": [
              "<Figure size 1000x600 with 1 Axes>"
            ],
            "image/png": "[encoded data removed]"
          },
          "metadata": {}
        }
      ]
    },
    {
      "cell_type": "code",
      "source": [],
      "metadata": {
        "id": "1_hdEKhSfChy"
      },
      "execution_count": 35,
      "outputs": []
    }
  ]
}