{
  "nbformat": 4,
  "nbformat_minor": 0,
  "metadata": {
    "colab": {
      "name": "Regularization&Overfitting.ipynb",
      "provenance": [],
      "authorship_tag": "ABX9TyMFHP5n4Kw5Ut1bpOGlHZWX",
      "include_colab_link": true
    },
    "kernelspec": {
      "name": "python3",
      "display_name": "Python 3"
    },
    "widgets": {
      "application/vnd.jupyter.widget-state+json": {
        "cced16595dd4420ca4b398b7f5739076": {
          "model_module": "@jupyter-widgets/controls",
          "model_name": "HBoxModel",
          "state": {
            "_view_name": "HBoxView",
            "_dom_classes": [],
            "_model_name": "HBoxModel",
            "_view_module": "@jupyter-widgets/controls",
            "_model_module_version": "1.5.0",
            "_view_count": null,
            "_view_module_version": "1.5.0",
            "box_style": "",
            "layout": "IPY_MODEL_3006a02bfce4492c8fd11a6d10b1a36c",
            "_model_module": "@jupyter-widgets/controls",
            "children": [
              "IPY_MODEL_1e0011955a734924b04a59abde48685c",
              "IPY_MODEL_a7b02a3427ff4cc3a81edf3c49140633"
            ]
          }
        },
        "3006a02bfce4492c8fd11a6d10b1a36c": {
          "model_module": "@jupyter-widgets/base",
          "model_name": "LayoutModel",
          "state": {
            "_view_name": "LayoutView",
            "grid_template_rows": null,
            "right": null,
            "justify_content": null,
            "_view_module": "@jupyter-widgets/base",
            "overflow": null,
            "_model_module_version": "1.2.0",
            "_view_count": null,
            "flex_flow": null,
            "width": null,
            "min_width": null,
            "border": null,
            "align_items": null,
            "bottom": null,
            "_model_module": "@jupyter-widgets/base",
            "top": null,
            "grid_column": null,
            "overflow_y": null,
            "overflow_x": null,
            "grid_auto_flow": null,
            "grid_area": null,
            "grid_template_columns": null,
            "flex": null,
            "_model_name": "LayoutModel",
            "justify_items": null,
            "grid_row": null,
            "max_height": null,
            "align_content": null,
            "visibility": null,
            "align_self": null,
            "height": null,
            "min_height": null,
            "padding": null,
            "grid_auto_rows": null,
            "grid_gap": null,
            "max_width": null,
            "order": null,
            "_view_module_version": "1.2.0",
            "grid_template_areas": null,
            "object_position": null,
            "object_fit": null,
            "grid_auto_columns": null,
            "margin": null,
            "display": null,
            "left": null
          }
        },
        "1e0011955a734924b04a59abde48685c": {
          "model_module": "@jupyter-widgets/controls",
          "model_name": "FloatProgressModel",
          "state": {
            "_view_name": "ProgressView",
            "style": "IPY_MODEL_ea8efd64b6894010b111ae049cd81d5e",
            "_dom_classes": [],
            "description": "100%",
            "_model_name": "FloatProgressModel",
            "bar_style": "success",
            "max": 100,
            "_view_module": "@jupyter-widgets/controls",
            "_model_module_version": "1.5.0",
            "value": 100,
            "_view_count": null,
            "_view_module_version": "1.5.0",
            "orientation": "horizontal",
            "min": 0,
            "description_tooltip": null,
            "_model_module": "@jupyter-widgets/controls",
            "layout": "IPY_MODEL_5139f8f1944645cd80dd1dafd670981f"
          }
        },
        "a7b02a3427ff4cc3a81edf3c49140633": {
          "model_module": "@jupyter-widgets/controls",
          "model_name": "HTMLModel",
          "state": {
            "_view_name": "HTMLView",
            "style": "IPY_MODEL_3228142a24f94e3480f2db8764d1172e",
            "_dom_classes": [],
            "description": "",
            "_model_name": "HTMLModel",
            "placeholder": "​",
            "_view_module": "@jupyter-widgets/controls",
            "_model_module_version": "1.5.0",
            "value": " 100/100 [00:00&lt;00:00, 711.60epoch/s]",
            "_view_count": null,
            "_view_module_version": "1.5.0",
            "description_tooltip": null,
            "_model_module": "@jupyter-widgets/controls",
            "layout": "IPY_MODEL_65ec1e2efbf64e8194adf1275cae858a"
          }
        },
        "ea8efd64b6894010b111ae049cd81d5e": {
          "model_module": "@jupyter-widgets/controls",
          "model_name": "ProgressStyleModel",
          "state": {
            "_view_name": "StyleView",
            "_model_name": "ProgressStyleModel",
            "description_width": "initial",
            "_view_module": "@jupyter-widgets/base",
            "_model_module_version": "1.5.0",
            "_view_count": null,
            "_view_module_version": "1.2.0",
            "bar_color": null,
            "_model_module": "@jupyter-widgets/controls"
          }
        },
        "5139f8f1944645cd80dd1dafd670981f": {
          "model_module": "@jupyter-widgets/base",
          "model_name": "LayoutModel",
          "state": {
            "_view_name": "LayoutView",
            "grid_template_rows": null,
            "right": null,
            "justify_content": null,
            "_view_module": "@jupyter-widgets/base",
            "overflow": null,
            "_model_module_version": "1.2.0",
            "_view_count": null,
            "flex_flow": null,
            "width": null,
            "min_width": null,
            "border": null,
            "align_items": null,
            "bottom": null,
            "_model_module": "@jupyter-widgets/base",
            "top": null,
            "grid_column": null,
            "overflow_y": null,
            "overflow_x": null,
            "grid_auto_flow": null,
            "grid_area": null,
            "grid_template_columns": null,
            "flex": null,
            "_model_name": "LayoutModel",
            "justify_items": null,
            "grid_row": null,
            "max_height": null,
            "align_content": null,
            "visibility": null,
            "align_self": null,
            "height": null,
            "min_height": null,
            "padding": null,
            "grid_auto_rows": null,
            "grid_gap": null,
            "max_width": null,
            "order": null,
            "_view_module_version": "1.2.0",
            "grid_template_areas": null,
            "object_position": null,
            "object_fit": null,
            "grid_auto_columns": null,
            "margin": null,
            "display": null,
            "left": null
          }
        },
        "3228142a24f94e3480f2db8764d1172e": {
          "model_module": "@jupyter-widgets/controls",
          "model_name": "DescriptionStyleModel",
          "state": {
            "_view_name": "StyleView",
            "_model_name": "DescriptionStyleModel",
            "description_width": "",
            "_view_module": "@jupyter-widgets/base",
            "_model_module_version": "1.5.0",
            "_view_count": null,
            "_view_module_version": "1.2.0",
            "_model_module": "@jupyter-widgets/controls"
          }
        },
        "65ec1e2efbf64e8194adf1275cae858a": {
          "model_module": "@jupyter-widgets/base",
          "model_name": "LayoutModel",
          "state": {
            "_view_name": "LayoutView",
            "grid_template_rows": null,
            "right": null,
            "justify_content": null,
            "_view_module": "@jupyter-widgets/base",
            "overflow": null,
            "_model_module_version": "1.2.0",
            "_view_count": null,
            "flex_flow": null,
            "width": null,
            "min_width": null,
            "border": null,
            "align_items": null,
            "bottom": null,
            "_model_module": "@jupyter-widgets/base",
            "top": null,
            "grid_column": null,
            "overflow_y": null,
            "overflow_x": null,
            "grid_auto_flow": null,
            "grid_area": null,
            "grid_template_columns": null,
            "flex": null,
            "_model_name": "LayoutModel",
            "justify_items": null,
            "grid_row": null,
            "max_height": null,
            "align_content": null,
            "visibility": null,
            "align_self": null,
            "height": null,
            "min_height": null,
            "padding": null,
            "grid_auto_rows": null,
            "grid_gap": null,
            "max_width": null,
            "order": null,
            "_view_module_version": "1.2.0",
            "grid_template_areas": null,
            "object_position": null,
            "object_fit": null,
            "grid_auto_columns": null,
            "margin": null,
            "display": null,
            "left": null
          }
        },
        "40c800d7b7fa4f4f93755998e67cf12d": {
          "model_module": "@jupyter-widgets/controls",
          "model_name": "HBoxModel",
          "state": {
            "_view_name": "HBoxView",
            "_dom_classes": [],
            "_model_name": "HBoxModel",
            "_view_module": "@jupyter-widgets/controls",
            "_model_module_version": "1.5.0",
            "_view_count": null,
            "_view_module_version": "1.5.0",
            "box_style": "",
            "layout": "IPY_MODEL_5a7186b0d1e24fc6be4de745c657f9d3",
            "_model_module": "@jupyter-widgets/controls",
            "children": [
              "IPY_MODEL_1cdf09c20ea44c78836fef2624566718",
              "IPY_MODEL_861ac90fb74d4b309ff852dc7c818b52"
            ]
          }
        },
        "5a7186b0d1e24fc6be4de745c657f9d3": {
          "model_module": "@jupyter-widgets/base",
          "model_name": "LayoutModel",
          "state": {
            "_view_name": "LayoutView",
            "grid_template_rows": null,
            "right": null,
            "justify_content": null,
            "_view_module": "@jupyter-widgets/base",
            "overflow": null,
            "_model_module_version": "1.2.0",
            "_view_count": null,
            "flex_flow": null,
            "width": null,
            "min_width": null,
            "border": null,
            "align_items": null,
            "bottom": null,
            "_model_module": "@jupyter-widgets/base",
            "top": null,
            "grid_column": null,
            "overflow_y": null,
            "overflow_x": null,
            "grid_auto_flow": null,
            "grid_area": null,
            "grid_template_columns": null,
            "flex": null,
            "_model_name": "LayoutModel",
            "justify_items": null,
            "grid_row": null,
            "max_height": null,
            "align_content": null,
            "visibility": null,
            "align_self": null,
            "height": null,
            "min_height": null,
            "padding": null,
            "grid_auto_rows": null,
            "grid_gap": null,
            "max_width": null,
            "order": null,
            "_view_module_version": "1.2.0",
            "grid_template_areas": null,
            "object_position": null,
            "object_fit": null,
            "grid_auto_columns": null,
            "margin": null,
            "display": null,
            "left": null
          }
        },
        "1cdf09c20ea44c78836fef2624566718": {
          "model_module": "@jupyter-widgets/controls",
          "model_name": "FloatProgressModel",
          "state": {
            "_view_name": "ProgressView",
            "style": "IPY_MODEL_66791f257634492d983a0710af45252a",
            "_dom_classes": [],
            "description": "100%",
            "_model_name": "FloatProgressModel",
            "bar_style": "success",
            "max": 100,
            "_view_module": "@jupyter-widgets/controls",
            "_model_module_version": "1.5.0",
            "value": 100,
            "_view_count": null,
            "_view_module_version": "1.5.0",
            "orientation": "horizontal",
            "min": 0,
            "description_tooltip": null,
            "_model_module": "@jupyter-widgets/controls",
            "layout": "IPY_MODEL_d38d68c5076340d0be4450b93cec29b6"
          }
        },
        "861ac90fb74d4b309ff852dc7c818b52": {
          "model_module": "@jupyter-widgets/controls",
          "model_name": "HTMLModel",
          "state": {
            "_view_name": "HTMLView",
            "style": "IPY_MODEL_6c6e573ec1e441de9f4a2765bb254099",
            "_dom_classes": [],
            "description": "",
            "_model_name": "HTMLModel",
            "placeholder": "​",
            "_view_module": "@jupyter-widgets/controls",
            "_model_module_version": "1.5.0",
            "value": " 100/100 [00:00&lt;00:00, 798.27epoch/s]",
            "_view_count": null,
            "_view_module_version": "1.5.0",
            "description_tooltip": null,
            "_model_module": "@jupyter-widgets/controls",
            "layout": "IPY_MODEL_19a552c41b4e4469996cd6dcae4c2eae"
          }
        },
        "66791f257634492d983a0710af45252a": {
          "model_module": "@jupyter-widgets/controls",
          "model_name": "ProgressStyleModel",
          "state": {
            "_view_name": "StyleView",
            "_model_name": "ProgressStyleModel",
            "description_width": "initial",
            "_view_module": "@jupyter-widgets/base",
            "_model_module_version": "1.5.0",
            "_view_count": null,
            "_view_module_version": "1.2.0",
            "bar_color": null,
            "_model_module": "@jupyter-widgets/controls"
          }
        },
        "d38d68c5076340d0be4450b93cec29b6": {
          "model_module": "@jupyter-widgets/base",
          "model_name": "LayoutModel",
          "state": {
            "_view_name": "LayoutView",
            "grid_template_rows": null,
            "right": null,
            "justify_content": null,
            "_view_module": "@jupyter-widgets/base",
            "overflow": null,
            "_model_module_version": "1.2.0",
            "_view_count": null,
            "flex_flow": null,
            "width": null,
            "min_width": null,
            "border": null,
            "align_items": null,
            "bottom": null,
            "_model_module": "@jupyter-widgets/base",
            "top": null,
            "grid_column": null,
            "overflow_y": null,
            "overflow_x": null,
            "grid_auto_flow": null,
            "grid_area": null,
            "grid_template_columns": null,
            "flex": null,
            "_model_name": "LayoutModel",
            "justify_items": null,
            "grid_row": null,
            "max_height": null,
            "align_content": null,
            "visibility": null,
            "align_self": null,
            "height": null,
            "min_height": null,
            "padding": null,
            "grid_auto_rows": null,
            "grid_gap": null,
            "max_width": null,
            "order": null,
            "_view_module_version": "1.2.0",
            "grid_template_areas": null,
            "object_position": null,
            "object_fit": null,
            "grid_auto_columns": null,
            "margin": null,
            "display": null,
            "left": null
          }
        },
        "6c6e573ec1e441de9f4a2765bb254099": {
          "model_module": "@jupyter-widgets/controls",
          "model_name": "DescriptionStyleModel",
          "state": {
            "_view_name": "StyleView",
            "_model_name": "DescriptionStyleModel",
            "description_width": "",
            "_view_module": "@jupyter-widgets/base",
            "_model_module_version": "1.5.0",
            "_view_count": null,
            "_view_module_version": "1.2.0",
            "_model_module": "@jupyter-widgets/controls"
          }
        },
        "19a552c41b4e4469996cd6dcae4c2eae": {
          "model_module": "@jupyter-widgets/base",
          "model_name": "LayoutModel",
          "state": {
            "_view_name": "LayoutView",
            "grid_template_rows": null,
            "right": null,
            "justify_content": null,
            "_view_module": "@jupyter-widgets/base",
            "overflow": null,
            "_model_module_version": "1.2.0",
            "_view_count": null,
            "flex_flow": null,
            "width": null,
            "min_width": null,
            "border": null,
            "align_items": null,
            "bottom": null,
            "_model_module": "@jupyter-widgets/base",
            "top": null,
            "grid_column": null,
            "overflow_y": null,
            "overflow_x": null,
            "grid_auto_flow": null,
            "grid_area": null,
            "grid_template_columns": null,
            "flex": null,
            "_model_name": "LayoutModel",
            "justify_items": null,
            "grid_row": null,
            "max_height": null,
            "align_content": null,
            "visibility": null,
            "align_self": null,
            "height": null,
            "min_height": null,
            "padding": null,
            "grid_auto_rows": null,
            "grid_gap": null,
            "max_width": null,
            "order": null,
            "_view_module_version": "1.2.0",
            "grid_template_areas": null,
            "object_position": null,
            "object_fit": null,
            "grid_auto_columns": null,
            "margin": null,
            "display": null,
            "left": null
          }
        },
        "dbbe8cc95fd546de820053cb40c3da1d": {
          "model_module": "@jupyter-widgets/controls",
          "model_name": "HBoxModel",
          "state": {
            "_view_name": "HBoxView",
            "_dom_classes": [],
            "_model_name": "HBoxModel",
            "_view_module": "@jupyter-widgets/controls",
            "_model_module_version": "1.5.0",
            "_view_count": null,
            "_view_module_version": "1.5.0",
            "box_style": "",
            "layout": "IPY_MODEL_51cdafeb446f4de2aa79822dcd9c2124",
            "_model_module": "@jupyter-widgets/controls",
            "children": [
              "IPY_MODEL_77ccb32c01ea4721ba01a9104e482fa5",
              "IPY_MODEL_4164732375fb4b859776aeb2f6ede14f"
            ]
          }
        },
        "51cdafeb446f4de2aa79822dcd9c2124": {
          "model_module": "@jupyter-widgets/base",
          "model_name": "LayoutModel",
          "state": {
            "_view_name": "LayoutView",
            "grid_template_rows": null,
            "right": null,
            "justify_content": null,
            "_view_module": "@jupyter-widgets/base",
            "overflow": null,
            "_model_module_version": "1.2.0",
            "_view_count": null,
            "flex_flow": null,
            "width": null,
            "min_width": null,
            "border": null,
            "align_items": null,
            "bottom": null,
            "_model_module": "@jupyter-widgets/base",
            "top": null,
            "grid_column": null,
            "overflow_y": null,
            "overflow_x": null,
            "grid_auto_flow": null,
            "grid_area": null,
            "grid_template_columns": null,
            "flex": null,
            "_model_name": "LayoutModel",
            "justify_items": null,
            "grid_row": null,
            "max_height": null,
            "align_content": null,
            "visibility": null,
            "align_self": null,
            "height": null,
            "min_height": null,
            "padding": null,
            "grid_auto_rows": null,
            "grid_gap": null,
            "max_width": null,
            "order": null,
            "_view_module_version": "1.2.0",
            "grid_template_areas": null,
            "object_position": null,
            "object_fit": null,
            "grid_auto_columns": null,
            "margin": null,
            "display": null,
            "left": null
          }
        },
        "77ccb32c01ea4721ba01a9104e482fa5": {
          "model_module": "@jupyter-widgets/controls",
          "model_name": "FloatProgressModel",
          "state": {
            "_view_name": "ProgressView",
            "style": "IPY_MODEL_3fa7355a9f624a76a1e35c2de3cdc440",
            "_dom_classes": [],
            "description": "100%",
            "_model_name": "FloatProgressModel",
            "bar_style": "success",
            "max": 400,
            "_view_module": "@jupyter-widgets/controls",
            "_model_module_version": "1.5.0",
            "value": 400,
            "_view_count": null,
            "_view_module_version": "1.5.0",
            "orientation": "horizontal",
            "min": 0,
            "description_tooltip": null,
            "_model_module": "@jupyter-widgets/controls",
            "layout": "IPY_MODEL_f0c20f8813914fde9b973e1f7d799361"
          }
        },
        "4164732375fb4b859776aeb2f6ede14f": {
          "model_module": "@jupyter-widgets/controls",
          "model_name": "HTMLModel",
          "state": {
            "_view_name": "HTMLView",
            "style": "IPY_MODEL_7e10911a956e47d08c37c98f8b6e52d1",
            "_dom_classes": [],
            "description": "",
            "_model_name": "HTMLModel",
            "placeholder": "​",
            "_view_module": "@jupyter-widgets/controls",
            "_model_module_version": "1.5.0",
            "value": " 400/400 [00:00&lt;00:00, 1171.43epoch/s]",
            "_view_count": null,
            "_view_module_version": "1.5.0",
            "description_tooltip": null,
            "_model_module": "@jupyter-widgets/controls",
            "layout": "IPY_MODEL_1d0a2ea2cde14bd5aff28762243115e5"
          }
        },
        "3fa7355a9f624a76a1e35c2de3cdc440": {
          "model_module": "@jupyter-widgets/controls",
          "model_name": "ProgressStyleModel",
          "state": {
            "_view_name": "StyleView",
            "_model_name": "ProgressStyleModel",
            "description_width": "initial",
            "_view_module": "@jupyter-widgets/base",
            "_model_module_version": "1.5.0",
            "_view_count": null,
            "_view_module_version": "1.2.0",
            "bar_color": null,
            "_model_module": "@jupyter-widgets/controls"
          }
        },
        "f0c20f8813914fde9b973e1f7d799361": {
          "model_module": "@jupyter-widgets/base",
          "model_name": "LayoutModel",
          "state": {
            "_view_name": "LayoutView",
            "grid_template_rows": null,
            "right": null,
            "justify_content": null,
            "_view_module": "@jupyter-widgets/base",
            "overflow": null,
            "_model_module_version": "1.2.0",
            "_view_count": null,
            "flex_flow": null,
            "width": null,
            "min_width": null,
            "border": null,
            "align_items": null,
            "bottom": null,
            "_model_module": "@jupyter-widgets/base",
            "top": null,
            "grid_column": null,
            "overflow_y": null,
            "overflow_x": null,
            "grid_auto_flow": null,
            "grid_area": null,
            "grid_template_columns": null,
            "flex": null,
            "_model_name": "LayoutModel",
            "justify_items": null,
            "grid_row": null,
            "max_height": null,
            "align_content": null,
            "visibility": null,
            "align_self": null,
            "height": null,
            "min_height": null,
            "padding": null,
            "grid_auto_rows": null,
            "grid_gap": null,
            "max_width": null,
            "order": null,
            "_view_module_version": "1.2.0",
            "grid_template_areas": null,
            "object_position": null,
            "object_fit": null,
            "grid_auto_columns": null,
            "margin": null,
            "display": null,
            "left": null
          }
        },
        "7e10911a956e47d08c37c98f8b6e52d1": {
          "model_module": "@jupyter-widgets/controls",
          "model_name": "DescriptionStyleModel",
          "state": {
            "_view_name": "StyleView",
            "_model_name": "DescriptionStyleModel",
            "description_width": "",
            "_view_module": "@jupyter-widgets/base",
            "_model_module_version": "1.5.0",
            "_view_count": null,
            "_view_module_version": "1.2.0",
            "_model_module": "@jupyter-widgets/controls"
          }
        },
        "1d0a2ea2cde14bd5aff28762243115e5": {
          "model_module": "@jupyter-widgets/base",
          "model_name": "LayoutModel",
          "state": {
            "_view_name": "LayoutView",
            "grid_template_rows": null,
            "right": null,
            "justify_content": null,
            "_view_module": "@jupyter-widgets/base",
            "overflow": null,
            "_model_module_version": "1.2.0",
            "_view_count": null,
            "flex_flow": null,
            "width": null,
            "min_width": null,
            "border": null,
            "align_items": null,
            "bottom": null,
            "_model_module": "@jupyter-widgets/base",
            "top": null,
            "grid_column": null,
            "overflow_y": null,
            "overflow_x": null,
            "grid_auto_flow": null,
            "grid_area": null,
            "grid_template_columns": null,
            "flex": null,
            "_model_name": "LayoutModel",
            "justify_items": null,
            "grid_row": null,
            "max_height": null,
            "align_content": null,
            "visibility": null,
            "align_self": null,
            "height": null,
            "min_height": null,
            "padding": null,
            "grid_auto_rows": null,
            "grid_gap": null,
            "max_width": null,
            "order": null,
            "_view_module_version": "1.2.0",
            "grid_template_areas": null,
            "object_position": null,
            "object_fit": null,
            "grid_auto_columns": null,
            "margin": null,
            "display": null,
            "left": null
          }
        },
        "c86bcfbbed5f45ca9a008a01f9b26d17": {
          "model_module": "@jupyter-widgets/controls",
          "model_name": "HBoxModel",
          "state": {
            "_view_name": "HBoxView",
            "_dom_classes": [],
            "_model_name": "HBoxModel",
            "_view_module": "@jupyter-widgets/controls",
            "_model_module_version": "1.5.0",
            "_view_count": null,
            "_view_module_version": "1.5.0",
            "box_style": "",
            "layout": "IPY_MODEL_cc842a729ed54a5ba02ba3fd5c4cd886",
            "_model_module": "@jupyter-widgets/controls",
            "children": [
              "IPY_MODEL_1cfff5bafa994800b5b28451167f85ad",
              "IPY_MODEL_183a3809100a49d7880b61d9dd12c9c6"
            ]
          }
        },
        "cc842a729ed54a5ba02ba3fd5c4cd886": {
          "model_module": "@jupyter-widgets/base",
          "model_name": "LayoutModel",
          "state": {
            "_view_name": "LayoutView",
            "grid_template_rows": null,
            "right": null,
            "justify_content": null,
            "_view_module": "@jupyter-widgets/base",
            "overflow": null,
            "_model_module_version": "1.2.0",
            "_view_count": null,
            "flex_flow": null,
            "width": null,
            "min_width": null,
            "border": null,
            "align_items": null,
            "bottom": null,
            "_model_module": "@jupyter-widgets/base",
            "top": null,
            "grid_column": null,
            "overflow_y": null,
            "overflow_x": null,
            "grid_auto_flow": null,
            "grid_area": null,
            "grid_template_columns": null,
            "flex": null,
            "_model_name": "LayoutModel",
            "justify_items": null,
            "grid_row": null,
            "max_height": null,
            "align_content": null,
            "visibility": null,
            "align_self": null,
            "height": null,
            "min_height": null,
            "padding": null,
            "grid_auto_rows": null,
            "grid_gap": null,
            "max_width": null,
            "order": null,
            "_view_module_version": "1.2.0",
            "grid_template_areas": null,
            "object_position": null,
            "object_fit": null,
            "grid_auto_columns": null,
            "margin": null,
            "display": null,
            "left": null
          }
        },
        "1cfff5bafa994800b5b28451167f85ad": {
          "model_module": "@jupyter-widgets/controls",
          "model_name": "FloatProgressModel",
          "state": {
            "_view_name": "ProgressView",
            "style": "IPY_MODEL_6d62ac6f3c194406bf6ce91033b468a8",
            "_dom_classes": [],
            "description": "100%",
            "_model_name": "FloatProgressModel",
            "bar_style": "success",
            "max": 500,
            "_view_module": "@jupyter-widgets/controls",
            "_model_module_version": "1.5.0",
            "value": 500,
            "_view_count": null,
            "_view_module_version": "1.5.0",
            "orientation": "horizontal",
            "min": 0,
            "description_tooltip": null,
            "_model_module": "@jupyter-widgets/controls",
            "layout": "IPY_MODEL_b457c5b86f9348819d3c28e21c05b0a7"
          }
        },
        "183a3809100a49d7880b61d9dd12c9c6": {
          "model_module": "@jupyter-widgets/controls",
          "model_name": "HTMLModel",
          "state": {
            "_view_name": "HTMLView",
            "style": "IPY_MODEL_2b2d2547005b49d9a598051043d82e5c",
            "_dom_classes": [],
            "description": "",
            "_model_name": "HTMLModel",
            "placeholder": "​",
            "_view_module": "@jupyter-widgets/controls",
            "_model_module_version": "1.5.0",
            "value": " 500/500 [00:00&lt;00:00, 1403.46epoch/s]",
            "_view_count": null,
            "_view_module_version": "1.5.0",
            "description_tooltip": null,
            "_model_module": "@jupyter-widgets/controls",
            "layout": "IPY_MODEL_2df8fd9a15e740d89bbb52a8d3db70cb"
          }
        },
        "6d62ac6f3c194406bf6ce91033b468a8": {
          "model_module": "@jupyter-widgets/controls",
          "model_name": "ProgressStyleModel",
          "state": {
            "_view_name": "StyleView",
            "_model_name": "ProgressStyleModel",
            "description_width": "initial",
            "_view_module": "@jupyter-widgets/base",
            "_model_module_version": "1.5.0",
            "_view_count": null,
            "_view_module_version": "1.2.0",
            "bar_color": null,
            "_model_module": "@jupyter-widgets/controls"
          }
        },
        "b457c5b86f9348819d3c28e21c05b0a7": {
          "model_module": "@jupyter-widgets/base",
          "model_name": "LayoutModel",
          "state": {
            "_view_name": "LayoutView",
            "grid_template_rows": null,
            "right": null,
            "justify_content": null,
            "_view_module": "@jupyter-widgets/base",
            "overflow": null,
            "_model_module_version": "1.2.0",
            "_view_count": null,
            "flex_flow": null,
            "width": null,
            "min_width": null,
            "border": null,
            "align_items": null,
            "bottom": null,
            "_model_module": "@jupyter-widgets/base",
            "top": null,
            "grid_column": null,
            "overflow_y": null,
            "overflow_x": null,
            "grid_auto_flow": null,
            "grid_area": null,
            "grid_template_columns": null,
            "flex": null,
            "_model_name": "LayoutModel",
            "justify_items": null,
            "grid_row": null,
            "max_height": null,
            "align_content": null,
            "visibility": null,
            "align_self": null,
            "height": null,
            "min_height": null,
            "padding": null,
            "grid_auto_rows": null,
            "grid_gap": null,
            "max_width": null,
            "order": null,
            "_view_module_version": "1.2.0",
            "grid_template_areas": null,
            "object_position": null,
            "object_fit": null,
            "grid_auto_columns": null,
            "margin": null,
            "display": null,
            "left": null
          }
        },
        "2b2d2547005b49d9a598051043d82e5c": {
          "model_module": "@jupyter-widgets/controls",
          "model_name": "DescriptionStyleModel",
          "state": {
            "_view_name": "StyleView",
            "_model_name": "DescriptionStyleModel",
            "description_width": "",
            "_view_module": "@jupyter-widgets/base",
            "_model_module_version": "1.5.0",
            "_view_count": null,
            "_view_module_version": "1.2.0",
            "_model_module": "@jupyter-widgets/controls"
          }
        },
        "2df8fd9a15e740d89bbb52a8d3db70cb": {
          "model_module": "@jupyter-widgets/base",
          "model_name": "LayoutModel",
          "state": {
            "_view_name": "LayoutView",
            "grid_template_rows": null,
            "right": null,
            "justify_content": null,
            "_view_module": "@jupyter-widgets/base",
            "overflow": null,
            "_model_module_version": "1.2.0",
            "_view_count": null,
            "flex_flow": null,
            "width": null,
            "min_width": null,
            "border": null,
            "align_items": null,
            "bottom": null,
            "_model_module": "@jupyter-widgets/base",
            "top": null,
            "grid_column": null,
            "overflow_y": null,
            "overflow_x": null,
            "grid_auto_flow": null,
            "grid_area": null,
            "grid_template_columns": null,
            "flex": null,
            "_model_name": "LayoutModel",
            "justify_items": null,
            "grid_row": null,
            "max_height": null,
            "align_content": null,
            "visibility": null,
            "align_self": null,
            "height": null,
            "min_height": null,
            "padding": null,
            "grid_auto_rows": null,
            "grid_gap": null,
            "max_width": null,
            "order": null,
            "_view_module_version": "1.2.0",
            "grid_template_areas": null,
            "object_position": null,
            "object_fit": null,
            "grid_auto_columns": null,
            "margin": null,
            "display": null,
            "left": null
          }
        },
        "0adee7423b94426ab87c183e9d4cafce": {
          "model_module": "@jupyter-widgets/controls",
          "model_name": "HBoxModel",
          "state": {
            "_view_name": "HBoxView",
            "_dom_classes": [],
            "_model_name": "HBoxModel",
            "_view_module": "@jupyter-widgets/controls",
            "_model_module_version": "1.5.0",
            "_view_count": null,
            "_view_module_version": "1.5.0",
            "box_style": "",
            "layout": "IPY_MODEL_1f815578fc914267b1f988d5411350dd",
            "_model_module": "@jupyter-widgets/controls",
            "children": [
              "IPY_MODEL_27e2b1f4a05c45e3aa7055d8936ac166",
              "IPY_MODEL_c0c15bfd3b9b4eda91ef893ea054719d"
            ]
          }
        },
        "1f815578fc914267b1f988d5411350dd": {
          "model_module": "@jupyter-widgets/base",
          "model_name": "LayoutModel",
          "state": {
            "_view_name": "LayoutView",
            "grid_template_rows": null,
            "right": null,
            "justify_content": null,
            "_view_module": "@jupyter-widgets/base",
            "overflow": null,
            "_model_module_version": "1.2.0",
            "_view_count": null,
            "flex_flow": null,
            "width": null,
            "min_width": null,
            "border": null,
            "align_items": null,
            "bottom": null,
            "_model_module": "@jupyter-widgets/base",
            "top": null,
            "grid_column": null,
            "overflow_y": null,
            "overflow_x": null,
            "grid_auto_flow": null,
            "grid_area": null,
            "grid_template_columns": null,
            "flex": null,
            "_model_name": "LayoutModel",
            "justify_items": null,
            "grid_row": null,
            "max_height": null,
            "align_content": null,
            "visibility": null,
            "align_self": null,
            "height": null,
            "min_height": null,
            "padding": null,
            "grid_auto_rows": null,
            "grid_gap": null,
            "max_width": null,
            "order": null,
            "_view_module_version": "1.2.0",
            "grid_template_areas": null,
            "object_position": null,
            "object_fit": null,
            "grid_auto_columns": null,
            "margin": null,
            "display": null,
            "left": null
          }
        },
        "27e2b1f4a05c45e3aa7055d8936ac166": {
          "model_module": "@jupyter-widgets/controls",
          "model_name": "FloatProgressModel",
          "state": {
            "_view_name": "ProgressView",
            "style": "IPY_MODEL_1fc1d28b05894549a6b7f277feebbbe1",
            "_dom_classes": [],
            "description": "100%",
            "_model_name": "FloatProgressModel",
            "bar_style": "success",
            "max": 500,
            "_view_module": "@jupyter-widgets/controls",
            "_model_module_version": "1.5.0",
            "value": 500,
            "_view_count": null,
            "_view_module_version": "1.5.0",
            "orientation": "horizontal",
            "min": 0,
            "description_tooltip": null,
            "_model_module": "@jupyter-widgets/controls",
            "layout": "IPY_MODEL_b54f52f0558548a2a194908a820ee911"
          }
        },
        "c0c15bfd3b9b4eda91ef893ea054719d": {
          "model_module": "@jupyter-widgets/controls",
          "model_name": "HTMLModel",
          "state": {
            "_view_name": "HTMLView",
            "style": "IPY_MODEL_0ed62075d8de41f1a932c9a9593b9eaa",
            "_dom_classes": [],
            "description": "",
            "_model_name": "HTMLModel",
            "placeholder": "​",
            "_view_module": "@jupyter-widgets/controls",
            "_model_module_version": "1.5.0",
            "value": " 500/500 [00:00&lt;00:00, 1076.41epoch/s]",
            "_view_count": null,
            "_view_module_version": "1.5.0",
            "description_tooltip": null,
            "_model_module": "@jupyter-widgets/controls",
            "layout": "IPY_MODEL_5a4b0224fd074ac8becfabb2c643175b"
          }
        },
        "1fc1d28b05894549a6b7f277feebbbe1": {
          "model_module": "@jupyter-widgets/controls",
          "model_name": "ProgressStyleModel",
          "state": {
            "_view_name": "StyleView",
            "_model_name": "ProgressStyleModel",
            "description_width": "initial",
            "_view_module": "@jupyter-widgets/base",
            "_model_module_version": "1.5.0",
            "_view_count": null,
            "_view_module_version": "1.2.0",
            "bar_color": null,
            "_model_module": "@jupyter-widgets/controls"
          }
        },
        "b54f52f0558548a2a194908a820ee911": {
          "model_module": "@jupyter-widgets/base",
          "model_name": "LayoutModel",
          "state": {
            "_view_name": "LayoutView",
            "grid_template_rows": null,
            "right": null,
            "justify_content": null,
            "_view_module": "@jupyter-widgets/base",
            "overflow": null,
            "_model_module_version": "1.2.0",
            "_view_count": null,
            "flex_flow": null,
            "width": null,
            "min_width": null,
            "border": null,
            "align_items": null,
            "bottom": null,
            "_model_module": "@jupyter-widgets/base",
            "top": null,
            "grid_column": null,
            "overflow_y": null,
            "overflow_x": null,
            "grid_auto_flow": null,
            "grid_area": null,
            "grid_template_columns": null,
            "flex": null,
            "_model_name": "LayoutModel",
            "justify_items": null,
            "grid_row": null,
            "max_height": null,
            "align_content": null,
            "visibility": null,
            "align_self": null,
            "height": null,
            "min_height": null,
            "padding": null,
            "grid_auto_rows": null,
            "grid_gap": null,
            "max_width": null,
            "order": null,
            "_view_module_version": "1.2.0",
            "grid_template_areas": null,
            "object_position": null,
            "object_fit": null,
            "grid_auto_columns": null,
            "margin": null,
            "display": null,
            "left": null
          }
        },
        "0ed62075d8de41f1a932c9a9593b9eaa": {
          "model_module": "@jupyter-widgets/controls",
          "model_name": "DescriptionStyleModel",
          "state": {
            "_view_name": "StyleView",
            "_model_name": "DescriptionStyleModel",
            "description_width": "",
            "_view_module": "@jupyter-widgets/base",
            "_model_module_version": "1.5.0",
            "_view_count": null,
            "_view_module_version": "1.2.0",
            "_model_module": "@jupyter-widgets/controls"
          }
        },
        "5a4b0224fd074ac8becfabb2c643175b": {
          "model_module": "@jupyter-widgets/base",
          "model_name": "LayoutModel",
          "state": {
            "_view_name": "LayoutView",
            "grid_template_rows": null,
            "right": null,
            "justify_content": null,
            "_view_module": "@jupyter-widgets/base",
            "overflow": null,
            "_model_module_version": "1.2.0",
            "_view_count": null,
            "flex_flow": null,
            "width": null,
            "min_width": null,
            "border": null,
            "align_items": null,
            "bottom": null,
            "_model_module": "@jupyter-widgets/base",
            "top": null,
            "grid_column": null,
            "overflow_y": null,
            "overflow_x": null,
            "grid_auto_flow": null,
            "grid_area": null,
            "grid_template_columns": null,
            "flex": null,
            "_model_name": "LayoutModel",
            "justify_items": null,
            "grid_row": null,
            "max_height": null,
            "align_content": null,
            "visibility": null,
            "align_self": null,
            "height": null,
            "min_height": null,
            "padding": null,
            "grid_auto_rows": null,
            "grid_gap": null,
            "max_width": null,
            "order": null,
            "_view_module_version": "1.2.0",
            "grid_template_areas": null,
            "object_position": null,
            "object_fit": null,
            "grid_auto_columns": null,
            "margin": null,
            "display": null,
            "left": null
          }
        },
        "57064718ad58479f9e61e16e3b693aa9": {
          "model_module": "@jupyter-widgets/controls",
          "model_name": "HBoxModel",
          "state": {
            "_view_name": "HBoxView",
            "_dom_classes": [],
            "_model_name": "HBoxModel",
            "_view_module": "@jupyter-widgets/controls",
            "_model_module_version": "1.5.0",
            "_view_count": null,
            "_view_module_version": "1.5.0",
            "box_style": "",
            "layout": "IPY_MODEL_cb636ecef1b241b2963eadd33d56a292",
            "_model_module": "@jupyter-widgets/controls",
            "children": [
              "IPY_MODEL_4970841af0bd4679b38a3d92284c56bf",
              "IPY_MODEL_e951d1dbf92c4d8ab29ac38bbde23dd5"
            ]
          }
        },
        "cb636ecef1b241b2963eadd33d56a292": {
          "model_module": "@jupyter-widgets/base",
          "model_name": "LayoutModel",
          "state": {
            "_view_name": "LayoutView",
            "grid_template_rows": null,
            "right": null,
            "justify_content": null,
            "_view_module": "@jupyter-widgets/base",
            "overflow": null,
            "_model_module_version": "1.2.0",
            "_view_count": null,
            "flex_flow": null,
            "width": null,
            "min_width": null,
            "border": null,
            "align_items": null,
            "bottom": null,
            "_model_module": "@jupyter-widgets/base",
            "top": null,
            "grid_column": null,
            "overflow_y": null,
            "overflow_x": null,
            "grid_auto_flow": null,
            "grid_area": null,
            "grid_template_columns": null,
            "flex": null,
            "_model_name": "LayoutModel",
            "justify_items": null,
            "grid_row": null,
            "max_height": null,
            "align_content": null,
            "visibility": null,
            "align_self": null,
            "height": null,
            "min_height": null,
            "padding": null,
            "grid_auto_rows": null,
            "grid_gap": null,
            "max_width": null,
            "order": null,
            "_view_module_version": "1.2.0",
            "grid_template_areas": null,
            "object_position": null,
            "object_fit": null,
            "grid_auto_columns": null,
            "margin": null,
            "display": null,
            "left": null
          }
        },
        "4970841af0bd4679b38a3d92284c56bf": {
          "model_module": "@jupyter-widgets/controls",
          "model_name": "FloatProgressModel",
          "state": {
            "_view_name": "ProgressView",
            "style": "IPY_MODEL_834c0b39bab249db8145485329c026ae",
            "_dom_classes": [],
            "description": "100%",
            "_model_name": "FloatProgressModel",
            "bar_style": "success",
            "max": 2000,
            "_view_module": "@jupyter-widgets/controls",
            "_model_module_version": "1.5.0",
            "value": 2000,
            "_view_count": null,
            "_view_module_version": "1.5.0",
            "orientation": "horizontal",
            "min": 0,
            "description_tooltip": null,
            "_model_module": "@jupyter-widgets/controls",
            "layout": "IPY_MODEL_32dfd85ebd3a46799094cd65de7f76c3"
          }
        },
        "e951d1dbf92c4d8ab29ac38bbde23dd5": {
          "model_module": "@jupyter-widgets/controls",
          "model_name": "HTMLModel",
          "state": {
            "_view_name": "HTMLView",
            "style": "IPY_MODEL_e1a96503c1fe4d7a999eb707749af974",
            "_dom_classes": [],
            "description": "",
            "_model_name": "HTMLModel",
            "placeholder": "​",
            "_view_module": "@jupyter-widgets/controls",
            "_model_module_version": "1.5.0",
            "value": " 2000/2000 [00:02&lt;00:00, 895.96epoch/s]",
            "_view_count": null,
            "_view_module_version": "1.5.0",
            "description_tooltip": null,
            "_model_module": "@jupyter-widgets/controls",
            "layout": "IPY_MODEL_ed63ec6d7a5e441e9e94de145028b1f0"
          }
        },
        "834c0b39bab249db8145485329c026ae": {
          "model_module": "@jupyter-widgets/controls",
          "model_name": "ProgressStyleModel",
          "state": {
            "_view_name": "StyleView",
            "_model_name": "ProgressStyleModel",
            "description_width": "initial",
            "_view_module": "@jupyter-widgets/base",
            "_model_module_version": "1.5.0",
            "_view_count": null,
            "_view_module_version": "1.2.0",
            "bar_color": null,
            "_model_module": "@jupyter-widgets/controls"
          }
        },
        "32dfd85ebd3a46799094cd65de7f76c3": {
          "model_module": "@jupyter-widgets/base",
          "model_name": "LayoutModel",
          "state": {
            "_view_name": "LayoutView",
            "grid_template_rows": null,
            "right": null,
            "justify_content": null,
            "_view_module": "@jupyter-widgets/base",
            "overflow": null,
            "_model_module_version": "1.2.0",
            "_view_count": null,
            "flex_flow": null,
            "width": null,
            "min_width": null,
            "border": null,
            "align_items": null,
            "bottom": null,
            "_model_module": "@jupyter-widgets/base",
            "top": null,
            "grid_column": null,
            "overflow_y": null,
            "overflow_x": null,
            "grid_auto_flow": null,
            "grid_area": null,
            "grid_template_columns": null,
            "flex": null,
            "_model_name": "LayoutModel",
            "justify_items": null,
            "grid_row": null,
            "max_height": null,
            "align_content": null,
            "visibility": null,
            "align_self": null,
            "height": null,
            "min_height": null,
            "padding": null,
            "grid_auto_rows": null,
            "grid_gap": null,
            "max_width": null,
            "order": null,
            "_view_module_version": "1.2.0",
            "grid_template_areas": null,
            "object_position": null,
            "object_fit": null,
            "grid_auto_columns": null,
            "margin": null,
            "display": null,
            "left": null
          }
        },
        "e1a96503c1fe4d7a999eb707749af974": {
          "model_module": "@jupyter-widgets/controls",
          "model_name": "DescriptionStyleModel",
          "state": {
            "_view_name": "StyleView",
            "_model_name": "DescriptionStyleModel",
            "description_width": "",
            "_view_module": "@jupyter-widgets/base",
            "_model_module_version": "1.5.0",
            "_view_count": null,
            "_view_module_version": "1.2.0",
            "_model_module": "@jupyter-widgets/controls"
          }
        },
        "ed63ec6d7a5e441e9e94de145028b1f0": {
          "model_module": "@jupyter-widgets/base",
          "model_name": "LayoutModel",
          "state": {
            "_view_name": "LayoutView",
            "grid_template_rows": null,
            "right": null,
            "justify_content": null,
            "_view_module": "@jupyter-widgets/base",
            "overflow": null,
            "_model_module_version": "1.2.0",
            "_view_count": null,
            "flex_flow": null,
            "width": null,
            "min_width": null,
            "border": null,
            "align_items": null,
            "bottom": null,
            "_model_module": "@jupyter-widgets/base",
            "top": null,
            "grid_column": null,
            "overflow_y": null,
            "overflow_x": null,
            "grid_auto_flow": null,
            "grid_area": null,
            "grid_template_columns": null,
            "flex": null,
            "_model_name": "LayoutModel",
            "justify_items": null,
            "grid_row": null,
            "max_height": null,
            "align_content": null,
            "visibility": null,
            "align_self": null,
            "height": null,
            "min_height": null,
            "padding": null,
            "grid_auto_rows": null,
            "grid_gap": null,
            "max_width": null,
            "order": null,
            "_view_module_version": "1.2.0",
            "grid_template_areas": null,
            "object_position": null,
            "object_fit": null,
            "grid_auto_columns": null,
            "margin": null,
            "display": null,
            "left": null
          }
        },
        "132a2897fbdc48eca99f619949fdbbe0": {
          "model_module": "@jupyter-widgets/controls",
          "model_name": "HBoxModel",
          "state": {
            "_view_name": "HBoxView",
            "_dom_classes": [],
            "_model_name": "HBoxModel",
            "_view_module": "@jupyter-widgets/controls",
            "_model_module_version": "1.5.0",
            "_view_count": null,
            "_view_module_version": "1.5.0",
            "box_style": "",
            "layout": "IPY_MODEL_ca418ba010a54fe9b068433f82d24bda",
            "_model_module": "@jupyter-widgets/controls",
            "children": [
              "IPY_MODEL_deb4ca4420a64c0aa23537b1ce90af31",
              "IPY_MODEL_462b6d7a4e524943b82bf7a548487b6d"
            ]
          }
        },
        "ca418ba010a54fe9b068433f82d24bda": {
          "model_module": "@jupyter-widgets/base",
          "model_name": "LayoutModel",
          "state": {
            "_view_name": "LayoutView",
            "grid_template_rows": null,
            "right": null,
            "justify_content": null,
            "_view_module": "@jupyter-widgets/base",
            "overflow": null,
            "_model_module_version": "1.2.0",
            "_view_count": null,
            "flex_flow": null,
            "width": null,
            "min_width": null,
            "border": null,
            "align_items": null,
            "bottom": null,
            "_model_module": "@jupyter-widgets/base",
            "top": null,
            "grid_column": null,
            "overflow_y": null,
            "overflow_x": null,
            "grid_auto_flow": null,
            "grid_area": null,
            "grid_template_columns": null,
            "flex": null,
            "_model_name": "LayoutModel",
            "justify_items": null,
            "grid_row": null,
            "max_height": null,
            "align_content": null,
            "visibility": null,
            "align_self": null,
            "height": null,
            "min_height": null,
            "padding": null,
            "grid_auto_rows": null,
            "grid_gap": null,
            "max_width": null,
            "order": null,
            "_view_module_version": "1.2.0",
            "grid_template_areas": null,
            "object_position": null,
            "object_fit": null,
            "grid_auto_columns": null,
            "margin": null,
            "display": null,
            "left": null
          }
        },
        "deb4ca4420a64c0aa23537b1ce90af31": {
          "model_module": "@jupyter-widgets/controls",
          "model_name": "FloatProgressModel",
          "state": {
            "_view_name": "ProgressView",
            "style": "IPY_MODEL_db77b6628cdb4ca7bce470afb4187680",
            "_dom_classes": [],
            "description": "100%",
            "_model_name": "FloatProgressModel",
            "bar_style": "success",
            "max": 2000,
            "_view_module": "@jupyter-widgets/controls",
            "_model_module_version": "1.5.0",
            "value": 2000,
            "_view_count": null,
            "_view_module_version": "1.5.0",
            "orientation": "horizontal",
            "min": 0,
            "description_tooltip": null,
            "_model_module": "@jupyter-widgets/controls",
            "layout": "IPY_MODEL_1bff3dc3ffd34fefa1065415195cea8a"
          }
        },
        "462b6d7a4e524943b82bf7a548487b6d": {
          "model_module": "@jupyter-widgets/controls",
          "model_name": "HTMLModel",
          "state": {
            "_view_name": "HTMLView",
            "style": "IPY_MODEL_c186b3fc5d5f4a23a54891237517b17f",
            "_dom_classes": [],
            "description": "",
            "_model_name": "HTMLModel",
            "placeholder": "​",
            "_view_module": "@jupyter-widgets/controls",
            "_model_module_version": "1.5.0",
            "value": " 2000/2000 [00:04&lt;00:00, 430.18epoch/s]",
            "_view_count": null,
            "_view_module_version": "1.5.0",
            "description_tooltip": null,
            "_model_module": "@jupyter-widgets/controls",
            "layout": "IPY_MODEL_860fe3fedd594fe3835734fb47d7cd1b"
          }
        },
        "db77b6628cdb4ca7bce470afb4187680": {
          "model_module": "@jupyter-widgets/controls",
          "model_name": "ProgressStyleModel",
          "state": {
            "_view_name": "StyleView",
            "_model_name": "ProgressStyleModel",
            "description_width": "initial",
            "_view_module": "@jupyter-widgets/base",
            "_model_module_version": "1.5.0",
            "_view_count": null,
            "_view_module_version": "1.2.0",
            "bar_color": null,
            "_model_module": "@jupyter-widgets/controls"
          }
        },
        "1bff3dc3ffd34fefa1065415195cea8a": {
          "model_module": "@jupyter-widgets/base",
          "model_name": "LayoutModel",
          "state": {
            "_view_name": "LayoutView",
            "grid_template_rows": null,
            "right": null,
            "justify_content": null,
            "_view_module": "@jupyter-widgets/base",
            "overflow": null,
            "_model_module_version": "1.2.0",
            "_view_count": null,
            "flex_flow": null,
            "width": null,
            "min_width": null,
            "border": null,
            "align_items": null,
            "bottom": null,
            "_model_module": "@jupyter-widgets/base",
            "top": null,
            "grid_column": null,
            "overflow_y": null,
            "overflow_x": null,
            "grid_auto_flow": null,
            "grid_area": null,
            "grid_template_columns": null,
            "flex": null,
            "_model_name": "LayoutModel",
            "justify_items": null,
            "grid_row": null,
            "max_height": null,
            "align_content": null,
            "visibility": null,
            "align_self": null,
            "height": null,
            "min_height": null,
            "padding": null,
            "grid_auto_rows": null,
            "grid_gap": null,
            "max_width": null,
            "order": null,
            "_view_module_version": "1.2.0",
            "grid_template_areas": null,
            "object_position": null,
            "object_fit": null,
            "grid_auto_columns": null,
            "margin": null,
            "display": null,
            "left": null
          }
        },
        "c186b3fc5d5f4a23a54891237517b17f": {
          "model_module": "@jupyter-widgets/controls",
          "model_name": "DescriptionStyleModel",
          "state": {
            "_view_name": "StyleView",
            "_model_name": "DescriptionStyleModel",
            "description_width": "",
            "_view_module": "@jupyter-widgets/base",
            "_model_module_version": "1.5.0",
            "_view_count": null,
            "_view_module_version": "1.2.0",
            "_model_module": "@jupyter-widgets/controls"
          }
        },
        "860fe3fedd594fe3835734fb47d7cd1b": {
          "model_module": "@jupyter-widgets/base",
          "model_name": "LayoutModel",
          "state": {
            "_view_name": "LayoutView",
            "grid_template_rows": null,
            "right": null,
            "justify_content": null,
            "_view_module": "@jupyter-widgets/base",
            "overflow": null,
            "_model_module_version": "1.2.0",
            "_view_count": null,
            "flex_flow": null,
            "width": null,
            "min_width": null,
            "border": null,
            "align_items": null,
            "bottom": null,
            "_model_module": "@jupyter-widgets/base",
            "top": null,
            "grid_column": null,
            "overflow_y": null,
            "overflow_x": null,
            "grid_auto_flow": null,
            "grid_area": null,
            "grid_template_columns": null,
            "flex": null,
            "_model_name": "LayoutModel",
            "justify_items": null,
            "grid_row": null,
            "max_height": null,
            "align_content": null,
            "visibility": null,
            "align_self": null,
            "height": null,
            "min_height": null,
            "padding": null,
            "grid_auto_rows": null,
            "grid_gap": null,
            "max_width": null,
            "order": null,
            "_view_module_version": "1.2.0",
            "grid_template_areas": null,
            "object_position": null,
            "object_fit": null,
            "grid_auto_columns": null,
            "margin": null,
            "display": null,
            "left": null
          }
        },
        "9afd6e357f094624b2b1ebf94420480e": {
          "model_module": "@jupyter-widgets/controls",
          "model_name": "HBoxModel",
          "state": {
            "_view_name": "HBoxView",
            "_dom_classes": [],
            "_model_name": "HBoxModel",
            "_view_module": "@jupyter-widgets/controls",
            "_model_module_version": "1.5.0",
            "_view_count": null,
            "_view_module_version": "1.5.0",
            "box_style": "",
            "layout": "IPY_MODEL_439a691eb0ff48e6aeb190b042e3d7c7",
            "_model_module": "@jupyter-widgets/controls",
            "children": [
              "IPY_MODEL_d763396d0412437592fac45a109f6f4f",
              "IPY_MODEL_1897ae1b34d9496aad667291faafd9a4"
            ]
          }
        },
        "439a691eb0ff48e6aeb190b042e3d7c7": {
          "model_module": "@jupyter-widgets/base",
          "model_name": "LayoutModel",
          "state": {
            "_view_name": "LayoutView",
            "grid_template_rows": null,
            "right": null,
            "justify_content": null,
            "_view_module": "@jupyter-widgets/base",
            "overflow": null,
            "_model_module_version": "1.2.0",
            "_view_count": null,
            "flex_flow": null,
            "width": null,
            "min_width": null,
            "border": null,
            "align_items": null,
            "bottom": null,
            "_model_module": "@jupyter-widgets/base",
            "top": null,
            "grid_column": null,
            "overflow_y": null,
            "overflow_x": null,
            "grid_auto_flow": null,
            "grid_area": null,
            "grid_template_columns": null,
            "flex": null,
            "_model_name": "LayoutModel",
            "justify_items": null,
            "grid_row": null,
            "max_height": null,
            "align_content": null,
            "visibility": null,
            "align_self": null,
            "height": null,
            "min_height": null,
            "padding": null,
            "grid_auto_rows": null,
            "grid_gap": null,
            "max_width": null,
            "order": null,
            "_view_module_version": "1.2.0",
            "grid_template_areas": null,
            "object_position": null,
            "object_fit": null,
            "grid_auto_columns": null,
            "margin": null,
            "display": null,
            "left": null
          }
        },
        "d763396d0412437592fac45a109f6f4f": {
          "model_module": "@jupyter-widgets/controls",
          "model_name": "FloatProgressModel",
          "state": {
            "_view_name": "ProgressView",
            "style": "IPY_MODEL_e3629ce350a449debe82715c8cbed919",
            "_dom_classes": [],
            "description": "100%",
            "_model_name": "FloatProgressModel",
            "bar_style": "success",
            "max": 2000,
            "_view_module": "@jupyter-widgets/controls",
            "_model_module_version": "1.5.0",
            "value": 2000,
            "_view_count": null,
            "_view_module_version": "1.5.0",
            "orientation": "horizontal",
            "min": 0,
            "description_tooltip": null,
            "_model_module": "@jupyter-widgets/controls",
            "layout": "IPY_MODEL_4d42ac41fe904542869ea05ab48809bb"
          }
        },
        "1897ae1b34d9496aad667291faafd9a4": {
          "model_module": "@jupyter-widgets/controls",
          "model_name": "HTMLModel",
          "state": {
            "_view_name": "HTMLView",
            "style": "IPY_MODEL_9860b8a0486d4774960814257d6056a6",
            "_dom_classes": [],
            "description": "",
            "_model_name": "HTMLModel",
            "placeholder": "​",
            "_view_module": "@jupyter-widgets/controls",
            "_model_module_version": "1.5.0",
            "value": " 2000/2000 [00:04&lt;00:00, 434.30epoch/s]",
            "_view_count": null,
            "_view_module_version": "1.5.0",
            "description_tooltip": null,
            "_model_module": "@jupyter-widgets/controls",
            "layout": "IPY_MODEL_54041862045a4b54843d001af80d4128"
          }
        },
        "e3629ce350a449debe82715c8cbed919": {
          "model_module": "@jupyter-widgets/controls",
          "model_name": "ProgressStyleModel",
          "state": {
            "_view_name": "StyleView",
            "_model_name": "ProgressStyleModel",
            "description_width": "initial",
            "_view_module": "@jupyter-widgets/base",
            "_model_module_version": "1.5.0",
            "_view_count": null,
            "_view_module_version": "1.2.0",
            "bar_color": null,
            "_model_module": "@jupyter-widgets/controls"
          }
        },
        "4d42ac41fe904542869ea05ab48809bb": {
          "model_module": "@jupyter-widgets/base",
          "model_name": "LayoutModel",
          "state": {
            "_view_name": "LayoutView",
            "grid_template_rows": null,
            "right": null,
            "justify_content": null,
            "_view_module": "@jupyter-widgets/base",
            "overflow": null,
            "_model_module_version": "1.2.0",
            "_view_count": null,
            "flex_flow": null,
            "width": null,
            "min_width": null,
            "border": null,
            "align_items": null,
            "bottom": null,
            "_model_module": "@jupyter-widgets/base",
            "top": null,
            "grid_column": null,
            "overflow_y": null,
            "overflow_x": null,
            "grid_auto_flow": null,
            "grid_area": null,
            "grid_template_columns": null,
            "flex": null,
            "_model_name": "LayoutModel",
            "justify_items": null,
            "grid_row": null,
            "max_height": null,
            "align_content": null,
            "visibility": null,
            "align_self": null,
            "height": null,
            "min_height": null,
            "padding": null,
            "grid_auto_rows": null,
            "grid_gap": null,
            "max_width": null,
            "order": null,
            "_view_module_version": "1.2.0",
            "grid_template_areas": null,
            "object_position": null,
            "object_fit": null,
            "grid_auto_columns": null,
            "margin": null,
            "display": null,
            "left": null
          }
        },
        "9860b8a0486d4774960814257d6056a6": {
          "model_module": "@jupyter-widgets/controls",
          "model_name": "DescriptionStyleModel",
          "state": {
            "_view_name": "StyleView",
            "_model_name": "DescriptionStyleModel",
            "description_width": "",
            "_view_module": "@jupyter-widgets/base",
            "_model_module_version": "1.5.0",
            "_view_count": null,
            "_view_module_version": "1.2.0",
            "_model_module": "@jupyter-widgets/controls"
          }
        },
        "54041862045a4b54843d001af80d4128": {
          "model_module": "@jupyter-widgets/base",
          "model_name": "LayoutModel",
          "state": {
            "_view_name": "LayoutView",
            "grid_template_rows": null,
            "right": null,
            "justify_content": null,
            "_view_module": "@jupyter-widgets/base",
            "overflow": null,
            "_model_module_version": "1.2.0",
            "_view_count": null,
            "flex_flow": null,
            "width": null,
            "min_width": null,
            "border": null,
            "align_items": null,
            "bottom": null,
            "_model_module": "@jupyter-widgets/base",
            "top": null,
            "grid_column": null,
            "overflow_y": null,
            "overflow_x": null,
            "grid_auto_flow": null,
            "grid_area": null,
            "grid_template_columns": null,
            "flex": null,
            "_model_name": "LayoutModel",
            "justify_items": null,
            "grid_row": null,
            "max_height": null,
            "align_content": null,
            "visibility": null,
            "align_self": null,
            "height": null,
            "min_height": null,
            "padding": null,
            "grid_auto_rows": null,
            "grid_gap": null,
            "max_width": null,
            "order": null,
            "_view_module_version": "1.2.0",
            "grid_template_areas": null,
            "object_position": null,
            "object_fit": null,
            "grid_auto_columns": null,
            "margin": null,
            "display": null,
            "left": null
          }
        },
        "6127511a0da444ad8c39615837ac7778": {
          "model_module": "@jupyter-widgets/controls",
          "model_name": "HBoxModel",
          "state": {
            "_view_name": "HBoxView",
            "_dom_classes": [],
            "_model_name": "HBoxModel",
            "_view_module": "@jupyter-widgets/controls",
            "_model_module_version": "1.5.0",
            "_view_count": null,
            "_view_module_version": "1.5.0",
            "box_style": "",
            "layout": "IPY_MODEL_a5aa40428b0e41118a16a9b0ad27b5bc",
            "_model_module": "@jupyter-widgets/controls",
            "children": [
              "IPY_MODEL_298073dbc5864cab886cc9ee911ab93e",
              "IPY_MODEL_df3477e937a94b3b9e5e4094e9489c8c"
            ]
          }
        },
        "a5aa40428b0e41118a16a9b0ad27b5bc": {
          "model_module": "@jupyter-widgets/base",
          "model_name": "LayoutModel",
          "state": {
            "_view_name": "LayoutView",
            "grid_template_rows": null,
            "right": null,
            "justify_content": null,
            "_view_module": "@jupyter-widgets/base",
            "overflow": null,
            "_model_module_version": "1.2.0",
            "_view_count": null,
            "flex_flow": null,
            "width": null,
            "min_width": null,
            "border": null,
            "align_items": null,
            "bottom": null,
            "_model_module": "@jupyter-widgets/base",
            "top": null,
            "grid_column": null,
            "overflow_y": null,
            "overflow_x": null,
            "grid_auto_flow": null,
            "grid_area": null,
            "grid_template_columns": null,
            "flex": null,
            "_model_name": "LayoutModel",
            "justify_items": null,
            "grid_row": null,
            "max_height": null,
            "align_content": null,
            "visibility": null,
            "align_self": null,
            "height": null,
            "min_height": null,
            "padding": null,
            "grid_auto_rows": null,
            "grid_gap": null,
            "max_width": null,
            "order": null,
            "_view_module_version": "1.2.0",
            "grid_template_areas": null,
            "object_position": null,
            "object_fit": null,
            "grid_auto_columns": null,
            "margin": null,
            "display": null,
            "left": null
          }
        },
        "298073dbc5864cab886cc9ee911ab93e": {
          "model_module": "@jupyter-widgets/controls",
          "model_name": "FloatProgressModel",
          "state": {
            "_view_name": "ProgressView",
            "style": "IPY_MODEL_64fed6d7fe1a47df8593401e252c79e7",
            "_dom_classes": [],
            "description": "100%",
            "_model_name": "FloatProgressModel",
            "bar_style": "success",
            "max": 2000,
            "_view_module": "@jupyter-widgets/controls",
            "_model_module_version": "1.5.0",
            "value": 2000,
            "_view_count": null,
            "_view_module_version": "1.5.0",
            "orientation": "horizontal",
            "min": 0,
            "description_tooltip": null,
            "_model_module": "@jupyter-widgets/controls",
            "layout": "IPY_MODEL_2e5bf30466054687877d09a97e1c2c8f"
          }
        },
        "df3477e937a94b3b9e5e4094e9489c8c": {
          "model_module": "@jupyter-widgets/controls",
          "model_name": "HTMLModel",
          "state": {
            "_view_name": "HTMLView",
            "style": "IPY_MODEL_2932a1ecf82444c29e7670f0179f71a7",
            "_dom_classes": [],
            "description": "",
            "_model_name": "HTMLModel",
            "placeholder": "​",
            "_view_module": "@jupyter-widgets/controls",
            "_model_module_version": "1.5.0",
            "value": " 2000/2000 [00:04&lt;00:00, 430.78epoch/s]",
            "_view_count": null,
            "_view_module_version": "1.5.0",
            "description_tooltip": null,
            "_model_module": "@jupyter-widgets/controls",
            "layout": "IPY_MODEL_de3a0cfaebb249008c4ad7b2e2a194bc"
          }
        },
        "64fed6d7fe1a47df8593401e252c79e7": {
          "model_module": "@jupyter-widgets/controls",
          "model_name": "ProgressStyleModel",
          "state": {
            "_view_name": "StyleView",
            "_model_name": "ProgressStyleModel",
            "description_width": "initial",
            "_view_module": "@jupyter-widgets/base",
            "_model_module_version": "1.5.0",
            "_view_count": null,
            "_view_module_version": "1.2.0",
            "bar_color": null,
            "_model_module": "@jupyter-widgets/controls"
          }
        },
        "2e5bf30466054687877d09a97e1c2c8f": {
          "model_module": "@jupyter-widgets/base",
          "model_name": "LayoutModel",
          "state": {
            "_view_name": "LayoutView",
            "grid_template_rows": null,
            "right": null,
            "justify_content": null,
            "_view_module": "@jupyter-widgets/base",
            "overflow": null,
            "_model_module_version": "1.2.0",
            "_view_count": null,
            "flex_flow": null,
            "width": null,
            "min_width": null,
            "border": null,
            "align_items": null,
            "bottom": null,
            "_model_module": "@jupyter-widgets/base",
            "top": null,
            "grid_column": null,
            "overflow_y": null,
            "overflow_x": null,
            "grid_auto_flow": null,
            "grid_area": null,
            "grid_template_columns": null,
            "flex": null,
            "_model_name": "LayoutModel",
            "justify_items": null,
            "grid_row": null,
            "max_height": null,
            "align_content": null,
            "visibility": null,
            "align_self": null,
            "height": null,
            "min_height": null,
            "padding": null,
            "grid_auto_rows": null,
            "grid_gap": null,
            "max_width": null,
            "order": null,
            "_view_module_version": "1.2.0",
            "grid_template_areas": null,
            "object_position": null,
            "object_fit": null,
            "grid_auto_columns": null,
            "margin": null,
            "display": null,
            "left": null
          }
        },
        "2932a1ecf82444c29e7670f0179f71a7": {
          "model_module": "@jupyter-widgets/controls",
          "model_name": "DescriptionStyleModel",
          "state": {
            "_view_name": "StyleView",
            "_model_name": "DescriptionStyleModel",
            "description_width": "",
            "_view_module": "@jupyter-widgets/base",
            "_model_module_version": "1.5.0",
            "_view_count": null,
            "_view_module_version": "1.2.0",
            "_model_module": "@jupyter-widgets/controls"
          }
        },
        "de3a0cfaebb249008c4ad7b2e2a194bc": {
          "model_module": "@jupyter-widgets/base",
          "model_name": "LayoutModel",
          "state": {
            "_view_name": "LayoutView",
            "grid_template_rows": null,
            "right": null,
            "justify_content": null,
            "_view_module": "@jupyter-widgets/base",
            "overflow": null,
            "_model_module_version": "1.2.0",
            "_view_count": null,
            "flex_flow": null,
            "width": null,
            "min_width": null,
            "border": null,
            "align_items": null,
            "bottom": null,
            "_model_module": "@jupyter-widgets/base",
            "top": null,
            "grid_column": null,
            "overflow_y": null,
            "overflow_x": null,
            "grid_auto_flow": null,
            "grid_area": null,
            "grid_template_columns": null,
            "flex": null,
            "_model_name": "LayoutModel",
            "justify_items": null,
            "grid_row": null,
            "max_height": null,
            "align_content": null,
            "visibility": null,
            "align_self": null,
            "height": null,
            "min_height": null,
            "padding": null,
            "grid_auto_rows": null,
            "grid_gap": null,
            "max_width": null,
            "order": null,
            "_view_module_version": "1.2.0",
            "grid_template_areas": null,
            "object_position": null,
            "object_fit": null,
            "grid_auto_columns": null,
            "margin": null,
            "display": null,
            "left": null
          }
        },
        "a62f200ea02d4665bac6cea52dd7fbe5": {
          "model_module": "@jupyter-widgets/controls",
          "model_name": "HBoxModel",
          "state": {
            "_view_name": "HBoxView",
            "_dom_classes": [],
            "_model_name": "HBoxModel",
            "_view_module": "@jupyter-widgets/controls",
            "_model_module_version": "1.5.0",
            "_view_count": null,
            "_view_module_version": "1.5.0",
            "box_style": "",
            "layout": "IPY_MODEL_3fdc74d6e5e9465d8871db78cb5a8648",
            "_model_module": "@jupyter-widgets/controls",
            "children": [
              "IPY_MODEL_2b3c1fc20f214504bbf8c82942b915b2",
              "IPY_MODEL_c992a572682147ffaa1b67484816b42a"
            ]
          }
        },
        "3fdc74d6e5e9465d8871db78cb5a8648": {
          "model_module": "@jupyter-widgets/base",
          "model_name": "LayoutModel",
          "state": {
            "_view_name": "LayoutView",
            "grid_template_rows": null,
            "right": null,
            "justify_content": null,
            "_view_module": "@jupyter-widgets/base",
            "overflow": null,
            "_model_module_version": "1.2.0",
            "_view_count": null,
            "flex_flow": null,
            "width": null,
            "min_width": null,
            "border": null,
            "align_items": null,
            "bottom": null,
            "_model_module": "@jupyter-widgets/base",
            "top": null,
            "grid_column": null,
            "overflow_y": null,
            "overflow_x": null,
            "grid_auto_flow": null,
            "grid_area": null,
            "grid_template_columns": null,
            "flex": null,
            "_model_name": "LayoutModel",
            "justify_items": null,
            "grid_row": null,
            "max_height": null,
            "align_content": null,
            "visibility": null,
            "align_self": null,
            "height": null,
            "min_height": null,
            "padding": null,
            "grid_auto_rows": null,
            "grid_gap": null,
            "max_width": null,
            "order": null,
            "_view_module_version": "1.2.0",
            "grid_template_areas": null,
            "object_position": null,
            "object_fit": null,
            "grid_auto_columns": null,
            "margin": null,
            "display": null,
            "left": null
          }
        },
        "2b3c1fc20f214504bbf8c82942b915b2": {
          "model_module": "@jupyter-widgets/controls",
          "model_name": "FloatProgressModel",
          "state": {
            "_view_name": "ProgressView",
            "style": "IPY_MODEL_cf5c8ec7e09c4102b99bf97c5c4eb5a1",
            "_dom_classes": [],
            "description": "100%",
            "_model_name": "FloatProgressModel",
            "bar_style": "success",
            "max": 2000,
            "_view_module": "@jupyter-widgets/controls",
            "_model_module_version": "1.5.0",
            "value": 2000,
            "_view_count": null,
            "_view_module_version": "1.5.0",
            "orientation": "horizontal",
            "min": 0,
            "description_tooltip": null,
            "_model_module": "@jupyter-widgets/controls",
            "layout": "IPY_MODEL_b81ff3ba0d314fd7b11473f66d4b016d"
          }
        },
        "c992a572682147ffaa1b67484816b42a": {
          "model_module": "@jupyter-widgets/controls",
          "model_name": "HTMLModel",
          "state": {
            "_view_name": "HTMLView",
            "style": "IPY_MODEL_8725ac84484647d48ed82c6ed4586e13",
            "_dom_classes": [],
            "description": "",
            "_model_name": "HTMLModel",
            "placeholder": "​",
            "_view_module": "@jupyter-widgets/controls",
            "_model_module_version": "1.5.0",
            "value": " 2000/2000 [00:04&lt;00:00, 430.06epoch/s]",
            "_view_count": null,
            "_view_module_version": "1.5.0",
            "description_tooltip": null,
            "_model_module": "@jupyter-widgets/controls",
            "layout": "IPY_MODEL_16c324bc728c4307b0a3134f6d4bf423"
          }
        },
        "cf5c8ec7e09c4102b99bf97c5c4eb5a1": {
          "model_module": "@jupyter-widgets/controls",
          "model_name": "ProgressStyleModel",
          "state": {
            "_view_name": "StyleView",
            "_model_name": "ProgressStyleModel",
            "description_width": "initial",
            "_view_module": "@jupyter-widgets/base",
            "_model_module_version": "1.5.0",
            "_view_count": null,
            "_view_module_version": "1.2.0",
            "bar_color": null,
            "_model_module": "@jupyter-widgets/controls"
          }
        },
        "b81ff3ba0d314fd7b11473f66d4b016d": {
          "model_module": "@jupyter-widgets/base",
          "model_name": "LayoutModel",
          "state": {
            "_view_name": "LayoutView",
            "grid_template_rows": null,
            "right": null,
            "justify_content": null,
            "_view_module": "@jupyter-widgets/base",
            "overflow": null,
            "_model_module_version": "1.2.0",
            "_view_count": null,
            "flex_flow": null,
            "width": null,
            "min_width": null,
            "border": null,
            "align_items": null,
            "bottom": null,
            "_model_module": "@jupyter-widgets/base",
            "top": null,
            "grid_column": null,
            "overflow_y": null,
            "overflow_x": null,
            "grid_auto_flow": null,
            "grid_area": null,
            "grid_template_columns": null,
            "flex": null,
            "_model_name": "LayoutModel",
            "justify_items": null,
            "grid_row": null,
            "max_height": null,
            "align_content": null,
            "visibility": null,
            "align_self": null,
            "height": null,
            "min_height": null,
            "padding": null,
            "grid_auto_rows": null,
            "grid_gap": null,
            "max_width": null,
            "order": null,
            "_view_module_version": "1.2.0",
            "grid_template_areas": null,
            "object_position": null,
            "object_fit": null,
            "grid_auto_columns": null,
            "margin": null,
            "display": null,
            "left": null
          }
        },
        "8725ac84484647d48ed82c6ed4586e13": {
          "model_module": "@jupyter-widgets/controls",
          "model_name": "DescriptionStyleModel",
          "state": {
            "_view_name": "StyleView",
            "_model_name": "DescriptionStyleModel",
            "description_width": "",
            "_view_module": "@jupyter-widgets/base",
            "_model_module_version": "1.5.0",
            "_view_count": null,
            "_view_module_version": "1.2.0",
            "_model_module": "@jupyter-widgets/controls"
          }
        },
        "16c324bc728c4307b0a3134f6d4bf423": {
          "model_module": "@jupyter-widgets/base",
          "model_name": "LayoutModel",
          "state": {
            "_view_name": "LayoutView",
            "grid_template_rows": null,
            "right": null,
            "justify_content": null,
            "_view_module": "@jupyter-widgets/base",
            "overflow": null,
            "_model_module_version": "1.2.0",
            "_view_count": null,
            "flex_flow": null,
            "width": null,
            "min_width": null,
            "border": null,
            "align_items": null,
            "bottom": null,
            "_model_module": "@jupyter-widgets/base",
            "top": null,
            "grid_column": null,
            "overflow_y": null,
            "overflow_x": null,
            "grid_auto_flow": null,
            "grid_area": null,
            "grid_template_columns": null,
            "flex": null,
            "_model_name": "LayoutModel",
            "justify_items": null,
            "grid_row": null,
            "max_height": null,
            "align_content": null,
            "visibility": null,
            "align_self": null,
            "height": null,
            "min_height": null,
            "padding": null,
            "grid_auto_rows": null,
            "grid_gap": null,
            "max_width": null,
            "order": null,
            "_view_module_version": "1.2.0",
            "grid_template_areas": null,
            "object_position": null,
            "object_fit": null,
            "grid_auto_columns": null,
            "margin": null,
            "display": null,
            "left": null
          }
        },
        "c7f83cbbf67244b58cb42abf826feac3": {
          "model_module": "@jupyter-widgets/controls",
          "model_name": "HBoxModel",
          "state": {
            "_view_name": "HBoxView",
            "_dom_classes": [],
            "_model_name": "HBoxModel",
            "_view_module": "@jupyter-widgets/controls",
            "_model_module_version": "1.5.0",
            "_view_count": null,
            "_view_module_version": "1.5.0",
            "box_style": "",
            "layout": "IPY_MODEL_b06820f63d4d45caaa509ccc78386f35",
            "_model_module": "@jupyter-widgets/controls",
            "children": [
              "IPY_MODEL_798b45018bc44f40a7fce53a09253a45",
              "IPY_MODEL_b6dee47cfdae413d9ec5ca76fb67d887"
            ]
          }
        },
        "b06820f63d4d45caaa509ccc78386f35": {
          "model_module": "@jupyter-widgets/base",
          "model_name": "LayoutModel",
          "state": {
            "_view_name": "LayoutView",
            "grid_template_rows": null,
            "right": null,
            "justify_content": null,
            "_view_module": "@jupyter-widgets/base",
            "overflow": null,
            "_model_module_version": "1.2.0",
            "_view_count": null,
            "flex_flow": null,
            "width": null,
            "min_width": null,
            "border": null,
            "align_items": null,
            "bottom": null,
            "_model_module": "@jupyter-widgets/base",
            "top": null,
            "grid_column": null,
            "overflow_y": null,
            "overflow_x": null,
            "grid_auto_flow": null,
            "grid_area": null,
            "grid_template_columns": null,
            "flex": null,
            "_model_name": "LayoutModel",
            "justify_items": null,
            "grid_row": null,
            "max_height": null,
            "align_content": null,
            "visibility": null,
            "align_self": null,
            "height": null,
            "min_height": null,
            "padding": null,
            "grid_auto_rows": null,
            "grid_gap": null,
            "max_width": null,
            "order": null,
            "_view_module_version": "1.2.0",
            "grid_template_areas": null,
            "object_position": null,
            "object_fit": null,
            "grid_auto_columns": null,
            "margin": null,
            "display": null,
            "left": null
          }
        },
        "798b45018bc44f40a7fce53a09253a45": {
          "model_module": "@jupyter-widgets/controls",
          "model_name": "FloatProgressModel",
          "state": {
            "_view_name": "ProgressView",
            "style": "IPY_MODEL_dcc6934203cd4a4199e6a0de159ec9a9",
            "_dom_classes": [],
            "description": "100%",
            "_model_name": "FloatProgressModel",
            "bar_style": "success",
            "max": 2000,
            "_view_module": "@jupyter-widgets/controls",
            "_model_module_version": "1.5.0",
            "value": 2000,
            "_view_count": null,
            "_view_module_version": "1.5.0",
            "orientation": "horizontal",
            "min": 0,
            "description_tooltip": null,
            "_model_module": "@jupyter-widgets/controls",
            "layout": "IPY_MODEL_569b21bd309a48e2928396c1155f869f"
          }
        },
        "b6dee47cfdae413d9ec5ca76fb67d887": {
          "model_module": "@jupyter-widgets/controls",
          "model_name": "HTMLModel",
          "state": {
            "_view_name": "HTMLView",
            "style": "IPY_MODEL_1e977683ca3c426cafbceb5d4a41b6dd",
            "_dom_classes": [],
            "description": "",
            "_model_name": "HTMLModel",
            "placeholder": "​",
            "_view_module": "@jupyter-widgets/controls",
            "_model_module_version": "1.5.0",
            "value": " 2000/2000 [00:02&lt;00:00, 893.16epoch/s]",
            "_view_count": null,
            "_view_module_version": "1.5.0",
            "description_tooltip": null,
            "_model_module": "@jupyter-widgets/controls",
            "layout": "IPY_MODEL_4e2c2ffc75844f4b9a0527b8febd6cb6"
          }
        },
        "dcc6934203cd4a4199e6a0de159ec9a9": {
          "model_module": "@jupyter-widgets/controls",
          "model_name": "ProgressStyleModel",
          "state": {
            "_view_name": "StyleView",
            "_model_name": "ProgressStyleModel",
            "description_width": "initial",
            "_view_module": "@jupyter-widgets/base",
            "_model_module_version": "1.5.0",
            "_view_count": null,
            "_view_module_version": "1.2.0",
            "bar_color": null,
            "_model_module": "@jupyter-widgets/controls"
          }
        },
        "569b21bd309a48e2928396c1155f869f": {
          "model_module": "@jupyter-widgets/base",
          "model_name": "LayoutModel",
          "state": {
            "_view_name": "LayoutView",
            "grid_template_rows": null,
            "right": null,
            "justify_content": null,
            "_view_module": "@jupyter-widgets/base",
            "overflow": null,
            "_model_module_version": "1.2.0",
            "_view_count": null,
            "flex_flow": null,
            "width": null,
            "min_width": null,
            "border": null,
            "align_items": null,
            "bottom": null,
            "_model_module": "@jupyter-widgets/base",
            "top": null,
            "grid_column": null,
            "overflow_y": null,
            "overflow_x": null,
            "grid_auto_flow": null,
            "grid_area": null,
            "grid_template_columns": null,
            "flex": null,
            "_model_name": "LayoutModel",
            "justify_items": null,
            "grid_row": null,
            "max_height": null,
            "align_content": null,
            "visibility": null,
            "align_self": null,
            "height": null,
            "min_height": null,
            "padding": null,
            "grid_auto_rows": null,
            "grid_gap": null,
            "max_width": null,
            "order": null,
            "_view_module_version": "1.2.0",
            "grid_template_areas": null,
            "object_position": null,
            "object_fit": null,
            "grid_auto_columns": null,
            "margin": null,
            "display": null,
            "left": null
          }
        },
        "1e977683ca3c426cafbceb5d4a41b6dd": {
          "model_module": "@jupyter-widgets/controls",
          "model_name": "DescriptionStyleModel",
          "state": {
            "_view_name": "StyleView",
            "_model_name": "DescriptionStyleModel",
            "description_width": "",
            "_view_module": "@jupyter-widgets/base",
            "_model_module_version": "1.5.0",
            "_view_count": null,
            "_view_module_version": "1.2.0",
            "_model_module": "@jupyter-widgets/controls"
          }
        },
        "4e2c2ffc75844f4b9a0527b8febd6cb6": {
          "model_module": "@jupyter-widgets/base",
          "model_name": "LayoutModel",
          "state": {
            "_view_name": "LayoutView",
            "grid_template_rows": null,
            "right": null,
            "justify_content": null,
            "_view_module": "@jupyter-widgets/base",
            "overflow": null,
            "_model_module_version": "1.2.0",
            "_view_count": null,
            "flex_flow": null,
            "width": null,
            "min_width": null,
            "border": null,
            "align_items": null,
            "bottom": null,
            "_model_module": "@jupyter-widgets/base",
            "top": null,
            "grid_column": null,
            "overflow_y": null,
            "overflow_x": null,
            "grid_auto_flow": null,
            "grid_area": null,
            "grid_template_columns": null,
            "flex": null,
            "_model_name": "LayoutModel",
            "justify_items": null,
            "grid_row": null,
            "max_height": null,
            "align_content": null,
            "visibility": null,
            "align_self": null,
            "height": null,
            "min_height": null,
            "padding": null,
            "grid_auto_rows": null,
            "grid_gap": null,
            "max_width": null,
            "order": null,
            "_view_module_version": "1.2.0",
            "grid_template_areas": null,
            "object_position": null,
            "object_fit": null,
            "grid_auto_columns": null,
            "margin": null,
            "display": null,
            "left": null
          }
        },
        "a33d9a567c234f3fbc79f6df9a896c7c": {
          "model_module": "@jupyter-widgets/controls",
          "model_name": "HBoxModel",
          "state": {
            "_view_name": "HBoxView",
            "_dom_classes": [],
            "_model_name": "HBoxModel",
            "_view_module": "@jupyter-widgets/controls",
            "_model_module_version": "1.5.0",
            "_view_count": null,
            "_view_module_version": "1.5.0",
            "box_style": "",
            "layout": "IPY_MODEL_57efb1be290c496eae85f3bb640f9e5b",
            "_model_module": "@jupyter-widgets/controls",
            "children": [
              "IPY_MODEL_1c3ab9eb9a864099bbb9976a073117f4",
              "IPY_MODEL_fc4ca0a327d4418b99fae2ac35dc9c58"
            ]
          }
        },
        "57efb1be290c496eae85f3bb640f9e5b": {
          "model_module": "@jupyter-widgets/base",
          "model_name": "LayoutModel",
          "state": {
            "_view_name": "LayoutView",
            "grid_template_rows": null,
            "right": null,
            "justify_content": null,
            "_view_module": "@jupyter-widgets/base",
            "overflow": null,
            "_model_module_version": "1.2.0",
            "_view_count": null,
            "flex_flow": null,
            "width": null,
            "min_width": null,
            "border": null,
            "align_items": null,
            "bottom": null,
            "_model_module": "@jupyter-widgets/base",
            "top": null,
            "grid_column": null,
            "overflow_y": null,
            "overflow_x": null,
            "grid_auto_flow": null,
            "grid_area": null,
            "grid_template_columns": null,
            "flex": null,
            "_model_name": "LayoutModel",
            "justify_items": null,
            "grid_row": null,
            "max_height": null,
            "align_content": null,
            "visibility": null,
            "align_self": null,
            "height": null,
            "min_height": null,
            "padding": null,
            "grid_auto_rows": null,
            "grid_gap": null,
            "max_width": null,
            "order": null,
            "_view_module_version": "1.2.0",
            "grid_template_areas": null,
            "object_position": null,
            "object_fit": null,
            "grid_auto_columns": null,
            "margin": null,
            "display": null,
            "left": null
          }
        },
        "1c3ab9eb9a864099bbb9976a073117f4": {
          "model_module": "@jupyter-widgets/controls",
          "model_name": "FloatProgressModel",
          "state": {
            "_view_name": "ProgressView",
            "style": "IPY_MODEL_28dbff448d2644ea9d4e6bd123d00da5",
            "_dom_classes": [],
            "description": "100%",
            "_model_name": "FloatProgressModel",
            "bar_style": "success",
            "max": 2000,
            "_view_module": "@jupyter-widgets/controls",
            "_model_module_version": "1.5.0",
            "value": 2000,
            "_view_count": null,
            "_view_module_version": "1.5.0",
            "orientation": "horizontal",
            "min": 0,
            "description_tooltip": null,
            "_model_module": "@jupyter-widgets/controls",
            "layout": "IPY_MODEL_88f2e02d40ea472ba1ed589f114ced84"
          }
        },
        "fc4ca0a327d4418b99fae2ac35dc9c58": {
          "model_module": "@jupyter-widgets/controls",
          "model_name": "HTMLModel",
          "state": {
            "_view_name": "HTMLView",
            "style": "IPY_MODEL_39e5448faf914e179dd60ecc6ab020af",
            "_dom_classes": [],
            "description": "",
            "_model_name": "HTMLModel",
            "placeholder": "​",
            "_view_module": "@jupyter-widgets/controls",
            "_model_module_version": "1.5.0",
            "value": " 2000/2000 [00:02&lt;00:00, 883.47epoch/s]",
            "_view_count": null,
            "_view_module_version": "1.5.0",
            "description_tooltip": null,
            "_model_module": "@jupyter-widgets/controls",
            "layout": "IPY_MODEL_cd4ab4c0a39444c2b71bd5e4059c1ce7"
          }
        },
        "28dbff448d2644ea9d4e6bd123d00da5": {
          "model_module": "@jupyter-widgets/controls",
          "model_name": "ProgressStyleModel",
          "state": {
            "_view_name": "StyleView",
            "_model_name": "ProgressStyleModel",
            "description_width": "initial",
            "_view_module": "@jupyter-widgets/base",
            "_model_module_version": "1.5.0",
            "_view_count": null,
            "_view_module_version": "1.2.0",
            "bar_color": null,
            "_model_module": "@jupyter-widgets/controls"
          }
        },
        "88f2e02d40ea472ba1ed589f114ced84": {
          "model_module": "@jupyter-widgets/base",
          "model_name": "LayoutModel",
          "state": {
            "_view_name": "LayoutView",
            "grid_template_rows": null,
            "right": null,
            "justify_content": null,
            "_view_module": "@jupyter-widgets/base",
            "overflow": null,
            "_model_module_version": "1.2.0",
            "_view_count": null,
            "flex_flow": null,
            "width": null,
            "min_width": null,
            "border": null,
            "align_items": null,
            "bottom": null,
            "_model_module": "@jupyter-widgets/base",
            "top": null,
            "grid_column": null,
            "overflow_y": null,
            "overflow_x": null,
            "grid_auto_flow": null,
            "grid_area": null,
            "grid_template_columns": null,
            "flex": null,
            "_model_name": "LayoutModel",
            "justify_items": null,
            "grid_row": null,
            "max_height": null,
            "align_content": null,
            "visibility": null,
            "align_self": null,
            "height": null,
            "min_height": null,
            "padding": null,
            "grid_auto_rows": null,
            "grid_gap": null,
            "max_width": null,
            "order": null,
            "_view_module_version": "1.2.0",
            "grid_template_areas": null,
            "object_position": null,
            "object_fit": null,
            "grid_auto_columns": null,
            "margin": null,
            "display": null,
            "left": null
          }
        },
        "39e5448faf914e179dd60ecc6ab020af": {
          "model_module": "@jupyter-widgets/controls",
          "model_name": "DescriptionStyleModel",
          "state": {
            "_view_name": "StyleView",
            "_model_name": "DescriptionStyleModel",
            "description_width": "",
            "_view_module": "@jupyter-widgets/base",
            "_model_module_version": "1.5.0",
            "_view_count": null,
            "_view_module_version": "1.2.0",
            "_model_module": "@jupyter-widgets/controls"
          }
        },
        "cd4ab4c0a39444c2b71bd5e4059c1ce7": {
          "model_module": "@jupyter-widgets/base",
          "model_name": "LayoutModel",
          "state": {
            "_view_name": "LayoutView",
            "grid_template_rows": null,
            "right": null,
            "justify_content": null,
            "_view_module": "@jupyter-widgets/base",
            "overflow": null,
            "_model_module_version": "1.2.0",
            "_view_count": null,
            "flex_flow": null,
            "width": null,
            "min_width": null,
            "border": null,
            "align_items": null,
            "bottom": null,
            "_model_module": "@jupyter-widgets/base",
            "top": null,
            "grid_column": null,
            "overflow_y": null,
            "overflow_x": null,
            "grid_auto_flow": null,
            "grid_area": null,
            "grid_template_columns": null,
            "flex": null,
            "_model_name": "LayoutModel",
            "justify_items": null,
            "grid_row": null,
            "max_height": null,
            "align_content": null,
            "visibility": null,
            "align_self": null,
            "height": null,
            "min_height": null,
            "padding": null,
            "grid_auto_rows": null,
            "grid_gap": null,
            "max_width": null,
            "order": null,
            "_view_module_version": "1.2.0",
            "grid_template_areas": null,
            "object_position": null,
            "object_fit": null,
            "grid_auto_columns": null,
            "margin": null,
            "display": null,
            "left": null
          }
        },
        "58ef19f76e0d43098827b709797fdd83": {
          "model_module": "@jupyter-widgets/controls",
          "model_name": "HBoxModel",
          "state": {
            "_view_name": "HBoxView",
            "_dom_classes": [],
            "_model_name": "HBoxModel",
            "_view_module": "@jupyter-widgets/controls",
            "_model_module_version": "1.5.0",
            "_view_count": null,
            "_view_module_version": "1.5.0",
            "box_style": "",
            "layout": "IPY_MODEL_fc2d7c4f0f9849869863721fcabf09d4",
            "_model_module": "@jupyter-widgets/controls",
            "children": [
              "IPY_MODEL_091dc99368a54e388d5a75c3a2129ae8",
              "IPY_MODEL_b7f06083639d49af883d5de1b94dc8d0"
            ]
          }
        },
        "fc2d7c4f0f9849869863721fcabf09d4": {
          "model_module": "@jupyter-widgets/base",
          "model_name": "LayoutModel",
          "state": {
            "_view_name": "LayoutView",
            "grid_template_rows": null,
            "right": null,
            "justify_content": null,
            "_view_module": "@jupyter-widgets/base",
            "overflow": null,
            "_model_module_version": "1.2.0",
            "_view_count": null,
            "flex_flow": null,
            "width": null,
            "min_width": null,
            "border": null,
            "align_items": null,
            "bottom": null,
            "_model_module": "@jupyter-widgets/base",
            "top": null,
            "grid_column": null,
            "overflow_y": null,
            "overflow_x": null,
            "grid_auto_flow": null,
            "grid_area": null,
            "grid_template_columns": null,
            "flex": null,
            "_model_name": "LayoutModel",
            "justify_items": null,
            "grid_row": null,
            "max_height": null,
            "align_content": null,
            "visibility": null,
            "align_self": null,
            "height": null,
            "min_height": null,
            "padding": null,
            "grid_auto_rows": null,
            "grid_gap": null,
            "max_width": null,
            "order": null,
            "_view_module_version": "1.2.0",
            "grid_template_areas": null,
            "object_position": null,
            "object_fit": null,
            "grid_auto_columns": null,
            "margin": null,
            "display": null,
            "left": null
          }
        },
        "091dc99368a54e388d5a75c3a2129ae8": {
          "model_module": "@jupyter-widgets/controls",
          "model_name": "FloatProgressModel",
          "state": {
            "_view_name": "ProgressView",
            "style": "IPY_MODEL_674e2caf3b104ad48e05b9e88f88b685",
            "_dom_classes": [],
            "description": "100%",
            "_model_name": "FloatProgressModel",
            "bar_style": "success",
            "max": 2000,
            "_view_module": "@jupyter-widgets/controls",
            "_model_module_version": "1.5.0",
            "value": 2000,
            "_view_count": null,
            "_view_module_version": "1.5.0",
            "orientation": "horizontal",
            "min": 0,
            "description_tooltip": null,
            "_model_module": "@jupyter-widgets/controls",
            "layout": "IPY_MODEL_c0abca7a1dd44736a6b3a9a61d3b0a3a"
          }
        },
        "b7f06083639d49af883d5de1b94dc8d0": {
          "model_module": "@jupyter-widgets/controls",
          "model_name": "HTMLModel",
          "state": {
            "_view_name": "HTMLView",
            "style": "IPY_MODEL_2d19d8b3118a4a1788a4d630e52f02c6",
            "_dom_classes": [],
            "description": "",
            "_model_name": "HTMLModel",
            "placeholder": "​",
            "_view_module": "@jupyter-widgets/controls",
            "_model_module_version": "1.5.0",
            "value": " 2000/2000 [00:02&lt;00:00, 897.60epoch/s]",
            "_view_count": null,
            "_view_module_version": "1.5.0",
            "description_tooltip": null,
            "_model_module": "@jupyter-widgets/controls",
            "layout": "IPY_MODEL_ec7ef96788804629856606e090cfe94c"
          }
        },
        "674e2caf3b104ad48e05b9e88f88b685": {
          "model_module": "@jupyter-widgets/controls",
          "model_name": "ProgressStyleModel",
          "state": {
            "_view_name": "StyleView",
            "_model_name": "ProgressStyleModel",
            "description_width": "initial",
            "_view_module": "@jupyter-widgets/base",
            "_model_module_version": "1.5.0",
            "_view_count": null,
            "_view_module_version": "1.2.0",
            "bar_color": null,
            "_model_module": "@jupyter-widgets/controls"
          }
        },
        "c0abca7a1dd44736a6b3a9a61d3b0a3a": {
          "model_module": "@jupyter-widgets/base",
          "model_name": "LayoutModel",
          "state": {
            "_view_name": "LayoutView",
            "grid_template_rows": null,
            "right": null,
            "justify_content": null,
            "_view_module": "@jupyter-widgets/base",
            "overflow": null,
            "_model_module_version": "1.2.0",
            "_view_count": null,
            "flex_flow": null,
            "width": null,
            "min_width": null,
            "border": null,
            "align_items": null,
            "bottom": null,
            "_model_module": "@jupyter-widgets/base",
            "top": null,
            "grid_column": null,
            "overflow_y": null,
            "overflow_x": null,
            "grid_auto_flow": null,
            "grid_area": null,
            "grid_template_columns": null,
            "flex": null,
            "_model_name": "LayoutModel",
            "justify_items": null,
            "grid_row": null,
            "max_height": null,
            "align_content": null,
            "visibility": null,
            "align_self": null,
            "height": null,
            "min_height": null,
            "padding": null,
            "grid_auto_rows": null,
            "grid_gap": null,
            "max_width": null,
            "order": null,
            "_view_module_version": "1.2.0",
            "grid_template_areas": null,
            "object_position": null,
            "object_fit": null,
            "grid_auto_columns": null,
            "margin": null,
            "display": null,
            "left": null
          }
        },
        "2d19d8b3118a4a1788a4d630e52f02c6": {
          "model_module": "@jupyter-widgets/controls",
          "model_name": "DescriptionStyleModel",
          "state": {
            "_view_name": "StyleView",
            "_model_name": "DescriptionStyleModel",
            "description_width": "",
            "_view_module": "@jupyter-widgets/base",
            "_model_module_version": "1.5.0",
            "_view_count": null,
            "_view_module_version": "1.2.0",
            "_model_module": "@jupyter-widgets/controls"
          }
        },
        "ec7ef96788804629856606e090cfe94c": {
          "model_module": "@jupyter-widgets/base",
          "model_name": "LayoutModel",
          "state": {
            "_view_name": "LayoutView",
            "grid_template_rows": null,
            "right": null,
            "justify_content": null,
            "_view_module": "@jupyter-widgets/base",
            "overflow": null,
            "_model_module_version": "1.2.0",
            "_view_count": null,
            "flex_flow": null,
            "width": null,
            "min_width": null,
            "border": null,
            "align_items": null,
            "bottom": null,
            "_model_module": "@jupyter-widgets/base",
            "top": null,
            "grid_column": null,
            "overflow_y": null,
            "overflow_x": null,
            "grid_auto_flow": null,
            "grid_area": null,
            "grid_template_columns": null,
            "flex": null,
            "_model_name": "LayoutModel",
            "justify_items": null,
            "grid_row": null,
            "max_height": null,
            "align_content": null,
            "visibility": null,
            "align_self": null,
            "height": null,
            "min_height": null,
            "padding": null,
            "grid_auto_rows": null,
            "grid_gap": null,
            "max_width": null,
            "order": null,
            "_view_module_version": "1.2.0",
            "grid_template_areas": null,
            "object_position": null,
            "object_fit": null,
            "grid_auto_columns": null,
            "margin": null,
            "display": null,
            "left": null
          }
        },
        "e0712006053642c0a84760ee83810768": {
          "model_module": "@jupyter-widgets/controls",
          "model_name": "HBoxModel",
          "state": {
            "_view_name": "HBoxView",
            "_dom_classes": [],
            "_model_name": "HBoxModel",
            "_view_module": "@jupyter-widgets/controls",
            "_model_module_version": "1.5.0",
            "_view_count": null,
            "_view_module_version": "1.5.0",
            "box_style": "",
            "layout": "IPY_MODEL_b8ea0b3d3d394c20b75de17729956603",
            "_model_module": "@jupyter-widgets/controls",
            "children": [
              "IPY_MODEL_a47c90da02464b2785d574112c07e5da",
              "IPY_MODEL_39ee652ed73147d8b788154a2b3ba889"
            ]
          }
        },
        "b8ea0b3d3d394c20b75de17729956603": {
          "model_module": "@jupyter-widgets/base",
          "model_name": "LayoutModel",
          "state": {
            "_view_name": "LayoutView",
            "grid_template_rows": null,
            "right": null,
            "justify_content": null,
            "_view_module": "@jupyter-widgets/base",
            "overflow": null,
            "_model_module_version": "1.2.0",
            "_view_count": null,
            "flex_flow": null,
            "width": null,
            "min_width": null,
            "border": null,
            "align_items": null,
            "bottom": null,
            "_model_module": "@jupyter-widgets/base",
            "top": null,
            "grid_column": null,
            "overflow_y": null,
            "overflow_x": null,
            "grid_auto_flow": null,
            "grid_area": null,
            "grid_template_columns": null,
            "flex": null,
            "_model_name": "LayoutModel",
            "justify_items": null,
            "grid_row": null,
            "max_height": null,
            "align_content": null,
            "visibility": null,
            "align_self": null,
            "height": null,
            "min_height": null,
            "padding": null,
            "grid_auto_rows": null,
            "grid_gap": null,
            "max_width": null,
            "order": null,
            "_view_module_version": "1.2.0",
            "grid_template_areas": null,
            "object_position": null,
            "object_fit": null,
            "grid_auto_columns": null,
            "margin": null,
            "display": null,
            "left": null
          }
        },
        "a47c90da02464b2785d574112c07e5da": {
          "model_module": "@jupyter-widgets/controls",
          "model_name": "FloatProgressModel",
          "state": {
            "_view_name": "ProgressView",
            "style": "IPY_MODEL_977a1e515f594ed4aa3417431cd2b540",
            "_dom_classes": [],
            "description": "100%",
            "_model_name": "FloatProgressModel",
            "bar_style": "success",
            "max": 2000,
            "_view_module": "@jupyter-widgets/controls",
            "_model_module_version": "1.5.0",
            "value": 2000,
            "_view_count": null,
            "_view_module_version": "1.5.0",
            "orientation": "horizontal",
            "min": 0,
            "description_tooltip": null,
            "_model_module": "@jupyter-widgets/controls",
            "layout": "IPY_MODEL_8cc1e38b929b4a65924d0ad3292a2926"
          }
        },
        "39ee652ed73147d8b788154a2b3ba889": {
          "model_module": "@jupyter-widgets/controls",
          "model_name": "HTMLModel",
          "state": {
            "_view_name": "HTMLView",
            "style": "IPY_MODEL_d12afdae00a942678e4a74ea461bdb87",
            "_dom_classes": [],
            "description": "",
            "_model_name": "HTMLModel",
            "placeholder": "​",
            "_view_module": "@jupyter-widgets/controls",
            "_model_module_version": "1.5.0",
            "value": " 2000/2000 [00:02&lt;00:00, 917.57epoch/s]",
            "_view_count": null,
            "_view_module_version": "1.5.0",
            "description_tooltip": null,
            "_model_module": "@jupyter-widgets/controls",
            "layout": "IPY_MODEL_4dbd2268d4d146b0ae3e9cb41cfbd995"
          }
        },
        "977a1e515f594ed4aa3417431cd2b540": {
          "model_module": "@jupyter-widgets/controls",
          "model_name": "ProgressStyleModel",
          "state": {
            "_view_name": "StyleView",
            "_model_name": "ProgressStyleModel",
            "description_width": "initial",
            "_view_module": "@jupyter-widgets/base",
            "_model_module_version": "1.5.0",
            "_view_count": null,
            "_view_module_version": "1.2.0",
            "bar_color": null,
            "_model_module": "@jupyter-widgets/controls"
          }
        },
        "8cc1e38b929b4a65924d0ad3292a2926": {
          "model_module": "@jupyter-widgets/base",
          "model_name": "LayoutModel",
          "state": {
            "_view_name": "LayoutView",
            "grid_template_rows": null,
            "right": null,
            "justify_content": null,
            "_view_module": "@jupyter-widgets/base",
            "overflow": null,
            "_model_module_version": "1.2.0",
            "_view_count": null,
            "flex_flow": null,
            "width": null,
            "min_width": null,
            "border": null,
            "align_items": null,
            "bottom": null,
            "_model_module": "@jupyter-widgets/base",
            "top": null,
            "grid_column": null,
            "overflow_y": null,
            "overflow_x": null,
            "grid_auto_flow": null,
            "grid_area": null,
            "grid_template_columns": null,
            "flex": null,
            "_model_name": "LayoutModel",
            "justify_items": null,
            "grid_row": null,
            "max_height": null,
            "align_content": null,
            "visibility": null,
            "align_self": null,
            "height": null,
            "min_height": null,
            "padding": null,
            "grid_auto_rows": null,
            "grid_gap": null,
            "max_width": null,
            "order": null,
            "_view_module_version": "1.2.0",
            "grid_template_areas": null,
            "object_position": null,
            "object_fit": null,
            "grid_auto_columns": null,
            "margin": null,
            "display": null,
            "left": null
          }
        },
        "d12afdae00a942678e4a74ea461bdb87": {
          "model_module": "@jupyter-widgets/controls",
          "model_name": "DescriptionStyleModel",
          "state": {
            "_view_name": "StyleView",
            "_model_name": "DescriptionStyleModel",
            "description_width": "",
            "_view_module": "@jupyter-widgets/base",
            "_model_module_version": "1.5.0",
            "_view_count": null,
            "_view_module_version": "1.2.0",
            "_model_module": "@jupyter-widgets/controls"
          }
        },
        "4dbd2268d4d146b0ae3e9cb41cfbd995": {
          "model_module": "@jupyter-widgets/base",
          "model_name": "LayoutModel",
          "state": {
            "_view_name": "LayoutView",
            "grid_template_rows": null,
            "right": null,
            "justify_content": null,
            "_view_module": "@jupyter-widgets/base",
            "overflow": null,
            "_model_module_version": "1.2.0",
            "_view_count": null,
            "flex_flow": null,
            "width": null,
            "min_width": null,
            "border": null,
            "align_items": null,
            "bottom": null,
            "_model_module": "@jupyter-widgets/base",
            "top": null,
            "grid_column": null,
            "overflow_y": null,
            "overflow_x": null,
            "grid_auto_flow": null,
            "grid_area": null,
            "grid_template_columns": null,
            "flex": null,
            "_model_name": "LayoutModel",
            "justify_items": null,
            "grid_row": null,
            "max_height": null,
            "align_content": null,
            "visibility": null,
            "align_self": null,
            "height": null,
            "min_height": null,
            "padding": null,
            "grid_auto_rows": null,
            "grid_gap": null,
            "max_width": null,
            "order": null,
            "_view_module_version": "1.2.0",
            "grid_template_areas": null,
            "object_position": null,
            "object_fit": null,
            "grid_auto_columns": null,
            "margin": null,
            "display": null,
            "left": null
          }
        },
        "bbbf295f18114ad8a407e1babd6b0040": {
          "model_module": "@jupyter-widgets/controls",
          "model_name": "HBoxModel",
          "state": {
            "_view_name": "HBoxView",
            "_dom_classes": [],
            "_model_name": "HBoxModel",
            "_view_module": "@jupyter-widgets/controls",
            "_model_module_version": "1.5.0",
            "_view_count": null,
            "_view_module_version": "1.5.0",
            "box_style": "",
            "layout": "IPY_MODEL_b714da004426475bae3f2a09bbc64bf9",
            "_model_module": "@jupyter-widgets/controls",
            "children": [
              "IPY_MODEL_7a9a6a21623e43b9b38d6e9811ae49f8",
              "IPY_MODEL_4518c0e2f4c949acaddb004b7d9f8359"
            ]
          }
        },
        "b714da004426475bae3f2a09bbc64bf9": {
          "model_module": "@jupyter-widgets/base",
          "model_name": "LayoutModel",
          "state": {
            "_view_name": "LayoutView",
            "grid_template_rows": null,
            "right": null,
            "justify_content": null,
            "_view_module": "@jupyter-widgets/base",
            "overflow": null,
            "_model_module_version": "1.2.0",
            "_view_count": null,
            "flex_flow": null,
            "width": null,
            "min_width": null,
            "border": null,
            "align_items": null,
            "bottom": null,
            "_model_module": "@jupyter-widgets/base",
            "top": null,
            "grid_column": null,
            "overflow_y": null,
            "overflow_x": null,
            "grid_auto_flow": null,
            "grid_area": null,
            "grid_template_columns": null,
            "flex": null,
            "_model_name": "LayoutModel",
            "justify_items": null,
            "grid_row": null,
            "max_height": null,
            "align_content": null,
            "visibility": null,
            "align_self": null,
            "height": null,
            "min_height": null,
            "padding": null,
            "grid_auto_rows": null,
            "grid_gap": null,
            "max_width": null,
            "order": null,
            "_view_module_version": "1.2.0",
            "grid_template_areas": null,
            "object_position": null,
            "object_fit": null,
            "grid_auto_columns": null,
            "margin": null,
            "display": null,
            "left": null
          }
        },
        "7a9a6a21623e43b9b38d6e9811ae49f8": {
          "model_module": "@jupyter-widgets/controls",
          "model_name": "FloatProgressModel",
          "state": {
            "_view_name": "ProgressView",
            "style": "IPY_MODEL_a01b27c959374830b2cf6ea955a28443",
            "_dom_classes": [],
            "description": "100%",
            "_model_name": "FloatProgressModel",
            "bar_style": "success",
            "max": 2000,
            "_view_module": "@jupyter-widgets/controls",
            "_model_module_version": "1.5.0",
            "value": 2000,
            "_view_count": null,
            "_view_module_version": "1.5.0",
            "orientation": "horizontal",
            "min": 0,
            "description_tooltip": null,
            "_model_module": "@jupyter-widgets/controls",
            "layout": "IPY_MODEL_1622b314b6504be1af0e3f169057b6fd"
          }
        },
        "4518c0e2f4c949acaddb004b7d9f8359": {
          "model_module": "@jupyter-widgets/controls",
          "model_name": "HTMLModel",
          "state": {
            "_view_name": "HTMLView",
            "style": "IPY_MODEL_da23de797c8b4b8e80830c3f60033fc1",
            "_dom_classes": [],
            "description": "",
            "_model_name": "HTMLModel",
            "placeholder": "​",
            "_view_module": "@jupyter-widgets/controls",
            "_model_module_version": "1.5.0",
            "value": " 2000/2000 [00:02&lt;00:00, 914.08epoch/s]",
            "_view_count": null,
            "_view_module_version": "1.5.0",
            "description_tooltip": null,
            "_model_module": "@jupyter-widgets/controls",
            "layout": "IPY_MODEL_8c8d59f74d8f47daacf193629c6e176c"
          }
        },
        "a01b27c959374830b2cf6ea955a28443": {
          "model_module": "@jupyter-widgets/controls",
          "model_name": "ProgressStyleModel",
          "state": {
            "_view_name": "StyleView",
            "_model_name": "ProgressStyleModel",
            "description_width": "initial",
            "_view_module": "@jupyter-widgets/base",
            "_model_module_version": "1.5.0",
            "_view_count": null,
            "_view_module_version": "1.2.0",
            "bar_color": null,
            "_model_module": "@jupyter-widgets/controls"
          }
        },
        "1622b314b6504be1af0e3f169057b6fd": {
          "model_module": "@jupyter-widgets/base",
          "model_name": "LayoutModel",
          "state": {
            "_view_name": "LayoutView",
            "grid_template_rows": null,
            "right": null,
            "justify_content": null,
            "_view_module": "@jupyter-widgets/base",
            "overflow": null,
            "_model_module_version": "1.2.0",
            "_view_count": null,
            "flex_flow": null,
            "width": null,
            "min_width": null,
            "border": null,
            "align_items": null,
            "bottom": null,
            "_model_module": "@jupyter-widgets/base",
            "top": null,
            "grid_column": null,
            "overflow_y": null,
            "overflow_x": null,
            "grid_auto_flow": null,
            "grid_area": null,
            "grid_template_columns": null,
            "flex": null,
            "_model_name": "LayoutModel",
            "justify_items": null,
            "grid_row": null,
            "max_height": null,
            "align_content": null,
            "visibility": null,
            "align_self": null,
            "height": null,
            "min_height": null,
            "padding": null,
            "grid_auto_rows": null,
            "grid_gap": null,
            "max_width": null,
            "order": null,
            "_view_module_version": "1.2.0",
            "grid_template_areas": null,
            "object_position": null,
            "object_fit": null,
            "grid_auto_columns": null,
            "margin": null,
            "display": null,
            "left": null
          }
        },
        "da23de797c8b4b8e80830c3f60033fc1": {
          "model_module": "@jupyter-widgets/controls",
          "model_name": "DescriptionStyleModel",
          "state": {
            "_view_name": "StyleView",
            "_model_name": "DescriptionStyleModel",
            "description_width": "",
            "_view_module": "@jupyter-widgets/base",
            "_model_module_version": "1.5.0",
            "_view_count": null,
            "_view_module_version": "1.2.0",
            "_model_module": "@jupyter-widgets/controls"
          }
        },
        "8c8d59f74d8f47daacf193629c6e176c": {
          "model_module": "@jupyter-widgets/base",
          "model_name": "LayoutModel",
          "state": {
            "_view_name": "LayoutView",
            "grid_template_rows": null,
            "right": null,
            "justify_content": null,
            "_view_module": "@jupyter-widgets/base",
            "overflow": null,
            "_model_module_version": "1.2.0",
            "_view_count": null,
            "flex_flow": null,
            "width": null,
            "min_width": null,
            "border": null,
            "align_items": null,
            "bottom": null,
            "_model_module": "@jupyter-widgets/base",
            "top": null,
            "grid_column": null,
            "overflow_y": null,
            "overflow_x": null,
            "grid_auto_flow": null,
            "grid_area": null,
            "grid_template_columns": null,
            "flex": null,
            "_model_name": "LayoutModel",
            "justify_items": null,
            "grid_row": null,
            "max_height": null,
            "align_content": null,
            "visibility": null,
            "align_self": null,
            "height": null,
            "min_height": null,
            "padding": null,
            "grid_auto_rows": null,
            "grid_gap": null,
            "max_width": null,
            "order": null,
            "_view_module_version": "1.2.0",
            "grid_template_areas": null,
            "object_position": null,
            "object_fit": null,
            "grid_auto_columns": null,
            "margin": null,
            "display": null,
            "left": null
          }
        },
        "153624b8810840eb9d8ef95a6ffbf1d9": {
          "model_module": "@jupyter-widgets/controls",
          "model_name": "HBoxModel",
          "state": {
            "_view_name": "HBoxView",
            "_dom_classes": [],
            "_model_name": "HBoxModel",
            "_view_module": "@jupyter-widgets/controls",
            "_model_module_version": "1.5.0",
            "_view_count": null,
            "_view_module_version": "1.5.0",
            "box_style": "",
            "layout": "IPY_MODEL_01a7d15c55c04e9ba6c0cb1c80d5ef90",
            "_model_module": "@jupyter-widgets/controls",
            "children": [
              "IPY_MODEL_5c4a1bf6be91403e8891727c427ffb6d",
              "IPY_MODEL_6ad1c8f663bd4985bb95a7284147e119"
            ]
          }
        },
        "01a7d15c55c04e9ba6c0cb1c80d5ef90": {
          "model_module": "@jupyter-widgets/base",
          "model_name": "LayoutModel",
          "state": {
            "_view_name": "LayoutView",
            "grid_template_rows": null,
            "right": null,
            "justify_content": null,
            "_view_module": "@jupyter-widgets/base",
            "overflow": null,
            "_model_module_version": "1.2.0",
            "_view_count": null,
            "flex_flow": null,
            "width": null,
            "min_width": null,
            "border": null,
            "align_items": null,
            "bottom": null,
            "_model_module": "@jupyter-widgets/base",
            "top": null,
            "grid_column": null,
            "overflow_y": null,
            "overflow_x": null,
            "grid_auto_flow": null,
            "grid_area": null,
            "grid_template_columns": null,
            "flex": null,
            "_model_name": "LayoutModel",
            "justify_items": null,
            "grid_row": null,
            "max_height": null,
            "align_content": null,
            "visibility": null,
            "align_self": null,
            "height": null,
            "min_height": null,
            "padding": null,
            "grid_auto_rows": null,
            "grid_gap": null,
            "max_width": null,
            "order": null,
            "_view_module_version": "1.2.0",
            "grid_template_areas": null,
            "object_position": null,
            "object_fit": null,
            "grid_auto_columns": null,
            "margin": null,
            "display": null,
            "left": null
          }
        },
        "5c4a1bf6be91403e8891727c427ffb6d": {
          "model_module": "@jupyter-widgets/controls",
          "model_name": "FloatProgressModel",
          "state": {
            "_view_name": "ProgressView",
            "style": "IPY_MODEL_75abe89c26a24acd947f71d12cc54913",
            "_dom_classes": [],
            "description": "100%",
            "_model_name": "FloatProgressModel",
            "bar_style": "success",
            "max": 2000,
            "_view_module": "@jupyter-widgets/controls",
            "_model_module_version": "1.5.0",
            "value": 2000,
            "_view_count": null,
            "_view_module_version": "1.5.0",
            "orientation": "horizontal",
            "min": 0,
            "description_tooltip": null,
            "_model_module": "@jupyter-widgets/controls",
            "layout": "IPY_MODEL_471e28e2a1674d51bc342716522d1e06"
          }
        },
        "6ad1c8f663bd4985bb95a7284147e119": {
          "model_module": "@jupyter-widgets/controls",
          "model_name": "HTMLModel",
          "state": {
            "_view_name": "HTMLView",
            "style": "IPY_MODEL_387bac6f282643f2bd60fce831d687cf",
            "_dom_classes": [],
            "description": "",
            "_model_name": "HTMLModel",
            "placeholder": "​",
            "_view_module": "@jupyter-widgets/controls",
            "_model_module_version": "1.5.0",
            "value": " 2000/2000 [00:02&lt;00:00, 900.31epoch/s]",
            "_view_count": null,
            "_view_module_version": "1.5.0",
            "description_tooltip": null,
            "_model_module": "@jupyter-widgets/controls",
            "layout": "IPY_MODEL_9acfbdc4c6f44e8e8716dbd2022edd58"
          }
        },
        "75abe89c26a24acd947f71d12cc54913": {
          "model_module": "@jupyter-widgets/controls",
          "model_name": "ProgressStyleModel",
          "state": {
            "_view_name": "StyleView",
            "_model_name": "ProgressStyleModel",
            "description_width": "initial",
            "_view_module": "@jupyter-widgets/base",
            "_model_module_version": "1.5.0",
            "_view_count": null,
            "_view_module_version": "1.2.0",
            "bar_color": null,
            "_model_module": "@jupyter-widgets/controls"
          }
        },
        "471e28e2a1674d51bc342716522d1e06": {
          "model_module": "@jupyter-widgets/base",
          "model_name": "LayoutModel",
          "state": {
            "_view_name": "LayoutView",
            "grid_template_rows": null,
            "right": null,
            "justify_content": null,
            "_view_module": "@jupyter-widgets/base",
            "overflow": null,
            "_model_module_version": "1.2.0",
            "_view_count": null,
            "flex_flow": null,
            "width": null,
            "min_width": null,
            "border": null,
            "align_items": null,
            "bottom": null,
            "_model_module": "@jupyter-widgets/base",
            "top": null,
            "grid_column": null,
            "overflow_y": null,
            "overflow_x": null,
            "grid_auto_flow": null,
            "grid_area": null,
            "grid_template_columns": null,
            "flex": null,
            "_model_name": "LayoutModel",
            "justify_items": null,
            "grid_row": null,
            "max_height": null,
            "align_content": null,
            "visibility": null,
            "align_self": null,
            "height": null,
            "min_height": null,
            "padding": null,
            "grid_auto_rows": null,
            "grid_gap": null,
            "max_width": null,
            "order": null,
            "_view_module_version": "1.2.0",
            "grid_template_areas": null,
            "object_position": null,
            "object_fit": null,
            "grid_auto_columns": null,
            "margin": null,
            "display": null,
            "left": null
          }
        },
        "387bac6f282643f2bd60fce831d687cf": {
          "model_module": "@jupyter-widgets/controls",
          "model_name": "DescriptionStyleModel",
          "state": {
            "_view_name": "StyleView",
            "_model_name": "DescriptionStyleModel",
            "description_width": "",
            "_view_module": "@jupyter-widgets/base",
            "_model_module_version": "1.5.0",
            "_view_count": null,
            "_view_module_version": "1.2.0",
            "_model_module": "@jupyter-widgets/controls"
          }
        },
        "9acfbdc4c6f44e8e8716dbd2022edd58": {
          "model_module": "@jupyter-widgets/base",
          "model_name": "LayoutModel",
          "state": {
            "_view_name": "LayoutView",
            "grid_template_rows": null,
            "right": null,
            "justify_content": null,
            "_view_module": "@jupyter-widgets/base",
            "overflow": null,
            "_model_module_version": "1.2.0",
            "_view_count": null,
            "flex_flow": null,
            "width": null,
            "min_width": null,
            "border": null,
            "align_items": null,
            "bottom": null,
            "_model_module": "@jupyter-widgets/base",
            "top": null,
            "grid_column": null,
            "overflow_y": null,
            "overflow_x": null,
            "grid_auto_flow": null,
            "grid_area": null,
            "grid_template_columns": null,
            "flex": null,
            "_model_name": "LayoutModel",
            "justify_items": null,
            "grid_row": null,
            "max_height": null,
            "align_content": null,
            "visibility": null,
            "align_self": null,
            "height": null,
            "min_height": null,
            "padding": null,
            "grid_auto_rows": null,
            "grid_gap": null,
            "max_width": null,
            "order": null,
            "_view_module_version": "1.2.0",
            "grid_template_areas": null,
            "object_position": null,
            "object_fit": null,
            "grid_auto_columns": null,
            "margin": null,
            "display": null,
            "left": null
          }
        },
        "60f57d4d50d84d1a96d17d4843628f21": {
          "model_module": "@jupyter-widgets/controls",
          "model_name": "HBoxModel",
          "state": {
            "_view_name": "HBoxView",
            "_dom_classes": [],
            "_model_name": "HBoxModel",
            "_view_module": "@jupyter-widgets/controls",
            "_model_module_version": "1.5.0",
            "_view_count": null,
            "_view_module_version": "1.5.0",
            "box_style": "",
            "layout": "IPY_MODEL_b8e29391770842d19bcafa0ff95ce0fb",
            "_model_module": "@jupyter-widgets/controls",
            "children": [
              "IPY_MODEL_4d5fd1ce90484cf5b079c09c0cded945",
              "IPY_MODEL_f435dce730924ac49c5bb0cf5bef5ee9"
            ]
          }
        },
        "b8e29391770842d19bcafa0ff95ce0fb": {
          "model_module": "@jupyter-widgets/base",
          "model_name": "LayoutModel",
          "state": {
            "_view_name": "LayoutView",
            "grid_template_rows": null,
            "right": null,
            "justify_content": null,
            "_view_module": "@jupyter-widgets/base",
            "overflow": null,
            "_model_module_version": "1.2.0",
            "_view_count": null,
            "flex_flow": null,
            "width": null,
            "min_width": null,
            "border": null,
            "align_items": null,
            "bottom": null,
            "_model_module": "@jupyter-widgets/base",
            "top": null,
            "grid_column": null,
            "overflow_y": null,
            "overflow_x": null,
            "grid_auto_flow": null,
            "grid_area": null,
            "grid_template_columns": null,
            "flex": null,
            "_model_name": "LayoutModel",
            "justify_items": null,
            "grid_row": null,
            "max_height": null,
            "align_content": null,
            "visibility": null,
            "align_self": null,
            "height": null,
            "min_height": null,
            "padding": null,
            "grid_auto_rows": null,
            "grid_gap": null,
            "max_width": null,
            "order": null,
            "_view_module_version": "1.2.0",
            "grid_template_areas": null,
            "object_position": null,
            "object_fit": null,
            "grid_auto_columns": null,
            "margin": null,
            "display": null,
            "left": null
          }
        },
        "4d5fd1ce90484cf5b079c09c0cded945": {
          "model_module": "@jupyter-widgets/controls",
          "model_name": "FloatProgressModel",
          "state": {
            "_view_name": "ProgressView",
            "style": "IPY_MODEL_ad5f7ace44484d1db94977576d26a309",
            "_dom_classes": [],
            "description": "100%",
            "_model_name": "FloatProgressModel",
            "bar_style": "success",
            "max": 2000,
            "_view_module": "@jupyter-widgets/controls",
            "_model_module_version": "1.5.0",
            "value": 2000,
            "_view_count": null,
            "_view_module_version": "1.5.0",
            "orientation": "horizontal",
            "min": 0,
            "description_tooltip": null,
            "_model_module": "@jupyter-widgets/controls",
            "layout": "IPY_MODEL_918ec3348a5541129354f14847951f62"
          }
        },
        "f435dce730924ac49c5bb0cf5bef5ee9": {
          "model_module": "@jupyter-widgets/controls",
          "model_name": "HTMLModel",
          "state": {
            "_view_name": "HTMLView",
            "style": "IPY_MODEL_a9d59a4a90ba4e5f9b09f017c082e893",
            "_dom_classes": [],
            "description": "",
            "_model_name": "HTMLModel",
            "placeholder": "​",
            "_view_module": "@jupyter-widgets/controls",
            "_model_module_version": "1.5.0",
            "value": " 2000/2000 [00:02&lt;00:00, 917.51epoch/s]",
            "_view_count": null,
            "_view_module_version": "1.5.0",
            "description_tooltip": null,
            "_model_module": "@jupyter-widgets/controls",
            "layout": "IPY_MODEL_deebd7b6c3e34e82a176179088c4cbb0"
          }
        },
        "ad5f7ace44484d1db94977576d26a309": {
          "model_module": "@jupyter-widgets/controls",
          "model_name": "ProgressStyleModel",
          "state": {
            "_view_name": "StyleView",
            "_model_name": "ProgressStyleModel",
            "description_width": "initial",
            "_view_module": "@jupyter-widgets/base",
            "_model_module_version": "1.5.0",
            "_view_count": null,
            "_view_module_version": "1.2.0",
            "bar_color": null,
            "_model_module": "@jupyter-widgets/controls"
          }
        },
        "918ec3348a5541129354f14847951f62": {
          "model_module": "@jupyter-widgets/base",
          "model_name": "LayoutModel",
          "state": {
            "_view_name": "LayoutView",
            "grid_template_rows": null,
            "right": null,
            "justify_content": null,
            "_view_module": "@jupyter-widgets/base",
            "overflow": null,
            "_model_module_version": "1.2.0",
            "_view_count": null,
            "flex_flow": null,
            "width": null,
            "min_width": null,
            "border": null,
            "align_items": null,
            "bottom": null,
            "_model_module": "@jupyter-widgets/base",
            "top": null,
            "grid_column": null,
            "overflow_y": null,
            "overflow_x": null,
            "grid_auto_flow": null,
            "grid_area": null,
            "grid_template_columns": null,
            "flex": null,
            "_model_name": "LayoutModel",
            "justify_items": null,
            "grid_row": null,
            "max_height": null,
            "align_content": null,
            "visibility": null,
            "align_self": null,
            "height": null,
            "min_height": null,
            "padding": null,
            "grid_auto_rows": null,
            "grid_gap": null,
            "max_width": null,
            "order": null,
            "_view_module_version": "1.2.0",
            "grid_template_areas": null,
            "object_position": null,
            "object_fit": null,
            "grid_auto_columns": null,
            "margin": null,
            "display": null,
            "left": null
          }
        },
        "a9d59a4a90ba4e5f9b09f017c082e893": {
          "model_module": "@jupyter-widgets/controls",
          "model_name": "DescriptionStyleModel",
          "state": {
            "_view_name": "StyleView",
            "_model_name": "DescriptionStyleModel",
            "description_width": "",
            "_view_module": "@jupyter-widgets/base",
            "_model_module_version": "1.5.0",
            "_view_count": null,
            "_view_module_version": "1.2.0",
            "_model_module": "@jupyter-widgets/controls"
          }
        },
        "deebd7b6c3e34e82a176179088c4cbb0": {
          "model_module": "@jupyter-widgets/base",
          "model_name": "LayoutModel",
          "state": {
            "_view_name": "LayoutView",
            "grid_template_rows": null,
            "right": null,
            "justify_content": null,
            "_view_module": "@jupyter-widgets/base",
            "overflow": null,
            "_model_module_version": "1.2.0",
            "_view_count": null,
            "flex_flow": null,
            "width": null,
            "min_width": null,
            "border": null,
            "align_items": null,
            "bottom": null,
            "_model_module": "@jupyter-widgets/base",
            "top": null,
            "grid_column": null,
            "overflow_y": null,
            "overflow_x": null,
            "grid_auto_flow": null,
            "grid_area": null,
            "grid_template_columns": null,
            "flex": null,
            "_model_name": "LayoutModel",
            "justify_items": null,
            "grid_row": null,
            "max_height": null,
            "align_content": null,
            "visibility": null,
            "align_self": null,
            "height": null,
            "min_height": null,
            "padding": null,
            "grid_auto_rows": null,
            "grid_gap": null,
            "max_width": null,
            "order": null,
            "_view_module_version": "1.2.0",
            "grid_template_areas": null,
            "object_position": null,
            "object_fit": null,
            "grid_auto_columns": null,
            "margin": null,
            "display": null,
            "left": null
          }
        },
        "6c0dd65ccb9b45a98a559422af7dd60b": {
          "model_module": "@jupyter-widgets/controls",
          "model_name": "HBoxModel",
          "state": {
            "_view_name": "HBoxView",
            "_dom_classes": [],
            "_model_name": "HBoxModel",
            "_view_module": "@jupyter-widgets/controls",
            "_model_module_version": "1.5.0",
            "_view_count": null,
            "_view_module_version": "1.5.0",
            "box_style": "",
            "layout": "IPY_MODEL_6b05fc4d9c1f48549d61d4b3e9132747",
            "_model_module": "@jupyter-widgets/controls",
            "children": [
              "IPY_MODEL_86fb8118da1f4bc0a277ef0aa25e6b1c",
              "IPY_MODEL_04de8cf23568418ba34039e6dd9bef40"
            ]
          }
        },
        "6b05fc4d9c1f48549d61d4b3e9132747": {
          "model_module": "@jupyter-widgets/base",
          "model_name": "LayoutModel",
          "state": {
            "_view_name": "LayoutView",
            "grid_template_rows": null,
            "right": null,
            "justify_content": null,
            "_view_module": "@jupyter-widgets/base",
            "overflow": null,
            "_model_module_version": "1.2.0",
            "_view_count": null,
            "flex_flow": null,
            "width": null,
            "min_width": null,
            "border": null,
            "align_items": null,
            "bottom": null,
            "_model_module": "@jupyter-widgets/base",
            "top": null,
            "grid_column": null,
            "overflow_y": null,
            "overflow_x": null,
            "grid_auto_flow": null,
            "grid_area": null,
            "grid_template_columns": null,
            "flex": null,
            "_model_name": "LayoutModel",
            "justify_items": null,
            "grid_row": null,
            "max_height": null,
            "align_content": null,
            "visibility": null,
            "align_self": null,
            "height": null,
            "min_height": null,
            "padding": null,
            "grid_auto_rows": null,
            "grid_gap": null,
            "max_width": null,
            "order": null,
            "_view_module_version": "1.2.0",
            "grid_template_areas": null,
            "object_position": null,
            "object_fit": null,
            "grid_auto_columns": null,
            "margin": null,
            "display": null,
            "left": null
          }
        },
        "86fb8118da1f4bc0a277ef0aa25e6b1c": {
          "model_module": "@jupyter-widgets/controls",
          "model_name": "FloatProgressModel",
          "state": {
            "_view_name": "ProgressView",
            "style": "IPY_MODEL_b3db49c3e5da4519bfa35efe8f88e516",
            "_dom_classes": [],
            "description": "100%",
            "_model_name": "FloatProgressModel",
            "bar_style": "success",
            "max": 500,
            "_view_module": "@jupyter-widgets/controls",
            "_model_module_version": "1.5.0",
            "value": 500,
            "_view_count": null,
            "_view_module_version": "1.5.0",
            "orientation": "horizontal",
            "min": 0,
            "description_tooltip": null,
            "_model_module": "@jupyter-widgets/controls",
            "layout": "IPY_MODEL_5c61a3831a1746ca85ceace67675e072"
          }
        },
        "04de8cf23568418ba34039e6dd9bef40": {
          "model_module": "@jupyter-widgets/controls",
          "model_name": "HTMLModel",
          "state": {
            "_view_name": "HTMLView",
            "style": "IPY_MODEL_6ea4e718d5354b8aaa15325e64ea8edf",
            "_dom_classes": [],
            "description": "",
            "_model_name": "HTMLModel",
            "placeholder": "​",
            "_view_module": "@jupyter-widgets/controls",
            "_model_module_version": "1.5.0",
            "value": " 500/500 [00:01&lt;00:00, 448.58epoch/s]",
            "_view_count": null,
            "_view_module_version": "1.5.0",
            "description_tooltip": null,
            "_model_module": "@jupyter-widgets/controls",
            "layout": "IPY_MODEL_99ce841e24cb49db96c561d0630e9802"
          }
        },
        "b3db49c3e5da4519bfa35efe8f88e516": {
          "model_module": "@jupyter-widgets/controls",
          "model_name": "ProgressStyleModel",
          "state": {
            "_view_name": "StyleView",
            "_model_name": "ProgressStyleModel",
            "description_width": "initial",
            "_view_module": "@jupyter-widgets/base",
            "_model_module_version": "1.5.0",
            "_view_count": null,
            "_view_module_version": "1.2.0",
            "bar_color": null,
            "_model_module": "@jupyter-widgets/controls"
          }
        },
        "5c61a3831a1746ca85ceace67675e072": {
          "model_module": "@jupyter-widgets/base",
          "model_name": "LayoutModel",
          "state": {
            "_view_name": "LayoutView",
            "grid_template_rows": null,
            "right": null,
            "justify_content": null,
            "_view_module": "@jupyter-widgets/base",
            "overflow": null,
            "_model_module_version": "1.2.0",
            "_view_count": null,
            "flex_flow": null,
            "width": null,
            "min_width": null,
            "border": null,
            "align_items": null,
            "bottom": null,
            "_model_module": "@jupyter-widgets/base",
            "top": null,
            "grid_column": null,
            "overflow_y": null,
            "overflow_x": null,
            "grid_auto_flow": null,
            "grid_area": null,
            "grid_template_columns": null,
            "flex": null,
            "_model_name": "LayoutModel",
            "justify_items": null,
            "grid_row": null,
            "max_height": null,
            "align_content": null,
            "visibility": null,
            "align_self": null,
            "height": null,
            "min_height": null,
            "padding": null,
            "grid_auto_rows": null,
            "grid_gap": null,
            "max_width": null,
            "order": null,
            "_view_module_version": "1.2.0",
            "grid_template_areas": null,
            "object_position": null,
            "object_fit": null,
            "grid_auto_columns": null,
            "margin": null,
            "display": null,
            "left": null
          }
        },
        "6ea4e718d5354b8aaa15325e64ea8edf": {
          "model_module": "@jupyter-widgets/controls",
          "model_name": "DescriptionStyleModel",
          "state": {
            "_view_name": "StyleView",
            "_model_name": "DescriptionStyleModel",
            "description_width": "",
            "_view_module": "@jupyter-widgets/base",
            "_model_module_version": "1.5.0",
            "_view_count": null,
            "_view_module_version": "1.2.0",
            "_model_module": "@jupyter-widgets/controls"
          }
        },
        "99ce841e24cb49db96c561d0630e9802": {
          "model_module": "@jupyter-widgets/base",
          "model_name": "LayoutModel",
          "state": {
            "_view_name": "LayoutView",
            "grid_template_rows": null,
            "right": null,
            "justify_content": null,
            "_view_module": "@jupyter-widgets/base",
            "overflow": null,
            "_model_module_version": "1.2.0",
            "_view_count": null,
            "flex_flow": null,
            "width": null,
            "min_width": null,
            "border": null,
            "align_items": null,
            "bottom": null,
            "_model_module": "@jupyter-widgets/base",
            "top": null,
            "grid_column": null,
            "overflow_y": null,
            "overflow_x": null,
            "grid_auto_flow": null,
            "grid_area": null,
            "grid_template_columns": null,
            "flex": null,
            "_model_name": "LayoutModel",
            "justify_items": null,
            "grid_row": null,
            "max_height": null,
            "align_content": null,
            "visibility": null,
            "align_self": null,
            "height": null,
            "min_height": null,
            "padding": null,
            "grid_auto_rows": null,
            "grid_gap": null,
            "max_width": null,
            "order": null,
            "_view_module_version": "1.2.0",
            "grid_template_areas": null,
            "object_position": null,
            "object_fit": null,
            "grid_auto_columns": null,
            "margin": null,
            "display": null,
            "left": null
          }
        },
        "341eb6bd33a34e23b6115391850d2391": {
          "model_module": "@jupyter-widgets/controls",
          "model_name": "HBoxModel",
          "state": {
            "_view_name": "HBoxView",
            "_dom_classes": [],
            "_model_name": "HBoxModel",
            "_view_module": "@jupyter-widgets/controls",
            "_model_module_version": "1.5.0",
            "_view_count": null,
            "_view_module_version": "1.5.0",
            "box_style": "",
            "layout": "IPY_MODEL_5eb3e360c81e41b4966de84ed7f321e0",
            "_model_module": "@jupyter-widgets/controls",
            "children": [
              "IPY_MODEL_a7e8e9e1a54241b1a93426a47f1216db",
              "IPY_MODEL_1eac3c2fe543459cabbdafdb8b946c39"
            ]
          }
        },
        "5eb3e360c81e41b4966de84ed7f321e0": {
          "model_module": "@jupyter-widgets/base",
          "model_name": "LayoutModel",
          "state": {
            "_view_name": "LayoutView",
            "grid_template_rows": null,
            "right": null,
            "justify_content": null,
            "_view_module": "@jupyter-widgets/base",
            "overflow": null,
            "_model_module_version": "1.2.0",
            "_view_count": null,
            "flex_flow": null,
            "width": null,
            "min_width": null,
            "border": null,
            "align_items": null,
            "bottom": null,
            "_model_module": "@jupyter-widgets/base",
            "top": null,
            "grid_column": null,
            "overflow_y": null,
            "overflow_x": null,
            "grid_auto_flow": null,
            "grid_area": null,
            "grid_template_columns": null,
            "flex": null,
            "_model_name": "LayoutModel",
            "justify_items": null,
            "grid_row": null,
            "max_height": null,
            "align_content": null,
            "visibility": null,
            "align_self": null,
            "height": null,
            "min_height": null,
            "padding": null,
            "grid_auto_rows": null,
            "grid_gap": null,
            "max_width": null,
            "order": null,
            "_view_module_version": "1.2.0",
            "grid_template_areas": null,
            "object_position": null,
            "object_fit": null,
            "grid_auto_columns": null,
            "margin": null,
            "display": null,
            "left": null
          }
        },
        "a7e8e9e1a54241b1a93426a47f1216db": {
          "model_module": "@jupyter-widgets/controls",
          "model_name": "FloatProgressModel",
          "state": {
            "_view_name": "ProgressView",
            "style": "IPY_MODEL_52e6b8f497fd4c909f00ae7ee0001f46",
            "_dom_classes": [],
            "description": "100%",
            "_model_name": "FloatProgressModel",
            "bar_style": "success",
            "max": 100,
            "_view_module": "@jupyter-widgets/controls",
            "_model_module_version": "1.5.0",
            "value": 100,
            "_view_count": null,
            "_view_module_version": "1.5.0",
            "orientation": "horizontal",
            "min": 0,
            "description_tooltip": null,
            "_model_module": "@jupyter-widgets/controls",
            "layout": "IPY_MODEL_8ff8438e20344220abbeece60be99e8a"
          }
        },
        "1eac3c2fe543459cabbdafdb8b946c39": {
          "model_module": "@jupyter-widgets/controls",
          "model_name": "HTMLModel",
          "state": {
            "_view_name": "HTMLView",
            "style": "IPY_MODEL_35516f658189460f809fc5b03809d08c",
            "_dom_classes": [],
            "description": "",
            "_model_name": "HTMLModel",
            "placeholder": "​",
            "_view_module": "@jupyter-widgets/controls",
            "_model_module_version": "1.5.0",
            "value": " 100/100 [00:00&lt;00:00, 425.37epoch/s]",
            "_view_count": null,
            "_view_module_version": "1.5.0",
            "description_tooltip": null,
            "_model_module": "@jupyter-widgets/controls",
            "layout": "IPY_MODEL_63b71a2f75bd4c9a93ef781942e19862"
          }
        },
        "52e6b8f497fd4c909f00ae7ee0001f46": {
          "model_module": "@jupyter-widgets/controls",
          "model_name": "ProgressStyleModel",
          "state": {
            "_view_name": "StyleView",
            "_model_name": "ProgressStyleModel",
            "description_width": "initial",
            "_view_module": "@jupyter-widgets/base",
            "_model_module_version": "1.5.0",
            "_view_count": null,
            "_view_module_version": "1.2.0",
            "bar_color": null,
            "_model_module": "@jupyter-widgets/controls"
          }
        },
        "8ff8438e20344220abbeece60be99e8a": {
          "model_module": "@jupyter-widgets/base",
          "model_name": "LayoutModel",
          "state": {
            "_view_name": "LayoutView",
            "grid_template_rows": null,
            "right": null,
            "justify_content": null,
            "_view_module": "@jupyter-widgets/base",
            "overflow": null,
            "_model_module_version": "1.2.0",
            "_view_count": null,
            "flex_flow": null,
            "width": null,
            "min_width": null,
            "border": null,
            "align_items": null,
            "bottom": null,
            "_model_module": "@jupyter-widgets/base",
            "top": null,
            "grid_column": null,
            "overflow_y": null,
            "overflow_x": null,
            "grid_auto_flow": null,
            "grid_area": null,
            "grid_template_columns": null,
            "flex": null,
            "_model_name": "LayoutModel",
            "justify_items": null,
            "grid_row": null,
            "max_height": null,
            "align_content": null,
            "visibility": null,
            "align_self": null,
            "height": null,
            "min_height": null,
            "padding": null,
            "grid_auto_rows": null,
            "grid_gap": null,
            "max_width": null,
            "order": null,
            "_view_module_version": "1.2.0",
            "grid_template_areas": null,
            "object_position": null,
            "object_fit": null,
            "grid_auto_columns": null,
            "margin": null,
            "display": null,
            "left": null
          }
        },
        "35516f658189460f809fc5b03809d08c": {
          "model_module": "@jupyter-widgets/controls",
          "model_name": "DescriptionStyleModel",
          "state": {
            "_view_name": "StyleView",
            "_model_name": "DescriptionStyleModel",
            "description_width": "",
            "_view_module": "@jupyter-widgets/base",
            "_model_module_version": "1.5.0",
            "_view_count": null,
            "_view_module_version": "1.2.0",
            "_model_module": "@jupyter-widgets/controls"
          }
        },
        "63b71a2f75bd4c9a93ef781942e19862": {
          "model_module": "@jupyter-widgets/base",
          "model_name": "LayoutModel",
          "state": {
            "_view_name": "LayoutView",
            "grid_template_rows": null,
            "right": null,
            "justify_content": null,
            "_view_module": "@jupyter-widgets/base",
            "overflow": null,
            "_model_module_version": "1.2.0",
            "_view_count": null,
            "flex_flow": null,
            "width": null,
            "min_width": null,
            "border": null,
            "align_items": null,
            "bottom": null,
            "_model_module": "@jupyter-widgets/base",
            "top": null,
            "grid_column": null,
            "overflow_y": null,
            "overflow_x": null,
            "grid_auto_flow": null,
            "grid_area": null,
            "grid_template_columns": null,
            "flex": null,
            "_model_name": "LayoutModel",
            "justify_items": null,
            "grid_row": null,
            "max_height": null,
            "align_content": null,
            "visibility": null,
            "align_self": null,
            "height": null,
            "min_height": null,
            "padding": null,
            "grid_auto_rows": null,
            "grid_gap": null,
            "max_width": null,
            "order": null,
            "_view_module_version": "1.2.0",
            "grid_template_areas": null,
            "object_position": null,
            "object_fit": null,
            "grid_auto_columns": null,
            "margin": null,
            "display": null,
            "left": null
          }
        }
      }
    }
  },
  "cells": [
    {
      "cell_type": "markdown",
      "metadata": {
        "id": "view-in-github",
        "colab_type": "text"
      },
      "source": [
        "<a href=\"https://colab.research.google.com/github/pragneshrana/Algo_Trial/blob/master/Regularization%26Overfitting.ipynb\" target=\"_parent\"><img src=\"https://colab.research.google.com/assets/colab-badge.svg\" alt=\"Open In Colab\"/></a>"
      ]
    },
    {
      "cell_type": "markdown",
      "metadata": {
        "id": "fAeQKcRBJmxv",
        "colab_type": "text"
      },
      "source": [
        "# Why do we need regularization?\n",
        "- When, model is obtain by taking fewer random samples repetatively, every time learnt model will be different because of different samples.\n",
        "\n",
        "![Screenshot from 2020-09-02 23-28-56.png](data:image/png;base64,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)"
      ]
    },
    {
      "cell_type": "markdown",
      "metadata": {
        "id": "bnYXmOrL_s8c",
        "colab_type": "text"
      },
      "source": [
        "**Bias** $f(x) = E[\\hat f(x)] - f(x)$\n",
        "\n",
        "**Variance** $f(x) = E[(\\hat f(x) - E(\\hat f(x))^2]$\n",
        "\n",
        "Simple model - high Bias, low variance (Under-fitting) \\\n",
        "Complex model - low bias, high variance (Over-fitting) \\\n",
        "**Ideal = low bias, low variance**\n",
        "\n",
        "\n",
        "To avoid,\n",
        "  - Right activation function : (tanh, ReLU, LeakyReLU)\n",
        "  - Right initialization method : (He,xavier)\n",
        "  - Right optimization method: (Adam)\n",
        "\n",
        "Training Error | Validation Error | Cause | Solution\n",
        "--- | --- | --- | ---\n",
        "High | High | High Bias | Increase model complexity, Train for more epochs\n",
        "Low | High | High Variance | Add more training data point, Regularization, Early stoppling from training\n",
        "\n",
        "\n",
        "\n",
        "\n"
      ]
    },
    {
      "cell_type": "markdown",
      "metadata": {
        "id": "DP2GSUb3LgtM",
        "colab_type": "text"
      },
      "source": [
        "![Screenshot from 2020-09-03 00-26-58.png](data:image/png;base64,iVBORw0KGgoAAAANSUhEUgAAA3AAAAIHCAIAAABR2ClNAAAAA3NCSVQICAjb4U/gAAAAGXRFWHRTb2Z0d2FyZQBnbm9tZS1zY3JlZW5zaG907wO/PgAAIABJREFUeJzs3WeUHOd5J/q3Qld1zjnMTE/OAWmAQU4kmDMlkbJombIkS5bD+vqe1V3fsz7rtb17r73SyleyLJkWlUiIJJgQiBxnBpNzzqmnp3NOFe+HoUAIpAiSADEIz+8DD9FV/dZTNY3Bv6vegInxLgQAAAAAAMBnha91AQAAAAAA4M4GgRIAAAAAANwQcq0LAAC8j+d5juM5jhdFURBFJIprXRFYOxhCCMMxDCdwCUkSBI7j8P0fAHD7gkAJwBoTBIFhuHgiOTo229M/PjY5v+zzh0LRTJbleX6tqwNrg5KQKqXMZNAXFNo3b6iury41G/VSKUWS8EsbAHA7wmBQDgBriOf5RY//yPFLl1p7CvIctdXFhW6n1ayXSCQYwkS4SXmvwnCMYZhYLOlZCfT0jo1Pzbkclgf2b92xdd1alwYAAB8BAiUAayYRT51r7u7oGjYY1RWlbpvVZNBr1CqFXCYlCBzDsLUuEKwlnudzDJtKZQLBiC8QnltYXvL4ZTLqK1982GjQwhNwAMBtBQIlAGtAFMVUMnOuuWtkbIYgycb1VevqK+QyGkIk+Eg5hpmdW+7qHRmbnHPn2ffs2JjnshEEZEoAwO0CuuMAsAYYhunqG73U2ltc6Dywf2ue07rWFYHbGk1R5aUFNqvR5bD88tWjMpmUIPA8l22t6wIAgPdBoATgVmNZzucL//CnBx9/eM++XY0Ws36tKwJ3Bo1a2dRYh2HYm0fOJlKpF7/8GIzRAQDcJuCJCQC3ms8Xev2d01u3rNvQUGk0aNa6HHAnIUli4/qqytLCeCzV2j6w1uUAAMD7IFACcEvlcoxnJdDTP9G4vtpuMxEEsdYVgTsJhmEyKb11c51CIbvU2isIwlpXBAAACEGgBOAW8wciHm/AoNcUuZ1KhWytywF3pOIil8VkCEcTHm+A42CyUgDA2oNACcAtNb+4srTs27+7UaGQwphu8NnQFOVyWpwOc1fvaC7HrHU5AAAAgRKAW2thcXl2zruhoYKmqLWuBdzBnA6zO8/eerk/m8utdS0AAACBEoBbK5PN5nJZk1EHkwiCG6FRKXVa1ZLXz/PQjRIAsPZgygkAbimWExiGJ0kYiwNuCE1TUikdDEUhUAIAbgdwjwSAW4rj+BzLrnUV4I5HkgSGYbF4UoBACQC4DcAdSgBuKY4TWIb7JHum0plMJocQ0qiVq+mB5/lsjkkk03KZVC6TXvc2pyiKgiDg+M1fFlwURY7nI5EESeJymUwqvU5/UFEUM5lcOpPFMCSV0gr5ZxzezjBsOBKXSEiVUk5Rkqs3rV6cZDKtVMilUoogCFEURVHEMOxGTl98H7oNuygIgsgwrLjWZQAAAIJACcBta3pmaWxiDiHUtLnOajaQJJFKZ2fnl9s7ByvLC6sqCnVa9e97Ly8ILMMyLCeKokopv+mBkueFeDx5/HSrRq2sqSouLHBcd//J6cWRsRmCwIsLXevqyz/bcQOh6OH3LpqNui2bam1W49WbVi9OR9fQxnWVRYUuuUyaY5hUKqvXqT7bZJ+rcTydyfEcT0oIpUL+2WoGAIB7AQRKAG5T3X2jr715KhiKPjS2/c/+5It6nToWT3b1jPzTD375/LMPWC2GjwmUKyvBo8ebp2aXvvDk/urKIpq+ySPKOZ73ByI//MlrhQUOqZS6bqDMMcwvDh45f7Gb4/nd2zd85kC5sLjy/3zv57XVJS6n5ZpA+duL86u/+s7zJpM+GIpebOl5+8j5f/3ed60Ww2c4liCIcwveXx18Ty6jH35ge0WZ+7PVDAAA94Lb7iEOAGBVIple8YWGRqffPHx2cHgqkUzzHJ9IpBaXfNFo4uOnsx6bmDt3qau9ayiTyYni5/BQVBRZlvV4A/5AePW5/MdgWdbnD19o7hmfmpuYmu/pHxsZm2GYz9KRNJdjFpd8Pn8ol7v27Uq5rKwk/9kn95WXuhUy6cjYzLvHLrR3DeWYzzhNI8fz3b2jZy92Do1Ow1yPAADw8eAOJQC3tWyWmZldOvTuGZNRK5PSV29iGNYfiHT2DHu8AUEQjHptkdtZV1vqXQmevdjVOzCeTmePn2lFGPL5wzQtKXI7S4vzl5Z9/QMTOIGv/nFxaaV/aFKtUlSUFeh1mr7BifHJ+Wg0jjBMo1ZuXFeZ57Iq5DLvSvD46ctGgyYWTyaTaaVSXlzoWo2qoigGQ9HO7mF/MFJWkl9SlGfQ/84C5fFEqrNneHFppbjQlUikPcv+U2fbHTbzaidI70rwxOnLJpMuFk8mEim9XnP/3i2ZTLZ3YGJh0ZvJ5iQS0p1nX1dfYTbpEEIiElmWb+scnJ5ZiiWSCrmsaXNtvtOGMIRhGI7hGIbNznta2wc6e0aiscRvDp167MGdDoc5Go23dw97vQFBFM1GXVGhq76mhCRJnuenZz0jYzNLy36eF9QqRWW5O99lC4Si751qnZiaT6Uy5y91y+WydCY7PbOk06rqakp1WlUwFO3sHhFEsbw0vyDP3tLWl0xlOI5PpTPRWGLfrka9Tr3o8Q0MTUZjSQlJFBfllZfm57tsHM+Pjs8Oj0wHQ1FeECQSsrDAsa6u3GTUwVz3AIA7FARKAG5rMiltsxnfOXphQ0NlTWXx1Zu8vuD5i90//o9DsXgSIaRRKxtqy74pe8q7EuwfnPCuBDmeP3aixWzUnTjTJoriA/u3Frqd7Z1DP/6PQwROPP7wrsICR0v7wEs/f7uupkSlkgeC0f/45TsdXcPxRArHcYLAn3psz9OP7S0vdc/Oe/7m735UWODIZnOpdKakKO8//enzq4EyFI5d7hj8wb8ezOWY5549YLUYrw6UoigGgtFjJ1o4jn/ovm2LHv+ps21HT7Y8/vAupVJOEPjsvOe//N2PSgrzMtlsMpmurCjcvKHmQkv3wTdOTM96RFHkOL7Q7fjW157ZuXXdaoORaPxCc08mk51bWE5nct/++jNfevqAhCSGR2d+efCo1WqUSamJqflQOMYw7ME3TpQW53E819kz8q8vHUokkghhep16XX25QvFUsdvl8QbePXbh3WMXV3xBkiQxDG1vWrdnx0aCwHv7x6KxJMOwZy50Frmds/Oe198+U1aSbzbpNWrl4pLvJz97k+P5rzz3kN1qOnjo5OT0IsdxuRwbicTdefZJQTx7sfPEmcsYhjEMV1le+NiDOx57eBeGoYNvnDx/qSsSTRAEnssxNVXF3/nGFzetl8vl0lv7+QIAgJsDAiUAtzWzSff4Q7t++vLbJ05fvmZTe9fQy68cHh6b/pu/flGlVBw72fzeqRatVvXgfVvdBfbh0elsltm4vqq+pqxvcLK7b6RnYIzn+J7+sZlZD8/zw2Mujue7ekbmF73bmuplUvrff/7OwTdO1teUPnT/NoLAX3n9xD//y6+UCrlep2EYbtkbWPYG9u1ubGqsKyp06rQqHMcRQp3dw4FgpKWt76///A/272ksyLNdXeTq/cuzFzvlcumOrevmF1c6u4e7eke8K0GzSS+T0Vda3rNjw6b1VZUVhQSB/dMPfuVdCT54X9OWjbVdvSMHD500GXR6nQYhJAjizJxn944NjRuqFz0r//wvv/rlq8e2bKwtLHCk0xmfP5xOZ/KdVofNrFYqorywc+s6l8PS3Tf2i1ePTE7N/+f/9FWVUn7sZPPhYxc1auVffvv5E6dbX3vzlD8Q+fIXHywudP7y1aPHTjSv+EL/+S9fKHQ7PV6/2aivqym1WoyjE3PBYMRi1nMch5DIslwoEuM5frVfQTSWHBiakMmkDbVl27fUV5S7/+s//NuZ8x3Fha4/++YXu3pGX3/7NMdxdrvZZtH//JUjFWXuJx7ZXZBnP9/c3d41ODoxW5BvK8iz37KPFgAA3EQQKAG4rVmtxheee+RCc29zW59UStltptXXcwwzObUwNjFX5Ha6HFadVlWQZx+bmL/U0vu1rzxeX1PW0zsWSyQfun9bVWXRlk01k9MLc3PL3pVgd+8ox3OpVHZ6dikaS3b2DJtNusICRyKZPnayWaNWfu0PH9+7c1M6ky10O//6b77f0T20vr5CIiExDLNaDH/4/MM7t63HEAqFowih4bGZ8cl5hND6hopnntjntJuvqX9xydfbPx6JJB57eKfFrJdKqS2NNQcPnTxx5rLZpCt0OxFCGIbp9eoXnn9kz44N2RzT1TsaCEaaGmsff3j31sa6vbs27d65sTDfXlyUNzg8heN4SZHr4QPbtzfV9w1OvPbm6UQynfvdHpnFRc75xXyDQZPOZJ979kCh23H0RPPI2GxpcX6e06LVqAry7OOTC5da+/7kxad7+8eDodj6hoo//fqzFCUpLHAmkimLWV/kdq2vLx8cnnQXOPbt2lRc5Gxu673uz2t7U8P/9VdfVakUfn/Y4/Er5PLqimKNWtW4sfrsxc6FpZXe/tH8h3eTJDEwNCnwwsZ1leUlBU8+sru8tMBo0N6UzwwAANx6ECgBuK1JKcqdb3/u2QM/ffnNlrZ+nVa1+no6nY3GEpFoXCIhD71zRiqllzw+QRBiiRRFkQq5lKIkJEnqtWqFXFpXU+q80NU3OH7mQsfE9EJtVYk/EFny+E+cbp1bWN61fYM738Ew7JLHX1Kc53JYbFZjNpurrymVSCTelVA4GreY9DiOmYw6p93stJuz2dxqoAyH4wRJSCSkLxDO5dgPDwCamFpobe/PZHPdvaN/+48/4Th+Zs7DMtyJM5f37NxYkO9ACOE4ZrMY85wWp8Pi84f9gQjDsBazwWEzGQwanU6l0SilUlompRBCGIapVQqDXmPQa3VatUajXF4JsuzvTO0ppWmZjJaQJIZjJqMOIRRPpKLRhE8afuOds1KaWvL4eJ6PRhOCIIQicZ7nzUbd6rDxdfXlAi9QFIlhmEIhIwlCKqW0GqVMSl+3gyNFUVazobQ4X0Ti6NhsMpUJR2I9/WOxeFIUxWQyTUupbI4xm/QvfOnh0+fb5xe9y96AwaBx2s3PPrl/y6Yam9V0cz43AABwa0GgBOD2hmFSKfXIA9t6+kfPnOtYXPKtvkyswgkpTRe6nUqFTK9T57lsJqNWJru2H16R2+kusLe29x9652wwFN3SWLvk8R0/dfk3h05FoonKMnd+nm3J46NpSSaTzWRzHMdzHB+LJwVBkElpSkIihDCEyWX0NXM6qlTy2uoStUp5vrnr5Nk2vV7jzv/goW02x4xOzPb0j6mUclEUJ6cWEEIsy2k0ytHx2Ymp+aqKotWWlQoZSZIIIRzHaJrCMCyZSmeyOVEU05lcS1u/Rq0sKc5DCGEIEcT7U7XjGEZJSJZhBeHjVoshCIIkCYIgVoe/KBUynU7tclqtFr1MJqUpiSiK6UyWZVmSJOfmlz1ev0Ihq68uReK17WAYxvMCy3KiiOKJFMtxOPogZcqktFwulUhIluUoisRxnJJIDHpNaXEew7JSKa1WySvK3DiO1deWURTpD0RCkdj8gvfoiWa1Wmk0aCFQAgDuUBAoAbjdEQRR5Hbdv3fLwqKvubVXIiERQkqFzGox2O0mjVr5wP4ms0k/NDI1t+itqyqRSWkcxzEMZbO52XmPy2Wxmg2FBQ61SnGptZemJdUVRQa9prm171Jrn0xGlRbnWc2GWCxRW13SPzjZ2TOi1ahyOfbU2TaO4yvKClxOSzKZ+cjaXE7LU4/uyXNZR8amD71ztqaq2GLWy3+baL3ewNj4XCAYaagr39HUIJPRCKF4IjUwNHHuYld331h9bdk1DUqldL7LplErpqYXu3pHFXLZ8krgf37v55s2VH3pqfs/+UVbHVQk8MLoxGx9TZlOq7ZZDVeu1cDw5PyCd31DhUxGFxY4unpHp2YWL3cMajSq3xw6OTwyXVZaUF1RhGEYwrBYPDW/uGI261VKuYSShMKxkfFZuVza3T8WjSb0V80GSlMSyfuxGM9z2UxGXSqdqaoo/MJT94UjsfauIZVSUVlWGA7HR8dndVpNQ225REJcaOkZGpn2rgRD4din+VwAAMBtBAIlAHeGB+/bOjo+1907sjoDJY7jleWF6+vK33z33P/4Xy+v3vOLxZIvPP/wpg3VqzfkvCvBl37xDsvxB/ZtyXNZqyoKRydmy0sL9DqNREIWF7kmphfWlZXZrCaplLKYDV948r7h0Zn//aNXj59qlculLZf7VCrFzm3rK8sKO7qHP7Iqg07jdFiqKooO7N/6i1eOtHUOlRbnlxbnrW7tHRifnF4w6DXPPrnv+WcOqNVKhFAkGr/Y3NPVO9rZPbxtS739d+/JKRWymqqikuK81rb+H7/0xtHjlxaWfHPzy9ub6lUqRSZ7nTkvr6AoiUwmzWRzf////sc3X3zaZNTVVpUcOd585VrF46k/+sqjGxoqtm2p7xucOHuh80/+8n+48+09fWMKhaystEAmlVK0BMfxoZGpV147jhBy2ExKhWxgaPJHP329vrb09LkOj9ev/6jp5QkCL3I7qyoKR8ZmDr5xIpFITc0u9faPNW6ocdjNFpPu5V8fTqYyddXFleWFU7OLDMvmu6zXTNUOAAB3EOJvv/v1ta4BgHtIW+fQ0rL/6cf3XnfPQDAiCGKR27F31yaEkERCSimJyajT6TRNjbWV5YWFbkeR26lSyuOJdCaTLXQ7n3hk9wtfetig16hVSpbjMtkcQRLr6yuK3A61Srm6Xs4D+5o2b6zW6zU0TZEE8fgjuzc2VGjUSpqm8vNsRW6nXCZlWJYgiE3rq//Pv3hh6+Y6jUaZTGU83kB9bVlTY63JqBMEkWG4pWV/ZXnhuvqKYrcz32WNxZNKhdzlsLicltVTGBiajCWSVRVFX3r6fqNBu7octkRCGvQanz+sVimqK4qsFsOKL3Sl5dUd6mpK9XoNzwu5HGMy6p//4oNPP7a3pMiVyeauLiOdyQWCEaNBd9/ezSajPp3JZLLMjq0NRW6nTqtSKuSxeEouk25cV9m4saa+tlSlUqxeq+JC15OP7fnyFx7U6zRWi8FuMxoN2nQ6y3JcdWXxl7/04DNP7NPr1DqtOpZICoKg0SjX1Zatqy9XKuU0JWFYTqNWPv/sAYvZUFzo2tBQkZdn83j8Oq2qob68urJo9fTd+fZ8l5UXxGVvgMDx+/ZsefbJ/Vs31xkN2qryQqmUSqYy/mCEJIhHH9zxxafur6osoiSSj/40fJSlZf+R45eee+aAWq34lB9DAAC4yTAx3rXWNQBwD/n+jw62dQ4e/NnfX3fPZW/AFwiTBFFT9f70k5Fo3OcPhyMxq8VotRhkUjqVzswteP3+MMfxKpXcajbk59kwDGNYbnFpZXFpheP4okKXzWJACAVDscWlFbNJb7MZEULBYNTjDThsJrNZvzpluiAI/mBkyeOLxpJIFDUaVXGhS6WUkyQRiyWHRqeVCpk7365WKwVByGRyw2MzMhltt5p0WlU2xwyPTOME7rCbreb3lzqcnfMEQlGakpSVFtCU5MqgFo7jB4Yns9mcw2ZWqRSj47NXWkYIiaLIctz8gtfrC2UyWUoicTktdqtJLpdeU0YylZmZXUqm0mUlBQq5bLU/Yp7LajRoBV7wB8NTM0uiIJYUuSwWA8/zV66VWq2wWgx5TiuGYRiGhSNx70pwdeZOjVqZ57RYzIbVGSInphYCwQhFSQrdDovJsOILLnsDsXhSLpcV5NsDgTCGYVaL0WjQTE4vptNZo1Gb57SunibLcYFAZGFpJRpLkARhtRhtVqNBrxFEMZFIzS14w+EYw7ISCWm3mpwOi1Ih+1SfpbbOoW/+xT8cee37Tse1g+sBAOAWg0AJwC31yQMlAB8PAiUA4PYBa3kDAAAAAIAbAoESAAAAAADcEAiUAAAAAADghkCgBADchbJZJpn66LkzAQAA3HQQKAEA17fiC/7qN8cmpxcymSxCiOf5SDR+9ESzxxv4zG22tg+MjM3cvBo/MD45d+pc++lz7QtLKxzHIYSSyfTsnKetYzCbZT6PIwIAwD0OAiUA4PrGJua/8ef/8Ppbp5dXgoIgsCznWfb/3f98aXhk+jO3+fKvD588234Ti7zi6ImWX7x65OTZtplZD8vyCKFgKNreNfyLg0eTqfTncUQAALjHwUo5AIDrw3FMFMUfv3SoosztsN3u602PTcxtXFf1nW88++FlzQEAAHweIFACcJdIpjIzs57T59uz2dymDVW11SVmo/5mNS4hSYvJsGNrQ2v7gFqt3NpYe2XT5Y6BweGp0uL8xg3VuRxz9ETz0rLvz775pR/8+NV0OhuJJvyBiCAKB/ZuGZ9amJ5dNJt03/7jZ0uK8jiOO3L80sTUfCqVUSkVLzz/cH1NSTAcO3zsUmtHP5NjnQ5L48bqRx/Y0d413NLW19kzLIri888+cP/eLQqFDCEUiSY6uoZef+c0k2PlMmlpSf7zzz7w1uFzPf1jA0MTLMt+88WntRrV6go9V7S2D5y72DU+OScixLLsV7/8qE6rnl/wMgz76EM7VUr5mQudo2OzD96/NZFIvX3k/MycR0KSGo3yT1582uWyXm4fOPjGiVAkptWo9u7aFI0lLrcPEAQupemvPPdQfW2ZlKZu1mUHAIA7BQRKAO4Sl1p7X339eE/fGMfz55u7v/yFB598dM+nXXzl98FwTC6XPvvk/uOnW7t7RyzmD6JqKBybnvXotGpe4FmOm1/0Tkwt8AI/OjGn06hWl/k5ebZtaHS6vrbM5TQvefynz3c4HZZkKqPTqrZtrpfLpecudfX0jTEMm0ylL7b0HNjfpFYpxifn+gcm3Pn25ZXAyNiM027Z3lRfVlIgkZAIoRzDTs0svvzK4V3b1lvMBo834POFjhy/WF1Z5LCZbRbD3p2b5DLpleV5VvG8MDw6LZdLn3psryAI751qHRufKy8rEEXx8HsX9+1uxHFscmp+ZHzmiUd2/eBXh50O80MHtokimpiaf+9060P3b5uaWRwanf7D5x+2mA2DI1PZLNPUWGe3GQdHprM5JpVKQ6AEANyDIFACcJcYGZ05eqIlHIkhhGZmPSVFeVs21ZQU5d2s9gmCqK4sXlr2T00vnL/U3dRYi5CIEOI4nmEYluOQiERRZFgum2OQiLJZxlZm2rq5jqao8cl5ipJsaKjAMKylrb9/cIJlORzHC/Js+/c0qlWKcCQ+M7uUyWQFUZyaWcQQkkjIWDw1Pbs4ODyFECIIvKGu7LGHdomiSJIEQiiZTHuW/YtLvp3b1he5nRNT8+cudZ2/1P3IAzssZn15mXvzppqPPBG1SiGXS01GbSKZFnhheSVQUeY2m/QrvpAvEFrxifFEWq1SCKJ4qbV3/55Gd76d4/h0Ots/OLFxXWWOYaU09eiDO3VatWfZPzW7lMlmKYnEbjUq5DIMg47pAIB7EQRKAO4SqUwmFk+s/j/LccFQ1LsSvImBEiFE4NjD92/7+a+PnLvQZTEZWJa7ZgdRFJEoXvmjy2kxGXWpVEajUtjtJqVCLgiCUiHnBQEhpFLKLWaDyahjOa68JH9oZHp6zkNJyGyOOXz8IkVJYrEUJSHj8aRSKTfoNRq1cjVKrkok08lUxuW06LRqiYS0mA0Om3luwctx/MecAi/wLodlcGT6xJm2cCQ2PjVfLSmiKInZpC/Itw+Pzix7AxiG1tdXRGOJZDrd3Te6vBIQBDGXZVKpjCAIMiltNOrMJj1CaF19xYov9N7J1v7ByYI8W7HbdfXpAwDAvQMCJQB3CblMqlErw5E4QgjHcZNR53JYbvpRHHZz0+a6QCjy//3kYDyeumarIIjCVYmKpiSrj6c/EsdxPM8jhJCIsjlGJqNoQaJSyrdtqf/aC49pNap0OsuynEIh7eod+/DbSQInCCyTzYni+zdKeV7QaJQ4jn145yvl+f3hf/nJb7Qa1ZeeOVBU4PjNoZOJZBohZDRo9u/e1NE1NDQyff++pi2bahPJtF6reeG5h7dtqed5Pp3OMQxT6HaOTcxfadDlsHzzxae/9bVnevrHf/brd33+8IP3b334wPZPeDEBAOCuAYESgLvEA/ubMAy9+vqJVDq7b3fjM4/vs9vNn8eB1tWXZ3O5Cy09gigghLQalVwu6+weqaks7ugZ7h+clMnoT9JOPJHu6Rs7da7dYTP96jfHykvd6+rLw+H4O0cvPLC/SRTRhebuqenFLzx13/u583eZjDq71eT1Bi+29FZXFvUOjHV0D+/atl4q/f1HF8VkKoMhzGI22CyGRY/v7MWuPKd19Sw2b6p95fUTLMsZ9RqzSSeX00aDdmp60WY1yqT0kePNMhn97BP7r27vzXfPhiPx9Q0VTofZbjPRFPUxARoAAO5ixN9+9+trXQMA95C2zqGlZf/Tj++96S3L5VK71VRSlLdtS/3u7RvKSvJVSvnNajyZynhXgvv3bJbLpRQloSgJEpFGo9y5dZ3DYcYQml9cicTiCCGZlM5zWbdsqp1f8FaWu+02kyiKkVjCYja6nBaSJHI5Bomooa5s2RsgSUIU0fTMkkRCbttcX1VRpFbJeV5IJFILiyvpdNbptGxcV8XzAo7j7ny7y/nBPVeCwAmCICVkLJaYX/JGonGLWb9v1yarxbiwuJKfZysvLbiyc45hcjlGRGhDfWU6k2UYNhSOBYJRrUbpdFhKipwOuxnHibMXOvJdti2NtcWFLpwgpFKKybEr/vDySiCbYxo31BQXulKpjCiK27bUI4RSqUwylVny+Hz+EMtyGxoqqyuKtFrVzbrsH29p2X/k+KXnnjmgVituzREBAOD3gUAJwC31+QVKipIY9NrK8sKaqmKH3Sy/qVMw4jiu16sLC5wSCYlhmExKF+Q7nA5zcaHTbNJptSocx0QRVZYVlJe5iwpdqwXkOa1qlYIkSYVcZrUYdTo1TUlkMtpk1FstRq1aabOalAoZy/FbNtVUVxYZDVqVUpGfZ0+kUhiGFRflNW6oLsizURRlNGjtNtPVERnDMLlMWlzoTKWzgiA47Zb19eUrf9ggAAAgAElEQVTVlcUEQdC0xOW06nXqD+rHMJmMNpv07gKHXqsmCIJlOZ1e3bS5Lt9lNRl1FCWJxBLnLnU1NdZtaKjUqJUEjhcWODAc5wWBpqmq8sJtm+s0GuVv+2uaEEJmk06pkOVyLEKouDCvcUOVw266Zlz55wcCJQDg9oGJ8a61rgGAe8j3f3SwrXPw4M/+fq0LAR/I5nJ+f6S7b/TgoZPf/uNnmxprrx79c9tq6xz65l/8w5HXvu90fC59GwAA4JODGS4AAPc6JsdNTC289Iu3n3psT1lp/h2RJgEA4LYC/ccBAPc6uVy6vr78H//2Ty1mg1Zzi3pAAgDA3QQCJQDgXkeShE6n1l3V5xIAAMCnAo+8AQDXl8lkZ+Y8mWxOEASEkCCIOYZZ8vjS6exnbtMfCEdjiZtX4weSqfTs/PLo+GwwFF2dcojnhWQyPTu/zDDs6ryVPC+k0hnvSjCTzX0eNQAAwD0FAiUA4Pp8gchrb54am5hLZ7IIIUHgY7HkybPtXl/wM7fZ0T0yPjl//f0+vbGJ+dPn2s9c6FhcWlldOIdl2fkl76F3zswveHM5ZvUV70rwUmtvIBj5PGoAAIB7CgRKAMD1zc0v/9d/+Lfv//CVmVkPQojjeH8g/JOfvTU9s/SZ23z32IXLHYM3r8YP/Pq1YxdbemRSqUajxHEcIZTNMYPDU//3f//xy68cWfL4EULZLDM1vfjKG8cXFlc+jxoAAOCeAn0oAbh7CILAsrwg8pREQhA3c6gySRJqlbxvcKK7d9Rs0l09ciUWSyZTablMqlYrBUEIhaPZHONyWBeXfBRFBkLRUCiq16nLSvInpxcj0YROp64qd6/mvHA4Njg8teIPFRc6rRajTErzvJDOZAaGpjLZrMNuLnDZaJqOx5OZXM7nDyWTGZfDYrebJCSJEBJFkWG44bHpSCSu06ldDotep1lc8vl8YbVaUVzoMui1BPH+12aapiwm/fFTLQ21pSaj7poTTKUzs3OeFV9IrVbmu2wWs57n+Zk5j8VsUKsULMvFEymW47RqZTbLrPhDqVSG5bjS4jyCIJY8/qVln1Ihrygr0Os0mUx22RtUqxVzC8vJVMag166ebzKV8Sz7Fz0+kiBqqou1aiVJwm9gAMBdAn6dAXCXWPL4evvHzzd3syxXVVG4vamhsrzwZjVOELhapdy5dX1335hWq9q7a9OVTeNT88OjMyVFrg0NFbkce7Gl1+MNfPPFp946ci6VSqtVSkEUJybnS4pdKqUiEolzvBAKRTdvrMlksoMjUyajTiajz13s2rd7U311aSSWOPjGCZVSQVFkb/+4VqN69sn9I+Oz5y91xRMpl8NCkoTFbFhd4NDrCx55rzmZSinkskQyLZGQ9+/dEgrH4omUVEqLoii5KrFREonNaiwtzuvoHtHrNPW1pVc2LS6t9A1OdPaM5DmtkUjcbNbX15SWFOf9/JWjzzy+t66mNJXK9A9NRCLxzRtrxibn3z12wWLSm4w6juN9gfDI6IzdZgoEI8OjM+vqygwG7S8PHpVKaY1GmUplGYbxegNbt9Qdfu/isjeg06pYlmu+3PfME3vLS9036wcEAABrCx55A3CX6Okf/+nP3/rhT1770b+//q///sb5S93hcOxmNY5hmEwqfeqx3RiG9Q1MjI7NXNm07A0MDE0sLK1wHJ9jmJHx2fauIZ7j27uGJqYWSAlh0KmnZ5e6ekclElKtVobC0UutvdlcjmU5hNDqHcEVX6i7d7RvaGJoZPrMhU6apowGbSAYaW0fGBmbmZtf7uwZicYSDptJrVLgOIYQymRzM7Oet4+el8uk+Xl2mqZm55bPnO+gKJKmKZVSrtOpcAK/sm4NQeBajfKZJ/YlkqnOnpHZ+eUrpzAwPHXyTBvLckaDhqIlfYMTJ8+2cSx3/lK3zx9GCGVzzPyCd2x8LpFMT04vtLT163Vqq8U4MDTZ0zcmIrHQ7bBZjW2dg5c7B33+0KXLfbPzHrVKYdCpA8HosVMt8UTqQnN3T98YRUmsFkM8kczm3h8eBAAAdwG4QwnAXaJ/aOK9U62rY1D6hybbOocaN1Tr9Zqb1T5O4EVu585tDa3tA4ffu/Twg9tFUfj4tzRtrj2wt0lE4uTMokop37q5DsMwuVx6uWOA5wWJRFJbXfrcM/eLophjmJa2/ostPXKZ1KDX5OdZtRpVIBTleaFvcEJKUy6HZfvWhscf2X2l8VgsuewNMAz72EO7bFZjdWXRpdbeV18/8dRjew16jbvAUVddek09BElsaKhY8vjHJuZOnmmrLCtcTXQjYzMDw5Pf/auvqlUKnVYzv+DtH5r8fSclCqLFZPjaC08QBP7Xf/O/SZL40tMPlxTlIYS6ekY8y/6iAqeEJHZv37B7xwaW5TAce+PtM7kco1LKWZYTEbKYDY8+uNNmMQqCcHN7JgAAwFqBQAnAXYLnhdU0uSrHMKkbmNPn99m/Z/PUzNKZ850F+XaG4T5+Z6NBq1Yr4/EkSRBajUoiIQVBvLIOjUxKy2Q0SRIcz+t1mnQ6Gw7HpFJqftH72punKIrieV6jVlpM+mQqQ1ESye/2OMzmGI7nXQ7zaiZTyKVyGe0PhFfnCfoYjz64w7PsP36qVa1S8hyPEEqns1MzS28dPo9hGEIiw3AVv/9hNEVJlErZatfMRDKtUsqVCtnqJrVawfNCIBRBGEbT1Go/UYQQwpCUpp9/9oGLrb2H3jkzMbVQU1n8l99+Xq9TQ54EANwdIFACcJdw59sb6sp6+8cRQkaDtqq8sKLs5nfRUyrle3ZuzGRy//rSG/FEEiFEEDhBEgIviAglkulM5oMUi2P46uNpDCEcxzCEYUjE0PvPoNOZbCqVYRgWw7AVX0iplFvMeoqSeLyBr73whF6nnppZ9PnDep06k8n99sH1VZUopFKamp715HKMKIqhcDwYirmclusunGgy6vbs3JBIpv/jV++sZkGVUl5eWvDM43utFiPHcf1Dk5nM+5NTJpLpVDqTY5jllQDH8wgh7LcQQnqdWhTFUDhmtRhZlo9EEhqN0mo2vL/bb89UFMVYPOnxBorczl3b1vsDkR+/9Mbk9ILTYXY5LDf4EwEAgNsBBEoA7hJbNtWIoniptZdlufLSgn27G/Wfw9IvBI6Xl+THE6mWtv54PIUQslmMRr325Nl2QRSTyfTs3DJOfKLO2RzPd/YMv/zrwzqt+uzFznV15TVVJZFIvKWtr39wQq9XT88sZXPM1s11K/7Qh9+uUiqcDovdanz10Ik8h2Vp2e/1BR+6f5tcJv3440okZE1VSTyRutw5gBCGEKqpKvb6QmcudG5cV+n1BZPJTEGeDSeI8pL8yx0DXl8QQ2hsYi7fabumqS2bajp7Rl55/UTjhuqFxRVBEIrdTq322sUbMYRIkpyYnI/Gk8lkRhCEZCpD0xKZlP4kFwoAAG5/xN9+9+trXQMA95C2zqGlZf/Tj++96S3rtJpCt6O40LWuvnzX9g1FbsdNnJUmnclFovE9OzfKZVKaphRyqUIuU6uV27bUuZwWHMMXFldwHJdIJEqFvMjt3LShasUXqqpw2yxGhFAqk7VZjS6HmSRJjuNJkqirKQ0EIhiG4QSWzuQInNi1fX1tVYlcLo0nkul0NpXMsDxvMRs2b6xhGFYikbgLHA67+UpJJElIKAlNUysrwUw2x3G81Wx44L6tOq3auxJ059tLi/Ou7MzzQo5hmRy7eWOtTErL5VKlQk4QhN1m2riuMj/PrlBIp2aWEEKhUNxi1tdUl9gsBpzAY7FkMpnGCdyg15QUukqL83meJ0lyy6YahJBareQ4fnklyHN8MBytqSzeuL5Kp1PH4sn6mjKLxYDjeC7H4Di+bUv96vDzZCqdzeXMJv32pganw0Lgn31k5NKy/8jxS889c0CtVnz2Hy0AANwMmBjvWusaALiHfP9HB9u7h1596b+vdSGfTo5ho5G4waglCQIhJIoix/GRSFytVkildI5hg8FoKBx1OswkQbIcp9OqItGEXCalaYkgiOlMhsBxmqYRQgzD5hhGrVLG40mO4xmO8/lCJUV5crl0tWMiz/Mzs550Jms06qxmA45jmWyOYViaomSya2/pCYKw7A2EI3GtRmW1GCmKRAhFInFSQqqU8qt3Yxg2mcrotKrVPpeCIDAMl0ylVUo5TVMcxyeSqZlZj1arMpv0V97rWfYnUxkpTVnMBoZlZVKaYdhsjjH8drQTy3KRaHx2ftluNZmMWqmUZhg2Fk8pFTKKkoiimMsxmWxOp1UhhIXC0dW1hUqK8qQ0vdof4DNr7xr65l/84+HffM/pMF9/bwAA+DzBI28AbikJiVGSO2+6LkpCmkw67KqejCRJGI3a1VcoCWmzGixmPY5jGIaJoohhmE6rWt1KEJhK+cEtNJmMlkppDEMajQohESFkMemJq56S4zhe6HaIIlptDSEkk9JSmv5wN0qEEIZhdpvJajFiGHYln2k0qmt2xjCMpimKklw5BQzDaFpCUerfFolr1Kq6mtKr20EI2axGURQRwnAco2nJ6olfnWtJkjAatHqdGsNxHMMQQhIJadCrf3sgTC6XymT06h+NBq1ep1k93Kf8CXzkuSOKwj/ysgAAwC0GgRKAW4qUkDRFrXUVn9qVYShX/njlv1e2fjCm+Xe3flRrV/6LIYSueeqLYdiHJ9P5fY1dc+hVH77z9+GSPuoUEI5fe1z8ox5JX9MOhmFX73bNtbrmKDfwiPt3MCzLC4JBr7uRh+YAAHCzwG8iAG4pmqKkUmkqlRGE60ziCMDHSKezqVTWbjPD+o0AgNsBBEoAbimdVqXVKBc9Pu560yUC8DEi0XgoHCt2O0kJTGUJAFh7ECgBuKVcdovLbm7rHMzl2LWuBdypRFH0roQWFlc2bqiiKclalwMAABAoAbi18vNtTof16ImWK1NnA/BpCYI4v7gyNbO0oa6cpu+8LrkAgLsPBEoAbimNWulwmHQ6dVfvSDAUXetywB3pcsdAIBipry5RqRQfOWwIAABuMfhNBMAtRZKk3Wq6f++WMxc6xibnrl6oEIDrWp13s7mtj+O4ndvXQ5oEANwm4JcRALeaVqPctrmOJPH+wYnxqYVsFp59g0+E4/hwJH6hpSedzuW7bFcvBQQAAGsLAiUAtxpJkiaj5mtfeXxuwXvyXNv03FI6nYVZhMDHEEWRYVh/MNLRNfzW4XObN1Tv391IkjC+GwBwu4ClFwFYG4LAT0wtvPHOmfHJheeevn/ntvVyuXStiwK3KZ4Xxibm3jvVcqG566///IW6mlK1SvExU8cDAMAtBoESgDWTzebmF7xD4zNdvaMsyzXUlDbUluW5bEqFbK1LA7cFhmFD4djw6Exrx0AqlclzWTY2VJWX5iuVsg8v6gMAAGsIAiUAa4llOX8g0t0/6ln24ziGYwRCIo5j2RzL87woimtdIFgbJEmQJEkQOMfxEgmZzTJajbKi1F1TVUySBNybBADcbiBQArD2RFEMR2JjE3Oj43NLS75MLpvOMBzHQaC8Z5EkSVGkTEqrVIqayuKqcrfVYpBKoVMEAOA2BYESAAAAAADcEBjlDQAAAAAAbggESgAAAAAAcEMgUAIAAAAAgBsCgRIAAAAAANwQCJQAAAAAAOCGQKAEAAAAAAA3BAIlAAAAAAC4IRAoAQAAAADADYFACQAAAAAAbggESgAAAAAAcEMgUAIAAAAAgBtCrnUBNySRSM3MeSanlxY9/nAkEU+kcjlGEPi1rgvcJQgC16iVKpXcZNC6HOaSoryCfBtJ3tl/awAAt1gux8wtLI9NzM8teAOhaDSWYFlOFMW1rgusGRzDKVqiVikcdlNlqbusJM9s0uP4nX2PDxPjXWtdw6fGMKw/EG7vGguFE5ks4nhSECUch1hO4HkBAiW4KTAMw3BMSlEYLuKIIQiOJBmKxMpL8yrL3RazYa0LBADc1gRBiEYTAyNTY1PzLI9xCGcRLiCUY1ieFyBQ3sswDCMInMAwisBJjJdgokGjqK0sLispkEju1HsWd17dgWB0dt47PDbXP7yCiVKbLS8/r9hud6hVGoqiCYJY6wLB3UMURY7jkqlEJBzw+hbnFiaXPfO+QCIUTlRVFJQW58HnDQDwkRiGnVtYHh6bHRyfWw4n8twFhaWFNoddb9BRNIVh2FoXCNYYz/HpdDrkD09PTs1MTk/M+4LRZCgcr6ooNOg1d+In5A67Q5nNMhda+o6d6phbCH/hqRfLyqpUStVaFwXuFaIoJuKRM+ffnZjssVvV3/nGMwa9BjIlAOAaoih6lv2/eftMc+fwpqbG+x47oFQpMfzOiwjg1shlcwtzi++9/Z5vfuFrX354a2OtUilf66I+tTssUP7bz94dHFmxWIv27X5IqVRLSMmd3ucA3FkEQchkU/Pzo0ND7ZNTff/tv3zD6TBDpgQAXCGKos8f+t4PD/KUfPPurUVlRTK5DMOwO/GeE7g1RFHkWC6RSAx29bedu7RjU9UXn7qPpqm1ruvTIf72u19f6xo+EYZh3z3WOjIecLqqGjfusJhtJEF+5N9PnufTmdSSZyEai2AYJpXKrmyKxaM+nzcUDKhU6psbAiLRsM/nTaWTcpliNeOKoiiKAkIYw+SCIX8g6BdFkaJoSMB3NAzDKAmtUGjkCnU6lRoeHbFZDQa9dq3rAgDcFgRBiMWS//KT12itYd2WTcUVJQqlHNIk+HgYhhEEIZVJNXqtIGCepRXP0nJ9Tela1/Xp3BmBMpPJzcx6Dx1ucTgq62sbHXbXx+wcT8S6utsOH3uzp69DIqEcjjySeL+r6PBw/8kzR9s7W9fVb5DJbub95O6e9lNnj3lXPCXF5RiGpmenxsaGMrmMRq2NREOXms81Xz4nISmb1S6RSG7iccGakEgopVKjUqk7u7u0GrnJqJHLpGtdFABg7UWjiea2/qFJT0PTxvLqcrlCdv33AIAQQgjDMJlMptZqfP7A4rzHatLqtGqCuGNuQt0Zg3LC4fiZC30Y0pSX1X98mkQIhcPBY8ffOXPueI7J4jheVFjqLiha3TS/OHv2/AnP8uLXvvptne5mjtJNJGLL3iVe4HmeD4YCzS3nRsYGd23f53IWxOPx7t72jq5Wndawrn6jDH693BVoWpafX1Fa0jA2uWwyqpsa4SYlAPc6nuc93sDx05frt28tLC2SfYI0KQhCwBfIpLMyuUyjVUs/8VdTQRA4lpNQEgzDIqFILBqXymij2fjZ5jUTRRGJSBAFDMNEUcxmc0FfUKFSqNRKmqY/Q4MfFovGouEYz//ONCwYjpnMRplc9jl1HGJZFsMwkiQFQYiEo6lESqVW6gy6z+NYN4vJaiqtLh/JZt89dvFPXjTrdOq1ruiTugMCpSiKvkDkyMnLX/+j/8NmdXz8zoLAhyOhto5mQRREUZyZneof6LoSKK/B8zzHsSzLiqK4+pdQFEUMw2maxnH8ylZBFHAMJ0mSJCWru2VzWYHnEUIiQgLP07S0uqreYDDLpDKpVDYw1Nve2TI3P71507ZcLrs6jZEoioLAZ7Lp1WcfBEnSFI1hGMuxPMeJokgQBMuyIhJJgiQIUhB4lmMRQhJSIpFIcJwQRZFlGZZjRUFECOE4TlEUQZDwDH2tkKRk67b7Xnr5fxl0c5s31sAPAoB7XCqV8awEJudWvvSdaq3u+l8yRVFkGbb1QptncTmvwFW3oTbfnfdJ3sWxXCaTSSaSZquZJMnRofGejl5Hnv2+h/aRyk/9z7ooijwvZFJpEYm0lBZFtLLsO3nkVFllSXVdldlq/rQNfqTp8ZmO1s5UMn31ixJKct/D+/LdeTL5Tb7XsnqVQsGQVCrV6rU8zw/1DY+PTFTXVTXt3Hxzj3XTFZYWpVOpf//nf3vumQMajfJO+cflDgiUyVR2diGiVputVoeUvs63N+/K8ujYYCIZv2/fQ4PDfXPzM+1drY8/+oWP3Hl2bqrl8oX3Tr6bTCY2bWgiCCISCVnMtj/+o+9otbqZ2cmWyxfPnj/uXVk2mcxbGnfs2LanrmYdQuhXr/z7xOSYRCLJZNIzc1N/9MK3EolYe0eLxWz94rMvHD/5bm9/Vzab+dkvfrywOFtdWY8QYhhmbmHmn773d1Mzk1KpdNOGpj947kWd1nDu/ImOrsu5XLawsPTM2fcy2Uzjxq1VFbVTM+PNLecwDNu+bc99ex8qLamIx2NvvXvwUuv5lRUPQig/r+iZJ59b37BJo7mtv2zdxTAM06j0Nms+y/OLS778PNtaVwQAWEsLSyseb3Dvge0KhRx9gj6THMf5V/w//+mvlheXyypL47F4/teeu+67GIa5eKb58sU2pUr5R9/6Q61OM9Q/fOjVt+o21G3fs02hVHzasrPZ3Nz03E9+8NK2XU1NO7coVYrlxeW3X3t3/4N7nXmOmxUox0cm3nrt3VAgfPWLcrmsvKrUarPc9EDJsdyFM5cOvfL21l2bv/ziczzH93X1nTp2FiF0+wdKiqIMJmNpZdH41IJapdDrNWtd0SdyBwTKaCw1MxdsqN0gk8mum9Nn56a7ezsxDNu+dY9apbncdnFubnp8YsTtLqYkvzNgKhgKnD1/8sh7b3Ict76hMZNJT02Ph8LBqspajmenpycOH3vz4qUzOEHU1jT4/N5zF04sLMxIv/qnbnfxstfT1dOG47jVYlfIlTqtLhj0LSzOCaKAMKTRaBVyucBzJqPZaDBTFI0QSiTjA4O9TZt3FLqLp6cnmlvOOezOB+9/PBQOjY4NBUMBlmMrK2o6uy6fPntsYLDbYrZVVtb29Lafv3iKwAl3QfGJU4fPXTgllyv27XmQZZnm1gunzhyTyxWbN237HK8++Fg4jrvzSlPJ2YmpBQiUANzjZueXp+a9Wx/YS0npTzIKJx6NtzV3+Ly+TCY7Mznb3dH75HNPSKUfjN1cnQo3ncoghGgpLZXSCKFsOjs2PN7R2rVxy3pREBBCTTu3mMxGo9nwSdJkOp3JpDMYhqnUSpIkMQzLpjPTEzMDvUMV1eUCz9NSuqjU/a3/9A1Xgctk+SBNplPpXI4hCFyt+YiHsIIgZNJZlmVkMtlHTrTJMEw2k1Wpld/6q2/qfnv7liCJiupy+SebIkcUxWwmxzAMRVOy3+0bwLJsPJbAMUyhUlKUBCHEcVx7S+fY8Fh1XSVCiJSQO/fvKCwpdBe7r7kauUyWoimZ/CMCBsuwuVyOYViN9oOBvKIoMgyTTWdFhGiauulRGCGEYZhWp61bV9c7OOHOt0GgvGni8ZRnObx/326auk5PDobJzcxNTUyOOuyu8tJKuUy+sDg3MzvZ2nbRbnNeEyjn5meGhvui0chDDzy+Z9eBaDQUT8TmFmYZJieKqKevs72zJZvL/MFzXysuKptfmD124p3u3o6y0rM2m4NlmWQyYTSaHn3oaYVCWVJUPj0zmc1lGZaR0rKS4vL+gW5RROvqN66r38StPrmWSCxm645te3CceOud31xuvzgw2Ltvz4M8x6XTKYTEupqGirLaaDR8qeUcjhNPPPoFt7s4Gg0Pjw7Ozc8IAj+3MLvsXbJZHVKp1OXMpyjabnMa9KbP8dKDT8Buyx8ZXZya9exf60oAAGsrEk0EI3FH3idd8iASjl4824JEVF1bGY/F52cXxobHq2oqaCmNEEomkhOjk93tvZFwBCGk1WnLq8o2Nm1oPt/a0dLpWfTI5LLDbx7b98CeSCg8MzXLMEw4GO5s7cpkMsVlxRu3rEcIjQ2PD/ePsCy3a/8OipJ0Xu6eGJtMxBIYhml0mvWN62wO69L80rtvHAn6gy3nW2maql1Xq1Qp5qbnZXKZw2njeT6ZSLZebJuZmInHkxIJabFZNjVtcOU7CYKYn104dexMvjsvEU8E/MFMOqvTa7bt3lpQmC9XXBsTCYJQKBXbdzdZ7darXw8FQr2d/Z5FT3V9VXVdFS8I3W3dE2NTRSWFjVs3ToxOjg6NZbO54rKi/u6BZCKl02tLK0u27WoiCCIWjY8MjA4PjAR8AQzDLHZLw8Z6q83S3d7Tdbk7HIq0Nbebraa9D+wJ+ILzMwtanQat9nZdXO7t7J+bmU8nUxRN5bldGzevd7gcmUxmqG9kqH/Y4bKnkunF+SWWYexO2/Y921wFznQqPdA7NNg7GI8mRCQqVcrCYvfWXU0q9U1+MC2Ty/KLC3vbuxKJ9PX3vj3cAYEyxzDReNLlzL9uX+NgKDA/PxMIrBQWli57lxgmRxBELB693NF8YP8jCoXy6p09noVgKKDV6nbt2F9TVY/j+Nj4SE9f5+rWyekxn99b5C554tEvSKWyirLq2bmp4eH+nr6Oxx95FiFEkqTd7nrisS+sfsNb/TaGIbSa83Q6QyQaLnSXuN3FHs8iQkipUNZUN9TWrFMqVF09bReb2XA4KPy2e7JGrd26Zbfd7rQ3u+RyhV5n2L/3IZVKdebciemZSY7ncBy3Wx1arc7n93Z0XS4pKisqLC0uKjPoYQHANabXGzgeC3mDa10IAGCN5XJMLsfKFZ/ooXMum/Ov+If6hgwmw9bdTZOjk4N9w5cvthWVFNJSOpfLLc4vvfvG0eZzrRIJyQs8juNllaUOl32of3hpwZPLMgtzi11t3es3NfR1D7z68msNm+qr66pOHz87Nz2/fc+2dZvqcQzvvNz1zutHaJpa19gQj8YPv3l0anyapmlBEHxefygQbtqxORKODPWPMDlmfGTSYDKo1CqdQffaL9944PH7XflOqUza3d7z6suvBVYCCCGEIZ7no+Hog48f0Bv1k2NTP/znHzdsqKOldCqRCociiUQSIUytUX84UAqCkM1khwdGV5Z9CCGJRKLRaax2SygYPv3e2Y7Wzi++8GxJeTHLcpfOthx9+737HtpXt65moGfw0KtvhUPR/Q/uHR8ZX1pcxjFs3aaGyppyvUE/Pjx++NDRrrZuWkrzPC+KYtAfXN+4bov3bksAACAASURBVKhvyL/iZ3LM5NhU64W2xq2bui53nThyWkTi1p1NqWTq4plLx94+EfAHKYmEYRiFUpH7/9m778A4rvNQ9Gd629ned4EtABa9kSAIgmAnRVJdsmTLlmUrdiwn9k3im7zkOi9+N9VOHNsvTnXLteXIqpZkFaqQkiiKvYAgeu9lsb3vzs7ulPvHUhBEFTISKJni/P4hdnfmzJkBsfvtmXO+j+O337ANAuDU0dOP/vKJlvVNJEkuLiyFg2GcIFg1q9aqI6HI048+09czcHFWgwycLmdldQVJEWu1eqkExTCt0RCNJvM8v4bNXlXXQEApiiJfKJLk5de+9Q9emJoez+ZyM7OTf/v3/y8Mw6l0KpfLXug9Fwj6dTr96o2zuUye51AEZVVqGIZRFCUpinpzDXY+z8EQzKrUJElBEKRSsRRJF4uFSDQiSiIAgCQpVqW+8hxACIKqGLa0uAdBEBnIoiSuVHKFYBjDMOjNSTcoimo0WgAAhl9cBoRh+P59tyVT8cNHDg0N9fX2dRcKfFND6333fmX/DbdeKzN2P5HUao0sw8lk9uPuiEKh+JgJgsgXile4cXA5ODIwGglFt+zs6trRKQjC6ePnXj/0xh2fuU2tYcPByJkTZ3/9q6faN2+45c4b8/n8qaOnu0/3XOjuramvnp2aS6fS9U11N9+x3+a4ONoHQ5DZZq5rqJ0enx7qG86kswSBD/UNp1Pp2s42l7vs1w8/nc/ld+7dvnVnVyad+bu/+O75Mz2VPm9dU+223VsOPndoY9eGXft2uCtcoVLsCIAsy3Mz8z/8+39bXFi67a5b1m9sTcQSjz74+IM/fchqt27auhEAIInSxOjkV/7gS9V11cMDw//6jz9649VjbR3rneWXLqIVikIkHP32X/xDaQRXb9B17dj8hQfuvZLLVSgUUsnUn3zrG0deOXrohVdHBkf7ewbbN7UdePrFU8dOl7nKvvz1+7PZ7CM/f6z7dA+O49v2bOvvHeJy3IbOtk/de4dKzUDQxQ9KnudnJmf/899+gaLoDTfvXrehdXZ67uf/8eDjDz1JM3R7Z1tps3gsfsunbrr7vk89/9QLr738ev+FAWe5IxFPHDrw6ubtmz71uTsIghjqHx7qHwksBy1W89oGlAiCkAwdS6R5/kr/R33sroGAUpLk4pX9ifb198zOTRsMxvUt7RAMQwCk0kn/8tLS0vzJ00eNxrfNLDboTWpWsxxYGh0bdJV7otHw8vJSJpMuvcqyGgBAJBqOxSM6rSESDSVTCYKknA7XSlbLj5Isy9FouKa6Yf26Dpqix8aHn3r2sdn56dGxoc0dW7Va/eWbUFw1eb6YyV4zdyUUCsVVUhQEni9c4cZTEzPdZ3pQDO3c2lHuLnN7XeXusrmZufHRCZVa5V/0jw1NYBi29+Y9G7vaKYrctKUjl82VuZ3pVKbvfD+O4w6nrWldo0b3tgl2re0tg/3Dc1NzJ46c1Bt0i/NLdqe9vXMDTuC33X3L5m0dwUB42R8YGxov8LwkSziJW2zm6jrf4Zdf91Z6ahtqtHrtSkCZTmei4ej8zHzT+qYbbt7dtK4xFo7yfOGn//p/SjeFAQAIgjS1NrZuaK1vrkNRhKLJWDTGv9u4GgRDJElW1/lKMyBZDWt32pAry3NktpjuuvfOqpqqZDI1Mji6MLeYy+UWF5aWFvx6g65r+6aNmzfIsuyt9GAYZjIbJVk2mgwYjnkq3G0b10mStFL6MplInjp2Jpflbr3rpv237q2ormha1zg8MHLu1Pm52fn65rrSZhs3t2/a2qHT6+Kx+IkjJ9PJNM8XMIJAUOTc6fOZTLa61uepdH/5a1+sqqli3jEcuybyPC+K0tVo+Wq4BgJKURT5wmWGfEVJ9PsXp2cmMAzvWLfxvs99ufR8Npu50Nv9rz/63tHjr12yeKWmur7CUzU2MfLw4w+OTY4m4rH+wQuSdPE319y0bnhkYHxi5Ps//LuqiprZ+enevm6rxb5vz80UfZnbGSRBYhgeT8QOv3EIRhCdZg2ivaJQPH7yyNnuk1aLrb6uSZIlQSiiCEoSJH65le+Kq61YLLzru6dCobiuyLK88iHy/vg8Pz0xM9A7xOf5X/zol08/9mw0HF2YX+S4/Mkjp8pdZflcPp1KQzCk1WsYFc2qWVbNyrKM4VixKKAoCsEQiqEEQVwyX7Omzlfp806MTh47fEJv0MUi8Y4tG1vamgVB6O3ue+3g65FQRMWqGIbGMByGYQiCERTFcQyCIBzHCAJH0bca5Dk+ncoIgmiymLQ6DcPQRb5gd9oQGM6ms3kuDwCAIEDRFEWRFEVSNEUzdIEvSG/PN1mCIIjeoPvs/Z8xmPQAABRF1Rq2tNLosggCt9otpZVJGIYBGUiSlElleJ7HCVytVZcWx3grPTAMYziWzeYQBAEQhOEYSZFcjltpqlAoRsNRURS1Oq1Gp6FpCgLAYNRDEJTn8oU3vxIwLMMwNEkSajULw7AoSQiKuCtcf/CnXzv2+onlxeWAP9h9+vxRm+XTn79zfcd6/Vqnt5RlWZLky2/3W+MaCCgBuPyfqCRKc/MzkixVVvhKaXdKzxcKPAzBVZU1XJ4rVWI0GEzFYhFBUKPBtLG9K5FKTE6NTU6O6vXG1UUa62oat2/bjaLIxOTo8vISx3EWi62lcX1L03oCx9Vqrclo1mreSjNG04zRaNJp9TAMm4wWj8s7Nj48PTMxNVXRWN+iUWuNRjPDqCAYBgCoGNZsspY2pmnGYDBiOI4gCAQBlmGNRvNK0nWWYQ0Gk1ajhSHYZrWTBDm/MJtKpyiSIgmqs2NbfV3TZdcqKa42WQbX0JdIhULxsfMvLs9Oz2XTWUe5XRSlRDyBoIjZYvIvLp8/07Pjhm0IilA0JUtSPJYo8IVsJre0sDQ6NF5bX/3+a6I1Oo27wmU0GXrP96lYFU7g7gqXxWouFoVXX3zt3Onz3ipPY0sDy6qOvnbikn1FURTf/mmL4Vhp+XMiFudynCiKhUIhFAiJoqhSMxRNchwHAIDgizO2SlnEZVmW3y0QgmGYIAlfbeUli3JKZFkWRRHIYHVUt+LixLBVa8chANEqGsWwdCqTiCclSZJE6fzZC6lkyu6wVVS/e/5pAACCIDRDQzCUiCeymawkSYVCMRaJybJMECSGX5zJBpdWR0AAenNSmSgIEAQ5yx0dmzdks7l4LDE7NXf6+Bm3t9zr8655QHnNuSYCyisiSWJLU5vVYmtpXr/yJI4TZU7XHbd+ejmwRFE0QRCdHVuTyThFUaIoOh3lmzu2aTU6rUbbUN/y2pGDi0tzGIZDADgd5fv23OIu9547fyoYXDYYTC3Nbc0N68xmKwCgvraJpmiH3blyIFe5Z0vnDp1OT+CERq3t2LhFlKRQaLkUHTY0NKs1Gq+nAkNRAEBFhW/Xjn1lznICJ8rL3Z0dWxEEJQkKgqCqyhqe5zVvhqpVlTUQBBn0RgzDdu3Yp1Kpe/vPB4JLkiS3t3V2dW73VdVepQIDCoVCobhKBvuGZiZnNDr13pv3lLvLStPxA/7gi8++PDUxMzM1V1VT6a5wISh64Wyv0WQAMug+c/7wwSNf+59fbWiph2FYKIrRcHRyfKq2oWZ1yzAMV1R565trH/75YyiKbt+9taLKgxM4n8oM9g3nOd5XW9Xe2RYKhiVJLBYFSRIhAEoT8f1LgfmZeUl8a+6jimUwFLU5rNMTMxe6+wAAkVDk1LEzOEF4Kz0mizEWjX/4q0EQOI5jxUJxaWFpcmI6tBxc9gcuuxcMw2aryWq3+Bf8Q31Dfef7C4XiQz97mOPyO/dur6iugBEYgqBQIDw5PmUwGlaCXJqhq+t8Go16fHTy/JmeAl+IRmIjQ2MardpRZmfee00VzxeCy8HuMz1Wm7lrQ6cgiKeOnek73x+Lxt8ZAV+HPiEBJYZhW7t2be3a9c6XLBbbF+79ysrDrs4dpR+GR/pfPvT86PhwS3Pb7bfcncmkZUnCccJoMJVCNIvZZjHbtm3Z/c42b9x32yXPtLd1trd1rjzcuGHzxg2bVx42N61bvfHWzTu3bt5Z+nnD+k0b1m9aeWnblt2rj7j6IUGQW7t2bu3a+T7XQaFQKBS/zUphzejQeGA56PK6vvDA5w0GPYIiAIDF+aVsNvv0o8+Mj4z7ais3bGo7+Pwrhw8dGR0aEwUxHo+rWJW3ymM0GWkVIwjC2VPnc1nuD/7sawiC4ASO4lhp/M5b5WnrWP/rh56SZdC0rrGUeRFGYHeFKxyKHDt8Ym56fmF+MZPJohgqFAUYhimaIkji+OETeS7f0bXRYjPjBI6iKIZhBqPhlk/d9MRDTz744/96Ss3KshwKhNo7N7RuaDFbLRNj0zhBYCgKQzC4WMINA29GqKshCILjGI6/S4pKo9lotpqKReG1l45EQrFYNOZfXMZxHEVRAEEIgmAYhmFYaUcYhlEMxXAMQRCVStW+qW1xbunsqfMzU3PFQjGZSG7e3llVXQFBkFrNUhR59LXjeS7/5a/dDwEIx3EEQTRa9aatG+ub6nrOXfj5fyyyGjYeTWQzmXu++OnWDU0wAiMoQhB46Y45ABAMwziBYxiG4zjHcW+8epTLcr46H01ToUBIpVa1tDXp9Er13U9KQPkBOB0ultXMzE5d6Ot+4smHJFkq8Lzb5b1p3+2XnSWpUCgUCsUHw+d5b6X71k/d7PK6DAY9jFyMvQxG/U2378cwTG/QMyqm3F32nX/+m0MHXg0HIxAELDZL57ZNVTWVBEls29WFYej4yITNYWVUTGNL/ac+e0eZ21EqBc6omPqmut/7xgO5HNe1vdNsNQEASIL4yh98ucLnXZhbZFlVx5aNgiBEQhG7006r6K7tnQuzi4vzi2XuMpvDanVYb//0rbUNNTq91mAyfO53PlPKARkJRwmS8FS4d+3dbnPaZFkud5d95r67qmqrSgWyDSbDrXfdDACwOiyXnHV1ne/Wu27GCZyiL71lT9HU3ltuMJgM3ad7GBVz0x37splscDlUU19NELivrmrfrXsRFKEZGoZgs9W8Zcfmuoback8ZiqI33LTb7rT1nO2dnpiGYLi6ztfe2VZd50Mx7K7P3anVavyLy2XuMoqmWttbGJZpbKmHIEitUf/53/7pyaOnRwZHk7EkTuAbNq1ft3Gd1W7NZXPN6xpFUapvrmNUDI5j9jL77Z++1eUpL3M5DSbD9/79718/9EY0HJUkyVnuuPfLn928vVOruzZyj19VkJzq/rj7cBknzwx8+wfP/tM//mRtmxVEYXFxbmx8eHJqIpmK4zhuMdu8nqqmhhaGYZVEPIor99AjP50YP/HYg3/3cXdEoVB8nP75R48ePj34vZ98/322kWVZEqVQMFzgCzRDmyzGlZckUcrzfDgQRlBEo9UwKrpQKAT8wXwuDyBA0ZTJbCQpEobhTDqTiCVSyTRBEla7pcAXkokUSRFGs7GUaY7P8+FQRBAEs8VUygcpyzLP8+FgJJPOIAhSWhue5/Isq9LqtbIkLy34c7kcSZJqDUtQZCQYYViGVatKSSuTiWQ8msjn8wiCsGrWZDGiKCpJEpfjwsEwzTBanYYgiXw+X1ohbjQb6beXkEkmkslECoZhq93yzqzSeS6fTKai4RgMQ0aTQRSlPJdnVLTOoMuks+lUGoIgs9WMokieyycTqWKxqNVrGYaGICiTziRiyVQqBUGQRqvR6bU0Q8uyXOobl+MIirTYLLlsLpfJsWqVzqCTZVmW5WgklownC3wBQRGjyaDWqDEcKxaL6WQ6lUxrdBoVy8AwnM/zkWCEpEi1hiVIonTjO5/LS7JEELhWp9XqtVdj7lkmnfnavV/722/+7p6dG9e88avh+h2hRBHUVe6xmG3VvvpMJo1hmE6r12p1uLLGRaFQKBRXBwRBCIqsJI9cDUZgmqZc3vKVZ0iSdHtd79xSxapU7FulOhgVo3v7ihCCJC5JAwlBEEmSZS4neFcwKPeUrX6CWdUNGIZ1ep1Of+miEwRBLukJSZLl7jLwbjRajUb7nsN4JEWSFGl5t7rhGq1ao32r2CNFU5dUOywtgb9kLwiCaIZ2rbp6NE0Bk2HlVQiCTGajyWy8ZEcMw/RGvd74VnoWhqFXXw2KevdfiuL6DSgBABAEUxTtdnk/7o4oFAqFQqFQXMOu64Dy6ikKRVEQURRBELQ0j7iUn6xQ4HEcR64gNbosy6IoiKKEIAgEQTyfJ0mqKBQhABAEfa/RdUmSJEkSRQHHiXdOfP4oybIsyZIsSTCMfJj5A8ViQRRFDMPzeQ7DcRRBYRgu3a0oFgswjKwUKyoUCqIowjBErErMWcpDUSjwFzNPQQCBERwnYBj+eK+PQqFQKBSfJEpAeVWc6z45ONTf3Nja3NRWKhqZ5/Pz8zNPP/vYbTffXVfbeNkWRFE4f+Hs5NRYta9Oo9b95y/+7c/+5C9fO/wSjCBt6zrea1Q1mUpMz0z0D/Tcdce9LKt+120+GoUCHwoHA0F/hden133wguOvv/HK6NjQ7bfe/f0ffvvGvbdt2til0ehkWY4nYi+9/ExZmWfblotL+w+99sLIyMAli/qzuczY+PDTzzy25F/gCzxF0l5P5efv+ZLd7lTmNigUCoVCsVaUgPKqoCkGAHD67PGa6oZSQJlOpy70ncNx4grLf0MwbLc5CZwwGs2xeHRmdlIQiuFICEEQns+/116hUGBpacFssn7sySnT6dT5njO5XNZqsX/ggJLjcjkuyxd4nudn56ZePvQcwzCbN20HAAhCMRgOqDVacHGyeX58YmRgqC/H5SKRkE5nQBAkk0mPjg099cyj1VW1G9u7cBzP5bJz89PPvfDkTfvvrPBWreH5KhQKheKdZFnmOO5iDqCPBM/zoiDSV6cWouJ9XNcBZbFYTKWSC4tzkiQ67GU6nQHH8TVp2WZz2m3Op555NJ1JqVQsDMOJROxc96ndO/fnuNzps8fj8RgAAEXR+romvc6QyaSnZiZyuWw+zxEEabXYaqrroTcnDkuSxOU5WZYLQgGVUVEU83lucLg/kYjxBR7HCZvV4ausxnEiEPQvB5Z27dg3PTvJ8/lMOp3NZSEIqqzwhSOhRDJOkVRNdb3JaMnmMrOzU/7lJQgCJEnV1jQYDeZMNj001CdKUjaXIQmSZdUwBIcjIQiCvJ5Kt6sCAHlsfCQQ9OfzHEXRLpe3zOGKREPxeDSdScfjsaJQdDrKHPbyaCxy8vRRAIDL5eW4XFEoet2VBEFms5loLCJJUnmZe2i4j8tzHJcr3dA3Gc3RWCSbzajV2tbmNpKkAsFlAIDd5pABoGkmEPQPjQzYrA6vp0qW5UKhIAgCAECSxJm5qXyeU6s1GIb1DfR0dmylKHpxaX5g6AKX5za2d3ncFSRJpdOpoZH+k6ffEMQrqg6vUCgUn3ilpdkQBBlNhkvWu7wPjsvPTM5k0tn2zrb32kYoCslkamRgpLrOl0ykJkYnBUFAMQyCQIEvwDBc7i6rrq/OZXPD/cOJeLJza4daq0YQJJPOhIORYCDY0tY8Mzm7vBRQsaqVA02OTQWWg1XVlUaTAUEvHT1ZmveHQ+Ha+hoVq1pJyaT4CFy/AaUkSYtL87193WfOnRAEYV3rho72LrerYk0SBhkNJqejjMvnlgP+UonFaCy8HPRXVdWOjAyMTYzkslkZyKVYra620e9ffOKpXxn0hmKxyHGcw17msJfPLcxMTI7WVjcS5NuqdReLxVAocPTYq5lsRhRFURRpmvn9B76BolgiEU+mklaL/ddPPxwMLQvFIpfnItFwa8sGjsuFI0EERlKp5M4d+waGensunAuHAxiGFwp8oVBobdkQi0UeeuQ/3e4KvsBzXA7HcIe9PBINBUOBTRu3qFmNIIqvv3EoFosIooBh+PTM5G033zU+MTI8MhCLR2VZSmfSer2xc+MWhmHDkSAAIB6PLvkXotGw2WjBcSIWjw4MXigUCzar/YWXnylFzKlUMpGMNzW2ZrPZ5eVFhlEZ9Eavp2p6dgLIoKqiGoYgs8mi1erj8egbx1+zWu2rC3sJgnDm7AmdzuBxV0qS+Mbx11qa1pMkNb8wMzc/27VpW1mZiyQpns/LslxdVVsUilqNXpZlZRqlQqFQpJPpsye7WbWqdUMLRVOlSepCUUBQ5JLp5qIgSrJUus+Wy+bOnTq/OL/U1rFOEAQUQd8ZvWUymb7z/TOTM44yR/+FweefekGtYQ0mQylk5LKc3qh/4A/NiVjihWdeHuwdQjF0y47NFE0l48nhgZHu0+era33dp84fe/2EwWhwV7hKSeD7LwyePXnu7s/dqdVpEBQRBEGSJBRFSx8osUhsbGhcKArrN64rJeZUfDSu34CyWCy+eviln//Xj2KxCADg6PHXvnz/17/4+QdIcg3+/yEIotcb1jVvGBzus5itoigs+RervNU0RS8szVd4qvbsurEoFP/jJ///wuKcRqONx2P9Az3//P3/9Hoqnnrm8bPdJ2fnJmPxaDAUdDpclwSUHJeLJ2IMo7pp/x12m7O75/TffOfP77/vAQInJEksVQIIhYP5PLdj297KCt+Tv3nk7Nnjv/eVb9hsju6eM68cfml968bnDjxltdi+/tU/1umMv3nu8TPnTsAwrGY1Z8+fuu/erzTWNz/6xC8PHzm0tWvXfZ/78s//68eBoP9CX3eOy05Mjd5z9xdqqxuGRgb+5d+/29y4LhQK+JeXNBrtH/2PP0skEv/wvf89MTm2d/fN61s3AgDqaht7+88Hgv6iUCwlQovFozzPi6I4MNS7c9sNN+y+OZvLfvf7f5nNZO647TNL/oUz506eO3/K4SibnZ3W6/Qed2UylQAA7N6xb2Rs6PTZ4+ta2vX6i7fRZVnmC/zJ00d379jftn7jzNz0Lx/+2RfvfUCj0WWymXye87grMRQDAASCy/PzM6BUr1YQBEG4wukHCoVC8fG6uBKxUBRFsVQqprRe88O3LElSIp7sPtVd11Sb5/LFoiAKAp/n47EEo6IZlYogcRiGc9kcACCbyRUKBa1OS9EkeDPuTCfTiUSKVatUKgbDsZVeybIcXA49/+QLX/r6/Ra7BQBgsZnv/tydDS31BEkUC8Vzp7q/9cd/fePtezEMQ1E0Gok+9LOHa+qqL0l4BADIZXPJeOrQgVduvevm1RmCJFkqJbDkOZ7VqBiGQTG0qrYyz/NPP/qMr85HkB/z+tTryvUbUIYjQX9gMZlMlB5mMmm/f8HvX/Cu0dQ6rVbfuWnrM8//urW5LZGIzc/PdG7aqlZrt2/ZvbA4d+Cl3wQCS7193QyjkmWZIAiHo0yn0+M4qdPqTSYLz/OrB+FWU6nYmuo6SRL7B3pee/3lyalxURIBAIv+BRhBKjwX++8q91rMVgzDzCZrTXWDRqNTqdRaja5QyC8HlkiCsFrsBoMJhpH1rRv7B3oikZBBbzQZLQ57GU2rMAzXqDUedyWKYgzNpNNiNBaZnZtKpZIHDx04c/ZENBbJcbnp2YlsNqvXGWxWO4qgWq2OL/BcPneFV6nUycWlBavFXlPdwLIaDAviGF46fS6fgyAjw6hKASVJUu1tmwoF/pe/+umXvvj7pevD8/mlpQX/8uLQSH+e54LBZSDLvX3dalYNAJBlqSgUSxdyZGzw4CvPS5I0Nzf91d/9xpbNO5SAUqFQXBNkWQ4Fwq+/8sb4yITFat60ZWNjSwOErEGolEwkpyamL3T3z80sGEyG4HJocmzy/JkLWr02HAw3tjTs2rfdbLN864//GsNQFMNy2Zwkit/48/9BMwyX4wb7hv7+f38PhqFiUdixd9ueG3etvK9yOS4ejadTaYNRR5LvsghSBkCSxNIgqE6vLfeUa/W6wweP7Llp1yUn1tBSL4nSgadfWte+rqLK8+Y1keLR+IGnX/Iv+mEYScQTN92xv3VDi0ajVqvZRDwZj8bVGjVBrM1MNsVlXb8BJUlSOIYDcDFok2QJQVFiLYYnS2iKqayozmYzoXDA71+MxWMtzW15LnfqzDGOy5WVuX1VdYHgMkMzAAAYhgmcQFEMhmEMw0ickKR3jyYBAJlM+kJfd/9Aj9Fo9ngqCYIcHO6FIGh6ehzIoLKqurSZmtXQNANBMI7jKhWLohiCICiKSrJcFIoQBOEYhmG4JEkMw0iSVBQECIYxDCMIAkEQGIYRFCVJEoIgBEYgCBKEYqFQKC/z1NQ0GPRGnud9VbV1NY3DIwPZbIYgSAiCMRQupS66pM+SLAuCAIAsSeLqVymKJggShiECJ2iaQREEhmAYhgVB8PsXKZLWaN6qQIDASIXXl81mBwZ7T556IxwJ1VTXJ1OJs90nnY5yrUYLwwjLqhvqms92n6iprtdqdCyrGRsfrq9tIkmytrqBppk8x/3zv383z3OSfGknFQqF4rfT7NTc8ddPPPXoM7FYnGHoaDhaLBbbOtZ/+JYpijKajGXlDleFy+G0J+LJdCqz56ZdGq2mt7svk86MDo8bTMbhgeHd+3e1tjUn4omTR09Pjk97KtxCUWAYevf+HQRJHHrhteWlQDgYtjvtpZZj0Xg4FLE5rCRFleaSRcPR55564czJcyiKZrPZVCLVtWOzxWZJJVMohjrLHbv27Xjm8eed5Y5LErAbTQaD0ZDP51967uDtd99SelIUpemJmVg0VuZy+up8QX+wwBeKhWKpSKPRbFyYWzSajUpA+ZG5fgNKVqWuq21sW98xMjoEAKisqG6ob9Zq9Zfd8QqhKKpRa90u79jYcCqdNBpNRoN5cnpsZGzQYSurrqqFIPjYicOiKF0yElmaBfI+LaczqcHhvkQi1ty03mZzZDLpQqFQLBYXl+YNBpPDfjGhP4IgCIysavOt9rUaLQBQLB4NhQJqtXZkdIggCK3mMrXtSZIqc7pm56YddqfHXRmJhpcDSwzDou86zgcBGIZzXJbneQiCJEmcn59Rs5qFxdloLKxmaJrGAgAAIABJREFUte9/spIkjk0M63R6s+lt9STUrKaqsmZz5/bjJ17n8jlZluPx2Omzxzs7tlZW+FQqdbFYcLu8v/zVT/3LCzarw+uuPNN90u3yVnqrWVZd6fXNzk6hKFqK3d//fBUKheK3xOz03Imjp0eHxkoPKYqy2C1rElCSFKk36Kx2S1V1hdlqhmBIp9eSJJlMJPP5fDyWCPqDEARQFK1vqt2yc3MoEJqfXUjEE3yex3DMYrds3b0Fw7DRoTFZklPJtP3NUDARS8QicbPVjLw5t1J+89790oJ/YW6BUTGf+517DEZ9NpMFAKg16vZNbWdPdg/0DXEct/otGsMwR5ndbDM//PPHBvuGIuEIAACCIJzAURRNxJNBf5CkKZqhSmt0cAI3mY3LS4HqupzecGmBH8VVcv0GlARBbFjfSeDE4TdeAQB0dW5rW7epNF64VlAU6+zY9uLBZ2maaWlqA0CWJEmvM6hUKi7PpdOpTDYjSSIMwRiGq9Xa0t8PjhMMrcIwjCBIhlHhOIGhaGllD0OrEBjBcZwiKaA1wDASCgWXA0satTaXy+b5PIETaladz3MqRkUSJIzAMAwTBEnTTCnFOobhWo3OZLKUOV3pdPL8hbNms/VC37nyMrfHUwkBUDoQAIAiKbVag8AIgABJUUWhYNAbK7y+iamx5YAfhpHlwFL/QE9HexeO4TTNrKQTV6s1NMXgGG4wGCPjoVg8QlG0TmvoGzgvA3l2bprnedpMQxCk1ehwDAcAIAiqUrE4jpeGSGmakWV5fn6muWm9xWIFEISgKMtqSpGrwWDct+eW8+dPwzBUyg2USiU72rvcLi+OE7IsZzKpAy89E0/EfVV1jY2tF/q6z50/HYtFVSo2k03PzEw6bGUGvRHDlK+tCoXi2sBx+XQyveohl06l32f7D0aSJAhAHMf1ne/LZHL+BT+AgKPMDiBIxapYDUuQBAzDBHFxYiJFU2qNupQdhSRJSZLkVffWeJ7nOI4g8JVRA61Os333lur66onRyTMnzhUKBbPVtLJMG4ZhtVZ92903P/HQU5lUuuztJRxZNeuudJ89cW6ofyQUDJVuozldDovN0t8zMD+7YLGaK3zeqpqqUlMESWQzWaEorPlVUryX6zegBADYbQ67zbHvhluvUvsoira2tM3Nz+i0uubGVhhGfJU1zY3rTp87MTTSX+703HLjnTAM0zRDEMS65g0ETgAAzCZLobJGrzdgGAYByGyyqFRsZ8dWkqAqvT4Yht2uCle554mnH372wK/tVkeZ03XP3V/I57lyp8tudwIAEATxVdaazRaKpFAUc9idGlbD0AyGYkaDaV3zBoqk77z9npOn3jh+8vV0OlVb27hz+15Xude/vFg6EACgvNwjA5kkKRiCysvcHMc5HWUul5fL546feP3k6TfMJusX7/tqVWU1gADLqjWai98CW5rarBY7y2rWt3ZMz0yGwkFfZa1Oq3/+xaenZ57YuGGzq9xL0wyKou1tmwwGIwCAoZm6mkaT0YxjuE5nqPBWiaI4Nj5sszr0OqMkiSpG1dK4TqfVAwBQBDXojfd/4aszM5NajQ5G4Bt23WSzOkqJyiEIIknqjts+LYqiKIm11Q3f/NO/Pnzk5Z7ec4lknKGZqorqb/4/f2W12pXE5gqF4lphs1ur63yDvYOCKMIwbHfavZWeNWwfgiBRFLkcd/S142dOnP3jv/ijqurKMye7e7t7AQAQADAMQ+C/N2UTJ3CKIjOZ7MpNOBRFNVqN0WRwlNmLheJrL7/++C+f+OoffWXlNh2Kos3rmnq7+08dOzM7Pe96e3lxgsA/96V7vv83/9TfM1hR6ZFlmcvlt+zYvHv/zjyXP33izMM/f9RRZrc7baUaaYyKRrHrOsj5iCnX+uqiSHr/3ltRBGEYFgAAw0hX5/aW5g2SJOIYTlE0AADDMAiG9TpD6aHb5bXbnARBiBbJ7arAcRyGkU/d/lmGUbWt74AAhBMEkMEXPve7xWIRw3Acx4EskyRV2hgAgKLoxvbNKIqWCjBWV9WJkkiRFAwjTqerdCCSpLo272ht2SCKYmkwEoIgs8laOhAAoKG+xVdVq1KpIAhuqGuWJKlU+bC5YV2Fp6pYLKIoplZrMAyv8FS5yjwrMx1v2H0ThmI4jjud5fff93skSZIEKUmS01EuSRLDqErlEzEMv+Wmu1gVCwDQanVdXTtIgsRx3GZ1GPRGGciN9S0sq4EgCEFQrVa/e+f+UscAAAiC1PjqPa5KFEURBHGVeehVQ8soim5YvwnIoDQZVKPW7t6xv7NjuygKMAyTBKlWa1BUWY6jUCiuGb7aqtvuvgWCwMjgmN1p27l3+6YtG9eqcRRFGZaZnpgpc5VxXF6WgVAUpidnzhw/s+wPNLY0fLBm1Wo1q2bHRiZE4V2GCVvamjgu99N/+fn2G7ZfsmRn9/6d0Ujs2OHjlwSUEATpDbotOzcHA6F4LC5Jkn/Rf/r4ObPFWFldIRRFjVaD4TgAgM/zy0uBxtYGJb35R0kJKK8iCIIQBDHojauf1Gh0K4N5q5Fv3jImSYok30wt++a/JpMFAKBmNSvbWy32S1pYCaogCFarNe98vnSUlQNpNTrt23uC43jpQAAAFaMCbwZwK5EcAEClYlUqdvVepTh4xUpdHJIgbda3Orm6kRKjwVT6AUWxlZ4QBEIQBAAArDpZDMV0q8rtQBBE08zKedFvn6gAQfDqC4WiqE5n0CmzaBQKxTWLUdFVNRWfvu+uaCSmYlV2p02nX7M3Na1O07W988K5PkmS6ptrWVY1MjjGqhlfbZWjzK4z6BAU3dCxzmDSAwBIivRUujU6Dathy1xORnXx/b/MXSbLEqt+633eYDKYrWb/gj/P85Ik2Z3WusZarf7i5C6dQdfY0rj35j2pRIpx2LyVHo7jSjtabObN2zpUKkajVWM4ttIyBEEYhrV3bshmcovzS3qjnmboSDgWCUXGRyZhGPr0fXe5vOWiKOZyuVAgVO4uU7FrOY1N8f6UgFKhUCgUit9qEAQxKqamvvpqNM6omMbWBpwgDCY9RZEVVd6leT+jom0OmyAKkihhGLpr/06r3VLauKG5DidwRsWgdb58/mIpYF9tpSwDjfatL/MMQ1tsZqvDurTgZ1mVp8KtN+iNZmPpdhaKolaH9eY7b+RynN6o0+o1wpsDmSiK1tRXW22WoiAQBHFJy1a7ZcvOzbFo3Gw1s6yqvbNtacGfSWcYFVNVU8GybDwWj4ZjjnKHwbRm1e8UV0IJKBUKhUKhuH4hKKLRalZXUKyu812yTfP6ptIPJEWWey7mElmdY3wlW9AKCIaMJsPufTvnZ+btDpujzG6xWVZvQFGkp9L9rl3SaDUrEeQ7W3aWO1aSn9scVpvjbclAQoFwMpHcc+MuSimT89FSMqcoFAqFQqFYe1q9dvO2TUAGoih+ZAcVBIFh6K7tnUrdxY+YMkJ5FcmyLAjC0tI8SVFmkwWGL61hDwAIBpcRBNVotO9TtYXn+XAkODM7WSwWjUazw+Y0vDn78L8llUrkuBzLqimSVrIwKhQKheJqIyhi1/4dH+XimKrqSk+F+52FxRVXmxJQXkWiKA6PDhw89LzRaN7atbOy4l2mv5w8c1SlYtvXd2reI6/45NTYhd7u8clRm9WOYdjwyACAQHtbZ1PjupXlNVdoanpiemayqbHV7fLCsDKzRKFQKBRXUal0hVZ3maoZa4uiqctvpLgKlIDyKhIE4fTZ44HQcjKVYFn1SkApiALH5WLxqIphJ6bGLCZroakgyzLP5+OJeKHAkwRpNJphGI4nYhf6ui/0nXOVeyo8VQRJ+pcXZ+emD75ywOupggAQRbFQLKRSSb3OQJIkx3GpdDLP53VaPatiMQwvjZKGwkEEgRcW52bnptwu7ztLIyoUCoXi+pTP54PLoWQiJYkSAACGIZzAzVYzq1a9660zWZZzWS4WjTEMrTe+VV6Oy3GZdIbnC1a7BUVRAECBL8SiMQCAVqe95AZ0KpnO5XIMQzMqBgJQIp4IBcPxaBxBUavdYjQZKJoSRXFmYkalVml02pUJkQtzixiGaXWaQqGwvBiwOW1qDbvSq3QqRdHU6rVB7y+ZSEbDsVQyDQCAYEDTtEarMZoNpVA44A+mk2mXtxzDMQiCBEHMpjOB5aCn0p3N5DKpDIIidqet1FQmncmkMxAEG02GlWztK6KRWC6TszosKIq+fzG8a9d1HVByeS6dSiaScQCAWq3VaLQUuWbfbCRJyvPc4HBfY31LLB4dHhkoFPhS7exwOLiwOBcKB3VaXTweNeiNkiRms5mZ2alQOJDjchRJuV0VrnL33PzMzOwURVFf/PwDOE7AMFwo8CNjQw8+9BOhWIzHY9FYOBqLRGPRpoYWDMUisXAoFMxxWa1W56usNZssgiDMzc/OzU9jOL7oX8jlsmt1ggqFQqH4BMikMudP9ywt+BEEQRAYgmGSJBzljobmupVF2atJkhyLxnrP9znLnasDykQ8OTs9F4vE9IZtpYAym82NDI4BABpa6lcHlJIkLS0sLS8F6hprKYqKhqMTY1MzkzOhQBhFEafbWddY6/a6YBg++tpxg9nQvK7J5S0vxWG953pVarahpT4ejR888ErXjs21DdUUTZV6NTk2aXPYrjygXF4K9Hb3BZaCBEXAMMyoaIvVUl3vsztsKIaODI6ODIzuvWVPuacMw7BisehfChw5dOTeL312cW5xbHgcxdC9t+whCAKG4XAoMjs1h6KoWqum3hlQhiJLC34ZyKWW//u/pWvAJ/OsrtDU1PjLh5578jePAABuufFTt91yd0N981o1XiwWwuFgKplorG+Zmp44233Cv7zosJfzhfzzLz79xtFXtmzeeeLUG/39PSajJcflZmanfvyzH9bVNtIUs7A45w8s/eAf/mNsbIjA8ebGdSuZKXGcaG5c90//+BMAwOmzx5974cmR0cGa6gaGps92n0ymkmaT1WgwPvTIf9607/bdO/en0sm/+4dvNTetR2B4YKhXKAo37rt9rc5RoVAoFNe6VDJ97lQ3jCCVPq9Wry0WiuFg5B//6ge/9z8f2LVvR2n8bzVZlqLhaPep88WC0Nr21odmIp4YHxmfnZrr3NpRmjSZy2SH+oYBAC5Pucn8VkrmPMf39wzOTM3suGGbJEqPPPj45NiUp9K9aWtHIpp4+rFnBnuH7rznNk+l55WXDqeSqXu/9Nkyt7MU2p491W22ml2e8qUF/+P/9etwKIxin2pqbSz1auDCoChKV55faXF+qa9nAMfxWmc1kMHk+PQbrx5TsapvffubBpNhsG/osV8+EQ6F//DPvq4z6IqF4tLC0ovPHrzjntvmZxeef+qFTCZb4fNW1/pwAg8HwkN9wziBN69vfOcCc51RHwiEfv3w01/+2v1a3ZXGu9eW6zegTKWTx04c/s3zT6TSSQDACy8/o9FobVb7B1vv8k7xeOz4yddbWzaYjBZJkoKh5UOvvXjPXV8YGu6XJWn3zhtvuelThULhh//6HRzDYQhSMeyX7/9amdONIMj5ntP/+uMfCIIYiYW5PEeSF/9rHj5ycGJylOd5DMN27djLcTmzyWo0mO+5+ws0zSAwQtGM11NV4Hn/8lI2mx0c6pNk2WEru/uOz2k02pcPHRga7luTs1MoFArFR0mSpGKxmE6mKZoiKfKdA4cfBozAldUVnVs7LDaLLMvZTHZhbjERT4QCIYomE7HE+TMXcjmu3OWsqK5Ynb38gzl/pkcQhHUbWgVBOH3sbDKR3Lx90+79OxkVIwqiRqeen1mYn130VHoAAARJTIxOHHnl6K59O1Y3giCwr843cGHI5XGVucpW96pQKERC0QvnenM5zuG0VfgqLDbze3WGYShfrW/Lzi6SIrZx/Mjg6EM/e7jnXO/6jetomsJxfGpipudc77r21kuuud6gy6QzP/7hz7717W9ekhEpuBwcH5lcXlqmGXpDZ5veoNPptDq9dnZqNhaJ0gz1iUyQef0GlOl0KhgKRCJhAGQAQDQWCYUDqXRyTQJKWZZi8cjrb7yi0+qfPfBEPp9fXJzL5rI3778zEPIDAJyO8lKdGKPRTFIUBMEwDA8M9vb195AEGQgti4IAgKxi2Hw+XygUSs2q1VqLxRYI+Ht6zzXUNReKBVbFMrTKZnUAIAMIGhjs7ek9B4DsX16025yJZBzDcKej3Gy2ajU6p7M8Fot8+LNTKBQKxUcpk85MjE0deOqFWCTOsHRH18aOLRuNJsPl97xCMpBlWZJkWZL4QiG4HAosBxtb6zEcm5mcffLhp91eF0lT3Wd6+noG7rjntg85EX+wb4iiyJp6nyiKQ/3DarXaW+kxWy/GfE2tjWXut4outnduEAXhxJGTdU21q4c5YQi22i0WmzkUDL/20uHbP3PrykvLi4FHH3zc6/NiGHrhXN9g3/D9X72vNA/ynZ2BYYRmKLVWzTC0LMscx7m8rsmxqarqSgRBrHbrrr3bDx14VavTeipcq3e02CwESWSzuWOHT2zd1XXxQspyOpU5cuiNXI4zmg3RcPSJh5688bZ9FT4vy7JWm2VsZILVqFefyCfG9RtQEgSpVqtZlk2nUwAAmqJZlfqSKoIfWDqdCgSXs9lMR3sXy6plWcZx4uy5E7OzU6W6AqJ4sSSADAAAIJtNDw73JVMJndbAMCqSpERRBDJwlXvCkdDE5GhX53aCID3uCrPJMj4xcuTYq1yek0QJRTGCIGVZTibjU9Pj8UTMYrZCMIRheGlOMZDlolAAsgwAALIsXzygQqFQKK4ZczMLh18+8swTz2czWZzAk4k0zdA7925fq/ZFSRofmRCKAkmRuVwum866veVV1ZWyJI8Njw/1D9c11GgNutmp2eWlwNjwOPzhlpUsLy2Xe8rNNrMsyaFA2Gw1saturKu1arVWDQDIpDMAgMpqryzJwwOjrxx49fZP3yqvfIhBEE2RzW3NC3OLfT399c11xWKx9EoikTx59JTNYbNUuCRRkiQJXFl/IQgiSdLusAaD4Xw+D0GQ3qjbtmfrUP/wYN8Q+vaZkSpWZTAZ9AbdqWNnbA7bxUo/spzN5Ab7hkma9FS6tTrt/MxCaY0ORVMur2t6YsZXW6UElJ8oep2+2lff1NA6OTUuy3J5mdvnqzPo1+Z+93LQv7g0X1VZ85m7v1Cq5T01PRGLhXv7z5tMZgiCFhbnQ+GgUCzGYhEVrUqlUj0XzlZV1nR2bFWrNee6TwmiIEqi1105NNw/OTU+NNxvsdhQFJUkSRRFkqBIguT4i5VPZVmOxaMTk2OVlb6b99+R5/PBwDIEwxRFowji9y8sB/15Pr8cWIpEQmtyggqFQqH4yMxNz/WcvVAKsPg8Pzk2NdA7tIYBpSxJgeUgz/OiIMaj8WJReOAPv+yrq1qYW1ycW9TqtCiOybKs0aq5XH5uer7M5XiPliBZfr9hC1mWZVnm8wUAAEmSXI6DoNLTb20jimI+z0uiWBpQxHHcV1uFoOhzTx7YsKmtwPOrG6zweRmGDgfCh19+vbahRpJkAABB4GaLORFPpJK6cneZ0Wy88tTL0KqOlo5ud9q6dmzu7e5DEaQU6a7QGXQ7bth2/MjJ0aExiqZkWQYAgmGIVavyeT4ZT5a5y9o2rdcb9LIs4zhmNBlmJmf5PP8uB772Xb8BJQwju3fsq61pOHnqjUKhsKlji9dd+T7Zxf9bpqcnJ6fGuzq3ryym0en0mzq2PfXMo79z31czmfThIwczmaR/2T803Gcx2wiStFrsZ7tPZLLpfD4/NNxHU3SxWCgv82zfuifP5//4m7+/vmWDSsUuLs1Ho+GGuma32zu3MFtqHIIho9EsCMX+/gsAQPFErPv8Ka+3atPGLr3O8NSzj/3qkf9DEMTM7BS4wq9pCoVCofitIUnSSqlrAIAkieKqhx8ehmH7b927ddcWk9l44Vzv3/75d0LLoXye57JcPJbIZnNjQ+MESQAAnOUO73vUS4RhGIZgUZTe/0YYn+cRBMZQFAAAwbDVbs1lc7nMWxlIuBw3PDCSTKQ2bdlYesbutOM43n2q++CBV5YWllffEAcAbOxqBxD03b/8nopV8TwPAPBUuP/iO988+Nyhpx75TSQcran3/fnf/JlWr72Siad8oRAKhi02C03TKxfnptv3D/YODQ2M6A261RsjMKzWqr/4wOd/+dNfFfhChc9LkITZavrs/Z85c+Ls8ddPDg+O2Oy2P/jT329tb0FQRMWqgCy9f8x97bp+A0oAAIbhDnvZjftul2WZoRkMW7NJstXVdXq9ocLjW8k9rmbVnR1bKJKqrKiurWlsaW5bXl7saN+yf++tNqvD4Si3Wmwjo4N8gdfrDDftuy0cCbGsRgZyRYXv88Yv7dm5PxD08wV++9Y9Br3RbLYaDSaCIK1mG4bhEIBUDPv7X/mGP7AkCIJWq7vxhlv5Am+z2A0G0//3ze/Mzk2hKLZrxz6aYpxOF4quTdysUCgUio9AXWPtzr3bRwZHC3wBhuH6xtrN2zZdjQOhKOqt8nzp67/z1CO/MVlNVpul3FO+tOC/5a6bdAbd6NDY4tzSe+2rM+g0OvXIwEgmldZo1RAEJROpgd7BG27azaiYlc0IkhBFqSgIAAAURdo2rX/0F48P9g9X1/tK6X6OvX5iqHfIaHnbDUOrw3rP/Z/54d//y/zsfOuGltUvUTTlq6m87dO3vvjsQaPJ0NjSsDC3+OqLr+295YYbb9/3+itHx0cmRgZH2zrWI9RlAspEPDk5NtV7vv9//eWfGM1vTVGFEfjmO2985onnDh54ZWWZbAmCINV1vqbWhtdfeePcye5te7YuzC3OzSyUu8u37Nwcjya++1c/iESiHJcv8IVQIISTRCmn0ifPJ/OsrhAMwwROEDix5i3bLHaD3qRiVCvD7AiC6rSG9a3tNKPCMUzNaqwWG00zQAY4jhMEqWJUBE7wBZ4iaZKkyss9BEEiMIKRGEkQBr3Rbi8ThCJBkAzNEAQJANBpDWpWU5oriSCI211pMlsLhQJFUQRBFgo8hmIEQXrclVqNDoJhDMMwFENRVKm7qFAoFNcQm8O6c98OmqGXFvw6nbZpXUP1FWfG+W+BYEij07R3tp0+dubCud6Nm9ur66ounOs9+PwrKlYVCUUwHOva0RlaDoWD0RefeWliZKK04/qOddV1Pk+F21Ph/sWP/0tv0IuimIgn1Bp1XWPtyp3i0geWTq+VRSkcDBtNxooqz/r21omxyX//wU8MRn0umwuHIt5Kz4aO9as7RpKEt9Ldtb0z4A+uzJUsQRDEZDHt2rejv2cAQWAERWRZXvYHXnruIKtWzU3PwzBssVmXFvz9FwbK3WXrN65bvXs0EnvuyRd7u/sRFBUFAYKgnTdsd1e4VhJnlu68V/i8ja2NczMLocDbZo5BEETRVNeOzUsL/p5zvRAEqVhmYW5hqG9ocsxcLBZVLKPRqHEci0fyi3OL5e4yFfthl8n/drquA8qrh6Jo6u0p0ksxn15vfHMDiqIunYOi0731fYggiFX7whiGm4yXZj3AcRwAfPVDHH8rx+xKoIwgiPEd+yoUCoXiWkHRlKfCZbYYA/6gRqvR6jTkOzIdfmAqtaq1vcVZ7qAZCgCAYZjZYtp9485oJKbRqq0O68bNbeFgNJ/PqzVqi91sMhslUWptawosB1e3gxO4s9yx68ad/T0DPM+LoqhSs+vaW8tcTpJ828CNt8qTSWdmp+ZMFpNao97Q2YYgyPTkTC6X43m+3F3WuqHZV1sliuK2XV1lLieGoTAMUzS1bffWPMeXuZ0qtcpiNTWtbyrVdSQp0lvp2XPTbqFYdJY7tDptQ0tDOBThuHyp7o7daQsHw3PT88TbxxdtDmtTa8P87CKKobIMCJIwW82btmzU6rQIglT4KrA38/swKqZ5XSMA8tz0PEVRznIHQRA6w8Wqku4K15adXXqDrrrOpzfqXZ7y+ZmFPJeHYKhrx2any4miKMfl/YvLHVs2vjO15ycDJKe6P+4+XMbJMwPf/sGzpVTeCsVvoYce+enE+InHHvy7j7sjCoXi4/TPP3r08OnB7/3k+x93R9aYLMuZTKbIF0mKLGUsf/+NeZ7PZXMQBJMkSdHvEviOj0z0nL0gCMJn7/8MDMMQBEmSVOALqWSaIHGaoT/8eoZL+izLcoEvHD54xGwxre9Yd/n9P7RcNsdxeRzHGBUDw3BpYuijDz7xv/7qT4wmIwRffj1DJp352r1f+9tv/u6enRs/gg5/eMoIpUKhUCgUivcEQRDLsuDKhtVKmXcumWh4CV9t1cTo5MjgWDaTU7EMBEEwDJMUuYbDrpf0WZbleCxR31yn1qjfd781QzP06uB7dnpuYW7xhpt3M6zqSqLJa5ESUCoUCoVCofhItXe2Vdf7JEn8aJY8QxBkMOllWUbgtawwdOX0Bl1dY63Vbr3k7v8niRJQXi3B4PIrh19ceYjjuNFoaW5o1Wh0y4GlyanRSDRyw66bWFZdWiJTLBaOHHsVQ7EKr89uc6TT6fMXziz5F/gCr1FrfZU1tTWNBEFMTU+Mjg/F41EAAATBrIq12RwNdc0EQSpLbRQKhUJxTdAZdKyGhQD00XxyQRC0VmkBPxi1VkMzzIevWvnbTAkor5ZwJPTsgSfXt7aXRv4lSZqbn81k0hs3bF5cnDvyxqsTU2NVFTU+Xy1N0YIgRGOR5w48qdPqCZxQMaqz3adGRgcLxQIAIB6PLizOEgTpcnmnZyaOnThM4KRarYFh2L+8ML84m81mNm7YvFZlfhQKhUKhuKpQFP2kZs95VxRFAurym13TrqNf5zvJsiwIApfPARmQJIVh717o84MpCsVsJn3zjXeajRYAQCQWPnrstedfeMphc2Zz2UgsnEzG+wd7zGYLTdEcl5uYHJudncpbuWwuG4qEnnvhqfa2Tdu37NHrDeMTI488/ouRsUF/2jDHAAAgAElEQVS93pDOpAShuHvHjTW+OhiGhscGu8+ffuKpXzXUNfMFvsDzsixLkmQyWfJ5LpNNFwoFBEG1Wh1JkMVigctzsiTluBwAkEqlUjHsdfUnrVAoFIpL8Hk+GonpjTocx698vDAaiSEIrGJVV/ghUiwWs5lcNBJFEKS0CgfIAMMxg1FPkMS7HlcSJf/Sskarphl6dU7yWCTGcZyj7GKmFFEUuVw+Fo3ZHf+XvfsOjjM/7wT/vLFzzt1AI+ccCIAEMzk5aYKikxxWK5ddZ1d567b26mrPt7d357PPsm8tWbZkWZIVLWk0MxpN4jAME4icASLn0Aidc/cb7g+MOCQHmEA00Wjg+dT8McD74n0fgB2+/Ys2mrmnmHg8EYvGAES1Ri2Kos/rDwWCiUQSACiK0ht0CpVCFMWAPxAJRQwmg0wu26ot4A8IvLD15ZprXalSqtQqlmXuVKU36D48P0kURYEX1tc2NDqNTCZNYaLICIc6TPA87/Fs9g12C7xQXVlntdpTmK4IgqBo2mgwmc1WAFCp1ALPX7rydjQWBQC1SlNb0zg00l9f12S3ZfkDvu6ettKSyq3HXyIec62t2CwOtVqtUqlLSyv/8Mt/EotHt1YComlGp9WZTGaJRKpUqUGEm7eucjx37ebl6ZnJZDIRCgX/05//r0Mj/dduXJpfmNVqDZ994bfKSysXl+aHRwYisXB3dztF06dOnDt94vydlYwQQggdQovzS9/5xve+/NXfyclzfvJpMa/97HWNVn3m0VN6o/7jzwZwb3jarrX/y9f/dWvHmmgkKvCCLcv2lf/pD4pKCredPB6NRv/6f//aMy8+efRE891rN77+8hv9PYN/962/ef+0SLS/e/B7//yD//v/+2+me5dDX1lcGR4cFXj+2Zeejsfib7761qW3rszPLhAEodKovvwff+fE2ePJRPKNV95sv9n1lT/9g4aWeoIguCR36a0r4VC4pqGaYZm/+t/+39PnTz769Pksp+NOVb/7H77UeO9KmQAgimIwGPzG3/7Ti1/4TE1jNQbKQ+Tq9Yuv/OrfR28PiaKYn1f40gu/9dj5p8gUjdgVeD4cCt68dVWn1XNccm3d1dXTXllRazKaF5fmFXJFVlbOu5ff8vt9PM+HQsHRseHGupZNzwYAmM22555+6Qc/+Zc33n4lP7+oIK+4tLg8K8upkCsAgOOSXp93Y2OdJInh0YGunvb8vCKaZrq6b4VCwaMtJ+02R0fXzeHRwZLiihee++LyysJ3v//N3/vt/xCJRoZHBzgu8Ye//yehUHBgqOcnP/v+n3z1L1Ly+yKEEMpEHMf5fL5kkvtUs2NCoRDDMoIgfMLzeZ4HEC12y5/9z3+iM+gEQVhbXX/vwtXXf/HmZ3/7hZLy4g//iCiKXrc3Fo0L9+7mGA6FfR7fnS8FQYzH455NN8/fX8yVd68qlIpT507EY/Fv/8O/xqKxF774mZLyYlEUpydn33v3ajKRbGo9EgyEpsdn3vn1u1K5rKq2QhTFSCQaCoYT8QQAuFZcv/jRy/Ysm06vVSgVW1VtHboPQRBSmbSmvmp+dkGpURWVFHzCP87BcHgDpcfrHrk92N3bsTXBJRgMVJTXNNQ1m02WlFxfBDGRTC6vLPr9vuWVRbdnMzsr5/ix01aLfXFpnqQouVxhtdh8Pu/i4pw/4JPLFUqVyhfwAoBGrT1+7IxcpvD63LF4bGxiZGC499Txc5UVNQDg8/uu3bg4PjFCUlQ0GlEqVU2Nx+RyRSAYMOiNRxqa5XLlT372PY1aW1pcXlBQrFZrKPrl9c21WCxKUVRBfkVebgHP8yOjA1MzE9FoBCf0IITQPhcOhWen5paXVvR6XU6+02xN2XYVoihyHA+iKArC1NjU7ZFx94ZHEIWyytLi0kK1Vu11e29d63C7PTzP63Ta2iM1OblOnhcEQeB43uvxXX33WnF5kd8X8Lq9J862KpSKRDwxOnTb5/Wffez0ndsAAMswDqfDZDYCgEKhmJ6Y6brVE43GIuHI8uJK161unuMpmi6tKC6rLAUAjuNE8f6YyN+7s/nWr5BMcgAf5E6BF1aXV4P+oMls1Og0Hre3t7Pv/JPnGprqbA6bCKJOrw34/Garmed4ACgsyZ+dnh/qG7I7rEqVUuAFQRBEUdzqxXbkOgf7hoxmw1arJMdxgiDeXTNJkSXlxWVVZVKppKah+u3XL8gVcgyUh0UsGvF43FtpEgCCoYDP5wlHQgCpCZQEECzD2q0OjUYbi0WDoYAoinm5BUrl++32NE3XVNVvutd7+7somq4oq5ZIpAAEz/PRaCQUDj75+HMer3t5ZXFmdqpvoOu96xe3wi4BQBAkQRI0TWc5nNlZOTVV9VKJVBQFo9FUkF8SjUVXXSuF+SVWq10qkRoMJrPJEotFw+GwQq4oKS6XSmRSqVQqlUWj0XgizkoO7CoGCCG0Z7Z2RHsYV/a4vWMjY2+/dmFhfslg1LeeOtpyosmeZU/tXVzLroHeobHRCa1Ok0gkbl3v4DmutLLk9vD41MS0KIo8x2+ubXq9vs//zmcBgEty666NmYnpmam5rBzH8uLKxOiEzWErry5dWVoZGbwdjUQ/CJQAPMf7fYHB3iGtTrM1onFtdc3msMoV8pmpuZ72XteKS6VWRSKRZDIpiuK2zZafEM/zt0fGWZbRG3SiIGysbUQi0Zx8p81hI0iCAMJsNZ86f5KmqXAoQlFUcVmRe8OzMLfY2dZ96pETd2dThqFPnT8xOjw21D9iz7LdWclyddk10DM4NT5tMBqCgaBEKjVbzdk5Wbn5OQFfwLW6Fo/FJQ++SNDWpspkBnWbH95AKVcojQaTXmfw+jyiKKpVGp3OoJSnbEo/SVEKpfJ46xmrxV5b09jeeeO7//ZPRxpaZLVHtk6gKKqmuuHi5bdGbg/mOPOOHz2zsDQLABzPLS3P//zlH/7B7/2x3ZZtt2WVFldk2bN/8JPv+AM+ADAYTM8+9WJlRc3Wjt5321oelgCQSCSJRDyRSAiCwCWT8XiMomiapnmej0TCoijE4zGe5xmapkiKgMx5wCKE0H5FUxTDPJR31ZnJmTdeefsXP/rl1peb65sUTT332RQHyoHeoYnbkyq16jOfezYaiX3jb7/JsozRbHStrpVXlxUU5ScSif7ugTdfe+fZl54GgI2Nza5b3VcvXv/qn/9RSXkxTdNet/fWtfb8orzhgdF4LF5UUnj39bkkt7G+ee3idVbKBgMhn8eXSCS+/NXfNZmNb7zyVtu1W5/77RcLSwrmZxc7bnZdWbu2y0A5NTalUCl1Bj3HcQF/wGAyyGSyuxcVtzmsAJCIL28txn7m0VMjg6NX3r1aWlG81Wy5haKpyrrKZJJbW11ru9p+7okzW62ta6vry4sreQW5zSeaXMtrPMeFQ2GCIFgJK5FKE/GEz+u32B64IVkUBUEmlTykjygPw+Ht6NRqdCdPnHv26ZcYhqEo+sTxs60tp0wp6u++j8loqalqONJw9OVXfzw7P731TYqkCgtKwuHQ5NS4x+MuK6tkGRYAJKxEFGFgqPetC68vLS8kk0mP19030G2z2BWKT5R3KYoqKSpfXJqfX5jhuOTG5tro2LBcrtDrDP6Ar7PrZjweW1xe8Ad8SqXqzkKYCCGEdoNhaAn7UBY7XFpYvj00dufLxfml4YHRlN9lbmZ+enJmpH/463/zj9/5xr/OTc/5PD6e4x5/5hGBF9761YXv/OP3f/WLN4L+oCgIAND23q1f/OiXBqO+pKxYpVblFuTmFebefK8tHouNDIwCQE1D1d3XpxnaaDK0nj529ESLTCYFAr76519pOnZEIpGsu9ZHh8cuvnX5n/7+27/+5Rv93QPLi8u7+V1EUfT7A0qVQqVWEgRBUiSXTIofOeKzsKSgqq5SwrI//+EvQ6HwfUcff/ZRhVJx8a3LG+tuXuABIDs3y2AyfOvr//pX//VvhgdG9EZ9XkHu1slKlYLnOM+m54HrF3iOi0X0OrVEks7lMz+Vw9tCCQD5eYVf/NyXTx0/zwucxWyzWlL5aU8mleXnFtL0+w8Fo9H89JMv/OBH397YWBcEwWK2bi0kWVNdr1AosxxOgiBUKo3FbFEp1dnZOX/61b/o7mn/5re+xvM8w7A6rf6Zp1/MduSsulZsVodMJieI+1NglsNpNJgBgKaZ0ycfuXTl7YuX33730puiCM88+XxZSeXk1FgimVhYmv/7r/+VIAjZWTknWs+k8FdGCKHDTCJhZVJJPBRi5XIipR/UNVqNxWYeGXw/RKrUSqPJkMLrbyEIIjsnu7Akf6tlcWN902KziADf/h//KpFJ8gpyqmsrZ2fmXvnpa1vn1zXVGo2GsZHxno6+hpZ6jUZtNBkomu7t7I/F4lq9VqW5Z7tGkiKVKmVRaaFWr9XqNF3tPd/6H9/5z3/5nyw2M8Myjizb859/DgB4gQ8Fw3L5jss2ymQymVzmdXvVWjVFURzHJZNJhmXgQ93DPMfzPC+RSh3ZDs+mx+8LJBJJ9jeh/8ff+3epVOLMyb5zflVdZTQS+7dv/9BitWTlOO6+lFKlaGiuTyaS3//nH/h9ARFErU7beupoXkHuxtrG1MT026+/OzM19/znnwUAjuNomiapB+/9SyaS3g232aCVZs6YtEMdKJUKlUKuzHI4RVGkKCq1DXUWs+1zL/2O8jdtilKJtDC/5LlnPmuzZpEkmePM02i0DM001DUXFZTKZHKKpAryigx6o1arV6vUzUda1SrNxuZ6IpmQsBKTyVJaUimXyUuLy81Gi81q/3Az+OOPPqtWqQGAJEmHPetYy4lVV0E0GqFppqiw1Gq1T89MyKRyhz27IK9IIpFmZTlznHkp/JURQugws5j0NpNuenS8sKaKlbApvHJhccHpR066Vlyu1XWNVn3s1NGW400pvP4WZ2721MR0OBTJKcgJh8KDfUMURRpMhoHewfNPnC0ozg8GQn6P/8759ixbw5E6k9V05cJ7Wp2mpqFab9SXV5VeeOOiyWzMdjru25yGIAiappRqpU6vZcuLk0muv2vg0tuXH336vMGoNxgNgUCworp8fnbB4/bGfzON2r3pWZpfUigVQABFUQaT3mw1qTWqt15759ipFolUOj46MTY8XlhccPftCJLQ6XXxWDwaidI0pTfoKqrLB3oHaZYuLiuiSGpkYLS/a6CytkKu/GDFIoPRUF5VWlNf1XatXX1vGqZpurS8OBaN/tu3fuTz+rkkt7SwPDU+pVKrKmrKw+HIxO2J1eXVrZMj4YhOr9PqdA/8bxEOhSZGRosLsrWajNlc51AHSnj/8f1Q/ghara716Kk7X5IkKZPJWo+evu+0LIcTfvMpyGKxWSy2rf/XaHQtzSc+fFmHPdthz/7w9wGg/jejMwmCoGmmtKSytKTy7hMoitKoNaUlFaeOn5PLFQ/wSyGEENpJXq593e1ru3Yrq6iQYVO5U4Yty3r8TKsgCCtLq1q9tqGprryqLFUXZ1nWbDGxEra8uiweT6wsrQz2DkUjUfeGx+awKhTy/OJ8jueX5pcj4UiSS1psZpIktTqNRqt25mXbnfbhvuE117rf59fqNM3Hm/7mv32tuq7Smee8+y4UTSuVSpPVtNUaolAqCorzH33qfMfNTveGp6C4IBQMj49OJBPJtdW1RCKp0WoIgrTaLBuujb6uflbCbi3K03i0obisyO8LTNyeJEiCYRjXyhrHcecePyO7axFNiqTyi/ImRifdGx6SJGVy+ePPPdbV1j3UN7K57iYIYm56LsvpKKss0Rv0Gq0GABiGpmnK5rA+9fyTs1NzWp1GIpWyLGNz2CQSliAJvVFfWl5S31zn8/pYCcvzvM/rn5uai0aiAs9n52Rl5WSJohiPxZNJTiaXaXWaB/sXEQTB5/EN9g791ouPGvTaXfzb7qnDHigPFZ1Wn52dq9cbycwZ5IsQQpnCmWXddPtefu3y+opLKpOyDz7D9340TTuy7V/88udTdcG7qTXq5tYjGp1ab9BLpdLB3qHOm12shD12qqWiulwqk770pRcuv32lp7OvuLTw6MkWs8UkkUhKyovlcplCpZCwkuc+90w0HA2HwkqV0pFtV2tUeYW5Zus9a4zL5bKsHEfz0SOS3/Th6g2680+dCwSCNE3lFRbaHNbLb1/puNlltpqaW49U1lYQQLSePrru2nBvugGAIAiFUpGIxYvLinR63TWpZGZqNplIWm2W+qba5tYmkvqgm5GiqLLK0t7O/o21DY7jGIY+drJFq9P0dw9Ojk1xHJdfmHfsVEuW0xGNRIvLiwBAoVICgFwhr6gp/+xvvyiVSw0mPU1Tp8+f3FqMHQBMFtNLX3pBoZBbbRZnXrZKrbz45uWOm516o/7I0cbq+kpBEJYWlpVKhdFsfOAp3n6fb2Vh2e8NlBTlqtUZ0/pDiIHudNfwMdo6hv7Pv33t7/76n9NdSMbjOI7nOZKiaIo+bCv4P1Q/+PG3Jidu/vR7/z3dhSCE0mxh0fXTly/4OfHMk48583PSXc4nIggCl+Roht7adZDneI7jtrrvKJoiCILn+WQiKYoiRVMkSfI8z7Isz/N3lknaWsYykUisu9Y7b/VMT8w8/4XnSsuL736jEbbwwp22W1EUASAej9MUTVKkKIrJZFLgBYIkGZqmaAoAEomEIIhbs6oBgCAIhmVIkhRFMZlI8oIAokiSJEVTW52Nd+4oiqIgiN/5xnd1et35J87oDDrYehPk+K2foiiKZuitS/E8DwB3Rr5tVUIAQVIkQRDJRHKrZoIgRFEUBTGRSGyVIQhCMpEUBIEgCJqhaZpOxBM/++HLCqWiur6qsDj/wf5Frr17ZaSz52RT5aNnWxSKjNkCHFsoDxGapnHnboQQengsZv1zT538+rdf7rh6gxe4vMIMWNqaJMk7Iz4piqIo6r4BoPe9d2wNVbx71sHWYkmz03Ndt3rGRsaffuEJR5btvmYLkiRJkrw7dGydIJXe1U/9od4zyQ5TUgiC+Oj2P4IgKIo4ef7E3NRcX/fA1nKY274Jbi23d993WPaDv8DdNyIIgqCIOxtUUhRFyT6oWeCFWCwWDIQqayuysh9wmu/NS9cnB0ftRu2p1nqZLGNm5ECGBEqCStF2iHtsa5H9aDRCUZRUuv2HjFgsShAEw7C4dk/mIkny7q4WhNChJZGweTmO55443j001X75xvLCauOxIxKWvXv5w4NKp9dWVJdlOe2lFSUK5b7oqM3Jc8rlsm23SXwoCJBIJMdOteTkZX/yXdG3cBwX9AfbrrVtLi4WOc1NdWV6/QMOwUyXDAiUFEXd/Vkhg4iiuLG51tPboVZrK8qqdLptVnkYGR2USqX5eYUy2b54+qFPi+d5iqbu/pCNEDrMWJY5e+oIRVFd/eMzwyPRaMxgMpgsJp1eK1fID3DbgcliMllMH3/eHpLJpM7c7aexPgwkSUpl0tqG6k94/lZve9Af3Nxwb65vetY31+ZninPsx5qqSotzH2alD0UGBEqSIBiG3RqjkFkj/3ieGxjsefnVn1jMNpIkj7WcvHNIEIQkl6Qp+trNy3qdwWy2SaVyAOC4pCgCSZJbzfJbAzu2LkWSFEWRogiCwAuCyDCpnEKIHlg8HmNoUnvvAhMIocOMJMkzJxtznba2rqF3LlzWWIw5hQWOnCytTkszzJ19otNdJkqbrbXWCYJIJhIbrvXZyWnX/CIlCl944XxNZbEmc5YKulsGBEqKoiQMk0wmM66dkuO49s4bebmFHMf1D/bcHSgTifja+qpeZxSED/Z3EgTe49lMcpxCrthqzozFoiKAKIo+n0ehUKqUKp7nQ+FQLBa1Wuw4IHI/CIYCFEXotBnWN4EQethynDa7zfTUI63dQ+PdA+Ov/bh92bVJAhUMhuLxOM9z6S4QpQ3DsjKZXCJhpBK6MN/ZWFP87ImnS4tyJBImg/ZavE8GJBKpTKo3qKdnJgoLSlKbKdfWV0dvD91oe08Q+KbGY3U1R6zWlG2Ww3FJr88zMzv94vNfWFpenJmZ9HrdarWW5/lrNy61d1yXymQ8xw8O9x07eiqRSCwszv3kZ9+nSFIEMZlMajXa3/7SH7XdunZ7fDiRiFMU7VpbycspYBjW43X7/d662iMnj5+1WR0fXwp6mJZXlkhI5jmt6S4EIbS/kCQpkbAsyzRWlxTlZT197mg8kSCA5LikIIgiYAvl4UUSBElRJEkSBCjkMo1aoVYq5PLMHjqVAYFSo1ZmZ5n6Brqys3NSGCjj8Xhn963XXv/Z+MSoKIrTM5OJROLR80/JZPKP/+FPIBQKjowMWC02Z1YuSZAu10pvf9exlpPLK4sLC7NAEEcajsZiscnpcZ7jOC7h8/sMeoPdliWXK2bnpt5857WXnv+tzc11t3vDYDDVVNV3drctLS/k5xfV1TQsrywODvdVlFdjoEy7mdkxuSReVV6a7kIQQvsRQRBajQpHxaADLwNGB2s1ivwc/cjoQDgUujOmcPcCQf/wyMCtjhvrG2sbm+vdve3Do/0+nzdV1/f6vNduXiEImJgaW11biUTDV66+G4mGZ+emE8lEeVnVyePnzp15PDsrh2FZAIKmaYvFzrISmqIJglxbd21tP6/V6kqLK060nq2tbpTJ5NkO5+mTj7QePR0I+OKxWKqqRQ9AFIVAwO9yLclkYn5eKjeCRwghhDJLBrRQymVstkMTDHlXXcsqlVqhSM1g1XA4FI2G7wxhFAQhGo2GwsGUXJznOa/X3dvfaTSa/FcvCIIQCPiDwYDf73N7NgiCMOiNW8vGqtVqmVRGEgRJkDOzk8vLixyXDAT9ALDVHyKTylUqFRBAkoRUKmMYdusHcUZO2gmCODM7SVJJo0GjUuEkfYQQQodXBgRKggC71fjZ5x+5eOXXMrm8tLgiJZe1WR0Ou1Ot1vp8HgBQKFR2e9ZO22R/WpvuzaWVRY1G9yf/8S/0OgMAzMxOfv+H3x4c7uM4DgD8Af/WmYlEkuO41bWVX7/5S4vF9vu/99Vsh7O3v+t/+a9/jiNs9rl4Iv7yqz989GxZU33KNtVFCCGEMlEGBEoA0OsU509V9PTfHh7uk0pkuTkPuJ3R3RiGOXv6UaVS2dZ+XRT4I43HWo+eStVqgrNzUzMzk8daTublFqpV6q3bHT92uqe340Trmflo5Fb7NaPBtL6+2j/Y01DXRAAhiuLGxvrS0sLCwmx75w0RRI7jBFFIST0o5TY219+7dsFuU1SV5VrMuo89XxCExaW1odEpnVZVVpyXcSvWIoQQQh+B+sv/8pV01/DxKIpSyCUKuXR0fGpz0yuRyPT6bRYJ/1QIglAqlDarI9eZX1NVX1/XZLc5GCY1k342NtaSXLKhrsnhyJZIpDRNMwyjVKh8Pm9VRa3BYCIIIhDwczynVKoqyqrz84s0Gm0iEec4jiIprUZntdpraxo5jtNqdXZblkFvisaiLMNmZzlNRovA85FouLSkQqfVp6Rg9KksLM719t+amu577okjlRX5SuXHT+TieX5gaPInP38nEAjn5zkMGCgRQggdIJnRQgkADEOfaq1aWnaNTqz2D3RwfDLbkSOTychd7MookUitVnsKlwq6w2q1y+QKZ3YuQzNb35FJ5YUFJRzPWS12qUxmMlomp8Z0Ov1WvtTrDHqdQaFQBoMBk8li0BtrgwGFQllUWCqKokqpIkkyy+7UarQqlYaiKJVac6z5hNFgTnnl6COIohiLRVdWl8YnBjfWpytLrc2N5RrNJxo9KYrg8fqHRqcIggiHow+7VIQQQmgvEWKgO901fAqCIL75bvcbF7p5njl/5imbzalQKFhGsrVXPc5TQQ+DKIocl0wmk9FY1LW2fO3626Lob2ks/sKL5z75RZJJ7ldvXv2//va71RVFf/bHX6itLnl4BSOEEEJ7LGNaKLeQJPHomdrq8txL14a+94OvqzXmyvLayvKagvzijNtHB2WKRCK+sDg/OjbYP9jp8aw//diRsydbC3CdIIQQQug3MixQAgDLMjar7onzdTWVWYsrvpk59/Wbb7zy+o94jo8nkolEguNStlYlOswokpBIpAxLswyr0yjsVs1LzzZk2Q0Om1GvU7Esk+4CEUIIof0i8wIlADAMbbXoLGatMyuYm+1xrW16fQGe53mO53heFHBmNEoBgiBpmiIpimFojUppMmqzs4wGvTpzN1pFCCGEHpKMDJRbCIIwGtRGg7qmMjfdtSCEEEIIHV4ZsPUiQgghhBDazzBQIoQQQgihXcFAiRBCCCGEdgUDJUIIIYQQ2hUMlAghhBBCaFcwUCKEEEIIoV3BQIkQQgghhHYFAyVCCCGEENoVDJQIIYQQQmhXMFAihBBCCKFdwUCJEEIIIYR2BQMlQgghhBDaFQyUCCGEEEJoVzBQIoQQQgihXcFAiRBCCCGEdgUDJUIIIYQQ2hUMlAghhBBCaFfodBeAEPoE4gkYHAeOhywrZFvTXQ1CCCF0DwyUCGWCJAcXb4HbBy01GCgRQgjtN9jljdA+IggQCpEzs6zHQyWTxAcHKBI2PNAxADd7IRYHUUxfjQghhND9MFAitI8kEsT8IvvzV/X9Q/Jg8K6np0wKtWUglcLwFKy5gefTVyNCCCF0PwyUCO0joggLi+w//LP5xz/XL6+y9xw7WgOlebC+Ca9fgXAsTQUihBBC28BAidA+wrKiQc9lOxJtHcqVVUYQ7jqWZYXiXJBK4cJNCEfSViJCCCH0IRgoEdpHKApMRq61JbTppqdmJG7PXdPmZFIoyYOSXBibgelFCGGmRAghtF9goERof9Fq+GPNIZoWxyali0v39noXOKGhAsJR6B4Gjz9NBSKEEEL3w0CJ0P6i0fBHm8I6LT88KpuZk9xzLNcO9RUglcClW7C6nqYCEUIIofthoERofyFJUCn5xrrwyio7NSO5d/EgCsx6ONUIY7MwvwoRnJqDEEJoX8WhQTwAACAASURBVMBAidC+wzBia0tIKhVm5iST0/c2Uhq0cO4oAMDAGMwtpaU8hBBC6D4YKBHad2haPNoUNhm5uQW2f1B+zzGVAo5UgVkPQxMwOZ+mAhFCCKF7YKBEaN+hKCgujGXZE5tuemBYds8xCQsOC5TmweoGzCxhrzdCCKH9AAMlQvuRRCJWlkcBYGBYHo8T9xyjKTjdDDQFk/Mws5ie+hBCCKG7YKBEaJ+qLIs6bMlNN90/dG+mZGg40QBWI0wvQMdg+gpECCGE3oeBEqF9qqIsmpsT9/qo966rYrG7nqokCXYzlORDOApdQ5Dk0lcjykBzy9AxAN3D+MhBCKUQBkqE9imziXNmJaQSsaNbEbuv11vCQlURqBQwuwRzS5gM0KfQPwavvwfvdaa7DoTQgYKBEqF9SiIR83IS2VmJwRGZ20Nz94XGmlLIdYDbB9d7IBZPT4ko4ySScKsfLrfD9CJQ+PqPEEoZfEFBaP/KdcbLimNr68zgsMznp+85VpIHRTmQTMKVDohE01QgyiiCAOtumJgFloEjlUDi6z9CKGXwBQWh/SsvN95QF+Z56B1QeLzUPccYGopyoDAHuoZhzQ2JZJpqRJmD46F9ADa94LBAbVm6q0EIHSgYKBFKDY7jrt3svXy1a25+JVXXVKuELHvSauG6++Sbbvr+w7kOqCmFYBh6RsDjT9VN0YHF8dA9AgkOnDbIz053NQihAwUDJUKpIYqwsent7hudnF6MxxMpuSbDiGZTsrYqMjUjWVll71+QMtsGVcUgYeF6N6xtpuSO6MDieQiEoG8UdGoozgWtKt0FIYQOlA+1eSCEHghBgMmou9k+0NE9DABqtWLr+1l2s8NufuDLajX8iWPBazeVM3Psxiad5bira1urgoJsKHRC3xisrENZAbDM7n4JdHBF4zCzCHPL8GgrFOemuxqE0EGDgRKhlKFpKhAMX7/V//NXL9755h//4Utf/cMXH/iaGjXf3BiWycTBYfnRpvA9gRIA9Bo4dxT+8ScwOQ+1ZWAzPfCN0AHnC8CNXkgkoaIICpzprgYhdNBgoEQoNWiabqgtKy7Mua+/W61S7OaycrlQUhTLsidm5iTzi+yJ+w4btHD+KHz3l9A7ioESfRRfENp6QauG/Cww6dJdDULooMFAiVDKSCRsT//tW51D8wurFEVJpez500111SW7uSZBgEwq1lZHrt1UzS+w4TCpUAh33ZKFbCsU5cDMIswswokGIIidL4YOq3gCXJswNgvVJWDQAkV9/I8ghNCngZNyEEoNQRBm55bbu4aXV9aVSrlKJRcE4Vpb39DolCiKu7kyTYvNjWGaFucWJPOL7D3HSBJUCmipgWgcJudhdWNXvwM6qDa9MDkHvgA0VIBBm+5qEEIHELZQIpQaHMf39I8Fg+FHzjQ/craZoqhV1+b/83ffvz0+19xYSe2iTYiixMa6sNmUXFxmB4bk5aWxew4zNJw8Ale7YHoBBsdhFxOA0IG1vAb9YyCTQmMl6DXprgYhdABhCyVCqSGKomtts7Q4t7gwh6ZpgiBsVmNerl0qZQPB8G6uTFFQVhLLsifXN+j+Idn9h2kaGisg2wrLa9A1BLtrDUUH06ILxmbAYYGyfFAr010NQugAwkCJUGqQJGm3mW5PzI1NznEcJ4qia809Ob0YCkVUSvkuL05RUFwYIwi4PS6LRon7Q6NUAhVFQFEwPAWBMAjC9ldBh1M4Cqsb4A9CSw1I2Y8/HyGEPj3s8kYoNSiKbGqomJ1f+fXb19++2CZh2WAoYtBrKssLJRKW53cb8qorozduKVfXmJHbsqqKqERyV6gkCKgtg64hWHRBzwgcrQGZdJe3QwfHzCLMLgHDQHMNSCTprgYhdDBhCyVCqeSwmbIdFp1WrVEr7VbjuVNHqioKSDIFT7Sy4miOM+H3U22dyvu3zAGA8gLIz4ZQBC63QzS++9uhg2N4EmYWwaCF+nKQ4NL3CKGHAlsoEUoNnheGRqZomv7M06fLS/NTfv0sRzInO0EQcOOW8vMveNTqe5s8rUYoygGVHG70wO+/ABolLg2DAAAEAYYnYd0DFYWQ54BUfLZBCKEPwxcXhFJDFEXXunt6dsnt8T+M67OsmOuM222Jzh5FJEJuM/cmPxvKCmBqHuaWIRLb5hLoEIolYGYRRBEqizBNIoQeHmyhRCg1SJLIz3W88c6NC5fbsx0Whnn/yfXskyefeeJkSm6R40xUlkf7h+SDI3Kthtfp+HsOF+VAcw28dgmudkKuHXa3Qw86CDgOuoZgwws2E+xugX2EEPpoGCgRSg2CIExG3ZkTjV5fUKGQ3hk3aTbpU3WLXGe8pjL63R8SnT2KitLo/YHSoIXiXMiyws0+eLQV8rNx15zDjuOhfQB8AagohLLUD8NACKE7MFAilBpb6wSZTfrK8gKH7YPVxfU6dapuYdDzBXlxk5Hr7JE/8wRdWHDv5BuWAZsRmmvgYhvMLEFFEaTu1igjxRLQNQRSCeQ5wIj7dyOEHiIcUoNQagiCuLSyPjYxFwpHDXqN0aDd+k8uT9kKPgwjmk3J6orI+KR0eYXZZq63XgNnm0EUYWgcFlZSdV+UkRJJ2HDD5BxkW6HAiZO0EEIPFbZQIpQaJEkUFzo7e0Y6e0ZYhrkzhjLXacvNsafqLloNf7QpfOOWanJaurYecWYn7jmsUUFrPaiUMDQJM0tQU5qq+6LMEwpD3xiEolDghNQ9AhFCaFsYKBFKGY7jOY7r7R8bn5y/M3zxpefOpTBQ6rT86RPBr3/LPDYhXVph7g+UFAVKOZxogLY+mJyHUAR2vUkPylTeINzsBUGA8gLIdaS7GoTQAYeBEqHUoCiqqCD797709PqGN5FI0jRF0xRNUcWFOSm8i1Qq5OXEnVmJiSnp9KzkWPOHdgmXsHCyEfpvw+Q8jM1AY2UK744yhiiC1w/tA5BjB4cFP1cghB42HEOJUGoQBGE0aCmS9PoCXl9Aq1ExNK1SKWSyVG52R5KgUgr1tRGfn5qZlfj9HxoYR1NwpArsZlhYgY6BFN4aZZJQBBZdsOyCmlIw63EFSoTQw4YtlAilhiiKbo//wuWOG+39FEk2NVTwgpBMcmdONFothhTeiKbF5sbQjVvK+UXJ/CJbrYnec5gkwWmD/GyYW4a+MYjGQCrB9YMOnXUPjM+CIEJtKeg06a4GIXTw4cdWhFIjmeQuXulkGPqLLz32ld9/QSqV/OlXPhePJ8Yn5yMp3beGpsWTx0JmU3J+kR0ckW1/0pEqMOpgcg4m5yHJpfDuKDMsrkLvKLAMNFSAHgMlQuihw0CJUGqIouj1BRx2k9X8fnskQ9MWs0EqZaOx+Ef/7KdCkmC3JXOyE14f1dO3w3Y49eVQlAMeP7zbhtswHjqCAIurMLsEtaVg0AKDPVEIoYcOAyVCqUGSZI7TNjWz1Dc4vuraDIbCnT0jcwsroigqFTu0Iz4ohhEry6MSVhyblG5s0oLwoTMsBijOBbUSLrVDKAzb7PyNDq41NyysAsdDaz0o5DjgASG0BzBQIpQaFEWWFecp5NKV1Y2Rsenp2aVbXUNajSrXaZfJUra2+R0VpVGzKbnqYkZuyxKJDyUGCQv52VCQDRNzMLeMjZSHy8wizK+AXArNNSBl010NQuhQwECJUGqQJFmQn/XYuaNFBc5IJJZMctFo7OnHjx9tqnoYtysvjeXnJkJh8vI1VTS63RO5wAmNlRCNQVs/bHgeRg1onxqahPkVMOmgphRYJt3VIIQOBRxbg1AqVVcWVVcW7cGN7LZkfm6cpsT3rqv++A83APj7z8ixQV05yKRwsQ1ONuDS1ofI8AR4A1B9BDTKdJeCEDossIUSoUxVmB+rLI9OTEnnF9lo9EO93jQNFgOcbYaZJZhbhuCHlkBHBw/Pw9gMLLlAp4a6snRXgxA6RDBQIpSp8vPiddWRUJjs7FG4Pdv1Nhi1cP4YiCL03obZpT0vEO05XoDuYVhzg80EtbiTO0Jo72CgRChTWc1cWUlMKhE6uhWb7u0CpVIBtaVgNcLoFEwt4Fzvg4/joWcEeAGybZBtS3c1CKFDBAMlQplKo+FznYm83ETfgNy1xvAfGkUJLAMOC9SWwvI6TMxBKJKGKtGeEQQIR6B/DPQaKHSCaoc1ShFC6CHAQIlQBtPruDMngqtrzNzCdvt6AwDLwKOtoJLDxCyMTO55gWgPRWIwtQAr61DohEJnuqtBCB0uGCgRymA6LX/qeFAqEfoG5dOzkm3OoClorQenHWaXoa1/zwtEe8gfhOs9EEtAaT5O6kcI7TEMlAhlMLlcKCuOWszc5LRkbmG7QEkQoFNDeQEIAgyMgS8I2+yrgw4EXxA6BkCnghw7GLTprgYhdLhgoEQogzGMaDFz1RWR9Q1mZk4SiWz3jKYoaKwEkx6mFmBgDBLJPS8TPXzxBKxuwMgUlBWAwwLS7T5dIITQQ4OBEqHMRtPiqeMhkhRn5iSLyztsi1JTAiV5EArDW9chEt3bAtGecPtgcg58AThWB2Z9uqtBCB06GCgRymwMI54+HrSYk1Mzkq7eHSb2WoxQkgcqJbx7E4IRXD/oAFpyQd9tYGhoqQGjLt3VIIQOHQyUCGU2kgSHPZGfm/B46c7unVeKKcqBhgrY9EHPCHj9e1gg2hMLqzA+C6UFYDbg/t0Iob2HgRKhjCeVipVlUalEGJuUrrq2W5ASAAqyoakKRAGudcGae69LRA/VuhumF8EfgpYaUCmAxBd2hNBew9cdhA6CuppIliOxssp29crj8e2e10YdlORBgRO6hmFhFeKJPa8RPTST8zC9AFIWTjSADKfjIITSAAMlQgdBVXm0uDAeiZIXLmsi0e2e1yQJViM82gpLLhiZgnXPnteIHpqhSZhfAbMB6stBwqa7GoTQYYSBEqGDQKPhC/NjBj135ZoqHCa3n3Vj0MKTJ0Eug1v9cHt6r0tED8/wBHgDUJIHRh32dyOE0gJfehA6IPJz4zWVkfUNevi2bPttGCUsOCxQUwKLqzA1jwtSHgSCAJNzsLIOGhVUFae7GoTQ4YWBEqEDoiAv3lAbicbItg7lppve5gySBJUCzh0FioLbMzA+u+c1olTjeOgahnUP2E1QW5ruahBChxcGSoQOCLOJKy2OWS3Jm+1K1zqzfa83TcGJBrAaYWoBbuHW3pkvkYSbvZDkIC8L8rLSXQ1C6PDCQInQAcGyot2WONYUGh2Tzi2wO27DWJwLpfng9UN7P4SjuMh5BuM48AagdxSMWijOBdXOq5AihNBDhoESoYNDr+PPnQ4SBAwOy+cXd5jtS5LQVAUWA0wvwvAEjqTMYKEoDI2D2wfFuVCQne5qEEKHGgZKhA4OjZpvORIyGri+Qdn4pHTH8xorobQAPH749VUI49beGcvjhyudkOSgphSKctNdDULoUMNAidDBwbKizZJsqA2vutjxSWk4vMMT3GKA8gIwG+BqJ7g2sJEyI4kieHxwqx+yLJBjB60q3QUhhA41DJQIHShSqXjmZJAkxfFJ6dTMDpum0DRUFEJDBcwsQs8I+AJ7WyNKBX8IZpZgfhkaKsBqxOUnEULpha9BCB0oNC0eaw7ZrMnZeUlnz86zNAqc0FwNBAHvdcLqBk7NyTyuDRiZBEGElhow6dNdDULosMNAidCBQpJQVBAvLoxtbNJtHcodz9OqoCgHakqhrR/mlrHXO/MsrELfbVDKoa4cdOp0V4MQOuwwUCJ00JAkNDWEzabk5LRkaESWSBDbnEQQYDHAM2cgyUH3CMws7nmZaBciMZhZgkUXHK8HnRqo7TZGQgihPYSBEqEDqLEuUpgf39hkLl1VxWLbBUoA0KrhZCPYTdA7AiNT2OudSabmYWIWKBLOHQW5LN3VIIQQBkqEDqK8nHhZSYxlhQuX1P4AtX1WlLCQ44DmGtjwwvAkuDb3ukr0wHpHYXIeLAZoqQXpDguOIoTQHsJAidABJJWKRQWxvJxEd59i1cXE4zs0UjI0PHIMVAoYm4GBsb2tET2oJAfDk7DugRwH5GcBvd2+7QghtLcwUCJ0MJUUxY42hSJR8vI19do6s/1JDA2t9ZCXBZPz8G7b3haIHoggwNwSTM6BUg4tNemuBiGE3oeBEqGDyZmVaKyLmE3c2xc1y6s7BEoAkEvheD0YdTAyBUO4E+O+l+TgWg+43JBjg+bqdFeDEELvw0CJ0MEklYrO7Hhrc2h6VjI2IfV4dpgITBBwtBZK82HNDb9+D3di3O/iCbjWBQRAYQ5k29JdDUIIvQ8DJUIHll7Hnz8T4DgYGJIvLO08dSPXAeUFoJDBpXbY8ECS28Ma0aeRSIJrE0anwWqEwhyQ77xdO0II7S0MlAgdWDotd/p40Gziegfko2MyQdjhPAkL1SVQXw63p6F/DPzBPa0SfXL+ILT1gccP1SVQlp/uahBC6AMYKBE6sGgajAbuZGtwxcUM35YFAjsvf11eCGeaAQB+eQEWVvesQvTpbHrh7esgilBTCoXOdFeDEEIfwECJ0EEmkQjPPuE3G7mhEdm1tp13YlTKoCgHzjTD4DiMTILHv4c1ok8mGoNFF/TdhvpycNpAKkl3QQgh9AEMlAgdZBQFNVWRgrz46hrT1qHk+Z3Ps5ng6VPA8dA5hDsx7kdrbhiagGAYjtWBxQjEDmuLIoRQOmCgROggIwgwm7jG+jBFij398sUllttpyo1GCScaoSQPBsehdxSne+87M0vQOQRaFbTUgEGb7moQQugeGCgROviOt4SKCuJLy+yFy+podIdnPU2DQQtPnIBwFPpuYyPl/hKNweQcjM9AdQkUOkGB+3cjhPYXDJQIHXzVldHqykgiSfz8VV0ovPPUHJaBJ06C0wYDY/DmtT0sEH2c0WkYmQKahmfPghzTJEJo38FAidDBx7JibVW05Uh4eFTW0y/3+XbIlCQJdjO01gNDQ3s/zC3Djh3kaG91D8P4LNhMcLoJZDgdByG072CgROhQKCmKtTSGY3Hy0ntq105bewOAhIXj9ZCfDQur8G4bRGJ7WCPajihCIATDkxCOQlkBWAxA7dzGjBBCaYKBEqFDwW5L1tVEcp2JK9dV07OSeHznOcKVxVBfDgwNr16ElXXc3TvNeB7GZmBiDlQKaKnBNIkQ2p8wUCJ0KDCMmO1IPPWYb3GJ7R+UudZ2bqRUyKCuDOoroH8M2gdwTco0iyfhnRuw6YVCJzRXp7sahBDaHgZKhA4LqyX5hRc9Oh337hVNd5/8o06tK4dnTgNDw7+/BfPLe1Ug+hCeB18A3m0DpRwqi8BmSndBCCG0PQyUCB0WLCvarcmzJ4Obbrp/SO5ao3c8VSaBvCx47DjML0P3MCyv7WGZ6C6+INzohXUP1JdDdQmQ+IqNENqn8OUJocOCIEClEp5+3KeQ8wND8q5exY6nkiTYzPDioyCVwrUeGJoAUdzDStFvrLvh11eAoaGxEkpy010NQgjtCAMlQocITYtHm8JlJbHlVebSe+pQiNwxKKoV0FQNzdUwvQAdg9hImQbBMEzOQ/sAlBVAaT7ocXcchND+hYESoUOEIMBk5E62BmVSoa1TOXxblkjsMN2bIEApg88+DgYtdA/DlQ4QhL0t9tCbX4Fb/RCNwWPHwW5OdzUIIfRRMFAidOicPRmsq4msrdM//HdDKLzziwBNw9EaqCkF1yZcuAm+AGbKPTW1AO0DYNRBax2YdOmuBiGEPgoGSoQOHbst2dwYLsyPv3tZPTEljUR2fh2QSeHJk1CaB7dn4KdvQiiyh2UebgurMDIJ/hA8eQpMeqB3nkGFEEL7AAZKhA4dlhUbaiOnjwdX15hfvaldXt15TUoAqCmFlhpQyuGVSzAxt/u9c0RRjEZjbR0Dm27fLi91kLUPQN9t0Cjh6dOgwM27EUL7HQZKhA6jvJz4iWOhvJz4G+9ohkZk4Y/o+NapobkGWmphbBou3ITVjV3O+E4muVXX5oXLHa61zd1c58ASRdj0wo0eWN2AqmKoLQMJm+6aEELoYxycbpR4PBGPJzie53mB53mBFwRc5wQ9EIokSIokSZKmaQnLSCQMdeD2u5NKxcL82Bdf8nzt65Ybt5SF+fHqyuiOZ1cVQzQO796En74JpflgMYDyI9dF/0iRSGxyenFt3R2P46aO20lycLMXhiZAr4FHjoFcmu6C0EMhiiLH8fF4MslxAi9wPC8KAsfjMOXDiCQJkiApmqJpSsIyLEvTGTjKJfMq3hbP8xOTC70DY3PzK26vf23d7fMG48kkhkr0aREEodOptWqlTqvKclhrqooqywtMRu3By5QWM/fZz3h/8Zru4nvq0uJYZXl0x2WzWQYKsuGPXoKvfQ/evg5WIxyre+D7RmPx+cXVgrwstfqDhTB5nidJkiB23mH88IjG4bVL4PXD0Vo40ZjuatDDkkgk19a9XT3jU9NLbk/Q4/N5vD6v15/keVz29VChaUopV2jVKo1Gnp+fXV1ZUFmeZ7Ma013Xp5bZgTIejw8MTnZ0jcwuLOvUGrNRX1ZQoFDIaIomgRBFUcCnJfqUCIJgWYbjuFAk4g+GhgenLl7pVKsUFWV5rUdr9To1eVB2K2EY0WZNfvYz3h/9TH+9TVVaHDvZGtr+VIIAow4ePQ7Xe2BoAq52QY4dHJYHu28kEpudX2msK1OrFAAQCIT6hyYuXG5/4Zmz1ZWFmfi5PJV8QbjVB31jUF4IzdWgUaa7IJRiiUSyq3esu+e2a90DIqVVGnQaR7ZJybIsSVCiKAoiNlIeLiRBMjQDhBiKBAOhQFfn7MWL3TIZ01hXceJEtUoly5Q3nUx97eY4vm9wYmxsxr3pF3miJDfPbDRk2y0mo06lkMukUoahsbUDPbB4PBEMhz3ewOr6ht61EQiG5mZds3NvVJQV1NYUGw26g/HokkqFZ5/09fTLb09IX39LW1MZVan47V+7WAayrfDio/DNn8KNHjDq4MvPA/MgLyDRWGx2fuWl584p5LLpmaXegbHBkUmdVq1QSA/GX3VX1t3wykWIxeF4PdSVA/5BDgpRFF0u98T04sjobDjEE6LUos1TyJQ2s8VsMKmUSrlMxjAsc8g/UB1iHMeFwqFNr2d1zbW2sR4I+4dHVqbnV6orC0qLnTabPt0FfrzMe+wKguAPhEZGZzq6Rjc2fPnZjqa6iqqyonTXhQ4UiYSVSFijXldckAMAK66NwdGJa+3dwUAkFI7WVBU5s60HoC2NJKGsJHbuVGBp2fjeDdXZk4HTJ4Iy2Q7t+gwN547CyBS8fR1+dRnqyqCq+AHmiyQSnNvj06iVM3PLvQNjUzOLNE0fqS+nKTocjqrVh7hNzheE4Um43gMludBQAdnWdBeEUiORSE5MLIyMLczMuBYXPeVFZUdq6h1Wu4TF6VbofTRNazVarUZbmJvP87zb6+ke7O8e7PV7Exvrgaqq3KICB0Xv63FB1F/+l6+ku4ZPQRTFSCQ2ODT1D9/8mVal/OJnHj9/oslqzryhBiizqJSKgtzsY421C0trl652RmPxHKdVoZB98ue2IAjjk/PXb/VbzIaWI5VWyz560FrNycVltqNbubFJn2oNqVTC9r8WQYBUAjo1LLqgZwR8QWiqAoXsU7Wi8Ty/vLJ+6WrX0ebql1+7vLDoqq8pffaJk9du9q24NhiG0aiVLMsAQDLJCYJAELCfX0BTSRRhZBJevQQDY/AHL0FTFRzmbH1QiKKYTHIrqxvf/cGbQ4OLOfbC333pS3UV1Xqtjj5ww7JRqpAkqZArCnPzG6prxyZn2joHF5fWK8pzpRKWJIl9+5KYYYEyEU++/OrlX71x7alzxz/z+FmHzURR1L7946IDhmHowrxsq8XUPzxxvb2nqaGSZZlP+PDbz4FSoRA4jth0M9duqrIdCYc9qVLuPIpLpwFRBNcm3OgFgw7s5k+Ve7y+wNjEXFvHQEf3SF11yfPPnKmpKvYHQqFwJBZLtHcP9Q2MH2uuJkny4pWO6dklCctqNaoU/JL7XzAM79yEX16AnCz4s9+BLAtkyMAp9BECgXBH1/Bf/d0Pc+2lT517sqmmXiGTE8T+zQRoX2FopiivwG62La64fvrK22XFBRq1nGb26UeRTAqUoij84tXLCwtrVSVFZ1qPGA06hsaBkmiPbL0HSFhWo1ZJJGwwELnZ0V9VWSSXfaJVXfZzoCRJ0Gp4CSve6lJOTknz8+IOW5Jld+j4pijQqkEhg/4xuD0NJj1YDKD4pKsIJROczx9cdW0+99SpE0frEolkW8fAOxfbSZIoL833+oKLy2vlJfnhcPSXr19mGDrXabtxq99o0EhYJlNGpj+gS7fgjavgD8FXPw8NFSCVpLsgtFubbl9P3+2XX716rO5Uc22T0+6QY5pEn9hv3nQkaqVSp9GJAnHp2i2dVmk0aFl2Pw64yphAyXFcR/dId/dth9l8+lij3Wr6iHcXURSDobA/GEomOZIkD96CLyiNpBJWq1bRNNU3MMZKaL1eLZd//EYm+zlQAoBcJqhVPM8TV2+oEgnSaklmORI7PsPkUtCqgaGgvR82faBWgt0C0k80GowkCalUYjbpj7fUWi2GG7cG3rveU1NZJJdLPV7/xOQCLwgnW+veeOdmNBqvLCu0mPVT00uF+dkymeTAvg2LIqy74Yevw+1pqC6BLz8PWhU2T2Y6vz9081Z/R8e43VBw5thpm8kiYfFDAnoQLMtqVGq9Tr+wtLqyvk4QosNmouh99xKxH0Puh4mCEA7H3rl4S6/W1lQUZ9l3XK8kFk94fYG5xZUV13ooHJFKJSaDLstmyc22MwwNAPFE0uvzK+QyuUz6aSdVJBJJrz9I05RKKWeZj9ytbmfrm56VtQ1BEMqL8yUse2DfIw80nUZVWpDXWFtx7Waf3WbSalSZPkGHJMFuS37xJU9nj6KjW5GdlXBmJXJzEjuebTPCS4/B+By09cI7N8Ckh6M1n2S/aZZl7DaTVpEz7QAAIABJREFU3Wba+nJj0+vzB1tbahaX1n7+6kW3x99QW8rzQlvHwBOPtOp16sXltYI8h0KRMQtnPAiOh84h6B0FuQzONMNv/jgoc/E8PzQ61d8/k4wxzzzzpEqlog7wAxg9fBKJxGnPeuLM+Vfefr2jc8xhM5WUZKW7qPtlRgtlIpacX3D9+8vvfuaxM0dqKz7izPmlldffvfaf/4+//8krb79x8fpr77z3znu3Vtc2G6rLlQo5z/MLK67XL1xjGEqjVkkln+LzIs/zq+ubb1++6fUH9FqN8hP38d3nrcs3//ob33/z4vVHTx9Tyg/02+SBJpdJcxy2H//yTYvZYLOZ5B+3nck+b6EEAJoGrYbX67iuHsXUtIQgoKkhvOPDkyRBKYeyArg9DZ1D4NqAlhqQSz9tu9qG2+f1Btxuv0wm6ekfq6ksevRsS1vHYCyWaG2p6e4dfedS+2efP0fTlCiKAEAQBMfxPM8fnH5DUQR/CP77N2FxFc62wO8+h53dmU4URbfH/81/eUUpNX/+6ZcMOj15MB6rKK1IkjTo9CRJzS+u3J6YPNZSud8m6GRGoJxbWPmX7792/Eh9fVWZSqn4iDN/+calf/r+LyLR6G+99PQT547bzEa31983PK6QS53/P3tnHV/Heeb7Z/AwM0jnSDpiZsskU8yOnThJA22gKWy7bRd6l3p3b3e3e7u32+223XKatNnGIceOE1PMjmVblmwxW8x0mGHo/qGA45gj23I834/+kObMO/POHM3Mbx60GIdHJ3bsPvjijj1VZQVJFtMNRr/N0Ts4+vaBYz/57Z+y01PTU5MVsltMwIzHE2KRMCPNXlGcKxQK+BvNvQuKoUKBcGhkgiAwu8187ZUXvqAEAAyDJAvl8WJtneL+QWF6WtxooK5qdkQQkEtAq4JpF1zogNEpqCy42aRvq1mfl+NAUeR8UxeCQGlRNkEQv37xrW997bGx8ZnJaactyZjhsO0/fLqrZxBDMRRF3z/T2Nx6Ua2SKz4fSdBuHxw6DbsOw+Ji2FQN2al87cl7nXg88T+v7pMS2rL8cps1mbca8MwjOo0mHIn2jwyjKG41a4hbKgZ8m1hAU7kaLMv5fMHevpGnt2/RqBTXXtnp9o5PzSRbTVvXrUiyGGac7qK8zEMnzirlslA40tk72NDSOev2nK5rlkkk9iRzLB6/ODBit5q6eoc4jst02MuKcs41tPUODHt8AQxFTQbdqqXlUom4p3/oXGPbjNNzoaXDnmwWkKRCJp2cddWeb5medcmkkkyHvaqskMAxBEH8geDgyMS5htZoLF6YmykQEKFQVCoVlxXmEAQulYhphpkrJxWJxjq6+1s6L3p8fqNeW1VWaLeaBAKSZpiL/cOtnb0T07Msyxp0miUVRVaTQcRbLxYGCILgGFZVWlDX1DY8MkXT9L3u9Z5DLGa3b/U5XcSBw4r/+qXh//0L5UiNXzVBB8ehKBs2rwSKhvfPw5+s8Oh6sFtufHcikdBs0kokQqNB4w+EJiadTa091UtK5DJJa0efXCYxGbU/+I8X87LTMAytrW/1+UPtnf1fe+6hz4mapGkYGodX9gKBw8oKKM7mQyfvdeLxxMjYdHv70NplG9NsqXwEP8/8IhQI87NyI7HI67sPF+Qnm4SahfPGcg88AqPR2MyMV6/V6DQqwfWqKMukEpVC7vH69h+ryUyz6zTKVJv1S49uyXLYURQdGhkfHJmgaaausc2o10Rj8Vm3Z+e7R8wG7bTTYzHq4okETdMvvvp2IBhGEKAoOhqLO93elUvKhkYnunuHGIZp7ezNTLMbtBocQ1/ZdWBgeAzDMJZlz15omZx2blm7HEGQ92sb9x05dXFg2GzQ9Q2NRaOxWCLhsCflZqQ63d7Wzt4ERW1es0woFBw+WXvoZO3I+KRcKglHot29g1vWVpcUZE/PuF58dc/UjBPHMY4Dt/dCa2fvM49tyctK+3wIl88BKIrqNCq1XB6Nxqem3UnWW2xFuNBwpMY2rfP7/NjBI4o331Z/6QvutNT4Va1mShksKQaGgYkZ2HcStCpYtxTM+hvfHY7jGrVSrVJEo3GhQCAQkFaz/sy5FhzHJGKh1xfkOK4wP10oEBx7/3xtfas92Zxqt0gk10+EugcYnYZTF6B7ALauhqJs0Cjv9oR4Piseb+DEqQt2S5rNYpNKPhevPTwLDJ1Gk5GSXttQ39zcJ6gktdrrGNruGPeANAkEIxMTztKC7BtpKpDlsC+rLD52uv6l1/YkW4yZafbsjNSywly9Vh2NxTEMwzAUASAIHMfxSCw2NDrxfm2D2aDLSk8x6XUCkuwfGR8cmUi1WY16zeS089S5k/EElZ6ajKEYhmOAAI5jOI65PN7+obGX33y3vCgvP9sxOjHd0No5Oe2sKM6LJxKH36/dd+RUmj0pI802OjHd2Nbl8vii0ViComZdntbOi7F4PBqLx+KJtw8eb2rrTraa8rLTay+07D9aIxGL9Dr1wNDY7gPHTAZdRVGuQi71+gNdvQMen59l+e7kCwuH3eoKePsHxj43ghLHobQoHI6gDc2SPfuUmY6YWkWr1cxVB1gMsKwUxqbhlXfhaC2oFbCi8mabUCMIIhYLszNTHKlJJInv3nuirDg7EAwPj06tX7O4uCALx7Ga2iaGYTeuXRIMRQJ9I0IBqVLKVSr5Zz3gu0U0Bu0XoaYBlDLYvAKsRt7Zfa/DcZzL7as91/Hs9ucM2s/JDYFnoYFjuEGrW1pWdba202438ILyJvD7g6Pj09s3rr6ueRIAli8qNRl0GrXy2Km6yWnnwPD4/qOnZVLxP//NN7Y8sHx5VenQ2OTu/ce+9eXHVy+rnJiabe/uIwh81dLyv/r6l/Ky0iLR2MT0rEwiLshJl4rFZ+qbT549PzntJHC8uqp02un6xUtvPLV94yObH+i6OHC6rpHjuK8/vb2yOL+tu+/1PYf2HTnVNzgyMjHd0zek16r/5pvPrF1R5Q+EfvTLP+7YfeCyqVI0Xd/U3tU7mJaS/NzjW5cvKiktyP7Bf73Q0nnRnmxhGZZhWIlIaDUZiguytq5fiSFoqt26oAImeADAlmSZafP29o+srC6723OZN9RqpqI0/PzTzv/4mXHnHpVKSa9dHbiW785qhD/7AgxPwMl6wDGQiGFF+Y0kfV/GXG4TwzBf/MIGi0l/+Pi5UCiSk5WCosjo2DRF0TlZqdVLS/7rl69e7BuxWgzLqopWVZfPddZhGIZluXvpAhkchzNN0DcCm6qhLPdmJTjPAiQeT/j9YY8naNSbxaJbTNzk4bkuKoVyaXnVWwf3rHEW5UHa3Z7OB9wDN99YPBEKh1OSrQR+Q8EoZqPuO1954jvPPzE6MdXU1lNT17j/6Ok/7dyXl3nlk46haKbDLpdJEAQhcJwkiM6egVd3HxydmJp1efyBkFZzhQpBLo9vdGI6Gov/35+9JBELw5HorMvLsuzIxNT45EwwFJFKxHlZDpIg9Fr1FVt9cCzn8vjicep8U/vYxJRMKolEYoOj4zKphKbpZYtK8rIc7d197T39IqFQIZeuXFz25Se35WU68Bs7Dzx3BpNRh3Zgk7Ozd3si84xBTz3xiKepRXK2Xrp7r0qjpivKItcaIBHBd58DioZzzeDxA4bCokK4mby3j8AwLD0tGcPQVLtlfHL2jzv2VS8p2ftejcmgffqJjQSBb91ULRYJW9p76xs6Zl3eh7esxDC0o2vA6wuuXb3oFg/4DsMw8M4xON0AaUnw9cfgVpP8eBYUw6NT/UPjJYWFN1VChIfnZkEQRCgUpiTbXe5QKBSRShfE28s9ICgZlonFKLFIeN30+MGRiXcPnWzt6l1aUfzYg2uLVAqb1axRK0/WNgyNTgTDYZHwSo83BCFJAkVRBEEmpmd//fJbNecaFpUWbFy9xOn2/uqPO68Y8YphKI5jBI4/UL1Ir1WzLEtTNIZjxXnZ4XAUx1GKoj0+f5LFSNNMIkFdccIogiII2KympZUlVpOeommGYZLMxrxsh8Wo/7tvP9fdO9g3ODowMtbTN3zw+Bmb1SSXSlJtC6761P2MSiEnUCwSjN3ticwzGAY6Lf2tr88GQ2h9g4TjQKmcTrElCOLqHXSSTfD8wyASQE0D/NfL8O0vQnk+3JJLes7QmOFIFgjI5raLF5q6AECllA0MTfzuj2/jGJ7hSMYwlCDwrp7B3KzU842doXAkNzuNouhjJ+tzs9OsFv3CiVW/HJqGM01Q1wpSCWyqhmQz3EOGVZ6rMzE5OznpKS8qu5EALQAIRcK9A/2n62sjsejcEgQQkiT1Gm1BTl5WWjp5Y9u56XlOT717+CAAbFi5JiXZduMDRyfG2ru7egZ6N6xaa7cmi0U3HcrMMMzIxJhCJpdJZdFopLmjvbmjtaK4LDczSylfKK7bhQ+CIDiO52fmOmcCgSAvKG8YluUoisaw6z8bcBwbm5w5dqpuasalVSuTrcZoND454+Q4TqWQkwSBY5iAJFiWHZ2YnpyeDUUut7j4AsEz9U1Do5OPPri2OD/r4sAIwzAwVwAPRTAU5Vh2esY1PjlNEoTNam7t6hOLBNnpKW6Pr3dwlOM4hUyaZk/SadTt3X0Hj52JxxPTTndX7+CnZ4uiaJLFIBYJMQzTqBXlxbkdPQNjE9MsyyKAtPf0t3f1iUXCypJ8R0oSy7I155qmne5I9PMmXO51BCRB00wwFLrbE5l/MAxKCiOPbPO+8obm3Hnpjjc1X/6iy2KmrqopCRwKsyAYAYaBo7Xw5kEAgLI8UN/ic0IulzpSrSSJSyWi3OxUhmFHx6ZDoWh+rgPD0LGJGZ8/WFyQGYnGGlu65+yaNE37/CGapm/1oG8/DAPeAOw7CU4PlOdDdTncQDAPzz2B1xf0esM2sw3DbujZGo/Hh8ZGDpw4Ek8kJCKxgCQ5josnEkKhcGRiLByJVJWW3555eo+cOgEApfmFNyUovX5fZ19PTV1tSX6RxWCCmxSUoXCoq+/i0ZqTq5YsL8jOjcZj/SOD79ed1Wl1aTY78ILyZkARxGFLOd9eGw5H7/ZcPuBeEJQMS9FXtvBdhsmgLc7LbGjpbOm8+OKrb9uTzP5gqG9wTCIWr15WadRraYbRaVQcQM25RrlUolFfnlOJY7hcJkUQZHJ69nxTR9/QKAAkKCpBUUKSVCrkGIo1tnVr1MosR8qS8qJzjW31je0ogo6MTzW0dqmViqce3pif7SjJz+odHNm598jE9Gw4Eu0dHP30bDEMLchOz8lMbevqa27vUSvkx07XD41MIAjiSE2+2D/ywo7dNqtpSXmRSilTyKRGvdZi1MmvWYaT564QjccCoWu6g+9ZCILbtskXi6F/3KF98X+0Rj21aZ3faklcNZ5SJISlJaCSQzAMpxoAxwFBoKLglgMERSJhZro9PS2Z47jm1osut6+kMGtVddng8ERjS08kEntgZWV9Q6dYJFQopAzDtLT32pKNSoVs4ZongxFo7ISjtWC3wNISyEq92xPimTfCkWgoFFXKlCh6Q4FJDMMEgsHRiXGVQplmSzEbjBzLzridDa3N45MT0VhsTlCyLBuNxaKxKMtxYqFIKBTiGAYAHMdxHBcKhxNUAsdwiUQcjycAgCQJDMXiiThF0yKBkCAIjuMomo4n4iRBkgQRSyTGpiYAIBKLzW0/nkiEI2GWZTEME5ACqUQCABRFJagEy3EkQQRDYQLHOY6TSaQalVpAkjRDhyNhmvlEuh6GYVKxBACisWg0FqNpGkEQsUgkFAgBYNo5u+/Ie6+9u0un0aQm24EDsUisUanFIhH24RElqEQkGqVpGsMwqURK4DiCIAzDUDQVTyREQhFFJeKJBMdxIqFIKBAs3Cv9NoOiaJLZerwuFo3F7/ZcPuBeEJQsezWX8WUQOL52RZVUKv75719raO06e6EVQ1GdVrV5zbJvPvuYPdkcDIXzMh06tfJcQ5tSLqsoyRMKBEqZVECSKIoAgFGv+eL2TZPTs6/sOqBVq6wmQ0VJfktHTzgSVSnl+VmOJLOhratPLBblZqZtWL1kYHhs/7Ga882dJEFkZ6R+87nHkqxGkUCwcc0ymmF27j1SU9e4ffOaWDzhdHnmXPYEQUgkYhzHcBw36TVfemTzK28dOH66/nhNvUBAbl6zbN2KqkUl+dnpKT39Q4dOnP3p73ZwHCcSCTc/sHzlkoprtJ3kuVuwHLDc5zb7XiplH97ilcuYv/i7pH/9kVkkYrdu9F0r6VskhMIs+NfvwN/8GI7WQjQGCHJrOTofMffMyM5MoWj6ty/tnnG6+wfHVUrZxrVLBALy1Z3vPb597ZJFhX0DY//4g9+8+It/lEhEiQSFYeiCqwLIsjA6CS/shEAINlbDsjK+8OTniUSCiscpsfCmX/vzs3OeefTJJWWVHMdFotG//P7fH6k50dPfO9cgKhQOXxzo6x8ZpGk6zZaSnpKmUqowFGU5LhAItHS2zbidCpk8LzNnfHICQdEks0Uplw+MDDs9rsxUh0GrZzl21unsHxlKtiaZ9Z94iLAsG46Eh8dHu3ovxuJxiVhsNZqKcgtIgcDt9YxNTcTicaNW39zZplVr9BrtssqqjDRHSrI9HIkMjg57/b5Lt6ZSqMoKihJUom9ocGh02Ov3oyiamepIT0nDMHRiarK9pyuRoIZGR0cmxuzW5PLCIqNeb7MmSyUSlmXjifjY5ETPQJ/P71fIZAXZuUa9QUAKwtHI9Ozs6OR4uj111u0cn5ygadqRkpqRli4SCO9PTYmiqFatoSiWYdi7PZcPuAcE5U2hVSvXVldVFOW5vL5INEYSuFwqVSlkcrmUwHFCKV+/eklRXqYvEDTqtQqZlGXZZx7bolTIJCIRAGhUim0bVy4qyw8EwxKxUCmXIQgST1AalUIkFCypKNr7yn/PutwGnUavVZME8b2//Mo3v/wFry9AEoRGpVAq5WKhYHhscnRiSq9V/+T7383OSBUKyZ+98Oq5hlalXIai6LoVVYvLCjiO02lUGIZVlRXkZqZ5fQG3z69WKtRK+ZyJVC6T/u2fP/u1Lz7sCwRpmlUr5Qq5VCGXLag+Szz3CUols3xJ8D9+MP69f7H+7NcGhkG+9LhbILi6hiZwsBjgB9+B//wD1LV+xhydjxCLhSWFWT/+t7+IRGIvvLwnxWYuzE/fs+9kVoY9K8M+ODxR39Cx4YHFHMcdPVkficTsyaaKsrzPssf5Z8oJtc3Q0AFrqqA8Dwyauz0hnvmEphnqs4VbcBwXjkYSFEWSpEQsAYBwNPLLl39/+NRxj9cjFolj8dgjm7Y9vGFzpiPd5fH8n//8YUtnG0VRcqlMpVR5fV69VvfUQ48V5OTueHvnydrTf/uN76xbsTqRSJxtqP/ly7//4vYvbFmz/tI9zricNXVn//N3v2AYBkVRmqY1KvWDazc8++hTzZ1tb+7b09nTbTIYh8ZGllcuTk9JdbrdR2pO/Mv/+p7P7ztSc/JCS9OlWysvLPndj366++DeN959e3xqAkOxaCxK4MQ3nnk+zZbS3NHW2N6aSMR37tsDCLJmWXVbV+fOfXueeezJLWvW4zh+8PiRP+16fdbtYhgGxzGNSv3t575evWiJ2+t57+Sxl3e+mpuZ7XK7XV733CH/w7f/enFZpVqp+izn/J4mFAxS1A1Z3O4AnzdBiWGYRCwSi4RajZKmGRRFCRz/KC0awzCZRCy2WRMURZLEnNdApZRfOlwmEYuTLRRNYxhGEp/I7xaLhDaryaBTC0hirrq4RqVQKeRmgw5DUYIg5sycCCDdfUNHT9WZ9Nq8LEc4Eq290KqQyxaXFwoFpEQskog/jjsRCYVCgUCtUljjBoGAxDFsTjJiCKJRKRRyqZmiOY4TfJg2dPtPIQ/P5aAoaNRM9ZLQc190vbNfuXuviiC4Lz3uvpZdgMAhxQpPbQEUhQsd8Js3AACKc0B5hYoHNwiCIAIBqdepEwnqsYfWyKSScCR68nTjtk3VBIH39A6PT84+vGXl7//nHY1aIZdJWjtC/YPjD25cvkAi1iFBQXM3HDoNcilsWwMpFlhoBlSezwZNM4nErQjKjp7ul3e+dvD4kUAwEIvHO3u7c9KzVi5eRtH06fra+uYGjVK1afU6q8m068DeuqYL9qRkjVpT23i+pbPNqDMsLqswG0ydF7vfPXIQQZBYPMYwTCAUcLld0ViM47g5p7nL445EIgz7CfdCPB5LUAmL0bxmabVGpT5zoa6u6cK5xguPb30kFo/7/H5vwG9PTn5y2yPZ6ZnhSGRgZNjpdsfj8VRbyrZ14vKC4lg8fvDE0YGRoSSTOTcjk+PAHwxajKaKotLUZNvg6PCfdr3e3tNlNZkz09IzUtMuDvRVVy1dWr5IpVCGImGnxxWJRELhkNPjenPv29FYdOvajckW69jkxN6j773x7m6L0SwWCsOR8KzbZfb7N6x6gMDx5o62Y6ffb2xvzXZk3s+CkmZYluUtlLcTBEEEJHnFSHcEQeYqk19jLI7jV+xGgyAIhiGXysG5JZf1BFcqZPYks8mgnZ51R2Nxiqa1auXSyuLqxWXCKzVOnCtXRFxpjziG4fwjh2cBQBCc1ZJ48lGPz4edqZO+9pbaoKOqlwZFoqvbKQUkLCoEmgECh6O1sGMvJCgoz4NPxS7fLCRJFBVkAsDA4HiKzWw0aJtae2adXoNOPev0+PzBovwMq0U/PDJ16FjtssVFOI5hGIbj2F1+JWvphuPnYHQaNq2AigJQ3rMl2XmuAsuxt5YQFgwFh8dGh8dGOnt7UAQpLyp9cO2G6qolNE3XNTWMTowVZOdmpKZpVGqLwVhz/tzFwf6M1LTmjla317t59bqH1m8x6Q1Wk/nAiSM3Ky+kEmlqsn1ZRZU9KZlhWQCIxeNTs7PMh8GRMqm0sqjsofWbVEp1S2fbRwNtlqTcjCyXx13f1IggYDWZ1yxbsa56NYaiWWnpBI5LxBKxUMQBsBw345pFECQ12WazJg+MDFUUlZTmF0bjH+eYenzei/19nb3da6tXbV23McuR0dPfe3Gwv7WzvXewPzXZBgAoitqTktcsW6FSKERC0aFTxyempz5KkL8/WTj+bvi8Csq7i0op37R6WXZ6SnN7jz8QIkkiJdmSnZ7qSEm621Pj4bl1UBSyMmJPPOqJxtBTZ2T//Vu9SsXkZUclkqvf0S7N0TndCCgGNAPleaCfH1ev2aR99qnN0Wj8dG2z0aBJthp3vXt807qlSxYVajVKoUDwhx17w5GYu3eYYViVUqZWKeRyyV2IuOI48AZg3/twoQNSLPD0VlAr+OhJno+wGM0VxaVioYjjuJHxsdyMrOLcgiSzJR6PT81MR2MxfzDYNzTQ09/LcaBVqTEUdXrcTreLZRibNcmg00nE4pz0rMu8ah/BchxFU9yVQr0xDCMIAgGob270+Lw9/b2XuVDlEmlpQZHZaBIJRYJL6muSBMGx3NjkxLtHDs44nWurV21cvTY/O5emaYlYQtF0x8Uur883NjkRjydomgEAkiRJkkAAEYvEIpEocUm6rS/gn5qdQRA0LyvHpDcqZHKT3pCXmd3S0TbjmtWoVACAoVhWWrpCLpdJZWqVCjhgGPqKB8VzV+AF5W1BrVKoVYqywty7PREennmmqiIciaDxOLJnv+pXL9Df/vpscWHkWvk2H+Xo/OPP4WQ9TM2Caz08th6Egs/eaXAuBxwApBKxWCx0uX0uty89LUkqEUWjcX8gFA5HURTZuefYyNhUdkZKWXH24soCmUxyp02VCQrONsGZRiBw2FQNuY47uneeBU+y1bpuxeocR2ZORuY//fiHuw68K5dKrSazSCjEMAxBEBRBcAwjSdKWlJRkseRn5agUSgzFAIFoLBaLx4UCQTAS+qR5EgEAjmM5lqUoyu3xXNF4eaG16ZXdb75fe2b7pgeXlldpVZr3685cugKKYSKRCEEuf/9hGKart2fX/ndq6s8uLq14dPO2wpx8mmEC4dAPf/GT0Ynxotz8qtLyqtKKvqGBT+2W4zgOLpGCCILOvelRFMWwDMuyzIcFXggcx1AMABAECBxHPzUTngUCLyh5eHhujorSMILAxBR5okYuEnHPPOlaXBm+1gAcA5MO/vfX4aXdcKYRXtoFM274ynZQKeare3WS1YCiKEXRJYVZh4/XVVXkj43PNDR3P7CqsrW9LxSKFOSmZziSj56sj0RjSxYVGubJRHpD0DTMuOHlPeANwPplsH7Znds1zz2FTCqtLC5buXjpyXNnzlyoN+oNj25+KDXZ3tDarFaqivMK0mypuw68O+GcjCcSWrXGkZJK4ERtQ71Rb7AYTe+dOBoKh+VSGQAgCErgBCCI2+v1B4OhSLijtztBJT6906nZmcHRYY1K/eRDjxo0usHRYY/Xo1Zd/wLp6r948PiRE2drtGrN6qXVFE119vbMxW5NTE/qNdqVi5cuKVvU0tX2aZ9ALB6PxWKXhgdo1RqbNZlj2bMX6soKisVC0cDI0NkL9XPFcTQq9Wc6szx3BF5Q3i7iCWrG6T5b3xyJxQGAIHCNSlFRnKdSyK4YoMlxHMtyoXCEwDGx+PJqsQzDjk5MBUMRnUZlMmjvxAHw8FwFmYwtKYz89bdm/vu3+roLEhTlolF09YrgVQcgCAhIyLDDlx4EjRLePw9vHYJIFLavhcwUIK/spLspBAISAHRa1bbNKxqau843dkajcVuSsTA/439e219SmLW0qgjHsYt9I739o/m5jjsqKKdc8Oo+6OiDNVWwfimf2c1zNXAcV6vUX9i6fXJmuru/99jpUxVFpcsqF7d2d/SPDL30xg6zwdjU3mo1WYSkwKgzrKxadurc2YuD/S+8+rJRq0dQhGZoBEURBJFJJIU5ucdPnzx4/HBPf69AIAhHIlesbqaSKw1afctM+2tvv4WhaP/IECBIMBxMJBLX9iY3trY0d7S5PG6RSHzg+OETZ2sQBEnz/IoJAAAgAElEQVRNtj+x7RGFTDHrdh0+daJ3cGB8apKmqUQikUhQJEHq1VoUw3Yd2BuPxzNSPzbVK+XyvMysDavWNLS1/Orl3ysVCq/f7/a4t67bmO3IvCyRiGdhgv3zP3ztbs/hOoxPzNSf79i+ac3dnsjNEY3G+obGXn/nEEVRKIL4g6GR8amxyRnDVVp7syw7ODLROzgCgGhUlzcMYBimtauvf3hUJBSYDLo7cgQ8N0p9c8fEzOwj21ZfYx2WZS/2jZw+12LQaxaV5xnv8bcCoZBLtiakEnZkTNDbL5yaJtQqWq+jrhLBBQAAKAoGDejUIBLC+DQ0d0MsDlIxKOXz1SqGIHCtRiEUChAEMRt1yUlGl9s3PDq5fk1Vfo7DHwjWnG1KTbFkptvk8jvVO9vjh7pWeGkXqOTw1BaoLIRPvS7yfG6ob+gYGXFtXr3hBtenaSYai1I0XZCTm5OeqVVrUATRabQ0TQtIgV6nddhT01PThAIhy7DhSDgWj6sVykWl5cV5BXqNFicIiqYFJCkUCDRqdWFO3vnmRp1GW1lclpuZJZNIKYriABAEUSmUxXkFSrliUWl5apINQRCP15eabF9cVmHSG8RiMceyNE0LBGSS2ZyR6jDpDcsrqliW5VjObDRWFpepFUoMwyLRCEVRErFkWcXiaCyGYajFZElJsknEEpIkSYI0aPVVJRVzhZbnUmDNBpPFZE5PSc3LykkyWTAMm3smmgzGJItVLBLhOF5RXJpuT9Wo1HqtFkPRWDweiUYlYvGikvKH129Js6cAQDyRwDBscWmlzZokIMlYLBoKh0vyCvOzcu/nno1Hak6UlzmslgVRoPp+t1B+0GkgEkUABCRJzoexZA6GYYOhsNPtXb2soigvMxAMN7d3v/zm3vSUZFuSOZGgPD5/IBTmWE4qESvkUgLHz9Q394+MVRTlGQ1asVDgdPtC4QiCIFKJSCmXef2BialZsUiokElZltOqlVKp+Iq54Tw8dwChkNu+1Ysg8Npb6vONklgc/eZXZovyI3L51XN0EASyUkGnBq0SXt4D752GQAgiMSjPB5l4XpJUMAzLyUrNyUoFgLHx6boL7ZvXL0tLsQZD4b6BsaGRya8++5Bed6fcZ/EEdPXDodMw44ZvPgFFWbfW2Zzn84pYLC7IyTMaDFKxZK72DYIgQoFg05r1i8srE1RCKpZKxZIHH9hQVlA0MTUVpxJ6jTbZYpVKpOFIZNY5q1aqyguKVQqlTqPlOI4kSbVSJZfKREJRliPjm89+da4YpFatUatUE9NTGpVKLpOJReLnn/gSAFiMRqlEatDr8zNzAqGg1WSWS2UJKhEIBuUyeWZaulGnZ1jWpDfO9QhIMlnWVa9aVFJuMZqsJnNlcVmC/oQbXSwU6bXaL21/fEn5sD/gl0qkabYUl8dN0ZRaqVbI5dVVS/VaXTAc0qk1eo02QVM5GVlatVouk5EEuaxicW5G9sjEWCgUkkgkDluqTCbDUBTH8aUVi7LTMw1anUwqw1A0My39O8//mVwq1Wnu7ZfzzxP3tRzhOI6mGX8g1N7ThyCQZDZaTQbB/PXVRQBEAjLZYspKs7Mcl5JkeWHH29FYjGGYWZfn8Mnajov9CYrOSLUtKs3Py3I0tHUNj06IhAKb1ZRsMb534kxP3xCKoTkZqZtWL+c4LhyJ1jW2NbR0RmPxVUsrFpUW6DT3b/0tnrsOisIj27wqJf0/r2n27Fd5fdjf/9X04srQtWqeA4BGCdtWQ5IRfvIyHDgFPUPwd1+ZR035EUaD9pknN2vUChRFj52sv9DU9eDG5Vazfh7fG6/D2BQcOQvHzkF+BnxhI1gXhBWBZ+FA4LhGpf50gKBaqVQrP1FdK9mSlGz5RJ2QeCLeNzTw77/4CYETVWUVdmtyS2d7PB63WZK0ag0AoChqMZosRtNHQ+SOD5xjJAGZaR+7m2USaUl+4Sdm8OGgy0o8SsQSiVhiNQEAXMMuSJJkflbOx9uXfuwQEJBkUW7+pSsbdR9fF3PdX+bmfykioVAkFF66pkKuUNzHhsmFyX0tKBmW7e4b+uF/v9R1cYCi6cKcjC1rq5/avnG+ts9ynNPjO3TybN/QaDQWm5icXbmkPMlsHB6brL3QWtfUvn3zGpZlT5698MpbI//5/b/OdNhJgnDYkzAMfe3t94bHJxeVFoQjkf6hsVfe2ieXyzp7BpKtpiXlxYFg6Dcv71TIZbyg5LnrVJSGSZJLUOjpWulvXtIlEsgDqwLXUYY4DnkZ8FfPwGv74UQd/PMv4csPw/plYNbP48RwHFMpZXPNP7y+IABsWrdULP5M3XpugnAUXj8AR86CzQx/8zzoVHydIJ55RC6VLSlf9MTW7eeaGjp6unv6ejmOW1u9atOadQ473yCe5y5wXwvK6VnXhZaO46fr/YEgy3Ierx/H8a3rV4hF89cblOMYhk0kqEg0FgiGXF6/Pxgy6jX5OekSsUilkM04PTNOdzAURlBEp1YFQ2GNSklR9PEz55/Ytr68MIdluYwUWygSnXV7TAZtfrajojgvEAz9+uWdsQXTEp7nfkYmY4vyI3/+1VkA6OwW/ukNTSSKbt3ku841JBFBQSagCJh0sOsIvLIXBsdhwzIoyfmMHRo/Yq5JAQCgKFpWnJ2elqTTqu5QwaB4At48CCfqQS6FR9dDcTZcqakBD88tg+O4RqV+eMODlcXloUiI5Tgcw406fUqyTSzi43R57gL3taAMhaMzTrfXF5j70+31j01OJyh6nh5ngCAgkYiy01Pysh3xeDzNZn317fdGxia1amUiQU3OOEPhCMtxLMMiCIoAQpLEXBwnTTNjk9N5WQ6TUYdjmNmoC4Qi79c2mI36ZKvJZNBKxEKSJPhOjDwLBJmMXVQejkZdL7+m6b4o/NPrGpGQXVwZksnYa/2TSkRQnAMaJYiEcKIO3j8PTg+MT8OSEjDp5rEtIYqiKXbLfG3t+gTD0NwNu44Ay8LyMli3FBZI70eezxcYhjlSUh0pvD2SZ0FwXwtKiVik16q1aqXHF2BZVq2UW016ksTnS6chgEjEoqx0+6KSfJZlvf7ggWOnnW5vW1fv2OTM2fPNq5ZWWEx6iUQcjX9ga2RZluM4BEUEJBFLJBiGpWnG6wtMO900Q5MkwWfh8CxMCIJbuzrAMPDaW5qmVvHPf2tgWKS8JKxR09dShiQBDht843GwmeHd49DQAb3D4PHD8nKwW0ByDxpa4gnoG4Ede2FoHLathvXLINl0/VE8PAsAJBIGAI4UwKUPGo4DjkMiYaAoIEhOKAT+McRzJe7rmB6LUVdZUrBsUYlQQAJAcX7W5geqpWLx7ejMRlG00+0ZGZsSCgUer3/G6X7msQeff/KhypICkVAQDH1QF5phGIZhREJBksXY0d3n9QVmnO7jp+v//ecv+fxXr/PHw7Mw2LA28M2vzlYvDR47KfunfzPXXZBEozdwNQkF8PAD8L2vw7qlMD4N3/8lvLAThsbhJrsSLwhm3HCmEd49DqlW2LoKSnKuP4SHZ2GAjY5gY6NIOHT5BxSFDfYTzY3YYP8VPuXhAYD73EKJIIgjJelH//gXX3nqIQQQk0FnNc1bTgCCIjiOOd3e//OjX0vEIgRBCBKvKitcXFbIsmw0nvjNyzsPHD+jlEmdbm9KsnVq1pWSZN5/5NTYxMzKpeXPP/nQm+8cPn7mfIKi1ErFN559zB8Izrg8c61aEQTRqJSCO5asysNzwxTmRUXPOhVyZsebmh/+p2lsnNy+1Ws00NcfabfA1x6D0lx4eQ8cOQuDY/DIOli/FO6hmp1ODxysgVf3g9UI3/0yZDv4RByeewii7ixgGLd4GaP4OMccHRsVvbkDMIxVqYjz5xDgok8+w5gtgPMPIJ5PcL8LSpFQkJJs0WvVCIKQBEEQ83ZCREJBTkbq33/7y7F4fG5fBEHYLMaUZAvHcSKRwGG3CgUCoVDAcZxIKFApZAqZ9NkvPMgBWM0GtVJB4HgsFmc5TiaV5Gc5gqFwNBZXKeUAIBQIvvOVJzId9vmaLQ/PfCEWs5npsS9+wS2VMO8cUO14UzM1Qzz3lNuWHL+Oo0xAQpIRZBJQKeDQaahthlf2wsUh2FQNxTlwx7Kzbw2OA7cPXtsPB2sAx+Brj0FRJsgld3taPDw3ARoKchgONPXxolgM9biwqcnYQ48yOj3e24MP9BH159gNWzgpLyh5PsF9LSjnQBBEKpn/kHmSIEwG3aardLWRy6TZ6VeIpK5eXPbR7ysu+R0ALu2vQxD4ZZ/y8CwcRCIuOzMmEXsIgtv3nvKd/SqKQh7d5s3KiEml1/RiYxholFBdBlol6NVQ0wDH62DGBctGoDwfbOYFmt1C0+D2wZ5j8M5xYFnYvAK2rACFbL46lfPwfADHIeEw3tmOjY8Cy7AGI1VYwkll85jBdjkIwqrU8eUrqZIyTiJFQ0Fuchz1eYDvhcjzKXhBycPDM/+gKNhtiaefcBME9+pOzR9e0SIIbH/Qm5MVk0iuFxmJYVCQCRYDGLXwznE41wKd/TA5CysqIC0JNMqFlRPAsuDxQ20L/OFtYBjYWA2PbYA72Suc5/6BYbChAeGenWTdWUgk6LwCTiqjM7M5yW1rJSoQsLaUuC0FAJBQEJ2eQv0+qqiU4/3dPJ+Cj+/h4eG5XRgN9Fefcf379ydMRuqnvzL8/DeGptYbNjFqlPDkZvjZP8A3noBIDH7yR/hf/wF/eBu8AWAWknUkFIH6NvjbH8PkDDy9FZ7fDmlJ1x/Fw3MLUAnhnp3EhTrU60HDIaK5QXBwPzo9dWd2TjReIJoagGHjK9YAX+qS51MspBd9Hh6ezx1iMVtRGv7NT/u++72OU2dT/AFj/6Dm6SfcN+SjQ1EwaOHxjVBVBO+egJoLsGMvnG6Eh9bAuqWQZLz7PuVgGA6dgZd2AcAHWerz2uyHh+dSEJZD3S7kwzJzwHFI0A8Udc1B80EiIXhvH9HeQqdnJpYuB4I3T/JcAV5Q8lwfmmZohgHghIJ7vtsHx3GRaExAEviCcpt+fkFRkMuZ4gLqm1+F37x4qLElNRCsDAT1j2z1GvTU9b8EAgedGhQykIohzwEXOqCmAV7dB609sKICKgruWpVHloWxadh7Ao6fg0gU/uxxWL8cLHrgay/w3DY4DKMKirHBfjQYAADACSYji5PLb+tOEbeLrD2N9/VSBcV0YTFrtvK1C3iuCP9MvV3E44nJGefx0/UOe1JOZppeq55b3tzRMzA8LhGL1iyvrGts16qVFqNOLrs8AoammfaevniCspr0VpPho+UDw+NdvQNTMy4CxwEBFEV1amVVeaFcJsWudJFHY/GpGadELFIqZAKSvOxTjy/Q3N6TarMY9VrR1VvDdfUOcsCZDFqWZc/UtwRDYYph5FJJcV6WTquKxxPdfUMDw2MYhsUTiYxUW5o9Sa288j3OHwz19A0Nj03iGMawbGlBTpLFQH74vtve3ecLhDQqRU7GtXo/sCzrdHu7+4YMOk12egrLcYFgqKG1y+3xowgwLFuUl5lkNiIIMjE1c765U0ASLMelpyZnO1IwDKtrbLNZzRaT/hqHzDOPIAiIRMiGBwy9/ed3vfN+S7vL518XCCg3rQtnpt9ASCUAkARkpYJZD1mpkGyCulZo7ISJGegagMJMyEoFi+GO5usEw9A9AIfPwIl6QFHYsBweXQ9m3cIK7uT5/EEQiaXVaDDI9nQCQzPmpERlFadUzeMesMlxsq6WHR2Z+5MxmpFIWPjOLk4mZw0G/GI3NjzE6g10Wjp86oHCc5/D3/5uF9FYvKt38N//+w+rllY898RWvVbNcRzHwZH3z+09fMqeZFq5uKyxtcuRkqyQST8SlAzLIgAoijIs0907FAxHcAy7VFB29PS/uvvgwMiYXqvGMSyeSJgMOplMWlaYMyePWJZjWAbHsLnGjP5A6FxDW5rdmuVImROUHMcxLIsiKIoisy7PW/uObFlbLRGLBCQBCIJ+0ofIcVw8njjX2CqXShUyqdcX2LX/WCwep2hGJhHH44m1K6pGxqeO1dRdaOlUK+UefyAv07FpzbKK4rwrnpbegZGjp+o6Lw5IxKJZlxdBELlMotOoOI4LhSOHTtSOT82UFGRfQ1AmKMrl9tU3tR84drq6qjQ7PYVhmO6+oX2HT804PSIhGYpEp2fdW9ev4DjuzPmWnXuPmPRafzC0pLxYIZOaDbr27n6PL4BhaEryHWzHd3+DIIhQQDhSlYX5F1F0emhE8esX18YT0q0bISsjJpPdWAFzuRQKsyDXAQWZsPsINHTAzvfg1AVYvxQqC8FuAaUMZJLb6wdnWQiEoasfdh2G906DVgkbq+HxjXw7HJ47AYYxmdkxoRAbKoF4nMnIZKzJ8+iAZlUadHSEaGvhenvmllCFxZxUjvq8jEqFd3dCTxcnk1E5+UyyneMFJc8n4QXlbQRD0RSbtW9obGB4fHFZIQBQFDUwPD7jdNuTTEKh4C+/9tRlQ2KxOIahQoFAQJJPPrzhipu1mg0PbVq15YHlUon4Qkvn0VN1f3jtncw025ygpGna6w9q1QoMwwDAFwierm9SKmT0h3kMHAeBYPgDBfkhiQQViydwDCM/6bBjWXZwdHzG6dZr1QSB7z9aYzHqH9u6VqWQnTrX+LPfv1ZZkn/oxNkERX/ry49XV5XOuNx/+U8/lknEVxOUO/ceUSnkP/zet80G3Wt7Do1PzvQPjek0Kppm6hrba+oacRwvKci+xlmdcXp27D6we98xkiSWLSqZm/yruw5mZ6R889nH7EnmwdHxp7/1j1np9mAo0tTW8+3nn1ixuOxoTV1rZ+/RU3Vf+eLD2zaufOm1d1iW5QXlHYOi6LN1rQcOnynKz3jy0ax/+rcdk1PCn/5q9cU+41eedq1bE7iJbeE4rKiA8nw41wL7TsKBU/DDF0CngpWV8OAqWFMFJHEbNWU0DsfPwW/egOYuKMuD7z4HVUUg4+tN8tw5GFsKY0u5HVuObdmGrFmLXJL0xglFHI7TRcUfL0FRTiTmRAu7LizP3eB+F5SBYLitu/fI++domikvzltSXviRb/qzg2JoarKlu2/Q7fEFwxGhgGxq79aoFRajDgBisfhv/7TLkZJs1GumZ92HTp6NxeKBYEipkFeW5n9x+8bd+48Hw5HSguyywmt1b8NxTCGXoig6NDLx3smz9U3tAgE56/Q8UL0oJz11eHzydH3TyPhUPJ5Ishh6+ob3H6tRyGUIwLoVi9Ps1kSC2rX/2NsHjociUZVc9sRD6ytK8j/yBSco+tCJWpNel56SrNeovrB1HcMwSoVsbHLGHwgp5VIURbauX8myrFatBACSIFDkyuE1LMv5AsEEReM4FgpHjp2uz0q3m/RanUZFUfT0rGvX/qPpqclymeyKwy/ZDgMcfO8vnj908uzcEoGA/PrTj8hlEq1aCQiCoRjDshwHQoGAJPDpWRfDMP5AkGEYiUSEIohZr6Mp2un2enx+tVJxs18rz80SCkXaOvt+/eKuzeuXrl21SCGX/vHXxr4B4c49dGu7+Ps/NLd2iL7ytEulYm5CB4oEUFkAmSnwpQfh1AU4UQfnWuBCB/xhN6yqhFWLIMUK8xvSwDDQ3gevH4CzTRCLw1cfg8fWQ1ryPdlwnIfnSnASKScSA3AfL0JQQBDmEzndCKAoXOU+z3M/c18Lykgk2tbV+39//uLA8DjLsk3t3SNjk5+2Gt4yCCBCAZlmS2IY5mL/cG5m6vu1DSa9NtWelEgkWI6bnHZq1AqZVOzyeC8OjDz3hQfFImFNXVNdQ9uWNctnXJ5gKByORC/brNPlef3t9843tWMYNjXjQhHk0S0PiISC9u5+kVCwZvkivUbVOzAyODKuUshtVlNKkqWyJD/ZYmzv7j/f0vHQxtUqhay1szcSjU3OuBAEkUslpQXZDMuOjE8dOH4mLzv9I0HJMExja9fWDSuNei1BEDqNCgBOnDl/6GTt+OTMskUlQqFApVQgABiGxuKJ3fuP67VqR2ryp88Gx7EzTrfL452cnuU4TiQSHjpxdv2qJZUl+W6v/813DxfmZBAkEQpffryXoVEpN65eKhIKzpxvnluCoWh6ShKGYSiKjE3M7Np/rKI436jTCATk8OjEW3uP9vQP9w+NFuRk5GenIwhCkoRBp4nFE4Mj47ygvN34fMGW9t4dbx5csax0+ZISq0WfSNBiMVpVITLofe8dJWvOSl95Q+P24I9v9+RkxQQC7vobBQAUBZkEZBIwakGjhJIc6OqH9j5o74XXD8LZZsiwgyMZ0m2QbgeF9NYrP3MczLih7SLUt0JHPwyOgVkHa5fAykpISwYB7/Xj+RyBYVe+Um5f4XSezxH3taD0+AMdPf3HT9ezLAcATrdXKBB85amHxCIhOn9ZbAU56QiCtHRedKQkDQyPr1xSbtCqxyanL10HRVGZRLxicZlBp5mYmq290BKKRDmOAwCPz9/e3T85PQsAyVZTMBS+dCCB4wzLTkw7KZoWkIRKIScJAkVRkUgw6/JQNG026q1mQ0lBtlqldPv8kUjswbXVQgFp0GnicSoQDGEYlplmW15VShLE2Qstr+4+QFEft11mWHZobJIkCZn0E049sUgolYgDgVA4EpVKxAiAy+Orb+ro6OkvysvMy3R8+jxwHESi0XA4QuC4SiE3GrTtXb3N7T0YhqEI0tM39OUntk7Nun3+YIKiEhRF4DhyJYOVVCLOz3ZMTjs/MoUiCCIUChIU1Ts4dr6pY2R8asOqJRaTfnh0MhiOGHQaDEOVCjnHcW6vf26IWqWYmJodn5otK8y9he+U5wZhWbbr4uCZcy0CAbnhgcUpNnM8TvUNjB44fKaoIDM7I75tMyeXMQcOK/YeVHIcsnm9Ly87qlbfTJlJAocUK6RYIScNctMhxQrtvTA2BaNT0NQFdgtk2MFqBKMGtCrQaUAmvqEcVY4DioaxaRgah4uD0NQF7X0gEUFhJiwpgdVVfNAkDw8Pz6Xc14IyEAw7Pd45NQkA0Vjc5w8GQmGhQDCPVRHysh0X+0ea23uWVhSjKKqQS8Wfij4RkITZoCNJAsNQqVSskMtomp4TlNOz7hmnp+ZcIwCsX7nYFwjptOqNDyybi6EcGp04dOLsL156/YHqRWKR0Ovz9w+N+YIhfyDo+VA8zREKRwBAqZDN7T3bkcIwTN/QKIoiyVaTRCzCMUwqETMMe6m/g+M4rz+AIihJ4BRNh8NRgsCrq0oXlRacqW/+2x/8bMPqJTKJ2B8MX2jpfPvA8dKC7JVLyq8Ym4ggIBIKUAQtL857/smHWJaViIT7j9acOHPeqNdIJeJoLDHr8kzPuiiKcrm9eq0Gx2/otZjjOIZhBkcmDp042903tLi8cPWyCplU8saeQw0tnT/55+9azYbuvsHdB47vPfT+qiXlcyecZujL1DnPvMOy7ODwhMvt+/OvPupITQKAvoGhIyfq9r13enR8BgAqSoUZDi7FFv/V7/Vvvq2amCIee8i7ZFFIraJv+ho0aMGgheVlMDAKpxqgvg36R6DmAhysAZ0K0pIhKwUKs8BmBrEQcBwwDAgccAwwDOb+0ygKEjQkKEgkIE6BLwA1DXC6ESZnAMchNQk2LIMVFWA1AnFf3zl5eHh4Ps19fVs0G3SZaXYMQxmGBQCpWGTQqfUaNYbNZ3SIVq0aEU6NTkwfef9cXpZDo1Le9CQdtuz0FAAwG/Xnm9qHxyY/+tRmNeVkpAXDEX8g9LtXdmEounXDyvKi3PHJ6Zdee+fS7QgEBMMyoUhk7s+xyRmvzz8+NXvtvSOASMUiFEU4jvP6AjXnGq1mQ5bDrlTItRqVRqV0efxOt/ftgyfeP9fwxe2b5mTuFTeFoqjVZJBKxTiGYRjKcqxIKJjzUyOAhMKR1/e8NzXr8voCJoOuKC9rxeKyGxeUXl/wZ79/FUWQxx5cu2Z55dzyWDzBMGyKzQIA6ak2mUTcPzT60SgCJwQkXzbo9oLj+CNbV2/btEIqFQPAxOTsnv3vt7Rd/MWP/8YfCFEU7fMH09NUjz/iycmK/sv/M+8/pLjQKPnzr80+95RLLr+x1O/LQFFIt0O6Hb78MPgC0HoRTjfC2SY43Qh7TwCKgloBFj0YtKBVgV4Neg3o1KCSAwCMTsHIJIxOwsgkTMzAjBsAwG6BpaXw0BpYVck7/nh4eHiuxn0tKGVScWVJ/o//z1+/d+IMRdGLy4s2rF4yv2pyDnuS2aBT79i1/0f/9JdzYYg3NUl7knmuchCB4x3dfaFwpLmtG8cwkiBGx6c6ewcLctINOjWKIgiKoAgyOTX72p5Dg6MTxflZc07jpvZurVopIEh/IPTmu0cy02xvHzyulMts1uu47ebsl+FI1OcPIghC0czv/rTroY2rNSpFfXMHwzKZabbjNefbuvq0KiVN0cdPn0dRNCPNZtCqWzovAkBeZpr2w0OWiEWZafaJqdk39hzKy3bs2HXQnmRauqjEYU+KxRMAcK6htad/WKWUL60oEgrIN945ZNRpVywpu/Yk4/HEb/+0y+3x2ZPMs27PviM1AFBelGMx6eUy6e93vL2koqiusW1yxlmUmzk3ZHrWjaGozWq8qe+C5xYQCEiS5FiWnZxyvvDyHpIg/v6vn83LSWMY9rW3Dh06ds6gV2/dVJ2WYv/X/z25613V/kOKn/7K0Nou/uqzzuKCiFB4YyGVnwZFQSGD8nzISYOntsCsGwbHoKUbBsfBF4TRKegegDgFOPbBz5yPO06BUgYqBRRlg14NWalQlgdJRlDIeDXJ87mHPHGUaGtBfZ6PlrBKNZ2VE1+/6bpj8Y42JBRktTrGkXGt9VgWdTnJUyeI9hbE72eVSmrRUqq8ktXqkEgYHRtl9QZOKvuMtZBQl5OoPc2arXR6Bqe4OSMOzy1zXwtKDMMMOvXmB5Y5UpJYlk22mOzJ5ivG7d0COI5pVIrsjBS5VJl8Lr8AACAASURBVKKQSVZUleEYlmqzSMTiNHuSQECiKJrpsJkNOpVCDgA5GSkEgQOAxajLyUwVi4X2JHMsHtdqVEKBAD40pRn12jSbxeMPjoxPoSjK0Ey2w75h9RKVUv7A8kX9w2PdfUPTs67s9BQcx/RatUohX76oZHBkIp6gSvKzZFLJxNSM0+2RSSRZ6Slmg25yxqnTqAgCx1BUq1aWFGRfWv8cx7Ci3EyvPzg160pNthTmZIxPzQwMjw2NTqAI8tzjWw16DYZjKqWcJAi31z8XpKjTKHUaZSwWH5ucsVlNc4ISQRAMw9auqGrv7p+YnnX7/FazvrK0IMuR8lEVdK8vIBCQUrF4rjDn0OjE1U6vQEhmOuxz+fIAAMAZ9VqhUDDr9Mw6PXPns7QwB8PQ8anZ92sbwpFocV5WfnY6x3Ecx826PHqt2p7Elw267SAIgiAIy7KxWMKebLKaDTmZqTTNDI1MJlkMapUiFI7sPVjzyDbCnmza/iDoNNS7ByW19ZJEAtm83re0KmS13GpnOQwDqRikYjAAWPRgt0BWKri8EI5CNAaRGERjEI5CMAzRGACATAJqBagUIJOAVAxyCeg0YNKBmK+QwnNfgI0OI8EAY7KwGu3cEk4iYUw3FC6MumZRrwdw/DoR0BQlOHIQCQbp9ExWLEFoimi6wInFVEER6vcL390V2/44IxYDfCZByaEoiEQcSfLZ6HeS+1pQAoBQIEi1WVNt1nnfsoAkrGYDjmNajVJAEv+fvfeMj+Q6z3yfcyp2zg00YiNnYHKe4TAMRVFMorIpS1ayLFnW2ta11+trr9f2eu3dvdfrvV4Hrey1FSxLokVS4ohpmIfDyQkYhEHOsQE0Olc6535oTORQDMKQHE7/P+CHrq4+51SHqrfe8Lx7tm+MVpQUBQOEkI0dzQ21UVEUtm1sdzsdNlXx+9w+jyvf2LC+JhoK+L1uV0dzvWlZeTmei0TLS4BN87HVO0i30xEpCtZEy0VR2LtjU3E4OD41Y1PV9e2NDbXRkN/n9bhu2bHZ7/OEAr6SomBdTeWps73xRHJje1lddYUiy4SgKBRQFZkSUl5afNdtO22XpXiKkrh35+a88FBTXXVDbSWhpG9wRNOMSFFwY3uT3aa2N9eFgj7OLnmSvB43AaECFUXhKgN9fWuj1+06PzS6HE9sWd9aX13pcV/qElRSHHI6bJIk5UXgJVEUr+UWIoQ47bbtm9rzdqcoijs2d6QzWX6ZM8tus4WD/oDPc6b7/Nx8rLqitLG2qqKsmHE+NTMvikJRKBAKFO5c3yEIIU6nbe+ujV6PS9P1A88fTWeydrtaXlrkdjlePdp5rmfIs81ZV8MYm5iYynnc2053epaWhelZ+Y69iYa6N139/XqoCiIhREKXtnAO00IyjUQKeS0FjwsBLxT53W8RXqDA60OSCZJMwrK418sdzjVshEhTSe52Gxs3mzV1FzZRLsngnKSSwuQEWYmDc26zWTV13O6gizE6PwfLAkDn5ohpkESCTk1CkpjHC0VBJiNMT7LiEm6z5X38xDSkV14ytu3U99xqlZSSeJwuxkg2QxfmhckJ5cXnrepa7nJzh0UXY3R6CsxigSArjnCHk2TSdGGepFJE17gks5JSFgiQRIKk0ySXpctL4NwqKWWBEChlNjskCVqOzmdIIkESKySXWx3K7YFlCSNDdHkJgsAVFZSatfWF3j+/IDe7QXn9kCQpHPRfVLWsKC2uKF0NsDbWRvP/tDTUXNz/Yjuci3vWVl0jGTFSFIwUBa85Y8Dv3bll3U6syz+sLF29rSwtDl305Hncrg/t2335qzouRIEBFAX9RVfKcIqCsHVD65GTnSuJpKbpNpvSVFeVT+i8yOZ11yiUjieSdpva0Vzv81yhKymKQl11Rd21dIUAhAK+fEoA55xz1lhXdc0MAUKITVVbG1drySVJvH331tcbcN+ebZdv0Q3jbPf5hppoc0P1GtbyF/j5EEKKL3xvT57u/ZtvPXz/h27pHxwfHJ70+9x+nzu2GI8txlOpzHJ8pqJs7MH7Ij/4t+iBF9zf/D/qyJj8y59YrK/V3G5rLT8xQiCJ8HvgL0hHFbhB4JykkmLnaXFwgBiGWVNndGzgbvda9vzkHJaFi9rmlIJSWKbYc046c5LOz8M0IYq5ex+wahvEc2fll1/gLjeXFQgC93hIJi32niOGYWzYxEJFwsKc8uT+3AMf5XLxhaQRAkkGFUgiQUUJsqztuxsCJdmsMDdDMmmx66zZ0o7YgnTmpDA0CGaxcLGxaYtZU0dnp5XnDhBdg2VBksyaWv2W28WhQWF4kC4vksQKDMOqrTc2bOFOpzA5bhEIjNGpCXGwn2gaXV5mwZC+c7fR0k6XYsrzB+jCPJdliCJJJdO/8Q0ur5kK9c1JwaAs8PMghMiS9IG927M5bXYh9uZby3jdrl1b1r/xfq8/ryAI9+zb87ZHeD0447GllZ1b1tVG194tXeDNIAjU7XbcfefOmqqyJw8c+t4Pn5ybX/riZx4YGZtOpTOV5ZGvffmjAFoap1qasv/w7eDf/2Po6Ann739j5rY9ibdZqVOgwPsD05CPvGr7h7+T+roBcKcr+Yd/qm/dwX1rZgkJoyNKKimdPpF/aJWUmg1NrKzS9oPvarfuy33kk8hm1Ye/L796UPN4xfN90umTmS991aquFXvPkVwOoshtduXJH1mREu7x0plp6djh3Cceuuj847Kc++gnbd//tvr4I2ZFpdnUYmzdaVXVcKcTlsX8wdxHPsE9HuXxR8X+vtQ3/gN3OO3/+2/kQy9B18CY8tzTmS98xdi+Uxzsd/zP/25V1dDJMen4Echy6nf/gMSXHX/7/5Fs1ti+SzzfC0G0GJdPnxAmJ5K/8weQZcdf/oV04hjzeOWDL9LYfO7Bj3NBUJ55Qn3micwXvrKGb+PNScGgLPDG1FVXMsbENbwJfveQJPG+D9zitNvWKlm2wFslWlHy27/+0GP7X7QYGxyasNmU//6fvz46Pv3kgUMtTTVbN7UODk1EKyMOh/jgfctNDbl/e8z345/6/uOflZw6a3/w3uV17W8gfV+gwPsWw5BfOCDMzaw+1DXp+BGztt5aO0uIqyrzBVgovPrQ44Ni46qa/ne/QxdjYudpYXpKHBtlPh80DZLEiiP67lu5IgujwySX4w6HWd9Ikyt0aRHne4XxUWP7Lq5cloUsisbGzVZZhTAzRWemhclxx1//P9reO/Tdey/uIgwNglCjrYOFwqCCsX2n2Nsj9fUYTa1GW4dVXsG8PitcrLdvEIYG6cqKVVVtRUq508VtNquyEpzR6Uv591YozGwOVhwBIaw4wm02urQo9vVod95tFUe43WFs2Kw+tX8NMwduWt4PJkKB641tbVvYvatQSgO+Qojz3cTlsm9c36iq8sFXT0crI9XRUpuq/vSJl8tKi8Ih37GT3c+/dPxjH76jrbnW73Oua8vIEvN5zScPeJ484JmZlT64b+W2Pck1Dn8XKHCjYJq4mC3OOdF1sLV02zN/wGxssqKr6VjcZuNOFwxdOnyIGDq32TgVWLgImkY455LEHU7u8SBfBwOACtzpNKtr6dKiMDZKl5f03bfyi1cQw6ArcbGvx6ytN9o6aFmFFa3ioihMTwoT49y5mh9FshkQwh0uSDIA5nKDUpJOgRDucnNVhShyWeYOB8llYZncbuceT77NT954Jbp26ZBkhTv4qotUlkEpMQ2SzXCXG5IMVeUOJxfEQub0L07BoLyOcM41TZ+ei8UTCXB43M7SSJEiS/miV9OyXq8ZzGthjCeSKd0w8i1q3t56LMtinAuULi6vEAKHzWZ7jcR6gQLXG0EQAn7vnp0bCCGmaYmi8MzzR0RRbKqPJlOZk2d6E8l0T99wLqc3NUTLSos2bciURAy/z3r6OfeR446xCXkhJu7ekYpW6HZ7IQJe4GZCEM329cLYCEmnwDkLBM2GJu5yr+EM3GZnwRC7UNnNQQCQRFI58ISxaatZW0csi89OE0PPr4eLrynHFiVj6w6xu0scHmQ+v9nQmLcLAYBzks3Kzz0NXTPWbbLKK6yiIjo3K547SzLpVYOSc+ZyCcyiS4swDAgCnZ+DrjO3B5zReJxkMzAMks3SxQWrrh6mSVfiZHkJjEHXSDLBvT7mvCx3n5Crar25JDN/UJietMorYJl0bpZoGvgvVvZXoGBQXj8457phdPUOdvb2z8zFGOfhgG/z+ta66gqboiRSqenZhYaaqCy/KXEExtjI+GRsaaWyPFJfXfk21qNp+uJyXDfM0kh4YHhcEGhFaXHBoCzwLrJ7x/p4PHn8VM+J0z3/9//1+fHJuXO9Q6qq/O5vfqa7d/jAC0cz2VxZaRGlKCs1vvz5hebG7COP+5484Pnzv4yMTSzdc1e8sS731vo0FihwQyNJ2h0fIMuL3OEglmXW1ut7b2fB0Bu/8M3BJYnE48LYCDFXG/ByQeB2B7fZIYhWWYVVUi7Mz9LECieEE8JFkV9sZy8IXBS5IEAQjHUb5VdeJokEq2/k7ssiQqLI3G6SzUpnT4NzVlIOXRPP93J/kIWLIYrM5RJmZqxoFVftwvCgMHgesir293FZMesawJgwNSGODHG7Q5gYp/G4Fa0WNI0OnCfxuDE2ShMrNJUyK6IsXAxZzjfE4qJILjhxuSRBlJjHY6xbL/b3iT4/lySx9xxJJ9fW0XtzUjAorxeWZc3Hln73T/5HR2vDlvWtAF4+fPKxJ1/4g9/+Um20/NXjZ7/34yf+9r/+fnEo8GZGY4wNj0+PjE/JsvT2DMqJ6blnXz6SSKZ/68ufTmeyoiAYZuFKXOBdxut13bJrQ0tT9cTU3E9+9lJbS81nP3WPz+f2+9zPvnhsembh4p6yzG/fm1zXntm9PfnHf1HyV38bPnzM8elPLP3KQ7GC4niBmwVKWXEk8xvfAGPgfM3F9lm4WB4ekn7yyMUt3G43Wjsyv/JFffde9Zkn1McftSIlZmMLWVyEJPFAkJWtSnZwj5cTwp0uUMp9fu7zmTab0bHhqvVzlzv9G99QH3/U/t1/ovNz3GbXN27S7v2wVVtP52aNHbvs3/6H9Fe+bmzaAma6/st/AmC0dhh37jZr68XO08ztUZ54XNn/GPP5c3ffa1ZW0bERUCpOjrv+/D9B17X7HtR37gFjVqSU+f3c5eL+IM/7UwEWLuZOFwsXa2WVNLGi/uTH3O3htBDsXhsKBuVqNJlSoirKm/QXvhmyOW1sciYU9N22a8vWDa0AWhtr//47DzOLDY5Onu3pn48t9vYP21XFNK3RyenegRGPy7mutTESDgiCYFnW+aGx/qExSkllWUleqYcx1j80upJIabq+qaM5UhRUFSWRSvecHx4enxSoUF9dUVdd6bCryXTmzLnzs/Mxh93W2lBbEgn19A919Q1SQkYnprwepyLLNlUxDHMpnjh6uiuX02uiZQ01UafDtlbvQIECbwZJEj1u56tHOz98797G+qjTaV9eTvzPv/tBVWXJpvVNV+3scVu37kkG/BPff9h/8oz9b74V6jxn++JnY7XVOZutELEqcNNAyPXI+dN33WK0rycXzC/kPZQOJyRZu/NuffsuMAZZ5nYHDIMFAswXIC1t+T3NxmZYFmQZnEPXkU6zcJHZcPVPGISwYCh334f1vbdD10Epc7lYqAiEMH8gd++H9d23WiWlkCTmDxjbdgFgDgf3BQAOQlkwqG/fbVVUQhSZPwBFAcB8fqsiqu/YDc55IMg8XnCu3fUhrtogSlZpBTi7eIBcEImhS8ePsEhZtm09FwSxv0/s7lpL6aWblZv9HZxbWHzqhVdPdfaaltXaWLtjU0dHy89tG/WmEQTB5bCnM7nTXX2KLFWURUqKQ5+4/wPV0bL+4fF4IqlpeiKZHp+c7e4fOj84Wl5aPDA8PjgysX1Te2Nd1dnu84eOnfV5XNmc1j80trgcz2n6+cFRt8thMZZKZ0919j70kbvdLseZc/2nOnsqy0uW44nxqZnhsckP7dvzr488yRhXFHk+tvTK0dO//rlPLMcTiWRKlqVkKj0yPmW32URRnI8tPfzTZ4rCQc75+NRM9/mhhx68m1JSqIAu8I5BCLHZlNbmmoDf43E7Z+cWf/ToAVEUtm9pq6+92hkviigKm7u2J51O69kX3K8cce5/2rO0LN5958rObamKcv2aUxQo8H7j+pyiWSiMC/XdVz9VHEHx1S1zuM1+8TZuNbStacLYqPL0zwBY1bXXaHtICBSFlZSxktfMsbp9VdCNO5wscmknkkxClLjHa0WrrPrGS6+SJO5yseKIdaXxyopfOwFWq9dX4lAU4VynMDaSN3+1D97L7W+zOKHARW5qgzKZSnf1Dv79tx/u7OnXDbOtqXZpeaWpvurN18r8HBRZKisp3rK+ZSWZOnyis6d/2GG31VaVq7LscTkCPo/dpoYCvp6B4e7zQ6IormttmJye+8lTLyqKLIniY0+96HLYa6ua05nc2OTMzFzMYiyb0yLFoYaaaCKZ/tFPn7lt1xZBEJLptMftqquq6B8eO3TszPjkzJ17tz/z0uGmuqr1rY0up31iapZx7vO6A34vJcTtck5Oz9ttKkCSqfSZc+e//Nl2h93W1TuwsLhsMUZpIYJY4B2FUtpYHwWQSmUmpmb7+kc/+ZE7O1rrPR7nNfe32fj2LenisFEd1X7yhPfIccfikjA5Le3ekepozagqL9wQFSjw7sA5LBOaZravM+sa1jAozyWJhYuM9nVXGalWaTm3O67I1HzDoWx2s7aBTk3R5Ao4Z+EifdsObitE535RbmqDcj62dLb7/PEz3fmHXb2DHpfzq5/7uNvlFNbiiqTI0te+8Mme88OdPQM9A8N9AyMBn+crv/Lx4nCwsqzE43ZVV5Y+/8oxh912z749LQ0161sbT3X1JZKp7vNDrx4/89d/9nstDTWEkEQyNb+w1N0/XFdVsW1T+607NyeSqb/85ncBeD2uprrq+ppKxpjdbjNMaym+QikNB/05TY8nU5WlkY/eu8/ncUcrSqsnpnM5vSxSJIgCgMmZuUQitbGjeduGNp/XXV9dkUimeaHSrcC7RyqdAXDXHTu2b2l3vFH2RVVUjxQvb1yf+dtvhV465PrH7wRPnnH82ucXGuuzAb8lSYVvcoEC7ziqatXUZb7+jesycrTKilZdtdlqbH7L1QCyzEpKc5/65TVaWYFVbmqDUteNbO6SWhXn3LQsXTfXRD4gncn2Doz6vK625rpN61oM01xciv/7P/2rzp4B07r0/dcNw+mw+zyrug8el4MD2Zyma0bQ71UVmRCiyD6309E/Mu502q+ShFyOJ14+fPLHP3u2ojQSDvriKwmX064q8m99+dMHXjx84KXDYxMzNlX5b//xt15rKeq6YVim1+vOdyAMB/2hgK/QjbDAu0hROBAMeBnjbzKbWVV5XU3uP//h1KP7fd/518CTB9ynz9r/3Vfm7v9QvLTEuN6rLVCgQIECF7mpDcrSkqL1bU1VFaUT07OmadVEy7Zv6vB5XGtiVGVzWt/gyLnzgw89eHd7U50iy5bJJEkSKCW45P50uxzJVHpwdCJSFGSMj03OBnyeyrISv88zPDbp87pN0+obGHn5yKnicICQq7MbT3f1dfb0f/2Ln6qrqowtxR954rn4SjKn6c+8eLi1oWbP9o1Do5OPP/PSwPBYKHB1KwWX084YG5uYNi0TwPOvHOsbHP3YvfuCfq9QqJst8G5ACHmrDZkEAW43u/vOlcpy/aVXnD/4sf+vvxk+fsrx4H3Le3akPJ6ClEGBAm8Wkk5Dy10U2WFOJ2Tl3W8hY5okmwFj18jIfC+ja8Qw873CbxLV9JvaoHTabetaG37v658/dbaXcdZcX719U8daFXo77LbG2uirx8989+GfFYX8iiytrKQEgVZHy6oqShLJ1Mz8wrMvH6kojZwfGnvsyRfGJ2fiiaSm69GKkqa6qrtu3bH/wMt9A6O6YcRXkiXFoWumNiqyBPCe/hHOsbgUX1hczqumL8cTh092Bf3eVDqzkkx7PW6P25lIpvsGR145dian6YoklZcUh4P6kVOdP3jsaUkUx6dmbTbFZlMLFTkFbjhCQXPLxnRJRC8v0x9/0nvqrH1+Qezutd37wXh9rVYIfxco8GaQjrwiDg7AsiBLYBymYVXVGK3trPx1tOpyObq0KExOGO3roP5CqsYkmaCLMbKyYjY252u3LyKMDMsnjiCT1h74KPP611ws6S1gmmRpUTzfa2zaimvmXGoaXYzRxZhVUUkX5oWZaauqxiqO3CQl5DfFQb4elNJIOPjQhz+4uaOZEFIcDoYCvrUa3GG3tTfX37ZrS1fv4MLisiSKum7s2rK+taGmKBxMpbM7NnXohrmutdFmU0939c0vLqXT2W0b2zZ1tFSWFX9o3+5HfvZcKpOxLBYM+G7fvSW2FF9e8ReFAgAkSbrr1p0lRaHSSCiVyQ6PTy7HE5Ikrm9tcLuckihu7Gju6R9eWFqWBHF9a0NTXZVNVWqryrOals5kG2uibpejurIMwJb1relMxjCsSFGwsa7K7XSs1TtQoMA7id3O6mu1ynK9uMh84hnPsZOOHz7in18Qb9+bXNeWCYfMgllZoMDPR+rtFoaHrKIiHgyDcroSp6eOk3g89+GPQVFACLQc0TQA3OEEpTS5Ig4NiGdOWtU1LN/b0DRIJgNR5Kpt1YriHLksMUwuS1DUVV8d59ByRDe4JOVHprEFsa+HxhasyiiXpMvdolLXGen4EU6IVVOvb90Bmw2MIZ85lnf+GQYYWzVDLQtajlgWtztgGhAlgIMxCAJJp7kgQFZACNFyYDzfxXF1PYZBtBwXpUuWsWEAAGckm+MOB0SRZLPC+Kjy4rNWXQOTZVAK0ySZNAjhNjskiWQz4vleYXKcOxxE12HkG2NyANByRNdBBW6zgVJYVl5KnZgGTJPLMpQbvs/ITW1QAqCUqKrS3rw2UkGXQwixqcon7v/AfR+4JZ3JmaapqorL6RAoBdDSWPOnv/c1ZjG7XW2ur75j15blRNJht9ltqiSKABprq37n138lkUxRQu12VVWU2qqKi4PbVOU/fP3z+f9roxXLKwkAHrdLvdC04O7bd+3asj6by1FKfR63IFBCyP133fqBW3cSgovLAPCbX3poKb7COfKzr/n7UKDAO4mi8LvvXGlpzP7kCe9j+70/+LH/xGnHpz66dMuuZHmp7nIVmmEUuJHhHJZFEisknSKMMbuD+/wQhDWMqJp1Ddptd1gNzQDIYsz2o+/LRw7pO3az4ghdidPYAkklYVksELRKymgsJgycF8dG6OwMlySSy9HYAkmsgFAWLmLhMJcVurRI5+eIluOqjfkDLBIB43Rhni4ukGyWKyoLhZnbQ+dmhfO9NJul8bhld6y23uYcui4MnGduj1VRKR98wWjr4KpKMhmSTMA0WaQEokjn50gyYTU0QdOE2RmytEiYxbw+kk5blVXEMsnyEhdFYX4OhDCPl6s2YSmGXM4qLWehMASBrsRpbJ4kk1xRmD/IwkVgTBgfJZoGQkh8mfv8VlkFScTF0RFhaECYnOA2OwydxhboShzMYv4gK46QdFrs7qTLy7SugUVKrepa5vGAg87P0YV5kk5BEKxQEQuFiZYj8WWi6SSXIZkMd3us4ggPBNfqc3xXuNkNyncAVVGU/G8Dl4LJAqVOhx189TygqkqxIuPKYLMkin6v54qXXQtJEvOO1at2czrteZXyi9tVRc6v5PIdCSFvZpYCBW4gysv0z386tmNL6h++E3z0cd8f/0XJhz4Qf+jjS7fdkny3l1agwC8A5ySZUJ7aLx99leSy+qZtuY996vplFnKf36ypJYsxqeu0brepP/yeMDXJXG6aXKFzs+mv/iZNJMRzZ4WJcbHzDHJZ6fRJ6ewpK1ojDA+wUJF2591WNKo+8iNhaoq7nGRlhXu8qd/6XZLL2X7wHTo3x10uEotZVTX67fuE8bF8P0ZhfIT5fDx/0WRMmJkihm7WN1rRavWJx2kqaXl9dGZK6u5EMqk98DHucsmvvCR2d6b+6L8IkxO27/4jTSaYPyDMzCCTynztGySdkl84QNIZrqri2DDzeK2SMppM0qlxY9su7bZ93ONRntwvnTnFAkGSTHC7PfPlrwGw/8s/CyNDzB/kdrswMpT+ta9DksTebmF+Tjp+mMuS1HlaOnzIilbRuTmia9pd95g1ddLpkySbsSoqMXCepJL6jt1WRVT94feE8VFud9Bkgjtc2U9+Grms/MpL4kA/t9tJKskdDrNjQ/bTn7tOH+U7Q8GgvO68tpJmdSOAKw27q3Z47cY3Pz4A+ppWCtfc8fVeXqDAjQulcDhYc2Put782t3Nb6keP+F896uzrtz3zfPKXPrZUW63Z7QVXZYEbEMNQnnxcfXK/MDIExuj0NLc79Nv3XVPEew2glLs93OOhizFhadGqrTc7NlgVlSSVcvyvv6SJFRYMGZu2QlGNLdtIJmPV1Fp1DVZVDVlZVh/+V2F6kvv9UucZ7a57zMYmkkjQdJomk9Khl7ndqd/eYdY2kOSK/R+/aba0sUjE2LqdZNJmbT13XMi8Mk3pyCEWClu19czrM6PVYtdZZncQxmCYxNDz0WRiGCSnwTCUZ55g0Wq9odEKhoXREfu3vwVdh2VCks32emPDJunIIWF6kgVDuQc/LvV2C4P94vAgC4bkQwczn/tVVhwRxkaEwX71yf3anltJOmW0rcvd+2HCmO27/0STCauyyli/QRgd1vfcxiXJKqtg9xWZjc3Qdfv//hu6tMjXbzK27yJLMaN9nTAzIy4tEk2TD70MQvQ9t5ktbSSdtv3rd4ShflABnLNQOHf/g5Bk5anHxc7TQMGgLFCgQIH3GITAbmd1NVrAbxaFzOdfdh094Xjkp77RcWXPjuTuHamGupwsF7IqC9xQWKZ0rlOYHkLBygAAIABJREFUGKPJBACi62J/r7FlG4qv34wWsUwmCFy1gRBhfFSYHIdpkvgy0XJQVe4PcJeLBYJETtC5GWFykk5NAhBmZ60GjblcZkubMDIkTE9xh8MqLQOI1NtNkgmSzdJYDIZOF+ZpYoUVFbNAiMgyd7khSgDAOdFy8rHDnFKiaVyU6EpcfvWgVVN3zcJzYllib7d+x51mfRPz+rjbwwUxLwLIVdWMVpnVNcLYCEmnuNdrVdeSbEbsOUfnZmEYwvio1HWGjw2TpUUaWwAhxDSZw2WVV1gNTcjlmN8PxiBL3OeHzc6KimFZmJ6i83PSYgyCIMzNmFozJIkFQ4Qz7vXx+HL+DRSGh7jLZVXVWNW1yGWtSAldXIRAIUksFLKqarnTKb/8Al1evm6f4jtEwaAsUKDA+xZCEPBb+25LVFZodTXaM8+7z/XYJiblgSF1+5ZUU0OuOqrZ7azgoy9wg0C4JF8ypwigXE9ZH9OkSzG6vGy0byArcTo3S+LxfE0MMQywK+7HhLk5YXqKrMSJzb7aLwfgTpfR1iEOD9KlJbK8hFzOCheTZAKMwTJJJg3GrLp65vPz18qYaDlhapLE4zwSAefE0K3KKrGni85MMX8QnBFdXxWNZhaxTIATQ+eEckEApVxWLsXoBIE7HCCUEwJJWo2nEwLTJJpGDAMCJZqGTAZUYP4AbHYuCtzhgGpbHeQ1iapkeYnOzZDYApwuCAIMg+DaN6jE0Ljo46uF3oTb7eAMJocgcFkGJat16+yGD5sUDMrrBmPQDWSycNpX84uvB5oOw4AgQJHfzmnFtJDJIpMFv/BVJgSKAocd0utLZ+U0UIo10lcCY9B1JNPwe9+yHkQyBd3A69XmZ7IwDDgdoPQmkQErcE0IQUOdFq3Q9+5K/vP3A08e8Pzgx77nXnLdfefKA/fEK8t1t8tSFHZzKHusMZxzy7IopYWeCO8EomC2rxOHB6Bp4Jy73UZjC3srXQffEGLoJJ0miQQ4I8mEMDmJXNaqb5AOvUznZo2ODcb2XSSdkk4cBSXgq3UzJJeTjh0mmbSxeZu+dbsQiwlDgwAnpklyudz9HwUgv/is2HlG7O7ibo9VUmps2GzW1hFNk04dN6traH5GTYOmwWGBCjSZFM91srJy7QMfMmvrAJBMxvnnfyxMTYJQcE6Xl0k6BQ6SSkLXOKFWpJRmMjS2wABhdpqY5hseL1cU5vFaoXDuQ/ez4ghJrNDFGNFy+WLwqy4cHAQcMHRkM1LXGWFq0qqozH3wPqLlpO4uAOAcBKtHYVoAQAjzBUgmTePLViZNslm6uGhVVIJSsqRda0U3MIUz6HUjk0XvANn/LP/YPWhtfOP93x59g+gdQDiI7RvxNmq0Y0tk/7Nk/wGkMgBACWwq39jOP34f6qte1wg71QWvG2tVGp/J4mwP+fbD/M/+PUKBt/RS8uhT5GwP+3//47WfPniM9A7wX7ofgXdVuqzAewNF4VVR7fe/MXP/3fFH9/ueeMbz198M/8uPAnfsTdx958rWTemKcv3dXuONRzKZjq+kXE67x+Ms2JTXHUnO3X0fc3uks6eIrhsd6/Rdt3KXaw1nEEZHlGyWnT5JMxmxp4t5ffruW61QWHR7SSopjI9CkcXTJ+n0FEmm8lXn4vk+6dRxYujQdWF0RBZF+eCL4vCA2dxClpeUZ58Wxkas6lo6M00s06qrtxqa1McepvOzQts6Ojsjv3ow84Vf424PyWTErrNSW4fRto57vCS+LB85pO/ea9bUsVARAGiavmsvnZ7kDgd3e8TTJ+RoNV1elE4e504nZEn74D3qT34s9PdZpWVSdxdJJt7weLnHa5WUcptdffRHVkOzMDpEpya1fXfhmgXXogjOhOEh5ZWXkcuQXE4YG5W7TktHDwujI2ZNHclluShJ3V2sKAJDB8BFUd+xy/69f87rU5L4stjXY2zZxgWBLi2u4Qf3XqBgUF43GCOZHGYXkL2edyFFIQgUdvvb1E01TSRTvKWBb9uA0mJYDMkU+bf95MhJrsioKr/mi8jBo4iW87UyKBlDOkMmZ7j51puaLMcxPfd6T5JkCrFFGNaa9NIs8D6AUthsvLkxFwou3HnbyrGTjqef87x61Hn0hKO4yGioy7U0Zhvrc1WVejhkFDSG3gw2mzo9G/un7/2UUrp5Q3NbS21pSfjdXtT7GlU1Nm81m1rAGXe6uNO5hiFvfeMWIRQmlsUl2fL7zYZGq6TUKimDJOtbt3NJpLEFGo8bm7exqhqzuoaFQtxm1+55gLtc2q376OICnZulC3Pa7XeaDU1WZRULFWU++0VxZIjEl1lllbF1h9ncCkJywifp5DiJx7nDkfn8l836RsgKp5QLAnO48kfEXS5j/UZj/Ubm868eoyzru28R+/usoggLhcmnPkPSKau6ziqv5KoKSq2Sstw9D9DlJQC5mlr7t/4WBFZFlMsyCxdDEKzqGu71cbcHlLJQkb5zNysusSqima/9tjA8SNIpK1JitK0z2tdBEIytO1gwBACiaGzeyoIhFghymz37uV9lXo9Vuc5aXBTGR+nUlL55mxWtsopLmM1ubNxM0ikWCkGUrMooi5Rwry/78YeEiTGSSkJRMl/6qlnfSNJpSDJEMR9/N9ZvZKEb/odz0xuUhomVBHr6AYLyCEqL1yw8zQHGYBiXoskXZzw/RHr7kUiBUt7RjJooVAXzMXL4JNJZMIt7Pdi2AUVBHD1DZudhmkik+LYNWEmQuRhWkjBN3lCDtkZoGpJpcGB+AWNTZHYByRRyGorDfOt6hANYWCSHT2IpDlWFqvCiIHZuvmyRHJwj4ENTHWqjYAyJFA68jMVlxFeQ9KGnn/QPQ9Mhy7wsgh2b0NlLuvr4cgJNdWiuw8kuDI+RVIa7nWhrQm30UiicMczM49Q5shCDQOHx8Nt2wOnA2BR6B8jULADeXIfiMCwLKwnys+cgCqCUl0WwZysEAf3DOD9EFhYhCLy+Gk11cDkxHyOvnkAyBZtKuvpgGDBNnD4Hmw0lYbjdSKZwphvNdWBs1ZpkHKfOkcERrCQhS3x9K6orUJBwv1mx21llhV5cZEQr9ObGXO95tfe8OjKmHDriPHHaEQyYAZ/p8Vhul2VTmctlyRIHQAg8buvyazel3OFgksgphaoyRWZ2O5Nlrsjc5bQAuFzshlNT5xy5HMlmr2GjGCbJZqlpEgCUcr/PcjotSRJDQe+69oafPvFSV89gKOhraaxua6ltbapxux2FJq5rDCEAuNfHvWvWg+NyzIYmVloGwwQBBIG53DzffRHg/oDZsYHElwGwQNBijEsyt6lwuvU9t3JRzAeyadkSABYpsSqruKJwp9NsauE+P8mkucPBfH7ucgMwGptpuIgkE5BlK1KST1W0KqJcVbnTxRUVAPP49J23WMWRSxdlSq2SMm6zc1Xldoe+cw9djDGPF6LIKYXFxOFBsrTIZQWKTOfnrdIy7nCw4gjz+rjdAUpZSRkLFuUTupjPZ7at46oKu91sbGZeH0kloajM6+VeHyzLaGlbnVoQjOY2yDJXbdxm1269gxiGFQiS4hIrUgLTZEXFVl0DF0Vut3NB1HfsgSBAELggcLsDimI2NLJQiKysQJLyx8vtDu50gZJ8BZJZ32RVRK/HZ/pOcnMblKaF+Rh54VVy9BQHQUsd37IeG9qu76ST0+RsN/qGYFeR00kmywlBRSk524OBERAgnSWEQBL57bvI0VNkdJIHvGCcDI+jdwCZLFQFyRQZHuNBPwyDjE4i4IOu4+UjiCfgcSOdIZ29vDgIztA/jCMn4XBAlshcDD4Pv9ygBMAYEkmMTwGAZWF5BYYJpx2ShNgSeeUYdAOMY3mFjE3x6kokkjAMaBriCUzPkUPHkMoCnMwtILbEAz4EfavxZdMiJzrRNwBNByEwJ9DeiGwO3X3kZBcohWGSVJq3N4ExZLKYmoEsI7ZERid5Qw1UhZzoxOgECMBBZue5w46AD+eHcPQ0vC6IIpbioBSmRU52we/lqgKHAytJ8tIRHvRfOsDJGXKyE9OzoAI4I/EEt6mornhX4uA5TYuvpGKL8Xd+6gJX4XBg6ybU1wqN9WrnOdvZc46paXlqWh4ckgxTAlRZIh6PJQrEtAgh8PtMgXLGqWVRxgil3OVksswECpuN2VTmcjFFZqrKfF4LgMdtKQqnlEniqvedUi6KnNLLrUxOKZekt+8N5RymKTD2ulnChkEZo/xqPz1hnJgm5fyKFzKGbJamM1cblPlMuXRGyKeliSLfvGGhOppyOk0AGzoauroHH93/wsuHTh989fS2zW1bN7XWVJWVRIJFoYDH43zbR1fgnYT7A5b/dfOOWCiMC160y79MVvmFphsOh3VxB5d7daMoWpXRq8ey25ndfo2N0epLD202q6r6ih0IgaKw4sjqesJFLFx06VnDgGnS2Dy3O7jDQedmjI1bWCDEHU44Vr+B3HlZeoBqY+qF9omiyMqujMiJ4iWZcUovlxxnkVWRJu5wXHy7Ln9Drh4KgKKySCkipZcfHb+seSP3+2+wW89rcXMblOkMTp2jf/I/kMkSzvnBAAbHeEfzda3hIAePYXiM10Vx9+2YnqN/888QRO5yoncQe7byqgpMz5FjZ3DgIHZsIrPzXJX57bvQUo9DJ8jMHLZt4Pd/APOL9Avf4Pv2wG7D0jIkETaF9A/zjmb+2Y+DMfLV38foFOYXSd8gQkH+hU8hk8Hff5f0Dlz9rWUMo5Pk4FF4PVhJkMERrhv87ttQUoTRSUzP8a99Dl4P+dmzON6JvkHs2YpnXkJ9NZpqyXOvoGeQf+p+NNfjXB/9q2/xje1w2Fadf6aJg0fR3sQ3d4BSHD6JlSTpH0HvIDwu/uufQzJN/vmHmJ6DxwXL4h/Yi/Ym8uQLOHScdPZCkXGyEy31/J59SGfIH/8lKS+BImNkAuUl/LMfRWwZsWUyNgnOMb8IAJqev+5hahbZ7OoBmiZePIzhcWxu5zs3Y2aB/uF/Q00lLy2G/VrNWK8bsiypirIQix89cW5u/v2WPXOjU1OF6iiSKXViyjMz61pcsi/EHCsJNZ0WsjkpnRYBjI4BgGGKmYyk6xfvRghAL/srAPLFh5QKssxcziwgAJBlbreZkmQAQl6HNm9NupwGIa+1KcmFcfJwgOHqSlJimiSVlgzjqrsjBqwOmEqrmiaySzW5FsA5J4YpJpPyBUv0moPjwsartyuK+bEHprdtHgoG0gA459XR0vraithivKt78FzP0Le/v399e8OenRtu27NpfUeDz+uWJLEgeVvgOiKK+i23iW63MDZCNM1sbtO37oCjEIl657i5DcqZeXJ+EOnM6sPYEhkc4YtL17eGY3gMPf1kfhG9g2AcAyOIlsOu8ocewPGzq37KyRk4HasiAhWlWNcCSQIhiJajpAg2FX4PXA6IVyySB/0oCsHtQibDvW6i65iPYXGZ33cnVAVuJ6rKeSJ19XooRciP+moAmFtAbJn/0W+hpQF2G2or8Yn7cOgEmZ4jZ84hm+M57VI+YjKNsz1IJMljT+HZgySeQFYjfYO8onTVoBQEvqmd/uRp8tQLvKOZb2hDXRW6+yHLvKUeogCvi3/lM0hlcOIsggGURWBTYbfB6UAyhaFFxJZw8BgZHIVlYTGOwTFYJnSD33cnFAXRMlSVYemNtLtMi5w7j/kY4ivk+FkYBhaXMD2Lpfg7aVBSSqoqS9a11z/93OE/+a/fKpQvvDfhHIwRzilj4JxwjrwD70rvHslr21146AS8gAj4ARXwAH5AAQKAyrlL05y6ToBQ3tAkhAAiEMqbmHkTixAh//BKCGADLrpGUkD8opl45bIZvyq1Bkng4k/jKvfkEpDNj3PZZgNYAbKvsR1zQArIXLkRum4+/NiZR/ePEpK+NIRhmhcyoQ3DPHmmt7N74PsPP7VpfdMf/d6XGuujtkJz1wLXFUrNdRvN9nXgAKVvs7SgwNvl5n67HTZ4LjnAiShwmw0Ox/WVmOFAVQW2b+ThIADs3MTLS7G0Qv7ph6gqR1kEpcUYncTpc6v7yzJsNlgWAMgSz1uWq3IGV66TUFAKevFZDgIQsnrRoBSME9O82tVACIIB3liL0mJUVRCLkZ8e4C4XImFytpt8/zHs2sLXt0KVMTZ19cWGUjTX8fWtCAW4YZBEmjfVwnsp0oHtG1m0nEzPYWKK/OQZvrCEmTnklbfyi1xcRiYLywKlEOilQ+McloWqCkTLeUM1OCe37OAlYXKqC/0jqwnaggD62ia2HJb1mosiR1Mdb6pDcQiMYedm3lQH//XqV3ZNBEGojpZ98iN3NtZFp2cX3smpC1xnBEAECCABFBAv/GMAFpADlgACzFzwNZILO7/heSbvnryoz2UB5rWciNfEAozXecq4ljOSA+a1tjNAudaVggObgbbLDdzOcwPneofGJ2bz9mukONjRWr9398Zbdm6orS5XlOumnlagAC7cnInizW7YvHvc3O+738vbm9kHbyVnumExNNfxO/dCVdbSoNR0MrPARyYAgBJ4PTwSJnML0A001GAuhrM9xKZyl5McPsl2bkZzPRmdxMplHYcpgUBXDcq3GosvKYJpkYNHeaQImSwGRq8YOQ8hUGS4nAgHoapMN+jffQenunhtFFOzWIrzhhoE/egfIiuJ1UuNaSGdBTjqqnCmG24XKkoxPUsOneB10UsrNE28dAQVpXkrkwyOkelZ+LyIr5DzQ3z7RiRS5KkX4HHz1/otKEW0jMzOc0pQXgKL4fhZOO0IB7G4TI6d5nVVmJnDxDSyORDA40QyjfgKlldIZx/0yy6lgoDaKsSWoEioqsDyCl4+irKS66gG/DrY7WpHa11FWXEmm3uHpy5Q4LpiGOYLB08cPtaVzWrhkL+lqbqjtb6pIVpTVVZTVVZeVlSozrkhEPr7hKlJks2AEC7L3OO1yipYuOidP1sCgGURXeNUgCS9Owso8Ba5uQ1Khx0N1fyT96G8BKaFdS186/o1C3ZTwmWZKApGxomhA4Ag8OYGNNTky0TQM0DmFsjULC8tRjiIilKYJuYXsRSHZcHjAqXc64HDDuRjXyqcjtUaakIR9EORIYlwOrjdBkUhXjfPx3AJgd8Lu51XVcBhJwcOoqsXOY3Mx67W4hcEuBwAVqPnLgc2tKKuCrPzxO2E08GLw0gkoevI5WBT8xEE7vUgncF8jHc0k75BTM7AtMjcPKZmcbn0D2NkbgGZLM9kASAS5mUliJaR80OYmMLxsySRwvQ8nE44bAgHQAUAXFWIx8WdDlSVY2AEyyvoHQRjGJ0gjTW8ohSMkcMncaoLyTRSGfi8oAKvqybn+kj/ME+lEVuCx5XPViNeNxSZb2wnB4+SqVlus5F4gszOc+3dURx0u51ud6FAocD7inQ629c/OjQ8SQjaW+vqayu2bGzZvqWtoqy4EOO+sZC6u4SB8xAEbrNBEEAonZszGxqt2jUSiXsrkFRS7DmX7+JdMChvCG5ugxKA14M79vA79qz9yJKEkB+tDUik0DMIAJKI4jA6WrjXTQ4dJ//6GFxOvm83X98CUWRf/jR5+kUcP4u2Rty6HcPjkGW0N/G81jelKA5zVUHADwCSwHduRigAQeC1UTgdcDl5exPKIgAgCnxjGyrLUFqMoB+ZLOkdRMjPPS6iK1cs0m7j9TUAVrMeCYFNZZ/5CDl2hvt9KIuQ8Smy/1kE/agqZ23NcNggCNi6Dj0DZHCUf+J+ns6QV47hVBfCQfaZj6A2CvXCFIrMP/0geepF8vwhAGiswW074PfxUIAcP0MefRKKyu/ai8ZaxBP8lu2wKQAQCfOWBpQUobqC37uPvHKcPPUCBMpv24kNbQgHUVLEMznyxPMoLUZjDQ8HIYnYtRnJFDp7ycQ0370VPjf8XhDCCYHLgc0dnHPy6gnyk6fhcrBf+jCa6y6ts0CBAm8XxtjMbOyRx1+Yjy0/cM/ePTvWtzbXStJNf2W5rjAGywLnEMXXdnP5RRCmJohpGs0tVnklSSSkrjPyS8+JfT3pr/0mBBGmSUwDjHNJgqJA04ihg3MuSastCk0jLzlENA2iyBUV0msaquWFqXQdAJckqCoIga6B0NXDYRZMC5wL42O27/6f7Od+lTc2c/H1O7cVeM9Q+NlfNxQZNZX8K5+5YqMoQqBwN/KmOlgWCIEkQhAAgl2b+db1QD41kGDHZigyv/MWUAIAlKKhGoxf1Hfln7ofoggQlBaDEBCgLLL6rCThnjtAKXoHca6Pc44vfgorCbK4xGeuzN5zu7BjEwAIF+7/KEVVBS8vBaWglH/podUEx3x2JghEgd+6E3u2gVKIArZu4BvbwRgovXAsFyAERSH+Sw/AYqsjy/nSojJeFsG9+y4dfsjPo2XIp1jVRlFVsZpSWRvllWWrb5QorrpRAz48+EF+377VBID8++Ny8gfuwr37QABRBOMQRZQUo6kOoggCbGrnHc1gDIRAlgqNcwoUWBMSibRpWR//8B0VZcV2uyqKQiG6fb0h6RRdmIeuW2XlsK9x0j/zeq3qWrO+CZwbG7eoj/xQPnVC6u5i4SI6OS4MD9FsxqytN9Ztks6cFHu6iKaZdQ3antvgdAqjI+LwIBcE6expq6zc2LjlGq5N05SOH5HOnQXnVk29dsttUBTpXBdXVbOqBqpKFxeFyXEYBp2aEKYmlWef5ja7WdcApeACeK9TMCivG4RAEGC71rn1mtVnVLriZi7/70WR8Pxol4RKyKVf10Vb8OJ5nJBVOdaSIsQT5OkX0dkLSlFewndtvXJSAnrlSlYnujCUcK3fsCxdKhSQRLyeNyJ/6/zas0B+/Ksy9C/NKFz7/0trplDkq18OXGMLcKlyVhQLFX8FCqw5TqetQi4GYLMpBVWg645lCv3nbY/+SOzpBmcsXJz54lfM6lrY1k6wglAuCKtnS1FkJaVsYlwYGgDnyhOPE8aMdRu5zW57+F9gGCxSym128dxZuryk7b1d7OtWXnzeaGkztmwXuzvlVw8amYzZvu7i2HRhXn7hWWFqwqxrgGUJo0P2wfPZX/68eO4s93isSAlXZLIUE7u7WCDI3R5us1mlZWvbDajA9aNwiX1f43ahNorUJsQTkCReVYHaynd7TQUKFHj/IIqiWLhVe8cwTfnIIenYYWF0BAAfH5M61jO/n9lK3/ClbwdCuM3O7XaSTOTj1Ky03Gxt56Iknj6p77rFaFvHFRnMUp7cb7a00VQKWs5sabeqa5HLioMD0rmzVrSKpNPgjKs2OjsjH35F33WL2dSSV/NQH380d9+DdHmZCQJhjHMQXSfJBEJh7vNzh9OqjDK3pxBTuiEonAje10giImEeue3dXkeBAgUKFPhFIZYldXfRpaW8FCqyGfF8r7591xUtWNZ2RsOAYXBFBSEsXGTWN5i19XR+ni7GrPJKq6YWjOl2p/2b/4skElwQuD9gbN4KQsymVmFyQhgeFKYmhLFRGAYrjpD4sjA8ZPzGb1sVUYgiSadJOkVTKVjmpSkZBwdXFO5wQlVZMMRt9oKH8obgRjEoC5GUAu9dCMHNHOzTNF3XDVmWLgoNcs5N08pmc6qqvJn+KIyxXE5XFOn10u+SybTNprzWE2ZZVjar6bpBKVUUSVHkNVeMz+U0AJIkvsnUwPyxm6apqgohhHN+M383CqwtnBDm9nBZXlVwE0TucEC4DtfxvMGqa3Rhnq4sG9t2QBS5qnJZBmMwdEgSyasF58toLBOcQxC4KMKyIIoAByHENGksJgwNEE0zGSOcEWauJn3mJUdU9dKM+XYC2Qy53L4scONwAxiUlFJJLLi7C7x3ESmRpZv3BvrE6Z5zPUMb1zW1tdTmbcpcThsZm37+peO7d6xvrI/+fEVry7LiK8lXDp/dtL6ptCT82h00Tf+XHz11+97NdTUVV71wZjb23EvH+/pHnQ7b5g0tG9c3BtZar/74qR7GWFNDVTjkf+O9gVQqMzk9Pzk1v2t7hyiKjDFKaaHqucDaIMm5+z8iTE/SlTg4Z0VF2r4PXuxtvcYwJnV1Sp2nSSZrtG8QRgYvrEHifj8AujBPEisQBKnn3Gqm49QEXVwUpias0nJhZBiaZjQ06dt26pu3ggOCIA4NmNFqYeA883i4otKlRZJIMI+Hqyp0naSS8HjF4QGSuqCXzAGL4eo29AXeo9wApzlKqaoWxMwKvEfRdUOSJJfz5u0Ye7Zr4PsPPzU0MlUdLc3bjrHF+GP7X3zsZy8VhQMXN74elsXi8dQLL58oLy26pkGp68a//eS5upryyw3KbDb39HNHDr56Ohjw1tdWZLPasy8eO3T07Fe/+NFgwLuGhcanO8+bplUUDrxJg9KyWCaTW44nGOOPPv6CJIm37Nzg93vWaj0FbmoEwaquyXzxq8IddxFdsyqiZn3TNRpDvF24zS6e6xRGhrjTCQ4QYkVKzeZWrqoQJW6zc0kGIVxRcg9+Qujvs/f3QZLo8pJ254essgqxr5cuzKk//iFEkSRWzJp6Y8t2SJfqTa2iYu2D98rHDkudZ8AYGMs9+HHu8pgtbdLxo/Z//CYrLiapJCeUSzJXVSsUsn37H3If/aS5bgO32dfqMAtcJ24Ag/L/Z+++A+M4zzvxP9Nne98FdtE7CBDsnRQpkurVlhzbslxiO3YujhNfHCdOu/yS3OVSLsVOLs7Zv7MSd7mod7GTYidAgACI3uv2vtPf+2NpUqYoipJAAqSezz/C7s6882zR8rszb2EYhuc4wzAoisKLR2ipyRUKDMO4Li44+cGTzeXHJ+dMJiGVzjocVpqmk6nssZPnJqfmcvmCrhuKokZjyYmpOQAIlfpKS7zFi9dT0/Pz4bgky7puTE7PFyQJAPJ5aWRsKpHMuJy2UKnf5bIbBhkencrmCm8+6Lmeoc5zA7Kibly3vCzkz+clwzAmpuYHhiYcdquuG9Mz4dn5KE3T1ZVBt8tBCCkU5Gwun0imc3nNLF+cAAAgAElEQVTJ63a6XfZ4Ij0XjgZ8npKAh+e5RDJNUdTsXLQgyQ67taGugmGYSDShabokyYSQeCI1MTlXkGSnw1ZbXcbz3PRMmBDicTtNJiGeSEmSouuGKPJmsxiLp46fOgcAXo+zvrYcAFxOuyDwsqxEY0mzSbRazXjmEr07FEVsdnXlaq2+gVJVw+kC5q3Lz753ypr1hsdLZbPFm4bVptfW6lU1wLKGv0Rdvc5wewAAWE7Zchtrs9OpJNC0DqBu2Fx8iJgtWmMzaBowjF5br5f/ylUFYrMr6zYCAKUooOvEbFGXryBms9bcCjRDT08Ri4VYLEQQ9cpqYnfId9zDjo0Ql5vQeJXyJnATfJ0xNC0IfDqTs9ksDAZKtMQkUxmKArf7gxsoBYG32yw2q2Vyet7rcdI0nUimCSF2m5Vj2XxBmgvH3jjeKcuKrhvDLntdbfnaVc2TU/PHT52LxpI0TecLUrGrYiSa6B8cb+/sY2iaYZja6rKW5hqL+QpTohw/3Z0vSLdtXnX7bWuL99is5tHxGQDQNL2rp29gaCKTyTMM3T84vmn9cpvVMjk1d6q9txh8zSbR5bQbhjEXjrEMs2Fta0116MzZvlg8WSjIsqyaTEIimV6zsrnYuK4biUR6/6Ez0VhS0zSTSZycmt+2edXYxGw4Ei8JeFYub9x74JTbZff73JqmZ7P5+XAsGksWJHlgaELgubGJ2c0b2spCgVg89cqeY7dtWWUyCRgo0XvBssThvB6XgbWVq7WVq6/4kOHzGT7fhRs0bfgDyu67rrCZ2yvf//DbHoDjiM8v3/vg5XsFSpRAyVs3V7duV7duv7ba0eK7CTp+CSJntYoj49Oaih110ZIzF4lphn6N10NvVW6XffvW1WfPDUSiiamZ+ZnZyLrVywSBA4CJqbnX95346dOvl5Z4vR7n4WMd3/mPp1Op7C+e23fkeCdFUR6349jJc7KiAsCJ090/ePKloeHJ6qrQ1Mz8C68cfn3/iSsecXRshqbppoaqi/fUVJft2rF+66aV+YL0vR+/eLrjfLDUGyz1ff8nLx04fGZ4dKq9s/9fv/1TSVIsZtPBN9q/+e8/mQvHyoKBF197Y//h0/FE+tjJrv/80Yuapvu8zompub//xvfjiTQhBABy+UJn9+ATP3guly/4vK6p6fn/8b++OzsXNQyjq2foJz9/7Xz/6Hd/8Fw4ktB1fXB44uAb7bphsCzL85wo8LKiPvnU6yNj06qqTUzN/eePXtA0HScAR7cYw2I1XB/ob8IPuJvg97HDYSsrDxw701lbXXb1zlgI3Xg9AyMGkJammsUuZDG5XfZtm1b90//+0fo1LfFEenB4cse2NS+99gYAdHUP9g2Ofek3PrJj6xpRFCRZPnqiq7N78NW9xz73yYfuuH0DTdPBUt8//9uPAaC7d7jz3OCf/sHnTKKwZmXz3oOnDh/tePi+HW89YkGSzGbRZr28W5Wm6afaez1u57rVy+67a2vxavvk9DxN01araWVbw0P3bXfYrdFYUpKU3/zsIzRNv7r3mCQpiUSa57gH7tl2x84NleWl5e09r+09Hk+kVFWjaToSTRw7ea62uqw04PX73JlsHgD6h8bXrV6WTGW+/cTTX/rq3z54723r17QIAjcwNEHTdE1VqLTEaxKF7VtXW8ymRDI9H46PTcxMz4TLQn63y46nJ9EtRr7vQfnu+xa7CrRoboIzlHabuaLM39HdryjqYteC0OUmp+YoCmqqrtc8cDcFQeDLQv5cvhCLp2ZmI6l0tra6rNhRUpZVTdMry0tFUeB5zm6zWMymWDyVSmXtNovDYTWbxZKAh2HobLZQkOSCJI+MTvf2jUxMzTkd1pbmKyd1r8dJ01Q0lrx4TyqVHRqePHG6e2p6XuA5m9XMcSzPc8FSX3F2IYZm7DarIPAWi6k4n1GxJJqmCSEEgKKo0oDXajHzPGc2iTabWVFUXTcAQFW1aCyZyxfGJmZ6+0biidTqFU1mk8ixbInfEwr6J6bmaqvLnE7bxX7eDEPTNMUwNMsyoshvWt82H47tP3R6eHRqx9Y15oUbSIHQUsHzC7lmD7rZ3AQ/kc2i4PM5U9nszHzEajGZcMQ3Whp0wxgemzRAc7ltdrt1sctZTAxDWy3mqorScz1D+YLk87ocditNUwAgirzAc9FY0jAMQkguL+XyBafDarNZ0plcJpPneS6VyhqGwbJMMQiWlwUcdmu+IPEcZzJdeQHf1ubas+cGTpzuXtnWyHEsIeT8wOjp9l6zWRRFIV+Q8gUJAAghsXiSYRhR5GmaYlmmOGloMe1d1iYhJJnKqKqm67qsqPm8zPMcw9AAwDCM1WqmKKiuDAVLvYlkplCQbVazrChz4ZiiqHfv3tzbP9rWWn/FHp8cx+7avm7/4dNDI5M+j+vh+3eIIi5MjBC6pdwEgZKiabfL0dpSc6qz2+WwV4Su0HUXoRuMEKIo6p5Dx0pLPfU1ZYtdzuLjOHbLxhU/f3av1+PcsmHFxfvLQ4FEMn3gyBmOY2maHhufEUW+rqZ847rWoZFJQeCdDtvZc/2SpIgiX1URrK+tKBTkYIk3m8szDG16m+C1ZlXz1Ez4XO/wq3uPOR02WVZOnumZno3cuXNDsMTXNzDWNzDmcTsMg3R09tdWl4WC/kwmd/WnoBtGZ/egx+0Yn3T3D44H/G6H3VqcS9Jus6xe0dh5bpBlmWLHm1xestnMvX2j3b3Dbpf90Yd3ffPff9J+tq+utvxigzzHxRPp8/1jmze0rWprfPn1o7NzsRK/t66mfMEnYEfo/WNGhuhIBDS1uC4iiKJeGjL8AXib1TWpVIqS8obLDRz/1sHm9OQEnYxr9Y3AC1dc6oZKxLmuDr26VvcHQDQBAGga29mhV9eQ4nDy66A4fWZxTDqdSBCbzfBdYbayK6KyGSjkQTQRi5Xt6SJWm15de53qvBndBIESAEpLvI89cudf/d13ayvKS/1e7HuEFp2uG5FY4tCJM1/47Idbl9UtdjmLyW6z+DwulmU2rlv+zAsHvW7nyrYGiqJKS7wWi6mttV4Uhb/75/+cD8fTmVzA575t8+qK8pJPfuzebz/x9M+f2Wu3W6KxpM1mFnh+47rWgiQ/8cPnGuoqw5F4W0v9utXLaJoqC/ovu0ZcX1uxbfOqZCrzd//8vYDfnc7kfB7XbVtW3XfXVoZhevpG3jje2dHVbxIFSVYeeWhnsMTX0zficTtoir5Yc7Epj9vhdNoYmtZ1fWBoPJ3OEUJMJuHXH3/A7XJ43A5N04KlvhXL64+f6n7+5UPF+ctCQb/b5Xjquf2Kqj32kbtbl9VuXr9ifHKWAHE6bMUDhYK+kaPTL756ZFVbo8NhtdssleUly5qqMU2ipUl86Tnu2BugqUQ0UZpKrDZ5153y7rvfLt6xg/3M+Ki8fSdxud+63LZwcB93+kT2D//U8AWuGCjZoUH7134n/+nPy/c/rJdXAk1TkmT55j/kv/jb6uatC//0igft7uS6zspbbgOW4zrbtfrGaw+UzPgYMzaiVdfqdQ3iL57Ua+oLGCjf5OZIZoLAB4P+8mBgYGS81O9tqq9e7IrQB91cNPbMq3tbmmtCQR/Pc4tdzmJ69KFdD9xzG0VRJQHP//ofv8uxbHE2ym/+3e/brBZR5F1O23f+5U9j8RTLMg671WG30jRdU1X2td/9ZDKVNQzD7bJTFOV02BiGfvShXbdvW5PNFQSBczntDruV57mfPPHXbtflEzOtXN5QUxX65MfuzecljmPtNqvTYS0Onf7wA7dv37I6k81TFLhdDrfLzrJMwO/ZvL7N4bBerLnYzle//AmWYWPxJM9x99+9beXyhoDfIwq8z+symYTPPv4gAJjNIsPQ//3P/ksimVYUTRA4j9vhctq/+OsfJoRYLCae5z718fuKF+4Zhike6NGHdu3YukZRNbvdQtM0yzK11WXr17Tc2PcHoXdBXbNe2bhZr60DAsLLzzPzc9zZdmXnHVfcmBkZ4jpOK1u2kfe8mI2qii+/oDU06V4/WG7g8hA0rVdUGoEAMb2LgzLjo9zZM3qoDAgpfOpzONf6ZW6OQElRlMUiPvbRu37xzN43Tp+1WEzlQbzwjRbN9Fz4dGdP7+DIF379Q5XlwQ/4fPs2m8UGAAAMwwT8l85klAS8xT9MJiZkEj1uRzFUFc/PcRwb8HuKU46/efYGh8Nqs5llWWFZlmWZ4mt7xRV0BIH3CbzLaVNVjWGYiy0XSzKbRU3Ti40XG2FZ1mwWL6sZAIqrNSZTGQCwWszloUBZKMAwdDGbOp0XNwS/z+102AzDYBimeJ3E9aaYW4yqRcUD2e1Ws1mUJGU+HH/quX19A2PrVi+rrcYOEui9IgQIYTs72MF+SlW0mjp11VpY0HEFxGQyPB4jUAoAxO4gkgTEAE1je7q4jjN0MgnEAFmWHvwwRdPsyBA72C+89Jz06GPM+Cjb1cHMTAPLGv6AvH0XANDRsPjUT0HXqVxOa21TN265/HQgw6jLV3DnuojdqW7YdOl+WWLGx8RXXyoeTq+tV1eu1svKxeefoZMJKhEHXlC23sb2nqOyOSqfB4bWKqvpTIZOxEDX9apq6aFHqXRK2Pc6Mz0Juk5JBXVZq7phy8VXko7FmPERYncadjvXfgoAwDDoRJyIJvm+B6lslj91nI5EAAgosnL7HYbTxYwOs709gtliBEr5Q/v18grF46Hn58SXnqNkGXTdcLqU23froXL+yAF6dgYMwsQiVCYj79ilLV9BHAu8MOxSc9NceWEYpmVZzdo1y2LJxIt7jszMRYujLxG6wWbmI0dOdpzrG9i5fV1zY7XFgqMar8nFIdUX76Eoiue5t84FRtO0ySRyHHstSZ1lWZNJvKxlAGAYRhB4URSuMe7bbZYNa1tbl9W6XQ6e595ukkie54ojxK+lzWJ5osgXx3pv3bRyw9pW61umOkK3DJqir+/0orrOtp8WX3hafPpn4jM/N/3sx1xXB5VJL+AR2JEh8cXnTD94wvT973JnTgLL6OWVoOtsbw/QtF5WZnh9dCbDnTsLkkREkYgi8XipfI47fYKORfXKKj1UxkxN0OE5kApA0YTnjVA5UBQzPsYO9F12OMJx8s47KFlie7uZifGL9zNjo1z7KSjk9JKgURpkJsb4g/soSeI6O5ixUeAFPRCgEnH+yCHQND0YAqDE558GQvTSEJXNsuc6qXSKmZ6kshnDatPLK3V/gD+wl56bLbZPEUJn0szYKJVMEIvFKA0apUE6FmOmJuhsFhiW7esFQzdKSg1/CaUbbFcHlc+BaCJmk+FyA8exvd3M+Bgdiwmvv0JJsuHzG/4Alc8Lzz9N5XPs4AA7PkZRoIfKQZHZ8z3M9NQCvk2XXihmCaW4m+MMZRHDMDu3r1MU7cTpnj2HT2xc01pWGsDZN9ANoxvGxNTs6a6ekYkJn8/x4Qdv/4Bf7L6VOBzWrZtW0jS14O8py7Jul/2O2zd43E6rFX9+3MpYlrm+3wmqKhzYwx8+yMzPAgAzPqpVVumBUmJbsJW6qEya0XUqk6FUhY7HjJJSSlEAAFhWD5UZThediNPheXZkWF211vD6Da9fXbOejseY6Sm1Zbn80COgacLeV4loonTNsNnU9Ru1plbu1HGuu5MZG4Ett/3K8WhGa26hM2lmdIQ7fkTedRcQAgDs0CDb16vsvENZtwkIMT35A66nS9l5J5XLajW1yo5delkFe+4slc9rK1Yr6zdyZ06KT/4g95U/0BqaRJrizrbT2UwxaxKTidgcdDwm/uKndCpx6dCGTikycKxRXqmEyuiZGWZkWKtr1FasMlxuoGm9vMpwOKhCgSrkmelJdfNthtdnlATVFasMm51SZEqW6VhU2PNK7stf1VrbAIA7fdL8r/8kP/QIVcgbTqe6Zr1WW8c7HGxPNx2ZB2hdqLcJAAghumHwHLt0lki4mQIlAFgsprvv2OTzOv/hX36YzuXu3L6xMlTKvelSF0LXg0GIpumZbPalvYd6Bod23Lb2Qw/cjtPs30pomr54QXzBsSxbg1e6PwBYlhE4lhBynbrBUIbOjA5TucyF24bBTE9ShXeYvuBdUVeslnfu1huaIZ/jD+3nTx0XXn1Ra1qmLW/jTp3kD+6j41E6PK9XVFG6frEMenqSWCzE4QSaBo6T77gHKIqcOQW8YPhLgGGA5wEAZPktTwmAouXbd5siP+aPHVGXr6QMDQCoVILOpLX6RuA4YFni9hCTmZ6dBl03/IFi4AOKNtxuYrGAIADHA00Zbg8IArAc4QVC00ZZBT03y506QUcjdDLBRMOg6fDWd8YwqEJB2L+HjoTVTVvU9ZtA17XWNu7kMf7oIToapZMJvaT0ii8XJRWY6Sm9oopYbUBRhsdDEYNKJUFVicdreH1A0UagBAb7wVj4a6qyLJstZnbJDFNeKnVcO7NZXLt62d/999/50ZMv//2/PbF6+bLdWzfW15S/854IvVdTs3PHTnU+88q+hobKTz/+wPJldZgmEUKX4TiWE1hJk0RWvB6ZktCMXlXDDg5ANgsAQNF6aeh6DQ0xmbXlK9nBAWZ6ikolLd/8B2XNeumBDwFNcx2nmfHRS1tSFAgiGAYUI6aus+d7iMVCZTNv1/ZliN2prllHKYr5e/+XymQAAFiWMCwlScUTlqBpoOtEFN86OdHboRRFfO4pKBT0+kb5/oeBptnf/MyVt0wluRPHuI7ThYc/oq5dBwCUJFn+8W+05lZ5993EamPGR7n201c+DM0QQaQUBQwDGAYMA2SJiKa3jnlfcISQZCpls4giv1T+Mbr5AiVFUWazWFMV+tijd05Mzff1jz/x5DOiwDfVVTXV11QES21W85LqVYBuRrqu5wvSbDh6fnikb2A0k8u7XLZPPX5/ZXlpVUWpzXYDRyMihG4SVovZZjOn0nHeFWCo6/DPK8/J9z8MAFx3J2iaXlWj7L7r2me9uRZ0NMJ1n6NTKTAM9nwPnYjrFRWULNPheRAEIop0JMx1dxJBBADCsmDozPiYXlHFH97PjgzqA1UUAfHZn8u333Ht4Q8YRmtooiTZ1NleTKV6WQUzOSG89Lx8z/1UJs2MjwLLGsGyt5sR8woMg46EidlCzGZKUdius5SqvPX0JJ1Mcp0dpl/8RF29FniOmZ4ivAA8x8zOaCtWEYuFymW50yfpSBgUhTAs6DozMa7X1IFBAMCw27UVq/gDe9T1m0BVuc52vaqa2OzAXPdwZRAjlojxPMuyeMn7/eE4trmpprysxO12DAyOZbNSMpc+3tF56mwPzdC6piuqquvGe5/LAH0gURTFMjTLMAzLAAW6oVMMuL22iqpAeVlg7aplZvN1OfGAELoFeD1On8c2NDrktLoZ4Tr880ozWl0D3PuAtmI16Lrh92v1jSAsWFcNPVTOqCodCVOFPBBCyZK2rFVraCRms7JtB6gq198LuqHVN4GhE1HUK6v08DwzMqTVN6or19DRCHf2DBAw3F7D7dErKkFTCS8ARRGb3QiWEfZXOpgaNpu6ai0RBAAgdodWX69s28EO9hOHw/D6VE1lz3Zwp0+Cqhg+v7p8hWF3aHX1hs8PvAAMQxwOva7BsNkua8rw+vSqamI2q2vW07MzzMwMlckCTSnrNhkOJ2UYelk5Ke4VLCO8QOWyxGQiFgs9O02H54jVpldUy7ftJDTDDvQDBXpZObAsEUUjVKbX1DGzM3Q6rVfX6MGQ4fNL9z/E9vexXR2UQQAo+YEPG3a7Xl5BrFbCcUBRxGI1gmXE6Vqot6mIGGR8etJmF95uObEb72YNlEVWq3nd6mVrVjZls/ne/tG+gbGZ2WguX5AVRZZUTdMwUKJ3i+c5jmV4nrdYTD6vs6W5tqGuwu2ys9f+yxgh9IEUCvpCweiZ7o7ljStF4ToMwKIo4DitpU1raVv4xgHU1jbD7YFCvniTNC7TKyoNfwAIkR74MDtwnioUDK9P2bCJmZsznC5idyiiSE+OE5ZVttzGjI4wYyNAiHzH3XqoHExmvSRIzGagKN0fIBx32fTmhj8gPfQo+eX0k4bbK9/7gDbUqAdKiNenms1ENDHjo8RmV+sb9ZpaYFhl4xbi8hCLhbCcEShVNt9meH2XNaVVVRtOl2F3Klt3sOfO0vNzwPNqS6teWWWUhsDQid1heL0AoNIMpWmgqdK9D16sinA8MYnSQ4+wA+epdJo4XdrajczEqOHxGgGWsCwzMkgYWtm81fD4iN2hbNpGTBZmetJgGT1YrrW2Ac+rrW3A8cVr9IbHq7YsJ3bHwr5ZuqH3DQ+sXB2y2ZbKxBEUSb9NzwCEEEIIXbNCQTrd0ff33/jxX//+XwW8C3klGqE3I4Tk8vnf+6uv/9YXH9i1Y+0SGZe8JIpACCGEbnaiKDjsFpOJiyTmC1JhsctBtyxVVaOJOMczJlFYImkSMFAihBBCC4KiKL/PddfODXuP7p+en1nsctAtK5qIv3botS2bWoJB72LXcgkGSoQQQmhhuJz2LZvaosm58enxVHoh17BBqEiS5bnw3PmB3o3rlgV87sUu5xIMlAghhNDCEAS+sryksb5scnZ8ZHJM07XFrgjdUgghkVh0ZGLE5RVra0JLau1fDJQIIYTQghEE/lMfv3cqPHLi7MlEMkkIwflG0EJRVOVsb1dnX8cnP36PzbpUxncXYaBECCGEFgxFUS6n/aOP7NZI8omffb8gSRgo0ULZ/8ahiZmRNavrVyxvWGoLtmGgRAghhBYSTdPLl9Vt3bLc5eH+46ffjycT+sWVrxF6T3RdP93V0Tvc4y8x3X3HhqWWJgEDJUIIIbTgbDZLW2v9mtX16ULktcN7RybGJVle7KLQzSqTzZ7p6jjWcTxQal29qr68PLDYFV0BLv6BEEIILbyA371uTbOsqK+8dlzXtXyhrTwYcjmcAIAruKJrpGlaIpUcGB062XECBHnHbTtammsWu6grw5VyEEIIoevFMIzh0elvfutnco7Zun7L5jUbTKLAMixFURgr0dsp9rtVVDWRShw8ceTE2ROrVtR87tP3OxzWxS7tbWGgRAghhK4jVdXCkfiJk32H3+geHJ66e/vures3lfoDS2eNE7TUaLqWymRe2PNyR29Xaan97jvWrVvdbLOZl/JnBgMlQgghdH0ZhhGJJqdnIpOT8/0D4fm5JMvwJb5AXVVNZajc7XIJvLDYNaLFZBiGqqnJVGpiZmpwdGRqdlpWC1U1vvrakqrKkrKQz+W0L3aN7wADJUJLgqZpkWhydi4ajSUz2XxBklVVNQycbeQDimFonuMsFpPLaSsPBQJ+j9ksLnZR6P0yDCOXk06d6R8amUinCxThGFrkGRPP8wCUoeuqZuiaRgD/x/8AYRiWZWmGZigARVN0Q1G0HKEU0cStbGtobal2OmyLXeM1wUCJ0GIihEiSPB+Oz87HZ+ZjY5PR2UgilS4k01lZVnTdWOwC0eLgeVYQeIfV7Pc66qpLyoPeEr+rxOd2ux2LXRpaGIlEZnx8rqtnZGxsNpXJFCRZUVVZkRVFw3krP1B4geM5nuc4keedTkdtVbBlWVVtTXApd5e8IgyUCC0aQkg+Lw2PTj3z4uFDx3tqGhpbV66uqmvyl5YKoriU+8qgG0CWpFQiPjM5cfbUsb7enlDA8dBdm3dtXyuKPH42EEJLDQZKhBZNMpl56vkD+97oqm5evm7z7U63WxBNLMfSNIMjQBEhxDAMXdNkWcqkU4Pne3vbT9Ba5o/+66eCpV6GYRa7QIQQugQDJUKLgBCSTGaefHrP2FzOE6ppaGkLllVwHIchEl2RpmnJeHx0qH/ofDclxz760I7W5mqWxYmEEUJLBX4fIXSjEUJyucLzr74xOJUuq2tZtW6jy+Nd7KLQksayrNfvt1itNodr7ysvHDzWQwhZ1daw2HUhhNAFGCgRutHyeal/ePKVg2c33n73yrUbHE7XYleEbg4ms7m+sYkQOPTqCxT0VJQFPDhGByG0NGDPboRutLlw7KfPHmhetbGxpQ3TJHpXGJZtbm2tqG+aT8qHj3UtdjkIIXQBBkqEbqhCQZqejXb1jC5fsdqDV7rRe7J2wybe6j74Roeu64tdC0IIAWCgROgGm56NTMzEqpuXu31+luMWuxx0U3J5PB5/qUYLg8NTiqIudjkIIYSBEqEba2x8dng8vGbDZtFkwjHd6L1hWdZfGvSWlh871SPLGCgRQosPAyVCN9TMXHR8Klpb34BzvqD3w+fz+0rKTp45LyvKYteCEEI4yhuhGysvyXlZdbndi10IurlZrFarzT49G9Y07EaJEFp8eIYSoRvKMIiOCQC9bxzPsxwfT6R1Axd8RwgtPgyUCN1QqqrKirzYVaCbHk3TBCCbzxODLHYtCCGEgRKhG4sYRNfxlBJaAMQAvN6NEFoisA8lQkvU9ORELBrlOK6mvoHn+bcbEm4YRmR+PjI/b7FZAyWlJrNZVdVcJsMLgsVq1TVtsL9PUZRASWmgtPTtjpXP5eKxaHhuLlhW7vJ4kvH4/NwswzD1jU28ILzbyg3DUBUlnUrZHA5RFLOZzMjQIABUVtc4nM5329oVxaPRSHg+k07TNF2sWRCEQqEwOzWVTMQNw/D4fIGSUrPFcrUiVTUeizpdLpPJnM/lJsZGc9lcTX39++nhqmtaKpkcHR5yulwloZDFYn3PTSGE0E0Ez1AitEQ9/eSTX//yl/76z/4kHo1eZf5qVVX2vPzSn371K098698mx8cIIalksv3kidHhIQAoFAp/8+d/9vUvf2nPyy9e5ViT42NP/fhHv/Wpx1978fl4LLrn5Re//uUv/X9/8PuJePw9VK6paiQcPrRvb2R+HgBGhga//uUvff3LX+rt6nwPrV3RyWNH//4v/+LzH/u1izUDwNzM9Hf+5Rtf+synPv+xXyu+GldpQde0WDT6ynPPzU5PA8Dk+Njf/Pl/+y+f+sTZ06feT8u9Fu4AACAASURBVGGFQuHksaNffPyxb/3TP06Mjr6fphBC6CaCZygRurnRNFNWUbF+05bKmhqL1VbI5//yD7+madpDH/lo64qVLMuuWrc+lYiXVVRce5tlFRUbt24VRJMgvuvTkwAw1N//V3/8da/P19DUXF5ZaXc4Nm7dCgAuj+c9tHZ1uq73dnWt37y1NBjKZbN9vT3qtU2jMzYy8o2//Z/xWLR1xYqauvoFLwwhhD5QMFAitNQRQtKp1NjwEMtyVpt1dmYmGg5brNa6hsaK6mqKomx2e7CszOPzKYrceeZ0f28vwzKd7acDpaXL2tpKSoMWq9VmdwCAruvjIyOjw0OZVIqiaZvd3rpypct9ec6z2R3B8gqeFxiGHRkanJ+dlQqFi49abbZASWlZZWUiHh843xuZn9d1XRCE+qbmUHl5KpXs6mgf7Dufz+dOHn3DareJohgsrwAA0WQu1pDLZnu7OqORCABxuT31zcs8Hg/DstFweHpqMplI1DU2jg0Px6MRs9na0NxcGgpdcVUhlmWtdvtQf38mncrlsuH5+bmZGVEUC5J08aVTFWXg/PnpyQlZlu0OR9vqNXaHIxmP9/V093V3G4Z++vhxr99/sc1YNHr6+LHZ6WmO45a1rfCXlIiiSAjRVLWvt2d6YkKSJJvNXl1XV15VxXEcAEiFwszU1EDfeU1V7Q5HOpW62JqqqtFwuKfrbDaTpSjK4/VW1tSUV1Yt0EcDIYSWCgyUCC11hJB4NLL/tdcy6ZTb481mM/OzM4ZBVq1bt+32nVU1tclEYnxslGYYt8dz+vixQiFPDKOro93hdDW1tk5NTCQT8Zq6elmSZqYmn/3Zk7PT04QQACgUCtOTkzvvuvuyIyYTifGREVE0aZo2eP58+6mT8VgMCJFlWdf0iqqqNRs3uL3el599uruzU1UUlmXTqVR5VdWDj34kk073nuvSdT0Zjx8/cri8qqq+sWl8ZAQACrmcpmlz09P7XnvlXEeHqqqGrguiWN/UfMd99wdDoenJycP79/X39jS3tqZTqfnZGVXV6puaPvrJT3v9/rdOBS+aTOUVleOjI5Hw/MzU1NT4mCxJtfUNc7Mz8Ms0eWT/vmOHDyfiMZqmdV0fHRraceddmVRqsO98NpsBgFPHjtY2NFRWVxfbPH3s6OjgYDQSTsTjA+fPP/DII1W1dcl4/MQbR44fOZxMJDRV5Xi+JBjcdfe9jcuWMQwzNND/0jPPTI6NWe02h8ORSiYvVjg2PHRo797ec10ms1lVFIZhq+tq7/vQI/6SEpzZHiF0K8FvNISWOkJIJp0+d7ZjeKA/VF7R1NLCslznmTPJRMJssVRUV89OT3ecOqlrWqi8TJZlQohBiCLLslTQNe3c2fbw3FxTS4ssSeOjo8ePHHZ5PMGy8nwu13Hq1PTkROOyZZeNlZmdnjpz4rjFalVkWVWUQj6fTadzuezwwICqKLqhNbW25rLZI/v3p1Opiupqs8XS233uzMkTDU3NdodDVRQCYBiGLEmaqmYy6TMnjgPAvQ89nEmlzp3t+M//8++CyVTX0EiAjAwNnj5+3OF03X7nnfFYtPdc5/EjR6KRcGPzMlXV+nq6O9vPbN1xu8PpfGsCM5nNdY2NQwP9s1NTFEVNjo/zPF9ZU5PJpAFA1/V4LPqLH/9ofHSkvLLKX1I60Nfb1dHu8fncHq+iKMVULcuSpl5avXB4cJBhGJbj+s/3DpzvXb5yZUkwND468sMn/u/M5FRNfb3VZotGwqeOHVVk2e5wiKJ44siRn//4hzW1dR6/L5VM9vV0X3zjes91Pf3Tn9A0vW7jJpqiZ6en0unk2o2bPF4vBkqE0K0Ev9EQumk4Xe6NW7f+7h/+USad/uOv/M7I0ODk2NibNyirqFy/ecv+1141mS2f/PwXHnz0I9lM5uKjnCCEKio+8dnPt61ZUxoMne8+N9TfPzYynMtmrzL4+v5HHr3/kUdTyeSp48f+9s//G22jN27Ztn33HYSQxz77OZvdXl5ZKRUkk8n87M+eTMRjm7dvd3u9r734QlVt7X/94z9ZtW59V0f7xdYG+/uOHNify+U++1tf2nXPvSaT+djBg3/x9a898+SP6xobitsIgvDpL3xxw5ZtA729z/z0yQN7XouE5yVJMpnNl9VmsVqbWlv3vfrK+OhoNBIdGx52ud2lobKhgX4AyGYyUxMT57u7N27d9ugnPlHf1NzV3v7fvvZ7nWdOf+hjH7/34Q8d2rsHAH77q1/bdNv2/t6eYpsf+9Sn77z/gcj8nFQoHD14IB6LTYyNdXV09HV377z77l//zd+qa2w6d7bjr/7oD19+7tl1mzZzHHfq6Bs8y33xK19Zu2FTPBZ98emn/uP//DsAaJqWTCTi0WjDsmXrNm9paGrWdU2SpKqaWo7n38cHASGElhwMlAjdNNxeb6iiEijKYrO9h/NbHMe5XO50Kvkf3/rWzPRUeG5ufnZG17R33DEZj585efxb//APhq792uOf2XHnnTabTdU0qVA4efToxNhoLDwfmQ8X8vl3bCoaDk+MjTEMs2LNOpfbw7JsaVlZqKJicmL8YvalKdrt8QmCQDM0y13taXIc7/P7fYHA3My0VJDS6VRjS+vFrCYVCpNjY5qm9p7r+t63czaHPZVM5jLZ8NxcMp6wOx1XbNPudJotFoqiOY4DigKAZCI+PTHBsOyqtetdHg/DMC63e8WqNfOzs3OzMyzLZjIZmqGra+qsNhsh5GIXSZZla+oblq9a1XWm/Rt/89cms9nr869cs9bl9pjMZprGSTYQQrcODJQI3TQ4jhMEgaIohmEo+srTUl5FIhbb+8pLe15+uaKqcv3mzYVcfs8rL01PTFx9r3wud/TQwReffioWjTz46K9tvX1XaahMkqT+3p4XnvoFTdOVVVUty5ePDQ8f2PP6O9ZAUVRxQs3ifxiGYRhGU1X45f0AABRwHEfRNPXmO6+EpileEKvr6gbP90UjYZfbvWz5cuOXK8dc3NcXCFTX1bm9Xk3T6puaQuUVwbJQNpu9YpssyzIMA9Sl3eHiSjRU8W6KAooAKV4x/+VTAShuTgiQSwU0t7R+6vNf6F7XOTUxPj05GZ6be+PgAbPV8sjHP2Gz29/x5UIIoZsF/kRG6BZDmcwWVVXC83Pzc7NvfiCdSp04+kZfT3egNLh+05ZlbW1Xj2tFp48fe+3FF7o7z3q8vlB5RTqVGh0aHB4cGOg739V+hqbp1hUrV6/fYDJbaOrC9wlFUSzHFfL5uZmZVDLx5tbcXm9ZebmmaccOHRzoO3++u7ur40wymayprbO+p4DFMExDU7NBjEw6LYimZctXXDxDKYhiRXU1x/MURZUEg00tLQ6nU9d1m91utlrhl6N2IuH5VDJxlQUM7U5naSgEhJw9dWrgfO/w4EBfb89gf5/FavUFAqWhkM8f0DSt49Sp0aHBwf6+890X+lBKBWl2enpyfNzldu/YfefOu+4OlpdPT0709/Ze49xGCCF0s8AzlAjdUmia9gX8o0NDvV1dZRWVm2/bfvEhiqJomqEpWpbl6cmJibGxbCZjGERV1atMnH5wz54zJ47rum6yWHrPdQ72n3e6XB6vl6JoluMIIYlEIpPJjAwNqqqqKKqmahzHudzuVDJ55uSJklCIflNsDZaVtaxceer4sddfeiGbzRi60ddzjuO4Tdu2+Xz+VCLxdmW8HYamiwNlaJq22e3VdXXFVXkAwGyxBEqDwbLyWDQyMTbK8Xz7iROdHWdcbs+y5W0Mw1is1vDcXGd7e1nFhQmArsjt8TQ0N5cEg+0nT1jtdp8/MD46MjUxsWL1msrqGovF2tTa2tl+Zs9LL8ajUUkqnP/loBxZlnrPDfz8hz/w+P0f+shH3R6Py+02Wyxen49mmHf7TBFCaCnDQInQLYVm6Nr6xtGhoX2vvhKPxVauWXvx3Jvb673rvvt7zp79wf//HVEUvX5/Q1PzmZMn4tGo4206FAJAPBbJpNMA0H22o/tsBwAEy8q27tj5+Od/45UXnjt+5PChvXt8gcCqtev6e3vmZ2cS8bjNYW9btfrw/n0//+EPHA7nxq3bLrZWXlm18867kvHEsz978vvf+bZBiC8Q2H3Pvb/2yU+7PZ7iYJp3+XyZusZmm91hsVp9Ab/X72N+mdV4ng+WlX38M5958nv/+bMf/kCRZZbjduy+Y+2GDaWhkK7rq9auf+nZp3/xox+Korh5+463O4RoMi1rW/Glr37tO//6zed//jNZlq022/JVq377a39QWV3Dcdzue+4Z6u87evDAiTeOLGtbUV5R2dPVCQAOp3P95s3h+bmffv97Z44fI4Q4XK4NW7Y++onHLVZckhEhdEuhSPr0YteA0AfIP//bT14/NvDX3/jf77hlJBxOp5Isy5aGyjRNjc6HgaIcTmdxRPb05IUZtr1+fzKRSCUSosnk8rh5XoiGwzNTU7JUcDhdtY2NM1NTmqa63B6Hw5HL5aYmxtPJlCAINodDEMVCPu8LBHiez+dyiXjc6/fZ7I5MOp2IxxiaCVVUhOdm3zxUHABYjrNabS63e2ZqMhIOAwGr3eZwurKZjM1ud7pcNMNE5+enpyaBQKi83OXxzM5MA0BxinVVUZLJRCwSLV4Nt9psXr/f4/UxDJPNZJKJhFTIhyoqRVGUCoVUMplJp0uCQbPF8uZxSOlUKplIGLruLylhOa449brFai0JBt/8agi8kMmko+FIPB6TJUkUxUBJqcfvF0VRVdVYJDI5Pg6ElJaF3B5vLBKRpEJpqMxmt8uyHItEspmMv6TEZrcDIfl8LhaJRsJhVVFMZrPX7y++bhRFKbIcCYfnZmYIMRwOp9Vuz6TTVpvN4/VSFJVMJCLh+XQyRQix2my+gN/r83Nvvzj7tTvX0fE3f/YHr/zsH8tC/nfeGiGEricMlAjdUNceKN8PRZYNw2AY5rLpaQghuq5rqkozDMey1PsYaEwIAUJkRaGKA1l+ddQ5IUSWJIqi3vpQ8VHDMFRFAYpiWfZ6z8hoGEZxEvXiC3IxyV29yCuSJckwDIZl+be8sIqiACHMW55O8TUvdppkWXYBJwzCQIkQWjrwkjdCtyBeuPIa3NTCBTiKooCiRFF8u0dFk+kq+zIMw7z9BguLpmnhSi/I1Yu8IuHtn+8VDwEL+pojhNCShaO8EUIIIYTQ+4KBEiGEEEIIvS8YKBFCCCGE0PuCgRIh9A5yudzY8PChvXvyuVxxeRhJKoyPjnScOpWMx6+lBUKIVCh0njk9Njx8nYtFCCG0CDBQIoTeATGMRDx+5MCB893nspmMpmnzs7N7X3l5fnZGUa9txRdCFEWZGBuLhOevc7EIIYQWAQ48ROjWUZyLxyAGzwvMwq3FUpxSkaHp/a+9KppMDperp6vr1LFjv/O1P7TbHZqqSpKUy+WIYQiiaLZYGJrO5XIms5llWZqmVVXNpFIMy5otFkEUCSGEkEw6LUsSTdOiyVSc5buQz6uqahiGrmkuj2cB60cIIXS9YaBE6NYhS9LUxIQkFSqqqovzny+UYFnZ45/7/B995culobJ8Ljc2OvLoY5+oqq0VTabI/HxfT/exw4dlqdCwrGXdxk02h+PY4UOr1633BQKCIETD4b0vv3T7XXcXL5cX6zy0d09fT7fFamtdsXLL9u00w/R0np2bnSnk89Fw+BOf+42FrR8hhNB1hYESoVtET1fnoT17Dh/YZxhGbX3DPQ8+tPm27Qu1ZjTDMC6P5yOf+OThfXslSWppW7F6/XpeENKp1KF9e8+fO7d9127DMA7seU1VlBWr18TC4TMnTmzYskUUxZHBwb7envVbtnScOlnf1OwPlLz6wvOZdLplxYpcJtvdeTYRj+2+594zJ0/MTE2FKirKq6pZDr+aEELoZoLf2gjdIs53d7/y/LPjo6MAMDs17Q+UVNfWhSoqFqRxiqZ5Qaioqkolk/l8ThBFl9sDAAzDVFRX8zzvCwQymXQ+l4vHopqmVdfVH9zzel1jAwA1NjJcVlFJUXQiHs9lM/FodO/LL91x3/1uj1cUxGgkcuD117bsuD0aiVis1jXrN/hLSgX+ypOEI4QQWppwUA5Ct4hoeL6YJgEglUzMzc7EopGFatwwDCmfP9/dXRIKeX3+aCQ8Oz2laRpFUTwvAEWNj41G5ucZlmUYhhf4ppaWeCwaj0aHB/qmJiY2bt12cU2dQqEwNjLMMEwiHi8UCqIoGoYOQAzDKAmGVqxeU1FVxXLcQlWOEELoBsBAidAtwmQ22x2O4t+CKFoslne7ruBVFPL5wf6+Iwf2r924ce3Gjcl4/ODePdl0Oh6Lnjhy+JVnn5kYHVFVlaJpmqZZlnU4nSXB4OzMdH9vby6baW5tvbiGNUVTLMsmE4l0MplOpymKal2xiucFAGDZyxcfRwghdFPAS94I3SKaW5dv27nrxaefAoDq2rqVa9bWNjQuVOPTk5NPfOtbq9atX7lmnclssjuc3/nmN5pbl89NzxiGsW3nro9+6tOKonS2n8nlcgDAcuzGrdv2vPySVCisXLuO43mKoopN8RwfKAmuWL16+arViiL3dXcfP3LEMIyFKhUhhNCNh4ESoVtEU0urw+ncfNt2qSBV1lRX19bR9MJcgpgcGzvf3WWxWbfdvtMXCDA03dy6fOfddx/Zt6+lbQVFUUcO7I9Gwqqi5DIZfyAgSxLDsK0rVh7Zv8/ucLauWAEANE3b7HbRZAoEgx9+7LFXnn9+/+uvaaoqCMKm23YIgmC12RbwlCpCCKEbCQMlQrcIu8NhtlhKQ2WaqlptNl5YsHEtVputoXmZL1BSUVVV7AoZLCu7+8GHk4l4eUWlx+crr6qyWCyGbjAbGLfHGygtpSjK7fXe9cCDHMdX19VRFGW12e68736ny+VwOrfuuN3lduu6TgzDbLE0L2/jBWHnnXfZ7PaFqhkhhNCNhIESoVsHy7IXu1EuIJfH4/J43nyP2WJpamkp/h2qqFi+atVb92IYZv3mLRdvmszmNRs2Fv8uDYVKQ6HLtl+5dt1CFo0QQugGwkE5CCGEEELofcFAiRBCCCGE3hcMlAghhBBC6H3BQIkQQgghhN4XDJQIoXcWjYRfevaZfC5XvKnrejqVOrxvb3h+bnELQwghtBRgoEQIvbOx4eH/+Wd/kkzEizc1TQvPzX37X74x3N+/uIUhhBBaCjBQIoQQQgih9wXnoUToFpHP5aYnJ08fP5bP59pWrq5vanK63TfguJIkjQ4NPf+LnxOia5q2bPmKdZs2l1VU3IBDI4QQWiIwUCJ0i+hsb3/txed7u7oURT7X3n7Pwx+6bddu08ItZijL8o+e+K7N7gAAXdfSqVQukwWAkcGBjlOnTCaxpr5BVdW5men9r77yyd/4wkIdFyGE0NKHgRKhW8TA+Z49L7+USaUAYHJsLFAabGpprayuXqj2CSH5XK64Priu64V8nhADAEYGB9tPnqitrzdbLLpuTE+dSCeTj3zicVEUF2oxcYQQQkscBkqEbhFSQcplMsW/NU2Lx2OR+bkFDJSiKH7+t78cLCsHAFmWJ8fG/uLrXwOAVDI5NjKsqurYyAhF0+G5ObfHk02nBZ4HDJQIIfTBgIESoVuEyWy2OxzJRAIAKJp2ezxvXS/7emA5trq27vNf/p1gqIxl2UQ8Jkuyy+2mGeYGHB0hhNBSgIESoVvExq1bdU3d99prklRYvW797nvu9foDN+C45RWVE6Njrzz77H0f/nAum2k/eVJRlC/+zlduwKERQggtERgoEbpFlFdW7b73vqraek1VyiqrQuXlgiAsVON2h3P9lq2CIBZv0hRltljaVq12utwev48AdLW3nzr6hqbpvCBU19ZRFLVQh0YIIbT0YaBE6BZhMpvLK6vKK6uuR+Nen++eBx82WyzFmzTD2Oz2bbfv8gUCXr/fZDJzHDc+MmI2c7UNjTUNDdejBoQQQksWBkqEbrSb8eyd2+vdfc89F28yDGOz2zdu21a8abPb12/esn7zlkWq7gOKoshil3ABISQaS6qqRshSKQmhWwZN0yZRcDpti13IO8BAidANRbMMw+FoFbQAKIriWGYp/DzJ56Xf+6N/6h8al2VlsWtB6Fbj97l2bV//9d/7zGIX8g4wUCJ0Q3EsI3D8YleBbnqqquq67vEuidH0hmHMzEU+89j9a1Y1L3YtCN1q9uw/MTg8sdhVvDMMlAjdUDzHiyIvFQqCIFA4TSN6r6RCQZEKJX4PszQ+RYqi1tdWbFjbutiFIHSr6e0b6T4/vNhVvLMl8U2E0AeHy2H1OKxzMzO6YSx2Legmlkml0sl4c10Fhz0oEEJLAAZKhG6oqoqSmgpfV/sZRZYXuxZ0syKERMLz0dmJTeuWiQL2oEAILT4MlAjdUFUVpTVlnhMH90hSfrFrQTcrYhhzM1Mz4yNrVjYJGCgRQksABkqEbii73VIW9PlcpvPdXcVlEhF6t7o6OnKJ8OrldTabmV4afSgRQh9w+E2E0A3Fsmyw1Lt7x9quk0enxkdlvPCN3g3DMGKRSM/Z0zwpbNm4HNMkQmiJwC8jhG40t8u+e/saGycP9HSMjwxjpkTXSNf1dDJ56tgbRiHeWO1va6ld7IoQQugCDJQI3WgMw/i8ri9++uHM/MjJw3unJ8YkqYBLjKCrIIRoqhqPRno7O47ueWHHhsa7dm1gWZz3DSG0VGCgRGgR0DRdUx36jU8+YIHM9//9X7pOHZdlabGLQksXMYzJ8ZFXn/v50z/+7ld/6yPbNq202SyLXRRCCF2CP3ARWhw0TVeWl37ovm211aNdZ491t5+qa26qbWzxBIKiaFrs6tCSoGlaNp2YHB7u7uyQ8snygP2u3/54a1O11YqfEITQ0oKBEqFFYzaLy5pqfF6Xw2aanA6r6dme03FFZ4CiZVnRdN3Ayc8/qDiW4ziOYYAiuoU1ShyGp7J0WWN1W0sdx91839vZbL77/LDAc/W1FVar+b000T8K0QRsWX3pnkwOhidhWS3w3DvvrmmQLYAsg8MGogAAQAiEYxBJgNsBQf/V9p2PwoFTcN926B0CUYC6SjCL73zEVBYKErAMeF3vvPHiykswNQfVZfD+P1q6DtkCJNPgdYFlUX/2qBrsPwHLG6DUt5DNxpLwRjuks7BpFVSWwrV3O4kmIFeAyuBCFrPE3HxfTAjdSjiODZb6HijxxhOpvoGx3r7RqUhYkpSCJCuKquv6YheIFocg8ALPm0yCzWqub6lb1rgy4HebTNeQY5YeXdd7+kZ++tTrdrv14fu2r2xrvHwLVQOWAYoCQkBRgWPhzaPXVQ0YGroHoW/kVwJlJAHP7oXK4IVAaRigqCDwQFFXKEJSYGQS8gVorr0UKHMSROKX8qiuAyFA05eOrmkAANNh+N4zsH0dzETAaobK0IXdVQ1o6lKkMAzQDQC4EMvGpyGaBJf9QqDUdTAI0BRcXHv9rfe8maaBQX4lKxsGqBpcNu2opgFFAU1fetbFmhnmV+65rClCQNcv7RhPwp6j8PiDwFmBEDAM0PTLD3SVMorbswzQNBRkGJmEiRlYt/zyQKnroBsXNru441XesosU9VdeZ/jlO1W8563P1zDAMECS4cWD4HZcHigve5vgTW/lmxt58/ZvLnIuCj98AWrKoLUBrt7vvfj+Mr/8OA2Nw+Q8BkqE0PVFUZTH7dyyceWWjSsXuxaEFpiqagcOnzndcd5us1SWl1wKlKoGeQlyecjmIeAFloF0FjI5MItgt144C5jKQjIDPAeRBKRzlxpVVJiag5cOwWP3gcUEknxhX6cdHDZgaFBUUFRw2SGTBwBIpOB0NwBAqQ9c9gup0ecCswg8B9k8ZPOgqKBqYBbBYQOTAJkcxFNACMxFIJYEXYc1LcAyIPIgyZDMQCYLHAcOGzhtkMlBNg8FGYCA3QpOO/QMwfQ8NFZDWwPkCpDKXsjKThvYLJArQCoDkgwMA047WE2XApOuQyoLqQxoGtit4HKAYUBegmweJBnsVnDagKZBkkGSIS8BANgsYLcCy0AiBekcEAImERxW4FhI5y40VXxlACAvQb4AsgIAF57pXBT2HIM7NgPLgiRBOgeKCjYLuOwXwndRPAWyAroO2Tx4nOCwAUVBXoJkGmQFLCZw2iGdhRNdEI5BTTkEPJeycioLyTQoCphEcDuBZaAgQyYLmRw4bOC0X0h1Ig8CD6p2oTyBh3QWUhmgaXDYwGEFTYdsHtJZoCgI+iFXgHQWDANE4cJnpiBDKgMFGTQNoglQ1F/5LGZykMlBQQZigNMOdivoOmRykM4Cw4DDClbLpeRtGBeOVSzSbgWahkgcxqbhL78MteXAshd+AuXyF3ZUVEimwe2AnASZLMgqiDw4bMAy0DcKnX1wx2awW+AWne0LAyVCCKHriKbpyvKSxz5yN0WB3+e+9MDELOw5Cq8eAZ6Dzz0KsgJ7jwHLQCwJuzbB5lVAUfDEU5DMgKJCOAZlJZf2HZ6AY2chkYKDp2G9DGf74I12cNohEoOP3w8eJ/SPQvcgfPXX4acvA1Dg+X/t3WtsXGV6wPH/mXNmPDd7POPx2J6xx/GFxCE3504ukA0QIBBuBaLuAr0h+FT1okpbVStV2lZqta20Yj9sqwroNrsUysICGxKSEEJCDLmQhMQJcezEdny3x+O5eO6XM+f0gw9xgmgX1st6Yd+f/GEkz5l55z1n5MfP+z7PqeTABwB11XgqcVdQKtE/zMVe7DZ0ndffocJJNkdjgI0ruW0Nrx2gq49UhliCZBpN542DVFZw2xrCUX7yhpF8CtbxzE5ePUD/MNkcmoam81d/zCdXON9DdJr1y9n7Pt1XSaZx2GhrZuc9HPiAzh4SKTI5Nqzgrk3Gp9N1Ygmee5XhCcrMxJP8zZ+SzdFxhq4+3BUkUvzZH+Cwc/oTTn9CmYVwlNVL2H4bddU8+1OSafJFXE7u20JDHS/vZWQCoqsFQwAADiBJREFUWxm5Ak8/BvD+Kc5dwlNJbJo1y2hrYmyS/hFe2suGdvqH+bgLVzmxBM88xuols0Hhv73ElUFc5WRy1Hp54n7MZo6f5eAxPC5KGts20lDHwQ9JZWiux+s2soOFIi/vpbsPTSeb548epMpFxxk+Oo/Xw0SYb9+HWmJojNVLaF/M5QEuXkEtsXoJz70KoJaoqeLpxxid5KU99A+zcAHf2cH+DiajJNOUO7h9PVvWcfQUx88xMUVJ4/IAucIN1+Jbhzl/mUKBfAFPJY/vIBThvROkMsQTrLyZretZ0mo8OZ5g92E6ThuDfOhOHDY6zhCNs+cIj95No590lu5+dr/Hzu0saaXnKs/u4h/+gn0dXOozcrd3b8bnoXeI85d5cTdPPojL+RV8z+afCCgFQRCEr5DZrGzZvFrTNF3XLdcvvKoqus6CAPfciq4TitDcwKZVxJMc+5h8gZYgE1P84b1YzBz4gEh89lh/DUtaKXfQ3saFy6TS3L2ZRj/ne+gfxqzQ6OfwSV54jekUq5fQGmTtMoBGv7EUO5NbSn16B9R8kYe3IUmcu8RH51nUxLluNrazIMDFPnr6kSCRwqwwEWbP+2xaSaPf2CgZncassHU9LidXBnl5L+kMAR+SREsD00nOXmLTSlqCjITYd5St6+nsoaiyZS1eN7n8bFasqHLoBA4b2zbi8zAwSibLvg4cNp58ALuVQyfoGcBupahS7eGOW7g6QjLN2S6iftQSW9ZRVUkqTTjG+R5cTpbdhruCviHePU5rkHQWp4Pv7CCdYV8H5XaCfuqqueMWotNMp2iqZ/NqhsbwuNB0ri3Ij4Wp8/HINtJZnt3FVIyJKc5e4k8eptzBiU5GJ8kXWLOUSJyWIJXlxln++CLZHGuW0hpkMkomy9kugB1bCdbR2c2lfirLcbs4copFzXR2kyvgdfPmIZYtpLWReIKRCfZ1EKxDltm0ivXLCceIJdi0Cn81A2P84iCLWzh7CXcF920hmaFv6IYLMV/AVc7Gdvw+InH+4xWmYgyM0jfMg3fgrUTTb8jInugkk+WODbQ10zdMdz+tjay6mb3vs6Hd2MlgtVBXzcAoUzFGQoyGcJVzqZ/pJMsXsaSVdJZX97NzOwEfzQ3ctekLbcD9ehIBpSAIgvAVkiSprtb7+b+z27i5lVtW0HGGsRBqibFJCkWi08Yqp9vFikVUOOm5Ohv8AS4ntV7KLPh9HD5JOIa1DLNCvkA8icnEggBLWnnrCHdtYnEzHhfBOgCP63OKeBQFj4v2Npx2hsc5c5HJCEXVCCAUherrVm8Tac528cT9NDeQypBMY7VQKjE+SXSaiSmSaQpFY0XY4yISZ3ic8XqcDqJxVJVkikY/4SijISbCuF0UVePFSyV6B2luoL2NQA3NDZRKTEyxtJUN7UgS4ShdfVjMuCsI1rGijXIHnT2MhwHqqll2Ew11pNIMjnPoOB4Xdhv5Aukc00kKRVxOyiysXEypxOsHSWWMVfiFCwjHiCcZDdHZTaFIJkepNLvXUIKAjzVLSabJ5MgXiSVIZdi8GrPCVIzeIcJRGmpRZLyVzGz51XR6h7BaaGumvY1khkiMQydobmDLGqNG6pW3cVdQX8v+DiJxhsYJ1OCt5MQ5vrWe0BSZHLkCaglNp6aKpTfR1szhk0xGmJhCkYknSGcYDZHK0NzAuuUkUlR7PltmlMsTiZMrUCwyEiKbx++juZ7JKSbCuCuou+5CvTKIxcy6ZbQECdbxUSfpapbehNXCgoDxb8nMlRP0E44xFSMcZeNKhseZCKNpVFWSLzCdNBa+qypZuOBLfXe+XkRAKQiCIMwTRcZmRZbRNLJ5EilGQpRU7DYqnGg6igySUT4i/x87zzSdZJqJKQpFEmkcNuxWJImyMhxWFBlg5sYBuv75hRSyCYcNk4S1DIsZXUdVkU1IklGKYVFuqPkoqCgyJgl0ShqpLFdHkGXKHYSj5PLouvGOmk5BJZsnFMFqJZvD6wFoqkeRmZhiPIyus6SVQI3x+tcXBkkSmm48mGE2G3UzsozVismEWUGR0aFQRJGRTJgkkFBViirxJGOTVDjI5PC6jdm2KLNzcr2ZEpZ4gsExIjFag/h9s0k7RTFqp679mEzIMjNDM5kwSZ/zmrqOpiN9OpmyCU1HVZFAUZAkY/AOO9VuzAqnL5DL43HhdJDNE44im9A0dB2vG5OEw4atzKgrSmUITQGkM9TXoJaMqdN1471M0uwwZiLO8TBVlcYhqkrQT1szoQhDY2g6Xjc3f7rkPVNpJJk+nXaMap7PUBRuXc2VQfqGKHdw7xbeO0Eyg2SifIKiSq2Xr2c53ZclAkpBEARhPkgSJsn4k+910+hHknjoDpIZjp/FYafcwcgEoSmSaSOx9BmyyaiBcNiMrFXPVZJpFIWBUd49xuMPcLKTjy5w62pkmWicTBZVNUKZa2XOMw+ujcpmxV9DNsdUjLFJxiYJRSiVMJmQTDjstDXRP4Isc2WQnqvUVXPhMs/sZM1SOnv48GMARaaoUijgcVHtZstaVi5mLMyBDyh30tmDz8M9tzKd5Lv/SjxpvLvJRKCGWIKhcQoFPu4yPmZRNeKV7n7cLhw2JIypmxm/rYw6HwePMRYC6Bvi8EkCNfiqWL4Qv4+rI0xGMStE4kTiTEZIZrDbqCxHkowU40SEUolNq/BV8V+vE4kTnZ5teySbjOgKjDjSomCSGBzDaWc0hK5TW41aMqqFZuZZNtFcz5mLjIep9jA0xsnzyDKFIhcu09zAxV6cdqoqcVdwSzs/38/GlbQ0YDGzbCEr2mhvI5dnbJKiiiwbp8xips5HfS3fWseiJkYmeOdDWho4dJxIjPGwsRXhWlGOpjE0QXSaZQu5cwOTUV7ZR0ljPEw6y+M7KBT5wfMMT8xeXQ11hKa41IfDRs9VKsuZSbQrN1blKzJrl3HsLINjLF9EwMdNjYQiLFzAxpVMJ3n7KBYzssnoVFVVGU9mFEX+Nftn/Q4TAaUgCIIwH2ZybGYFSWLpTUzF2HOEzm5SGTa0s3wRDhuNfn64C7NCJmusWV9jVnDY+elutq7j6gi73sRuJZPj4TuJxBkcZctatqyhWCSZobsfr5tdb2Kx4LQb6UCzgt2KtYwyMxUOI1qyluFx4XWzcRX7O/jFOxRVAj5kGacdu5VADTu38/JeSiUsZprq2dDO/g/45XscOYWq0hJE16nxcqaLs5dY3MK65ew5wiv7sFuNzYVlFg6f5I1DKDJrlnJtS4BZYdtGfrabXW9iVtA0/vxxAjUcPc0//jseF2qJb9+Hw8ZIyJg6RTYSq6tu5shHvLyXfAF3BTu24vPw8/0834nZTKHIU49gVkhn+biL7/+YVIZNq1i9BEmipoofPM/2WxkLc+pN3C4icdavuKFDZ7nD2P83s5RvMbN2Gdk83/8xNiu6zrZNbF5F/wg/+yVeN5UVNPpRFNoXc+Ey+zvYcwS1xBP3U+HkxDleeA2blWSaR+9mxSKcdjav4vWDtAZpDKBpPHo3L+7m3ePoGnU+nnyARMoozHfaWbaQo6f4n7cpFil3sOpmKpxsaOf90/zdD7HbMJlmtzeYTARrKWm8e4wLl42lc6cdTWdwjO/9CJOE3zdbkQNsXsVbh3nlbfYdJZPjns20tzEVw+O6IVkuScaegdZGVrQZn/diL++f4sAH5PLcfgtOO24XmSzf+xH//NfP/fdbC4L+xx6+8zf8hZpvkp44Pd9jEARBEL7Gksn0vY/+5d//7dPbbl//JQ5LZ0mmkcDrxmRiMsJIyCiMrfFS7UaRGZ4gnjCScOUOFjXNHj6doqsXm5WAj1SGcBRJQtNoDCCbSGUwmQj4mIySLxghV1cfgRpqvdit6DqJNMkUsoxsIp40OnuPh0mlaQkyNkk4RvHTFNeKNkYnMSt4Kymo9A5SKqEouJwE/VzsRVVnGxk2+tE0xibJ5VnYRGyaSNxoG+SuoNFPKMJU7NO2QeXU+Wa7NhZV+odJpAAkibZmNI3xMJE4FrOxPVSRyeSMqcvmSaYBfB4uDxipwbIyFgSwWoySnRmtjYyGOHiM8Ul2bkctEaih2o2mMzBKIkV9Lbkc4ZgRy7YE8bhmc7c9V7HbaKilVOJcN00BrFYicUYmkE3IMn4f1W6SGbp6qfVSWz1b/zQwSizBTGPdliBlFiYjs6esqZ6qSqONZWc3LQ1Ue9B1Uhl6h4xOk3YbzQ0UiqTSOOy4K9A0eodIpFBVLBZ8HuqqiSWMbayKjFpi0QI8lcb4VZUrg6SzRoemfJ7WRqMaLJVGkqiswFdl1BLNnIjREKEpTCY0jaCfqkqyeXr6WdH22U6c//IC5XZ2bKXRj64zNE50mmIRTSNQS7WbZNq4HtoXXxoYddhtwYbruhb8v37y4u533jvx8n/+0xd8/nwRAaUgCIIwJ79mQCn89vUOcqKTfJGnHpnvoXxTFIq8cZDLA6xdxu23fKH7Nn1JX5eAUix5C4IgCMLvB1c5Cxegiltw/eZoGoPj3NTIwqavIpr8GhEBpSAIgiD8fqj2cH1veWHurGV896n5HsTvhG/m/X8EQRAEQRCE3xoRUAqCIAiCIAhzIgJKQRAEQRAEYU5EQCkIgiAIgiDMiQgoBUEQBEEQhDkRAaUgCIIgCIIwJyKgFARBEARBEOZE9KEUBEEQ5kTXdV3X39p3tKunf77HIgjfNJ909dms1vkexa8mAkpBEARhTsrKLI8+dMf0dGp6OjXfYxGEb5qWpvrW5ob5HsWvJu7lLQiCIAiCIMyJ2EMpCIIgCIIgzIkIKAVBEARBEIQ5EQGlIAiCIAiCMCcioBQEQRAEQRDm5H8BzZf9ogi+tjgAAAAASUVORK5CYII=)"
      ]
    },
    {
      "cell_type": "markdown",
      "metadata": {
        "id": "LyvMlHixPS-R",
        "colab_type": "text"
      },
      "source": [
        "# Regularization\n",
        "\n",
        "- $\\min_\\theta \\mathcal{L(\\theta)} = \\mathcal{L(\\theta)} + \\Omega(\\theta)$\n",
        "- $ \\mathcal{L(\\theta)}_{train} = \\sum_i (y_i - f(x)_i)^2$\n",
        "- $\\Omega(\\theta) = W_{111}^2 + W_{112}^2 + ... + W_{Lnk}^2$\n",
        "- $\\Delta W_{ijk} = \\frac{\\partial \\mathcal{L}}{\\partial W_{ijk}} + \\frac{\\partial \\mathcal{\\Omega}}{\\partial W_{ijk}}$"
      ]
    },
    {
      "cell_type": "markdown",
      "metadata": {
        "colab_type": "text",
        "id": "MMkrXXWZQ42d"
      },
      "source": [
        "## Setup"
      ]
    },
    {
      "cell_type": "code",
      "metadata": {
        "colab_type": "code",
        "id": "JDe7l4fxQ6J9",
        "colab": {
          "base_uri": "https://localhost:8080/",
          "height": 74
        },
        "outputId": "5726e29b-85a3-4951-c9f5-2947311ded1f"
      },
      "source": [
        "import numpy as np\n",
        "import matplotlib.pyplot as plt\n",
        "import matplotlib.colors\n",
        "import pandas as pd\n",
        "from sklearn.model_selection import train_test_split\n",
        "from sklearn.metrics import accuracy_score, mean_squared_error, log_loss\n",
        "from tqdm import tqdm_notebook \n",
        "import seaborn as sns\n",
        "\n",
        "from sklearn.preprocessing import OneHotEncoder\n",
        "from sklearn.datasets import load_iris\n",
        "\n",
        "from numpy.linalg import norm"
      ],
      "execution_count": 1,
      "outputs": [
        {
          "output_type": "stream",
          "text": [
            "/usr/local/lib/python3.6/dist-packages/statsmodels/tools/_testing.py:19: FutureWarning: pandas.util.testing is deprecated. Use the functions in the public API at pandas.testing instead.\n",
            "  import pandas.util.testing as tm\n"
          ],
          "name": "stderr"
        }
      ]
    },
    {
      "cell_type": "code",
      "metadata": {
        "colab_type": "code",
        "id": "CuCO-2rqQ_zb",
        "colab": {}
      },
      "source": [
        "my_cmap = matplotlib.colors.LinearSegmentedColormap.from_list(\"\", [\"red\",\"yellow\",\"green\"])"
      ],
      "execution_count": 2,
      "outputs": []
    },
    {
      "cell_type": "code",
      "metadata": {
        "colab_type": "code",
        "id": "O3JppMc9IIpU",
        "colab": {}
      },
      "source": [
        "np.random.seed(0)"
      ],
      "execution_count": 3,
      "outputs": []
    },
    {
      "cell_type": "markdown",
      "metadata": {
        "colab_type": "text",
        "id": "1Yum3QoCRDku"
      },
      "source": [
        "## Generate data"
      ]
    },
    {
      "cell_type": "code",
      "metadata": {
        "colab_type": "code",
        "id": "cf4P6-C-um-a",
        "colab": {}
      },
      "source": [
        "iris=load_iris()\n",
        "data = iris.data[:, :2]  # take only the first two features\n",
        "labels = iris.target"
      ],
      "execution_count": 4,
      "outputs": []
    },
    {
      "cell_type": "code",
      "metadata": {
        "colab_type": "code",
        "id": "TTbXyK2kReWT",
        "colab": {
          "base_uri": "https://localhost:8080/",
          "height": 268
        },
        "outputId": "79d5c67d-3c3a-4f78-c653-9f4e4c77019d"
      },
      "source": [
        "plt.scatter(data[:,0], data[:,1], c=labels, cmap=my_cmap)\n",
        "plt.show()"
      ],
      "execution_count": 5,
      "outputs": [
        {
          "output_type": "display_data",
          "data": {
            "image/png": "[encoded data removed]",
            "text/plain": [
              "<Figure size 432x288 with 1 Axes>"
            ]
          },
          "metadata": {
            "tags": [],
            "needs_background": "light"
          }
        }
      ]
    },
    {
      "cell_type": "code",
      "metadata": {
        "id": "Xw5LF3RHt3Tj",
        "colab_type": "code",
        "colab": {
          "base_uri": "https://localhost:8080/",
          "height": 54
        },
        "outputId": "9eca8b7b-ccf2-4b91-d7e3-bda918f4f756"
      },
      "source": [
        "print(\"Data shape\",data.shape)\n",
        "print(\"Labels shape\",labels.shape)"
      ],
      "execution_count": 6,
      "outputs": [
        {
          "output_type": "stream",
          "text": [
            "Data shape (150, 2)\n",
            "Labels shape (150,)\n"
          ],
          "name": "stdout"
        }
      ]
    },
    {
      "cell_type": "markdown",
      "metadata": {
        "colab_type": "text",
        "id": "rLpsoFqkPWCA"
      },
      "source": [
        "## Multi class classification"
      ]
    },
    {
      "cell_type": "code",
      "metadata": {
        "colab_type": "code",
        "id": "Oc-rmmXDusH2",
        "colab": {
          "base_uri": "https://localhost:8080/",
          "height": 35
        },
        "outputId": "0494d762-1c1d-44d9-ba95-32f0f4c3a7ac"
      },
      "source": [
        "X_train, X_val, Y_train, Y_val = train_test_split(data, labels, stratify=labels, random_state=0,test_size=0.2)\n",
        "print(X_train.shape, X_val.shape, labels.shape)"
      ],
      "execution_count": 7,
      "outputs": [
        {
          "output_type": "stream",
          "text": [
            "(120, 2) (30, 2) (150,)\n"
          ],
          "name": "stdout"
        }
      ]
    },
    {
      "cell_type": "code",
      "metadata": {
        "colab_type": "code",
        "id": "r8ktticiusH6",
        "colab": {
          "base_uri": "https://localhost:8080/",
          "height": 35
        },
        "outputId": "c2f78ea2-74ec-4050-e7fd-e1e1ee3e0972"
      },
      "source": [
        "enc = OneHotEncoder()\n",
        "y_OH_train = enc.fit_transform(np.expand_dims(Y_train,1)).toarray()\n",
        "y_OH_val = enc.fit_transform(np.expand_dims(Y_val,1)).toarray()\n",
        "print(y_OH_train.shape, y_OH_val.shape)"
      ],
      "execution_count": 8,
      "outputs": [
        {
          "output_type": "stream",
          "text": [
            "(120, 3) (30, 3)\n"
          ],
          "name": "stdout"
        }
      ]
    },
    {
      "cell_type": "markdown",
      "metadata": {
        "colab_type": "text",
        "id": "3e_XHuXLuiIr"
      },
      "source": [
        "## FF Class"
      ]
    },
    {
      "cell_type": "code",
      "metadata": {
        "colab_type": "code",
        "id": "56b9dhttuiIw",
        "colab": {}
      },
      "source": [
        "class FFNetwork:\n",
        "  \n",
        "  def __init__(self, num_hidden=2, init_method = 'xavier', activation_function = 'sigmoid', leaky_slope = 0.1):\n",
        "        \n",
        "    self.params={}\n",
        "    self.num_layers=2\n",
        "    self.layer_sizes = [2, num_hidden, 3]\n",
        "    self.activation_function = activation_function\n",
        "    self.leaky_slope = leaky_slope\n",
        "    np.random.seed(0)\n",
        "    \n",
        "    if init_method == \"random\":\n",
        "      for i in range(1,self.num_layers+1):\n",
        "        self.params[\"W\"+str(i)] = np.random.randn(self.layer_sizes[i-1],self.layer_sizes[i])\n",
        "        self.params[\"B\"+str(i)] = np.random.randn(1,self.layer_sizes[i])\n",
        "        \n",
        "    elif init_method == \"he\":\n",
        "      for i in range(1,self.num_layers+1):\n",
        "        self.params[\"W\"+str(i)] = np.random.randn(self.layer_sizes[i-1],self.layer_sizes[i])*np.sqrt(2/self.layer_sizes[i-1])\n",
        "        self.params[\"B\"+str(i)] = np.random.randn(1,self.layer_sizes[i])\n",
        "        \n",
        "    elif init_method == \"xavier\":\n",
        "      for i in range(1,self.num_layers+1):\n",
        "        self.params[\"W\"+str(i)]=np.random.randn(self.layer_sizes[i-1],self.layer_sizes[i])*np.sqrt(1/self.layer_sizes[i-1])\n",
        "        self.params[\"B\"+str(i)]=np.random.randn(1,self.layer_sizes[i])\n",
        "    \n",
        "    self.gradients={}\n",
        "    self.update_params={}\n",
        "    self.prev_update_params={}\n",
        "    for i in range(1,self.num_layers+1):\n",
        "      self.update_params[\"v_w\"+str(i)]=0\n",
        "      self.update_params[\"v_b\"+str(i)]=0\n",
        "      self.update_params[\"m_b\"+str(i)]=0\n",
        "      self.update_params[\"m_w\"+str(i)]=0\n",
        "      self.prev_update_params[\"v_w\"+str(i)]=0\n",
        "      self.prev_update_params[\"v_b\"+str(i)]=0\n",
        "  \n",
        "  def forward_activation(self, X): \n",
        "    if self.activation_function == \"sigmoid\":\n",
        "      return 1.0/(1.0 + np.exp(-X))\n",
        "    elif self.activation_function == \"tanh\":\n",
        "      return np.tanh(X)\n",
        "    elif self.activation_function == \"relu\":\n",
        "      return np.maximum(0,X)\n",
        "    elif self.activation_function == \"leaky_relu\":\n",
        "      return np.maximum(self.leaky_slope*X,X)\n",
        "      \n",
        "  def grad_activation(self, X):\n",
        "    if self.activation_function == \"sigmoid\":\n",
        "      return X*(1-X) \n",
        "    elif self.activation_function == \"tanh\":\n",
        "      return (1-np.square(X))\n",
        "    elif self.activation_function == \"relu\":\n",
        "      return 1.0*(X>0)\n",
        "    elif self.activation_function == \"leaky_relu\":\n",
        "      d=np.zeros_like(X)\n",
        "      d[X<=0]=self.leaky_slope\n",
        "      d[X>0]=1\n",
        "      return d\n",
        "    \n",
        "  def get_accuracy(self):    \n",
        "    Y_pred_train = model.predict(X_train)\n",
        "    Y_pred_train = np.argmax(Y_pred_train,1)\n",
        "    Y_pred_val = model.predict(X_val)\n",
        "    Y_pred_val = np.argmax(Y_pred_val,1)\n",
        "    accuracy_train = accuracy_score(Y_pred_train, Y_train)\n",
        "    accuracy_val = accuracy_score(Y_pred_val, Y_val)\n",
        "    return accuracy_train,accuracy_val\n",
        "    \n",
        "  def softmax(self, X):\n",
        "    exps = np.exp(X)\n",
        "    return exps / np.sum(exps, axis=1).reshape(-1,1)\n",
        "  \n",
        "  def forward_pass(self, X, params = None):\n",
        "    if params is None:\n",
        "        params = self.params\n",
        "    self.A1 = np.matmul(X, params[\"W1\"]) + params[\"B1\"] # (N, 2) * (2, 2) -> (N, 2)\n",
        "    self.H1 = self.forward_activation(self.A1) # (N, 2)\n",
        "    self.A2 = np.matmul(self.H1, params[\"W2\"]) + params[\"B2\"] # (N, 2) * (2, 2) -> (N, 2)\n",
        "    self.H2 = self.softmax(self.A2) # (N, 2)\n",
        "    return self.H2\n",
        "  \n",
        "  def grad(self, X, Y, params = None):\n",
        "    if params is None:\n",
        "      params = self.params \n",
        "      \n",
        "    self.forward_pass(X, params)\n",
        "    m = X.shape[0]\n",
        "    self.gradients[\"dA2\"] = self.H2 - Y # (N, 4) - (N, 4) -> (N, 4)\n",
        "    self.gradients[\"dW2\"] = np.matmul(self.H1.T, self.gradients[\"dA2\"]) # (2, N) * (N, 4) -> (2, 4)\n",
        "    self.gradients[\"dB2\"] = np.sum(self.gradients[\"dA2\"], axis=0).reshape(1, -1) # (N, 4) -> (1, 4)\n",
        "    self.gradients[\"dH1\"] = np.matmul(self.gradients[\"dA2\"], params[\"W2\"].T) # (N, 4) * (4, 2) -> (N, 2)\n",
        "    self.gradients[\"dA1\"] = np.multiply(self.gradients[\"dH1\"], self.grad_activation(self.H1)) # (N, 2) .* (N, 2) -> (N, 2)\n",
        "    self.gradients[\"dW1\"] = np.matmul(X.T, self.gradients[\"dA1\"]) # (2, N) * (N, 2) -> (2, 2)\n",
        "    self.gradients[\"dB1\"] = np.sum(self.gradients[\"dA1\"], axis=0).reshape(1, -1) # (N, 2) -> (1, 2)\n",
        "    \n",
        "  def fit(self, X, Y, epochs=1, algo= \"GD\",l2_norm=False, lambda_val=0.8, display_loss=False, eta=1):\n",
        "    train_accuracies={}\n",
        "    val_accuracies={}\n",
        "    if display_loss:\n",
        "      loss = []\n",
        "      weight_mag = []\n",
        "    for num_epoch in tqdm_notebook(range(epochs), total=epochs, unit=\"epoch\"):\n",
        "      m = X.shape[0]\n",
        "      \n",
        "      self.grad(X, Y)\n",
        "      for i in range(1,self.num_layers+1):\n",
        "        if l2_norm:\n",
        "          self.params[\"W\"+str(i)] -= (eta * lambda_val)/m * self.params[\"W\"+str(i)] + eta * (self.gradients[\"dW\"+str(i)]/m)\n",
        "        else:\n",
        "          self.params[\"W\"+str(i)] -= eta * (self.gradients[\"dW\"+str(i)]/m)\n",
        "        self.params[\"B\"+str(i)] -= eta * (self.gradients[\"dB\"+str(i)]/m)\n",
        "          \n",
        "      train_accuracy,val_accuracy=self.get_accuracy()\n",
        "      train_accuracies[num_epoch]=train_accuracy\n",
        "      val_accuracies[num_epoch]=val_accuracy\n",
        "      if display_loss:\n",
        "        Y_pred = self.predict(X)\n",
        "        loss.append(log_loss(np.argmax(Y, axis=1), Y_pred))\n",
        "        weight_mag.append((norm(self.params[\"W1\"]) + norm(self.params[\"W2\"]) + norm(self.params[\"B1\"]) + norm(self.params[\"B2\"]))/18)\n",
        "        \n",
        "    plt.plot(np.array(list(train_accuracies.values())).astype(float),label=\"Train accuracy\")\n",
        "    plt.plot(np.array(list(val_accuracies.values())).astype(float),label=\"Validation accuracy\")\n",
        "    plt.plot(np.ones((epochs, 1))*0.9)\n",
        "    plt.plot(np.ones((epochs, 1))*0.33)\n",
        "    plt.xlabel('Epochs')\n",
        "    plt.ylabel('Accuracy')\n",
        "    plt.legend()\n",
        "    plt.show()\n",
        "    \n",
        "    if display_loss:\n",
        "      fig, ax1 = plt.subplots()\n",
        "      color = 'tab:red'\n",
        "      ax1.set_xlabel('epochs')\n",
        "      ax1.set_ylabel('Log Loss', color=color)\n",
        "      ax1.plot(loss, '-o', color=color)\n",
        "      ax1.tick_params(axis='y', labelcolor=color)\n",
        "      ax2 = ax1.twinx()  \n",
        "      color = 'tab:blue'\n",
        "      ax2.set_ylabel('Weight Magnitude', color=color)  # we already handled the x-label with ax1\n",
        "      ax2.plot(weight_mag, '-*', color=color)\n",
        "      ax2.tick_params(axis='y', labelcolor=color)\n",
        "      fig.tight_layout()  \n",
        "      plt.show()\n",
        "\n",
        "  \n",
        "  def predict(self, X):\n",
        "    Y_pred = self.forward_pass(X)\n",
        "    return np.array(Y_pred).squeeze()                               "
      ],
      "execution_count": 12,
      "outputs": []
    },
    {
      "cell_type": "code",
      "metadata": {
        "colab_type": "code",
        "id": "xqz9xJeTuiJI",
        "colab": {}
      },
      "source": [
        "def print_accuracy():    \n",
        "    Y_pred_train = model.predict(X_train)\n",
        "    Y_pred_train = np.argmax(Y_pred_train,1)\n",
        "    Y_pred_val = model.predict(X_val)\n",
        "    Y_pred_val = np.argmax(Y_pred_val,1)\n",
        "    accuracy_train = accuracy_score(Y_pred_train, Y_train)\n",
        "    accuracy_val = accuracy_score(Y_pred_val, Y_val)\n",
        "    print(\"Training accuracy\", round(accuracy_train, 4))\n",
        "    print(\"Validation accuracy\", round(accuracy_val, 4))\n",
        "    \n",
        "    if False:\n",
        "      plt.scatter(X_train[:,0], X_train[:,1], c=Y_pred_train, cmap=my_cmap, s=15*(np.abs(np.sign(Y_pred_train-Y_train))+.1))\n",
        "      plt.show()"
      ],
      "execution_count": 13,
      "outputs": []
    },
    {
      "cell_type": "code",
      "metadata": {
        "colab_type": "code",
        "id": "H0GfYBbeuiI6",
        "cellView": "both",
        "colab": {
          "base_uri": "https://localhost:8080/",
          "height": 422,
          "referenced_widgets": [
            "cced16595dd4420ca4b398b7f5739076",
            "3006a02bfce4492c8fd11a6d10b1a36c",
            "1e0011955a734924b04a59abde48685c",
            "a7b02a3427ff4cc3a81edf3c49140633",
            "ea8efd64b6894010b111ae049cd81d5e",
            "5139f8f1944645cd80dd1dafd670981f",
            "3228142a24f94e3480f2db8764d1172e",
            "65ec1e2efbf64e8194adf1275cae858a"
          ]
        },
        "outputId": "6e838a36-4cd3-4084-ac0f-1ef5c68128f2"
      },
      "source": [
        "model = FFNetwork(num_hidden=1)\n",
        "model.fit(X_train, y_OH_train, epochs=100, eta=0.1)\n",
        "print_accuracy()"
      ],
      "execution_count": 14,
      "outputs": [
        {
          "output_type": "stream",
          "text": [
            "/usr/local/lib/python3.6/dist-packages/ipykernel_launcher.py:103: TqdmDeprecationWarning: This function will be removed in tqdm==5.0.0\n",
            "Please use `tqdm.notebook.tqdm` instead of `tqdm.tqdm_notebook`\n"
          ],
          "name": "stderr"
        },
        {
          "output_type": "display_data",
          "data": {
            "application/vnd.jupyter.widget-view+json": {
              "model_id": "cced16595dd4420ca4b398b7f5739076",
              "version_minor": 0,
              "version_major": 2
            },
            "text/plain": [
              "HBox(children=(FloatProgress(value=0.0), HTML(value='')))"
            ]
          },
          "metadata": {
            "tags": []
          }
        },
        {
          "output_type": "stream",
          "text": [
            "\n"
          ],
          "name": "stdout"
        },
        {
          "output_type": "display_data",
          "data": {
            "image/png": "[encoded data removed]",
            "text/plain": [
              "<Figure size 432x288 with 1 Axes>"
            ]
          },
          "metadata": {
            "tags": [],
            "needs_background": "light"
          }
        },
        {
          "output_type": "stream",
          "text": [
            "Training accuracy 0.3333\n",
            "Validation accuracy 0.3333\n"
          ],
          "name": "stdout"
        }
      ]
    },
    {
      "cell_type": "code",
      "metadata": {
        "id": "f_tJ26ikZD-m",
        "colab_type": "code",
        "colab": {
          "base_uri": "https://localhost:8080/",
          "height": 422,
          "referenced_widgets": [
            "40c800d7b7fa4f4f93755998e67cf12d",
            "5a7186b0d1e24fc6be4de745c657f9d3",
            "1cdf09c20ea44c78836fef2624566718",
            "861ac90fb74d4b309ff852dc7c818b52",
            "66791f257634492d983a0710af45252a",
            "d38d68c5076340d0be4450b93cec29b6",
            "6c6e573ec1e441de9f4a2765bb254099",
            "19a552c41b4e4469996cd6dcae4c2eae"
          ]
        },
        "outputId": "49464397-fcdf-45bf-fc53-41a35d380d07"
      },
      "source": [
        "model = FFNetwork(num_hidden=2)\n",
        "model.fit(X_train, y_OH_train, epochs=100, eta=1, display_loss=False)\n",
        "print_accuracy()"
      ],
      "execution_count": 15,
      "outputs": [
        {
          "output_type": "stream",
          "text": [
            "/usr/local/lib/python3.6/dist-packages/ipykernel_launcher.py:103: TqdmDeprecationWarning: This function will be removed in tqdm==5.0.0\n",
            "Please use `tqdm.notebook.tqdm` instead of `tqdm.tqdm_notebook`\n"
          ],
          "name": "stderr"
        },
        {
          "output_type": "display_data",
          "data": {
            "application/vnd.jupyter.widget-view+json": {
              "model_id": "40c800d7b7fa4f4f93755998e67cf12d",
              "version_minor": 0,
              "version_major": 2
            },
            "text/plain": [
              "HBox(children=(FloatProgress(value=0.0), HTML(value='')))"
            ]
          },
          "metadata": {
            "tags": []
          }
        },
        {
          "output_type": "stream",
          "text": [
            "\n"
          ],
          "name": "stdout"
        },
        {
          "output_type": "display_data",
          "data": {
            "image/png": "[encoded data removed]",
            "text/plain": [
              "<Figure size 432x288 with 1 Axes>"
            ]
          },
          "metadata": {
            "tags": [],
            "needs_background": "light"
          }
        },
        {
          "output_type": "stream",
          "text": [
            "Training accuracy 0.3417\n",
            "Validation accuracy 0.2333\n"
          ],
          "name": "stdout"
        }
      ]
    },
    {
      "cell_type": "code",
      "metadata": {
        "id": "i9IiIoJZZIZO",
        "colab_type": "code",
        "colab": {
          "base_uri": "https://localhost:8080/",
          "height": 422,
          "referenced_widgets": [
            "dbbe8cc95fd546de820053cb40c3da1d",
            "51cdafeb446f4de2aa79822dcd9c2124",
            "77ccb32c01ea4721ba01a9104e482fa5",
            "4164732375fb4b859776aeb2f6ede14f",
            "3fa7355a9f624a76a1e35c2de3cdc440",
            "f0c20f8813914fde9b973e1f7d799361",
            "7e10911a956e47d08c37c98f8b6e52d1",
            "1d0a2ea2cde14bd5aff28762243115e5"
          ]
        },
        "outputId": "0a5eda85-a0f2-406b-f2c0-53a1ccc11531"
      },
      "source": [
        "model = FFNetwork(num_hidden=4)\n",
        "model.fit(X_train, y_OH_train, epochs=400, eta=0.25, display_loss=False)\n",
        "print_accuracy()"
      ],
      "execution_count": 16,
      "outputs": [
        {
          "output_type": "stream",
          "text": [
            "/usr/local/lib/python3.6/dist-packages/ipykernel_launcher.py:103: TqdmDeprecationWarning: This function will be removed in tqdm==5.0.0\n",
            "Please use `tqdm.notebook.tqdm` instead of `tqdm.tqdm_notebook`\n"
          ],
          "name": "stderr"
        },
        {
          "output_type": "display_data",
          "data": {
            "application/vnd.jupyter.widget-view+json": {
              "model_id": "dbbe8cc95fd546de820053cb40c3da1d",
              "version_minor": 0,
              "version_major": 2
            },
            "text/plain": [
              "HBox(children=(FloatProgress(value=0.0, max=400.0), HTML(value='')))"
            ]
          },
          "metadata": {
            "tags": []
          }
        },
        {
          "output_type": "stream",
          "text": [
            "\n"
          ],
          "name": "stdout"
        },
        {
          "output_type": "display_data",
          "data": {
            "image/png": "[encoded data removed]",
            "text/plain": [
              "<Figure size 432x288 with 1 Axes>"
            ]
          },
          "metadata": {
            "tags": [],
            "needs_background": "light"
          }
        },
        {
          "output_type": "stream",
          "text": [
            "Training accuracy 0.7167\n",
            "Validation accuracy 0.6667\n"
          ],
          "name": "stdout"
        }
      ]
    },
    {
      "cell_type": "code",
      "metadata": {
        "id": "zBbOos0lZWrf",
        "colab_type": "code",
        "colab": {
          "base_uri": "https://localhost:8080/",
          "height": 422,
          "referenced_widgets": [
            "c86bcfbbed5f45ca9a008a01f9b26d17",
            "cc842a729ed54a5ba02ba3fd5c4cd886",
            "1cfff5bafa994800b5b28451167f85ad",
            "183a3809100a49d7880b61d9dd12c9c6",
            "6d62ac6f3c194406bf6ce91033b468a8",
            "b457c5b86f9348819d3c28e21c05b0a7",
            "2b2d2547005b49d9a598051043d82e5c",
            "2df8fd9a15e740d89bbb52a8d3db70cb"
          ]
        },
        "outputId": "7fdb45c6-720b-4650-aca2-899a8146879f"
      },
      "source": [
        "model = FFNetwork(num_hidden=8)\n",
        "model.fit(X_train, y_OH_train, epochs=500, eta=0.2, display_loss=False)\n",
        "print_accuracy()"
      ],
      "execution_count": 17,
      "outputs": [
        {
          "output_type": "stream",
          "text": [
            "/usr/local/lib/python3.6/dist-packages/ipykernel_launcher.py:103: TqdmDeprecationWarning: This function will be removed in tqdm==5.0.0\n",
            "Please use `tqdm.notebook.tqdm` instead of `tqdm.tqdm_notebook`\n"
          ],
          "name": "stderr"
        },
        {
          "output_type": "display_data",
          "data": {
            "application/vnd.jupyter.widget-view+json": {
              "model_id": "c86bcfbbed5f45ca9a008a01f9b26d17",
              "version_minor": 0,
              "version_major": 2
            },
            "text/plain": [
              "HBox(children=(FloatProgress(value=0.0, max=500.0), HTML(value='')))"
            ]
          },
          "metadata": {
            "tags": []
          }
        },
        {
          "output_type": "stream",
          "text": [
            "\n"
          ],
          "name": "stdout"
        },
        {
          "output_type": "display_data",
          "data": {
            "image/png": "[encoded data removed]",
            "text/plain": [
              "<Figure size 432x288 with 1 Axes>"
            ]
          },
          "metadata": {
            "tags": [],
            "needs_background": "light"
          }
        },
        {
          "output_type": "stream",
          "text": [
            "Training accuracy 0.7833\n",
            "Validation accuracy 0.7333\n"
          ],
          "name": "stdout"
        }
      ]
    },
    {
      "cell_type": "code",
      "metadata": {
        "id": "d9zotjPDZd5r",
        "colab_type": "code",
        "colab": {
          "base_uri": "https://localhost:8080/",
          "height": 422,
          "referenced_widgets": [
            "0adee7423b94426ab87c183e9d4cafce",
            "1f815578fc914267b1f988d5411350dd",
            "27e2b1f4a05c45e3aa7055d8936ac166",
            "c0c15bfd3b9b4eda91ef893ea054719d",
            "1fc1d28b05894549a6b7f277feebbbe1",
            "b54f52f0558548a2a194908a820ee911",
            "0ed62075d8de41f1a932c9a9593b9eaa",
            "5a4b0224fd074ac8becfabb2c643175b"
          ]
        },
        "outputId": "dc2e449f-8a09-40da-cffe-6be590581901"
      },
      "source": [
        "model = FFNetwork(num_hidden=32)\n",
        "model.fit(X_train, y_OH_train, epochs=500, eta=0.2, display_loss=False)\n",
        "print_accuracy()"
      ],
      "execution_count": 18,
      "outputs": [
        {
          "output_type": "stream",
          "text": [
            "/usr/local/lib/python3.6/dist-packages/ipykernel_launcher.py:103: TqdmDeprecationWarning: This function will be removed in tqdm==5.0.0\n",
            "Please use `tqdm.notebook.tqdm` instead of `tqdm.tqdm_notebook`\n"
          ],
          "name": "stderr"
        },
        {
          "output_type": "display_data",
          "data": {
            "application/vnd.jupyter.widget-view+json": {
              "model_id": "0adee7423b94426ab87c183e9d4cafce",
              "version_minor": 0,
              "version_major": 2
            },
            "text/plain": [
              "HBox(children=(FloatProgress(value=0.0, max=500.0), HTML(value='')))"
            ]
          },
          "metadata": {
            "tags": []
          }
        },
        {
          "output_type": "stream",
          "text": [
            "\n"
          ],
          "name": "stdout"
        },
        {
          "output_type": "display_data",
          "data": {
            "image/png": "[encoded data removed]",
            "text/plain": [
              "<Figure size 432x288 with 1 Axes>"
            ]
          },
          "metadata": {
            "tags": [],
            "needs_background": "light"
          }
        },
        {
          "output_type": "stream",
          "text": [
            "Training accuracy 0.8333\n",
            "Validation accuracy 0.7\n"
          ],
          "name": "stdout"
        }
      ]
    },
    {
      "cell_type": "code",
      "metadata": {
        "id": "7xbndDsV-nD4",
        "colab_type": "code",
        "colab": {
          "base_uri": "https://localhost:8080/",
          "height": 422,
          "referenced_widgets": [
            "57064718ad58479f9e61e16e3b693aa9",
            "cb636ecef1b241b2963eadd33d56a292",
            "4970841af0bd4679b38a3d92284c56bf",
            "e951d1dbf92c4d8ab29ac38bbde23dd5",
            "834c0b39bab249db8145485329c026ae",
            "32dfd85ebd3a46799094cd65de7f76c3",
            "e1a96503c1fe4d7a999eb707749af974",
            "ed63ec6d7a5e441e9e94de145028b1f0"
          ]
        },
        "outputId": "043283fd-c4ab-4b0d-ba4f-97e9a0bce70e"
      },
      "source": [
        "model = FFNetwork(num_hidden=64)\n",
        "model.fit(X_train, y_OH_train, epochs=2000, eta=0.1, l2_norm=False)\n",
        "print_accuracy()"
      ],
      "execution_count": 19,
      "outputs": [
        {
          "output_type": "stream",
          "text": [
            "/usr/local/lib/python3.6/dist-packages/ipykernel_launcher.py:103: TqdmDeprecationWarning: This function will be removed in tqdm==5.0.0\n",
            "Please use `tqdm.notebook.tqdm` instead of `tqdm.tqdm_notebook`\n"
          ],
          "name": "stderr"
        },
        {
          "output_type": "display_data",
          "data": {
            "application/vnd.jupyter.widget-view+json": {
              "model_id": "57064718ad58479f9e61e16e3b693aa9",
              "version_minor": 0,
              "version_major": 2
            },
            "text/plain": [
              "HBox(children=(FloatProgress(value=0.0, max=2000.0), HTML(value='')))"
            ]
          },
          "metadata": {
            "tags": []
          }
        },
        {
          "output_type": "stream",
          "text": [
            "\n"
          ],
          "name": "stdout"
        },
        {
          "output_type": "display_data",
          "data": {
            "image/png": "[encoded data removed]",
            "text/plain": [
              "<Figure size 432x288 with 1 Axes>"
            ]
          },
          "metadata": {
            "tags": [],
            "needs_background": "light"
          }
        },
        {
          "output_type": "stream",
          "text": [
            "Training accuracy 0.85\n",
            "Validation accuracy 0.6667\n"
          ],
          "name": "stdout"
        }
      ]
    },
    {
      "cell_type": "markdown",
      "metadata": {
        "id": "oXLsN80I0HcO",
        "colab_type": "text"
      },
      "source": [
        "## Add L2 Regularization"
      ]
    },
    {
      "cell_type": "code",
      "metadata": {
        "id": "8m5rJvfb0Jhx",
        "colab_type": "code",
        "colab": {
          "base_uri": "https://localhost:8080/",
          "height": 702,
          "referenced_widgets": [
            "132a2897fbdc48eca99f619949fdbbe0",
            "ca418ba010a54fe9b068433f82d24bda",
            "deb4ca4420a64c0aa23537b1ce90af31",
            "462b6d7a4e524943b82bf7a548487b6d",
            "db77b6628cdb4ca7bce470afb4187680",
            "1bff3dc3ffd34fefa1065415195cea8a",
            "c186b3fc5d5f4a23a54891237517b17f",
            "860fe3fedd594fe3835734fb47d7cd1b"
          ]
        },
        "outputId": "98e552ce-f097-4382-da80-a3e2d8fd58fc"
      },
      "source": [
        "model = FFNetwork(num_hidden=64)\n",
        "model.fit(X_train, y_OH_train, epochs=2000, eta=0.1, l2_norm=True, lambda_val=0.1, display_loss=True)\n",
        "print_accuracy()"
      ],
      "execution_count": 20,
      "outputs": [
        {
          "output_type": "stream",
          "text": [
            "/usr/local/lib/python3.6/dist-packages/ipykernel_launcher.py:103: TqdmDeprecationWarning: This function will be removed in tqdm==5.0.0\n",
            "Please use `tqdm.notebook.tqdm` instead of `tqdm.tqdm_notebook`\n"
          ],
          "name": "stderr"
        },
        {
          "output_type": "display_data",
          "data": {
            "application/vnd.jupyter.widget-view+json": {
              "model_id": "132a2897fbdc48eca99f619949fdbbe0",
              "version_minor": 0,
              "version_major": 2
            },
            "text/plain": [
              "HBox(children=(FloatProgress(value=0.0, max=2000.0), HTML(value='')))"
            ]
          },
          "metadata": {
            "tags": []
          }
        },
        {
          "output_type": "stream",
          "text": [
            "\n"
          ],
          "name": "stdout"
        },
        {
          "output_type": "display_data",
          "data": {
            "image/png": "[encoded data removed]",
            "text/plain": [
              "<Figure size 432x288 with 1 Axes>"
            ]
          },
          "metadata": {
            "tags": [],
            "needs_background": "light"
          }
        },
        {
          "output_type": "display_data",
          "data": {
            "image/png": "[encoded data removed]",
            "text/plain": [
              "<Figure size 432x288 with 2 Axes>"
            ]
          },
          "metadata": {
            "tags": [],
            "needs_background": "light"
          }
        },
        {
          "output_type": "stream",
          "text": [
            "Training accuracy 0.8333\n",
            "Validation accuracy 0.7\n"
          ],
          "name": "stdout"
        }
      ]
    },
    {
      "cell_type": "code",
      "metadata": {
        "id": "MEEgDwCQdu0O",
        "colab_type": "code",
        "colab": {
          "base_uri": "https://localhost:8080/",
          "height": 702,
          "referenced_widgets": [
            "9afd6e357f094624b2b1ebf94420480e",
            "439a691eb0ff48e6aeb190b042e3d7c7",
            "d763396d0412437592fac45a109f6f4f",
            "1897ae1b34d9496aad667291faafd9a4",
            "e3629ce350a449debe82715c8cbed919",
            "4d42ac41fe904542869ea05ab48809bb",
            "9860b8a0486d4774960814257d6056a6",
            "54041862045a4b54843d001af80d4128"
          ]
        },
        "outputId": "3696b1ea-46e3-4e21-cc6a-b6b1eebfc4f1"
      },
      "source": [
        "model = FFNetwork(num_hidden=64)\n",
        "model.fit(X_train, y_OH_train, epochs=2000, eta=0.1, l2_norm=True, lambda_val=1, display_loss=True)\n",
        "print_accuracy()"
      ],
      "execution_count": 21,
      "outputs": [
        {
          "output_type": "stream",
          "text": [
            "/usr/local/lib/python3.6/dist-packages/ipykernel_launcher.py:103: TqdmDeprecationWarning: This function will be removed in tqdm==5.0.0\n",
            "Please use `tqdm.notebook.tqdm` instead of `tqdm.tqdm_notebook`\n"
          ],
          "name": "stderr"
        },
        {
          "output_type": "display_data",
          "data": {
            "application/vnd.jupyter.widget-view+json": {
              "model_id": "9afd6e357f094624b2b1ebf94420480e",
              "version_minor": 0,
              "version_major": 2
            },
            "text/plain": [
              "HBox(children=(FloatProgress(value=0.0, max=2000.0), HTML(value='')))"
            ]
          },
          "metadata": {
            "tags": []
          }
        },
        {
          "output_type": "stream",
          "text": [
            "\n"
          ],
          "name": "stdout"
        },
        {
          "output_type": "display_data",
          "data": {
            "image/png": "[encoded data removed]",
            "text/plain": [
              "<Figure size 432x288 with 1 Axes>"
            ]
          },
          "metadata": {
            "tags": [],
            "needs_background": "light"
          }
        },
        {
          "output_type": "display_data",
          "data": {
            "image/png": "[encoded data removed]",
            "text/plain": [
              "<Figure size 432x288 with 2 Axes>"
            ]
          },
          "metadata": {
            "tags": [],
            "needs_background": "light"
          }
        },
        {
          "output_type": "stream",
          "text": [
            "Training accuracy 0.825\n",
            "Validation accuracy 0.7333\n"
          ],
          "name": "stdout"
        }
      ]
    },
    {
      "cell_type": "code",
      "metadata": {
        "id": "nb_ZNBEpeCWd",
        "colab_type": "code",
        "colab": {
          "base_uri": "https://localhost:8080/",
          "height": 702,
          "referenced_widgets": [
            "6127511a0da444ad8c39615837ac7778",
            "a5aa40428b0e41118a16a9b0ad27b5bc",
            "298073dbc5864cab886cc9ee911ab93e",
            "df3477e937a94b3b9e5e4094e9489c8c",
            "64fed6d7fe1a47df8593401e252c79e7",
            "2e5bf30466054687877d09a97e1c2c8f",
            "2932a1ecf82444c29e7670f0179f71a7",
            "de3a0cfaebb249008c4ad7b2e2a194bc"
          ]
        },
        "outputId": "c6bcc544-d445-4ec1-920f-0eeff9dca844"
      },
      "source": [
        "model = FFNetwork(num_hidden=64)\n",
        "model.fit(X_train, y_OH_train, epochs=2000, eta=0.1, l2_norm=True, lambda_val=5, display_loss=True)\n",
        "print_accuracy()"
      ],
      "execution_count": 22,
      "outputs": [
        {
          "output_type": "stream",
          "text": [
            "/usr/local/lib/python3.6/dist-packages/ipykernel_launcher.py:103: TqdmDeprecationWarning: This function will be removed in tqdm==5.0.0\n",
            "Please use `tqdm.notebook.tqdm` instead of `tqdm.tqdm_notebook`\n"
          ],
          "name": "stderr"
        },
        {
          "output_type": "display_data",
          "data": {
            "application/vnd.jupyter.widget-view+json": {
              "model_id": "6127511a0da444ad8c39615837ac7778",
              "version_minor": 0,
              "version_major": 2
            },
            "text/plain": [
              "HBox(children=(FloatProgress(value=0.0, max=2000.0), HTML(value='')))"
            ]
          },
          "metadata": {
            "tags": []
          }
        },
        {
          "output_type": "stream",
          "text": [
            "\n"
          ],
          "name": "stdout"
        },
        {
          "output_type": "display_data",
          "data": {
            "image/png": "[encoded data removed]",
            "text/plain": [
              "<Figure size 432x288 with 1 Axes>"
            ]
          },
          "metadata": {
            "tags": [],
            "needs_background": "light"
          }
        },
        {
          "output_type": "display_data",
          "data": {
            "image/png": "[encoded data removed]",
            "text/plain": [
              "<Figure size 432x288 with 2 Axes>"
            ]
          },
          "metadata": {
            "tags": [],
            "needs_background": "light"
          }
        },
        {
          "output_type": "stream",
          "text": [
            "Training accuracy 0.7583\n",
            "Validation accuracy 0.7333\n"
          ],
          "name": "stdout"
        }
      ]
    },
    {
      "cell_type": "code",
      "metadata": {
        "id": "NlHjwn1Zd2iN",
        "colab_type": "code",
        "colab": {
          "base_uri": "https://localhost:8080/",
          "height": 702,
          "referenced_widgets": [
            "a62f200ea02d4665bac6cea52dd7fbe5",
            "3fdc74d6e5e9465d8871db78cb5a8648",
            "2b3c1fc20f214504bbf8c82942b915b2",
            "c992a572682147ffaa1b67484816b42a",
            "cf5c8ec7e09c4102b99bf97c5c4eb5a1",
            "b81ff3ba0d314fd7b11473f66d4b016d",
            "8725ac84484647d48ed82c6ed4586e13",
            "16c324bc728c4307b0a3134f6d4bf423"
          ]
        },
        "outputId": "ce8e978e-1981-4488-a605-e914128a653f"
      },
      "source": [
        "model = FFNetwork(num_hidden=64)\n",
        "model.fit(X_train, y_OH_train, epochs=2000, eta=0.1, l2_norm=True, lambda_val=10, display_loss=True)\n",
        "print_accuracy()"
      ],
      "execution_count": 23,
      "outputs": [
        {
          "output_type": "stream",
          "text": [
            "/usr/local/lib/python3.6/dist-packages/ipykernel_launcher.py:103: TqdmDeprecationWarning: This function will be removed in tqdm==5.0.0\n",
            "Please use `tqdm.notebook.tqdm` instead of `tqdm.tqdm_notebook`\n"
          ],
          "name": "stderr"
        },
        {
          "output_type": "display_data",
          "data": {
            "application/vnd.jupyter.widget-view+json": {
              "model_id": "a62f200ea02d4665bac6cea52dd7fbe5",
              "version_minor": 0,
              "version_major": 2
            },
            "text/plain": [
              "HBox(children=(FloatProgress(value=0.0, max=2000.0), HTML(value='')))"
            ]
          },
          "metadata": {
            "tags": []
          }
        },
        {
          "output_type": "stream",
          "text": [
            "\n"
          ],
          "name": "stdout"
        },
        {
          "output_type": "display_data",
          "data": {
            "image/png": "[encoded data removed]",
            "text/plain": [
              "<Figure size 432x288 with 1 Axes>"
            ]
          },
          "metadata": {
            "tags": [],
            "needs_background": "light"
          }
        },
        {
          "output_type": "display_data",
          "data": {
            "image/png": "[encoded data removed]",
            "text/plain": [
              "<Figure size 432x288 with 2 Axes>"
            ]
          },
          "metadata": {
            "tags": [],
            "needs_background": "light"
          }
        },
        {
          "output_type": "stream",
          "text": [
            "Training accuracy 0.675\n",
            "Validation accuracy 0.6\n"
          ],
          "name": "stdout"
        }
      ]
    },
    {
      "cell_type": "markdown",
      "metadata": {
        "id": "XEmG9d7YiqzS",
        "colab_type": "text"
      },
      "source": [
        "\n",
        "## Add noise to training data set"
      ]
    },
    {
      "cell_type": "code",
      "metadata": {
        "id": "He0FG10q_1tf",
        "colab_type": "code",
        "colab": {
          "base_uri": "https://localhost:8080/",
          "height": 422,
          "referenced_widgets": [
            "c7f83cbbf67244b58cb42abf826feac3",
            "b06820f63d4d45caaa509ccc78386f35",
            "798b45018bc44f40a7fce53a09253a45",
            "b6dee47cfdae413d9ec5ca76fb67d887",
            "dcc6934203cd4a4199e6a0de159ec9a9",
            "569b21bd309a48e2928396c1155f869f",
            "1e977683ca3c426cafbceb5d4a41b6dd",
            "4e2c2ffc75844f4b9a0527b8febd6cb6"
          ]
        },
        "outputId": "a2be32de-b5a4-4af6-8d7f-c9811794bf7d"
      },
      "source": [
        "model = FFNetwork(num_hidden=64)\n",
        "model.fit(X_train, y_OH_train, epochs=2000, eta=0.1, l2_norm=False)\n",
        "print_accuracy()"
      ],
      "execution_count": 24,
      "outputs": [
        {
          "output_type": "stream",
          "text": [
            "/usr/local/lib/python3.6/dist-packages/ipykernel_launcher.py:103: TqdmDeprecationWarning: This function will be removed in tqdm==5.0.0\n",
            "Please use `tqdm.notebook.tqdm` instead of `tqdm.tqdm_notebook`\n"
          ],
          "name": "stderr"
        },
        {
          "output_type": "display_data",
          "data": {
            "application/vnd.jupyter.widget-view+json": {
              "model_id": "c7f83cbbf67244b58cb42abf826feac3",
              "version_minor": 0,
              "version_major": 2
            },
            "text/plain": [
              "HBox(children=(FloatProgress(value=0.0, max=2000.0), HTML(value='')))"
            ]
          },
          "metadata": {
            "tags": []
          }
        },
        {
          "output_type": "stream",
          "text": [
            "\n"
          ],
          "name": "stdout"
        },
        {
          "output_type": "display_data",
          "data": {
            "image/png": "[encoded data removed]",
            "text/plain": [
              "<Figure size 432x288 with 1 Axes>"
            ]
          },
          "metadata": {
            "tags": [],
            "needs_background": "light"
          }
        },
        {
          "output_type": "stream",
          "text": [
            "Training accuracy 0.85\n",
            "Validation accuracy 0.6667\n"
          ],
          "name": "stdout"
        }
      ]
    },
    {
      "cell_type": "code",
      "metadata": {
        "id": "X9sz8ScSi4er",
        "colab_type": "code",
        "colab": {
          "base_uri": "https://localhost:8080/",
          "height": 1000,
          "referenced_widgets": [
            "a33d9a567c234f3fbc79f6df9a896c7c",
            "57efb1be290c496eae85f3bb640f9e5b",
            "1c3ab9eb9a864099bbb9976a073117f4",
            "fc4ca0a327d4418b99fae2ac35dc9c58",
            "28dbff448d2644ea9d4e6bd123d00da5",
            "88f2e02d40ea472ba1ed589f114ced84",
            "39e5448faf914e179dd60ecc6ab020af",
            "cd4ab4c0a39444c2b71bd5e4059c1ce7",
            "58ef19f76e0d43098827b709797fdd83",
            "fc2d7c4f0f9849869863721fcabf09d4",
            "091dc99368a54e388d5a75c3a2129ae8",
            "b7f06083639d49af883d5de1b94dc8d0",
            "674e2caf3b104ad48e05b9e88f88b685",
            "c0abca7a1dd44736a6b3a9a61d3b0a3a",
            "2d19d8b3118a4a1788a4d630e52f02c6",
            "ec7ef96788804629856606e090cfe94c",
            "e0712006053642c0a84760ee83810768",
            "b8ea0b3d3d394c20b75de17729956603",
            "a47c90da02464b2785d574112c07e5da",
            "39ee652ed73147d8b788154a2b3ba889",
            "977a1e515f594ed4aa3417431cd2b540",
            "8cc1e38b929b4a65924d0ad3292a2926",
            "d12afdae00a942678e4a74ea461bdb87",
            "4dbd2268d4d146b0ae3e9cb41cfbd995",
            "bbbf295f18114ad8a407e1babd6b0040",
            "b714da004426475bae3f2a09bbc64bf9",
            "7a9a6a21623e43b9b38d6e9811ae49f8",
            "4518c0e2f4c949acaddb004b7d9f8359",
            "a01b27c959374830b2cf6ea955a28443",
            "1622b314b6504be1af0e3f169057b6fd",
            "da23de797c8b4b8e80830c3f60033fc1",
            "8c8d59f74d8f47daacf193629c6e176c",
            "153624b8810840eb9d8ef95a6ffbf1d9",
            "01a7d15c55c04e9ba6c0cb1c80d5ef90",
            "5c4a1bf6be91403e8891727c427ffb6d",
            "6ad1c8f663bd4985bb95a7284147e119",
            "75abe89c26a24acd947f71d12cc54913",
            "471e28e2a1674d51bc342716522d1e06",
            "387bac6f282643f2bd60fce831d687cf",
            "9acfbdc4c6f44e8e8716dbd2022edd58",
            "60f57d4d50d84d1a96d17d4843628f21",
            "b8e29391770842d19bcafa0ff95ce0fb",
            "4d5fd1ce90484cf5b079c09c0cded945",
            "f435dce730924ac49c5bb0cf5bef5ee9",
            "ad5f7ace44484d1db94977576d26a309",
            "918ec3348a5541129354f14847951f62",
            "a9d59a4a90ba4e5f9b09f017c082e893",
            "deebd7b6c3e34e82a176179088c4cbb0"
          ]
        },
        "outputId": "6b0e5e0e-9e22-4df4-912d-ba21dfa42baf"
      },
      "source": [
        "for noise_fraction in [0.01, 0.05, 0.1, 0.15, 0.18, 0.2]:\n",
        "  print(noise_fraction)\n",
        "  X_train_noisy = X_train * (1 - noise_fraction*np.random.randn(X_train.shape[0], X_train.shape[1]))\n",
        "  model = FFNetwork(num_hidden=64)\n",
        "  model.fit(X_train_noisy, y_OH_train, epochs=2000, eta=0.1, l2_norm=False)\n",
        "  print_accuracy()"
      ],
      "execution_count": 25,
      "outputs": [
        {
          "output_type": "stream",
          "text": [
            "0.01\n"
          ],
          "name": "stdout"
        },
        {
          "output_type": "stream",
          "text": [
            "/usr/local/lib/python3.6/dist-packages/ipykernel_launcher.py:103: TqdmDeprecationWarning: This function will be removed in tqdm==5.0.0\n",
            "Please use `tqdm.notebook.tqdm` instead of `tqdm.tqdm_notebook`\n"
          ],
          "name": "stderr"
        },
        {
          "output_type": "display_data",
          "data": {
            "application/vnd.jupyter.widget-view+json": {
              "model_id": "a33d9a567c234f3fbc79f6df9a896c7c",
              "version_minor": 0,
              "version_major": 2
            },
            "text/plain": [
              "HBox(children=(FloatProgress(value=0.0, max=2000.0), HTML(value='')))"
            ]
          },
          "metadata": {
            "tags": []
          }
        },
        {
          "output_type": "stream",
          "text": [
            "\n"
          ],
          "name": "stdout"
        },
        {
          "output_type": "display_data",
          "data": {
            "image/png": "[encoded data removed]",
            "text/plain": [
              "<Figure size 432x288 with 1 Axes>"
            ]
          },
          "metadata": {
            "tags": [],
            "needs_background": "light"
          }
        },
        {
          "output_type": "stream",
          "text": [
            "Training accuracy 0.8417\n",
            "Validation accuracy 0.6667\n",
            "0.05\n"
          ],
          "name": "stdout"
        },
        {
          "output_type": "stream",
          "text": [
            "/usr/local/lib/python3.6/dist-packages/ipykernel_launcher.py:103: TqdmDeprecationWarning: This function will be removed in tqdm==5.0.0\n",
            "Please use `tqdm.notebook.tqdm` instead of `tqdm.tqdm_notebook`\n"
          ],
          "name": "stderr"
        },
        {
          "output_type": "display_data",
          "data": {
            "application/vnd.jupyter.widget-view+json": {
              "model_id": "58ef19f76e0d43098827b709797fdd83",
              "version_minor": 0,
              "version_major": 2
            },
            "text/plain": [
              "HBox(children=(FloatProgress(value=0.0, max=2000.0), HTML(value='')))"
            ]
          },
          "metadata": {
            "tags": []
          }
        },
        {
          "output_type": "stream",
          "text": [
            "\n"
          ],
          "name": "stdout"
        },
        {
          "output_type": "display_data",
          "data": {
            "image/png": "[encoded data removed]",
            "text/plain": [
              "<Figure size 432x288 with 1 Axes>"
            ]
          },
          "metadata": {
            "tags": [],
            "needs_background": "light"
          }
        },
        {
          "output_type": "stream",
          "text": [
            "Training accuracy 0.8333\n",
            "Validation accuracy 0.7\n",
            "0.1\n"
          ],
          "name": "stdout"
        },
        {
          "output_type": "stream",
          "text": [
            "/usr/local/lib/python3.6/dist-packages/ipykernel_launcher.py:103: TqdmDeprecationWarning: This function will be removed in tqdm==5.0.0\n",
            "Please use `tqdm.notebook.tqdm` instead of `tqdm.tqdm_notebook`\n"
          ],
          "name": "stderr"
        },
        {
          "output_type": "display_data",
          "data": {
            "application/vnd.jupyter.widget-view+json": {
              "model_id": "e0712006053642c0a84760ee83810768",
              "version_minor": 0,
              "version_major": 2
            },
            "text/plain": [
              "HBox(children=(FloatProgress(value=0.0, max=2000.0), HTML(value='')))"
            ]
          },
          "metadata": {
            "tags": []
          }
        },
        {
          "output_type": "stream",
          "text": [
            "\n"
          ],
          "name": "stdout"
        },
        {
          "output_type": "display_data",
          "data": {
            "image/png": "[encoded data removed]",
            "text/plain": [
              "<Figure size 432x288 with 1 Axes>"
            ]
          },
          "metadata": {
            "tags": [],
            "needs_background": "light"
          }
        },
        {
          "output_type": "stream",
          "text": [
            "Training accuracy 0.8167\n",
            "Validation accuracy 0.7\n",
            "0.15\n"
          ],
          "name": "stdout"
        },
        {
          "output_type": "stream",
          "text": [
            "/usr/local/lib/python3.6/dist-packages/ipykernel_launcher.py:103: TqdmDeprecationWarning: This function will be removed in tqdm==5.0.0\n",
            "Please use `tqdm.notebook.tqdm` instead of `tqdm.tqdm_notebook`\n"
          ],
          "name": "stderr"
        },
        {
          "output_type": "display_data",
          "data": {
            "application/vnd.jupyter.widget-view+json": {
              "model_id": "bbbf295f18114ad8a407e1babd6b0040",
              "version_minor": 0,
              "version_major": 2
            },
            "text/plain": [
              "HBox(children=(FloatProgress(value=0.0, max=2000.0), HTML(value='')))"
            ]
          },
          "metadata": {
            "tags": []
          }
        },
        {
          "output_type": "stream",
          "text": [
            "\n"
          ],
          "name": "stdout"
        },
        {
          "output_type": "display_data",
          "data": {
            "image/png": "[encoded data removed]",
            "text/plain": [
              "<Figure size 432x288 with 1 Axes>"
            ]
          },
          "metadata": {
            "tags": [],
            "needs_background": "light"
          }
        },
        {
          "output_type": "stream",
          "text": [
            "Training accuracy 0.8083\n",
            "Validation accuracy 0.7\n",
            "0.18\n"
          ],
          "name": "stdout"
        },
        {
          "output_type": "stream",
          "text": [
            "/usr/local/lib/python3.6/dist-packages/ipykernel_launcher.py:103: TqdmDeprecationWarning: This function will be removed in tqdm==5.0.0\n",
            "Please use `tqdm.notebook.tqdm` instead of `tqdm.tqdm_notebook`\n"
          ],
          "name": "stderr"
        },
        {
          "output_type": "display_data",
          "data": {
            "application/vnd.jupyter.widget-view+json": {
              "model_id": "153624b8810840eb9d8ef95a6ffbf1d9",
              "version_minor": 0,
              "version_major": 2
            },
            "text/plain": [
              "HBox(children=(FloatProgress(value=0.0, max=2000.0), HTML(value='')))"
            ]
          },
          "metadata": {
            "tags": []
          }
        },
        {
          "output_type": "stream",
          "text": [
            "\n"
          ],
          "name": "stdout"
        },
        {
          "output_type": "display_data",
          "data": {
            "image/png": "[encoded data removed]",
            "text/plain": [
              "<Figure size 432x288 with 1 Axes>"
            ]
          },
          "metadata": {
            "tags": [],
            "needs_background": "light"
          }
        },
        {
          "output_type": "stream",
          "text": [
            "Training accuracy 0.7667\n",
            "Validation accuracy 0.7333\n",
            "0.2\n"
          ],
          "name": "stdout"
        },
        {
          "output_type": "stream",
          "text": [
            "/usr/local/lib/python3.6/dist-packages/ipykernel_launcher.py:103: TqdmDeprecationWarning: This function will be removed in tqdm==5.0.0\n",
            "Please use `tqdm.notebook.tqdm` instead of `tqdm.tqdm_notebook`\n"
          ],
          "name": "stderr"
        },
        {
          "output_type": "display_data",
          "data": {
            "application/vnd.jupyter.widget-view+json": {
              "model_id": "60f57d4d50d84d1a96d17d4843628f21",
              "version_minor": 0,
              "version_major": 2
            },
            "text/plain": [
              "HBox(children=(FloatProgress(value=0.0, max=2000.0), HTML(value='')))"
            ]
          },
          "metadata": {
            "tags": []
          }
        },
        {
          "output_type": "stream",
          "text": [
            "\n"
          ],
          "name": "stdout"
        },
        {
          "output_type": "display_data",
          "data": {
            "image/png": "[encoded data removed]",
            "text/plain": [
              "<Figure size 432x288 with 1 Axes>"
            ]
          },
          "metadata": {
            "tags": [],
            "needs_background": "light"
          }
        },
        {
          "output_type": "stream",
          "text": [
            "Training accuracy 0.7333\n",
            "Validation accuracy 0.7\n"
          ],
          "name": "stdout"
        }
      ]
    },
    {
      "cell_type": "markdown",
      "metadata": {
        "id": "dkidVrEjHIdx",
        "colab_type": "text"
      },
      "source": [
        "## Early stopping"
      ]
    },
    {
      "cell_type": "code",
      "metadata": {
        "id": "YvmwoXZXHKIp",
        "colab_type": "code",
        "colab": {
          "base_uri": "https://localhost:8080/",
          "height": 702,
          "referenced_widgets": [
            "6c0dd65ccb9b45a98a559422af7dd60b",
            "6b05fc4d9c1f48549d61d4b3e9132747",
            "86fb8118da1f4bc0a277ef0aa25e6b1c",
            "04de8cf23568418ba34039e6dd9bef40",
            "b3db49c3e5da4519bfa35efe8f88e516",
            "5c61a3831a1746ca85ceace67675e072",
            "6ea4e718d5354b8aaa15325e64ea8edf",
            "99ce841e24cb49db96c561d0630e9802"
          ]
        },
        "outputId": "db7d2b71-d45a-41af-b4f6-b456c22dc02c"
      },
      "source": [
        "model = FFNetwork(num_hidden=32)\n",
        "model.fit(X_train, y_OH_train, epochs=500, eta=0.2, display_loss=True)\n",
        "print_accuracy()"
      ],
      "execution_count": 26,
      "outputs": [
        {
          "output_type": "stream",
          "text": [
            "/usr/local/lib/python3.6/dist-packages/ipykernel_launcher.py:103: TqdmDeprecationWarning: This function will be removed in tqdm==5.0.0\n",
            "Please use `tqdm.notebook.tqdm` instead of `tqdm.tqdm_notebook`\n"
          ],
          "name": "stderr"
        },
        {
          "output_type": "display_data",
          "data": {
            "application/vnd.jupyter.widget-view+json": {
              "model_id": "6c0dd65ccb9b45a98a559422af7dd60b",
              "version_minor": 0,
              "version_major": 2
            },
            "text/plain": [
              "HBox(children=(FloatProgress(value=0.0, max=500.0), HTML(value='')))"
            ]
          },
          "metadata": {
            "tags": []
          }
        },
        {
          "output_type": "stream",
          "text": [
            "\n"
          ],
          "name": "stdout"
        },
        {
          "output_type": "display_data",
          "data": {
            "image/png": "[encoded data removed]",
            "text/plain": [
              "<Figure size 432x288 with 1 Axes>"
            ]
          },
          "metadata": {
            "tags": [],
            "needs_background": "light"
          }
        },
        {
          "output_type": "display_data",
          "data": {
            "image/png": "[encoded data removed]",
            "text/plain": [
              "<Figure size 432x288 with 2 Axes>"
            ]
          },
          "metadata": {
            "tags": [],
            "needs_background": "light"
          }
        },
        {
          "output_type": "stream",
          "text": [
            "Training accuracy 0.8333\n",
            "Validation accuracy 0.7\n"
          ],
          "name": "stdout"
        }
      ]
    },
    {
      "cell_type": "code",
      "metadata": {
        "id": "umksPC_GHMz2",
        "colab_type": "code",
        "colab": {
          "base_uri": "https://localhost:8080/",
          "height": 702,
          "referenced_widgets": [
            "341eb6bd33a34e23b6115391850d2391",
            "5eb3e360c81e41b4966de84ed7f321e0",
            "a7e8e9e1a54241b1a93426a47f1216db",
            "1eac3c2fe543459cabbdafdb8b946c39",
            "52e6b8f497fd4c909f00ae7ee0001f46",
            "8ff8438e20344220abbeece60be99e8a",
            "35516f658189460f809fc5b03809d08c",
            "63b71a2f75bd4c9a93ef781942e19862"
          ]
        },
        "outputId": "cfd563fb-8588-443a-d5f9-d58bb455a607"
      },
      "source": [
        "model = FFNetwork(num_hidden=32)\n",
        "model.fit(X_train, y_OH_train, epochs=100, eta=0.2, display_loss=True)\n",
        "print_accuracy()"
      ],
      "execution_count": 27,
      "outputs": [
        {
          "output_type": "stream",
          "text": [
            "/usr/local/lib/python3.6/dist-packages/ipykernel_launcher.py:103: TqdmDeprecationWarning: This function will be removed in tqdm==5.0.0\n",
            "Please use `tqdm.notebook.tqdm` instead of `tqdm.tqdm_notebook`\n"
          ],
          "name": "stderr"
        },
        {
          "output_type": "display_data",
          "data": {
            "application/vnd.jupyter.widget-view+json": {
              "model_id": "341eb6bd33a34e23b6115391850d2391",
              "version_minor": 0,
              "version_major": 2
            },
            "text/plain": [
              "HBox(children=(FloatProgress(value=0.0), HTML(value='')))"
            ]
          },
          "metadata": {
            "tags": []
          }
        },
        {
          "output_type": "stream",
          "text": [
            "\n"
          ],
          "name": "stdout"
        },
        {
          "output_type": "display_data",
          "data": {
            "image/png": "[encoded data removed]",
            "text/plain": [
              "<Figure size 432x288 with 1 Axes>"
            ]
          },
          "metadata": {
            "tags": [],
            "needs_background": "light"
          }
        },
        {
          "output_type": "display_data",
          "data": {
            "image/png": "[encoded data removed]",
            "text/plain": [
              "<Figure size 432x288 with 2 Axes>"
            ]
          },
          "metadata": {
            "tags": [],
            "needs_background": "light"
          }
        },
        {
          "output_type": "stream",
          "text": [
            "Training accuracy 0.8\n",
            "Validation accuracy 0.7667\n"
          ],
          "name": "stdout"
        }
      ]
    }
  ]
}