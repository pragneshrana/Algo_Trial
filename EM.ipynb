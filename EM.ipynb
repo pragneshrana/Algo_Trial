{
  "nbformat": 4,
  "nbformat_minor": 0,
  "metadata": {
    "colab": {
      "name": "EM.ipynb",
      "provenance": [],
      "include_colab_link": true
    },
    "kernelspec": {
      "name": "python3",
      "display_name": "Python 3"
    }
  },
  "cells": [
    {
      "cell_type": "markdown",
      "metadata": {
        "id": "view-in-github",
        "colab_type": "text"
      },
      "source": [
        "<a href=\"https://colab.research.google.com/github/pragneshrana/Algo_Trial/blob/master/EM.ipynb\" target=\"_parent\"><img src=\"https://colab.research.google.com/assets/colab-badge.svg\" alt=\"Open In Colab\"/></a>"
      ]
    },
    {
      "cell_type": "code",
      "metadata": {
        "id": "3PPMLwg6H_3T",
        "colab_type": "code",
        "colab": {}
      },
      "source": [
        "#calling library\n",
        "import numpy as np\n",
        "import scipy as sp\n",
        "import seaborn as sns\n",
        "from matplotlib import pyplot as plt\n",
        "%matplotlib inline\n"
      ],
      "execution_count": 0,
      "outputs": []
    },
    {
      "cell_type": "code",
      "metadata": {
        "id": "9I_QfU6qIRk3",
        "colab_type": "code",
        "colab": {}
      },
      "source": [
        "N = 100 #generating size of data  points\n",
        "mu_arr = np.array([1, 10]) #mean array of 1 and  10 \n",
        "sigma_arr = np.array([1, 1])  #variance array of 1 and  10 \n",
        "x = np.append(np.random.normal(mu_arr[0], sigma_arr[0], N), \n",
        "              np.random.normal(mu_arr[1], sigma_arr[1], N)) #N**2 points"
      ],
      "execution_count": 0,
      "outputs": []
    },
    {
      "cell_type": "code",
      "metadata": {
        "id": "nrP_zKTWIXWm",
        "colab_type": "code",
        "colab": {
          "base_uri": "https://localhost:8080/",
          "height": 229
        },
        "outputId": "1f3e4a20-92af-4870-96a1-e49bd43b6010"
      },
      "source": [
        "#plotting\n",
        "fig, ax = plt.subplots(figsize=(12,3))\n",
        "ax.scatter(x[:N], np.zeros(N), c='green', marker=2, s=150)\n",
        "ax.scatter(x[N:], np.zeros(N), c='orange', marker='x', s=150)\n",
        "ax.set_ylim([-1e-4, 1e-4])\n",
        "_ = ax.set_yticks([])\n",
        "sns.distplot(x[:N], color='green')\n",
        "sns.distplot(x[N:], color='orange')\n"
      ],
      "execution_count": 6,
      "outputs": [
        {
          "output_type": "execute_result",
          "data": {
            "text/plain": [
              "<matplotlib.axes._subplots.AxesSubplot at 0x7ff5d3175518>"
            ]
          },
          "metadata": {
            "tags": []
          },
          "execution_count": 6
        },
        {
          "output_type": "display_data",
          "data": {
            "image/png": "[encoded data removed]",
            "text/plain": [
              "<Figure size 864x216 with 1 Axes>"
            ]
          },
          "metadata": {
            "tags": []
          }
        }
      ]
    },
    {
      "cell_type": "code",
      "metadata": {
        "id": "9WNAWK4bIgHE",
        "colab_type": "code",
        "colab": {
          "base_uri": "https://localhost:8080/",
          "height": 283
        },
        "outputId": "e6646d68-fe43-448b-b55d-8787fb2b88b2"
      },
      "source": [
        "#ln plotting \n",
        "x = np.linspace(.1, 5, 100)\n",
        "y = np.log(x)\n",
        "fig, ax = plt.subplots(figsize=(8,4))\n",
        "ax.scatter(x, y, color='green', marker='+')\n",
        "## 1 (p=0.5)\n",
        "ax.vlines(x=1, ymin=-2.5, ymax=0, linestyle='--', color='green')\n",
        "ax.hlines(y=0, xmin=-.1, xmax=1, linestyle='--', color='green')\n",
        "ax.text(x=1.1, y=np.log(.7), s='$f(1)=0$',\n",
        "        fontdict={'size': 13})\n",
        "## 4 (p=0.5)\n",
        "ax.vlines(x=4, ymin=-2.5, ymax=np.log(4), linestyle='--', color='green')\n",
        "ax.hlines(y=np.log(4), xmin=-.1, xmax=4, linestyle='--', color='green')\n",
        "ax.text(x=4.1, y=np.log(3.1), \n",
        "        s='$f(4)=%.2f$'%(np.log(4)),\n",
        "        fontdict={'size': 13}\n",
        "       )\n",
        "ax.plot([1, 4], np.log([1, 4]), color='green', linestyle='dotted')\n",
        "# E(x) = (1+4)/2 = 2.5\n",
        "ax.vlines(x=2.5, ymin=-2.5, ymax=np.log(2.5), linestyle='--', color='green')\n",
        "ax.hlines(y=np.log(2.5), xmin=-.1, xmax=2.5, linestyle='--', color='green')\n"
      ],
      "execution_count": 11,
      "outputs": [
        {
          "output_type": "execute_result",
          "data": {
            "text/plain": [
              "<matplotlib.collections.LineCollection at 0x7ff5d2f1c4e0>"
            ]
          },
          "metadata": {
            "tags": []
          },
          "execution_count": 11
        },
        {
          "output_type": "display_data",
          "data": {
            "image/png": "[encoded data removed]",
            "text/plain": [
              "<Figure size 576x288 with 1 Axes>"
            ]
          },
          "metadata": {
            "tags": []
          }
        }
      ]
    },
    {
      "cell_type": "code",
      "metadata": {
        "id": "_rvTWRi-M3g-",
        "colab_type": "code",
        "colab": {}
      },
      "source": [
        ""
      ],
      "execution_count": 0,
      "outputs": []
    }
  ]
}