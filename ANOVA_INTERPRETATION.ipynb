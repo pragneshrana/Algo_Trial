{
  "nbformat": 4,
  "nbformat_minor": 0,
  "metadata": {
    "colab": {
      "name": "ANOVA_INTERPRETATION.ipynb",
      "provenance": [],
      "authorship_tag": "ABX9TyOpnPcBm9Vr120+oPHnfis+",
      "include_colab_link": true
    },
    "kernelspec": {
      "name": "python3",
      "display_name": "Python 3"
    }
  },
  "cells": [
    {
      "cell_type": "markdown",
      "metadata": {
        "id": "view-in-github",
        "colab_type": "text"
      },
      "source": [
        "<a href=\"https://colab.research.google.com/github/pragneshrana/Algo_Trial/blob/master/ANOVA_INTERPRETATION.ipynb\" target=\"_parent\"><img src=\"https://colab.research.google.com/assets/colab-badge.svg\" alt=\"Open In Colab\"/></a>"
      ]
    },
    {
      "cell_type": "code",
      "metadata": {
        "id": "m4LTE3u6GMd1",
        "colab_type": "code",
        "outputId": "5cf8db34-1247-4ade-a2bf-2bbbdf8b2e8e",
        "colab": {
          "base_uri": "https://localhost:8080/",
          "height": 71
        }
      },
      "source": [
        "%matplotlib inline\n",
        "import pandas as pd\n",
        "import numpy as np\n",
        "import statsmodels.api as sm\n",
        "import statsmodels.formula.api as ols\n",
        "from sklearn import datasets ## imports datasets from scikit-learn\n",
        "from statsmodels.stats.anova import anova_lm #ANOVA\n",
        "data = datasets.load_boston() ## loads Boston dataset from datasets library \n",
        " \n",
        "###Scikit type to pandas\n",
        "df = pd.DataFrame(data.data, columns=data.feature_names)\n",
        "# Put the target (housing value -- MEDV) in another DataFrame\n",
        "target = pd.DataFrame(data.target, columns=[\"MEDV\"])\n",
        "type(df)\n",
        "print(df.columns)\n"
      ],
      "execution_count": 2,
      "outputs": [
        {
          "output_type": "stream",
          "text": [
            "Index(['CRIM', 'ZN', 'INDUS', 'CHAS', 'NOX', 'RM', 'AGE', 'DIS', 'RAD', 'TAX',\n",
            "       'PTRATIO', 'B', 'LSTAT'],\n",
            "      dtype='object')\n"
          ],
          "name": "stdout"
        }
      ]
    },
    {
      "cell_type": "code",
      "metadata": {
        "id": "Mz8UoZWJGeEt",
        "colab_type": "code",
        "outputId": "72275af3-bd95-4c30-ffb4-15bbe2cd42cf",
        "colab": {
          "base_uri": "https://localhost:8080/",
          "height": 283
        }
      },
      "source": [
        "#Plotting box plots\n",
        "df.boxplot('AGE')\n"
      ],
      "execution_count": 3,
      "outputs": [
        {
          "output_type": "execute_result",
          "data": {
            "text/plain": [
              "<matplotlib.axes._subplots.AxesSubplot at 0x7f3da75f7208>"
            ]
          },
          "metadata": {
            "tags": []
          },
          "execution_count": 3
        },
        {
          "output_type": "display_data",
          "data": {
            "image/png": "[encoded data removed]",
            "text/plain": [
              "<Figure size 432x288 with 1 Axes>"
            ]
          },
          "metadata": {
            "tags": []
          }
        }
      ]
    },
    {
      "cell_type": "code",
      "metadata": {
        "id": "GxaslBNxHyol",
        "colab_type": "code",
        "outputId": "b9cec0b1-9d5f-46ec-9963-6636e008b6ca",
        "colab": {
          "base_uri": "https://localhost:8080/",
          "height": 283
        }
      },
      "source": [
        "df.boxplot('TAX')"
      ],
      "execution_count": 4,
      "outputs": [
        {
          "output_type": "execute_result",
          "data": {
            "text/plain": [
              "<matplotlib.axes._subplots.AxesSubplot at 0x7f3d91a4fe80>"
            ]
          },
          "metadata": {
            "tags": []
          },
          "execution_count": 4
        },
        {
          "output_type": "display_data",
          "data": {
            "image/png": "[encoded data removed]",
            "text/plain": [
              "<Figure size 432x288 with 1 Axes>"
            ]
          },
          "metadata": {
            "tags": []
          }
        }
      ]
    },
    {
      "cell_type": "code",
      "metadata": {
        "id": "vbQ7IkYUIPHp",
        "colab_type": "code",
        "colab": {
          "base_uri": "https://localhost:8080/",
          "height": 283
        },
        "outputId": "14e47523-e46a-4db6-dce7-7f544a014028"
      },
      "source": [
        "#All parameter box plot\n",
        "df.boxplot()"
      ],
      "execution_count": 5,
      "outputs": [
        {
          "output_type": "execute_result",
          "data": {
            "text/plain": [
              "<matplotlib.axes._subplots.AxesSubplot at 0x7f3d91539908>"
            ]
          },
          "metadata": {
            "tags": []
          },
          "execution_count": 5
        },
        {
          "output_type": "display_data",
          "data": {
            "image/png": "[encoded data removed]",
            "text/plain": [
              "<Figure size 432x288 with 1 Axes>"
            ]
          },
          "metadata": {
            "tags": []
          }
        }
      ]
    },
    {
      "cell_type": "code",
      "metadata": {
        "id": "xadWRnDpMtFn",
        "colab_type": "code",
        "outputId": "e14189ac-9d7d-48f9-94bb-7958fc2f9393",
        "colab": {
          "base_uri": "https://localhost:8080/",
          "height": 448
        }
      },
      "source": [
        "## Without a constant\n",
        "\n",
        "import statsmodels.api as sm\n",
        "\n",
        "X = df[\"CRIM\"]\n",
        "y = target[\"MEDV\"]\n",
        "\n",
        "# Note the difference in argument order\n",
        "model = sm.OLS(y, X).fit()\n",
        "predictions = model.predict(X) # make the predictions by the model\n",
        "\n",
        "error  = np.sum(np.square(np.abs(predictions - y)))\n",
        "print(error)\n",
        "# Print out the statistics\n",
        "model.summary()"
      ],
      "execution_count": 25,
      "outputs": [
        {
          "output_type": "stream",
          "text": [
            "284620.15079262323\n"
          ],
          "name": "stdout"
        },
        {
          "output_type": "execute_result",
          "data": {
            "text/html": [
              "<table class=\"simpletable\">\n",
              "<caption>OLS Regression Results</caption>\n",
              "<tr>\n",
              "  <th>Dep. Variable:</th>          <td>MEDV</td>       <th>  R-squared (uncentered):</th>      <td>   0.050</td>\n",
              "</tr>\n",
              "<tr>\n",
              "  <th>Model:</th>                   <td>OLS</td>       <th>  Adj. R-squared (uncentered):</th> <td>   0.048</td>\n",
              "</tr>\n",
              "<tr>\n",
              "  <th>Method:</th>             <td>Least Squares</td>  <th>  F-statistic:       </th>          <td>   26.63</td>\n",
              "</tr>\n",
              "<tr>\n",
              "  <th>Date:</th>             <td>Mon, 20 Jan 2020</td> <th>  Prob (F-statistic):</th>          <td>3.56e-07</td>\n",
              "</tr>\n",
              "<tr>\n",
              "  <th>Time:</th>                 <td>18:15:27</td>     <th>  Log-Likelihood:    </th>          <td> -2320.1</td>\n",
              "</tr>\n",
              "<tr>\n",
              "  <th>No. Observations:</th>      <td>   506</td>      <th>  AIC:               </th>          <td>   4642.</td>\n",
              "</tr>\n",
              "<tr>\n",
              "  <th>Df Residuals:</th>          <td>   505</td>      <th>  BIC:               </th>          <td>   4646.</td>\n",
              "</tr>\n",
              "<tr>\n",
              "  <th>Df Model:</th>              <td>     1</td>      <th>                     </th>              <td> </td>   \n",
              "</tr>\n",
              "<tr>\n",
              "  <th>Covariance Type:</th>      <td>nonrobust</td>    <th>                     </th>              <td> </td>   \n",
              "</tr>\n",
              "</table>\n",
              "<table class=\"simpletable\">\n",
              "<tr>\n",
              "    <td></td>      <th>coef</th>     <th>std err</th>      <th>t</th>      <th>P>|t|</th>  <th>[0.025</th>    <th>0.975]</th>  \n",
              "</tr>\n",
              "<tr>\n",
              "  <th>CRIM</th> <td>    0.5842</td> <td>    0.113</td> <td>    5.160</td> <td> 0.000</td> <td>    0.362</td> <td>    0.807</td>\n",
              "</tr>\n",
              "</table>\n",
              "<table class=\"simpletable\">\n",
              "<tr>\n",
              "  <th>Omnibus:</th>       <td>67.016</td> <th>  Durbin-Watson:     </th> <td>   0.125</td>\n",
              "</tr>\n",
              "<tr>\n",
              "  <th>Prob(Omnibus):</th> <td> 0.000</td> <th>  Jarque-Bera (JB):  </th> <td> 251.479</td>\n",
              "</tr>\n",
              "<tr>\n",
              "  <th>Skew:</th>          <td>-0.544</td> <th>  Prob(JB):          </th> <td>2.47e-55</td>\n",
              "</tr>\n",
              "<tr>\n",
              "  <th>Kurtosis:</th>      <td> 6.278</td> <th>  Cond. No.          </th> <td>    1.00</td>\n",
              "</tr>\n",
              "</table><br/><br/>Warnings:<br/>[1] Standard Errors assume that the covariance matrix of the errors is correctly specified."
            ],
            "text/plain": [
              "<class 'statsmodels.iolib.summary.Summary'>\n",
              "\"\"\"\n",
              "                                 OLS Regression Results                                \n",
              "=======================================================================================\n",
              "Dep. Variable:                   MEDV   R-squared (uncentered):                   0.050\n",
              "Model:                            OLS   Adj. R-squared (uncentered):              0.048\n",
              "Method:                 Least Squares   F-statistic:                              26.63\n",
              "Date:                Mon, 20 Jan 2020   Prob (F-statistic):                    3.56e-07\n",
              "Time:                        18:15:27   Log-Likelihood:                         -2320.1\n",
              "No. Observations:                 506   AIC:                                      4642.\n",
              "Df Residuals:                     505   BIC:                                      4646.\n",
              "Df Model:                           1                                                  \n",
              "Covariance Type:            nonrobust                                                  \n",
              "==============================================================================\n",
              "                 coef    std err          t      P>|t|      [0.025      0.975]\n",
              "------------------------------------------------------------------------------\n",
              "CRIM           0.5842      0.113      5.160      0.000       0.362       0.807\n",
              "==============================================================================\n",
              "Omnibus:                       67.016   Durbin-Watson:                   0.125\n",
              "Prob(Omnibus):                  0.000   Jarque-Bera (JB):              251.479\n",
              "Skew:                          -0.544   Prob(JB):                     2.47e-55\n",
              "Kurtosis:                       6.278   Cond. No.                         1.00\n",
              "==============================================================================\n",
              "\n",
              "Warnings:\n",
              "[1] Standard Errors assume that the covariance matrix of the errors is correctly specified.\n",
              "\"\"\""
            ]
          },
          "metadata": {
            "tags": []
          },
          "execution_count": 25
        }
      ]
    },
    {
      "cell_type": "code",
      "metadata": {
        "id": "yOKtGzC8G-x-",
        "colab_type": "code",
        "colab": {
          "base_uri": "https://localhost:8080/",
          "height": 761
        },
        "outputId": "e2f966f5-cf04-4bd2-83f6-c8a295bbee8c"
      },
      "source": [
        "## With a constant Multiple\n",
        "\n",
        "import statsmodels.api as sm\n",
        "\n",
        "##Adding constant \n",
        "print(list(df.columns))\n",
        "ones = np.ones(len(df))\n",
        "\n",
        "column_name =list(df.columns)\n",
        "# column_name.remove('RAD')\n",
        "X = df[column_name]\n",
        "X['const'] = ones\n",
        "y = target[\"MEDV\"]\n",
        "\n",
        "# Note the difference in argument order\n",
        "model = sm.OLS(y, X).fit()\n",
        "predictions = model.predict(X) # make the predictions by the model\n",
        "\n",
        "# Print out the statistics\n",
        "model.summary()"
      ],
      "execution_count": 21,
      "outputs": [
        {
          "output_type": "stream",
          "text": [
            "['CRIM', 'ZN', 'INDUS', 'CHAS', 'NOX', 'RM', 'AGE', 'DIS', 'RAD', 'TAX', 'PTRATIO', 'B', 'LSTAT']\n"
          ],
          "name": "stdout"
        },
        {
          "output_type": "execute_result",
          "data": {
            "text/html": [
              "<table class=\"simpletable\">\n",
              "<caption>OLS Regression Results</caption>\n",
              "<tr>\n",
              "  <th>Dep. Variable:</th>          <td>MEDV</td>       <th>  R-squared:         </th> <td>   0.741</td> \n",
              "</tr>\n",
              "<tr>\n",
              "  <th>Model:</th>                   <td>OLS</td>       <th>  Adj. R-squared:    </th> <td>   0.734</td> \n",
              "</tr>\n",
              "<tr>\n",
              "  <th>Method:</th>             <td>Least Squares</td>  <th>  F-statistic:       </th> <td>   108.1</td> \n",
              "</tr>\n",
              "<tr>\n",
              "  <th>Date:</th>             <td>Mon, 20 Jan 2020</td> <th>  Prob (F-statistic):</th> <td>6.72e-135</td>\n",
              "</tr>\n",
              "<tr>\n",
              "  <th>Time:</th>                 <td>14:31:53</td>     <th>  Log-Likelihood:    </th> <td> -1498.8</td> \n",
              "</tr>\n",
              "<tr>\n",
              "  <th>No. Observations:</th>      <td>   506</td>      <th>  AIC:               </th> <td>   3026.</td> \n",
              "</tr>\n",
              "<tr>\n",
              "  <th>Df Residuals:</th>          <td>   492</td>      <th>  BIC:               </th> <td>   3085.</td> \n",
              "</tr>\n",
              "<tr>\n",
              "  <th>Df Model:</th>              <td>    13</td>      <th>                     </th>     <td> </td>    \n",
              "</tr>\n",
              "<tr>\n",
              "  <th>Covariance Type:</th>      <td>nonrobust</td>    <th>                     </th>     <td> </td>    \n",
              "</tr>\n",
              "</table>\n",
              "<table class=\"simpletable\">\n",
              "<tr>\n",
              "     <td></td>        <th>coef</th>     <th>std err</th>      <th>t</th>      <th>P>|t|</th>  <th>[0.025</th>    <th>0.975]</th>  \n",
              "</tr>\n",
              "<tr>\n",
              "  <th>CRIM</th>    <td>   -0.1080</td> <td>    0.033</td> <td>   -3.287</td> <td> 0.001</td> <td>   -0.173</td> <td>   -0.043</td>\n",
              "</tr>\n",
              "<tr>\n",
              "  <th>ZN</th>      <td>    0.0464</td> <td>    0.014</td> <td>    3.382</td> <td> 0.001</td> <td>    0.019</td> <td>    0.073</td>\n",
              "</tr>\n",
              "<tr>\n",
              "  <th>INDUS</th>   <td>    0.0206</td> <td>    0.061</td> <td>    0.334</td> <td> 0.738</td> <td>   -0.100</td> <td>    0.141</td>\n",
              "</tr>\n",
              "<tr>\n",
              "  <th>CHAS</th>    <td>    2.6867</td> <td>    0.862</td> <td>    3.118</td> <td> 0.002</td> <td>    0.994</td> <td>    4.380</td>\n",
              "</tr>\n",
              "<tr>\n",
              "  <th>NOX</th>     <td>  -17.7666</td> <td>    3.820</td> <td>   -4.651</td> <td> 0.000</td> <td>  -25.272</td> <td>  -10.262</td>\n",
              "</tr>\n",
              "<tr>\n",
              "  <th>RM</th>      <td>    3.8099</td> <td>    0.418</td> <td>    9.116</td> <td> 0.000</td> <td>    2.989</td> <td>    4.631</td>\n",
              "</tr>\n",
              "<tr>\n",
              "  <th>AGE</th>     <td>    0.0007</td> <td>    0.013</td> <td>    0.052</td> <td> 0.958</td> <td>   -0.025</td> <td>    0.027</td>\n",
              "</tr>\n",
              "<tr>\n",
              "  <th>DIS</th>     <td>   -1.4756</td> <td>    0.199</td> <td>   -7.398</td> <td> 0.000</td> <td>   -1.867</td> <td>   -1.084</td>\n",
              "</tr>\n",
              "<tr>\n",
              "  <th>RAD</th>     <td>    0.3060</td> <td>    0.066</td> <td>    4.613</td> <td> 0.000</td> <td>    0.176</td> <td>    0.436</td>\n",
              "</tr>\n",
              "<tr>\n",
              "  <th>TAX</th>     <td>   -0.0123</td> <td>    0.004</td> <td>   -3.280</td> <td> 0.001</td> <td>   -0.020</td> <td>   -0.005</td>\n",
              "</tr>\n",
              "<tr>\n",
              "  <th>PTRATIO</th> <td>   -0.9527</td> <td>    0.131</td> <td>   -7.283</td> <td> 0.000</td> <td>   -1.210</td> <td>   -0.696</td>\n",
              "</tr>\n",
              "<tr>\n",
              "  <th>B</th>       <td>    0.0093</td> <td>    0.003</td> <td>    3.467</td> <td> 0.001</td> <td>    0.004</td> <td>    0.015</td>\n",
              "</tr>\n",
              "<tr>\n",
              "  <th>LSTAT</th>   <td>   -0.5248</td> <td>    0.051</td> <td>  -10.347</td> <td> 0.000</td> <td>   -0.624</td> <td>   -0.425</td>\n",
              "</tr>\n",
              "<tr>\n",
              "  <th>const</th>   <td>   36.4595</td> <td>    5.103</td> <td>    7.144</td> <td> 0.000</td> <td>   26.432</td> <td>   46.487</td>\n",
              "</tr>\n",
              "</table>\n",
              "<table class=\"simpletable\">\n",
              "<tr>\n",
              "  <th>Omnibus:</th>       <td>178.041</td> <th>  Durbin-Watson:     </th> <td>   1.078</td> \n",
              "</tr>\n",
              "<tr>\n",
              "  <th>Prob(Omnibus):</th> <td> 0.000</td>  <th>  Jarque-Bera (JB):  </th> <td> 783.126</td> \n",
              "</tr>\n",
              "<tr>\n",
              "  <th>Skew:</th>          <td> 1.521</td>  <th>  Prob(JB):          </th> <td>8.84e-171</td>\n",
              "</tr>\n",
              "<tr>\n",
              "  <th>Kurtosis:</th>      <td> 8.281</td>  <th>  Cond. No.          </th> <td>1.51e+04</td> \n",
              "</tr>\n",
              "</table><br/><br/>Warnings:<br/>[1] Standard Errors assume that the covariance matrix of the errors is correctly specified.<br/>[2] The condition number is large, 1.51e+04. This might indicate that there are<br/>strong multicollinearity or other numerical problems."
            ],
            "text/plain": [
              "<class 'statsmodels.iolib.summary.Summary'>\n",
              "\"\"\"\n",
              "                            OLS Regression Results                            \n",
              "==============================================================================\n",
              "Dep. Variable:                   MEDV   R-squared:                       0.741\n",
              "Model:                            OLS   Adj. R-squared:                  0.734\n",
              "Method:                 Least Squares   F-statistic:                     108.1\n",
              "Date:                Mon, 20 Jan 2020   Prob (F-statistic):          6.72e-135\n",
              "Time:                        14:31:53   Log-Likelihood:                -1498.8\n",
              "No. Observations:                 506   AIC:                             3026.\n",
              "Df Residuals:                     492   BIC:                             3085.\n",
              "Df Model:                          13                                         \n",
              "Covariance Type:            nonrobust                                         \n",
              "==============================================================================\n",
              "                 coef    std err          t      P>|t|      [0.025      0.975]\n",
              "------------------------------------------------------------------------------\n",
              "CRIM          -0.1080      0.033     -3.287      0.001      -0.173      -0.043\n",
              "ZN             0.0464      0.014      3.382      0.001       0.019       0.073\n",
              "INDUS          0.0206      0.061      0.334      0.738      -0.100       0.141\n",
              "CHAS           2.6867      0.862      3.118      0.002       0.994       4.380\n",
              "NOX          -17.7666      3.820     -4.651      0.000     -25.272     -10.262\n",
              "RM             3.8099      0.418      9.116      0.000       2.989       4.631\n",
              "AGE            0.0007      0.013      0.052      0.958      -0.025       0.027\n",
              "DIS           -1.4756      0.199     -7.398      0.000      -1.867      -1.084\n",
              "RAD            0.3060      0.066      4.613      0.000       0.176       0.436\n",
              "TAX           -0.0123      0.004     -3.280      0.001      -0.020      -0.005\n",
              "PTRATIO       -0.9527      0.131     -7.283      0.000      -1.210      -0.696\n",
              "B              0.0093      0.003      3.467      0.001       0.004       0.015\n",
              "LSTAT         -0.5248      0.051    -10.347      0.000      -0.624      -0.425\n",
              "const         36.4595      5.103      7.144      0.000      26.432      46.487\n",
              "==============================================================================\n",
              "Omnibus:                      178.041   Durbin-Watson:                   1.078\n",
              "Prob(Omnibus):                  0.000   Jarque-Bera (JB):              783.126\n",
              "Skew:                           1.521   Prob(JB):                    8.84e-171\n",
              "Kurtosis:                       8.281   Cond. No.                     1.51e+04\n",
              "==============================================================================\n",
              "\n",
              "Warnings:\n",
              "[1] Standard Errors assume that the covariance matrix of the errors is correctly specified.\n",
              "[2] The condition number is large, 1.51e+04. This might indicate that there are\n",
              "strong multicollinearity or other numerical problems.\n",
              "\"\"\""
            ]
          },
          "metadata": {
            "tags": []
          },
          "execution_count": 21
        }
      ]
    },
    {
      "cell_type": "markdown",
      "metadata": {
        "id": "93KtZcHXN7fz",
        "colab_type": "text"
      },
      "source": [
        "Interpretation : <br>\n",
        "By minimizinng sum of square, best regression line is obtained. <br>\n",
        "other if you change $Xi$ by one unit then dependent unit will get affected by $\\beta_i$.  \\beta_i$ also indicates the aveage expected change in the interval. Which also helps in interpretation of the confidence interval.<br>\n",
        "\n",
        "\n",
        "\n",
        "Meaning of Intercept:<br>\n",
        "Intercept is expected value of Y when all X=0. \\\n",
        "The model indicates \n",
        "\n"
      ]
    },
    {
      "cell_type": "code",
      "metadata": {
        "id": "P_5fRprMFn3f",
        "colab_type": "code",
        "colab": {
          "base_uri": "https://localhost:8080/",
          "height": 303
        },
        "outputId": "d995b490-009c-4755-d8d2-3bdc858b49ea"
      },
      "source": [
        "# Peform analysis of variance on fitted linear model\n",
        "\n",
        "dependent  = ''\n",
        "for i in range(df.shape[1]):\n",
        "  if(df.columns[i] == 'RAD'):\n",
        "    continue\n",
        "  dependent += '+' + str(df.columns[i])\n",
        "\n",
        "dependent = dependent[1:] #removing first char\n",
        "\n",
        "# For statistics. Requires statsmodels 5.0 or more\n",
        "from statsmodels.formula.api import ols\n",
        "from statsmodels.stats.anova import AnovaRM \n",
        "final_data = X\n",
        "final_data[\"MEDV\"] = y\n",
        "# # Fit the model\n",
        "model = ols(\"MEDV ~ \"+str(dependent)+\"\",final_data).fit()\n",
        "anova_results= anova_lm(model,type=2)\n",
        "\n",
        "print('\\nANOVA results')\n",
        "print(anova_results)\n"
      ],
      "execution_count": 23,
      "outputs": [
        {
          "output_type": "stream",
          "text": [
            "\n",
            "ANOVA results\n",
            "             df        sum_sq       mean_sq           F        PR(>F)\n",
            "CRIM        1.0   6440.783059   6440.783059  274.729447  2.289982e-49\n",
            "ZN          1.0   3554.336197   3554.336197  151.609021  1.452053e-30\n",
            "INDUS       1.0   2551.236435   2551.236435  108.822137  3.720903e-23\n",
            "CHAS        1.0   1529.847881   1529.847881   65.255150  5.099262e-15\n",
            "NOX         1.0     76.247648     76.247648    3.252318  7.193292e-02\n",
            "RM          1.0  10938.116611  10938.116611  466.561705  2.610658e-73\n",
            "AGE         1.0     90.267911     90.267911    3.850348  5.029777e-02\n",
            "DIS         1.0   1779.501111   1779.501111   75.904025  4.537437e-17\n",
            "TAX         1.0    228.091098    228.091098    9.729149  1.919837e-03\n",
            "PTRATIO     1.0   1110.489316   1110.489316   47.367550  1.795008e-11\n",
            "B           1.0    521.655438    521.655438   22.251038  3.119634e-06\n",
            "LSTAT       1.0   2337.784206   2337.784206   99.717403  1.651630e-21\n",
            "Residual  493.0  11557.938504     23.444094         NaN           NaN\n"
          ],
          "name": "stdout"
        }
      ]
    },
    {
      "cell_type": "markdown",
      "metadata": {
        "id": "3TbrZ4__33St",
        "colab_type": "text"
      },
      "source": [
        "Analysis of variance (ANOVA):<br>\n",
        "It analyse the varaince and tells any of the variable is significant or not. \\\n",
        "\n",
        "sum_sq  = $SS_{parameter}$ = which shows variance covered by each variable. \\\n",
        "\n",
        "$SS_{Residual}$ = Unexplained Residual by the model \n",
        "\n",
        "Total $SS_{Total} = 42716.26$ \\\n",
        "Total $SS_{parameter} = 31637.4755$\n",
        "\n",
        "\n",
        "$R^2$ = 0.7406\n",
        "\n"
      ]
    },
    {
      "cell_type": "markdown",
      "metadata": {
        "id": "uvuWdvuSQ9Mr",
        "colab_type": "text"
      },
      "source": [
        "F Statistics: <br>\n",
        "**(RSS - Statistics) or deviance**\n",
        "F stastics is simply based on the deviacnes between the two models as fraction of the eviacne of the full model, whilst taking account of the number of parameters.\n",
        "\n",
        "$F_{df_p,df_{p+q}} = \\frac{RSS_p - RSS_{p+q}}{(df_p - df_p+q)-(RSS_{p+q}/df_{p+q})}$\n",
        "\n",
        "where,\n",
        "\n",
        "p model is for $y=\\alpha$ <br>\n",
        "q model is for $y=\\alpha + \\beta X $ <br>\n",
        "\n"
      ]
    },
    {
      "cell_type": "markdown",
      "metadata": {
        "id": "J7xxcLUaVfEX",
        "colab_type": "text"
      },
      "source": [
        "$R^2 : $\n",
        "\n",
        "$R^2 = \\frac{\\text{RSS after regression }}{\\text{total RSS}}  = \\frac{\\text{Change of deviance }}{\\text{RSS obtained by NULL model}}  $\n",
        "\n",
        "It indiactes the percetage of variations in the responce variable that is explained by the model.\n",
        "\n",
        "Total RSS is obtained by the $y = \\alpha $ model which gives the predictor $\\bar{y} = $ average values of Y or mean line or (expected value of given Y) <bR>\n",
        "\n",
        "\n",
        "\n",
        "Adjusted $R^2$:\n",
        "\n",
        "$R^2_{adj} = R^2 - \\frac{k(1-R^2)}{n-k-1}$\n",
        "\n",
        "\n"
      ]
    },
    {
      "cell_type": "markdown",
      "metadata": {
        "id": "5s0OWAlN1cZA",
        "colab_type": "text"
      },
      "source": [
        "Multiple Regression:<br>\n",
        "\n",
        "let's take model $Y = \\alpha + \\beta_1 X_1 + \\beta_1 X_2 +\\beta_1 X_3 $<br>\n",
        "\n",
        "1. $\\alpha $ indicates change in value of Y obtained when All X's are zero.<br>\n",
        "2. each $\\beta$ parameter indicates the average change in Y that is asssociated with unit change in X while controlling the other explanatory variables.<br>\n",
        "Besically effetc of each X's obtianed by comparing $X_i$ with it's nested model.\n",
        "\n",
        "Ex: **Effect of $X_3$** can be obtained by comparing,<br>\n",
        " $Y = \\alpha + \\beta_1 X_1 + \\beta_1 X_2 +\\beta_1 X_3 $<br>\n",
        " and \n",
        "<br>\n",
        " $Y = \\alpha + \\beta_1 X_1 + \\beta_1 X_2 $\n",
        " It shows unique effect of $X_3$ obtained by comparing RSS or (deviance) when effect of $X_1$ and $X_2$ are accounted in the model.\n",
        "\n",
        " The **combined effect** of all the three parameters are obtaiend by comparing FULL model and NULL model.\n",
        "\n",
        " $Y = \\alpha + \\beta_1 X_1 + \\beta_1 X_2 +\\beta_1 X_3 $<br>\n",
        " and \n",
        "<br>\n",
        " $Y = \\alpha$\n",
        "\n",
        " The significance of change can be assesed by calculations of F Stastics.\n",
        "\n",
        "\n",
        "\n",
        "\n"
      ]
    },
    {
      "cell_type": "markdown",
      "metadata": {
        "id": "7YsmzENgUwr6",
        "colab_type": "text"
      },
      "source": [
        ""
      ]
    },
    {
      "cell_type": "markdown",
      "metadata": {
        "id": "Dxd_1bgLUw1F",
        "colab_type": "text"
      },
      "source": [
        ""
      ]
    }
  ]
}