{
  "nbformat": 4,
  "nbformat_minor": 0,
  "metadata": {
    "colab": {
      "name": "ANOVA_INTERPRETATION.ipynb",
      "provenance": [],
      "authorship_tag": "ABX9TyM0nKajL7tE6E1xSJ0+J38r",
      "include_colab_link": true
    },
    "kernelspec": {
      "name": "python3",
      "display_name": "Python 3"
    }
  },
  "cells": [
    {
      "cell_type": "markdown",
      "metadata": {
        "id": "view-in-github",
        "colab_type": "text"
      },
      "source": [
        "<a href=\"https://colab.research.google.com/github/pragneshrana/Algo_Trial/blob/master/ANOVA_INTERPRETATION.ipynb\" target=\"_parent\"><img src=\"https://colab.research.google.com/assets/colab-badge.svg\" alt=\"Open In Colab\"/></a>"
      ]
    },
    {
      "cell_type": "code",
      "metadata": {
        "id": "m4LTE3u6GMd1",
        "colab_type": "code",
        "outputId": "2fd748d5-83d7-4120-ad3d-dacc3acf4f4c",
        "colab": {
          "base_uri": "https://localhost:8080/",
          "height": 71
        }
      },
      "source": [
        "%matplotlib inline\n",
        "import pandas as pd\n",
        "import numpy as np\n",
        "import statsmodels.api as sm\n",
        "import statsmodels.formula.api as ols\n",
        "from sklearn import datasets ## imports datasets from scikit-learn\n",
        "from statsmodels.stats.anova import anova_lm #ANOVA\n",
        "data = datasets.load_boston() ## loads Boston dataset from datasets library \n",
        " \n",
        "###Scikit type to pandas\n",
        "df = pd.DataFrame(data.data, columns=data.feature_names)\n",
        "# Put the target (housing value -- MEDV) in another DataFrame\n",
        "target = pd.DataFrame(data.target, columns=[\"MEDV\"])\n",
        "type(df)\n",
        "print(df.columns)\n"
      ],
      "execution_count": 0,
      "outputs": [
        {
          "output_type": "stream",
          "text": [
            "Index(['CRIM', 'ZN', 'INDUS', 'CHAS', 'NOX', 'RM', 'AGE', 'DIS', 'RAD', 'TAX',\n",
            "       'PTRATIO', 'B', 'LSTAT'],\n",
            "      dtype='object')\n"
          ],
          "name": "stdout"
        }
      ]
    },
    {
      "cell_type": "code",
      "metadata": {
        "id": "Mz8UoZWJGeEt",
        "colab_type": "code",
        "outputId": "65f0f94e-2333-4eed-d5c0-c77ca9f28a9d",
        "colab": {
          "base_uri": "https://localhost:8080/",
          "height": 283
        }
      },
      "source": [
        "#Plotting box plots\n",
        "df.boxplot('AGE')\n"
      ],
      "execution_count": 0,
      "outputs": [
        {
          "output_type": "execute_result",
          "data": {
            "text/plain": [
              "<matplotlib.axes._subplots.AxesSubplot at 0x7f781ff264a8>"
            ]
          },
          "metadata": {
            "tags": []
          },
          "execution_count": 26
        },
        {
          "output_type": "display_data",
          "data": {
            "image/png": "[encoded data removed]",
            "text/plain": [
              "<Figure size 432x288 with 1 Axes>"
            ]
          },
          "metadata": {
            "tags": []
          }
        }
      ]
    },
    {
      "cell_type": "code",
      "metadata": {
        "id": "GxaslBNxHyol",
        "colab_type": "code",
        "outputId": "797d5a1f-46de-4989-d697-93848e137fba",
        "colab": {
          "base_uri": "https://localhost:8080/",
          "height": 283
        }
      },
      "source": [
        "df.boxplot('TAX')"
      ],
      "execution_count": 0,
      "outputs": [
        {
          "output_type": "execute_result",
          "data": {
            "text/plain": [
              "<matplotlib.axes._subplots.AxesSubplot at 0x7f781fe1f358>"
            ]
          },
          "metadata": {
            "tags": []
          },
          "execution_count": 27
        },
        {
          "output_type": "display_data",
          "data": {
            "image/png": "[encoded data removed]",
            "text/plain": [
              "<Figure size 432x288 with 1 Axes>"
            ]
          },
          "metadata": {
            "tags": []
          }
        }
      ]
    },
    {
      "cell_type": "code",
      "metadata": {
        "id": "vbQ7IkYUIPHp",
        "colab_type": "code",
        "outputId": "3f9952ac-9ace-42b6-854d-3832effbe5fc",
        "colab": {
          "base_uri": "https://localhost:8080/",
          "height": 283
        }
      },
      "source": [
        "#All parameter box plot\n",
        "df.boxplot()"
      ],
      "execution_count": 0,
      "outputs": [
        {
          "output_type": "execute_result",
          "data": {
            "text/plain": [
              "<matplotlib.axes._subplots.AxesSubplot at 0x7f781fd8eef0>"
            ]
          },
          "metadata": {
            "tags": []
          },
          "execution_count": 28
        },
        {
          "output_type": "display_data",
          "data": {
            "image/png": "[encoded data removed]",
            "text/plain": [
              "<Figure size 432x288 with 1 Axes>"
            ]
          },
          "metadata": {
            "tags": []
          }
        }
      ]
    },
    {
      "cell_type": "code",
      "metadata": {
        "id": "xadWRnDpMtFn",
        "colab_type": "code",
        "outputId": "1cab8bee-602c-4f2c-cfbb-fd3d574519ff",
        "colab": {
          "base_uri": "https://localhost:8080/",
          "height": 448
        }
      },
      "source": [
        "## Without a constant\n",
        "\n",
        "import statsmodels.api as sm\n",
        "\n",
        "X = df[\"CRIM\"]\n",
        "y = target[\"MEDV\"]\n",
        "\n",
        "# Note the difference in argument order\n",
        "model = sm.OLS(y, X).fit()\n",
        "predictions = model.predict(X) # make the predictions by the model\n",
        "\n",
        "error  = np.sum(np.square(np.abs(predictions - y)))\n",
        "print(error)\n",
        "# Print out the statistics\n",
        "model.summary()"
      ],
      "execution_count": 0,
      "outputs": [
        {
          "output_type": "stream",
          "text": [
            "284620.15079262323\n"
          ],
          "name": "stdout"
        },
        {
          "output_type": "execute_result",
          "data": {
            "text/html": [
              "<table class=\"simpletable\">\n",
              "<caption>OLS Regression Results</caption>\n",
              "<tr>\n",
              "  <th>Dep. Variable:</th>          <td>MEDV</td>       <th>  R-squared (uncentered):</th>      <td>   0.050</td>\n",
              "</tr>\n",
              "<tr>\n",
              "  <th>Model:</th>                   <td>OLS</td>       <th>  Adj. R-squared (uncentered):</th> <td>   0.048</td>\n",
              "</tr>\n",
              "<tr>\n",
              "  <th>Method:</th>             <td>Least Squares</td>  <th>  F-statistic:       </th>          <td>   26.63</td>\n",
              "</tr>\n",
              "<tr>\n",
              "  <th>Date:</th>             <td>Tue, 21 Jan 2020</td> <th>  Prob (F-statistic):</th>          <td>3.56e-07</td>\n",
              "</tr>\n",
              "<tr>\n",
              "  <th>Time:</th>                 <td>16:15:25</td>     <th>  Log-Likelihood:    </th>          <td> -2320.1</td>\n",
              "</tr>\n",
              "<tr>\n",
              "  <th>No. Observations:</th>      <td>   506</td>      <th>  AIC:               </th>          <td>   4642.</td>\n",
              "</tr>\n",
              "<tr>\n",
              "  <th>Df Residuals:</th>          <td>   505</td>      <th>  BIC:               </th>          <td>   4646.</td>\n",
              "</tr>\n",
              "<tr>\n",
              "  <th>Df Model:</th>              <td>     1</td>      <th>                     </th>              <td> </td>   \n",
              "</tr>\n",
              "<tr>\n",
              "  <th>Covariance Type:</th>      <td>nonrobust</td>    <th>                     </th>              <td> </td>   \n",
              "</tr>\n",
              "</table>\n",
              "<table class=\"simpletable\">\n",
              "<tr>\n",
              "    <td></td>      <th>coef</th>     <th>std err</th>      <th>t</th>      <th>P>|t|</th>  <th>[0.025</th>    <th>0.975]</th>  \n",
              "</tr>\n",
              "<tr>\n",
              "  <th>CRIM</th> <td>    0.5842</td> <td>    0.113</td> <td>    5.160</td> <td> 0.000</td> <td>    0.362</td> <td>    0.807</td>\n",
              "</tr>\n",
              "</table>\n",
              "<table class=\"simpletable\">\n",
              "<tr>\n",
              "  <th>Omnibus:</th>       <td>67.016</td> <th>  Durbin-Watson:     </th> <td>   0.125</td>\n",
              "</tr>\n",
              "<tr>\n",
              "  <th>Prob(Omnibus):</th> <td> 0.000</td> <th>  Jarque-Bera (JB):  </th> <td> 251.479</td>\n",
              "</tr>\n",
              "<tr>\n",
              "  <th>Skew:</th>          <td>-0.544</td> <th>  Prob(JB):          </th> <td>2.47e-55</td>\n",
              "</tr>\n",
              "<tr>\n",
              "  <th>Kurtosis:</th>      <td> 6.278</td> <th>  Cond. No.          </th> <td>    1.00</td>\n",
              "</tr>\n",
              "</table><br/><br/>Warnings:<br/>[1] Standard Errors assume that the covariance matrix of the errors is correctly specified."
            ],
            "text/plain": [
              "<class 'statsmodels.iolib.summary.Summary'>\n",
              "\"\"\"\n",
              "                                 OLS Regression Results                                \n",
              "=======================================================================================\n",
              "Dep. Variable:                   MEDV   R-squared (uncentered):                   0.050\n",
              "Model:                            OLS   Adj. R-squared (uncentered):              0.048\n",
              "Method:                 Least Squares   F-statistic:                              26.63\n",
              "Date:                Tue, 21 Jan 2020   Prob (F-statistic):                    3.56e-07\n",
              "Time:                        16:15:25   Log-Likelihood:                         -2320.1\n",
              "No. Observations:                 506   AIC:                                      4642.\n",
              "Df Residuals:                     505   BIC:                                      4646.\n",
              "Df Model:                           1                                                  \n",
              "Covariance Type:            nonrobust                                                  \n",
              "==============================================================================\n",
              "                 coef    std err          t      P>|t|      [0.025      0.975]\n",
              "------------------------------------------------------------------------------\n",
              "CRIM           0.5842      0.113      5.160      0.000       0.362       0.807\n",
              "==============================================================================\n",
              "Omnibus:                       67.016   Durbin-Watson:                   0.125\n",
              "Prob(Omnibus):                  0.000   Jarque-Bera (JB):              251.479\n",
              "Skew:                          -0.544   Prob(JB):                     2.47e-55\n",
              "Kurtosis:                       6.278   Cond. No.                         1.00\n",
              "==============================================================================\n",
              "\n",
              "Warnings:\n",
              "[1] Standard Errors assume that the covariance matrix of the errors is correctly specified.\n",
              "\"\"\""
            ]
          },
          "metadata": {
            "tags": []
          },
          "execution_count": 29
        }
      ]
    },
    {
      "cell_type": "code",
      "metadata": {
        "id": "yOKtGzC8G-x-",
        "colab_type": "code",
        "outputId": "fac05530-3d96-45f5-97f9-12c4d5652cc8",
        "colab": {
          "base_uri": "https://localhost:8080/",
          "height": 761
        }
      },
      "source": [
        "## With a constant Multiple\n",
        "\n",
        "import statsmodels.api as sm\n",
        "\n",
        "##Adding constant \n",
        "print(list(df.columns))\n",
        "ones = np.ones(len(df))\n",
        "\n",
        "column_name =list(df.columns)\n",
        "# column_name.remove('CRIM', 'ZN', 'INDUS', 'CHAS', 'NOX', 'RM')\n",
        "X = df[column_name]\n",
        "X['const'] = ones\n",
        "y = target[\"MEDV\"]\n",
        "\n",
        "# Note the difference in argument order\n",
        "model = sm.OLS(y, X).fit()\n",
        "predictions = model.predict(X) # make the predictions by the model\n",
        "\n",
        "# Print out the statistics\n",
        "model.summary()"
      ],
      "execution_count": 0,
      "outputs": [
        {
          "output_type": "stream",
          "text": [
            "['CRIM', 'ZN', 'INDUS', 'CHAS', 'NOX', 'RM', 'AGE', 'DIS', 'RAD', 'TAX', 'PTRATIO', 'B', 'LSTAT']\n"
          ],
          "name": "stdout"
        },
        {
          "output_type": "execute_result",
          "data": {
            "text/html": [
              "<table class=\"simpletable\">\n",
              "<caption>OLS Regression Results</caption>\n",
              "<tr>\n",
              "  <th>Dep. Variable:</th>          <td>MEDV</td>       <th>  R-squared:         </th> <td>   0.741</td> \n",
              "</tr>\n",
              "<tr>\n",
              "  <th>Model:</th>                   <td>OLS</td>       <th>  Adj. R-squared:    </th> <td>   0.734</td> \n",
              "</tr>\n",
              "<tr>\n",
              "  <th>Method:</th>             <td>Least Squares</td>  <th>  F-statistic:       </th> <td>   108.1</td> \n",
              "</tr>\n",
              "<tr>\n",
              "  <th>Date:</th>             <td>Tue, 21 Jan 2020</td> <th>  Prob (F-statistic):</th> <td>6.72e-135</td>\n",
              "</tr>\n",
              "<tr>\n",
              "  <th>Time:</th>                 <td>16:15:27</td>     <th>  Log-Likelihood:    </th> <td> -1498.8</td> \n",
              "</tr>\n",
              "<tr>\n",
              "  <th>No. Observations:</th>      <td>   506</td>      <th>  AIC:               </th> <td>   3026.</td> \n",
              "</tr>\n",
              "<tr>\n",
              "  <th>Df Residuals:</th>          <td>   492</td>      <th>  BIC:               </th> <td>   3085.</td> \n",
              "</tr>\n",
              "<tr>\n",
              "  <th>Df Model:</th>              <td>    13</td>      <th>                     </th>     <td> </td>    \n",
              "</tr>\n",
              "<tr>\n",
              "  <th>Covariance Type:</th>      <td>nonrobust</td>    <th>                     </th>     <td> </td>    \n",
              "</tr>\n",
              "</table>\n",
              "<table class=\"simpletable\">\n",
              "<tr>\n",
              "     <td></td>        <th>coef</th>     <th>std err</th>      <th>t</th>      <th>P>|t|</th>  <th>[0.025</th>    <th>0.975]</th>  \n",
              "</tr>\n",
              "<tr>\n",
              "  <th>CRIM</th>    <td>   -0.1080</td> <td>    0.033</td> <td>   -3.287</td> <td> 0.001</td> <td>   -0.173</td> <td>   -0.043</td>\n",
              "</tr>\n",
              "<tr>\n",
              "  <th>ZN</th>      <td>    0.0464</td> <td>    0.014</td> <td>    3.382</td> <td> 0.001</td> <td>    0.019</td> <td>    0.073</td>\n",
              "</tr>\n",
              "<tr>\n",
              "  <th>INDUS</th>   <td>    0.0206</td> <td>    0.061</td> <td>    0.334</td> <td> 0.738</td> <td>   -0.100</td> <td>    0.141</td>\n",
              "</tr>\n",
              "<tr>\n",
              "  <th>CHAS</th>    <td>    2.6867</td> <td>    0.862</td> <td>    3.118</td> <td> 0.002</td> <td>    0.994</td> <td>    4.380</td>\n",
              "</tr>\n",
              "<tr>\n",
              "  <th>NOX</th>     <td>  -17.7666</td> <td>    3.820</td> <td>   -4.651</td> <td> 0.000</td> <td>  -25.272</td> <td>  -10.262</td>\n",
              "</tr>\n",
              "<tr>\n",
              "  <th>RM</th>      <td>    3.8099</td> <td>    0.418</td> <td>    9.116</td> <td> 0.000</td> <td>    2.989</td> <td>    4.631</td>\n",
              "</tr>\n",
              "<tr>\n",
              "  <th>AGE</th>     <td>    0.0007</td> <td>    0.013</td> <td>    0.052</td> <td> 0.958</td> <td>   -0.025</td> <td>    0.027</td>\n",
              "</tr>\n",
              "<tr>\n",
              "  <th>DIS</th>     <td>   -1.4756</td> <td>    0.199</td> <td>   -7.398</td> <td> 0.000</td> <td>   -1.867</td> <td>   -1.084</td>\n",
              "</tr>\n",
              "<tr>\n",
              "  <th>RAD</th>     <td>    0.3060</td> <td>    0.066</td> <td>    4.613</td> <td> 0.000</td> <td>    0.176</td> <td>    0.436</td>\n",
              "</tr>\n",
              "<tr>\n",
              "  <th>TAX</th>     <td>   -0.0123</td> <td>    0.004</td> <td>   -3.280</td> <td> 0.001</td> <td>   -0.020</td> <td>   -0.005</td>\n",
              "</tr>\n",
              "<tr>\n",
              "  <th>PTRATIO</th> <td>   -0.9527</td> <td>    0.131</td> <td>   -7.283</td> <td> 0.000</td> <td>   -1.210</td> <td>   -0.696</td>\n",
              "</tr>\n",
              "<tr>\n",
              "  <th>B</th>       <td>    0.0093</td> <td>    0.003</td> <td>    3.467</td> <td> 0.001</td> <td>    0.004</td> <td>    0.015</td>\n",
              "</tr>\n",
              "<tr>\n",
              "  <th>LSTAT</th>   <td>   -0.5248</td> <td>    0.051</td> <td>  -10.347</td> <td> 0.000</td> <td>   -0.624</td> <td>   -0.425</td>\n",
              "</tr>\n",
              "<tr>\n",
              "  <th>const</th>   <td>   36.4595</td> <td>    5.103</td> <td>    7.144</td> <td> 0.000</td> <td>   26.432</td> <td>   46.487</td>\n",
              "</tr>\n",
              "</table>\n",
              "<table class=\"simpletable\">\n",
              "<tr>\n",
              "  <th>Omnibus:</th>       <td>178.041</td> <th>  Durbin-Watson:     </th> <td>   1.078</td> \n",
              "</tr>\n",
              "<tr>\n",
              "  <th>Prob(Omnibus):</th> <td> 0.000</td>  <th>  Jarque-Bera (JB):  </th> <td> 783.126</td> \n",
              "</tr>\n",
              "<tr>\n",
              "  <th>Skew:</th>          <td> 1.521</td>  <th>  Prob(JB):          </th> <td>8.84e-171</td>\n",
              "</tr>\n",
              "<tr>\n",
              "  <th>Kurtosis:</th>      <td> 8.281</td>  <th>  Cond. No.          </th> <td>1.51e+04</td> \n",
              "</tr>\n",
              "</table><br/><br/>Warnings:<br/>[1] Standard Errors assume that the covariance matrix of the errors is correctly specified.<br/>[2] The condition number is large, 1.51e+04. This might indicate that there are<br/>strong multicollinearity or other numerical problems."
            ],
            "text/plain": [
              "<class 'statsmodels.iolib.summary.Summary'>\n",
              "\"\"\"\n",
              "                            OLS Regression Results                            \n",
              "==============================================================================\n",
              "Dep. Variable:                   MEDV   R-squared:                       0.741\n",
              "Model:                            OLS   Adj. R-squared:                  0.734\n",
              "Method:                 Least Squares   F-statistic:                     108.1\n",
              "Date:                Tue, 21 Jan 2020   Prob (F-statistic):          6.72e-135\n",
              "Time:                        16:15:27   Log-Likelihood:                -1498.8\n",
              "No. Observations:                 506   AIC:                             3026.\n",
              "Df Residuals:                     492   BIC:                             3085.\n",
              "Df Model:                          13                                         \n",
              "Covariance Type:            nonrobust                                         \n",
              "==============================================================================\n",
              "                 coef    std err          t      P>|t|      [0.025      0.975]\n",
              "------------------------------------------------------------------------------\n",
              "CRIM          -0.1080      0.033     -3.287      0.001      -0.173      -0.043\n",
              "ZN             0.0464      0.014      3.382      0.001       0.019       0.073\n",
              "INDUS          0.0206      0.061      0.334      0.738      -0.100       0.141\n",
              "CHAS           2.6867      0.862      3.118      0.002       0.994       4.380\n",
              "NOX          -17.7666      3.820     -4.651      0.000     -25.272     -10.262\n",
              "RM             3.8099      0.418      9.116      0.000       2.989       4.631\n",
              "AGE            0.0007      0.013      0.052      0.958      -0.025       0.027\n",
              "DIS           -1.4756      0.199     -7.398      0.000      -1.867      -1.084\n",
              "RAD            0.3060      0.066      4.613      0.000       0.176       0.436\n",
              "TAX           -0.0123      0.004     -3.280      0.001      -0.020      -0.005\n",
              "PTRATIO       -0.9527      0.131     -7.283      0.000      -1.210      -0.696\n",
              "B              0.0093      0.003      3.467      0.001       0.004       0.015\n",
              "LSTAT         -0.5248      0.051    -10.347      0.000      -0.624      -0.425\n",
              "const         36.4595      5.103      7.144      0.000      26.432      46.487\n",
              "==============================================================================\n",
              "Omnibus:                      178.041   Durbin-Watson:                   1.078\n",
              "Prob(Omnibus):                  0.000   Jarque-Bera (JB):              783.126\n",
              "Skew:                           1.521   Prob(JB):                    8.84e-171\n",
              "Kurtosis:                       8.281   Cond. No.                     1.51e+04\n",
              "==============================================================================\n",
              "\n",
              "Warnings:\n",
              "[1] Standard Errors assume that the covariance matrix of the errors is correctly specified.\n",
              "[2] The condition number is large, 1.51e+04. This might indicate that there are\n",
              "strong multicollinearity or other numerical problems.\n",
              "\"\"\""
            ]
          },
          "metadata": {
            "tags": []
          },
          "execution_count": 30
        }
      ]
    },
    {
      "cell_type": "markdown",
      "metadata": {
        "id": "93KtZcHXN7fz",
        "colab_type": "text"
      },
      "source": [
        "Interpretation : <br>\n",
        "By minimizinng sum of square, best regression line is obtained. <br>\n",
        "other if you change $Xi$ by one unit then dependent unit will get affected by $\\beta_i$.  \\beta_i$ also indicates the aveage expected change in the interval. Which also helps in interpretation of the confidence interval.<br>\n",
        "\n",
        "\n",
        "\n",
        "Meaning of Intercept:<br>\n",
        "Intercept is expected value of Y when all X=0. \\\n",
        "The model indicates \n",
        "\n",
        "The coefficent area obtained by least least square solution.\n"
      ]
    },
    {
      "cell_type": "markdown",
      "metadata": {
        "id": "u7hQ-GD3IBm7",
        "colab_type": "text"
      },
      "source": [
        "***STANDARD ERROR:*** \\\n",
        "Std error in coeffcient indiactes the samapling variation exist if resampaling and reestimation is done.\n",
        "Indication of reliability of samples.\n",
        "\n",
        "\n",
        "Examples: \\\n",
        "IF $\\hat{\\beta}$ = 1 \\\n",
        "If standard error $SE(\\hat{\\beta})$ is 0.2  then $\\hat{\\beta}$ is 5 standard error away from zero. means $\\beta$ is not equal to zero and there is stastical realtionship between parameters. \\\n",
        "\n",
        "\n",
        "IF $\\hat{\\beta}$ = 1 \\\n",
        "If standard error $SE(\\hat{\\beta})$ is 2  then $\\hat{\\beta}$ is 0.5 standard error near to zero. means $\\beta$ is equal to zero and there is no stastical realtionship between parameters. \\\n"
      ]
    },
    {
      "cell_type": "markdown",
      "metadata": {
        "id": "QgSmB-DxUEsZ",
        "colab_type": "text"
      },
      "source": [
        "T-stastics: \\\n",
        "$t = \\frac{\\text{coef}}{\\text{std err}}$ \\\n",
        "\n",
        "The t-test can be measure the relationship between the target variable and predictor variable.(For every predictor  variable individually). Addition significabnt parameter to the model makes it more effective.\n",
        "\n",
        "Hypothesis: \\\n",
        "$H_0 = \\beta_j = 0$ \\\n",
        "$H_1 = \\beta_j \\neq 0$ \\\n",
        "\n",
        "**larger value of the (either positive or negative) shows more importance of the parameter. Don't worry about Constant term.**\n",
        "\n",
        "**What P value Tells?** \\\n",
        "It indcate how extreme the coefficent is in case population coefficient is zero. \\\n",
        "ot it gives probability of having coefficeint value by chance.\n",
        "\n",
        "Here P value is obtained using Two way Two tailed test(regardless of the direction of the relationship you hypothesize, you are testing for the possibility of the relationship in both directions.) and T-table.\n",
        "\n",
        "procedure : \n",
        "1. Take T value \n",
        "2. Fix  Significance Level (0.05)\n",
        "3. DOF(n-1)\n",
        "t-table is symmetric so, negative value doesn't matter \n",
        "QUCIK T : https://www.socscistatistics.com/pvalues/tdistribution.aspx\n",
        "\\\n",
        "\n",
        "\\\n",
        "\n",
        "**Interval:**\n",
        "Interval shows the critical bound for t-stastics, if t value fall in that bound you can't reject the null hypothesis.\n",
        "\n"
      ]
    },
    {
      "cell_type": "markdown",
      "metadata": {
        "id": "J7xxcLUaVfEX",
        "colab_type": "text"
      },
      "source": [
        "$R^2 : $\n",
        "\n",
        "$R^2 = \\frac{\\text{RSS after regression }}{\\text{total RSS}}  = \\frac{\\text{Change of deviance }}{\\text{RSS obtained by NULL model}}  $\n",
        "\n",
        "It indiactes the percetage of variations in the responce variable that is explained by the model.\n",
        "\n",
        "Total RSS is obtained by the $y = \\alpha $ model which gives the predictor $\\bar{y} = $ average values of Y or mean line or (expected value of given Y) <bR>\n",
        "\n",
        "\n",
        "\n",
        "Adjusted $R^2$:\n",
        "\n",
        "$R^2_{adj} = R^2 - \\frac{k(1-R^2)}{n-k-1}$\n",
        "\n",
        "\n"
      ]
    },
    {
      "cell_type": "markdown",
      "metadata": {
        "id": "kXxJFJ2mlCrd",
        "colab_type": "text"
      },
      "source": [
        "#loglikelihood:\n",
        "\n",
        "What is probaility distribution? \\\n",
        "Probability distrubtuion function is a mathematical fucntion that provide the probabilities of occurence of different possible outcomes in an experiment. \\\n",
        "1. PDF(Continoius)\n",
        "2. PMF(Discreate)\n",
        "3. CDF(BOth)\n",
        "\n",
        "**PMF (Probability mass fucntion) or Frequency function**: \\\n",
        "Probability mass function (PMF) is frequncy function. It gives probability of discrete random variable.(Equation/Table/Graph).\n",
        "or for discreate outcome it shows associated probabilities which sums to 1\n",
        "\n",
        "** PDF (Probability density function) **:\n",
        "PMF does not work for continious variable as for continious random variable P(X=x) =0 $\\forall x \\in \\mathcal{R} $ \\\n",
        "Probability at specififc point is zero as area under curve is zero but rather than taking specific point, probability can be calculated in the small interval around that specific point which gives probability density at point. \\\n",
        "\n",
        "$f_X(x)= \\lim_{\\Delta \\rightarrow 0^+} \\frac{x < X \\leq x+\\Delta}{\\Delta}$ \\\n",
        "\n",
        "PDF is limitiang case of PMF. When any experiment has infinitely many outcome then it's frquecy plot generates PDF plot.\\\n",
        "\n",
        "**CDF:** \\\n",
        "It gives cummulative probability associated with function or random variable. \\\n",
        "\n",
        "**What is likelihood? **\\\n",
        "To find out unkown parameter associated with distribution of the data.\n",
        "or given a dataset choose the parameter of the model in such away that data are most likely.\n",
        "\n",
        "**negative log likelihood** is obtained by followign method. \\\n",
        "$NLL(\\theta) $ \\\n",
        "$= -\\sum_{i=1}^{N} \\log p(y_i|x_i,\\theta)$ \\\n",
        "$= -\\sum_{i=1}^{N} \\log [(\\frac{1}{2 \\pi \\sigma^2})^\\frac{1}{2} \\exp(-\\frac{1}{2 \\sigma^2}(y_i - \\beta^T x_i)^2)]$ \\\n",
        "$= -\\sum_{i=1}^{N} \\frac{1}{2} \\log(\\frac{1}{2 \\pi \\sigma^2})- \\frac{1}{2 \\sigma^2} (y_i - \\beta^T x_i)^2$ \\\n",
        "$= -\\frac{N}{2} \\log(\\frac{1}{2 \\pi \\sigma^2})- \\frac{1}{2 \\sigma^2} (y_i - \\beta^T x_i)^2$ \\\n",
        "\n",
        "**IN SHORT** \\\n",
        "\n",
        "$probability(data|distribution)$ \\\n",
        "$Lilelihood(distribution|data)$\n"
      ]
    },
    {
      "cell_type": "markdown",
      "metadata": {
        "id": "gkrBc0VeeCPR",
        "colab_type": "text"
      },
      "source": [
        "#AIC: Akine's information criteria. \n",
        "AIC is useful for to compare the quality of the model.  \\\n",
        "$AIC = -2(loglikelihood) + 2K$ \\\n",
        "where K = Number odf parameter in the model,\n",
        "**There are seveal advance version of AIC is avilable.** \\\n",
        "\n",
        "**Worst case :** If model is poor then by cpmnionation of parameter it will just give best out of worst.\\\n",
        "\n",
        "For generated model the AIC is , \\\n",
        "$x_1 $ = 265 \\ #CANCEL\n",
        "$x_2 $ = 30 \\ #pick lowest AIC \n",
        "$x_3 $ = 400 \\ #cancel\n",
        "$x_4 $ = 40 \\ #cancel\n",
        "\n",
        "$x_1 + x_2 $ = 150 \\  #cancel\n",
        "$x_1 + x_3 $ = 300 \\  #cancel\n",
        "$x_1 + x_4 $ = 175 \\  #cancel\n",
        "$x_2 + x_3 $ = 25 \\  #pick lowest AIC and Also select this as model\n",
        "$x_2 + x_4 $ = 300 \\  #cancel\n",
        "$x_3 + x_4 $ = 300 \\  #cancel\n",
        "\n",
        "$x_1 + x_2 + x_3$ = 250 \\ #cancel\n",
        "\n",
        "**LOWEST AIC IS GOOD**\n",
        "\n",
        "#BIC:  Bayesian Information Criterion / Schwarz Criterion\n",
        "\n",
        "It is reaalated to AIC \\\n",
        "$BIC = -2(loglikelihood) + Klog(n)$ \\\n",
        "where, n = sample size\n",
        "\n",
        "\n",
        "\n",
        "\n"
      ]
    },
    {
      "cell_type": "markdown",
      "metadata": {
        "id": "PNWFoDRhcyaR",
        "colab_type": "text"
      },
      "source": [
        "**Omnibus/Prob(Omnibus)** – Checks skewness and kurtosis of the residual. Value close to zero indicates normalcy. The Prob (Omnibus) performs a statistical test indicating the probability that the residuals are normally distributed. \\\n",
        "Ideally Omnibus should be low and related probability should be high (near to enough) indicates data is somewhat normal, but not altogether ideal. \\\n",
        "\n",
        "for example, Prob(Omnibus) is 0.056, violates the OLS assumption. which shows that the coefficients estimated out of it are not Best Linear Unbiased Estimators.\\\n",
        "It means that model does not completely explain data. May be more featues are missing.**Breath and live life then**\\ \n",
        "\n",
        "**Skew**– Ideal value of skew shold near to zero, indicates the **residual distribution is normal.** \n",
        "\n",
        "**Kurtosis**– a measure of peak or curvature of the data. High peaks means large Kurtosis.which shows tighter clustering of residuals around zero. Shows a better model having less outliers.\n",
        "\n",
        "**Durbin-Watson**– It is tests for homoscedasticity(having the same scatter or different samples have the same variance, even if they came from different populations). Ideal value should be between 1 and 2. \n",
        "\n",
        "**Jarque-Bera (JB)/Prob(JB)** – It also measures skew and kurtosis. Just a confirmation of the Omnibus test.\n",
        "\n",
        "** Condition Number** – shows the sensitivity of a function's output as compared to its input. It should relatively small number something below 30. "
      ]
    },
    {
      "cell_type": "code",
      "metadata": {
        "id": "P_5fRprMFn3f",
        "colab_type": "code",
        "outputId": "f8856ee5-fea6-4674-a40d-912e366b5713",
        "colab": {
          "base_uri": "https://localhost:8080/",
          "height": 321
        }
      },
      "source": [
        "# Peform analysis of variance on fitted linear model\n",
        "listtt = ['CRIM', 'ZN', 'INDUS', 'CHAS', 'NOX', 'RM']\n",
        "dependent  = ''\n",
        "for i in range(df.shape[1]):\n",
        "  # if(df.columns[i] in listtt ):\n",
        "  #   continue\n",
        "  dependent += '+' + str(df.columns[i])\n",
        "\n",
        "dependent = dependent[1:] #removing first char\n",
        "\n",
        "# For statistics. Requires statsmodels 5.0 or more\n",
        "from statsmodels.formula.api import ols\n",
        "from statsmodels.stats.anova import AnovaRM \n",
        "final_data = X\n",
        "final_data[\"MEDV\"] = y\n",
        "# # Fit the model\n",
        "model = ols(\"MEDV ~ \"+str(dependent)+\"\",final_data).fit()\n",
        "anova_results= anova_lm(model)\n",
        "\n",
        "print('\\nANOVA results')\n",
        "print(anova_results)\n"
      ],
      "execution_count": 0,
      "outputs": [
        {
          "output_type": "stream",
          "text": [
            "\n",
            "ANOVA results\n",
            "             df        sum_sq       mean_sq           F        PR(>F)\n",
            "CRIM        1.0   6440.783059   6440.783059  286.030046  6.454140e-51\n",
            "ZN          1.0   3554.336197   3554.336197  157.845240  1.356741e-31\n",
            "INDUS       1.0   2551.236435   2551.236435  113.298378  5.953713e-24\n",
            "CHAS        1.0   1529.847881   1529.847881   67.939326  1.542886e-15\n",
            "NOX         1.0     76.247648     76.247648    3.386097  6.635054e-02\n",
            "RM          1.0  10938.116611  10938.116611  485.753048  2.156727e-75\n",
            "AGE         1.0     90.267911     90.267911    4.008726  4.581372e-02\n",
            "DIS         1.0   1779.501111   1779.501111   79.026227  1.163840e-17\n",
            "RAD         1.0     34.134323     34.134323    1.515878  2.188325e-01\n",
            "TAX         1.0    329.554069    329.554069   14.635234  1.472406e-04\n",
            "PTRATIO     1.0   1309.309339   1309.309339   58.145385  1.266278e-13\n",
            "B           1.0    593.337564    593.337564   26.349649  4.109280e-07\n",
            "LSTAT       1.0   2410.838689   2410.838689  107.063426  7.776912e-23\n",
            "Residual  492.0  11078.784578     22.517855         NaN           NaN\n"
          ],
          "name": "stdout"
        }
      ]
    },
    {
      "cell_type": "markdown",
      "metadata": {
        "id": "mvhubM6kP-Rs",
        "colab_type": "text"
      },
      "source": [
        "ANOVA is a tool to check how much the residual variance is reduced by predictors in (nested regression) models, whereas the regression analysis aims to quantify effect sizes in terms of \"how much is the response expected to change when the predictor(s) change by a given amount?\".\n",
        "ANOVA can be applied to any regression model (no matter if the model contains only continuous, only categorical, or both kinds of predictors). ANOVA allows to assess the impact of a predictor or a whole set of predictors on the residuals: who much of the variance in the data can be explained by these predictors? The regression analysis, on the other hand, is a complementary tool to asses the quantitative relation between a predictor and the response."
      ]
    },
    {
      "cell_type": "markdown",
      "metadata": {
        "id": "3TbrZ4__33St",
        "colab_type": "text"
      },
      "source": [
        "Analysis of variance (ANOVA):<br>\n",
        "It analyse the varaince and tells any of the variable is significant or not. \\\n",
        "\n",
        "sum_sq  = $SS_{parameter}$ = which shows variance covered by each variable. \\\n",
        "\n",
        "$SS_{Residual}$ = Unexplained Residual by the model \n",
        "\n",
        "Total $SS_{Total} = 42716.26$ \\\n",
        "Total $SS_{parameter} = 31637.4755$\n",
        "\n",
        "\n",
        "$R^2$ = 0.7406\n",
        "\n"
      ]
    },
    {
      "cell_type": "markdown",
      "metadata": {
        "id": "uvuWdvuSQ9Mr",
        "colab_type": "text"
      },
      "source": [
        "Multiple Regression:<br>\n",
        "\n",
        "let's take model $Y = \\alpha + \\beta_1 X_1 + \\beta_1 X_2 +\\beta_1 X_3 $<br>\n",
        "\n",
        "1. $\\alpha $ indicates change in value of Y obtained when All X's are zero.<br>\n",
        "2. each $\\beta$ parameter indicates the average change in Y that is asssociated with unit change in X while controlling the other explanatory variables.<br>\n",
        "Besically effetc of each X's obtianed by comparing $X_i$ with it's nested model.\n",
        "\n",
        "Ex: **Effect of $X_3$** can be obtained by Nested Models comparision,<br>\n",
        " $Y = \\alpha + \\beta_1 X_1 + \\beta_1 X_2 +\\beta_1 X_3 $<br>\n",
        " and \n",
        "<br>\n",
        " $Y = \\alpha + \\beta_1 X_1 + \\beta_1 X_2 $\n",
        " It shows unique effect of $X_3$ obtained by comparing RSS or (deviance) when effect of $X_1$ and $X_2$ are accounted in the model.\n",
        "\n",
        " The **combined effect** of all the three parameters are obtaiend by comparing FULL model and NULL model.\n",
        "\n",
        " $Y = \\alpha + \\beta_1 X_1 + \\beta_1 X_2 +\\beta_1 X_3 $<br>\n",
        " and \n",
        "<br>\n",
        " $Y = \\alpha$\n",
        "\n",
        " The significance of change can be assesed by calculations of F Stastics.\n",
        "\n",
        "\n",
        "\\\n",
        "\n",
        "\\\n",
        "\n",
        "\\\n",
        "\n",
        "\n",
        "F Statistics: <br>\n",
        "**(RSS - Statistics) or deviance**\n",
        "F stastics is simply based on the deviacnes between the two models as fraction of the eviacne of the full model, whilst taking account of the number of parameters.\n",
        "\n",
        "$F_{df_p,df_{p+q}} = \\frac{RSS_p - RSS_{p+q}}{(df_p - df_p+q)-(RSS_{p+q}/df_{p+q})}$\n",
        "\n",
        "where,\n",
        "\n",
        "p model is for $y=\\alpha$ <br>\n",
        "q model is for $y=\\alpha + \\beta X $ <br>\n",
        "\n",
        "\n",
        "For whole model:\n",
        "$SSE_{parameter}$ = 31637.4755\n",
        "Number of parameter = 13\n",
        "$MSE_{parameter}$ = 31637.4755/13 =2433.65196154\n",
        "$MSE_{Residual}$ = 11078.784/492 =22.517\n",
        "\n",
        "$F_{model} = 2433.65196/22 =110.62 $\n",
        "which same as the Result obtained from OLS.\n",
        "\n",
        "$H_0 : all \\space \\beta_{i}=0$ \\\n",
        "\n",
        "$H_1 : all \\space \\beta_{i} \\neq 0 $ \n",
        "\n",
        "F-Test: \\\n",
        "(constarined parameter, unconstrained parameter) = (13,492) \\\n",
        "Critical $F_{crit}$ value = 0.45 \\\n",
        "$F_{model} > F_{crit}$ \\\n",
        "so, reject the null hypothesis. \\\n",
        "\n",
        "Summary:\n",
        "F test basically checks the significance of overall model in multiregression model. For F-statistic of full model it compares the full model with no predictor model or Intercept only model. \n"
      ]
    },
    {
      "cell_type": "markdown",
      "metadata": {
        "id": "5s0OWAlN1cZA",
        "colab_type": "text"
      },
      "source": [
        "\n",
        "\n",
        "\n"
      ]
    },
    {
      "cell_type": "code",
      "metadata": {
        "id": "1m83Z-A6d_Qs",
        "colab_type": "code",
        "outputId": "7a2ff2d6-480d-42a4-91c4-391542640fa6",
        "colab": {
          "base_uri": "https://localhost:8080/",
          "height": 743
        }
      },
      "source": [
        "###Pairwise plot\n",
        "import seaborn as sns\n",
        "sns.pairplot(final_data.dropna(), vars = ['CRIM', 'ZN','INDUS', 'CHAS'])"
      ],
      "execution_count": 0,
      "outputs": [
        {
          "output_type": "execute_result",
          "data": {
            "text/plain": [
              "<seaborn.axisgrid.PairGrid at 0x7f782063ec88>"
            ]
          },
          "metadata": {
            "tags": []
          },
          "execution_count": 23
        },
        {
          "output_type": "display_data",
          "data": {
            "image/png": "[encoded data removed]",
            "text/plain": [
              "<Figure size 720x720 with 20 Axes>"
            ]
          },
          "metadata": {
            "tags": []
          }
        }
      ]
    },
    {
      "cell_type": "markdown",
      "metadata": {
        "id": "DHPjMXphe2XV",
        "colab_type": "text"
      },
      "source": [
        "#Explonatory Data Analysis \n",
        "It is to find out the pattern and realtionship or anolmalies to analysis. \\\n",
        "A pairwise plot allow us to distribution of single variable and relationship with other variable.  \\\n"
      ]
    },
    {
      "cell_type": "markdown",
      "metadata": {
        "id": "7YsmzENgUwr6",
        "colab_type": "text"
      },
      "source": [
        ""
      ]
    },
    {
      "cell_type": "markdown",
      "metadata": {
        "id": "Dxd_1bgLUw1F",
        "colab_type": "text"
      },
      "source": [
        "#VIF(Variation inflation factor) Analysis :\n",
        "REF:(https://etav.github.io/python/vif_factor_python.html)\n",
        "\n",
        "**If one variable is linear combination of combination of mroe than one variable**\n",
        "Then Covariance matrix won't work.\n",
        "\n",
        "The two variable contains similar information. It is said that they are highly colinear. Such Analysis can be easily done using covariance matrix.\n",
        "\n",
        "Multicolinearity refers to the situation when two or more explanatory variables are highly linearly corealted(WIKI).\n",
        "\n",
        "$VIF = \\frac{1}{1-R^2}$ \\\n",
        "\n",
        "The Variance Inflation Factor (VIF) is a measure of colinearity among predictor variables within a multiple regression. It is calculated by taking the the ratio of the variance of all a given model's betas divide by the variane of a single beta if it were fit alone. VIF is between 5-10, multicolinearity is likely present and you should consider dropping the variable.\n",
        "\n",
        "VIF = 1 Not correalated \\\n",
        "VIF < 5 Moderately correalated \\\n",
        "VIF > 5 Highly correlated \\\n",
        "\n",
        "\n"
      ]
    },
    {
      "cell_type": "code",
      "metadata": {
        "id": "gwArVO2wCFeZ",
        "colab_type": "code",
        "outputId": "7da010d3-edab-48ab-b221-f2ac69bf9070",
        "colab": {
          "base_uri": "https://localhost:8080/",
          "height": 457
        }
      },
      "source": [
        "from statsmodels.stats.outliers_influence import variance_inflation_factor\n",
        "# For each X, calculate VIF and save in dataframe\n",
        "vif = pd.DataFrame()\n",
        "vif[\"VIF Factor\"] = [variance_inflation_factor(df.values, i) for i in range(df.shape[1])]\n",
        "vif[\"features\"] = df.columns\n",
        "vif.round(1)"
      ],
      "execution_count": 0,
      "outputs": [
        {
          "output_type": "execute_result",
          "data": {
            "text/html": [
              "<div>\n",
              "<style scoped>\n",
              "    .dataframe tbody tr th:only-of-type {\n",
              "        vertical-align: middle;\n",
              "    }\n",
              "\n",
              "    .dataframe tbody tr th {\n",
              "        vertical-align: top;\n",
              "    }\n",
              "\n",
              "    .dataframe thead th {\n",
              "        text-align: right;\n",
              "    }\n",
              "</style>\n",
              "<table border=\"1\" class=\"dataframe\">\n",
              "  <thead>\n",
              "    <tr style=\"text-align: right;\">\n",
              "      <th></th>\n",
              "      <th>VIF Factor</th>\n",
              "      <th>features</th>\n",
              "    </tr>\n",
              "  </thead>\n",
              "  <tbody>\n",
              "    <tr>\n",
              "      <th>0</th>\n",
              "      <td>2.1</td>\n",
              "      <td>CRIM</td>\n",
              "    </tr>\n",
              "    <tr>\n",
              "      <th>1</th>\n",
              "      <td>2.8</td>\n",
              "      <td>ZN</td>\n",
              "    </tr>\n",
              "    <tr>\n",
              "      <th>2</th>\n",
              "      <td>14.5</td>\n",
              "      <td>INDUS</td>\n",
              "    </tr>\n",
              "    <tr>\n",
              "      <th>3</th>\n",
              "      <td>1.2</td>\n",
              "      <td>CHAS</td>\n",
              "    </tr>\n",
              "    <tr>\n",
              "      <th>4</th>\n",
              "      <td>73.9</td>\n",
              "      <td>NOX</td>\n",
              "    </tr>\n",
              "    <tr>\n",
              "      <th>5</th>\n",
              "      <td>77.9</td>\n",
              "      <td>RM</td>\n",
              "    </tr>\n",
              "    <tr>\n",
              "      <th>6</th>\n",
              "      <td>21.4</td>\n",
              "      <td>AGE</td>\n",
              "    </tr>\n",
              "    <tr>\n",
              "      <th>7</th>\n",
              "      <td>14.7</td>\n",
              "      <td>DIS</td>\n",
              "    </tr>\n",
              "    <tr>\n",
              "      <th>8</th>\n",
              "      <td>15.2</td>\n",
              "      <td>RAD</td>\n",
              "    </tr>\n",
              "    <tr>\n",
              "      <th>9</th>\n",
              "      <td>61.2</td>\n",
              "      <td>TAX</td>\n",
              "    </tr>\n",
              "    <tr>\n",
              "      <th>10</th>\n",
              "      <td>85.0</td>\n",
              "      <td>PTRATIO</td>\n",
              "    </tr>\n",
              "    <tr>\n",
              "      <th>11</th>\n",
              "      <td>20.1</td>\n",
              "      <td>B</td>\n",
              "    </tr>\n",
              "    <tr>\n",
              "      <th>12</th>\n",
              "      <td>11.1</td>\n",
              "      <td>LSTAT</td>\n",
              "    </tr>\n",
              "  </tbody>\n",
              "</table>\n",
              "</div>"
            ],
            "text/plain": [
              "    VIF Factor features\n",
              "0          2.1     CRIM\n",
              "1          2.8       ZN\n",
              "2         14.5    INDUS\n",
              "3          1.2     CHAS\n",
              "4         73.9      NOX\n",
              "5         77.9       RM\n",
              "6         21.4      AGE\n",
              "7         14.7      DIS\n",
              "8         15.2      RAD\n",
              "9         61.2      TAX\n",
              "10        85.0  PTRATIO\n",
              "11        20.1        B\n",
              "12        11.1    LSTAT"
            ]
          },
          "metadata": {
            "tags": []
          },
          "execution_count": 40
        }
      ]
    },
    {
      "cell_type": "code",
      "metadata": {
        "id": "Wh6p7NGRCHRb",
        "colab_type": "code",
        "colab": {}
      },
      "source": [
        ""
      ],
      "execution_count": 0,
      "outputs": []
    }
  ]
}